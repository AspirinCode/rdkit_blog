{
 "metadata": {
  "name": ""
 },
 "nbformat": 3,
 "nbformat_minor": 0,
 "worksheets": [
  {
   "cells": [
    {
     "cell_type": "markdown",
     "metadata": {},
     "source": [
      "# Comparing fingerprints to each other 1"
     ]
    },
    {
     "cell_type": "code",
     "collapsed": false,
     "input": [
      "from rdkit import Chem\n",
      "from rdkit.Chem import rdMolDescriptors\n",
      "from rdkit.Avalon import pyAvalonTools\n",
      "from rdkit.Chem import Draw\n",
      "from rdkit.Chem.Draw import IPythonConsole\n",
      "from rdkit import rdBase\n",
      "from rdkit import DataStructs\n",
      "from collections import defaultdict\n",
      "import cPickle,random,gzip\n",
      "import scipy as sp\n",
      "import pandas\n",
      "from scipy import stats\n",
      "print rdBase.rdkitVersion\n"
     ],
     "language": "python",
     "metadata": {},
     "outputs": [
      {
       "output_type": "stream",
       "stream": "stdout",
       "text": [
        "2013.09.1beta\n"
       ]
      }
     ],
     "prompt_number": 1
    },
    {
     "cell_type": "code",
     "collapsed": false,
     "input": [
      "ind = [x.split() for x in gzip.open('../data/chembl16_25K.pairs.txt.gz')]\n",
      "ms1 = []\n",
      "ms2 = []\n",
      "for i,row in enumerate(ind):\n",
      "    m1 = Chem.MolFromSmiles(row[1])\n",
      "    ms1.append((row[0],m1))\n",
      "    m2 = Chem.MolFromSmiles(row[3])\n",
      "    ms2.append((row[2],m2))\n",
      "    "
     ],
     "language": "python",
     "metadata": {},
     "outputs": [],
     "prompt_number": 2
    },
    {
     "cell_type": "code",
     "collapsed": false,
     "input": [
      "methods = [(lambda x:Chem.RDKFingerprint(x,maxPath=4),'RDKit4'),\n",
      "           (lambda x:Chem.RDKFingerprint(x,maxPath=5),'RDKit5'),\n",
      "           (lambda x:Chem.RDKFingerprint(x,maxPath=6),'RDKit6'),\n",
      "           (lambda x:Chem.RDKFingerprint(x,maxPath=7),'RDKit7'),\n",
      "           (lambda x:Chem.RDKFingerprint(x,maxPath=4,branchedPaths=False),'RDKit4-linear'),\n",
      "           (lambda x:Chem.RDKFingerprint(x,maxPath=5,branchedPaths=False),'RDKit5-linear'),\n",
      "           (lambda x:Chem.RDKFingerprint(x,maxPath=6,branchedPaths=False),'RDKit6-linear'),\n",
      "           (lambda x:Chem.RDKFingerprint(x,maxPath=7,branchedPaths=False),'RDKit7-linear'),\n",
      "           \n",
      "           (lambda x:rdMolDescriptors.GetMorganFingerprint(x,0),'MFP0'),\n",
      "           (lambda x:rdMolDescriptors.GetMorganFingerprint(x,1),'MFP1'),\n",
      "           (lambda x:rdMolDescriptors.GetMorganFingerprint(x,2),'MFP2'),\n",
      "           (lambda x:rdMolDescriptors.GetMorganFingerprint(x,3),'MFP3'),\n",
      "           (lambda x:rdMolDescriptors.GetMorganFingerprint(x,0,useFeatures=True),'FeatMFP0'),\n",
      "           (lambda x:rdMolDescriptors.GetMorganFingerprint(x,1,useFeatures=True),'FeatMFP1'),\n",
      "           (lambda x:rdMolDescriptors.GetMorganFingerprint(x,2,useFeatures=True),'FeatMFP2'),\n",
      "           (lambda x:rdMolDescriptors.GetMorganFingerprint(x,3,useFeatures=True),'FeatMFP3'),\n",
      "           (lambda x:rdMolDescriptors.GetHashedMorganFingerprint(x,0),'MFP0-bits'),\n",
      "           (lambda x:rdMolDescriptors.GetHashedMorganFingerprint(x,1),'MFP1-bits'),\n",
      "           (lambda x:rdMolDescriptors.GetHashedMorganFingerprint(x,2),'MFP2-bits'),\n",
      "           (lambda x:rdMolDescriptors.GetHashedMorganFingerprint(x,3),'MFP3-bits'),\n",
      "           \n",
      "           (lambda x:rdMolDescriptors.GetAtomPairFingerprint(x),'AP'),\n",
      "           (lambda x:rdMolDescriptors.GetTopologicalTorsionFingerprint(x),'TT'),\n",
      "           (lambda x:rdMolDescriptors.GetHashedAtomPairFingerprintAsBitVect(x),'AP-bits'),\n",
      "           (lambda x:rdMolDescriptors.GetHashedTopologicalTorsionFingerprintAsBitVect(x),'TT-bits'),\n",
      "            \n",
      "           (lambda x:rdMolDescriptors.GetMACCSKeysFingerprint(x),'MACCS'),\n",
      "           (lambda x:pyAvalonTools.GetAvalonFP(x,512),'Avalon-512'),\n",
      "           (lambda x:pyAvalonTools.GetAvalonFP(x,1024),'Avalon-1024'),\n",
      "           \n",
      "           ]"
     ],
     "language": "python",
     "metadata": {},
     "outputs": [],
     "prompt_number": 2
    },
    {
     "cell_type": "code",
     "collapsed": false,
     "input": [
      "scoredLists={}"
     ],
     "language": "python",
     "metadata": {},
     "outputs": [],
     "prompt_number": 30
    },
    {
     "cell_type": "code",
     "collapsed": false,
     "input": [
      "for method,nm in methods:\n",
      "    if not scoredLists.has_key(nm):\n",
      "        print 'Doing: ',nm\n",
      "        rl=[]\n",
      "        for i,(m1,m2) in enumerate(zip(ms1,ms2)):\n",
      "            fp1 = method(m1[-1])\n",
      "            fp2 = method(m2[-1])\n",
      "            sim = DataStructs.TanimotoSimilarity(fp1,fp2)\n",
      "            rl.append((sim,i))\n",
      "        scoredLists[nm]=rl"
     ],
     "language": "python",
     "metadata": {},
     "outputs": [
      {
       "output_type": "stream",
       "stream": "stdout",
       "text": [
        "Doing:  AP-bits\n",
        "Doing: "
       ]
      },
      {
       "output_type": "stream",
       "stream": "stdout",
       "text": [
        " TT-bits\n",
        "Doing: "
       ]
      },
      {
       "output_type": "stream",
       "stream": "stdout",
       "text": [
        " MACCS\n",
        "Doing: "
       ]
      },
      {
       "output_type": "stream",
       "stream": "stdout",
       "text": [
        " Avalon-512\n",
        "Doing: "
       ]
      },
      {
       "output_type": "stream",
       "stream": "stdout",
       "text": [
        " Avalon-1024\n"
       ]
      }
     ],
     "prompt_number": 35
    },
    {
     "cell_type": "code",
     "collapsed": false,
     "input": [
      "cPickle.dump(scoredLists,gzip.open('../data/chembl16_25K.pairs.sims.pkl.gz','wb+'))"
     ],
     "language": "python",
     "metadata": {},
     "outputs": [],
     "prompt_number": 36
    },
    {
     "cell_type": "markdown",
     "metadata": {},
     "source": [
      "Load the lists"
     ]
    },
    {
     "cell_type": "code",
     "collapsed": false,
     "input": [
      "scoredLists = cPickle.load(gzip.open('../data/chembl16_25K.pairs.sims.pkl.gz','rb'))"
     ],
     "language": "python",
     "metadata": {},
     "outputs": [],
     "prompt_number": 3
    },
    {
     "cell_type": "code",
     "collapsed": false,
     "input": [
      "def directCompare(scoredLists,fp1,fp2,plotIt=True):\n",
      "    l1 = scoredLists[fp1]\n",
      "    l2 = scoredLists[fp2]\n",
      "    if plotIt:\n",
      "        _=scatter([x[0] for x in l1],[x[0] for x in l2],edgecolors='none')\n",
      "        xlabel(fp1)\n",
      "        ylabel(fp2)\n",
      "    rl1=[x[-1] for x in l1]\n",
      "    rl2=[x[-1] for x in l2]\n",
      "    vl1=[x[0] for x in l1]\n",
      "    vl2=[x[0] for x in l2]\n",
      "    \n",
      "    tau,tau_p=stats.kendalltau(vl1,vl2)\n",
      "    spearman_rho,spearman_p=stats.spearmanr(vl1,vl2)\n",
      "    pearson_r,pearson_p = stats.pearsonr(vl1,vl2)\n",
      "    print fp1,fp2,tau,tau_p,spearman_rho,spearman_p,pearson_r,pearson_p\n",
      "    return tau,spearman_rho,pearson_r"
     ],
     "language": "python",
     "metadata": {},
     "outputs": [],
     "prompt_number": 81
    },
    {
     "cell_type": "code",
     "collapsed": false,
     "input": [
      "_=directCompare(scoredLists,'MFP0','MFP0-bits')\n"
     ],
     "language": "python",
     "metadata": {},
     "outputs": [
      {
       "output_type": "stream",
       "stream": "stdout",
       "text": [
        "MFP0 MFP0-bits 0.948023508497 0.0 0.958016189378 0.0 0.968091057994 0.0\n"
       ]
      },
      {
       "metadata": {},
       "output_type": "display_data",
       "png": "[encoded data removed]",
       "text": [
        "<matplotlib.figure.Figure at 0x5a863650>"
       ]
      }
     ],
     "prompt_number": 75
    },
    {
     "cell_type": "code",
     "collapsed": false,
     "input": [
      "_=directCompare(scoredLists,'MFP1','MFP2')\n"
     ],
     "language": "python",
     "metadata": {},
     "outputs": [
      {
       "output_type": "stream",
       "stream": "stdout",
       "text": [
        "MFP1 MFP2 0.837913477353 0.0 0.961737756836 0.0 0.961445138489 0.0\n"
       ]
      },
      {
       "metadata": {},
       "output_type": "display_data",
       "png": "[encoded data removed]",
       "text": [
        "<matplotlib.figure.Figure at 0x5a8937d0>"
       ]
      }
     ],
     "prompt_number": 76
    },
    {
     "cell_type": "code",
     "collapsed": false,
     "input": [
      "_=directCompare(scoredLists,'RDKit4','RDKit6')\n"
     ],
     "language": "python",
     "metadata": {},
     "outputs": [
      {
       "output_type": "stream",
       "stream": "stdout",
       "text": [
        "RDKit4 RDKit6 0.671796319619 0.0 0.84783440863 0.0 0.927591672276 0.0\n"
       ]
      },
      {
       "metadata": {},
       "output_type": "display_data",
       "png": "[encoded data removed]",
       "text": [
        "<matplotlib.figure.Figure at 0x5c73fd50>"
       ]
      }
     ],
     "prompt_number": 77
    },
    {
     "cell_type": "code",
     "collapsed": false,
     "input": [
      "_=directCompare(scoredLists,'Avalon-512','Avalon-1024')\n"
     ],
     "language": "python",
     "metadata": {},
     "outputs": [
      {
       "output_type": "stream",
       "stream": "stdout",
       "text": [
        "Avalon-512 Avalon-1024 0.800495404555 0.0 0.943158479554 0.0 0.963416571541 0.0\n"
       ]
      },
      {
       "metadata": {},
       "output_type": "display_data",
       "png": "[encoded data removed]",
       "text": [
        "<matplotlib.figure.Figure at 0x5add20d0>"
       ]
      }
     ],
     "prompt_number": 78
    },
    {
     "cell_type": "code",
     "collapsed": false,
     "input": [
      "_=directCompare(scoredLists,'MACCS','AP')\n"
     ],
     "language": "python",
     "metadata": {},
     "outputs": [
      {
       "output_type": "stream",
       "stream": "stdout",
       "text": [
        "MACCS AP 0.199676422969 0.0 0.292906236345 0.0 0.432566404675 0.0\n"
       ]
      },
      {
       "metadata": {},
       "output_type": "display_data",
       "png": "[encoded data removed]",
       "text": [
        "<matplotlib.figure.Figure at 0x5a89b3d0>"
       ]
      }
     ],
     "prompt_number": 79
    },
    {
     "cell_type": "code",
     "collapsed": false,
     "input": [
      "ks = sorted(scoredLists.keys())\n",
      "kappas={}\n",
      "spearmans={}\n",
      "pearsons={}\n",
      "for i,ki in enumerate(ks):\n",
      "    for j in range(i+1,len(ks)):\n",
      "        kappa,spearman,pearson=directCompare(scoredLists,ki,ks[j],plotIt=False)\n",
      "        kappas[(ki,ks[j])]=kappa\n",
      "        spearmans[(ki,ks[j])]=spearman\n",
      "        pearsons[(ki,ks[j])]=pearson\n",
      "       "
     ],
     "language": "python",
     "metadata": {},
     "outputs": [
      {
       "output_type": "stream",
       "stream": "stdout",
       "text": [
        "AP AP-bits 0.68337571059 0.0 0.861680297831 0.0 0.927681416503 0.0\n",
        "AP"
       ]
      },
      {
       "output_type": "stream",
       "stream": "stdout",
       "text": [
        " Avalon-1024 0.248343633176 0.0 0.359861345231 0.0 0.598614142975 0.0\n",
        "AP"
       ]
      },
      {
       "output_type": "stream",
       "stream": "stdout",
       "text": [
        " Avalon-512 0.205717826518 0.0 0.300873165977 0.0 0.521741895681 0.0\n",
        "AP"
       ]
      },
      {
       "output_type": "stream",
       "stream": "stdout",
       "text": [
        " FeatMFP0 0.160793673324 0.0 0.236185505351 0.0 0.308108610153 0.0\n",
        "AP"
       ]
      },
      {
       "output_type": "stream",
       "stream": "stdout",
       "text": [
        " FeatMFP1 0.326739510962 0.0 0.465055253681 0.0 0.587935433773 0.0\n",
        "AP"
       ]
      },
      {
       "output_type": "stream",
       "stream": "stdout",
       "text": [
        " FeatMFP2 0.360261884689 0.0 0.5080260655 0.0 0.695195992501 0.0\n",
        "AP"
       ]
      },
      {
       "output_type": "stream",
       "stream": "stdout",
       "text": [
        " FeatMFP3 0.345656443375 0.0 0.488906610427 0.0 0.719738924116 0.0\n",
        "AP"
       ]
      },
      {
       "output_type": "stream",
       "stream": "stdout",
       "text": [
        " MACCS 0.199676422969 0.0 0.292906236345 0.0 0.432566404675 0.0\n",
        "AP"
       ]
      },
      {
       "output_type": "stream",
       "stream": "stdout",
       "text": [
        " MFP0 0.198253213151 0.0 0.285467047029 0.0 0.545445682889 0.0\n",
        "AP"
       ]
      },
      {
       "output_type": "stream",
       "stream": "stdout",
       "text": [
        " MFP0-bits 0.195790017396 0.0 0.282163905039 0.0 0.532711995722 0.0\n",
        "AP"
       ]
      },
      {
       "output_type": "stream",
       "stream": "stdout",
       "text": [
        " MFP1 0.416702125829 0.0 0.579992123313 0.0 0.746306636153 0.0\n",
        "AP"
       ]
      },
      {
       "output_type": "stream",
       "stream": "stdout",
       "text": [
        " MFP1-bits 0.416312247297 0.0 0.579417453565 0.0 0.744533706213 0.0\n",
        "AP"
       ]
      },
      {
       "output_type": "stream",
       "stream": "stdout",
       "text": [
        " MFP2 0.397510674554 0.0 0.556727463841 0.0 0.76133681081 0.0\n",
        "AP"
       ]
      },
      {
       "output_type": "stream",
       "stream": "stdout",
       "text": [
        " MFP2-bits 0.396700821127 0.0 0.555616120483 0.0 0.759690487324 0.0\n",
        "AP"
       ]
      },
      {
       "output_type": "stream",
       "stream": "stdout",
       "text": [
        " MFP3 0.371408787294 0.0 0.523917172541 0.0 0.753598468842 0.0\n",
        "AP"
       ]
      },
      {
       "output_type": "stream",
       "stream": "stdout",
       "text": [
        " MFP3-bits 0.371668924078 0.0 0.524034600461 0.0 0.752549441531 0.0\n",
        "AP"
       ]
      },
      {
       "output_type": "stream",
       "stream": "stdout",
       "text": [
        " RDKit4 0.298834479508 0.0 0.428025116405 0.0 0.623218054281 0.0\n",
        "AP"
       ]
      },
      {
       "output_type": "stream",
       "stream": "stdout",
       "text": [
        " RDKit4-linear 0.284341819418 0.0 0.408874364793 0.0 0.598704910882 0.0\n",
        "AP"
       ]
      },
      {
       "output_type": "stream",
       "stream": "stdout",
       "text": [
        " RDKit5 0.307505694617 0.0 0.43877580874 0.0 0.656136503861 0.0\n",
        "AP"
       ]
      },
      {
       "output_type": "stream",
       "stream": "stdout",
       "text": [
        " RDKit5-linear 0.298369631431 0.0 0.427379039703 0.0 0.633849470691 0.0\n",
        "AP"
       ]
      },
      {
       "output_type": "stream",
       "stream": "stdout",
       "text": [
        " RDKit6 0.29886442505 0.0 0.426154958904 0.0 0.662828647809 0.0\n",
        "AP"
       ]
      },
      {
       "output_type": "stream",
       "stream": "stdout",
       "text": [
        " RDKit6-linear 0.307615856344 0.0 0.439240005056 0.0 0.65600294833 0.0\n",
        "AP"
       ]
      },
      {
       "output_type": "stream",
       "stream": "stdout",
       "text": [
        " RDKit7 0.244381970159 0.0 0.352347373219 0.0 0.589044281389 0.0\n",
        "AP"
       ]
      },
      {
       "output_type": "stream",
       "stream": "stdout",
       "text": [
        " RDKit7-linear 0.314695741665 0.0 0.448089116962 0.0 0.671855273565 0.0\n",
        "AP"
       ]
      },
      {
       "output_type": "stream",
       "stream": "stdout",
       "text": [
        " TT 0.484103535492 0.0 0.66219184428 0.0 0.788128813598 0.0\n",
        "AP"
       ]
      },
      {
       "output_type": "stream",
       "stream": "stdout",
       "text": [
        " TT-bits 0.474149184507 0.0 0.650504238985 0.0 0.782760265614 0.0\n",
        "AP-bits"
       ]
      },
      {
       "output_type": "stream",
       "stream": "stdout",
       "text": [
        " Avalon-1024 0.296486452748 0.0 0.424911517635 0.0 0.619979355275 0.0\n",
        "AP-bits"
       ]
      },
      {
       "output_type": "stream",
       "stream": "stdout",
       "text": [
        " Avalon-512 0.279426492087 0.0 0.402171140656 0.0 0.573757983122 0.0\n",
        "AP-bits"
       ]
      },
      {
       "output_type": "stream",
       "stream": "stdout",
       "text": [
        " FeatMFP0 0.196474589369 0.0 0.286653094512 0.0 0.346443627614 0.0\n",
        "AP-bits"
       ]
      },
      {
       "output_type": "stream",
       "stream": "stdout",
       "text": [
        " FeatMFP1 0.325772101571 0.0 0.46286126376 0.0 0.584427245909 0.0\n",
        "AP-bits"
       ]
      },
      {
       "output_type": "stream",
       "stream": "stdout",
       "text": [
        " FeatMFP2 0.34455037272 0.0 0.487040226856 0.0 0.670688353456 0.0\n",
        "AP-bits"
       ]
      },
      {
       "output_type": "stream",
       "stream": "stdout",
       "text": [
        " FeatMFP3 0.328219206722 0.0 0.465351971862 0.0 0.687847225499 0.0\n",
        "AP-bits"
       ]
      },
      {
       "output_type": "stream",
       "stream": "stdout",
       "text": [
        " MACCS 0.289304543989 0.0 0.416531694914 0.0 0.516572492357 0.0\n",
        "AP-bits"
       ]
      },
      {
       "output_type": "stream",
       "stream": "stdout",
       "text": [
        " MFP0 0.168624614288 0.0 0.243521675334 0.0 0.501223909434 0.0\n",
        "AP-bits"
       ]
      },
      {
       "output_type": "stream",
       "stream": "stdout",
       "text": [
        " MFP0-bits 0.169977162617 0.0 0.245602713205 0.0 0.491810283755 0.0\n",
        "AP-bits"
       ]
      },
      {
       "output_type": "stream",
       "stream": "stdout",
       "text": [
        " MFP1 0.356977344526 0.0 0.50314017463 0.0 0.690209160636 0.0\n",
        "AP-bits"
       ]
      },
      {
       "output_type": "stream",
       "stream": "stdout",
       "text": [
        " MFP1-bits 0.357911450925 0.0 0.50426345619 0.0 0.689464754937 0.0\n",
        "AP-bits"
       ]
      },
      {
       "output_type": "stream",
       "stream": "stdout",
       "text": [
        " MFP2 0.342373066755 0.0 0.484575133511 0.0 0.706626368523 0.0\n",
        "AP-bits"
       ]
      },
      {
       "output_type": "stream",
       "stream": "stdout",
       "text": [
        " MFP2-bits 0.346462694097 0.0 0.489738325104 0.0 0.708131698591 0.0\n",
        "AP-bits"
       ]
      },
      {
       "output_type": "stream",
       "stream": "stdout",
       "text": [
        " MFP3 0.319905424102 0.0 0.455317541838 0.0 0.700676383557 0.0\n",
        "AP-bits"
       ]
      },
      {
       "output_type": "stream",
       "stream": "stdout",
       "text": [
        " MFP3-bits 0.330334876171 0.0 0.468780836712 0.0 0.705047374995 0.0\n",
        "AP-bits"
       ]
      },
      {
       "output_type": "stream",
       "stream": "stdout",
       "text": [
        " RDKit4 0.333243339596 0.0 0.473395513317 0.0 0.635083616891 0.0\n",
        "AP-bits"
       ]
      },
      {
       "output_type": "stream",
       "stream": "stdout",
       "text": [
        " RDKit4-linear 0.315568568515 0.0 0.450481365389 0.0 0.609808558536 0.0\n",
        "AP-bits"
       ]
      },
      {
       "output_type": "stream",
       "stream": "stdout",
       "text": [
        " RDKit5 0.357866575246 0.0 0.504252145018 0.0 0.670348032674 0.0\n",
        "AP-bits"
       ]
      },
      {
       "output_type": "stream",
       "stream": "stdout",
       "text": [
        " RDKit5-linear 0.32914281503 0.0 0.467967921898 0.0 0.638783155076 0.0\n",
        "AP-bits"
       ]
      },
      {
       "output_type": "stream",
       "stream": "stdout",
       "text": [
        " RDKit6 0.385627914163 0.0 0.538806852617 0.0 0.695735700141 0.0\n",
        "AP-bits"
       ]
      },
      {
       "output_type": "stream",
       "stream": "stdout",
       "text": [
        " RDKit6-linear 0.342638367438 0.0 0.484999803602 0.0 0.659405819736 0.0\n",
        "AP-bits"
       ]
      },
      {
       "output_type": "stream",
       "stream": "stdout",
       "text": [
        " RDKit7 0.360908351257 0.0 0.508134065489 0.0 0.663490650341 0.0\n",
        "AP-bits"
       ]
      },
      {
       "output_type": "stream",
       "stream": "stdout",
       "text": [
        " RDKit7-linear 0.363020383457 0.0 0.510664503132 0.0 0.678809592993 0.0\n",
        "AP-bits"
       ]
      },
      {
       "output_type": "stream",
       "stream": "stdout",
       "text": [
        " TT 0.412605139093 0.0 0.575050276109 0.0 0.729047585187 0.0\n",
        "AP-bits"
       ]
      },
      {
       "output_type": "stream",
       "stream": "stdout",
       "text": [
        " TT-bits 0.424594727364 0.0 0.59007645898 0.0 0.740920854229 0.0\n",
        "Avalon-1024"
       ]
      },
      {
       "output_type": "stream",
       "stream": "stdout",
       "text": [
        " Avalon-512 0.800495404555 0.0 0.943158479554 0.0 0.963416571541 0.0\n",
        "Avalon-1024"
       ]
      },
      {
       "output_type": "stream",
       "stream": "stdout",
       "text": [
        " FeatMFP0 0.200139176287 0.0 0.293924877683 0.0 0.341025511638 0.0\n",
        "Avalon-1024"
       ]
      },
      {
       "output_type": "stream",
       "stream": "stdout",
       "text": [
        " FeatMFP1 0.2909050619 0.0 0.419920279631 0.0 0.563114020221 0.0\n",
        "Avalon-1024"
       ]
      },
      {
       "output_type": "stream",
       "stream": "stdout",
       "text": [
        " FeatMFP2 0.296366192147 0.0 0.42538533928 0.0 0.652702383453 0.0\n",
        "Avalon-1024"
       ]
      },
      {
       "output_type": "stream",
       "stream": "stdout",
       "text": [
        " FeatMFP3 0.291090978265 0.0 0.41774962178 0.0 0.679490795811 0.0\n",
        "Avalon-1024"
       ]
      },
      {
       "output_type": "stream",
       "stream": "stdout",
       "text": [
        " MACCS 0.47284020432 0.0 0.650189143939 0.0 0.697007282722 0.0\n",
        "Avalon-1024"
       ]
      },
      {
       "output_type": "stream",
       "stream": "stdout",
       "text": [
        " MFP0 0.138965598287 3.4392059019e-238 0.201992532502 1.88101951938e-228 0.413955723333 0.0\n",
        "Avalon-1024"
       ]
      },
      {
       "output_type": "stream",
       "stream": "stdout",
       "text": [
        " MFP0-bits 0.138272334824 7.68984270701e-236 0.201162703243 1.47609640658e-226 0.408671372741 0.0\n",
        "Avalon-1024"
       ]
      },
      {
       "output_type": "stream",
       "stream": "stdout",
       "text": [
        " MFP1 0.260658659028 0.0 0.377124842503 0.0 0.615249745199 0.0\n",
        "Avalon-1024"
       ]
      },
      {
       "output_type": "stream",
       "stream": "stdout",
       "text": [
        " MFP1-bits 0.258996053615 0.0 0.37475915372 0.0 0.612824742998 0.0\n",
        "Avalon-1024"
       ]
      },
      {
       "output_type": "stream",
       "stream": "stdout",
       "text": [
        " MFP2 0.256551924213 0.0 0.3713324598 0.0 0.657664532173 0.0\n",
        "Avalon-1024"
       ]
      },
      {
       "output_type": "stream",
       "stream": "stdout",
       "text": [
        " MFP2-bits 0.257269031017 0.0 0.372184527807 0.0 0.656422579293 0.0\n",
        "Avalon-1024"
       ]
      },
      {
       "output_type": "stream",
       "stream": "stdout",
       "text": [
        " MFP3 0.250596907135 0.0 0.363218985483 0.0 0.662526081504 0.0\n",
        "Avalon-1024"
       ]
      },
      {
       "output_type": "stream",
       "stream": "stdout",
       "text": [
        " MFP3-bits 0.254810903464 0.0 0.368698901448 0.0 0.662190453438 0.0\n",
        "Avalon-1024"
       ]
      },
      {
       "output_type": "stream",
       "stream": "stdout",
       "text": [
        " RDKit4 0.431914291002 0.0 0.599430410094 0.0 0.781066236927 0.0\n",
        "Avalon-1024"
       ]
      },
      {
       "output_type": "stream",
       "stream": "stdout",
       "text": [
        " RDKit4-linear 0.410035099717 0.0 0.573409522505 0.0 0.748585204525 0.0\n",
        "Avalon-1024"
       ]
      },
      {
       "output_type": "stream",
       "stream": "stdout",
       "text": [
        " RDKit5 0.468243774632 0.0 0.641054428038 0.0 0.824478712179 0.0\n",
        "Avalon-1024"
       ]
      },
      {
       "output_type": "stream",
       "stream": "stdout",
       "text": [
        " RDKit5-linear 0.419814830285 0.0 0.584372644781 0.0 0.776105174995 0.0\n",
        "Avalon-1024"
       ]
      },
      {
       "output_type": "stream",
       "stream": "stdout",
       "text": [
        " RDKit6 0.516087099756 0.0 0.693853135218 0.0 0.849850795258 0.0\n",
        "Avalon-1024"
       ]
      },
      {
       "output_type": "stream",
       "stream": "stdout",
       "text": [
        " RDKit6-linear 0.432524346686 0.0 0.59898016557 0.0 0.794407939115 0.0\n",
        "Avalon-1024"
       ]
      },
      {
       "output_type": "stream",
       "stream": "stdout",
       "text": [
        " RDKit7 0.466308319857 0.0 0.636670261796 0.0 0.798109553155 0.0\n",
        "Avalon-1024"
       ]
      },
      {
       "output_type": "stream",
       "stream": "stdout",
       "text": [
        " RDKit7-linear 0.454948437242 0.0 0.625273616363 0.0 0.807850932538 0.0\n",
        "Avalon-1024"
       ]
      },
      {
       "output_type": "stream",
       "stream": "stdout",
       "text": [
        " TT 0.29303793448 0.0 0.419754296272 0.0 0.682819347789 0.0\n",
        "Avalon-1024"
       ]
      },
      {
       "output_type": "stream",
       "stream": "stdout",
       "text": [
        " TT-bits 0.308114184901 0.0 0.439305044937 0.0 0.693335892793 0.0\n",
        "Avalon-512"
       ]
      },
      {
       "output_type": "stream",
       "stream": "stdout",
       "text": [
        " FeatMFP0 0.158200826457 4.68788447939e-308 0.233491213437 1.05616312656e-306 0.288578035282 0.0\n",
        "Avalon-512"
       ]
      },
      {
       "output_type": "stream",
       "stream": "stdout",
       "text": [
        " FeatMFP1 0.211516424435 0.0 0.309961855572 0.0 0.460725766166 0.0\n",
        "Avalon-512"
       ]
      },
      {
       "output_type": "stream",
       "stream": "stdout",
       "text": [
        " FeatMFP2 0.211057485091 0.0 0.308665775293 0.0 0.53984000086 0.0\n",
        "Avalon-512"
       ]
      },
      {
       "output_type": "stream",
       "stream": "stdout",
       "text": [
        " FeatMFP3 0.203162897689 0.0 0.297431586181 0.0 0.566531006619 0.0\n",
        "Avalon-512"
       ]
      },
      {
       "output_type": "stream",
       "stream": "stdout",
       "text": [
        " MACCS 0.452830502584 0.0 0.627259969348 0.0 0.684167575354 0.0\n",
        "Avalon-512"
       ]
      },
      {
       "output_type": "stream",
       "stream": "stdout",
       "text": [
        " MFP0 0.108222849842 2.83858866369e-145 0.157973803096 2.08410752799e-139 0.35226982604 0.0\n",
        "Avalon-512"
       ]
      },
      {
       "output_type": "stream",
       "stream": "stdout",
       "text": [
        " MFP0-bits 0.107373178486 4.94003906658e-143 0.156862571887 1.85925071597e-137 0.346634984681 0.0\n",
        "Avalon-512"
       ]
      },
      {
       "output_type": "stream",
       "stream": "stdout",
       "text": [
        " MFP1 0.177708903929 0.0 0.262211761859 0.0 0.501791306378 0.0\n",
        "Avalon-512"
       ]
      },
      {
       "output_type": "stream",
       "stream": "stdout",
       "text": [
        " MFP1-bits 0.177382743874 0.0 0.261689459098 0.0 0.500306382339 0.0\n",
        "Avalon-512"
       ]
      },
      {
       "output_type": "stream",
       "stream": "stdout",
       "text": [
        " MFP2 0.179450418044 0.0 0.264795310179 0.0 0.549809028974 0.0\n",
        "Avalon-512"
       ]
      },
      {
       "output_type": "stream",
       "stream": "stdout",
       "text": [
        " MFP2-bits 0.183550814745 0.0 0.270375769565 0.0 0.550964624754 0.0\n",
        "Avalon-512"
       ]
      },
      {
       "output_type": "stream",
       "stream": "stdout",
       "text": [
        " MFP3 0.170536973682 0.0 0.252314643498 0.0 0.556684007482 0.0\n",
        "Avalon-512"
       ]
      },
      {
       "output_type": "stream",
       "stream": "stdout",
       "text": [
        " MFP3-bits 0.18129617553 0.0 0.267012845247 0.0 0.560062864727 0.0\n",
        "Avalon-512"
       ]
      },
      {
       "output_type": "stream",
       "stream": "stdout",
       "text": [
        " RDKit4 0.332962088773 0.0 0.472918773286 0.0 0.678541687849 0.0\n",
        "Avalon-512"
       ]
      },
      {
       "output_type": "stream",
       "stream": "stdout",
       "text": [
        " RDKit4-linear 0.311991765887 0.0 0.445923808197 0.0 0.644166631744 0.0\n",
        "Avalon-512"
       ]
      },
      {
       "output_type": "stream",
       "stream": "stdout",
       "text": [
        " RDKit5 0.380205976417 0.0 0.533304581564 0.0 0.733522589942 0.0\n",
        "Avalon-512"
       ]
      },
      {
       "output_type": "stream",
       "stream": "stdout",
       "text": [
        " RDKit5-linear 0.32188308582 0.0 0.458369525984 0.0 0.672997270329 0.0\n",
        "Avalon-512"
       ]
      },
      {
       "output_type": "stream",
       "stream": "stdout",
       "text": [
        " RDKit6 0.486436439017 0.0 0.662781705344 0.0 0.795461941362 0.0\n",
        "Avalon-512"
       ]
      },
      {
       "output_type": "stream",
       "stream": "stdout",
       "text": [
        " RDKit6-linear 0.339130498439 0.0 0.480650093412 0.0 0.69606945367 0.0\n",
        "Avalon-512"
       ]
      },
      {
       "output_type": "stream",
       "stream": "stdout",
       "text": [
        " RDKit7 0.540887893718 0.0 0.72309314229 0.0 0.820762845034 0.0\n",
        "Avalon-512"
       ]
      },
      {
       "output_type": "stream",
       "stream": "stdout",
       "text": [
        " RDKit7-linear 0.376085775587 0.0 0.52838937903 0.0 0.720012176821 0.0\n",
        "Avalon-512"
       ]
      },
      {
       "output_type": "stream",
       "stream": "stdout",
       "text": [
        " TT 0.224402556762 0.0 0.326307442888 0.0 0.587543548444 0.0\n",
        "Avalon-512"
       ]
      },
      {
       "output_type": "stream",
       "stream": "stdout",
       "text": [
        " TT-bits 0.244900054197 0.0 0.354056611693 0.0 0.603804367319 0.0\n",
        "FeatMFP0"
       ]
      },
      {
       "output_type": "stream",
       "stream": "stdout",
       "text": [
        " FeatMFP1 0.55312026574 0.0 0.736900576157 0.0 0.770246658406 0.0\n",
        "FeatMFP0"
       ]
      },
      {
       "output_type": "stream",
       "stream": "stdout",
       "text": [
        " FeatMFP2 0.442598714545 0.0 0.614022744252 0.0 0.622096373447 0.0\n",
        "FeatMFP0"
       ]
      },
      {
       "output_type": "stream",
       "stream": "stdout",
       "text": [
        " FeatMFP3 0.41682289421 0.0 0.582518541552 0.0 0.553567604949 0.0\n",
        "FeatMFP0"
       ]
      },
      {
       "output_type": "stream",
       "stream": "stdout",
       "text": [
        " MACCS 0.179834150699 0.0 0.263150726157 0.0 0.307673849989 0.0\n",
        "FeatMFP0"
       ]
      },
      {
       "output_type": "stream",
       "stream": "stdout",
       "text": [
        " MFP0 0.195431704443 0.0 0.25902331237 0.0 0.319038826145 0.0\n",
        "FeatMFP0"
       ]
      },
      {
       "output_type": "stream",
       "stream": "stdout",
       "text": [
        " MFP0-bits 0.192776775446 0.0 0.256103537136 0.0 0.313044496792 0.0\n",
        "FeatMFP0"
       ]
      },
      {
       "output_type": "stream",
       "stream": "stdout",
       "text": [
        " MFP1 0.211263944065 0.0 0.307565044568 0.0 0.369023311774 0.0\n",
        "FeatMFP0"
       ]
      },
      {
       "output_type": "stream",
       "stream": "stdout",
       "text": [
        " MFP1-bits 0.209655698735 0.0 0.305190065726 0.0 0.366343523019 0.0\n",
        "FeatMFP0"
       ]
      },
      {
       "output_type": "stream",
       "stream": "stdout",
       "text": [
        " MFP2 0.197132585133 0.0 0.287987128947 0.0 0.339617380617 0.0\n",
        "FeatMFP0"
       ]
      },
      {
       "output_type": "stream",
       "stream": "stdout",
       "text": [
        " MFP2-bits 0.194436131314 0.0 0.284151389778 0.0 0.337524270003 0.0\n",
        "FeatMFP0"
       ]
      },
      {
       "output_type": "stream",
       "stream": "stdout",
       "text": [
        " MFP3 0.198249719765 0.0 0.289859337717 0.0 0.328018777375 0.0\n",
        "FeatMFP0"
       ]
      },
      {
       "output_type": "stream",
       "stream": "stdout",
       "text": [
        " MFP3-bits 0.195429795656 0.0 0.285760169601 0.0 0.326809248707 0.0\n",
        "FeatMFP0"
       ]
      },
      {
       "output_type": "stream",
       "stream": "stdout",
       "text": [
        " RDKit4 0.268540026104 0.0 0.386478479877 0.0 0.422360051155 0.0\n",
        "FeatMFP0"
       ]
      },
      {
       "output_type": "stream",
       "stream": "stdout",
       "text": [
        " RDKit4-linear 0.266078975571 0.0 0.383021199677 0.0 0.423120234892 0.0\n",
        "FeatMFP0"
       ]
      },
      {
       "output_type": "stream",
       "stream": "stdout",
       "text": [
        " RDKit5 0.263003839047 0.0 0.379272175432 0.0 0.40501343435 0.0\n",
        "FeatMFP0"
       ]
      },
      {
       "output_type": "stream",
       "stream": "stdout",
       "text": [
        " RDKit5-linear 0.265388256685 0.0 0.382204988415 0.0 0.413184382524 0.0\n",
        "FeatMFP0"
       ]
      },
      {
       "output_type": "stream",
       "stream": "stdout",
       "text": [
        " RDKit6 0.229755201265 0.0 0.333633180669 0.0 0.372810994103 0.0\n",
        "FeatMFP0"
       ]
      },
      {
       "output_type": "stream",
       "stream": "stdout",
       "text": [
        " RDKit6-linear 0.263876911269 0.0 0.3803005175 0.0 0.405192878551 0.0\n",
        "FeatMFP0"
       ]
      },
      {
       "output_type": "stream",
       "stream": "stdout",
       "text": [
        " RDKit7 0.146389868249 4.3686445395e-264 0.215282692623 5.91602941877e-260 0.287813321489 0.0\n",
        "FeatMFP0"
       ]
      },
      {
       "output_type": "stream",
       "stream": "stdout",
       "text": [
        " RDKit7-linear 0.256569228672 0.0 0.370377906318 0.0 0.394620076967 0.0\n",
        "FeatMFP0"
       ]
      },
      {
       "output_type": "stream",
       "stream": "stdout",
       "text": [
        " TT 0.159408229856 0.0 0.233433384683 1.50959171252e-306 0.294770820391 0.0\n",
        "FeatMFP0"
       ]
      },
      {
       "output_type": "stream",
       "stream": "stdout",
       "text": [
        " TT-bits 0.155815486156 6.68968804978e-299 0.228074650498 2.33703355165e-292 0.292528274261 0.0\n",
        "FeatMFP1"
       ]
      },
      {
       "output_type": "stream",
       "stream": "stdout",
       "text": [
        " FeatMFP2 0.80536094883 0.0 0.947212945728 0.0 0.937328680297 0.0\n",
        "FeatMFP1"
       ]
      },
      {
       "output_type": "stream",
       "stream": "stdout",
       "text": [
        " FeatMFP3 0.754513523798 0.0 0.915937448028 0.0 0.873373194518 0.0\n",
        "FeatMFP1"
       ]
      },
      {
       "output_type": "stream",
       "stream": "stdout",
       "text": [
        " MACCS 0.260454193946 0.0 0.377322286785 0.0 0.461999281887 0.0\n",
        "FeatMFP1"
       ]
      },
      {
       "output_type": "stream",
       "stream": "stdout",
       "text": [
        " MFP0 0.195046294749 0.0 0.280005295893 0.0 0.44670429966 0.0\n",
        "FeatMFP1"
       ]
      },
      {
       "output_type": "stream",
       "stream": "stdout",
       "text": [
        " MFP0-bits 0.196637856429 0.0 0.282535506315 0.0 0.441657552262 0.0\n",
        "FeatMFP1"
       ]
      },
      {
       "output_type": "stream",
       "stream": "stdout",
       "text": [
        " MFP1 0.481555725106 0.0 0.657836784064 0.0 0.71833357733 0.0\n",
        "FeatMFP1"
       ]
      },
      {
       "output_type": "stream",
       "stream": "stdout",
       "text": [
        " MFP1-bits 0.477526354712 0.0 0.653069274303 0.0 0.715069200616 0.0\n",
        "FeatMFP1"
       ]
      },
      {
       "output_type": "stream",
       "stream": "stdout",
       "text": [
        " MFP2 0.45867956035 0.0 0.632855382685 0.0 0.684893608114 0.0\n",
        "FeatMFP1"
       ]
      },
      {
       "output_type": "stream",
       "stream": "stdout",
       "text": [
        " MFP2-bits 0.451814999479 0.0 0.624632722958 0.0 0.681175374161 0.0\n",
        "FeatMFP1"
       ]
      },
      {
       "output_type": "stream",
       "stream": "stdout",
       "text": [
        " MFP3 0.453978694004 0.0 0.628160210873 0.0 0.658851549101 0.0\n",
        "FeatMFP1"
       ]
      },
      {
       "output_type": "stream",
       "stream": "stdout",
       "text": [
        " MFP3-bits 0.444748639973 0.0 0.616850219688 0.0 0.655546431205 0.0\n",
        "FeatMFP1"
       ]
      },
      {
       "output_type": "stream",
       "stream": "stdout",
       "text": [
        " RDKit4 0.466692976802 0.0 0.643040780008 0.0 0.699263819191 0.0\n",
        "FeatMFP1"
       ]
      },
      {
       "output_type": "stream",
       "stream": "stdout",
       "text": [
        " RDKit4-linear 0.449162499998 0.0 0.622522483883 0.0 0.683832878716 0.0\n",
        "FeatMFP1"
       ]
      },
      {
       "output_type": "stream",
       "stream": "stdout",
       "text": [
        " RDKit5 0.460811895741 0.0 0.635550519102 0.0 0.689199096309 0.0\n",
        "FeatMFP1"
       ]
      },
      {
       "output_type": "stream",
       "stream": "stdout",
       "text": [
        " RDKit5-linear 0.456535535453 0.0 0.63122950748 0.0 0.687088899535 0.0\n",
        "FeatMFP1"
       ]
      },
      {
       "output_type": "stream",
       "stream": "stdout",
       "text": [
        " RDKit6 0.389969875542 0.0 0.547283749766 0.0 0.642187282182 0.0\n",
        "FeatMFP1"
       ]
      },
      {
       "output_type": "stream",
       "stream": "stdout",
       "text": [
        " RDKit6-linear 0.457709545984 0.0 0.63233684128 0.0 0.684594862494 0.0\n",
        "FeatMFP1"
       ]
      },
      {
       "output_type": "stream",
       "stream": "stdout",
       "text": [
        " RDKit7 0.22797267093 0.0 0.331056135999 0.0 0.495170887169 0.0\n",
        "FeatMFP1"
       ]
      },
      {
       "output_type": "stream",
       "stream": "stdout",
       "text": [
        " RDKit7-linear 0.444360860215 0.0 0.615686942866 0.0 0.673113916993 0.0\n",
        "FeatMFP1"
       ]
      },
      {
       "output_type": "stream",
       "stream": "stdout",
       "text": [
        " TT 0.377553247064 0.0 0.531155894417 0.0 0.614174074136 0.0\n",
        "FeatMFP1"
       ]
      },
      {
       "output_type": "stream",
       "stream": "stdout",
       "text": [
        " TT-bits 0.366287966426 0.0 0.516484349157 0.0 0.606856098245 0.0\n",
        "FeatMFP2"
       ]
      },
      {
       "output_type": "stream",
       "stream": "stdout",
       "text": [
        " FeatMFP3 0.918567136889 0.0 0.990160738716 0.0 0.980751416834 0.0\n",
        "FeatMFP2"
       ]
      },
      {
       "output_type": "stream",
       "stream": "stdout",
       "text": [
        " MACCS 0.252846848901 0.0 0.366891689757 0.0 0.49181824741 0.0\n",
        "FeatMFP2"
       ]
      },
      {
       "output_type": "stream",
       "stream": "stdout",
       "text": [
        " MFP0 0.183087404427 0.0 0.263845530236 0.0 0.490160077424 0.0\n",
        "FeatMFP2"
       ]
      },
      {
       "output_type": "stream",
       "stream": "stdout",
       "text": [
        " MFP0-bits 0.187747224116 0.0 0.270670030076 0.0 0.487145674812 0.0\n",
        "FeatMFP2"
       ]
      },
      {
       "output_type": "stream",
       "stream": "stdout",
       "text": [
        " MFP1 0.569847337733 0.0 0.754342631953 0.0 0.837897908559 0.0\n",
        "FeatMFP2"
       ]
      },
      {
       "output_type": "stream",
       "stream": "stdout",
       "text": [
        " MFP1-bits 0.565183464339 0.0 0.749551686335 0.0 0.834696261712 0.0\n",
        "FeatMFP2"
       ]
      },
      {
       "output_type": "stream",
       "stream": "stdout",
       "text": [
        " MFP2 0.582696654676 0.0 0.767763201337 0.0 0.85192501867 0.0\n",
        "FeatMFP2"
       ]
      },
      {
       "output_type": "stream",
       "stream": "stdout",
       "text": [
        " MFP2-bits 0.574097278326 0.0 0.759068934132 0.0 0.848177658196 0.0\n",
        "FeatMFP2"
       ]
      },
      {
       "output_type": "stream",
       "stream": "stdout",
       "text": [
        " MFP3 0.581786954166 0.0 0.76784922799 0.0 0.836439636394 0.0\n",
        "FeatMFP2"
       ]
      },
      {
       "output_type": "stream",
       "stream": "stdout",
       "text": [
        " MFP3-bits 0.568534988945 0.0 0.754283294846 0.0 0.832389751735 0.0\n",
        "FeatMFP2"
       ]
      },
      {
       "output_type": "stream",
       "stream": "stdout",
       "text": [
        " RDKit4 0.476899515046 0.0 0.653549118652 0.0 0.760147271578 0.0\n",
        "FeatMFP2"
       ]
      },
      {
       "output_type": "stream",
       "stream": "stdout",
       "text": [
        " RDKit4-linear 0.453371468365 0.0 0.626783789442 0.0 0.735471266393 0.0\n",
        "FeatMFP2"
       ]
      },
      {
       "output_type": "stream",
       "stream": "stdout",
       "text": [
        " RDKit5 0.47935026024 0.0 0.654830964011 0.0 0.7735278877 0.0\n",
        "FeatMFP2"
       ]
      },
      {
       "output_type": "stream",
       "stream": "stdout",
       "text": [
        " RDKit5-linear 0.466883511394 0.0 0.642160069245 0.0 0.756038586205 0.0\n",
        "FeatMFP2"
       ]
      },
      {
       "output_type": "stream",
       "stream": "stdout",
       "text": [
        " RDKit6 0.409719641278 0.0 0.568860118962 0.0 0.742165595943 0.0\n",
        "FeatMFP2"
       ]
      },
      {
       "output_type": "stream",
       "stream": "stdout",
       "text": [
        " RDKit6-linear 0.472475111198 0.0 0.648077631667 0.0 0.765979787986 0.0\n",
        "FeatMFP2"
       ]
      },
      {
       "output_type": "stream",
       "stream": "stdout",
       "text": [
        " RDKit7 0.24041440343 0.0 0.346830222101 0.0 0.594430419942 0.0\n",
        "FeatMFP2"
       ]
      },
      {
       "output_type": "stream",
       "stream": "stdout",
       "text": [
        " RDKit7-linear 0.461920056817 0.0 0.634694949881 0.0 0.764247391804 0.0\n",
        "FeatMFP2"
       ]
      },
      {
       "output_type": "stream",
       "stream": "stdout",
       "text": [
        " TT 0.45771721255 0.0 0.629022345522 0.0 0.765855161363 0.0\n",
        "FeatMFP2"
       ]
      },
      {
       "output_type": "stream",
       "stream": "stdout",
       "text": [
        " TT-bits 0.437935690206 0.0 0.605203705482 0.0 0.753478203079 0.0\n",
        "FeatMFP3"
       ]
      },
      {
       "output_type": "stream",
       "stream": "stdout",
       "text": [
        " MACCS 0.248456347104 0.0 0.360806318911 0.0 0.496393658469 0.0\n",
        "FeatMFP3"
       ]
      },
      {
       "output_type": "stream",
       "stream": "stdout",
       "text": [
        " MFP0 0.177602738217 0.0 0.25637410409 0.0 0.511541227264 0.0\n",
        "FeatMFP3"
       ]
      },
      {
       "output_type": "stream",
       "stream": "stdout",
       "text": [
        " MFP0-bits 0.183187464204 0.0 0.26447621225 0.0 0.508279964066 0.0\n",
        "FeatMFP3"
       ]
      },
      {
       "output_type": "stream",
       "stream": "stdout",
       "text": [
        " MFP1 0.574301885277 0.0 0.759258571779 0.0 0.850062110483 0.0\n",
        "FeatMFP3"
       ]
      },
      {
       "output_type": "stream",
       "stream": "stdout",
       "text": [
        " MFP1-bits 0.56898290702 0.0 0.753864610294 0.0 0.846799734204 0.0\n",
        "FeatMFP3"
       ]
      },
      {
       "output_type": "stream",
       "stream": "stdout",
       "text": [
        " MFP2 0.607986796702 0.0 0.791332327795 0.0 0.897029057764 0.0\n",
        "FeatMFP3"
       ]
      },
      {
       "output_type": "stream",
       "stream": "stdout",
       "text": [
        " MFP2-bits 0.597882241636 0.0 0.781548364054 0.0 0.893126313229 0.0\n",
        "FeatMFP3"
       ]
      },
      {
       "output_type": "stream",
       "stream": "stdout",
       "text": [
        " MFP3 0.620369051294 0.0 0.803762161735 0.0 0.901738317581 0.0\n",
        "FeatMFP3"
       ]
      },
      {
       "output_type": "stream",
       "stream": "stdout",
       "text": [
        " MFP3-bits 0.604214999508 0.0 0.788174006327 0.0 0.897194714519 0.0\n",
        "FeatMFP3"
       ]
      },
      {
       "output_type": "stream",
       "stream": "stdout",
       "text": [
        " RDKit4 0.471215302616 0.0 0.646390881671 0.0 0.763327444411 0.0\n",
        "FeatMFP3"
       ]
      },
      {
       "output_type": "stream",
       "stream": "stdout",
       "text": [
        " RDKit4-linear 0.449217391138 0.0 0.621480949717 0.0 0.737949110115 0.0\n",
        "FeatMFP3"
       ]
      },
      {
       "output_type": "stream",
       "stream": "stdout",
       "text": [
        " RDKit5 0.472947756868 0.0 0.646364838222 0.0 0.787934495694 0.0\n",
        "FeatMFP3"
       ]
      },
      {
       "output_type": "stream",
       "stream": "stdout",
       "text": [
        " RDKit5-linear 0.462811937279 0.0 0.636771828402 0.0 0.766169587743 0.0\n",
        "FeatMFP3"
       ]
      },
      {
       "output_type": "stream",
       "stream": "stdout",
       "text": [
        " RDKit6 0.401241116605 0.0 0.556934359412 0.0 0.767253675404 0.0\n",
        "FeatMFP3"
       ]
      },
      {
       "output_type": "stream",
       "stream": "stdout",
       "text": [
        " RDKit6-linear 0.468077349527 0.0 0.642192899086 0.0 0.78248810954 0.0\n",
        "FeatMFP3"
       ]
      },
      {
       "output_type": "stream",
       "stream": "stdout",
       "text": [
        " RDKit7 0.229793241577 0.0 0.331777756437 0.0 0.626334956848 0.0\n",
        "FeatMFP3"
       ]
      },
      {
       "output_type": "stream",
       "stream": "stdout",
       "text": [
        " RDKit7-linear 0.456761443967 0.0 0.627732859048 0.0 0.786945862001 0.0\n",
        "FeatMFP3"
       ]
      },
      {
       "output_type": "stream",
       "stream": "stdout",
       "text": [
        " TT 0.454476417123 0.0 0.623958105861 0.0 0.799341032799 0.0\n",
        "FeatMFP3"
       ]
      },
      {
       "output_type": "stream",
       "stream": "stdout",
       "text": [
        " TT-bits 0.431845036416 0.0 0.596588168625 0.0 0.785138447887 0.0\n",
        "MACCS"
       ]
      },
      {
       "output_type": "stream",
       "stream": "stdout",
       "text": [
        " MFP0 0.146531154575 1.36298740201e-264 0.21267985128 1.30043589138e-253 0.355756975469 0.0\n",
        "MACCS"
       ]
      },
      {
       "output_type": "stream",
       "stream": "stdout",
       "text": [
        " MFP0-bits 0.145482571782 7.53665509412e-261 0.21135406174 2.05155627757e-250 0.348898565798 0.0\n",
        "MACCS"
       ]
      },
      {
       "output_type": "stream",
       "stream": "stdout",
       "text": [
        " MFP1 0.243239626765 0.0 0.353517126502 0.0 0.48117778102 0.0\n",
        "MACCS"
       ]
      },
      {
       "output_type": "stream",
       "stream": "stdout",
       "text": [
        " MFP1-bits 0.23913585205 0.0 0.347771648218 0.0 0.475892734285 0.0\n",
        "MACCS"
       ]
      },
      {
       "output_type": "stream",
       "stream": "stdout",
       "text": [
        " MFP2 0.22946419626 0.0 0.335041365774 0.0 0.479779637148 0.0\n",
        "MACCS"
       ]
      },
      {
       "output_type": "stream",
       "stream": "stdout",
       "text": [
        " MFP2-bits 0.228041637393 0.0 0.333014828096 0.0 0.477913584072 0.0\n",
        "MACCS"
       ]
      },
      {
       "output_type": "stream",
       "stream": "stdout",
       "text": [
        " MFP3 0.22547068305 0.0 0.329656142935 0.0 0.473542830587 0.0\n",
        "MACCS"
       ]
      },
      {
       "output_type": "stream",
       "stream": "stdout",
       "text": [
        " MFP3-bits 0.226950818321 0.0 0.331550958326 0.0 0.473720848946 0.0\n",
        "MACCS"
       ]
      },
      {
       "output_type": "stream",
       "stream": "stdout",
       "text": [
        " RDKit4 0.417110174887 0.0 0.58343750742 0.0 0.659493340782 0.0\n",
        "MACCS"
       ]
      },
      {
       "output_type": "stream",
       "stream": "stdout",
       "text": [
        " RDKit4-linear 0.409592720739 0.0 0.574652576842 0.0 0.64856511495 0.0\n",
        "MACCS"
       ]
      },
      {
       "output_type": "stream",
       "stream": "stdout",
       "text": [
        " RDKit5 0.423567373898 0.0 0.590734071287 0.0 0.657641741784 0.0\n",
        "MACCS"
       ]
      },
      {
       "output_type": "stream",
       "stream": "stdout",
       "text": [
        " RDKit5-linear 0.402499855267 0.0 0.565463928527 0.0 0.641288713021 0.0\n",
        "MACCS"
       ]
      },
      {
       "output_type": "stream",
       "stream": "stdout",
       "text": [
        " RDKit6 0.438650861683 0.0 0.609131416258 0.0 0.659231820578 0.0\n",
        "MACCS"
       ]
      },
      {
       "output_type": "stream",
       "stream": "stdout",
       "text": [
        " RDKit6-linear 0.401287962242 0.0 0.563283103525 0.0 0.635844252533 0.0\n",
        "MACCS"
       ]
      },
      {
       "output_type": "stream",
       "stream": "stdout",
       "text": [
        " RDKit7 0.387105727623 0.0 0.545105964763 0.0 0.620459011077 0.0\n",
        "MACCS"
       ]
      },
      {
       "output_type": "stream",
       "stream": "stdout",
       "text": [
        " RDKit7-linear 0.40829187966 0.0 0.571482551978 0.0 0.63408013987 0.0\n",
        "MACCS"
       ]
      },
      {
       "output_type": "stream",
       "stream": "stdout",
       "text": [
        " TT 0.223576802043 0.0 0.327391121262 0.0 0.469790877512 0.0\n",
        "MACCS"
       ]
      },
      {
       "output_type": "stream",
       "stream": "stdout",
       "text": [
        " TT-bits 0.242988267849 0.0 0.354063402993 0.0 0.490037862696 0.0\n",
        "MFP0"
       ]
      },
      {
       "output_type": "stream",
       "stream": "stdout",
       "text": [
        " MFP0-bits 0.948023508497 0.0 0.958016189378 0.0 0.968091057994 0.0\n",
        "MFP0"
       ]
      },
      {
       "output_type": "stream",
       "stream": "stdout",
       "text": [
        " MFP1 0.255488840326 0.0 0.36547743686 0.0 0.604835741055 0.0\n",
        "MFP0"
       ]
      },
      {
       "output_type": "stream",
       "stream": "stdout",
       "text": [
        " MFP1-bits 0.255122237648 0.0 0.364736039078 0.0 0.602824298019 0.0\n",
        "MFP0"
       ]
      },
      {
       "output_type": "stream",
       "stream": "stdout",
       "text": [
        " MFP2 0.219403025034 0.0 0.314775223302 0.0 0.570443717158 0.0\n",
        "MFP0"
       ]
      },
      {
       "output_type": "stream",
       "stream": "stdout",
       "text": [
        " MFP2-bits 0.218162033886 0.0 0.312931994354 0.0 0.5678917963 0.0\n",
        "MFP0"
       ]
      },
      {
       "output_type": "stream",
       "stream": "stdout",
       "text": [
        " MFP3 0.211285906767 0.0 0.303694620085 0.0 0.565289108059 0.0\n",
        "MFP0"
       ]
      },
      {
       "output_type": "stream",
       "stream": "stdout",
       "text": [
        " MFP3-bits 0.20858146875 0.0 0.299879764367 0.0 0.562231265402 0.0\n",
        "MFP0"
       ]
      },
      {
       "output_type": "stream",
       "stream": "stdout",
       "text": [
        " RDKit4 0.146544877617 1.21711762952e-264 0.212552969871 2.63688131602e-253 0.413456728294 0.0\n",
        "MFP0"
       ]
      },
      {
       "output_type": "stream",
       "stream": "stdout",
       "text": [
        " RDKit4-linear 0.145166694133 9.98562852819e-260 0.210685545233 8.24823960967e-249 0.400134621804 0.0\n",
        "MFP0"
       ]
      },
      {
       "output_type": "stream",
       "stream": "stdout",
       "text": [
        " RDKit5 0.139872814265 2.78099710387e-241 0.203014992815 8.47663168024e-231 0.426847974915 0.0\n",
        "MFP0"
       ]
      },
      {
       "output_type": "stream",
       "stream": "stdout",
       "text": [
        " RDKit5-linear 0.1444804856 2.68429493969e-257 0.209680862828 2.07457702388e-246 0.417097934033 0.0\n",
        "MFP0"
       ]
      },
      {
       "output_type": "stream",
       "stream": "stdout",
       "text": [
        " RDKit6 0.11576938819 6.02242456649e-166 0.168553416427 1.05852964626e-158 0.41644303822 0.0\n",
        "MFP0"
       ]
      },
      {
       "output_type": "stream",
       "stream": "stdout",
       "text": [
        " RDKit6-linear 0.141920559305 2.4581087884e-248 0.206102948682 5.81381428882e-238 0.427642022382 0.0\n",
        "MFP0"
       ]
      },
      {
       "output_type": "stream",
       "stream": "stdout",
       "text": [
        " RDKit7 0.0718856493352 3.61792759337e-65 0.105312857831 1.37732398107e-62 0.341169404346 0.0\n",
        "MFP0"
       ]
      },
      {
       "output_type": "stream",
       "stream": "stdout",
       "text": [
        " RDKit7-linear 0.136056406679 2.07494570338e-228 0.197786685998 6.17343791089e-219 0.433584893829 0.0\n",
        "MFP0"
       ]
      },
      {
       "output_type": "stream",
       "stream": "stdout",
       "text": [
        " TT 0.159261280941 0.0 0.230507707989 9.36169776041e-299 0.47054649814 0.0\n",
        "MFP0"
       ]
      },
      {
       "output_type": "stream",
       "stream": "stdout",
       "text": [
        " TT-bits 0.153769937464 3.67430628656e-291 0.222561538527 3.86058188903e-278 0.460673924225 0.0\n",
        "MFP0-bits"
       ]
      },
      {
       "output_type": "stream",
       "stream": "stdout",
       "text": [
        " MFP1 0.25288849712 0.0 0.362127486345 0.0 0.593082396463 0.0\n",
        "MFP0-bits"
       ]
      },
      {
       "output_type": "stream",
       "stream": "stdout",
       "text": [
        " MFP1-bits 0.260169834988 0.0 0.37208878736 0.0 0.600393712734 0.0\n",
        "MFP0-bits"
       ]
      },
      {
       "output_type": "stream",
       "stream": "stdout",
       "text": [
        " MFP2 0.220429617168 0.0 0.316482142886 0.0 0.562772399598 0.0\n",
        "MFP0-bits"
       ]
      },
      {
       "output_type": "stream",
       "stream": "stdout",
       "text": [
        " MFP2-bits 0.22413112947 0.0 0.321642511075 0.0 0.565218395159 0.0\n",
        "MFP0-bits"
       ]
      },
      {
       "output_type": "stream",
       "stream": "stdout",
       "text": [
        " MFP3 0.213386759185 0.0 0.306903847273 0.0 0.558103236437 0.0\n",
        "MFP0-bits"
       ]
      },
      {
       "output_type": "stream",
       "stream": "stdout",
       "text": [
        " MFP3-bits 0.215223528325 0.0 0.309559642189 0.0 0.558933421106 0.0\n",
        "MFP0-bits"
       ]
      },
      {
       "output_type": "stream",
       "stream": "stdout",
       "text": [
        " RDKit4 0.149443599379 3.96626900185e-275 0.21696739766 4.18826598597e-264 0.410673900506 0.0\n",
        "MFP0-bits"
       ]
      },
      {
       "output_type": "stream",
       "stream": "stdout",
       "text": [
        " RDKit4-linear 0.147538527766 3.26302487876e-268 0.214367858183 1.0250133053e-257 0.397487413948 0.0\n",
        "MFP0-bits"
       ]
      },
      {
       "output_type": "stream",
       "stream": "stdout",
       "text": [
        " RDKit5 0.144030034524 1.04078454937e-255 0.209198812401 2.91266380041e-245 0.424612214213 0.0\n",
        "MFP0-bits"
       ]
      },
      {
       "output_type": "stream",
       "stream": "stdout",
       "text": [
        " RDKit5-linear 0.147528924382 3.53390951322e-268 0.21431177576 1.40484932954e-257 0.414637885638 0.0\n",
        "MFP0-bits"
       ]
      },
      {
       "output_type": "stream",
       "stream": "stdout",
       "text": [
        " RDKit6 0.12074925759 2.3816337726e-180 0.175881465826 7.69482052951e-173 0.414425142863 0.0\n",
        "MFP0-bits"
       ]
      },
      {
       "output_type": "stream",
       "stream": "stdout",
       "text": [
        " RDKit6-linear 0.145715281985 1.11914748164e-261 0.211798071315 1.75186776609e-251 0.425532574616 0.0\n",
        "MFP0-bits"
       ]
      },
      {
       "output_type": "stream",
       "stream": "stdout",
       "text": [
        " RDKit7 0.0766724401372 7.01296466206e-74 0.112306198933 5.63704001917e-71 0.339660840424 0.0\n",
        "MFP0-bits"
       ]
      },
      {
       "output_type": "stream",
       "stream": "stdout",
       "text": [
        " RDKit7-linear 0.140320011795 8.17582075681e-243 0.204137572773 2.17531682046e-233 0.431509784674 0.0\n",
        "MFP0-bits"
       ]
      },
      {
       "output_type": "stream",
       "stream": "stdout",
       "text": [
        " TT 0.162267350049 0.0 0.235000959824 0.0 0.466591046472 0.0\n",
        "MFP0-bits"
       ]
      },
      {
       "output_type": "stream",
       "stream": "stdout",
       "text": [
        " TT-bits 0.157231925482 2.54777799854e-304 0.227691641314 2.33811792052e-291 0.45669255209 0.0\n",
        "MFP1"
       ]
      },
      {
       "output_type": "stream",
       "stream": "stdout",
       "text": [
        " MFP1-bits 0.953466547946 0.0 0.992442783106 0.0 0.995805897225 0.0\n",
        "MFP1"
       ]
      },
      {
       "output_type": "stream",
       "stream": "stdout",
       "text": [
        " MFP2 0.837913477353 0.0 0.961737756836 0.0 0.961445138489 0.0\n",
        "MFP1"
       ]
      },
      {
       "output_type": "stream",
       "stream": "stdout",
       "text": [
        " MFP2-bits 0.812849228218 0.0 0.950020579176 0.0 0.957049327712 0.0\n",
        "MFP1"
       ]
      },
      {
       "output_type": "stream",
       "stream": "stdout",
       "text": [
        " MFP3 0.793030111388 0.0 0.939052552928 0.0 0.923293613976 0.0\n",
        "MFP1"
       ]
      },
      {
       "output_type": "stream",
       "stream": "stdout",
       "text": [
        " MFP3-bits 0.761950073522 0.0 0.921286023575 0.0 0.918559324799 0.0\n",
        "MFP1"
       ]
      },
      {
       "output_type": "stream",
       "stream": "stdout",
       "text": [
        " RDKit4 0.378182571211 0.0 0.532504530196 0.0 0.673537914405 0.0\n",
        "MFP1"
       ]
      },
      {
       "output_type": "stream",
       "stream": "stdout",
       "text": [
        " RDKit4-linear 0.359715145082 0.0 0.50920906534 0.0 0.64588291006 0.0\n",
        "MFP1"
       ]
      },
      {
       "output_type": "stream",
       "stream": "stdout",
       "text": [
        " RDKit5 0.376760720415 0.0 0.530373360916 0.0 0.695358278422 0.0\n",
        "MFP1"
       ]
      },
      {
       "output_type": "stream",
       "stream": "stdout",
       "text": [
        " RDKit5-linear 0.37261043574 0.0 0.525543791735 0.0 0.67283480138 0.0\n",
        "MFP1"
       ]
      },
      {
       "output_type": "stream",
       "stream": "stdout",
       "text": [
        " RDKit6 0.31175829389 0.0 0.444954348681 0.0 0.670546676494 0.0\n",
        "MFP1"
       ]
      },
      {
       "output_type": "stream",
       "stream": "stdout",
       "text": [
        " RDKit6-linear 0.374841800116 0.0 0.528166162226 0.0 0.685123556501 0.0\n",
        "MFP1"
       ]
      },
      {
       "output_type": "stream",
       "stream": "stdout",
       "text": [
        " RDKit7 0.172520371736 0.0 0.253930782464 0.0 0.532792485482 0.0\n",
        "MFP1"
       ]
      },
      {
       "output_type": "stream",
       "stream": "stdout",
       "text": [
        " RDKit7-linear 0.361984754656 0.0 0.51146021088 0.0 0.685595683381 0.0\n",
        "MFP1"
       ]
      },
      {
       "output_type": "stream",
       "stream": "stdout",
       "text": [
        " TT 0.618349844221 0.0 0.80188902056 0.0 0.870703705552 0.0\n",
        "MFP1"
       ]
      },
      {
       "output_type": "stream",
       "stream": "stdout",
       "text": [
        " TT-bits 0.581753390818 0.0 0.766598962583 0.0 0.851134079577 0.0\n",
        "MFP1-bits"
       ]
      },
      {
       "output_type": "stream",
       "stream": "stdout",
       "text": [
        " MFP2 0.822758945158 0.0 0.954571495358 0.0 0.957776605646 0.0\n",
        "MFP1-bits"
       ]
      },
      {
       "output_type": "stream",
       "stream": "stdout",
       "text": [
        " MFP2-bits 0.819064901837 0.0 0.953089754417 0.0 0.957878916934 0.0\n",
        "MFP1-bits"
       ]
      },
      {
       "output_type": "stream",
       "stream": "stdout",
       "text": [
        " MFP3 0.779703771819 0.0 0.93140583854 0.0 0.919809558213 0.0\n",
        "MFP1-bits"
       ]
      },
      {
       "output_type": "stream",
       "stream": "stdout",
       "text": [
        " MFP3-bits 0.764802297646 0.0 0.923118352815 0.0 0.918492913671 0.0\n",
        "MFP1-bits"
       ]
      },
      {
       "output_type": "stream",
       "stream": "stdout",
       "text": [
        " RDKit4 0.372260053135 0.0 0.52483443492 0.0 0.668265250096 0.0\n",
        "MFP1-bits"
       ]
      },
      {
       "output_type": "stream",
       "stream": "stdout",
       "text": [
        " RDKit4-linear 0.353648398592 0.0 0.501246451745 0.0 0.640368935948 0.0\n",
        "MFP1-bits"
       ]
      },
      {
       "output_type": "stream",
       "stream": "stdout",
       "text": [
        " RDKit5 0.371759193154 0.0 0.523897786908 0.0 0.690999245529 0.0\n",
        "MFP1-bits"
       ]
      },
      {
       "output_type": "stream",
       "stream": "stdout",
       "text": [
        " RDKit5-linear 0.366665209381 0.0 0.51782130094 0.0 0.667839681875 0.0\n",
        "MFP1-bits"
       ]
      },
      {
       "output_type": "stream",
       "stream": "stdout",
       "text": [
        " RDKit6 0.309007095945 0.0 0.441230341046 0.0 0.667442270967 0.0\n",
        "MFP1-bits"
       ]
      },
      {
       "output_type": "stream",
       "stream": "stdout",
       "text": [
        " RDKit6-linear 0.369305473489 0.0 0.521024681176 0.0 0.680736846764 0.0\n",
        "MFP1-bits"
       ]
      },
      {
       "output_type": "stream",
       "stream": "stdout",
       "text": [
        " RDKit7 0.172858655087 0.0 0.254340977745 0.0 0.531676368613 0.0\n",
        "MFP1-bits"
       ]
      },
      {
       "output_type": "stream",
       "stream": "stdout",
       "text": [
        " RDKit7-linear 0.357416012568 0.0 0.505500566645 0.0 0.681842435402 0.0\n",
        "MFP1-bits"
       ]
      },
      {
       "output_type": "stream",
       "stream": "stdout",
       "text": [
        " TT 0.615229648485 0.0 0.79890892307 0.0 0.868330300558 0.0\n",
        "MFP1-bits"
       ]
      },
      {
       "output_type": "stream",
       "stream": "stdout",
       "text": [
        " TT-bits 0.579009701507 0.0 0.763887483358 0.0 0.84894352283 0.0\n",
        "MFP2"
       ]
      },
      {
       "output_type": "stream",
       "stream": "stdout",
       "text": [
        " MFP2-bits 0.922883225519 0.0 0.988829603168 0.0 0.996284169825 0.0\n",
        "MFP2"
       ]
      },
      {
       "output_type": "stream",
       "stream": "stdout",
       "text": [
        " MFP3 0.926329100407 0.0 0.992026949384 0.0 0.988570446146 0.0\n",
        "MFP2"
       ]
      },
      {
       "output_type": "stream",
       "stream": "stdout",
       "text": [
        " MFP3-bits 0.866786999187 0.0 0.973945755857 0.0 0.984156437611 0.0\n",
        "MFP2"
       ]
      },
      {
       "output_type": "stream",
       "stream": "stdout",
       "text": [
        " RDKit4 0.365965092033 0.0 0.516523749792 0.0 0.694002522006 0.0\n",
        "MFP2"
       ]
      },
      {
       "output_type": "stream",
       "stream": "stdout",
       "text": [
        " RDKit4-linear 0.347626650561 0.0 0.493391977907 0.0 0.664760150918 0.0\n",
        "MFP2"
       ]
      },
      {
       "output_type": "stream",
       "stream": "stdout",
       "text": [
        " RDKit5 0.368467061164 0.0 0.518922197359 0.0 0.730169852691 0.0\n",
        "MFP2"
       ]
      },
      {
       "output_type": "stream",
       "stream": "stdout",
       "text": [
        " RDKit5-linear 0.361981313053 0.0 0.511474680352 0.0 0.700768688483 0.0\n",
        "MFP2"
       ]
      },
      {
       "output_type": "stream",
       "stream": "stdout",
       "text": [
        " RDKit6 0.3124705048 0.0 0.445122917609 0.0 0.721139160183 0.0\n",
        "MFP2"
       ]
      },
      {
       "output_type": "stream",
       "stream": "stdout",
       "text": [
        " RDKit6-linear 0.366077668921 0.0 0.516355612575 0.0 0.721234577748 0.0\n",
        "MFP2"
       ]
      },
      {
       "output_type": "stream",
       "stream": "stdout",
       "text": [
        " RDKit7 0.183066359416 0.0 0.268632349783 0.0 0.597151724918 0.0\n",
        "MFP2"
       ]
      },
      {
       "output_type": "stream",
       "stream": "stdout",
       "text": [
        " RDKit7-linear 0.356106763952 0.0 0.503215564019 0.0 0.729407598718 0.0\n",
        "MFP2"
       ]
      },
      {
       "output_type": "stream",
       "stream": "stdout",
       "text": [
        " TT 0.605369343543 0.0 0.78948121547 0.0 0.893049210357 0.0\n",
        "MFP2"
       ]
      },
      {
       "output_type": "stream",
       "stream": "stdout",
       "text": [
        " TT-bits 0.567296502121 0.0 0.751283131062 0.0 0.872435054699 0.0\n",
        "MFP2-bits"
       ]
      },
      {
       "output_type": "stream",
       "stream": "stdout",
       "text": [
        " MFP3 0.883068339125 0.0 0.979740814731 0.0 0.984955167815 0.0\n",
        "MFP2-bits"
       ]
      },
      {
       "output_type": "stream",
       "stream": "stdout",
       "text": [
        " MFP3-bits 0.891953872372 0.0 0.982903039989 0.0 0.9862447671 0.0\n",
        "MFP2-bits"
       ]
      },
      {
       "output_type": "stream",
       "stream": "stdout",
       "text": [
        " RDKit4 0.360650385965 0.0 0.50960390308 0.0 0.689938305424 0.0\n",
        "MFP2-bits"
       ]
      },
      {
       "output_type": "stream",
       "stream": "stdout",
       "text": [
        " RDKit4-linear 0.341853132388 0.0 0.485779342423 0.0 0.660408697424 0.0\n",
        "MFP2-bits"
       ]
      },
      {
       "output_type": "stream",
       "stream": "stdout",
       "text": [
        " RDKit5 0.365219252116 0.0 0.514674723234 0.0 0.727131218301 0.0\n",
        "MFP2-bits"
       ]
      },
      {
       "output_type": "stream",
       "stream": "stdout",
       "text": [
        " RDKit5-linear 0.356537794827 0.0 0.504350277656 0.0 0.696744703629 0.0\n",
        "MFP2-bits"
       ]
      },
      {
       "output_type": "stream",
       "stream": "stdout",
       "text": [
        " RDKit6 0.31454576419 0.0 0.447714629329 0.0 0.7202809535 0.0\n",
        "MFP2-bits"
       ]
      },
      {
       "output_type": "stream",
       "stream": "stdout",
       "text": [
        " RDKit6-linear 0.361557019748 0.0 0.510412130932 0.0 0.71777410224 0.0\n",
        "MFP2-bits"
       ]
      },
      {
       "output_type": "stream",
       "stream": "stdout",
       "text": [
        " RDKit7 0.190957310339 0.0 0.279430112113 0.0 0.600276473464 0.0\n",
        "MFP2-bits"
       ]
      },
      {
       "output_type": "stream",
       "stream": "stdout",
       "text": [
        " RDKit7-linear 0.353696199943 0.0 0.499931964713 0.0 0.726763712493 0.0\n",
        "MFP2-bits"
       ]
      },
      {
       "output_type": "stream",
       "stream": "stdout",
       "text": [
        " TT 0.599821571557 0.0 0.783732009056 0.0 0.890351401531 0.0\n",
        "MFP2-bits"
       ]
      },
      {
       "output_type": "stream",
       "stream": "stdout",
       "text": [
        " TT-bits 0.562734040665 0.0 0.74617056475 0.0 0.870066853127 0.0\n",
        "MFP3"
       ]
      },
      {
       "output_type": "stream",
       "stream": "stdout",
       "text": [
        " MFP3-bits 0.887123599632 0.0 0.979443218209 0.0 0.995530918497 0.0\n",
        "MFP3"
       ]
      },
      {
       "output_type": "stream",
       "stream": "stdout",
       "text": [
        " RDKit4 0.365294502665 0.0 0.515883956572 0.0 0.6911667183 0.0\n",
        "MFP3"
       ]
      },
      {
       "output_type": "stream",
       "stream": "stdout",
       "text": [
        " RDKit4-linear 0.34856285628 0.0 0.494879639325 0.0 0.663013654641 0.0\n",
        "MFP3"
       ]
      },
      {
       "output_type": "stream",
       "stream": "stdout",
       "text": [
        " RDKit5 0.365807419146 0.0 0.515566034174 0.0 0.731845598498 0.0\n",
        "MFP3"
       ]
      },
      {
       "output_type": "stream",
       "stream": "stdout",
       "text": [
        " RDKit5-linear 0.361982226245 0.0 0.511718807095 0.0 0.701755991715 0.0\n",
        "MFP3"
       ]
      },
      {
       "output_type": "stream",
       "stream": "stdout",
       "text": [
        " RDKit6 0.306343532012 0.0 0.436838796224 0.0 0.728674137445 0.0\n",
        "MFP3"
       ]
      },
      {
       "output_type": "stream",
       "stream": "stdout",
       "text": [
        " RDKit6-linear 0.365130367283 0.0 0.515348081701 0.0 0.725427013577 0.0\n",
        "MFP3"
       ]
      },
      {
       "output_type": "stream",
       "stream": "stdout",
       "text": [
        " RDKit7 0.172932521236 0.0 0.254480474049 0.0 0.610343697505 0.0\n",
        "MFP3"
       ]
      },
      {
       "output_type": "stream",
       "stream": "stdout",
       "text": [
        " RDKit7-linear 0.353796605403 0.0 0.500371618431 0.0 0.737209699601 0.0\n",
        "MFP3"
       ]
      },
      {
       "output_type": "stream",
       "stream": "stdout",
       "text": [
        " TT 0.57417265419 0.0 0.758396778675 0.0 0.875810061592 0.0\n",
        "MFP3"
       ]
      },
      {
       "output_type": "stream",
       "stream": "stdout",
       "text": [
        " TT-bits 0.536198084888 0.0 0.718295804721 0.0 0.855478555839 0.0\n",
        "MFP3-bits"
       ]
      },
      {
       "output_type": "stream",
       "stream": "stdout",
       "text": [
        " RDKit4 0.359211557867 0.0 0.507986909541 0.0 0.687078784015 0.0\n",
        "MFP3-bits"
       ]
      },
      {
       "output_type": "stream",
       "stream": "stdout",
       "text": [
        " RDKit4-linear 0.341828994659 0.0 0.486043108692 0.0 0.658537714011 0.0\n",
        "MFP3-bits"
       ]
      },
      {
       "output_type": "stream",
       "stream": "stdout",
       "text": [
        " RDKit5 0.36353668638 0.0 0.512543538587 0.0 0.72910198675 0.0\n",
        "MFP3-bits"
       ]
      },
      {
       "output_type": "stream",
       "stream": "stdout",
       "text": [
        " RDKit5-linear 0.356066019148 0.0 0.50401656624 0.0 0.697619750527 0.0\n",
        "MFP3-bits"
       ]
      },
      {
       "output_type": "stream",
       "stream": "stdout",
       "text": [
        " RDKit6 0.313805294767 0.0 0.446453916612 0.0 0.729161777945 0.0\n",
        "MFP3-bits"
       ]
      },
      {
       "output_type": "stream",
       "stream": "stdout",
       "text": [
        " RDKit6-linear 0.360988459184 0.0 0.509916985508 0.0 0.721967877078 0.0\n",
        "MFP3-bits"
       ]
      },
      {
       "output_type": "stream",
       "stream": "stdout",
       "text": [
        " RDKit7 0.190252782254 0.0 0.278153960499 0.0 0.616691802412 0.0\n",
        "MFP3-bits"
       ]
      },
      {
       "output_type": "stream",
       "stream": "stdout",
       "text": [
        " RDKit7-linear 0.353257953488 0.0 0.499457719701 0.0 0.734785900072 0.0\n",
        "MFP3-bits"
       ]
      },
      {
       "output_type": "stream",
       "stream": "stdout",
       "text": [
        " TT 0.56652064311 0.0 0.749910180068 0.0 0.872919863224 0.0\n",
        "MFP3-bits"
       ]
      },
      {
       "output_type": "stream",
       "stream": "stdout",
       "text": [
        " TT-bits 0.530756730081 0.0 0.711750428373 0.0 0.853238771913 0.0\n",
        "RDKit4"
       ]
      },
      {
       "output_type": "stream",
       "stream": "stdout",
       "text": [
        " RDKit4-linear 0.893239119542 0.0 0.983824313894 0.0 0.988096847387 0.0\n",
        "RDKit4"
       ]
      },
      {
       "output_type": "stream",
       "stream": "stdout",
       "text": [
        " RDKit5 0.870740254717 0.0 0.976256986547 0.0 0.982993966878 0.0\n",
        "RDKit4"
       ]
      },
      {
       "output_type": "stream",
       "stream": "stdout",
       "text": [
        " RDKit5-linear 0.87691237746 0.0 0.978408652635 0.0 0.984520798753 0.0\n",
        "RDKit4"
       ]
      },
      {
       "output_type": "stream",
       "stream": "stdout",
       "text": [
        " RDKit6 0.671796319619 0.0 0.84783440863 0.0 0.927591672276 0.0\n",
        "RDKit4"
       ]
      },
      {
       "output_type": "stream",
       "stream": "stdout",
       "text": [
        " RDKit6-linear 0.846535514153 0.0 0.966685279327 0.0 0.973492665066 0.0\n",
        "RDKit4"
       ]
      },
      {
       "output_type": "stream",
       "stream": "stdout",
       "text": [
        " RDKit7 0.388765816653 0.0 0.540001241799 0.0 0.759401602091 0.0\n",
        "RDKit4"
       ]
      },
      {
       "output_type": "stream",
       "stream": "stdout",
       "text": [
        " RDKit7-linear 0.79973438263 0.0 0.9433447297 0.0 0.957646598104 0.0\n",
        "RDKit4"
       ]
      },
      {
       "output_type": "stream",
       "stream": "stdout",
       "text": [
        " TT 0.378167333519 0.0 0.530389980389 0.0 0.694896815956 0.0\n",
        "RDKit4"
       ]
      },
      {
       "output_type": "stream",
       "stream": "stdout",
       "text": [
        " TT-bits 0.39129282739 0.0 0.546008280675 0.0 0.704967997092 0.0\n",
        "RDKit4-linear"
       ]
      },
      {
       "output_type": "stream",
       "stream": "stdout",
       "text": [
        " RDKit5 0.804497371083 0.0 0.946817669627 0.0 0.959731898825 0.0\n",
        "RDKit4-linear"
       ]
      },
      {
       "output_type": "stream",
       "stream": "stdout",
       "text": [
        " RDKit5-linear 0.913833289415 0.0 0.989637287148 0.0 0.990272636937 0.0\n",
        "RDKit4-linear"
       ]
      },
      {
       "output_type": "stream",
       "stream": "stdout",
       "text": [
        " RDKit6 0.623805747345 0.0 0.807307745336 0.0 0.894368089206 0.0\n",
        "RDKit4-linear"
       ]
      },
      {
       "output_type": "stream",
       "stream": "stdout",
       "text": [
        " RDKit6-linear 0.855711728499 0.0 0.970966743778 0.0 0.973226360819 0.0\n",
        "RDKit4-linear"
       ]
      },
      {
       "output_type": "stream",
       "stream": "stdout",
       "text": [
        " RDKit7 0.356506480985 0.0 0.500671129967 0.0 0.718478193775 0.0\n",
        "RDKit4-linear"
       ]
      },
      {
       "output_type": "stream",
       "stream": "stdout",
       "text": [
        " RDKit7-linear 0.792332032678 0.0 0.939572044264 0.0 0.951975987399 0.0\n",
        "RDKit4-linear"
       ]
      },
      {
       "output_type": "stream",
       "stream": "stdout",
       "text": [
        " TT 0.35006203688 0.0 0.495011592882 0.0 0.655861347132 0.0\n",
        "RDKit4-linear"
       ]
      },
      {
       "output_type": "stream",
       "stream": "stdout",
       "text": [
        " TT-bits 0.363484709027 0.0 0.511372531369 0.0 0.666636487388 0.0\n",
        "RDKit5"
       ]
      },
      {
       "output_type": "stream",
       "stream": "stdout",
       "text": [
        " RDKit5-linear 0.835579657704 0.0 0.961521453342 0.0 0.976726797096 0.0\n",
        "RDKit5"
       ]
      },
      {
       "output_type": "stream",
       "stream": "stdout",
       "text": [
        " RDKit6 0.76825745223 0.0 0.919095827044 0.0 0.973877972295 0.0\n",
        "RDKit5"
       ]
      },
      {
       "output_type": "stream",
       "stream": "stdout",
       "text": [
        " RDKit6-linear 0.84541403269 0.0 0.965532908789 0.0 0.979700798764 0.0\n",
        "RDKit5"
       ]
      },
      {
       "output_type": "stream",
       "stream": "stdout",
       "text": [
        " RDKit7 0.469239087732 0.0 0.638304397421 0.0 0.834902910003 0.0\n",
        "RDKit5"
       ]
      },
      {
       "output_type": "stream",
       "stream": "stdout",
       "text": [
        " RDKit7-linear 0.837457516674 0.0 0.96176438514 0.0 0.975705677861 0.0\n",
        "RDKit5"
       ]
      },
      {
       "output_type": "stream",
       "stream": "stdout",
       "text": [
        " TT 0.39651677397 0.0 0.552479374888 0.0 0.741933048376 0.0\n",
        "RDKit5"
       ]
      },
      {
       "output_type": "stream",
       "stream": "stdout",
       "text": [
        " TT-bits 0.412059266472 0.0 0.570867074067 0.0 0.752223007687 0.0\n",
        "RDKit5-linear"
       ]
      },
      {
       "output_type": "stream",
       "stream": "stdout",
       "text": [
        " RDKit6 0.65508764646 0.0 0.833941651088 0.0 0.926669650933 0.0\n",
        "RDKit5-linear"
       ]
      },
      {
       "output_type": "stream",
       "stream": "stdout",
       "text": [
        " RDKit6-linear 0.916542013915 0.0 0.989995466933 0.0 0.993276624942 0.0\n",
        "RDKit5-linear"
       ]
      },
      {
       "output_type": "stream",
       "stream": "stdout",
       "text": [
        " RDKit7 0.378030374173 0.0 0.527051472901 0.0 0.760356609157 0.0\n",
        "RDKit5-linear"
       ]
      },
      {
       "output_type": "stream",
       "stream": "stdout",
       "text": [
        " RDKit7-linear 0.843383484426 0.0 0.964101272431 0.0 0.979175003523 0.0\n",
        "RDKit5-linear"
       ]
      },
      {
       "output_type": "stream",
       "stream": "stdout",
       "text": [
        " TT 0.371556108654 0.0 0.52179728662 0.0 0.695154431514 0.0\n",
        "RDKit5-linear"
       ]
      },
      {
       "output_type": "stream",
       "stream": "stdout",
       "text": [
        " TT-bits 0.384631916096 0.0 0.537502229134 0.0 0.70510664947 0.0\n",
        "RDKit6"
       ]
      },
      {
       "output_type": "stream",
       "stream": "stdout",
       "text": [
        " RDKit6-linear 0.692120242881 0.0 0.865414686712 0.0 0.94646097133 0.0\n",
        "RDKit6"
       ]
      },
      {
       "output_type": "stream",
       "stream": "stdout",
       "text": [
        " RDKit7 0.682857119065 0.0 0.861314942267 0.0 0.930538008874 0.0\n",
        "RDKit6"
       ]
      },
      {
       "output_type": "stream",
       "stream": "stdout",
       "text": [
        " RDKit7-linear 0.744897845935 0.0 0.906063001544 0.0 0.959449525015 0.0\n",
        "RDKit6"
       ]
      },
      {
       "output_type": "stream",
       "stream": "stdout",
       "text": [
        " TT 0.361253922959 0.0 0.507294327374 0.0 0.747534398428 0.0\n",
        "RDKit6"
       ]
      },
      {
       "output_type": "stream",
       "stream": "stdout",
       "text": [
        " TT-bits 0.38379407415 0.0 0.535487105733 0.0 0.760926359291 0.0\n",
        "RDKit6-linear"
       ]
      },
      {
       "output_type": "stream",
       "stream": "stdout",
       "text": [
        " RDKit7 0.411687276346 0.0 0.569643205022 0.0 0.794583137351 0.0\n",
        "RDKit6-linear"
       ]
      },
      {
       "output_type": "stream",
       "stream": "stdout",
       "text": [
        " RDKit7-linear 0.899412783064 0.0 0.984563565022 0.0 0.993657361913 0.0\n",
        "RDKit6-linear"
       ]
      },
      {
       "output_type": "stream",
       "stream": "stdout",
       "text": [
        " TT 0.381656819331 0.0 0.5340199863 0.0 0.717114629357 0.0\n",
        "RDKit6-linear"
       ]
      },
      {
       "output_type": "stream",
       "stream": "stdout",
       "text": [
        " TT-bits 0.395094541972 0.0 0.550109135936 0.0 0.726542432791 0.0\n",
        "RDKit7"
       ]
      },
      {
       "output_type": "stream",
       "stream": "stdout",
       "text": [
        " RDKit7-linear 0.475323296485 0.0 0.648287003494 0.0 0.830800405416 0.0\n",
        "RDKit7"
       ]
      },
      {
       "output_type": "stream",
       "stream": "stdout",
       "text": [
        " TT 0.249924191415 0.0 0.35970147042 0.0 0.646831082667 0.0\n",
        "RDKit7"
       ]
      },
      {
       "output_type": "stream",
       "stream": "stdout",
       "text": [
        " TT-bits 0.278318712703 0.0 0.398062678915 0.0 0.667784606268 0.0\n",
        "RDKit7-linear"
       ]
      },
      {
       "output_type": "stream",
       "stream": "stdout",
       "text": [
        " TT 0.380450869477 0.0 0.532140168014 0.0 0.727453379866 0.0\n",
        "RDKit7-linear"
       ]
      },
      {
       "output_type": "stream",
       "stream": "stdout",
       "text": [
        " TT-bits 0.396235772073 0.0 0.551325168891 0.0 0.737070620814 0.0\n",
        "TT"
       ]
      },
      {
       "output_type": "stream",
       "stream": "stdout",
       "text": [
        " TT-bits 0.856941711726 0.0 0.968507520711 0.0 0.980749030832 0.0\n"
       ]
      }
     ],
     "prompt_number": 82
    },
    {
     "cell_type": "code",
     "collapsed": false,
     "input": [
      "cPickle.dump((ks,kappas,spearmans,pearsons),gzip.open('../datachembl16_25K.pairs.sim_workup.pkl.gz','wb+'))"
     ],
     "language": "python",
     "metadata": {},
     "outputs": [],
     "prompt_number": 53
    },
    {
     "cell_type": "code",
     "collapsed": false,
     "input": [
      "(ks,kappas,spearmans,pearsons)=cPickle.load(gzip.open('chembl16_25K.pairs.sim_workup.pkl.gz','rb'))"
     ],
     "language": "python",
     "metadata": {},
     "outputs": [],
     "prompt_number": 54
    },
    {
     "cell_type": "code",
     "collapsed": false,
     "input": [
      "ks[0]"
     ],
     "language": "python",
     "metadata": {},
     "outputs": [
      {
       "metadata": {},
       "output_type": "pyout",
       "prompt_number": 3,
       "text": [
        "'AP'"
       ]
      }
     ],
     "prompt_number": 3
    },
    {
     "cell_type": "code",
     "collapsed": false,
     "input": [
      "ks[1]"
     ],
     "language": "python",
     "metadata": {},
     "outputs": [
      {
       "metadata": {},
       "output_type": "pyout",
       "prompt_number": 4,
       "text": [
        "'AP-bits'"
       ]
      }
     ],
     "prompt_number": 4
    },
    {
     "cell_type": "code",
     "collapsed": false,
     "input": [
      "rows=[]\n",
      "for k in kappas.keys():\n",
      "    rows.append([k[0],k[1],kappas[k],spearmans[k],pearsons[k]])\n",
      "    #rows.append([k[1],k[0],kappas[k],spearmans[k],pearsons[k]])\n",
      "\n",
      "df = pandas.DataFrame(data=rows,columns=['Sim1','Sim2','Tau','Spearman','Pearson'])\n",
      "df.sort(columns=('Sim1',),inplace=True)\n",
      "df.head()"
     ],
     "language": "python",
     "metadata": {},
     "outputs": [
      {
       "html": [
        "<div style=\"max-height:1000px;max-width:1500px;overflow:auto;\">\n",
        "<table border=\"1\" class=\"dataframe\">\n",
        "  <thead>\n",
        "    <tr style=\"text-align: right;\">\n",
        "      <th></th>\n",
        "      <th>Sim1</th>\n",
        "      <th>Sim2</th>\n",
        "      <th>Tau</th>\n",
        "      <th>Spearman</th>\n",
        "      <th>Pearson</th>\n",
        "    </tr>\n",
        "  </thead>\n",
        "  <tbody>\n",
        "    <tr>\n",
        "      <th>16</th>\n",
        "      <td> AP</td>\n",
        "      <td> MFP3-bits</td>\n",
        "      <td> 0.371669</td>\n",
        "      <td> 0.524035</td>\n",
        "      <td> 0.752549</td>\n",
        "    </tr>\n",
        "    <tr>\n",
        "      <th>26</th>\n",
        "      <td> AP</td>\n",
        "      <td>      MFP3</td>\n",
        "      <td> 0.371409</td>\n",
        "      <td> 0.523917</td>\n",
        "      <td> 0.753598</td>\n",
        "    </tr>\n",
        "    <tr>\n",
        "      <th>54</th>\n",
        "      <td> AP</td>\n",
        "      <td>   TT-bits</td>\n",
        "      <td> 0.474149</td>\n",
        "      <td> 0.650504</td>\n",
        "      <td> 0.782760</td>\n",
        "    </tr>\n",
        "    <tr>\n",
        "      <th>81</th>\n",
        "      <td> AP</td>\n",
        "      <td>  FeatMFP2</td>\n",
        "      <td> 0.360262</td>\n",
        "      <td> 0.508026</td>\n",
        "      <td> 0.695196</td>\n",
        "    </tr>\n",
        "    <tr>\n",
        "      <th>86</th>\n",
        "      <td> AP</td>\n",
        "      <td>      MFP1</td>\n",
        "      <td> 0.416702</td>\n",
        "      <td> 0.579992</td>\n",
        "      <td> 0.746307</td>\n",
        "    </tr>\n",
        "  </tbody>\n",
        "</table>\n",
        "</div>"
       ],
       "metadata": {},
       "output_type": "pyout",
       "prompt_number": 50,
       "text": [
        "   Sim1       Sim2       Tau  Spearman   Pearson\n",
        "16   AP  MFP3-bits  0.371669  0.524035  0.752549\n",
        "26   AP       MFP3  0.371409  0.523917  0.753598\n",
        "54   AP    TT-bits  0.474149  0.650504  0.782760\n",
        "81   AP   FeatMFP2  0.360262  0.508026  0.695196\n",
        "86   AP       MFP1  0.416702  0.579992  0.746307"
       ]
      }
     ],
     "prompt_number": 50
    },
    {
     "cell_type": "code",
     "collapsed": false,
     "input": [
      "from IPython.core.display import display,HTML,Javascript"
     ],
     "language": "python",
     "metadata": {},
     "outputs": [],
     "prompt_number": 51
    },
    {
     "cell_type": "code",
     "collapsed": false,
     "input": [
      "HTML(df.sort(columns=['Tau'],ascending=False).to_html(float_format=lambda x: '%4.3f' % x,\n",
      "    classes=\"table display\"))"
     ],
     "language": "python",
     "metadata": {},
     "outputs": [
      {
       "html": [
        "<table border=\"1\" class=\"dataframe table display\">\n",
        "  <thead>\n",
        "    <tr style=\"text-align: right;\">\n",
        "      <th></th>\n",
        "      <th>Sim1</th>\n",
        "      <th>Sim2</th>\n",
        "      <th>Tau</th>\n",
        "      <th>Spearman</th>\n",
        "      <th>Pearson</th>\n",
        "    </tr>\n",
        "  </thead>\n",
        "  <tbody>\n",
        "    <tr>\n",
        "      <th>80 </th>\n",
        "      <td>          MFP1</td>\n",
        "      <td>     MFP1-bits</td>\n",
        "      <td>0.953</td>\n",
        "      <td>0.992</td>\n",
        "      <td>0.996</td>\n",
        "    </tr>\n",
        "    <tr>\n",
        "      <th>141</th>\n",
        "      <td>          MFP0</td>\n",
        "      <td>     MFP0-bits</td>\n",
        "      <td>0.948</td>\n",
        "      <td>0.958</td>\n",
        "      <td>0.968</td>\n",
        "    </tr>\n",
        "    <tr>\n",
        "      <th>240</th>\n",
        "      <td>          MFP2</td>\n",
        "      <td>          MFP3</td>\n",
        "      <td>0.926</td>\n",
        "      <td>0.992</td>\n",
        "      <td>0.989</td>\n",
        "    </tr>\n",
        "    <tr>\n",
        "      <th>48 </th>\n",
        "      <td>          MFP2</td>\n",
        "      <td>     MFP2-bits</td>\n",
        "      <td>0.923</td>\n",
        "      <td>0.989</td>\n",
        "      <td>0.996</td>\n",
        "    </tr>\n",
        "    <tr>\n",
        "      <th>205</th>\n",
        "      <td>      FeatMFP2</td>\n",
        "      <td>      FeatMFP3</td>\n",
        "      <td>0.919</td>\n",
        "      <td>0.990</td>\n",
        "      <td>0.981</td>\n",
        "    </tr>\n",
        "    <tr>\n",
        "      <th>106</th>\n",
        "      <td> RDKit5-linear</td>\n",
        "      <td> RDKit6-linear</td>\n",
        "      <td>0.917</td>\n",
        "      <td>0.990</td>\n",
        "      <td>0.993</td>\n",
        "    </tr>\n",
        "    <tr>\n",
        "      <th>203</th>\n",
        "      <td> RDKit4-linear</td>\n",
        "      <td> RDKit5-linear</td>\n",
        "      <td>0.914</td>\n",
        "      <td>0.990</td>\n",
        "      <td>0.990</td>\n",
        "    </tr>\n",
        "    <tr>\n",
        "      <th>251</th>\n",
        "      <td> RDKit6-linear</td>\n",
        "      <td> RDKit7-linear</td>\n",
        "      <td>0.899</td>\n",
        "      <td>0.985</td>\n",
        "      <td>0.994</td>\n",
        "    </tr>\n",
        "    <tr>\n",
        "      <th>165</th>\n",
        "      <td>        RDKit4</td>\n",
        "      <td> RDKit4-linear</td>\n",
        "      <td>0.893</td>\n",
        "      <td>0.984</td>\n",
        "      <td>0.988</td>\n",
        "    </tr>\n",
        "    <tr>\n",
        "      <th>161</th>\n",
        "      <td>     MFP2-bits</td>\n",
        "      <td>     MFP3-bits</td>\n",
        "      <td>0.892</td>\n",
        "      <td>0.983</td>\n",
        "      <td>0.986</td>\n",
        "    </tr>\n",
        "    <tr>\n",
        "      <th>247</th>\n",
        "      <td>          MFP3</td>\n",
        "      <td>     MFP3-bits</td>\n",
        "      <td>0.887</td>\n",
        "      <td>0.979</td>\n",
        "      <td>0.996</td>\n",
        "    </tr>\n",
        "    <tr>\n",
        "      <th>242</th>\n",
        "      <td>     MFP2-bits</td>\n",
        "      <td>          MFP3</td>\n",
        "      <td>0.883</td>\n",
        "      <td>0.980</td>\n",
        "      <td>0.985</td>\n",
        "    </tr>\n",
        "    <tr>\n",
        "      <th>22 </th>\n",
        "      <td>        RDKit4</td>\n",
        "      <td> RDKit5-linear</td>\n",
        "      <td>0.877</td>\n",
        "      <td>0.978</td>\n",
        "      <td>0.985</td>\n",
        "    </tr>\n",
        "    <tr>\n",
        "      <th>329</th>\n",
        "      <td>        RDKit4</td>\n",
        "      <td>        RDKit5</td>\n",
        "      <td>0.871</td>\n",
        "      <td>0.976</td>\n",
        "      <td>0.983</td>\n",
        "    </tr>\n",
        "    <tr>\n",
        "      <th>224</th>\n",
        "      <td>          MFP2</td>\n",
        "      <td>     MFP3-bits</td>\n",
        "      <td>0.867</td>\n",
        "      <td>0.974</td>\n",
        "      <td>0.984</td>\n",
        "    </tr>\n",
        "    <tr>\n",
        "      <th>158</th>\n",
        "      <td>            TT</td>\n",
        "      <td>       TT-bits</td>\n",
        "      <td>0.857</td>\n",
        "      <td>0.969</td>\n",
        "      <td>0.981</td>\n",
        "    </tr>\n",
        "    <tr>\n",
        "      <th>109</th>\n",
        "      <td> RDKit4-linear</td>\n",
        "      <td> RDKit6-linear</td>\n",
        "      <td>0.856</td>\n",
        "      <td>0.971</td>\n",
        "      <td>0.973</td>\n",
        "    </tr>\n",
        "    <tr>\n",
        "      <th>152</th>\n",
        "      <td>        RDKit4</td>\n",
        "      <td> RDKit6-linear</td>\n",
        "      <td>0.847</td>\n",
        "      <td>0.967</td>\n",
        "      <td>0.973</td>\n",
        "    </tr>\n",
        "    <tr>\n",
        "      <th>70 </th>\n",
        "      <td>        RDKit5</td>\n",
        "      <td> RDKit6-linear</td>\n",
        "      <td>0.845</td>\n",
        "      <td>0.966</td>\n",
        "      <td>0.980</td>\n",
        "    </tr>\n",
        "    <tr>\n",
        "      <th>112</th>\n",
        "      <td> RDKit5-linear</td>\n",
        "      <td> RDKit7-linear</td>\n",
        "      <td>0.843</td>\n",
        "      <td>0.964</td>\n",
        "      <td>0.979</td>\n",
        "    </tr>\n",
        "    <tr>\n",
        "      <th>162</th>\n",
        "      <td>          MFP1</td>\n",
        "      <td>          MFP2</td>\n",
        "      <td>0.838</td>\n",
        "      <td>0.962</td>\n",
        "      <td>0.961</td>\n",
        "    </tr>\n",
        "    <tr>\n",
        "      <th>256</th>\n",
        "      <td>        RDKit5</td>\n",
        "      <td> RDKit7-linear</td>\n",
        "      <td>0.837</td>\n",
        "      <td>0.962</td>\n",
        "      <td>0.976</td>\n",
        "    </tr>\n",
        "    <tr>\n",
        "      <th>287</th>\n",
        "      <td>        RDKit5</td>\n",
        "      <td> RDKit5-linear</td>\n",
        "      <td>0.836</td>\n",
        "      <td>0.962</td>\n",
        "      <td>0.977</td>\n",
        "    </tr>\n",
        "    <tr>\n",
        "      <th>239</th>\n",
        "      <td>     MFP1-bits</td>\n",
        "      <td>          MFP2</td>\n",
        "      <td>0.823</td>\n",
        "      <td>0.955</td>\n",
        "      <td>0.958</td>\n",
        "    </tr>\n",
        "    <tr>\n",
        "      <th>129</th>\n",
        "      <td>     MFP1-bits</td>\n",
        "      <td>     MFP2-bits</td>\n",
        "      <td>0.819</td>\n",
        "      <td>0.953</td>\n",
        "      <td>0.958</td>\n",
        "    </tr>\n",
        "    <tr>\n",
        "      <th>12 </th>\n",
        "      <td>          MFP1</td>\n",
        "      <td>     MFP2-bits</td>\n",
        "      <td>0.813</td>\n",
        "      <td>0.950</td>\n",
        "      <td>0.957</td>\n",
        "    </tr>\n",
        "    <tr>\n",
        "      <th>315</th>\n",
        "      <td>      FeatMFP1</td>\n",
        "      <td>      FeatMFP2</td>\n",
        "      <td>0.805</td>\n",
        "      <td>0.947</td>\n",
        "      <td>0.937</td>\n",
        "    </tr>\n",
        "    <tr>\n",
        "      <th>271</th>\n",
        "      <td> RDKit4-linear</td>\n",
        "      <td>        RDKit5</td>\n",
        "      <td>0.804</td>\n",
        "      <td>0.947</td>\n",
        "      <td>0.960</td>\n",
        "    </tr>\n",
        "    <tr>\n",
        "      <th>105</th>\n",
        "      <td>   Avalon-1024</td>\n",
        "      <td>    Avalon-512</td>\n",
        "      <td>0.800</td>\n",
        "      <td>0.943</td>\n",
        "      <td>0.963</td>\n",
        "    </tr>\n",
        "    <tr>\n",
        "      <th>60 </th>\n",
        "      <td>        RDKit4</td>\n",
        "      <td> RDKit7-linear</td>\n",
        "      <td>0.800</td>\n",
        "      <td>0.943</td>\n",
        "      <td>0.958</td>\n",
        "    </tr>\n",
        "    <tr>\n",
        "      <th>309</th>\n",
        "      <td>          MFP1</td>\n",
        "      <td>          MFP3</td>\n",
        "      <td>0.793</td>\n",
        "      <td>0.939</td>\n",
        "      <td>0.923</td>\n",
        "    </tr>\n",
        "    <tr>\n",
        "      <th>110</th>\n",
        "      <td> RDKit4-linear</td>\n",
        "      <td> RDKit7-linear</td>\n",
        "      <td>0.792</td>\n",
        "      <td>0.940</td>\n",
        "      <td>0.952</td>\n",
        "    </tr>\n",
        "    <tr>\n",
        "      <th>45 </th>\n",
        "      <td>     MFP1-bits</td>\n",
        "      <td>          MFP3</td>\n",
        "      <td>0.780</td>\n",
        "      <td>0.931</td>\n",
        "      <td>0.920</td>\n",
        "    </tr>\n",
        "    <tr>\n",
        "      <th>156</th>\n",
        "      <td>        RDKit5</td>\n",
        "      <td>        RDKit6</td>\n",
        "      <td>0.768</td>\n",
        "      <td>0.919</td>\n",
        "      <td>0.974</td>\n",
        "    </tr>\n",
        "    <tr>\n",
        "      <th>57 </th>\n",
        "      <td>     MFP1-bits</td>\n",
        "      <td>     MFP3-bits</td>\n",
        "      <td>0.765</td>\n",
        "      <td>0.923</td>\n",
        "      <td>0.918</td>\n",
        "    </tr>\n",
        "    <tr>\n",
        "      <th>46 </th>\n",
        "      <td>          MFP1</td>\n",
        "      <td>     MFP3-bits</td>\n",
        "      <td>0.762</td>\n",
        "      <td>0.921</td>\n",
        "      <td>0.919</td>\n",
        "    </tr>\n",
        "    <tr>\n",
        "      <th>116</th>\n",
        "      <td>      FeatMFP1</td>\n",
        "      <td>      FeatMFP3</td>\n",
        "      <td>0.755</td>\n",
        "      <td>0.916</td>\n",
        "      <td>0.873</td>\n",
        "    </tr>\n",
        "    <tr>\n",
        "      <th>101</th>\n",
        "      <td>        RDKit6</td>\n",
        "      <td> RDKit7-linear</td>\n",
        "      <td>0.745</td>\n",
        "      <td>0.906</td>\n",
        "      <td>0.959</td>\n",
        "    </tr>\n",
        "    <tr>\n",
        "      <th>100</th>\n",
        "      <td>        RDKit6</td>\n",
        "      <td> RDKit6-linear</td>\n",
        "      <td>0.692</td>\n",
        "      <td>0.865</td>\n",
        "      <td>0.946</td>\n",
        "    </tr>\n",
        "    <tr>\n",
        "      <th>93 </th>\n",
        "      <td>            AP</td>\n",
        "      <td>       AP-bits</td>\n",
        "      <td>0.683</td>\n",
        "      <td>0.862</td>\n",
        "      <td>0.928</td>\n",
        "    </tr>\n",
        "    <tr>\n",
        "      <th>209</th>\n",
        "      <td>        RDKit6</td>\n",
        "      <td>        RDKit7</td>\n",
        "      <td>0.683</td>\n",
        "      <td>0.861</td>\n",
        "      <td>0.931</td>\n",
        "    </tr>\n",
        "    <tr>\n",
        "      <th>193</th>\n",
        "      <td>        RDKit4</td>\n",
        "      <td>        RDKit6</td>\n",
        "      <td>0.672</td>\n",
        "      <td>0.848</td>\n",
        "      <td>0.928</td>\n",
        "    </tr>\n",
        "    <tr>\n",
        "      <th>148</th>\n",
        "      <td> RDKit5-linear</td>\n",
        "      <td>        RDKit6</td>\n",
        "      <td>0.655</td>\n",
        "      <td>0.834</td>\n",
        "      <td>0.927</td>\n",
        "    </tr>\n",
        "    <tr>\n",
        "      <th>77 </th>\n",
        "      <td> RDKit4-linear</td>\n",
        "      <td>        RDKit6</td>\n",
        "      <td>0.624</td>\n",
        "      <td>0.807</td>\n",
        "      <td>0.894</td>\n",
        "    </tr>\n",
        "    <tr>\n",
        "      <th>325</th>\n",
        "      <td>      FeatMFP3</td>\n",
        "      <td>          MFP3</td>\n",
        "      <td>0.620</td>\n",
        "      <td>0.804</td>\n",
        "      <td>0.902</td>\n",
        "    </tr>\n",
        "    <tr>\n",
        "      <th>91 </th>\n",
        "      <td>          MFP1</td>\n",
        "      <td>            TT</td>\n",
        "      <td>0.618</td>\n",
        "      <td>0.802</td>\n",
        "      <td>0.871</td>\n",
        "    </tr>\n",
        "    <tr>\n",
        "      <th>33 </th>\n",
        "      <td>     MFP1-bits</td>\n",
        "      <td>            TT</td>\n",
        "      <td>0.615</td>\n",
        "      <td>0.799</td>\n",
        "      <td>0.868</td>\n",
        "    </tr>\n",
        "    <tr>\n",
        "      <th>88 </th>\n",
        "      <td>      FeatMFP3</td>\n",
        "      <td>          MFP2</td>\n",
        "      <td>0.608</td>\n",
        "      <td>0.791</td>\n",
        "      <td>0.897</td>\n",
        "    </tr>\n",
        "    <tr>\n",
        "      <th>252</th>\n",
        "      <td>          MFP2</td>\n",
        "      <td>            TT</td>\n",
        "      <td>0.605</td>\n",
        "      <td>0.789</td>\n",
        "      <td>0.893</td>\n",
        "    </tr>\n",
        "    <tr>\n",
        "      <th>300</th>\n",
        "      <td>      FeatMFP3</td>\n",
        "      <td>     MFP3-bits</td>\n",
        "      <td>0.604</td>\n",
        "      <td>0.788</td>\n",
        "      <td>0.897</td>\n",
        "    </tr>\n",
        "    <tr>\n",
        "      <th>89 </th>\n",
        "      <td>     MFP2-bits</td>\n",
        "      <td>            TT</td>\n",
        "      <td>0.600</td>\n",
        "      <td>0.784</td>\n",
        "      <td>0.890</td>\n",
        "    </tr>\n",
        "    <tr>\n",
        "      <th>184</th>\n",
        "      <td>      FeatMFP3</td>\n",
        "      <td>     MFP2-bits</td>\n",
        "      <td>0.598</td>\n",
        "      <td>0.782</td>\n",
        "      <td>0.893</td>\n",
        "    </tr>\n",
        "    <tr>\n",
        "      <th>291</th>\n",
        "      <td>      FeatMFP2</td>\n",
        "      <td>          MFP2</td>\n",
        "      <td>0.583</td>\n",
        "      <td>0.768</td>\n",
        "      <td>0.852</td>\n",
        "    </tr>\n",
        "    <tr>\n",
        "      <th>142</th>\n",
        "      <td>      FeatMFP2</td>\n",
        "      <td>          MFP3</td>\n",
        "      <td>0.582</td>\n",
        "      <td>0.768</td>\n",
        "      <td>0.836</td>\n",
        "    </tr>\n",
        "    <tr>\n",
        "      <th>344</th>\n",
        "      <td>          MFP1</td>\n",
        "      <td>       TT-bits</td>\n",
        "      <td>0.582</td>\n",
        "      <td>0.767</td>\n",
        "      <td>0.851</td>\n",
        "    </tr>\n",
        "    <tr>\n",
        "      <th>2  </th>\n",
        "      <td>     MFP1-bits</td>\n",
        "      <td>       TT-bits</td>\n",
        "      <td>0.579</td>\n",
        "      <td>0.764</td>\n",
        "      <td>0.849</td>\n",
        "    </tr>\n",
        "    <tr>\n",
        "      <th>283</th>\n",
        "      <td>      FeatMFP3</td>\n",
        "      <td>          MFP1</td>\n",
        "      <td>0.574</td>\n",
        "      <td>0.759</td>\n",
        "      <td>0.850</td>\n",
        "    </tr>\n",
        "    <tr>\n",
        "      <th>222</th>\n",
        "      <td>          MFP3</td>\n",
        "      <td>            TT</td>\n",
        "      <td>0.574</td>\n",
        "      <td>0.758</td>\n",
        "      <td>0.876</td>\n",
        "    </tr>\n",
        "    <tr>\n",
        "      <th>28 </th>\n",
        "      <td>      FeatMFP2</td>\n",
        "      <td>     MFP2-bits</td>\n",
        "      <td>0.574</td>\n",
        "      <td>0.759</td>\n",
        "      <td>0.848</td>\n",
        "    </tr>\n",
        "    <tr>\n",
        "      <th>95 </th>\n",
        "      <td>      FeatMFP2</td>\n",
        "      <td>          MFP1</td>\n",
        "      <td>0.570</td>\n",
        "      <td>0.754</td>\n",
        "      <td>0.838</td>\n",
        "    </tr>\n",
        "    <tr>\n",
        "      <th>335</th>\n",
        "      <td>      FeatMFP3</td>\n",
        "      <td>     MFP1-bits</td>\n",
        "      <td>0.569</td>\n",
        "      <td>0.754</td>\n",
        "      <td>0.847</td>\n",
        "    </tr>\n",
        "    <tr>\n",
        "      <th>154</th>\n",
        "      <td>      FeatMFP2</td>\n",
        "      <td>     MFP3-bits</td>\n",
        "      <td>0.569</td>\n",
        "      <td>0.754</td>\n",
        "      <td>0.832</td>\n",
        "    </tr>\n",
        "    <tr>\n",
        "      <th>284</th>\n",
        "      <td>          MFP2</td>\n",
        "      <td>       TT-bits</td>\n",
        "      <td>0.567</td>\n",
        "      <td>0.751</td>\n",
        "      <td>0.872</td>\n",
        "    </tr>\n",
        "    <tr>\n",
        "      <th>262</th>\n",
        "      <td>     MFP3-bits</td>\n",
        "      <td>            TT</td>\n",
        "      <td>0.567</td>\n",
        "      <td>0.750</td>\n",
        "      <td>0.873</td>\n",
        "    </tr>\n",
        "    <tr>\n",
        "      <th>13 </th>\n",
        "      <td>      FeatMFP2</td>\n",
        "      <td>     MFP1-bits</td>\n",
        "      <td>0.565</td>\n",
        "      <td>0.750</td>\n",
        "      <td>0.835</td>\n",
        "    </tr>\n",
        "    <tr>\n",
        "      <th>49 </th>\n",
        "      <td>     MFP2-bits</td>\n",
        "      <td>       TT-bits</td>\n",
        "      <td>0.563</td>\n",
        "      <td>0.746</td>\n",
        "      <td>0.870</td>\n",
        "    </tr>\n",
        "    <tr>\n",
        "      <th>265</th>\n",
        "      <td>      FeatMFP0</td>\n",
        "      <td>      FeatMFP1</td>\n",
        "      <td>0.553</td>\n",
        "      <td>0.737</td>\n",
        "      <td>0.770</td>\n",
        "    </tr>\n",
        "    <tr>\n",
        "      <th>97 </th>\n",
        "      <td>    Avalon-512</td>\n",
        "      <td>        RDKit7</td>\n",
        "      <td>0.541</td>\n",
        "      <td>0.723</td>\n",
        "      <td>0.821</td>\n",
        "    </tr>\n",
        "    <tr>\n",
        "      <th>121</th>\n",
        "      <td>          MFP3</td>\n",
        "      <td>       TT-bits</td>\n",
        "      <td>0.536</td>\n",
        "      <td>0.718</td>\n",
        "      <td>0.855</td>\n",
        "    </tr>\n",
        "    <tr>\n",
        "      <th>155</th>\n",
        "      <td>     MFP3-bits</td>\n",
        "      <td>       TT-bits</td>\n",
        "      <td>0.531</td>\n",
        "      <td>0.712</td>\n",
        "      <td>0.853</td>\n",
        "    </tr>\n",
        "    <tr>\n",
        "      <th>143</th>\n",
        "      <td>   Avalon-1024</td>\n",
        "      <td>        RDKit6</td>\n",
        "      <td>0.516</td>\n",
        "      <td>0.694</td>\n",
        "      <td>0.850</td>\n",
        "    </tr>\n",
        "    <tr>\n",
        "      <th>245</th>\n",
        "      <td>    Avalon-512</td>\n",
        "      <td>        RDKit6</td>\n",
        "      <td>0.486</td>\n",
        "      <td>0.663</td>\n",
        "      <td>0.795</td>\n",
        "    </tr>\n",
        "    <tr>\n",
        "      <th>348</th>\n",
        "      <td>            AP</td>\n",
        "      <td>            TT</td>\n",
        "      <td>0.484</td>\n",
        "      <td>0.662</td>\n",
        "      <td>0.788</td>\n",
        "    </tr>\n",
        "    <tr>\n",
        "      <th>10 </th>\n",
        "      <td>      FeatMFP1</td>\n",
        "      <td>          MFP1</td>\n",
        "      <td>0.482</td>\n",
        "      <td>0.658</td>\n",
        "      <td>0.718</td>\n",
        "    </tr>\n",
        "    <tr>\n",
        "      <th>83 </th>\n",
        "      <td>      FeatMFP2</td>\n",
        "      <td>        RDKit5</td>\n",
        "      <td>0.479</td>\n",
        "      <td>0.655</td>\n",
        "      <td>0.774</td>\n",
        "    </tr>\n",
        "    <tr>\n",
        "      <th>71 </th>\n",
        "      <td>      FeatMFP1</td>\n",
        "      <td>     MFP1-bits</td>\n",
        "      <td>0.478</td>\n",
        "      <td>0.653</td>\n",
        "      <td>0.715</td>\n",
        "    </tr>\n",
        "    <tr>\n",
        "      <th>276</th>\n",
        "      <td>      FeatMFP2</td>\n",
        "      <td>        RDKit4</td>\n",
        "      <td>0.477</td>\n",
        "      <td>0.654</td>\n",
        "      <td>0.760</td>\n",
        "    </tr>\n",
        "    <tr>\n",
        "      <th>303</th>\n",
        "      <td>        RDKit7</td>\n",
        "      <td> RDKit7-linear</td>\n",
        "      <td>0.475</td>\n",
        "      <td>0.648</td>\n",
        "      <td>0.831</td>\n",
        "    </tr>\n",
        "    <tr>\n",
        "      <th>54 </th>\n",
        "      <td>            AP</td>\n",
        "      <td>       TT-bits</td>\n",
        "      <td>0.474</td>\n",
        "      <td>0.651</td>\n",
        "      <td>0.783</td>\n",
        "    </tr>\n",
        "    <tr>\n",
        "      <th>11 </th>\n",
        "      <td>      FeatMFP3</td>\n",
        "      <td>        RDKit5</td>\n",
        "      <td>0.473</td>\n",
        "      <td>0.646</td>\n",
        "      <td>0.788</td>\n",
        "    </tr>\n",
        "    <tr>\n",
        "      <th>257</th>\n",
        "      <td>   Avalon-1024</td>\n",
        "      <td>         MACCS</td>\n",
        "      <td>0.473</td>\n",
        "      <td>0.650</td>\n",
        "      <td>0.697</td>\n",
        "    </tr>\n",
        "    <tr>\n",
        "      <th>231</th>\n",
        "      <td>      FeatMFP2</td>\n",
        "      <td> RDKit6-linear</td>\n",
        "      <td>0.472</td>\n",
        "      <td>0.648</td>\n",
        "      <td>0.766</td>\n",
        "    </tr>\n",
        "    <tr>\n",
        "      <th>250</th>\n",
        "      <td>      FeatMFP3</td>\n",
        "      <td>        RDKit4</td>\n",
        "      <td>0.471</td>\n",
        "      <td>0.646</td>\n",
        "      <td>0.763</td>\n",
        "    </tr>\n",
        "    <tr>\n",
        "      <th>304</th>\n",
        "      <td>        RDKit5</td>\n",
        "      <td>        RDKit7</td>\n",
        "      <td>0.469</td>\n",
        "      <td>0.638</td>\n",
        "      <td>0.835</td>\n",
        "    </tr>\n",
        "    <tr>\n",
        "      <th>126</th>\n",
        "      <td>   Avalon-1024</td>\n",
        "      <td>        RDKit5</td>\n",
        "      <td>0.468</td>\n",
        "      <td>0.641</td>\n",
        "      <td>0.824</td>\n",
        "    </tr>\n",
        "    <tr>\n",
        "      <th>195</th>\n",
        "      <td>      FeatMFP3</td>\n",
        "      <td> RDKit6-linear</td>\n",
        "      <td>0.468</td>\n",
        "      <td>0.642</td>\n",
        "      <td>0.782</td>\n",
        "    </tr>\n",
        "    <tr>\n",
        "      <th>69 </th>\n",
        "      <td>      FeatMFP2</td>\n",
        "      <td> RDKit5-linear</td>\n",
        "      <td>0.467</td>\n",
        "      <td>0.642</td>\n",
        "      <td>0.756</td>\n",
        "    </tr>\n",
        "    <tr>\n",
        "      <th>290</th>\n",
        "      <td>      FeatMFP1</td>\n",
        "      <td>        RDKit4</td>\n",
        "      <td>0.467</td>\n",
        "      <td>0.643</td>\n",
        "      <td>0.699</td>\n",
        "    </tr>\n",
        "    <tr>\n",
        "      <th>305</th>\n",
        "      <td>   Avalon-1024</td>\n",
        "      <td>        RDKit7</td>\n",
        "      <td>0.466</td>\n",
        "      <td>0.637</td>\n",
        "      <td>0.798</td>\n",
        "    </tr>\n",
        "    <tr>\n",
        "      <th>318</th>\n",
        "      <td>      FeatMFP3</td>\n",
        "      <td> RDKit5-linear</td>\n",
        "      <td>0.463</td>\n",
        "      <td>0.637</td>\n",
        "      <td>0.766</td>\n",
        "    </tr>\n",
        "    <tr>\n",
        "      <th>228</th>\n",
        "      <td>      FeatMFP2</td>\n",
        "      <td> RDKit7-linear</td>\n",
        "      <td>0.462</td>\n",
        "      <td>0.635</td>\n",
        "      <td>0.764</td>\n",
        "    </tr>\n",
        "    <tr>\n",
        "      <th>173</th>\n",
        "      <td>      FeatMFP1</td>\n",
        "      <td>        RDKit5</td>\n",
        "      <td>0.461</td>\n",
        "      <td>0.636</td>\n",
        "      <td>0.689</td>\n",
        "    </tr>\n",
        "    <tr>\n",
        "      <th>263</th>\n",
        "      <td>      FeatMFP1</td>\n",
        "      <td>          MFP2</td>\n",
        "      <td>0.459</td>\n",
        "      <td>0.633</td>\n",
        "      <td>0.685</td>\n",
        "    </tr>\n",
        "    <tr>\n",
        "      <th>134</th>\n",
        "      <td>      FeatMFP2</td>\n",
        "      <td>            TT</td>\n",
        "      <td>0.458</td>\n",
        "      <td>0.629</td>\n",
        "      <td>0.766</td>\n",
        "    </tr>\n",
        "    <tr>\n",
        "      <th>337</th>\n",
        "      <td>      FeatMFP1</td>\n",
        "      <td> RDKit6-linear</td>\n",
        "      <td>0.458</td>\n",
        "      <td>0.632</td>\n",
        "      <td>0.685</td>\n",
        "    </tr>\n",
        "    <tr>\n",
        "      <th>39 </th>\n",
        "      <td>      FeatMFP3</td>\n",
        "      <td> RDKit7-linear</td>\n",
        "      <td>0.457</td>\n",
        "      <td>0.628</td>\n",
        "      <td>0.787</td>\n",
        "    </tr>\n",
        "    <tr>\n",
        "      <th>153</th>\n",
        "      <td>      FeatMFP1</td>\n",
        "      <td> RDKit5-linear</td>\n",
        "      <td>0.457</td>\n",
        "      <td>0.631</td>\n",
        "      <td>0.687</td>\n",
        "    </tr>\n",
        "    <tr>\n",
        "      <th>194</th>\n",
        "      <td>   Avalon-1024</td>\n",
        "      <td> RDKit7-linear</td>\n",
        "      <td>0.455</td>\n",
        "      <td>0.625</td>\n",
        "      <td>0.808</td>\n",
        "    </tr>\n",
        "    <tr>\n",
        "      <th>320</th>\n",
        "      <td>      FeatMFP3</td>\n",
        "      <td>            TT</td>\n",
        "      <td>0.454</td>\n",
        "      <td>0.624</td>\n",
        "      <td>0.799</td>\n",
        "    </tr>\n",
        "    <tr>\n",
        "      <th>68 </th>\n",
        "      <td>      FeatMFP1</td>\n",
        "      <td>          MFP3</td>\n",
        "      <td>0.454</td>\n",
        "      <td>0.628</td>\n",
        "      <td>0.659</td>\n",
        "    </tr>\n",
        "    <tr>\n",
        "      <th>302</th>\n",
        "      <td>      FeatMFP2</td>\n",
        "      <td> RDKit4-linear</td>\n",
        "      <td>0.453</td>\n",
        "      <td>0.627</td>\n",
        "      <td>0.735</td>\n",
        "    </tr>\n",
        "    <tr>\n",
        "      <th>159</th>\n",
        "      <td>    Avalon-512</td>\n",
        "      <td>         MACCS</td>\n",
        "      <td>0.453</td>\n",
        "      <td>0.627</td>\n",
        "      <td>0.684</td>\n",
        "    </tr>\n",
        "    <tr>\n",
        "      <th>213</th>\n",
        "      <td>      FeatMFP1</td>\n",
        "      <td>     MFP2-bits</td>\n",
        "      <td>0.452</td>\n",
        "      <td>0.625</td>\n",
        "      <td>0.681</td>\n",
        "    </tr>\n",
        "    <tr>\n",
        "      <th>197</th>\n",
        "      <td>      FeatMFP3</td>\n",
        "      <td> RDKit4-linear</td>\n",
        "      <td>0.449</td>\n",
        "      <td>0.621</td>\n",
        "      <td>0.738</td>\n",
        "    </tr>\n",
        "    <tr>\n",
        "      <th>140</th>\n",
        "      <td>      FeatMFP1</td>\n",
        "      <td> RDKit4-linear</td>\n",
        "      <td>0.449</td>\n",
        "      <td>0.623</td>\n",
        "      <td>0.684</td>\n",
        "    </tr>\n",
        "    <tr>\n",
        "      <th>55 </th>\n",
        "      <td>      FeatMFP1</td>\n",
        "      <td>     MFP3-bits</td>\n",
        "      <td>0.445</td>\n",
        "      <td>0.617</td>\n",
        "      <td>0.656</td>\n",
        "    </tr>\n",
        "    <tr>\n",
        "      <th>332</th>\n",
        "      <td>      FeatMFP1</td>\n",
        "      <td> RDKit7-linear</td>\n",
        "      <td>0.444</td>\n",
        "      <td>0.616</td>\n",
        "      <td>0.673</td>\n",
        "    </tr>\n",
        "    <tr>\n",
        "      <th>14 </th>\n",
        "      <td>      FeatMFP0</td>\n",
        "      <td>      FeatMFP2</td>\n",
        "      <td>0.443</td>\n",
        "      <td>0.614</td>\n",
        "      <td>0.622</td>\n",
        "    </tr>\n",
        "    <tr>\n",
        "      <th>114</th>\n",
        "      <td>         MACCS</td>\n",
        "      <td>        RDKit6</td>\n",
        "      <td>0.439</td>\n",
        "      <td>0.609</td>\n",
        "      <td>0.659</td>\n",
        "    </tr>\n",
        "    <tr>\n",
        "      <th>295</th>\n",
        "      <td>      FeatMFP2</td>\n",
        "      <td>       TT-bits</td>\n",
        "      <td>0.438</td>\n",
        "      <td>0.605</td>\n",
        "      <td>0.753</td>\n",
        "    </tr>\n",
        "    <tr>\n",
        "      <th>113</th>\n",
        "      <td>   Avalon-1024</td>\n",
        "      <td> RDKit6-linear</td>\n",
        "      <td>0.433</td>\n",
        "      <td>0.599</td>\n",
        "      <td>0.794</td>\n",
        "    </tr>\n",
        "    <tr>\n",
        "      <th>310</th>\n",
        "      <td>   Avalon-1024</td>\n",
        "      <td>        RDKit4</td>\n",
        "      <td>0.432</td>\n",
        "      <td>0.599</td>\n",
        "      <td>0.781</td>\n",
        "    </tr>\n",
        "    <tr>\n",
        "      <th>266</th>\n",
        "      <td>      FeatMFP3</td>\n",
        "      <td>       TT-bits</td>\n",
        "      <td>0.432</td>\n",
        "      <td>0.597</td>\n",
        "      <td>0.785</td>\n",
        "    </tr>\n",
        "    <tr>\n",
        "      <th>297</th>\n",
        "      <td>       AP-bits</td>\n",
        "      <td>       TT-bits</td>\n",
        "      <td>0.425</td>\n",
        "      <td>0.590</td>\n",
        "      <td>0.741</td>\n",
        "    </tr>\n",
        "    <tr>\n",
        "      <th>25 </th>\n",
        "      <td>         MACCS</td>\n",
        "      <td>        RDKit5</td>\n",
        "      <td>0.424</td>\n",
        "      <td>0.591</td>\n",
        "      <td>0.658</td>\n",
        "    </tr>\n",
        "    <tr>\n",
        "      <th>74 </th>\n",
        "      <td>   Avalon-1024</td>\n",
        "      <td> RDKit5-linear</td>\n",
        "      <td>0.420</td>\n",
        "      <td>0.584</td>\n",
        "      <td>0.776</td>\n",
        "    </tr>\n",
        "    <tr>\n",
        "      <th>166</th>\n",
        "      <td>         MACCS</td>\n",
        "      <td>        RDKit4</td>\n",
        "      <td>0.417</td>\n",
        "      <td>0.583</td>\n",
        "      <td>0.659</td>\n",
        "    </tr>\n",
        "    <tr>\n",
        "      <th>210</th>\n",
        "      <td>      FeatMFP0</td>\n",
        "      <td>      FeatMFP3</td>\n",
        "      <td>0.417</td>\n",
        "      <td>0.583</td>\n",
        "      <td>0.554</td>\n",
        "    </tr>\n",
        "    <tr>\n",
        "      <th>86 </th>\n",
        "      <td>            AP</td>\n",
        "      <td>          MFP1</td>\n",
        "      <td>0.417</td>\n",
        "      <td>0.580</td>\n",
        "      <td>0.746</td>\n",
        "    </tr>\n",
        "    <tr>\n",
        "      <th>151</th>\n",
        "      <td>            AP</td>\n",
        "      <td>     MFP1-bits</td>\n",
        "      <td>0.416</td>\n",
        "      <td>0.579</td>\n",
        "      <td>0.745</td>\n",
        "    </tr>\n",
        "    <tr>\n",
        "      <th>167</th>\n",
        "      <td>       AP-bits</td>\n",
        "      <td>            TT</td>\n",
        "      <td>0.413</td>\n",
        "      <td>0.575</td>\n",
        "      <td>0.729</td>\n",
        "    </tr>\n",
        "    <tr>\n",
        "      <th>66 </th>\n",
        "      <td>        RDKit5</td>\n",
        "      <td>       TT-bits</td>\n",
        "      <td>0.412</td>\n",
        "      <td>0.571</td>\n",
        "      <td>0.752</td>\n",
        "    </tr>\n",
        "    <tr>\n",
        "      <th>189</th>\n",
        "      <td> RDKit6-linear</td>\n",
        "      <td>        RDKit7</td>\n",
        "      <td>0.412</td>\n",
        "      <td>0.570</td>\n",
        "      <td>0.795</td>\n",
        "    </tr>\n",
        "    <tr>\n",
        "      <th>349</th>\n",
        "      <td>   Avalon-1024</td>\n",
        "      <td> RDKit4-linear</td>\n",
        "      <td>0.410</td>\n",
        "      <td>0.573</td>\n",
        "      <td>0.749</td>\n",
        "    </tr>\n",
        "    <tr>\n",
        "      <th>330</th>\n",
        "      <td>      FeatMFP2</td>\n",
        "      <td>        RDKit6</td>\n",
        "      <td>0.410</td>\n",
        "      <td>0.569</td>\n",
        "      <td>0.742</td>\n",
        "    </tr>\n",
        "    <tr>\n",
        "      <th>319</th>\n",
        "      <td>         MACCS</td>\n",
        "      <td> RDKit4-linear</td>\n",
        "      <td>0.410</td>\n",
        "      <td>0.575</td>\n",
        "      <td>0.649</td>\n",
        "    </tr>\n",
        "    <tr>\n",
        "      <th>260</th>\n",
        "      <td>         MACCS</td>\n",
        "      <td> RDKit7-linear</td>\n",
        "      <td>0.408</td>\n",
        "      <td>0.571</td>\n",
        "      <td>0.634</td>\n",
        "    </tr>\n",
        "    <tr>\n",
        "      <th>78 </th>\n",
        "      <td>         MACCS</td>\n",
        "      <td> RDKit5-linear</td>\n",
        "      <td>0.402</td>\n",
        "      <td>0.565</td>\n",
        "      <td>0.641</td>\n",
        "    </tr>\n",
        "    <tr>\n",
        "      <th>84 </th>\n",
        "      <td>         MACCS</td>\n",
        "      <td> RDKit6-linear</td>\n",
        "      <td>0.401</td>\n",
        "      <td>0.563</td>\n",
        "      <td>0.636</td>\n",
        "    </tr>\n",
        "    <tr>\n",
        "      <th>99 </th>\n",
        "      <td>      FeatMFP3</td>\n",
        "      <td>        RDKit6</td>\n",
        "      <td>0.401</td>\n",
        "      <td>0.557</td>\n",
        "      <td>0.767</td>\n",
        "    </tr>\n",
        "    <tr>\n",
        "      <th>169</th>\n",
        "      <td>            AP</td>\n",
        "      <td>          MFP2</td>\n",
        "      <td>0.398</td>\n",
        "      <td>0.557</td>\n",
        "      <td>0.761</td>\n",
        "    </tr>\n",
        "    <tr>\n",
        "      <th>164</th>\n",
        "      <td>            AP</td>\n",
        "      <td>     MFP2-bits</td>\n",
        "      <td>0.397</td>\n",
        "      <td>0.556</td>\n",
        "      <td>0.760</td>\n",
        "    </tr>\n",
        "    <tr>\n",
        "      <th>191</th>\n",
        "      <td>        RDKit5</td>\n",
        "      <td>            TT</td>\n",
        "      <td>0.397</td>\n",
        "      <td>0.552</td>\n",
        "      <td>0.742</td>\n",
        "    </tr>\n",
        "    <tr>\n",
        "      <th>199</th>\n",
        "      <td> RDKit7-linear</td>\n",
        "      <td>       TT-bits</td>\n",
        "      <td>0.396</td>\n",
        "      <td>0.551</td>\n",
        "      <td>0.737</td>\n",
        "    </tr>\n",
        "    <tr>\n",
        "      <th>296</th>\n",
        "      <td> RDKit6-linear</td>\n",
        "      <td>       TT-bits</td>\n",
        "      <td>0.395</td>\n",
        "      <td>0.550</td>\n",
        "      <td>0.727</td>\n",
        "    </tr>\n",
        "    <tr>\n",
        "      <th>249</th>\n",
        "      <td>        RDKit4</td>\n",
        "      <td>       TT-bits</td>\n",
        "      <td>0.391</td>\n",
        "      <td>0.546</td>\n",
        "      <td>0.705</td>\n",
        "    </tr>\n",
        "    <tr>\n",
        "      <th>29 </th>\n",
        "      <td>      FeatMFP1</td>\n",
        "      <td>        RDKit6</td>\n",
        "      <td>0.390</td>\n",
        "      <td>0.547</td>\n",
        "      <td>0.642</td>\n",
        "    </tr>\n",
        "    <tr>\n",
        "      <th>53 </th>\n",
        "      <td>        RDKit4</td>\n",
        "      <td>        RDKit7</td>\n",
        "      <td>0.389</td>\n",
        "      <td>0.540</td>\n",
        "      <td>0.759</td>\n",
        "    </tr>\n",
        "    <tr>\n",
        "      <th>311</th>\n",
        "      <td>         MACCS</td>\n",
        "      <td>        RDKit7</td>\n",
        "      <td>0.387</td>\n",
        "      <td>0.545</td>\n",
        "      <td>0.620</td>\n",
        "    </tr>\n",
        "    <tr>\n",
        "      <th>200</th>\n",
        "      <td>       AP-bits</td>\n",
        "      <td>        RDKit6</td>\n",
        "      <td>0.386</td>\n",
        "      <td>0.539</td>\n",
        "      <td>0.696</td>\n",
        "    </tr>\n",
        "    <tr>\n",
        "      <th>202</th>\n",
        "      <td> RDKit5-linear</td>\n",
        "      <td>       TT-bits</td>\n",
        "      <td>0.385</td>\n",
        "      <td>0.538</td>\n",
        "      <td>0.705</td>\n",
        "    </tr>\n",
        "    <tr>\n",
        "      <th>230</th>\n",
        "      <td>        RDKit6</td>\n",
        "      <td>       TT-bits</td>\n",
        "      <td>0.384</td>\n",
        "      <td>0.535</td>\n",
        "      <td>0.761</td>\n",
        "    </tr>\n",
        "    <tr>\n",
        "      <th>102</th>\n",
        "      <td> RDKit6-linear</td>\n",
        "      <td>            TT</td>\n",
        "      <td>0.382</td>\n",
        "      <td>0.534</td>\n",
        "      <td>0.717</td>\n",
        "    </tr>\n",
        "    <tr>\n",
        "      <th>198</th>\n",
        "      <td> RDKit7-linear</td>\n",
        "      <td>            TT</td>\n",
        "      <td>0.380</td>\n",
        "      <td>0.532</td>\n",
        "      <td>0.727</td>\n",
        "    </tr>\n",
        "    <tr>\n",
        "      <th>282</th>\n",
        "      <td>    Avalon-512</td>\n",
        "      <td>        RDKit5</td>\n",
        "      <td>0.380</td>\n",
        "      <td>0.533</td>\n",
        "      <td>0.734</td>\n",
        "    </tr>\n",
        "    <tr>\n",
        "      <th>342</th>\n",
        "      <td>          MFP1</td>\n",
        "      <td>        RDKit4</td>\n",
        "      <td>0.378</td>\n",
        "      <td>0.533</td>\n",
        "      <td>0.674</td>\n",
        "    </tr>\n",
        "    <tr>\n",
        "      <th>40 </th>\n",
        "      <td>        RDKit4</td>\n",
        "      <td>            TT</td>\n",
        "      <td>0.378</td>\n",
        "      <td>0.530</td>\n",
        "      <td>0.695</td>\n",
        "    </tr>\n",
        "    <tr>\n",
        "      <th>5  </th>\n",
        "      <td> RDKit5-linear</td>\n",
        "      <td>        RDKit7</td>\n",
        "      <td>0.378</td>\n",
        "      <td>0.527</td>\n",
        "      <td>0.760</td>\n",
        "    </tr>\n",
        "    <tr>\n",
        "      <th>188</th>\n",
        "      <td>      FeatMFP1</td>\n",
        "      <td>            TT</td>\n",
        "      <td>0.378</td>\n",
        "      <td>0.531</td>\n",
        "      <td>0.614</td>\n",
        "    </tr>\n",
        "    <tr>\n",
        "      <th>187</th>\n",
        "      <td>          MFP1</td>\n",
        "      <td>        RDKit5</td>\n",
        "      <td>0.377</td>\n",
        "      <td>0.530</td>\n",
        "      <td>0.695</td>\n",
        "    </tr>\n",
        "    <tr>\n",
        "      <th>227</th>\n",
        "      <td>    Avalon-512</td>\n",
        "      <td> RDKit7-linear</td>\n",
        "      <td>0.376</td>\n",
        "      <td>0.528</td>\n",
        "      <td>0.720</td>\n",
        "    </tr>\n",
        "    <tr>\n",
        "      <th>135</th>\n",
        "      <td>          MFP1</td>\n",
        "      <td> RDKit6-linear</td>\n",
        "      <td>0.375</td>\n",
        "      <td>0.528</td>\n",
        "      <td>0.685</td>\n",
        "    </tr>\n",
        "    <tr>\n",
        "      <th>217</th>\n",
        "      <td>          MFP1</td>\n",
        "      <td> RDKit5-linear</td>\n",
        "      <td>0.373</td>\n",
        "      <td>0.526</td>\n",
        "      <td>0.673</td>\n",
        "    </tr>\n",
        "    <tr>\n",
        "      <th>328</th>\n",
        "      <td>     MFP1-bits</td>\n",
        "      <td>        RDKit4</td>\n",
        "      <td>0.372</td>\n",
        "      <td>0.525</td>\n",
        "      <td>0.668</td>\n",
        "    </tr>\n",
        "    <tr>\n",
        "      <th>178</th>\n",
        "      <td>     MFP1-bits</td>\n",
        "      <td>        RDKit5</td>\n",
        "      <td>0.372</td>\n",
        "      <td>0.524</td>\n",
        "      <td>0.691</td>\n",
        "    </tr>\n",
        "    <tr>\n",
        "      <th>16 </th>\n",
        "      <td>            AP</td>\n",
        "      <td>     MFP3-bits</td>\n",
        "      <td>0.372</td>\n",
        "      <td>0.524</td>\n",
        "      <td>0.753</td>\n",
        "    </tr>\n",
        "    <tr>\n",
        "      <th>146</th>\n",
        "      <td> RDKit5-linear</td>\n",
        "      <td>            TT</td>\n",
        "      <td>0.372</td>\n",
        "      <td>0.522</td>\n",
        "      <td>0.695</td>\n",
        "    </tr>\n",
        "    <tr>\n",
        "      <th>26 </th>\n",
        "      <td>            AP</td>\n",
        "      <td>          MFP3</td>\n",
        "      <td>0.371</td>\n",
        "      <td>0.524</td>\n",
        "      <td>0.754</td>\n",
        "    </tr>\n",
        "    <tr>\n",
        "      <th>346</th>\n",
        "      <td>     MFP1-bits</td>\n",
        "      <td> RDKit6-linear</td>\n",
        "      <td>0.369</td>\n",
        "      <td>0.521</td>\n",
        "      <td>0.681</td>\n",
        "    </tr>\n",
        "    <tr>\n",
        "      <th>347</th>\n",
        "      <td>          MFP2</td>\n",
        "      <td>        RDKit5</td>\n",
        "      <td>0.368</td>\n",
        "      <td>0.519</td>\n",
        "      <td>0.730</td>\n",
        "    </tr>\n",
        "    <tr>\n",
        "      <th>30 </th>\n",
        "      <td>     MFP1-bits</td>\n",
        "      <td> RDKit5-linear</td>\n",
        "      <td>0.367</td>\n",
        "      <td>0.518</td>\n",
        "      <td>0.668</td>\n",
        "    </tr>\n",
        "    <tr>\n",
        "      <th>275</th>\n",
        "      <td>      FeatMFP1</td>\n",
        "      <td>       TT-bits</td>\n",
        "      <td>0.366</td>\n",
        "      <td>0.516</td>\n",
        "      <td>0.607</td>\n",
        "    </tr>\n",
        "    <tr>\n",
        "      <th>288</th>\n",
        "      <td>          MFP2</td>\n",
        "      <td> RDKit6-linear</td>\n",
        "      <td>0.366</td>\n",
        "      <td>0.516</td>\n",
        "      <td>0.721</td>\n",
        "    </tr>\n",
        "    <tr>\n",
        "      <th>192</th>\n",
        "      <td>          MFP2</td>\n",
        "      <td>        RDKit4</td>\n",
        "      <td>0.366</td>\n",
        "      <td>0.517</td>\n",
        "      <td>0.694</td>\n",
        "    </tr>\n",
        "    <tr>\n",
        "      <th>323</th>\n",
        "      <td>          MFP3</td>\n",
        "      <td>        RDKit5</td>\n",
        "      <td>0.366</td>\n",
        "      <td>0.516</td>\n",
        "      <td>0.732</td>\n",
        "    </tr>\n",
        "    <tr>\n",
        "      <th>123</th>\n",
        "      <td>          MFP3</td>\n",
        "      <td>        RDKit4</td>\n",
        "      <td>0.365</td>\n",
        "      <td>0.516</td>\n",
        "      <td>0.691</td>\n",
        "    </tr>\n",
        "    <tr>\n",
        "      <th>65 </th>\n",
        "      <td>     MFP2-bits</td>\n",
        "      <td>        RDKit5</td>\n",
        "      <td>0.365</td>\n",
        "      <td>0.515</td>\n",
        "      <td>0.727</td>\n",
        "    </tr>\n",
        "    <tr>\n",
        "      <th>32 </th>\n",
        "      <td>          MFP3</td>\n",
        "      <td> RDKit6-linear</td>\n",
        "      <td>0.365</td>\n",
        "      <td>0.515</td>\n",
        "      <td>0.725</td>\n",
        "    </tr>\n",
        "    <tr>\n",
        "      <th>292</th>\n",
        "      <td>     MFP3-bits</td>\n",
        "      <td>        RDKit5</td>\n",
        "      <td>0.364</td>\n",
        "      <td>0.513</td>\n",
        "      <td>0.729</td>\n",
        "    </tr>\n",
        "    <tr>\n",
        "      <th>259</th>\n",
        "      <td> RDKit4-linear</td>\n",
        "      <td>       TT-bits</td>\n",
        "      <td>0.363</td>\n",
        "      <td>0.511</td>\n",
        "      <td>0.667</td>\n",
        "    </tr>\n",
        "    <tr>\n",
        "      <th>186</th>\n",
        "      <td>       AP-bits</td>\n",
        "      <td> RDKit7-linear</td>\n",
        "      <td>0.363</td>\n",
        "      <td>0.511</td>\n",
        "      <td>0.679</td>\n",
        "    </tr>\n",
        "    <tr>\n",
        "      <th>108</th>\n",
        "      <td>          MFP1</td>\n",
        "      <td> RDKit7-linear</td>\n",
        "      <td>0.362</td>\n",
        "      <td>0.511</td>\n",
        "      <td>0.686</td>\n",
        "    </tr>\n",
        "    <tr>\n",
        "      <th>76 </th>\n",
        "      <td>          MFP3</td>\n",
        "      <td> RDKit5-linear</td>\n",
        "      <td>0.362</td>\n",
        "      <td>0.512</td>\n",
        "      <td>0.702</td>\n",
        "    </tr>\n",
        "    <tr>\n",
        "      <th>341</th>\n",
        "      <td>          MFP2</td>\n",
        "      <td> RDKit5-linear</td>\n",
        "      <td>0.362</td>\n",
        "      <td>0.511</td>\n",
        "      <td>0.701</td>\n",
        "    </tr>\n",
        "    <tr>\n",
        "      <th>246</th>\n",
        "      <td>     MFP2-bits</td>\n",
        "      <td> RDKit6-linear</td>\n",
        "      <td>0.362</td>\n",
        "      <td>0.510</td>\n",
        "      <td>0.718</td>\n",
        "    </tr>\n",
        "    <tr>\n",
        "      <th>235</th>\n",
        "      <td>        RDKit6</td>\n",
        "      <td>            TT</td>\n",
        "      <td>0.361</td>\n",
        "      <td>0.507</td>\n",
        "      <td>0.748</td>\n",
        "    </tr>\n",
        "    <tr>\n",
        "      <th>1  </th>\n",
        "      <td>     MFP3-bits</td>\n",
        "      <td> RDKit6-linear</td>\n",
        "      <td>0.361</td>\n",
        "      <td>0.510</td>\n",
        "      <td>0.722</td>\n",
        "    </tr>\n",
        "    <tr>\n",
        "      <th>3  </th>\n",
        "      <td>       AP-bits</td>\n",
        "      <td>        RDKit7</td>\n",
        "      <td>0.361</td>\n",
        "      <td>0.508</td>\n",
        "      <td>0.663</td>\n",
        "    </tr>\n",
        "    <tr>\n",
        "      <th>261</th>\n",
        "      <td>     MFP2-bits</td>\n",
        "      <td>        RDKit4</td>\n",
        "      <td>0.361</td>\n",
        "      <td>0.510</td>\n",
        "      <td>0.690</td>\n",
        "    </tr>\n",
        "    <tr>\n",
        "      <th>81 </th>\n",
        "      <td>            AP</td>\n",
        "      <td>      FeatMFP2</td>\n",
        "      <td>0.360</td>\n",
        "      <td>0.508</td>\n",
        "      <td>0.695</td>\n",
        "    </tr>\n",
        "    <tr>\n",
        "      <th>52 </th>\n",
        "      <td>          MFP1</td>\n",
        "      <td> RDKit4-linear</td>\n",
        "      <td>0.360</td>\n",
        "      <td>0.509</td>\n",
        "      <td>0.646</td>\n",
        "    </tr>\n",
        "    <tr>\n",
        "      <th>96 </th>\n",
        "      <td>     MFP3-bits</td>\n",
        "      <td>        RDKit4</td>\n",
        "      <td>0.359</td>\n",
        "      <td>0.508</td>\n",
        "      <td>0.687</td>\n",
        "    </tr>\n",
        "    <tr>\n",
        "      <th>322</th>\n",
        "      <td>       AP-bits</td>\n",
        "      <td>     MFP1-bits</td>\n",
        "      <td>0.358</td>\n",
        "      <td>0.504</td>\n",
        "      <td>0.689</td>\n",
        "    </tr>\n",
        "    <tr>\n",
        "      <th>294</th>\n",
        "      <td>       AP-bits</td>\n",
        "      <td>        RDKit5</td>\n",
        "      <td>0.358</td>\n",
        "      <td>0.504</td>\n",
        "      <td>0.670</td>\n",
        "    </tr>\n",
        "    <tr>\n",
        "      <th>313</th>\n",
        "      <td>     MFP1-bits</td>\n",
        "      <td> RDKit7-linear</td>\n",
        "      <td>0.357</td>\n",
        "      <td>0.506</td>\n",
        "      <td>0.682</td>\n",
        "    </tr>\n",
        "    <tr>\n",
        "      <th>299</th>\n",
        "      <td>       AP-bits</td>\n",
        "      <td>          MFP1</td>\n",
        "      <td>0.357</td>\n",
        "      <td>0.503</td>\n",
        "      <td>0.690</td>\n",
        "    </tr>\n",
        "    <tr>\n",
        "      <th>298</th>\n",
        "      <td>     MFP2-bits</td>\n",
        "      <td> RDKit5-linear</td>\n",
        "      <td>0.357</td>\n",
        "      <td>0.504</td>\n",
        "      <td>0.697</td>\n",
        "    </tr>\n",
        "    <tr>\n",
        "      <th>215</th>\n",
        "      <td> RDKit4-linear</td>\n",
        "      <td>        RDKit7</td>\n",
        "      <td>0.357</td>\n",
        "      <td>0.501</td>\n",
        "      <td>0.718</td>\n",
        "    </tr>\n",
        "    <tr>\n",
        "      <th>204</th>\n",
        "      <td>          MFP2</td>\n",
        "      <td> RDKit7-linear</td>\n",
        "      <td>0.356</td>\n",
        "      <td>0.503</td>\n",
        "      <td>0.729</td>\n",
        "    </tr>\n",
        "    <tr>\n",
        "      <th>41 </th>\n",
        "      <td>     MFP3-bits</td>\n",
        "      <td> RDKit5-linear</td>\n",
        "      <td>0.356</td>\n",
        "      <td>0.504</td>\n",
        "      <td>0.698</td>\n",
        "    </tr>\n",
        "    <tr>\n",
        "      <th>6  </th>\n",
        "      <td>          MFP3</td>\n",
        "      <td> RDKit7-linear</td>\n",
        "      <td>0.354</td>\n",
        "      <td>0.500</td>\n",
        "      <td>0.737</td>\n",
        "    </tr>\n",
        "    <tr>\n",
        "      <th>136</th>\n",
        "      <td>     MFP2-bits</td>\n",
        "      <td> RDKit7-linear</td>\n",
        "      <td>0.354</td>\n",
        "      <td>0.500</td>\n",
        "      <td>0.727</td>\n",
        "    </tr>\n",
        "    <tr>\n",
        "      <th>255</th>\n",
        "      <td>     MFP1-bits</td>\n",
        "      <td> RDKit4-linear</td>\n",
        "      <td>0.354</td>\n",
        "      <td>0.501</td>\n",
        "      <td>0.640</td>\n",
        "    </tr>\n",
        "    <tr>\n",
        "      <th>314</th>\n",
        "      <td>     MFP3-bits</td>\n",
        "      <td> RDKit7-linear</td>\n",
        "      <td>0.353</td>\n",
        "      <td>0.499</td>\n",
        "      <td>0.735</td>\n",
        "    </tr>\n",
        "    <tr>\n",
        "      <th>73 </th>\n",
        "      <td> RDKit4-linear</td>\n",
        "      <td>            TT</td>\n",
        "      <td>0.350</td>\n",
        "      <td>0.495</td>\n",
        "      <td>0.656</td>\n",
        "    </tr>\n",
        "    <tr>\n",
        "      <th>293</th>\n",
        "      <td>          MFP3</td>\n",
        "      <td> RDKit4-linear</td>\n",
        "      <td>0.349</td>\n",
        "      <td>0.495</td>\n",
        "      <td>0.663</td>\n",
        "    </tr>\n",
        "    <tr>\n",
        "      <th>270</th>\n",
        "      <td>          MFP2</td>\n",
        "      <td> RDKit4-linear</td>\n",
        "      <td>0.348</td>\n",
        "      <td>0.493</td>\n",
        "      <td>0.665</td>\n",
        "    </tr>\n",
        "    <tr>\n",
        "      <th>58 </th>\n",
        "      <td>       AP-bits</td>\n",
        "      <td>     MFP2-bits</td>\n",
        "      <td>0.346</td>\n",
        "      <td>0.490</td>\n",
        "      <td>0.708</td>\n",
        "    </tr>\n",
        "    <tr>\n",
        "      <th>274</th>\n",
        "      <td>            AP</td>\n",
        "      <td>      FeatMFP3</td>\n",
        "      <td>0.346</td>\n",
        "      <td>0.489</td>\n",
        "      <td>0.720</td>\n",
        "    </tr>\n",
        "    <tr>\n",
        "      <th>42 </th>\n",
        "      <td>       AP-bits</td>\n",
        "      <td>      FeatMFP2</td>\n",
        "      <td>0.345</td>\n",
        "      <td>0.487</td>\n",
        "      <td>0.671</td>\n",
        "    </tr>\n",
        "    <tr>\n",
        "      <th>103</th>\n",
        "      <td>       AP-bits</td>\n",
        "      <td> RDKit6-linear</td>\n",
        "      <td>0.343</td>\n",
        "      <td>0.485</td>\n",
        "      <td>0.659</td>\n",
        "    </tr>\n",
        "    <tr>\n",
        "      <th>149</th>\n",
        "      <td>       AP-bits</td>\n",
        "      <td>          MFP2</td>\n",
        "      <td>0.342</td>\n",
        "      <td>0.485</td>\n",
        "      <td>0.707</td>\n",
        "    </tr>\n",
        "    <tr>\n",
        "      <th>157</th>\n",
        "      <td>     MFP2-bits</td>\n",
        "      <td> RDKit4-linear</td>\n",
        "      <td>0.342</td>\n",
        "      <td>0.486</td>\n",
        "      <td>0.660</td>\n",
        "    </tr>\n",
        "    <tr>\n",
        "      <th>182</th>\n",
        "      <td>     MFP3-bits</td>\n",
        "      <td> RDKit4-linear</td>\n",
        "      <td>0.342</td>\n",
        "      <td>0.486</td>\n",
        "      <td>0.659</td>\n",
        "    </tr>\n",
        "    <tr>\n",
        "      <th>345</th>\n",
        "      <td>    Avalon-512</td>\n",
        "      <td> RDKit6-linear</td>\n",
        "      <td>0.339</td>\n",
        "      <td>0.481</td>\n",
        "      <td>0.696</td>\n",
        "    </tr>\n",
        "    <tr>\n",
        "      <th>144</th>\n",
        "      <td>       AP-bits</td>\n",
        "      <td>        RDKit4</td>\n",
        "      <td>0.333</td>\n",
        "      <td>0.473</td>\n",
        "      <td>0.635</td>\n",
        "    </tr>\n",
        "    <tr>\n",
        "      <th>115</th>\n",
        "      <td>    Avalon-512</td>\n",
        "      <td>        RDKit4</td>\n",
        "      <td>0.333</td>\n",
        "      <td>0.473</td>\n",
        "      <td>0.679</td>\n",
        "    </tr>\n",
        "    <tr>\n",
        "      <th>18 </th>\n",
        "      <td>       AP-bits</td>\n",
        "      <td>     MFP3-bits</td>\n",
        "      <td>0.330</td>\n",
        "      <td>0.469</td>\n",
        "      <td>0.705</td>\n",
        "    </tr>\n",
        "    <tr>\n",
        "      <th>75 </th>\n",
        "      <td>       AP-bits</td>\n",
        "      <td> RDKit5-linear</td>\n",
        "      <td>0.329</td>\n",
        "      <td>0.468</td>\n",
        "      <td>0.639</td>\n",
        "    </tr>\n",
        "    <tr>\n",
        "      <th>234</th>\n",
        "      <td>       AP-bits</td>\n",
        "      <td>      FeatMFP3</td>\n",
        "      <td>0.328</td>\n",
        "      <td>0.465</td>\n",
        "      <td>0.688</td>\n",
        "    </tr>\n",
        "    <tr>\n",
        "      <th>324</th>\n",
        "      <td>            AP</td>\n",
        "      <td>      FeatMFP1</td>\n",
        "      <td>0.327</td>\n",
        "      <td>0.465</td>\n",
        "      <td>0.588</td>\n",
        "    </tr>\n",
        "    <tr>\n",
        "      <th>181</th>\n",
        "      <td>       AP-bits</td>\n",
        "      <td>      FeatMFP1</td>\n",
        "      <td>0.326</td>\n",
        "      <td>0.463</td>\n",
        "      <td>0.584</td>\n",
        "    </tr>\n",
        "    <tr>\n",
        "      <th>279</th>\n",
        "      <td>    Avalon-512</td>\n",
        "      <td> RDKit5-linear</td>\n",
        "      <td>0.322</td>\n",
        "      <td>0.458</td>\n",
        "      <td>0.673</td>\n",
        "    </tr>\n",
        "    <tr>\n",
        "      <th>8  </th>\n",
        "      <td>       AP-bits</td>\n",
        "      <td>          MFP3</td>\n",
        "      <td>0.320</td>\n",
        "      <td>0.455</td>\n",
        "      <td>0.701</td>\n",
        "    </tr>\n",
        "    <tr>\n",
        "      <th>214</th>\n",
        "      <td>       AP-bits</td>\n",
        "      <td> RDKit4-linear</td>\n",
        "      <td>0.316</td>\n",
        "      <td>0.450</td>\n",
        "      <td>0.610</td>\n",
        "    </tr>\n",
        "    <tr>\n",
        "      <th>321</th>\n",
        "      <td>            AP</td>\n",
        "      <td> RDKit7-linear</td>\n",
        "      <td>0.315</td>\n",
        "      <td>0.448</td>\n",
        "      <td>0.672</td>\n",
        "    </tr>\n",
        "    <tr>\n",
        "      <th>206</th>\n",
        "      <td>     MFP2-bits</td>\n",
        "      <td>        RDKit6</td>\n",
        "      <td>0.315</td>\n",
        "      <td>0.448</td>\n",
        "      <td>0.720</td>\n",
        "    </tr>\n",
        "    <tr>\n",
        "      <th>43 </th>\n",
        "      <td>     MFP3-bits</td>\n",
        "      <td>        RDKit6</td>\n",
        "      <td>0.314</td>\n",
        "      <td>0.446</td>\n",
        "      <td>0.729</td>\n",
        "    </tr>\n",
        "    <tr>\n",
        "      <th>248</th>\n",
        "      <td>          MFP2</td>\n",
        "      <td>        RDKit6</td>\n",
        "      <td>0.312</td>\n",
        "      <td>0.445</td>\n",
        "      <td>0.721</td>\n",
        "    </tr>\n",
        "    <tr>\n",
        "      <th>343</th>\n",
        "      <td>    Avalon-512</td>\n",
        "      <td> RDKit4-linear</td>\n",
        "      <td>0.312</td>\n",
        "      <td>0.446</td>\n",
        "      <td>0.644</td>\n",
        "    </tr>\n",
        "    <tr>\n",
        "      <th>47 </th>\n",
        "      <td>          MFP1</td>\n",
        "      <td>        RDKit6</td>\n",
        "      <td>0.312</td>\n",
        "      <td>0.445</td>\n",
        "      <td>0.671</td>\n",
        "    </tr>\n",
        "    <tr>\n",
        "      <th>37 </th>\n",
        "      <td>     MFP1-bits</td>\n",
        "      <td>        RDKit6</td>\n",
        "      <td>0.309</td>\n",
        "      <td>0.441</td>\n",
        "      <td>0.667</td>\n",
        "    </tr>\n",
        "    <tr>\n",
        "      <th>118</th>\n",
        "      <td>   Avalon-1024</td>\n",
        "      <td>       TT-bits</td>\n",
        "      <td>0.308</td>\n",
        "      <td>0.439</td>\n",
        "      <td>0.693</td>\n",
        "    </tr>\n",
        "    <tr>\n",
        "      <th>180</th>\n",
        "      <td>            AP</td>\n",
        "      <td> RDKit6-linear</td>\n",
        "      <td>0.308</td>\n",
        "      <td>0.439</td>\n",
        "      <td>0.656</td>\n",
        "    </tr>\n",
        "    <tr>\n",
        "      <th>130</th>\n",
        "      <td>            AP</td>\n",
        "      <td>        RDKit5</td>\n",
        "      <td>0.308</td>\n",
        "      <td>0.439</td>\n",
        "      <td>0.656</td>\n",
        "    </tr>\n",
        "    <tr>\n",
        "      <th>79 </th>\n",
        "      <td>          MFP3</td>\n",
        "      <td>        RDKit6</td>\n",
        "      <td>0.306</td>\n",
        "      <td>0.437</td>\n",
        "      <td>0.729</td>\n",
        "    </tr>\n",
        "    <tr>\n",
        "      <th>281</th>\n",
        "      <td>            AP</td>\n",
        "      <td>        RDKit6</td>\n",
        "      <td>0.299</td>\n",
        "      <td>0.426</td>\n",
        "      <td>0.663</td>\n",
        "    </tr>\n",
        "    <tr>\n",
        "      <th>333</th>\n",
        "      <td>            AP</td>\n",
        "      <td>        RDKit4</td>\n",
        "      <td>0.299</td>\n",
        "      <td>0.428</td>\n",
        "      <td>0.623</td>\n",
        "    </tr>\n",
        "    <tr>\n",
        "      <th>278</th>\n",
        "      <td>            AP</td>\n",
        "      <td> RDKit5-linear</td>\n",
        "      <td>0.298</td>\n",
        "      <td>0.427</td>\n",
        "      <td>0.634</td>\n",
        "    </tr>\n",
        "    <tr>\n",
        "      <th>236</th>\n",
        "      <td>       AP-bits</td>\n",
        "      <td>   Avalon-1024</td>\n",
        "      <td>0.296</td>\n",
        "      <td>0.425</td>\n",
        "      <td>0.620</td>\n",
        "    </tr>\n",
        "    <tr>\n",
        "      <th>168</th>\n",
        "      <td>   Avalon-1024</td>\n",
        "      <td>      FeatMFP2</td>\n",
        "      <td>0.296</td>\n",
        "      <td>0.425</td>\n",
        "      <td>0.653</td>\n",
        "    </tr>\n",
        "    <tr>\n",
        "      <th>338</th>\n",
        "      <td>   Avalon-1024</td>\n",
        "      <td>            TT</td>\n",
        "      <td>0.293</td>\n",
        "      <td>0.420</td>\n",
        "      <td>0.683</td>\n",
        "    </tr>\n",
        "    <tr>\n",
        "      <th>94 </th>\n",
        "      <td>   Avalon-1024</td>\n",
        "      <td>      FeatMFP3</td>\n",
        "      <td>0.291</td>\n",
        "      <td>0.418</td>\n",
        "      <td>0.679</td>\n",
        "    </tr>\n",
        "    <tr>\n",
        "      <th>190</th>\n",
        "      <td>   Avalon-1024</td>\n",
        "      <td>      FeatMFP1</td>\n",
        "      <td>0.291</td>\n",
        "      <td>0.420</td>\n",
        "      <td>0.563</td>\n",
        "    </tr>\n",
        "    <tr>\n",
        "      <th>170</th>\n",
        "      <td>       AP-bits</td>\n",
        "      <td>         MACCS</td>\n",
        "      <td>0.289</td>\n",
        "      <td>0.417</td>\n",
        "      <td>0.517</td>\n",
        "    </tr>\n",
        "    <tr>\n",
        "      <th>289</th>\n",
        "      <td>            AP</td>\n",
        "      <td> RDKit4-linear</td>\n",
        "      <td>0.284</td>\n",
        "      <td>0.409</td>\n",
        "      <td>0.599</td>\n",
        "    </tr>\n",
        "    <tr>\n",
        "      <th>122</th>\n",
        "      <td>       AP-bits</td>\n",
        "      <td>    Avalon-512</td>\n",
        "      <td>0.279</td>\n",
        "      <td>0.402</td>\n",
        "      <td>0.574</td>\n",
        "    </tr>\n",
        "    <tr>\n",
        "      <th>56 </th>\n",
        "      <td>        RDKit7</td>\n",
        "      <td>       TT-bits</td>\n",
        "      <td>0.278</td>\n",
        "      <td>0.398</td>\n",
        "      <td>0.668</td>\n",
        "    </tr>\n",
        "    <tr>\n",
        "      <th>171</th>\n",
        "      <td>      FeatMFP0</td>\n",
        "      <td>        RDKit4</td>\n",
        "      <td>0.269</td>\n",
        "      <td>0.386</td>\n",
        "      <td>0.422</td>\n",
        "    </tr>\n",
        "    <tr>\n",
        "      <th>111</th>\n",
        "      <td>      FeatMFP0</td>\n",
        "      <td> RDKit4-linear</td>\n",
        "      <td>0.266</td>\n",
        "      <td>0.383</td>\n",
        "      <td>0.423</td>\n",
        "    </tr>\n",
        "    <tr>\n",
        "      <th>82 </th>\n",
        "      <td>      FeatMFP0</td>\n",
        "      <td> RDKit5-linear</td>\n",
        "      <td>0.265</td>\n",
        "      <td>0.382</td>\n",
        "      <td>0.413</td>\n",
        "    </tr>\n",
        "    <tr>\n",
        "      <th>163</th>\n",
        "      <td>      FeatMFP0</td>\n",
        "      <td> RDKit6-linear</td>\n",
        "      <td>0.264</td>\n",
        "      <td>0.380</td>\n",
        "      <td>0.405</td>\n",
        "    </tr>\n",
        "    <tr>\n",
        "      <th>316</th>\n",
        "      <td>      FeatMFP0</td>\n",
        "      <td>        RDKit5</td>\n",
        "      <td>0.263</td>\n",
        "      <td>0.379</td>\n",
        "      <td>0.405</td>\n",
        "    </tr>\n",
        "    <tr>\n",
        "      <th>85 </th>\n",
        "      <td>   Avalon-1024</td>\n",
        "      <td>          MFP1</td>\n",
        "      <td>0.261</td>\n",
        "      <td>0.377</td>\n",
        "      <td>0.615</td>\n",
        "    </tr>\n",
        "    <tr>\n",
        "      <th>34 </th>\n",
        "      <td>      FeatMFP1</td>\n",
        "      <td>         MACCS</td>\n",
        "      <td>0.260</td>\n",
        "      <td>0.377</td>\n",
        "      <td>0.462</td>\n",
        "    </tr>\n",
        "    <tr>\n",
        "      <th>120</th>\n",
        "      <td>     MFP0-bits</td>\n",
        "      <td>     MFP1-bits</td>\n",
        "      <td>0.260</td>\n",
        "      <td>0.372</td>\n",
        "      <td>0.600</td>\n",
        "    </tr>\n",
        "    <tr>\n",
        "      <th>317</th>\n",
        "      <td>   Avalon-1024</td>\n",
        "      <td>     MFP1-bits</td>\n",
        "      <td>0.259</td>\n",
        "      <td>0.375</td>\n",
        "      <td>0.613</td>\n",
        "    </tr>\n",
        "    <tr>\n",
        "      <th>174</th>\n",
        "      <td>   Avalon-1024</td>\n",
        "      <td>     MFP2-bits</td>\n",
        "      <td>0.257</td>\n",
        "      <td>0.372</td>\n",
        "      <td>0.656</td>\n",
        "    </tr>\n",
        "    <tr>\n",
        "      <th>179</th>\n",
        "      <td>      FeatMFP0</td>\n",
        "      <td> RDKit7-linear</td>\n",
        "      <td>0.257</td>\n",
        "      <td>0.370</td>\n",
        "      <td>0.395</td>\n",
        "    </tr>\n",
        "    <tr>\n",
        "      <th>331</th>\n",
        "      <td>   Avalon-1024</td>\n",
        "      <td>          MFP2</td>\n",
        "      <td>0.257</td>\n",
        "      <td>0.371</td>\n",
        "      <td>0.658</td>\n",
        "    </tr>\n",
        "    <tr>\n",
        "      <th>286</th>\n",
        "      <td>          MFP0</td>\n",
        "      <td>          MFP1</td>\n",
        "      <td>0.255</td>\n",
        "      <td>0.365</td>\n",
        "      <td>0.605</td>\n",
        "    </tr>\n",
        "    <tr>\n",
        "      <th>254</th>\n",
        "      <td>          MFP0</td>\n",
        "      <td>     MFP1-bits</td>\n",
        "      <td>0.255</td>\n",
        "      <td>0.365</td>\n",
        "      <td>0.603</td>\n",
        "    </tr>\n",
        "    <tr>\n",
        "      <th>139</th>\n",
        "      <td>   Avalon-1024</td>\n",
        "      <td>     MFP3-bits</td>\n",
        "      <td>0.255</td>\n",
        "      <td>0.369</td>\n",
        "      <td>0.662</td>\n",
        "    </tr>\n",
        "    <tr>\n",
        "      <th>150</th>\n",
        "      <td>     MFP0-bits</td>\n",
        "      <td>          MFP1</td>\n",
        "      <td>0.253</td>\n",
        "      <td>0.362</td>\n",
        "      <td>0.593</td>\n",
        "    </tr>\n",
        "    <tr>\n",
        "      <th>4  </th>\n",
        "      <td>      FeatMFP2</td>\n",
        "      <td>         MACCS</td>\n",
        "      <td>0.253</td>\n",
        "      <td>0.367</td>\n",
        "      <td>0.492</td>\n",
        "    </tr>\n",
        "    <tr>\n",
        "      <th>128</th>\n",
        "      <td>   Avalon-1024</td>\n",
        "      <td>          MFP3</td>\n",
        "      <td>0.251</td>\n",
        "      <td>0.363</td>\n",
        "      <td>0.663</td>\n",
        "    </tr>\n",
        "    <tr>\n",
        "      <th>273</th>\n",
        "      <td>        RDKit7</td>\n",
        "      <td>            TT</td>\n",
        "      <td>0.250</td>\n",
        "      <td>0.360</td>\n",
        "      <td>0.647</td>\n",
        "    </tr>\n",
        "    <tr>\n",
        "      <th>241</th>\n",
        "      <td>      FeatMFP3</td>\n",
        "      <td>         MACCS</td>\n",
        "      <td>0.248</td>\n",
        "      <td>0.361</td>\n",
        "      <td>0.496</td>\n",
        "    </tr>\n",
        "    <tr>\n",
        "      <th>138</th>\n",
        "      <td>            AP</td>\n",
        "      <td>   Avalon-1024</td>\n",
        "      <td>0.248</td>\n",
        "      <td>0.360</td>\n",
        "      <td>0.599</td>\n",
        "    </tr>\n",
        "    <tr>\n",
        "      <th>212</th>\n",
        "      <td>    Avalon-512</td>\n",
        "      <td>       TT-bits</td>\n",
        "      <td>0.245</td>\n",
        "      <td>0.354</td>\n",
        "      <td>0.604</td>\n",
        "    </tr>\n",
        "    <tr>\n",
        "      <th>87 </th>\n",
        "      <td>            AP</td>\n",
        "      <td>        RDKit7</td>\n",
        "      <td>0.244</td>\n",
        "      <td>0.352</td>\n",
        "      <td>0.589</td>\n",
        "    </tr>\n",
        "    <tr>\n",
        "      <th>183</th>\n",
        "      <td>         MACCS</td>\n",
        "      <td>          MFP1</td>\n",
        "      <td>0.243</td>\n",
        "      <td>0.354</td>\n",
        "      <td>0.481</td>\n",
        "    </tr>\n",
        "    <tr>\n",
        "      <th>19 </th>\n",
        "      <td>         MACCS</td>\n",
        "      <td>       TT-bits</td>\n",
        "      <td>0.243</td>\n",
        "      <td>0.354</td>\n",
        "      <td>0.490</td>\n",
        "    </tr>\n",
        "    <tr>\n",
        "      <th>127</th>\n",
        "      <td>      FeatMFP2</td>\n",
        "      <td>        RDKit7</td>\n",
        "      <td>0.240</td>\n",
        "      <td>0.347</td>\n",
        "      <td>0.594</td>\n",
        "    </tr>\n",
        "    <tr>\n",
        "      <th>160</th>\n",
        "      <td>         MACCS</td>\n",
        "      <td>     MFP1-bits</td>\n",
        "      <td>0.239</td>\n",
        "      <td>0.348</td>\n",
        "      <td>0.476</td>\n",
        "    </tr>\n",
        "    <tr>\n",
        "      <th>301</th>\n",
        "      <td>      FeatMFP3</td>\n",
        "      <td>        RDKit7</td>\n",
        "      <td>0.230</td>\n",
        "      <td>0.332</td>\n",
        "      <td>0.626</td>\n",
        "    </tr>\n",
        "    <tr>\n",
        "      <th>117</th>\n",
        "      <td>      FeatMFP0</td>\n",
        "      <td>        RDKit6</td>\n",
        "      <td>0.230</td>\n",
        "      <td>0.334</td>\n",
        "      <td>0.373</td>\n",
        "    </tr>\n",
        "    <tr>\n",
        "      <th>336</th>\n",
        "      <td>         MACCS</td>\n",
        "      <td>          MFP2</td>\n",
        "      <td>0.229</td>\n",
        "      <td>0.335</td>\n",
        "      <td>0.480</td>\n",
        "    </tr>\n",
        "    <tr>\n",
        "      <th>107</th>\n",
        "      <td>         MACCS</td>\n",
        "      <td>     MFP2-bits</td>\n",
        "      <td>0.228</td>\n",
        "      <td>0.333</td>\n",
        "      <td>0.478</td>\n",
        "    </tr>\n",
        "    <tr>\n",
        "      <th>223</th>\n",
        "      <td>      FeatMFP1</td>\n",
        "      <td>        RDKit7</td>\n",
        "      <td>0.228</td>\n",
        "      <td>0.331</td>\n",
        "      <td>0.495</td>\n",
        "    </tr>\n",
        "    <tr>\n",
        "      <th>119</th>\n",
        "      <td>         MACCS</td>\n",
        "      <td>     MFP3-bits</td>\n",
        "      <td>0.227</td>\n",
        "      <td>0.332</td>\n",
        "      <td>0.474</td>\n",
        "    </tr>\n",
        "    <tr>\n",
        "      <th>132</th>\n",
        "      <td>         MACCS</td>\n",
        "      <td>          MFP3</td>\n",
        "      <td>0.225</td>\n",
        "      <td>0.330</td>\n",
        "      <td>0.474</td>\n",
        "    </tr>\n",
        "    <tr>\n",
        "      <th>27 </th>\n",
        "      <td>    Avalon-512</td>\n",
        "      <td>            TT</td>\n",
        "      <td>0.224</td>\n",
        "      <td>0.326</td>\n",
        "      <td>0.588</td>\n",
        "    </tr>\n",
        "    <tr>\n",
        "      <th>63 </th>\n",
        "      <td>     MFP0-bits</td>\n",
        "      <td>     MFP2-bits</td>\n",
        "      <td>0.224</td>\n",
        "      <td>0.322</td>\n",
        "      <td>0.565</td>\n",
        "    </tr>\n",
        "    <tr>\n",
        "      <th>277</th>\n",
        "      <td>         MACCS</td>\n",
        "      <td>            TT</td>\n",
        "      <td>0.224</td>\n",
        "      <td>0.327</td>\n",
        "      <td>0.470</td>\n",
        "    </tr>\n",
        "    <tr>\n",
        "      <th>9  </th>\n",
        "      <td>     MFP0-bits</td>\n",
        "      <td>          MFP2</td>\n",
        "      <td>0.220</td>\n",
        "      <td>0.316</td>\n",
        "      <td>0.563</td>\n",
        "    </tr>\n",
        "    <tr>\n",
        "      <th>35 </th>\n",
        "      <td>          MFP0</td>\n",
        "      <td>          MFP2</td>\n",
        "      <td>0.219</td>\n",
        "      <td>0.315</td>\n",
        "      <td>0.570</td>\n",
        "    </tr>\n",
        "    <tr>\n",
        "      <th>31 </th>\n",
        "      <td>          MFP0</td>\n",
        "      <td>     MFP2-bits</td>\n",
        "      <td>0.218</td>\n",
        "      <td>0.313</td>\n",
        "      <td>0.568</td>\n",
        "    </tr>\n",
        "    <tr>\n",
        "      <th>216</th>\n",
        "      <td>     MFP0-bits</td>\n",
        "      <td>     MFP3-bits</td>\n",
        "      <td>0.215</td>\n",
        "      <td>0.310</td>\n",
        "      <td>0.559</td>\n",
        "    </tr>\n",
        "    <tr>\n",
        "      <th>207</th>\n",
        "      <td>     MFP0-bits</td>\n",
        "      <td>          MFP3</td>\n",
        "      <td>0.213</td>\n",
        "      <td>0.307</td>\n",
        "      <td>0.558</td>\n",
        "    </tr>\n",
        "    <tr>\n",
        "      <th>172</th>\n",
        "      <td>    Avalon-512</td>\n",
        "      <td>      FeatMFP1</td>\n",
        "      <td>0.212</td>\n",
        "      <td>0.310</td>\n",
        "      <td>0.461</td>\n",
        "    </tr>\n",
        "    <tr>\n",
        "      <th>226</th>\n",
        "      <td>          MFP0</td>\n",
        "      <td>          MFP3</td>\n",
        "      <td>0.211</td>\n",
        "      <td>0.304</td>\n",
        "      <td>0.565</td>\n",
        "    </tr>\n",
        "    <tr>\n",
        "      <th>36 </th>\n",
        "      <td>      FeatMFP0</td>\n",
        "      <td>          MFP1</td>\n",
        "      <td>0.211</td>\n",
        "      <td>0.308</td>\n",
        "      <td>0.369</td>\n",
        "    </tr>\n",
        "    <tr>\n",
        "      <th>219</th>\n",
        "      <td>    Avalon-512</td>\n",
        "      <td>      FeatMFP2</td>\n",
        "      <td>0.211</td>\n",
        "      <td>0.309</td>\n",
        "      <td>0.540</td>\n",
        "    </tr>\n",
        "    <tr>\n",
        "      <th>92 </th>\n",
        "      <td>      FeatMFP0</td>\n",
        "      <td>     MFP1-bits</td>\n",
        "      <td>0.210</td>\n",
        "      <td>0.305</td>\n",
        "      <td>0.366</td>\n",
        "    </tr>\n",
        "    <tr>\n",
        "      <th>244</th>\n",
        "      <td>          MFP0</td>\n",
        "      <td>     MFP3-bits</td>\n",
        "      <td>0.209</td>\n",
        "      <td>0.300</td>\n",
        "      <td>0.562</td>\n",
        "    </tr>\n",
        "    <tr>\n",
        "      <th>218</th>\n",
        "      <td>            AP</td>\n",
        "      <td>    Avalon-512</td>\n",
        "      <td>0.206</td>\n",
        "      <td>0.301</td>\n",
        "      <td>0.522</td>\n",
        "    </tr>\n",
        "    <tr>\n",
        "      <th>24 </th>\n",
        "      <td>    Avalon-512</td>\n",
        "      <td>      FeatMFP3</td>\n",
        "      <td>0.203</td>\n",
        "      <td>0.297</td>\n",
        "      <td>0.567</td>\n",
        "    </tr>\n",
        "    <tr>\n",
        "      <th>50 </th>\n",
        "      <td>   Avalon-1024</td>\n",
        "      <td>      FeatMFP0</td>\n",
        "      <td>0.200</td>\n",
        "      <td>0.294</td>\n",
        "      <td>0.341</td>\n",
        "    </tr>\n",
        "    <tr>\n",
        "      <th>196</th>\n",
        "      <td>            AP</td>\n",
        "      <td>         MACCS</td>\n",
        "      <td>0.200</td>\n",
        "      <td>0.293</td>\n",
        "      <td>0.433</td>\n",
        "    </tr>\n",
        "    <tr>\n",
        "      <th>221</th>\n",
        "      <td>            AP</td>\n",
        "      <td>          MFP0</td>\n",
        "      <td>0.198</td>\n",
        "      <td>0.285</td>\n",
        "      <td>0.545</td>\n",
        "    </tr>\n",
        "    <tr>\n",
        "      <th>326</th>\n",
        "      <td>      FeatMFP0</td>\n",
        "      <td>          MFP3</td>\n",
        "      <td>0.198</td>\n",
        "      <td>0.290</td>\n",
        "      <td>0.328</td>\n",
        "    </tr>\n",
        "    <tr>\n",
        "      <th>125</th>\n",
        "      <td>      FeatMFP0</td>\n",
        "      <td>          MFP2</td>\n",
        "      <td>0.197</td>\n",
        "      <td>0.288</td>\n",
        "      <td>0.340</td>\n",
        "    </tr>\n",
        "    <tr>\n",
        "      <th>20 </th>\n",
        "      <td>      FeatMFP1</td>\n",
        "      <td>     MFP0-bits</td>\n",
        "      <td>0.197</td>\n",
        "      <td>0.283</td>\n",
        "      <td>0.442</td>\n",
        "    </tr>\n",
        "    <tr>\n",
        "      <th>334</th>\n",
        "      <td>       AP-bits</td>\n",
        "      <td>      FeatMFP0</td>\n",
        "      <td>0.196</td>\n",
        "      <td>0.287</td>\n",
        "      <td>0.346</td>\n",
        "    </tr>\n",
        "    <tr>\n",
        "      <th>327</th>\n",
        "      <td>            AP</td>\n",
        "      <td>     MFP0-bits</td>\n",
        "      <td>0.196</td>\n",
        "      <td>0.282</td>\n",
        "      <td>0.533</td>\n",
        "    </tr>\n",
        "    <tr>\n",
        "      <th>177</th>\n",
        "      <td>      FeatMFP0</td>\n",
        "      <td>          MFP0</td>\n",
        "      <td>0.195</td>\n",
        "      <td>0.259</td>\n",
        "      <td>0.319</td>\n",
        "    </tr>\n",
        "    <tr>\n",
        "      <th>253</th>\n",
        "      <td>      FeatMFP0</td>\n",
        "      <td>     MFP3-bits</td>\n",
        "      <td>0.195</td>\n",
        "      <td>0.286</td>\n",
        "      <td>0.327</td>\n",
        "    </tr>\n",
        "    <tr>\n",
        "      <th>208</th>\n",
        "      <td>      FeatMFP1</td>\n",
        "      <td>          MFP0</td>\n",
        "      <td>0.195</td>\n",
        "      <td>0.280</td>\n",
        "      <td>0.447</td>\n",
        "    </tr>\n",
        "    <tr>\n",
        "      <th>38 </th>\n",
        "      <td>      FeatMFP0</td>\n",
        "      <td>     MFP2-bits</td>\n",
        "      <td>0.194</td>\n",
        "      <td>0.284</td>\n",
        "      <td>0.338</td>\n",
        "    </tr>\n",
        "    <tr>\n",
        "      <th>225</th>\n",
        "      <td>      FeatMFP0</td>\n",
        "      <td>     MFP0-bits</td>\n",
        "      <td>0.193</td>\n",
        "      <td>0.256</td>\n",
        "      <td>0.313</td>\n",
        "    </tr>\n",
        "    <tr>\n",
        "      <th>7  </th>\n",
        "      <td>     MFP2-bits</td>\n",
        "      <td>        RDKit7</td>\n",
        "      <td>0.191</td>\n",
        "      <td>0.279</td>\n",
        "      <td>0.600</td>\n",
        "    </tr>\n",
        "    <tr>\n",
        "      <th>238</th>\n",
        "      <td>     MFP3-bits</td>\n",
        "      <td>        RDKit7</td>\n",
        "      <td>0.190</td>\n",
        "      <td>0.278</td>\n",
        "      <td>0.617</td>\n",
        "    </tr>\n",
        "    <tr>\n",
        "      <th>0  </th>\n",
        "      <td>      FeatMFP2</td>\n",
        "      <td>     MFP0-bits</td>\n",
        "      <td>0.188</td>\n",
        "      <td>0.271</td>\n",
        "      <td>0.487</td>\n",
        "    </tr>\n",
        "    <tr>\n",
        "      <th>268</th>\n",
        "      <td>    Avalon-512</td>\n",
        "      <td>     MFP2-bits</td>\n",
        "      <td>0.184</td>\n",
        "      <td>0.270</td>\n",
        "      <td>0.551</td>\n",
        "    </tr>\n",
        "    <tr>\n",
        "      <th>59 </th>\n",
        "      <td>      FeatMFP3</td>\n",
        "      <td>     MFP0-bits</td>\n",
        "      <td>0.183</td>\n",
        "      <td>0.264</td>\n",
        "      <td>0.508</td>\n",
        "    </tr>\n",
        "    <tr>\n",
        "      <th>237</th>\n",
        "      <td>      FeatMFP2</td>\n",
        "      <td>          MFP0</td>\n",
        "      <td>0.183</td>\n",
        "      <td>0.264</td>\n",
        "      <td>0.490</td>\n",
        "    </tr>\n",
        "    <tr>\n",
        "      <th>51 </th>\n",
        "      <td>          MFP2</td>\n",
        "      <td>        RDKit7</td>\n",
        "      <td>0.183</td>\n",
        "      <td>0.269</td>\n",
        "      <td>0.597</td>\n",
        "    </tr>\n",
        "    <tr>\n",
        "      <th>176</th>\n",
        "      <td>    Avalon-512</td>\n",
        "      <td>     MFP3-bits</td>\n",
        "      <td>0.181</td>\n",
        "      <td>0.267</td>\n",
        "      <td>0.560</td>\n",
        "    </tr>\n",
        "    <tr>\n",
        "      <th>67 </th>\n",
        "      <td>      FeatMFP0</td>\n",
        "      <td>         MACCS</td>\n",
        "      <td>0.180</td>\n",
        "      <td>0.263</td>\n",
        "      <td>0.308</td>\n",
        "    </tr>\n",
        "    <tr>\n",
        "      <th>104</th>\n",
        "      <td>    Avalon-512</td>\n",
        "      <td>          MFP2</td>\n",
        "      <td>0.179</td>\n",
        "      <td>0.265</td>\n",
        "      <td>0.550</td>\n",
        "    </tr>\n",
        "    <tr>\n",
        "      <th>201</th>\n",
        "      <td>    Avalon-512</td>\n",
        "      <td>          MFP1</td>\n",
        "      <td>0.178</td>\n",
        "      <td>0.262</td>\n",
        "      <td>0.502</td>\n",
        "    </tr>\n",
        "    <tr>\n",
        "      <th>131</th>\n",
        "      <td>      FeatMFP3</td>\n",
        "      <td>          MFP0</td>\n",
        "      <td>0.178</td>\n",
        "      <td>0.256</td>\n",
        "      <td>0.512</td>\n",
        "    </tr>\n",
        "    <tr>\n",
        "      <th>312</th>\n",
        "      <td>    Avalon-512</td>\n",
        "      <td>     MFP1-bits</td>\n",
        "      <td>0.177</td>\n",
        "      <td>0.262</td>\n",
        "      <td>0.500</td>\n",
        "    </tr>\n",
        "    <tr>\n",
        "      <th>272</th>\n",
        "      <td>          MFP3</td>\n",
        "      <td>        RDKit7</td>\n",
        "      <td>0.173</td>\n",
        "      <td>0.254</td>\n",
        "      <td>0.610</td>\n",
        "    </tr>\n",
        "    <tr>\n",
        "      <th>229</th>\n",
        "      <td>     MFP1-bits</td>\n",
        "      <td>        RDKit7</td>\n",
        "      <td>0.173</td>\n",
        "      <td>0.254</td>\n",
        "      <td>0.532</td>\n",
        "    </tr>\n",
        "    <tr>\n",
        "      <th>243</th>\n",
        "      <td>          MFP1</td>\n",
        "      <td>        RDKit7</td>\n",
        "      <td>0.173</td>\n",
        "      <td>0.254</td>\n",
        "      <td>0.533</td>\n",
        "    </tr>\n",
        "    <tr>\n",
        "      <th>258</th>\n",
        "      <td>    Avalon-512</td>\n",
        "      <td>          MFP3</td>\n",
        "      <td>0.171</td>\n",
        "      <td>0.252</td>\n",
        "      <td>0.557</td>\n",
        "    </tr>\n",
        "    <tr>\n",
        "      <th>350</th>\n",
        "      <td>       AP-bits</td>\n",
        "      <td>     MFP0-bits</td>\n",
        "      <td>0.170</td>\n",
        "      <td>0.246</td>\n",
        "      <td>0.492</td>\n",
        "    </tr>\n",
        "    <tr>\n",
        "      <th>98 </th>\n",
        "      <td>       AP-bits</td>\n",
        "      <td>          MFP0</td>\n",
        "      <td>0.169</td>\n",
        "      <td>0.244</td>\n",
        "      <td>0.501</td>\n",
        "    </tr>\n",
        "    <tr>\n",
        "      <th>233</th>\n",
        "      <td>     MFP0-bits</td>\n",
        "      <td>            TT</td>\n",
        "      <td>0.162</td>\n",
        "      <td>0.235</td>\n",
        "      <td>0.467</td>\n",
        "    </tr>\n",
        "    <tr>\n",
        "      <th>124</th>\n",
        "      <td>            AP</td>\n",
        "      <td>      FeatMFP0</td>\n",
        "      <td>0.161</td>\n",
        "      <td>0.236</td>\n",
        "      <td>0.308</td>\n",
        "    </tr>\n",
        "    <tr>\n",
        "      <th>64 </th>\n",
        "      <td>      FeatMFP0</td>\n",
        "      <td>            TT</td>\n",
        "      <td>0.159</td>\n",
        "      <td>0.233</td>\n",
        "      <td>0.295</td>\n",
        "    </tr>\n",
        "    <tr>\n",
        "      <th>264</th>\n",
        "      <td>          MFP0</td>\n",
        "      <td>            TT</td>\n",
        "      <td>0.159</td>\n",
        "      <td>0.231</td>\n",
        "      <td>0.471</td>\n",
        "    </tr>\n",
        "    <tr>\n",
        "      <th>308</th>\n",
        "      <td>    Avalon-512</td>\n",
        "      <td>      FeatMFP0</td>\n",
        "      <td>0.158</td>\n",
        "      <td>0.233</td>\n",
        "      <td>0.289</td>\n",
        "    </tr>\n",
        "    <tr>\n",
        "      <th>147</th>\n",
        "      <td>     MFP0-bits</td>\n",
        "      <td>       TT-bits</td>\n",
        "      <td>0.157</td>\n",
        "      <td>0.228</td>\n",
        "      <td>0.457</td>\n",
        "    </tr>\n",
        "    <tr>\n",
        "      <th>90 </th>\n",
        "      <td>      FeatMFP0</td>\n",
        "      <td>       TT-bits</td>\n",
        "      <td>0.156</td>\n",
        "      <td>0.228</td>\n",
        "      <td>0.293</td>\n",
        "    </tr>\n",
        "    <tr>\n",
        "      <th>21 </th>\n",
        "      <td>          MFP0</td>\n",
        "      <td>       TT-bits</td>\n",
        "      <td>0.154</td>\n",
        "      <td>0.223</td>\n",
        "      <td>0.461</td>\n",
        "    </tr>\n",
        "    <tr>\n",
        "      <th>211</th>\n",
        "      <td>     MFP0-bits</td>\n",
        "      <td>        RDKit4</td>\n",
        "      <td>0.149</td>\n",
        "      <td>0.217</td>\n",
        "      <td>0.411</td>\n",
        "    </tr>\n",
        "    <tr>\n",
        "      <th>232</th>\n",
        "      <td>     MFP0-bits</td>\n",
        "      <td> RDKit4-linear</td>\n",
        "      <td>0.148</td>\n",
        "      <td>0.214</td>\n",
        "      <td>0.397</td>\n",
        "    </tr>\n",
        "    <tr>\n",
        "      <th>269</th>\n",
        "      <td>     MFP0-bits</td>\n",
        "      <td> RDKit5-linear</td>\n",
        "      <td>0.148</td>\n",
        "      <td>0.214</td>\n",
        "      <td>0.415</td>\n",
        "    </tr>\n",
        "    <tr>\n",
        "      <th>185</th>\n",
        "      <td>          MFP0</td>\n",
        "      <td>        RDKit4</td>\n",
        "      <td>0.147</td>\n",
        "      <td>0.213</td>\n",
        "      <td>0.413</td>\n",
        "    </tr>\n",
        "    <tr>\n",
        "      <th>44 </th>\n",
        "      <td>         MACCS</td>\n",
        "      <td>          MFP0</td>\n",
        "      <td>0.147</td>\n",
        "      <td>0.213</td>\n",
        "      <td>0.356</td>\n",
        "    </tr>\n",
        "    <tr>\n",
        "      <th>220</th>\n",
        "      <td>      FeatMFP0</td>\n",
        "      <td>        RDKit7</td>\n",
        "      <td>0.146</td>\n",
        "      <td>0.215</td>\n",
        "      <td>0.288</td>\n",
        "    </tr>\n",
        "    <tr>\n",
        "      <th>306</th>\n",
        "      <td>     MFP0-bits</td>\n",
        "      <td> RDKit6-linear</td>\n",
        "      <td>0.146</td>\n",
        "      <td>0.212</td>\n",
        "      <td>0.426</td>\n",
        "    </tr>\n",
        "    <tr>\n",
        "      <th>15 </th>\n",
        "      <td>         MACCS</td>\n",
        "      <td>     MFP0-bits</td>\n",
        "      <td>0.145</td>\n",
        "      <td>0.211</td>\n",
        "      <td>0.349</td>\n",
        "    </tr>\n",
        "    <tr>\n",
        "      <th>23 </th>\n",
        "      <td>          MFP0</td>\n",
        "      <td> RDKit4-linear</td>\n",
        "      <td>0.145</td>\n",
        "      <td>0.211</td>\n",
        "      <td>0.400</td>\n",
        "    </tr>\n",
        "    <tr>\n",
        "      <th>137</th>\n",
        "      <td>          MFP0</td>\n",
        "      <td> RDKit5-linear</td>\n",
        "      <td>0.144</td>\n",
        "      <td>0.210</td>\n",
        "      <td>0.417</td>\n",
        "    </tr>\n",
        "    <tr>\n",
        "      <th>17 </th>\n",
        "      <td>     MFP0-bits</td>\n",
        "      <td>        RDKit5</td>\n",
        "      <td>0.144</td>\n",
        "      <td>0.209</td>\n",
        "      <td>0.425</td>\n",
        "    </tr>\n",
        "    <tr>\n",
        "      <th>175</th>\n",
        "      <td>          MFP0</td>\n",
        "      <td> RDKit6-linear</td>\n",
        "      <td>0.142</td>\n",
        "      <td>0.206</td>\n",
        "      <td>0.428</td>\n",
        "    </tr>\n",
        "    <tr>\n",
        "      <th>339</th>\n",
        "      <td>     MFP0-bits</td>\n",
        "      <td> RDKit7-linear</td>\n",
        "      <td>0.140</td>\n",
        "      <td>0.204</td>\n",
        "      <td>0.432</td>\n",
        "    </tr>\n",
        "    <tr>\n",
        "      <th>340</th>\n",
        "      <td>          MFP0</td>\n",
        "      <td>        RDKit5</td>\n",
        "      <td>0.140</td>\n",
        "      <td>0.203</td>\n",
        "      <td>0.427</td>\n",
        "    </tr>\n",
        "    <tr>\n",
        "      <th>280</th>\n",
        "      <td>   Avalon-1024</td>\n",
        "      <td>          MFP0</td>\n",
        "      <td>0.139</td>\n",
        "      <td>0.202</td>\n",
        "      <td>0.414</td>\n",
        "    </tr>\n",
        "    <tr>\n",
        "      <th>145</th>\n",
        "      <td>   Avalon-1024</td>\n",
        "      <td>     MFP0-bits</td>\n",
        "      <td>0.138</td>\n",
        "      <td>0.201</td>\n",
        "      <td>0.409</td>\n",
        "    </tr>\n",
        "    <tr>\n",
        "      <th>307</th>\n",
        "      <td>          MFP0</td>\n",
        "      <td> RDKit7-linear</td>\n",
        "      <td>0.136</td>\n",
        "      <td>0.198</td>\n",
        "      <td>0.434</td>\n",
        "    </tr>\n",
        "    <tr>\n",
        "      <th>267</th>\n",
        "      <td>     MFP0-bits</td>\n",
        "      <td>        RDKit6</td>\n",
        "      <td>0.121</td>\n",
        "      <td>0.176</td>\n",
        "      <td>0.414</td>\n",
        "    </tr>\n",
        "    <tr>\n",
        "      <th>133</th>\n",
        "      <td>          MFP0</td>\n",
        "      <td>        RDKit6</td>\n",
        "      <td>0.116</td>\n",
        "      <td>0.169</td>\n",
        "      <td>0.416</td>\n",
        "    </tr>\n",
        "    <tr>\n",
        "      <th>61 </th>\n",
        "      <td>    Avalon-512</td>\n",
        "      <td>          MFP0</td>\n",
        "      <td>0.108</td>\n",
        "      <td>0.158</td>\n",
        "      <td>0.352</td>\n",
        "    </tr>\n",
        "    <tr>\n",
        "      <th>62 </th>\n",
        "      <td>    Avalon-512</td>\n",
        "      <td>     MFP0-bits</td>\n",
        "      <td>0.107</td>\n",
        "      <td>0.157</td>\n",
        "      <td>0.347</td>\n",
        "    </tr>\n",
        "    <tr>\n",
        "      <th>72 </th>\n",
        "      <td>     MFP0-bits</td>\n",
        "      <td>        RDKit7</td>\n",
        "      <td>0.077</td>\n",
        "      <td>0.112</td>\n",
        "      <td>0.340</td>\n",
        "    </tr>\n",
        "    <tr>\n",
        "      <th>285</th>\n",
        "      <td>          MFP0</td>\n",
        "      <td>        RDKit7</td>\n",
        "      <td>0.072</td>\n",
        "      <td>0.105</td>\n",
        "      <td>0.341</td>\n",
        "    </tr>\n",
        "  </tbody>\n",
        "</table>"
       ],
       "metadata": {},
       "output_type": "pyout",
       "prompt_number": 52,
       "text": [
        "<IPython.core.display.HTML at 0x458ea10>"
       ]
      }
     ],
     "prompt_number": 52
    },
    {
     "cell_type": "code",
     "collapsed": false,
     "input": [],
     "language": "python",
     "metadata": {},
     "outputs": []
    }
   ],
   "metadata": {}
  }
 ]
}