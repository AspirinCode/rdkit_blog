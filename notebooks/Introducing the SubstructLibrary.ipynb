{
 "cells": [
  {
   "cell_type": "markdown",
   "metadata": {},
   "source": [
    "This introduces another of the new features in the 2017.09 release of the RDKit: the `SubstructLibrary` - a class to make it straightforward to do substructure searches across sets of compounds."
   ]
  },
  {
   "cell_type": "code",
   "execution_count": 33,
   "metadata": {},
   "outputs": [
    {
     "name": "stdout",
     "output_type": "stream",
     "text": [
      "2018.03.1.dev1\n"
     ]
    }
   ],
   "source": [
    "from rdkit import Chem\n",
    "from rdkit.Chem import Draw\n",
    "from rdkit.Chem.Draw import IPythonConsole\n",
    "from rdkit import rdBase\n",
    "print(rdBase.rdkitVersion)"
   ]
  },
  {
   "cell_type": "code",
   "execution_count": 3,
   "metadata": {
    "collapsed": true
   },
   "outputs": [],
   "source": [
    "from rdkit.Chem import rdSubstructLibrary"
   ]
  },
  {
   "cell_type": "markdown",
   "metadata": {},
   "source": [
    "To improve the efficiency of searches, the `SubstructLibary` allows you to provide RDKit Pattern fingerprints for the compounds in the library. These can (and should) be precalculated. Here's one way to do so:"
   ]
  },
  {
   "cell_type": "raw",
   "metadata": {},
   "source": [
    "import pickle\n",
    "# start by building the fingerprint cache\n",
    "with open('../data/chembl_50K.txt','r') as inf:\n",
    "    ls = [x.split() for x in inf]\n",
    "    ls.pop(0)\n",
    "    with open('../data/chembl_50K.fps.pkl','wb+') as pklf:\n",
    "        for i,(molregno,smi) in enumerate(ls):\n",
    "            m = Chem.MolFromSmiles(smi,sanitize=False)\n",
    "            fp = Chem.PatternFingerprint(m)\n",
    "            pickle.dump(fp,pklf)\n",
    "            if not (i+1)%5000:\n",
    "                print(\"Done\",i+1)"
   ]
  },
  {
   "cell_type": "markdown",
   "metadata": {},
   "source": [
    "Build our first `SubstructLibrary`. There are a number of ways of doing this, here we'll build one that expects that the molecules are provided as \"trusted\" SMILES (i.e. SMILES where the aromaticity and stereochemistry has been set by the RDKit). We'll add the SMILES (without actually converting them into molecule) and the fingerprints we calculated above"
   ]
  },
  {
   "cell_type": "code",
   "execution_count": 26,
   "metadata": {},
   "outputs": [],
   "source": [
    "import pickle\n",
    "mols = rdSubstructLibrary.CachedTrustedSmilesMolHolder()\n",
    "fps = rdSubstructLibrary.PatternHolder()\n",
    "with open('../data/chembl_50K.txt','r') as inf:\n",
    "    ls = [x.split() for x in inf]\n",
    "    ls.pop(0)\n",
    "    with open('../data/chembl_50K.fps.pkl','rb') as pklf:\n",
    "        for l in ls:\n",
    "            smi = l[1]\n",
    "            mols.AddSmiles(smi)           \n",
    "            fp = pickle.load(pklf)\n",
    "            fps.AddFingerprint(fp)\n",
    "library = rdSubstructLibrary.SubstructLibrary(mols,fps)"
   ]
  },
  {
   "cell_type": "code",
   "execution_count": 27,
   "metadata": {},
   "outputs": [
    {
     "name": "stdout",
     "output_type": "stream",
     "text": [
      "1000\n"
     ]
    }
   ],
   "source": [
    "indices = library.GetMatches(Chem.MolFromSmiles('c1ccncn1'))\n",
    "print(len(indices))"
   ]
  },
  {
   "cell_type": "code",
   "execution_count": 28,
   "metadata": {},
   "outputs": [
    {
     "name": "stdout",
     "output_type": "stream",
     "text": [
      "5622\n"
     ]
    }
   ],
   "source": [
    "indices = library.GetMatches(Chem.MolFromSmiles('c1ccncn1'),maxResults=10000)\n",
    "print(len(indices))"
   ]
  },
  {
   "cell_type": "code",
   "execution_count": 29,
   "metadata": {},
   "outputs": [
    {
     "name": "stdout",
     "output_type": "stream",
     "text": [
      "246\n"
     ]
    }
   ],
   "source": [
    "indices = library.GetMatches(Chem.MolFromSmiles('c1ncncn1'))\n",
    "print(len(indices))"
   ]
  },
  {
   "cell_type": "code",
   "execution_count": 32,
   "metadata": {},
   "outputs": [
    {
     "data": {
      "image/png": "[encoded data removed]",
      "text/plain": [
       "<rdkit.Chem.rdchem.Mol at 0x7f07a2baf608>"
      ]
     },
     "execution_count": 32,
     "metadata": {},
     "output_type": "execute_result"
    }
   ],
   "source": [
    "library.GetMol(indices[0])"
   ]
  },
  {
   "cell_type": "markdown",
   "metadata": {},
   "source": [
    "Let's look at how long that takes:"
   ]
  },
  {
   "cell_type": "code",
   "execution_count": 35,
   "metadata": {},
   "outputs": [
    {
     "name": "stdout",
     "output_type": "stream",
     "text": [
      "10.7 ms ± 582 µs per loop (mean ± std. dev. of 7 runs, 100 loops each)\n"
     ]
    }
   ],
   "source": [
    "%timeit library.GetMatches(Chem.MolFromSmiles('c1ncncn1'))"
   ]
  },
  {
   "cell_type": "markdown",
   "metadata": {},
   "source": [
    "Not bad at all, but let's look at a larger dataset.\n",
    "\n",
    "Here's the pre-processing work for 500K molecules randomly selected from ChEMBL:"
   ]
  },
  {
   "cell_type": "raw",
   "metadata": {},
   "source": [
    "import pickle\n",
    "# start by building the fingerprint cache\n",
    "with open('../data/chembl_500K.txt','r') as inf:\n",
    "    ls = [x.split() for x in inf]\n",
    "    ls.pop(0)\n",
    "    with open('../data/chembl_500K.fps.pkl','wb+') as pklf:\n",
    "        for i,(molregno,smi) in enumerate(ls):\n",
    "            m = Chem.MolFromSmiles(smi,sanitize=False)\n",
    "            fp = Chem.PatternFingerprint(m)\n",
    "            pickle.dump(fp,pklf)\n",
    "            if not (i+1)%25000:\n",
    "                print(\"Done\",i+1)"
   ]
  },
  {
   "cell_type": "markdown",
   "metadata": {},
   "source": [
    "The same code to read them in:"
   ]
  },
  {
   "cell_type": "code",
   "execution_count": 36,
   "metadata": {},
   "outputs": [],
   "source": [
    "import pickle\n",
    "mols = rdSubstructLibrary.CachedTrustedSmilesMolHolder()\n",
    "fps = rdSubstructLibrary.PatternHolder()\n",
    "with open('../data/chembl_500K.txt','r') as inf:\n",
    "    ls = [x.split() for x in inf]\n",
    "    ls.pop(0)\n",
    "    with open('../data/chembl_500K.fps.pkl','rb') as pklf:\n",
    "        for l in ls:\n",
    "            smi = l[1]\n",
    "            try:\n",
    "                fp = pickle.load(pklf)\n",
    "            except EOFError:\n",
    "                break\n",
    "            mols.AddSmiles(smi)           \n",
    "            fps.AddFingerprint(fp)\n",
    "library = rdSubstructLibrary.SubstructLibrary(mols,fps)"
   ]
  },
  {
   "cell_type": "code",
   "execution_count": 37,
   "metadata": {},
   "outputs": [
    {
     "name": "stdout",
     "output_type": "stream",
     "text": [
      "373\n"
     ]
    }
   ],
   "source": [
    "indices = library.GetMatches(Chem.MolFromSmiles('c1ncnc(O)n1'))\n",
    "print(len(indices))"
   ]
  },
  {
   "cell_type": "code",
   "execution_count": 38,
   "metadata": {},
   "outputs": [
    {
     "name": "stdout",
     "output_type": "stream",
     "text": [
      "53.4 ms ± 1.32 ms per loop (mean ± std. dev. of 7 runs, 10 loops each)\n"
     ]
    }
   ],
   "source": [
    "%timeit library.GetMatches(Chem.MolFromSmiles('c1ncnc(O)n1'))"
   ]
  },
  {
   "cell_type": "code",
   "execution_count": 41,
   "metadata": {},
   "outputs": [
    {
     "data": {
      "text/plain": [
       "3520"
      ]
     },
     "execution_count": 41,
     "metadata": {},
     "output_type": "execute_result"
    }
   ],
   "source": [
    "len(library.GetMatches(Chem.MolFromSmiles('c1ccccc1C(=O)c1ccccc1'),maxResults=10000))"
   ]
  },
  {
   "cell_type": "code",
   "execution_count": 42,
   "metadata": {},
   "outputs": [
    {
     "name": "stdout",
     "output_type": "stream",
     "text": [
      "832 ms ± 15.4 ms per loop (mean ± std. dev. of 7 runs, 1 loop each)\n"
     ]
    }
   ],
   "source": [
    "%timeit library.GetMatches(Chem.MolFromSmiles('c1ccccc1C(=O)c1ccccc1'),maxResults=10000)"
   ]
  },
  {
   "cell_type": "code",
   "execution_count": null,
   "metadata": {
    "collapsed": true
   },
   "outputs": [],
   "source": []
  }
 ],
 "metadata": {
  "kernelspec": {
   "display_name": "Python [default]",
   "language": "python",
   "name": "python3"
  },
  "language_info": {
   "codemirror_mode": {
    "name": "ipython",
    "version": 3
   },
   "file_extension": ".py",
   "mimetype": "text/x-python",
   "name": "python",
   "nbconvert_exporter": "python",
   "pygments_lexer": "ipython3",
   "version": "3.5.3"
  }
 },
 "nbformat": 4,
 "nbformat_minor": 1
}
