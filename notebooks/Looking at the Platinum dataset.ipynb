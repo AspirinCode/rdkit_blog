{
 "cells": [
  {
   "cell_type": "markdown",
   "metadata": {},
   "source": [
    "The paper: http://pubs.acs.org/doi/abs/10.1021/acs.jcim.6b00613\n",
    "\n",
    "Data downloaded from here: http://www.zbh.uni-hamburg.de/?id=628\n"
   ]
  },
  {
   "cell_type": "code",
   "execution_count": 49,
   "metadata": {},
   "outputs": [
    {
     "name": "stdout",
     "output_type": "stream",
     "text": [
      "Populating the interactive namespace from numpy and matplotlib\n"
     ]
    }
   ],
   "source": [
    "from collections import defaultdict\n",
    "\n",
    "from rdkit import Chem\n",
    "from rdkit.Chem import AllChem\n",
    "from rdkit.Chem.Draw import IPythonConsole\n",
    "IPythonConsole.ipython_3d=True\n",
    "%pylab inline\n"
   ]
  },
  {
   "cell_type": "code",
   "execution_count": 75,
   "metadata": {},
   "outputs": [
    {
     "data": {
      "text/plain": [
       "4548"
      ]
     },
     "execution_count": 75,
     "metadata": {},
     "output_type": "execute_result"
    }
   ],
   "source": [
    "ms = [x for x in Chem.SDMolSupplier('../data/platinum_dataset_2017_01.sdf',removeHs=False)]\n",
    "for m in ms: Chem.AssignAtomChiralTagsFromStructure(m)\n",
    "len(ms)"
   ]
  },
  {
   "cell_type": "code",
   "execution_count": 77,
   "metadata": {},
   "outputs": [
    {
     "name": "stdout",
     "output_type": "stream",
     "text": [
      "done 0\n",
      "done 50\n",
      "done 100\n",
      "done 150\n",
      "done 200\n"
     ]
    },
    {
     "name": "stderr",
     "output_type": "stream",
     "text": [
      "RDKit ERROR: [05:57:56] UFFTYPER: Unrecognized charge state for atom: 14\n"
     ]
    },
    {
     "name": "stdout",
     "output_type": "stream",
     "text": [
      "done 250\n",
      "done 300\n",
      "done 350\n",
      "done 400\n",
      "done 450\n",
      "done 500\n",
      "done 550\n",
      "done 600\n",
      "done 650\n",
      "done 700\n",
      "done 750\n",
      "done 800\n",
      "done 850\n",
      "done 900\n",
      "done 950\n"
     ]
    },
    {
     "name": "stderr",
     "output_type": "stream",
     "text": [
      "RDKit ERROR: [06:04:53] UFFTYPER: Unrecognized charge state for atom: 12\n"
     ]
    },
    {
     "name": "stdout",
     "output_type": "stream",
     "text": [
      "done 1000\n",
      "done 1050\n",
      "done 1100\n",
      "done 1150\n",
      "done 1200\n",
      "done 1250\n",
      "done 1300\n",
      "done 1350\n",
      "done 1400\n",
      "done 1450\n",
      "done 1500\n",
      "done 1550\n",
      "done 1600\n",
      "done 1650\n",
      "done 1700\n",
      "done 1750\n"
     ]
    },
    {
     "name": "stderr",
     "output_type": "stream",
     "text": [
      "RDKit ERROR: [06:16:35] UFFTYPER: Unrecognized charge state for atom: 12\n",
      "RDKit ERROR: [06:16:36] UFFTYPER: Unrecognized charge state for atom: 12\n"
     ]
    },
    {
     "name": "stdout",
     "output_type": "stream",
     "text": [
      "done 1800\n",
      "done 1850\n",
      "done 1900\n"
     ]
    },
    {
     "name": "stderr",
     "output_type": "stream",
     "text": [
      "RDKit ERROR: [06:17:49] UFFTYPER: Unrecognized charge state for atom: 13\n"
     ]
    },
    {
     "name": "stdout",
     "output_type": "stream",
     "text": [
      "done 1950\n"
     ]
    },
    {
     "name": "stderr",
     "output_type": "stream",
     "text": [
      "RDKit ERROR: [06:18:03] UFFTYPER: Unrecognized charge state for atom: 20\n"
     ]
    },
    {
     "name": "stdout",
     "output_type": "stream",
     "text": [
      "done 2000\n",
      "done 2050\n",
      "done 2100\n",
      "done 2150\n",
      "done 2200\n",
      "done 2250\n",
      "done 2300\n"
     ]
    },
    {
     "name": "stderr",
     "output_type": "stream",
     "text": [
      "RDKit ERROR: [06:21:21] UFFTYPER: Unrecognized charge state for atom: 21\n"
     ]
    },
    {
     "name": "stdout",
     "output_type": "stream",
     "text": [
      "done 2350\n",
      "done 2400\n",
      "done 2450\n",
      "done 2500\n",
      "done 2550\n",
      "done 2600\n"
     ]
    },
    {
     "name": "stderr",
     "output_type": "stream",
     "text": [
      "RDKit ERROR: [06:24:12] UFFTYPER: Unrecognized charge state for atom: 15\n"
     ]
    },
    {
     "name": "stdout",
     "output_type": "stream",
     "text": [
      "done 2650\n",
      "done 2700\n"
     ]
    },
    {
     "name": "stderr",
     "output_type": "stream",
     "text": [
      "RDKit ERROR: [06:27:50] UFFTYPER: Unrecognized charge state for atom: 13\n"
     ]
    },
    {
     "name": "stdout",
     "output_type": "stream",
     "text": [
      "done 2750\n"
     ]
    },
    {
     "name": "stderr",
     "output_type": "stream",
     "text": [
      "RDKit ERROR: [06:28:16] UFFTYPER: Unrecognized charge state for atom: 0\n"
     ]
    },
    {
     "name": "stdout",
     "output_type": "stream",
     "text": [
      "done 2800\n",
      "done 2850\n",
      "done 2900\n",
      "done 2950\n",
      "done 3000\n",
      "done 3050\n"
     ]
    },
    {
     "name": "stderr",
     "output_type": "stream",
     "text": [
      "RDKit ERROR: [06:30:52] UFFTYPER: Unrecognized charge state for atom: 29\n",
      "RDKit ERROR: [06:30:54] UFFTYPER: Unrecognized charge state for atom: 31\n",
      "RDKit ERROR: [06:30:56] UFFTYPER: Unrecognized charge state for atom: 31\n"
     ]
    },
    {
     "name": "stdout",
     "output_type": "stream",
     "text": [
      "done 3100\n",
      "done 3150\n",
      "done 3200\n"
     ]
    },
    {
     "name": "stderr",
     "output_type": "stream",
     "text": [
      "RDKit ERROR: [06:32:26] UFFTYPER: Unrecognized charge state for atom: 13\n"
     ]
    },
    {
     "name": "stdout",
     "output_type": "stream",
     "text": [
      "done 3250\n",
      "done 3300\n",
      "done 3350\n",
      "done 3400\n"
     ]
    },
    {
     "name": "stderr",
     "output_type": "stream",
     "text": [
      "RDKit ERROR: [06:34:16] UFFTYPER: Unrecognized charge state for atom: 24\n"
     ]
    },
    {
     "name": "stdout",
     "output_type": "stream",
     "text": [
      "done 3450\n"
     ]
    },
    {
     "name": "stderr",
     "output_type": "stream",
     "text": [
      "RDKit ERROR: [06:34:53] UFFTYPER: Unrecognized charge state for atom: 12\n"
     ]
    },
    {
     "name": "stdout",
     "output_type": "stream",
     "text": [
      "done 3500\n",
      "done 3550\n",
      "done 3600\n",
      "done 3650\n",
      "done 3700\n",
      "done 3750\n",
      "done 3800\n"
     ]
    },
    {
     "name": "stderr",
     "output_type": "stream",
     "text": [
      "RDKit ERROR: [06:37:43] UFFTYPER: Unrecognized charge state for atom: 4\n"
     ]
    },
    {
     "name": "stdout",
     "output_type": "stream",
     "text": [
      "done 3850\n"
     ]
    },
    {
     "name": "stderr",
     "output_type": "stream",
     "text": [
      "RDKit ERROR: [06:37:52] UFFTYPER: Unrecognized charge state for atom: 7\n"
     ]
    },
    {
     "name": "stdout",
     "output_type": "stream",
     "text": [
      "done 3900\n",
      "done 3950\n",
      "done 4000\n",
      "done 4050\n",
      "done 4100\n",
      "done 4150\n"
     ]
    },
    {
     "name": "stderr",
     "output_type": "stream",
     "text": [
      "RDKit ERROR: [06:40:45] UFFTYPER: Unrecognized charge state for atom: 13\n"
     ]
    },
    {
     "name": "stdout",
     "output_type": "stream",
     "text": [
      "done 4200\n"
     ]
    },
    {
     "name": "stderr",
     "output_type": "stream",
     "text": [
      "RDKit ERROR: [06:41:37] UFFTYPER: Unrecognized charge state for atom: 12\n"
     ]
    },
    {
     "name": "stdout",
     "output_type": "stream",
     "text": [
      "done 4250\n",
      "done 4300\n",
      "done 4350\n",
      "done 4400\n",
      "done 4450\n",
      "done 4500\n"
     ]
    }
   ],
   "source": [
    "import time\n",
    "tms = [Chem.Mol(x) for x in ms]\n",
    "ps = AllChem.ETKDG()\n",
    "ps.pruneRmsThresh=0.5\n",
    "ps.numThreads=0\n",
    "ts = []\n",
    "for i,m in enumerate(tms):\n",
    "    t1 = time.time()\n",
    "    AllChem.EmbedMultipleConfs(m,50,ps)\n",
    "    t2=time.time()\n",
    "    ts.append((t2-t1))\n",
    "    if not (i%50): print(\"done %d\"%i)"
   ]
  },
  {
   "cell_type": "markdown",
   "metadata": {},
   "source": [
    "Repeat the conformation generation without ETKDG"
   ]
  },
  {
   "cell_type": "code",
   "execution_count": 139,
   "metadata": {},
   "outputs": [
    {
     "name": "stdout",
     "output_type": "stream",
     "text": [
      "done 0\n",
      "done 50\n",
      "done 100\n",
      "done 150\n",
      "done 200\n"
     ]
    },
    {
     "name": "stderr",
     "output_type": "stream",
     "text": [
      "RDKit ERROR: [06:24:53] UFFTYPER: Unrecognized charge state for atom: 14\n"
     ]
    },
    {
     "name": "stdout",
     "output_type": "stream",
     "text": [
      "done 250\n",
      "done 300\n",
      "done 350\n",
      "done 400\n",
      "done 450\n",
      "done 500\n",
      "done 550\n",
      "done 600\n",
      "done 650\n",
      "done 700\n",
      "done 750\n",
      "done 800\n",
      "done 850\n",
      "done 900\n",
      "done 950\n"
     ]
    },
    {
     "name": "stderr",
     "output_type": "stream",
     "text": [
      "RDKit ERROR: [06:28:04] UFFTYPER: Unrecognized charge state for atom: 12\n"
     ]
    },
    {
     "name": "stdout",
     "output_type": "stream",
     "text": [
      "done 1000\n",
      "done 1050\n",
      "done 1100\n",
      "done 1150\n",
      "done 1200\n",
      "done 1250\n",
      "done 1300\n",
      "done 1350\n",
      "done 1400\n",
      "done 1450\n",
      "done 1500\n",
      "done 1550\n",
      "done 1600\n",
      "done 1650\n",
      "done 1700\n",
      "done 1750\n"
     ]
    },
    {
     "name": "stderr",
     "output_type": "stream",
     "text": [
      "RDKit ERROR: [06:33:27] UFFTYPER: Unrecognized charge state for atom: 12\n",
      "RDKit ERROR: [06:33:28] UFFTYPER: Unrecognized charge state for atom: 12\n"
     ]
    },
    {
     "name": "stdout",
     "output_type": "stream",
     "text": [
      "done 1800\n",
      "done 1850\n",
      "done 1900\n"
     ]
    },
    {
     "name": "stderr",
     "output_type": "stream",
     "text": [
      "RDKit ERROR: [06:34:03] UFFTYPER: Unrecognized charge state for atom: 13\n"
     ]
    },
    {
     "name": "stdout",
     "output_type": "stream",
     "text": [
      "done 1950\n"
     ]
    },
    {
     "name": "stderr",
     "output_type": "stream",
     "text": [
      "RDKit ERROR: [06:34:10] UFFTYPER: Unrecognized charge state for atom: 20\n"
     ]
    },
    {
     "name": "stdout",
     "output_type": "stream",
     "text": [
      "done 2000\n",
      "done 2050\n",
      "done 2100\n",
      "done 2150\n",
      "done 2200\n",
      "done 2250\n",
      "done 2300\n"
     ]
    },
    {
     "name": "stderr",
     "output_type": "stream",
     "text": [
      "RDKit ERROR: [06:35:47] UFFTYPER: Unrecognized charge state for atom: 21\n"
     ]
    },
    {
     "name": "stdout",
     "output_type": "stream",
     "text": [
      "done 2350\n",
      "done 2400\n",
      "done 2450\n",
      "done 2500\n",
      "done 2550\n",
      "done 2600\n"
     ]
    },
    {
     "name": "stderr",
     "output_type": "stream",
     "text": [
      "RDKit ERROR: [06:37:13] UFFTYPER: Unrecognized charge state for atom: 15\n"
     ]
    },
    {
     "name": "stdout",
     "output_type": "stream",
     "text": [
      "done 2650\n",
      "done 2700\n"
     ]
    },
    {
     "name": "stderr",
     "output_type": "stream",
     "text": [
      "RDKit ERROR: [06:39:05] UFFTYPER: Unrecognized charge state for atom: 13\n"
     ]
    },
    {
     "name": "stdout",
     "output_type": "stream",
     "text": [
      "done 2750\n"
     ]
    },
    {
     "name": "stderr",
     "output_type": "stream",
     "text": [
      "RDKit ERROR: [06:39:19] UFFTYPER: Unrecognized charge state for atom: 0\n"
     ]
    },
    {
     "name": "stdout",
     "output_type": "stream",
     "text": [
      "done 2800\n",
      "done 2850\n",
      "done 2900\n",
      "done 2950\n",
      "done 3000\n",
      "done 3050\n"
     ]
    },
    {
     "name": "stderr",
     "output_type": "stream",
     "text": [
      "RDKit ERROR: [06:40:34] UFFTYPER: Unrecognized charge state for atom: 29\n",
      "RDKit ERROR: [06:40:35] UFFTYPER: Unrecognized charge state for atom: 31\n",
      "RDKit ERROR: [06:40:36] UFFTYPER: Unrecognized charge state for atom: 31\n"
     ]
    },
    {
     "name": "stdout",
     "output_type": "stream",
     "text": [
      "done 3100\n",
      "done 3150\n",
      "done 3200\n"
     ]
    },
    {
     "name": "stderr",
     "output_type": "stream",
     "text": [
      "RDKit ERROR: [06:41:23] UFFTYPER: Unrecognized charge state for atom: 13\n"
     ]
    },
    {
     "name": "stdout",
     "output_type": "stream",
     "text": [
      "done 3250\n",
      "done 3300\n",
      "done 3350\n",
      "done 3400\n"
     ]
    },
    {
     "name": "stderr",
     "output_type": "stream",
     "text": [
      "RDKit ERROR: [06:42:15] UFFTYPER: Unrecognized charge state for atom: 24\n"
     ]
    },
    {
     "name": "stdout",
     "output_type": "stream",
     "text": [
      "done 3450\n"
     ]
    },
    {
     "name": "stderr",
     "output_type": "stream",
     "text": [
      "RDKit ERROR: [06:42:34] UFFTYPER: Unrecognized charge state for atom: 12\n"
     ]
    },
    {
     "name": "stdout",
     "output_type": "stream",
     "text": [
      "done 3500\n",
      "done 3550\n",
      "done 3600\n",
      "done 3650\n",
      "done 3700\n",
      "done 3750\n",
      "done 3800\n"
     ]
    },
    {
     "name": "stderr",
     "output_type": "stream",
     "text": [
      "RDKit ERROR: [06:43:52] UFFTYPER: Unrecognized charge state for atom: 4\n"
     ]
    },
    {
     "name": "stdout",
     "output_type": "stream",
     "text": [
      "done 3850\n"
     ]
    },
    {
     "name": "stderr",
     "output_type": "stream",
     "text": [
      "RDKit ERROR: [06:43:57] UFFTYPER: Unrecognized charge state for atom: 7\n"
     ]
    },
    {
     "name": "stdout",
     "output_type": "stream",
     "text": [
      "done 3900\n",
      "done 3950\n",
      "done 4000\n",
      "done 4050\n",
      "done 4100\n",
      "done 4150\n"
     ]
    },
    {
     "name": "stderr",
     "output_type": "stream",
     "text": [
      "RDKit ERROR: [06:45:22] UFFTYPER: Unrecognized charge state for atom: 13\n"
     ]
    },
    {
     "name": "stdout",
     "output_type": "stream",
     "text": [
      "done 4200\n"
     ]
    },
    {
     "name": "stderr",
     "output_type": "stream",
     "text": [
      "RDKit ERROR: [06:45:48] UFFTYPER: Unrecognized charge state for atom: 12\n"
     ]
    },
    {
     "name": "stdout",
     "output_type": "stream",
     "text": [
      "done 4250\n",
      "done 4300\n",
      "done 4350\n",
      "done 4400\n",
      "done 4450\n",
      "done 4500\n"
     ]
    }
   ],
   "source": [
    "tms2 = [Chem.Mol(x) for x in ms]\n",
    "ps = AllChem.ETKDG()\n",
    "ps.useBasicKnowledge = False\n",
    "ps.useExpTorsionAnglePrefs = False\n",
    "ps.pruneRmsThresh=0.5\n",
    "ps.numThreads=0\n",
    "ts2 = []\n",
    "for i,m in enumerate(tms2):\n",
    "    t1 = time.time()\n",
    "    AllChem.EmbedMultipleConfs(m,50,ps)\n",
    "    t2=time.time()\n",
    "    ts2.append((t2-t1))\n",
    "    if not (i%50): print(\"done %d\"%i)"
   ]
  },
  {
   "cell_type": "code",
   "execution_count": 140,
   "metadata": {
    "collapsed": true
   },
   "outputs": [],
   "source": [
    "ms_noh = [Chem.RemoveHs(m) for m in ms]\n",
    "tms_noh = [Chem.RemoveHs(m) for m in tms]\n",
    "tms2_noh = [Chem.RemoveHs(m) for m in tms2]\n"
   ]
  },
  {
   "cell_type": "code",
   "execution_count": 141,
   "metadata": {
    "collapsed": true
   },
   "outputs": [],
   "source": [
    "import pickle\n",
    "with open('../data/platinum_dataset_2017_01.chiral_confs.pkl','wb+') as outf:\n",
    "    pickle.dump((ms_noh,tms_noh,tms2_noh,ts,ts2),outf)"
   ]
  },
  {
   "cell_type": "code",
   "execution_count": 143,
   "metadata": {},
   "outputs": [],
   "source": [
    "rmsvs = defaultdict(list)\n",
    "for m,tm in zip(ms_noh,tms_noh):\n",
    "    best = 1e8\n",
    "    cids = [x.GetId() for x in tm.GetConformers()]\n",
    "    for i,cid in enumerate(cids):\n",
    "        rms = AllChem.GetBestRMS(m,tm,probeConfId=cid)\n",
    "        best = min(rms,best)\n",
    "        if not i:\n",
    "            best_1 = best\n",
    "        if i<5:\n",
    "            best_5 = best\n",
    "        if i<20:\n",
    "            best_20 = best\n",
    "        if i<25:\n",
    "            best_25 = best\n",
    "    rmsvs[50].append(best)\n",
    "    rmsvs[1].append(best_1)\n",
    "    rmsvs[5].append(best_5)\n",
    "    rmsvs[20].append(best_20)\n",
    "    rmsvs[25].append(best_25)\n",
    "rmsvs2 = defaultdict(list)\n",
    "for m,tm in zip(ms_noh,tms2_noh):\n",
    "    best = 1e8\n",
    "    cids = [x.GetId() for x in tm.GetConformers()]\n",
    "    for i,cid in enumerate(cids):\n",
    "        rms = AllChem.GetBestRMS(m,tm,probeConfId=cid)\n",
    "        best = min(rms,best)\n",
    "        if not i:\n",
    "            best_1 = best\n",
    "        if i<5:\n",
    "            best_5 = best\n",
    "        if i<20:\n",
    "            best_20 = best\n",
    "        if i<25:\n",
    "            best_25 = best\n",
    "    rmsvs2[50].append(best)\n",
    "    rmsvs2[1].append(best_1)\n",
    "    rmsvs2[5].append(best_5)\n",
    "    rmsvs2[20].append(best_20)\n",
    "    rmsvs2[25].append(best_25)    "
   ]
  },
  {
   "cell_type": "markdown",
   "metadata": {},
   "source": [
    "There are a couple molecules where we didn't manage to generate conformations:"
   ]
  },
  {
   "cell_type": "code",
   "execution_count": 144,
   "metadata": {},
   "outputs": [
    {
     "data": {
      "text/plain": [
       "2"
      ]
     },
     "execution_count": 144,
     "metadata": {},
     "output_type": "execute_result"
    }
   ],
   "source": [
    "len([1 for x in rmsvs[50] if x>1000])"
   ]
  },
  {
   "cell_type": "code",
   "execution_count": 145,
   "metadata": {
    "collapsed": true
   },
   "outputs": [],
   "source": [
    "def values_there(seq,threshold=1000):\n",
    "    return [x for x in seq if x<threshold]"
   ]
  },
  {
   "cell_type": "code",
   "execution_count": 150,
   "metadata": {},
   "outputs": [
    {
     "data": {
      "image/png": "[encoded data removed]",
      "text/plain": [
       "<matplotlib.figure.Figure at 0x7f38c7b4d978>"
      ]
     },
     "metadata": {},
     "output_type": "display_data"
    }
   ],
   "source": [
    "figsize(18,6)\n",
    "hist([values_there(rmsvs[x]) for x in sorted(rmsvs)],bins=20,label=[x for x in sorted(rmsvs)]);\n",
    "legend();\n",
    "title('ETKDG');"
   ]
  },
  {
   "cell_type": "code",
   "execution_count": 149,
   "metadata": {},
   "outputs": [
    {
     "data": {
      "image/png": "[encoded data removed]",
      "text/plain": [
       "<matplotlib.figure.Figure at 0x7f389f2e47f0>"
      ]
     },
     "metadata": {},
     "output_type": "display_data"
    }
   ],
   "source": [
    "figsize(18,6)\n",
    "hist([values_there(rmsvs2[x]) for x in sorted(rmsvs2)],bins=20,label=[x for x in sorted(rmsvs2)]);\n",
    "legend();\n",
    "title('default DG');"
   ]
  },
  {
   "cell_type": "code",
   "execution_count": 151,
   "metadata": {},
   "outputs": [],
   "source": [
    "nrots = [AllChem.CalcNumRotatableBonds(x) for x in ms_noh]\n",
    "rms_by_nrot = defaultdict(lambda:defaultdict(list))\n",
    "rms_by_nrot2 = defaultdict(lambda:defaultdict(list))\n",
    "for i,nrot in enumerate(nrots):\n",
    "    for k in rmsvs:\n",
    "        rms_by_nrot[k][nrot].append(rmsvs[k][i])\n",
    "        rms_by_nrot2[k][nrot].append(rmsvs2[k][i])"
   ]
  },
  {
   "cell_type": "code",
   "execution_count": 152,
   "metadata": {},
   "outputs": [],
   "source": [
    "import numpy as np\n",
    "counts = sorted([(x,len(values_there(rms_by_nrot[50][x]))) for x in rms_by_nrot[50]])"
   ]
  },
  {
   "cell_type": "code",
   "execution_count": 169,
   "metadata": {},
   "outputs": [
    {
     "data": {
      "image/png": "[encoded data removed]",
      "text/plain": [
       "<matplotlib.figure.Figure at 0x7f38c7a09898>"
      ]
     },
     "metadata": {},
     "output_type": "display_data"
    }
   ],
   "source": [
    "integral = [counts[0][1]]\n",
    "for i in range(1,len(counts)): \n",
    "    integral.append(counts[i][1]+integral[-1])\n",
    "integral = [x/len(ms_noh) for x in integral]\n",
    "figsize(6,6)\n",
    "fig, ax1 = plt.subplots()\n",
    "ax2 = ax1.twinx()\n",
    "ax2.plot([x for x,y in counts],[y for y in integral],linestyle='--',color='r')\n",
    "ax2.set_ylabel('frac structs')\n",
    "\n",
    "for k in sorted(rms_by_nrot):\n",
    "    means = [(x,np.average(values_there(rms_by_nrot[k][x]))) for x,_ in counts]\n",
    "    means = sorted(means)\n",
    "    ax1.plot([x for x,y in means],[y for x,y in means],label=\"ETKDG\"+str(k))\n",
    "for k in (5,50):\n",
    "    means = [(x,np.average(values_there(rms_by_nrot2[k][x]))) for x,_ in counts]\n",
    "    means = sorted(means)\n",
    "    ax1.plot([x for x,y in means],[y for x,y in means],linestyle=':',label=\"DG\"+str(k))\n",
    "\n",
    "ax1.set_ylabel('mean(RMSD)');\n",
    "ax1.set_xlabel('num_rotatable')\n",
    "ax1.legend();\n",
    "ax2.grid(axis='y')\n",
    "ax1.grid(axis='x')"
   ]
  },
  {
   "cell_type": "code",
   "execution_count": null,
   "metadata": {
    "collapsed": true
   },
   "outputs": [],
   "source": []
  }
 ],
 "metadata": {
  "anaconda-cloud": {},
  "kernelspec": {
   "display_name": "Python 3",
   "language": "python",
   "name": "python3"
  },
  "language_info": {
   "codemirror_mode": {
    "name": "ipython",
    "version": 3
   },
   "file_extension": ".py",
   "mimetype": "text/x-python",
   "name": "python",
   "nbconvert_exporter": "python",
   "pygments_lexer": "ipython3",
   "version": "3.6.1"
  }
 },
 "nbformat": 4,
 "nbformat_minor": 1
}
