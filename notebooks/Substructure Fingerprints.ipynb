{
 "metadata": {
  "name": ""
 },
 "nbformat": 3,
 "nbformat_minor": 0,
 "worksheets": [
  {
   "cells": [
    {
     "cell_type": "markdown",
     "metadata": {},
     "source": [
      "# Substructure screening with the fingerprints in the RDKit.\n",
      "\n"
     ]
    },
    {
     "cell_type": "code",
     "collapsed": false,
     "input": [
      "from rdkit import Chem\n",
      "from rdkit.Chem import rdMolDescriptors\n",
      "from rdkit.Avalon import pyAvalonTools\n",
      "from rdkit.Chem import Draw\n",
      "from rdkit.Chem.Draw import IPythonConsole\n",
      "from rdkit import rdBase\n",
      "from rdkit import DataStructs\n",
      "import cPickle,random,gzip,time\n",
      "from __future__ import print_function\n",
      "print(rdBase.rdkitVersion)\n"
     ],
     "language": "python",
     "metadata": {},
     "outputs": [
      {
       "output_type": "stream",
       "stream": "stdout",
       "text": [
        "2014.03.1pre\n"
       ]
      }
     ],
     "prompt_number": 1
    },
    {
     "cell_type": "markdown",
     "metadata": {},
     "source": [
      "# Read in the data\n",
      "\n",
      "## Database molecules\n",
      "\n",
      "Here we will use the 50K molecules that make up the set of 25K reference pairs generated in an earlier post: http://rdkit.blogspot.ch/2013/10/building-similarity-comparison-set-goal.html\n",
      "\n",
      "As a quick reminder: these are pairs of molecules taken from ChEMBL with MW<600 and a count-based MFP0 similarity of at least 0.7 to each other."
     ]
    },
    {
     "cell_type": "code",
     "collapsed": false,
     "input": [
      "ind = [x.split() for x in gzip.open('../data/chembl16_25K.pairs.txt.gz')]\n",
      "mols = []\n",
      "for i,row in enumerate(ind):\n",
      "    m1 = Chem.MolFromSmiles(row[1])\n",
      "    mols.append(m1)\n",
      "    m2 = Chem.MolFromSmiles(row[3])\n",
      "    mols.append(m2)\n",
      "    "
     ],
     "language": "python",
     "metadata": {},
     "outputs": [],
     "prompt_number": 2
    },
    {
     "cell_type": "markdown",
     "metadata": {},
     "source": [
      "## Query molecules\n",
      "\n",
      "We'll use three sets:\n",
      "\n",
      "   1. Fragments: 500 diverse molecules taken from the ZINC Fragments set\n",
      "   2. Leads: 500 diverse molecules taken from the ZINC Lead-like set\n",
      "   3. Pieces: 823 pieces of molecules obtained by doing a BRICS fragmentation of some molecules from the pubchem screening set.\n",
      "   \n",
      "These sets were discussed in this thread on the mailing list:\n",
      "http://www.mail-archive.com/rdkit-discuss@lists.sourceforge.net/msg02066.html\n",
      "and this presentation:\n",
      "http://www.hinxton.wellcome.ac.uk/advancedcourses/MIOSS%20Greg%20Landrum.pdf"
     ]
    },
    {
     "cell_type": "code",
     "collapsed": false,
     "input": [
      "frags = [Chem.MolFromSmiles(x.split()[0]) for x in file('../data/zinc.frags.500.q.smi')]\n",
      "leads = [Chem.MolFromSmiles(x.split()[0]) for x in file('../data/zinc.leads.500.q.smi')]\n",
      "pieces = [Chem.MolFromSmiles(x) for x in file('../data/fragqueries.q.txt')]"
     ],
     "language": "python",
     "metadata": {},
     "outputs": [],
     "prompt_number": 3
    },
    {
     "cell_type": "markdown",
     "metadata": {},
     "source": [
      "# Setting up the parallelization\n",
      "\n",
      "I'm going to be doing a fair amount of embarassingly parallel computation, so I'll take advantage of IPython's support for parallel computing. For this to work, you need to have a cluster of workers set up. This is easy in the Notebook (there's a tab in the dashboard), and it's doable from the command line(http://ipython.org/ipython-doc/stable/parallel/parallel_process.html)\n",
      "\n",
      "It took a bit of time to figure out how to do this, but once over that hurdle, this thing is super easy and useful."
     ]
    },
    {
     "cell_type": "code",
     "collapsed": false,
     "input": [
      "from IPython.parallel import Client\n",
      "rc = Client()\n",
      "dview = rc[:]\n"
     ],
     "language": "python",
     "metadata": {},
     "outputs": [],
     "prompt_number": 19
    },
    {
     "cell_type": "code",
     "collapsed": false,
     "input": [
      "with dview.sync_imports():\n",
      "    from rdkit import Chem\n",
      "    from rdkit import DataStructs\n",
      "    from rdkit.Avalon import pyAvalonTools"
     ],
     "language": "python",
     "metadata": {},
     "outputs": [
      {
       "output_type": "stream",
       "stream": "stdout",
       "text": [
        "importing Chem from rdkit on engine(s)\n",
        "importing DataStructs from rdkit on engine(s)\n",
        "importing pyAvalonTools from rdkit.Avalon on engine(s)\n"
       ]
      }
     ],
     "prompt_number": 20
    },
    {
     "cell_type": "markdown",
     "metadata": {},
     "source": [
      "Verify that it works:"
     ]
    },
    {
     "cell_type": "code",
     "collapsed": false,
     "input": [
      "t1=time.time()\n",
      "_ = [Chem.RDKFingerprint(m) for m in mols[:10000]]\n",
      "t2=time.time()\n",
      "print('Serial: %.2f'%(t2-t1))"
     ],
     "language": "python",
     "metadata": {},
     "outputs": [
      {
       "output_type": "stream",
       "stream": "stdout",
       "text": [
        "Serial: 15.39\n"
       ]
      }
     ],
     "prompt_number": 28
    },
    {
     "cell_type": "code",
     "collapsed": false,
     "input": [
      "fn = lambda x:Chem.RDKFingerprint(x)\n",
      "t1=time.time()\n",
      "_ = dview.map_sync(fn,mols[:10000])\n",
      "t2=time.time()\n",
      "print('Parallel: %.2f'%(t2-t1))"
     ],
     "language": "python",
     "metadata": {},
     "outputs": [
      {
       "output_type": "stream",
       "stream": "stdout",
       "text": [
        "Parallel: 5.30\n"
       ]
      }
     ],
     "prompt_number": 31
    },
    {
     "cell_type": "markdown",
     "metadata": {},
     "source": [
      "The above runtimes were collected with a cluster of 4 workers, so it looks like the parallization is working."
     ]
    },
    {
     "cell_type": "markdown",
     "metadata": {},
     "source": [
      "# The test harness"
     ]
    },
    {
     "cell_type": "code",
     "collapsed": false,
     "input": [
      "def subTest(mol,queries,qfps,fpf,verify,silent):\n",
      "    nFound=0\n",
      "    nScreened=0\n",
      "    nTot=0\n",
      "    nFailed = 0\n",
      "    molfp = fpf(mol,False)\n",
      "    for j,queryfp in enumerate(qfps):\n",
      "        nTot += 1 \n",
      "        if DataStructs.AllProbeBitsMatch(queryfp,molfp):\n",
      "            nScreened += 1\n",
      "            if mol.HasSubstructMatch(queries[j]):\n",
      "                nFound += 1\n",
      "        elif verify:\n",
      "            if mol.HasSubstructMatch(queries[j]):\n",
      "                nFailed += 1\n",
      "                if not silent:\n",
      "                    print('Failure: %s %s'%(Chem.MolToSmiles(mol,True),Chem.MolToSmiles(queries[j],True)))\n",
      "    return nFound,nScreened,nTot,nFailed\n",
      "\n",
      "def testScreenout(mols,queries,fpf,dview,verify=False,silent=False):\n",
      "    nFound=0\n",
      "    nScreened=0\n",
      "    nTot=0\n",
      "    nFailed = 0\n",
      "    #if not silent: print(\"Building query fingerprints\")\n",
      "    qfps = [fpf(m,True) for m in queries]\n",
      "    #if not silent: print(\"Running Queries\")\n",
      "    t = lambda x,qfps=qfps,queries=queries,fpf=fpf,verify=verify,silent=silent,subTest=subTest:subTest(x,queries,qfps,fpf,verify,silent)\n",
      "    res=dview.map_async(t,mols)\n",
      "    for entry in res:\n",
      "        nFound+=entry[0]\n",
      "        nScreened+=entry[1]\n",
      "        nTot+=entry[2]\n",
      "        nFailed+=entry[3]\n",
      "    if not silent:\n",
      "        accuracy = float(nFound)/nScreened\n",
      "        print(\"Found %d matches in %d searches with %d failures. Accuracy: %.3f\"%(nFound,nScreened,nFailed,accuracy))\n",
      "    return nTot,nScreened,nFound,nFailed\n"
     ],
     "language": "python",
     "metadata": {},
     "outputs": [],
     "prompt_number": 25
    },
    {
     "cell_type": "markdown",
     "metadata": {},
     "source": [
      "# Tests"
     ]
    },
    {
     "cell_type": "code",
     "collapsed": false,
     "input": [
      "methods = {\n",
      "   'Avalon-2K':lambda x,y: pyAvalonTools.GetAvalonFP(x,nBits=2048,isQuery=y,bitFlags=pyAvalonTools.avalonSSSBits),\n",
      "\n",
      "   'Pattern-1K':lambda x,y: Chem.PatternFingerprint(x,fpSize=1024),\n",
      "   'Pattern-2K':lambda x,y: Chem.PatternFingerprint(x,fpSize=2048),\n",
      "   'Pattern-4K':lambda x,y: Chem.PatternFingerprint(x,fpSize=4096),\n",
      "\n",
      "   'Layered': lambda x,y:Chem.LayeredFingerprint(x,layerFlags=Chem.LayeredFingerprint_substructLayers),\n",
      "   }"
     ],
     "language": "python",
     "metadata": {},
     "outputs": [],
     "prompt_number": 12
    },
    {
     "cell_type": "code",
     "collapsed": false,
     "input": [
      "leadResults={}\n",
      "fragResults={}\n",
      "pieceResults={}\n",
      "for method,func in methods.iteritems():\n",
      "    print(\"----------------------------\")\n",
      "    print(\"Doing %s\"%method)\n",
      "    print(\"Leads\")\n",
      "    leadResults[method]=testScreenout(mols,leads,func,dview)\n",
      "    print(\"Frags\")\n",
      "    fragResults[method]=testScreenout(mols,frags,func,dview)\n",
      "    print(\"Pieces\")\n",
      "    pieceResults[method]=testScreenout(mols,pieces,func,dview)\n",
      "    "
     ],
     "language": "python",
     "metadata": {},
     "outputs": [
      {
       "output_type": "stream",
       "stream": "stdout",
       "text": [
        "----------------------------\n",
        "Doing Avalon-2K\n",
        "Leads\n",
        "Found 886 matches in 2044 searches with 0 failures. Accuracy: 0.433"
       ]
      },
      {
       "output_type": "stream",
       "stream": "stdout",
       "text": [
        "\n",
        "Frags\n",
        "Found 4479 matches in 13656 searches with 0 failures. Accuracy: 0.328"
       ]
      },
      {
       "output_type": "stream",
       "stream": "stdout",
       "text": [
        "\n",
        "Pieces\n",
        "Found 1926728 matches in 4141259 searches with 0 failures. Accuracy: 0.465"
       ]
      },
      {
       "output_type": "stream",
       "stream": "stdout",
       "text": [
        "\n",
        "----------------------------\n",
        "Doing Layered\n",
        "Leads\n",
        "Found 1274 matches in 6797 searches with 0 failures. Accuracy: 0.187"
       ]
      },
      {
       "output_type": "stream",
       "stream": "stdout",
       "text": [
        "\n",
        "Frags\n",
        "Found 4659 matches in 44258 searches with 0 failures. Accuracy: 0.105"
       ]
      },
      {
       "output_type": "stream",
       "stream": "stdout",
       "text": [
        "\n",
        "Pieces\n",
        "Found 1935315 matches in 4642461 searches with 0 failures. Accuracy: 0.417"
       ]
      },
      {
       "output_type": "stream",
       "stream": "stdout",
       "text": [
        "\n",
        "----------------------------\n",
        "Doing Pattern-2K\n",
        "Leads\n",
        "Found 1274 matches in 2072 searches with 0 failures. Accuracy: 0.615"
       ]
      },
      {
       "output_type": "stream",
       "stream": "stdout",
       "text": [
        "\n",
        "Frags\n",
        "Found 4650 matches in 7601 searches with 0 failures. Accuracy: 0.612"
       ]
      },
      {
       "output_type": "stream",
       "stream": "stdout",
       "text": [
        "\n",
        "Pieces\n",
        "Found 1922627 matches in 3376080 searches with 0 failures. Accuracy: 0.569"
       ]
      },
      {
       "output_type": "stream",
       "stream": "stdout",
       "text": [
        "\n",
        "----------------------------\n",
        "Doing Pattern-1K\n",
        "Leads\n",
        "Found 1274 matches in 7318 searches with 0 failures. Accuracy: 0.174"
       ]
      },
      {
       "output_type": "stream",
       "stream": "stdout",
       "text": [
        "\n",
        "Frags\n",
        "Found 4650 matches in 15027 searches with 0 failures. Accuracy: 0.309"
       ]
      },
      {
       "output_type": "stream",
       "stream": "stdout",
       "text": [
        "\n",
        "Pieces\n",
        "Found 1922844 matches in 3666369 searches with 0 failures. Accuracy: 0.524"
       ]
      },
      {
       "output_type": "stream",
       "stream": "stdout",
       "text": [
        "\n",
        "----------------------------\n",
        "Doing Pattern-4K\n",
        "Leads\n",
        "Found 1274 matches in 2058 searches with 0 failures. Accuracy: 0.619"
       ]
      },
      {
       "output_type": "stream",
       "stream": "stdout",
       "text": [
        "\n",
        "Frags\n",
        "Found 4643 matches in 7481 searches with 0 failures. Accuracy: 0.621"
       ]
      },
      {
       "output_type": "stream",
       "stream": "stdout",
       "text": [
        "\n",
        "Pieces\n",
        "Found 1921442 matches in 3034574 searches with 0 failures. Accuracy: 0.633"
       ]
      },
      {
       "output_type": "stream",
       "stream": "stdout",
       "text": [
        "\n"
       ]
      }
     ],
     "prompt_number": 26
    },
    {
     "cell_type": "markdown",
     "metadata": {},
     "source": [
      "## Summarize that:"
     ]
    },
    {
     "cell_type": "code",
     "collapsed": false,
     "input": [
      "mns = sorted(methods.keys())\n",
      "for mn in mns:\n",
      "    print(mn,'Pieces','%.3f'%(float(pieceResults[mn][2])/pieceResults[mn][1]),'Fragments','%.3f'%(float(fragResults[mn][2])/fragResults[mn][1]),\n",
      "          'Leads','%.3f'%(float(leadResults[mn][2])/leadResults[mn][1]))"
     ],
     "language": "python",
     "metadata": {},
     "outputs": [
      {
       "output_type": "stream",
       "stream": "stdout",
       "text": [
        "Avalon-2K Pieces 0.465 Fragments 0.328 Leads 0.433\n",
        "Layered Pieces 0.417 Fragments 0.105 Leads 0.187\n",
        "Pattern-1K Pieces 0.524 Fragments 0.309 Leads 0.174\n",
        "Pattern-2K Pieces 0.569 Fragments 0.612 Leads 0.615\n",
        "Pattern-4K Pieces 0.633 Fragments 0.621 Leads 0.619\n"
       ]
      }
     ],
     "prompt_number": 37
    },
    {
     "cell_type": "markdown",
     "metadata": {},
     "source": [
      "## A caveat\n",
      "\n",
      "The results from the Avalon fingerprint shown above are not directly comparable to the others since structures are being filtered out that shouldn't be.\n",
      "\n",
      "Here's are a couple of examples:"
     ]
    },
    {
     "cell_type": "code",
     "collapsed": false,
     "input": [
      "testScreenout(mols[:500],leads,methods['Avalon-2K'],verify=True)"
     ],
     "language": "python",
     "metadata": {},
     "outputs": [
      {
       "output_type": "stream",
       "stream": "stdout",
       "text": [
        "Building query fingerprints\n",
        "Running Queries"
       ]
      },
      {
       "output_type": "stream",
       "stream": "stdout",
       "text": [
        "\n",
        "Failure: Cc1ccc(C)c(S(=O)(=O)c2nnn3c4ccsc4c(Nc4ccc(C)c(C)c4)nc23)c1 c1cn[nH]n1"
       ]
      },
      {
       "output_type": "stream",
       "stream": "stdout",
       "text": [
        "\n",
        "Failure: COc1ccc(OCC#Cc2cn([C@H](C)C[C@@H]3CC[C@H]([C@@H](C)C(=O)N(C)Cc4ccccc4)O3)nn2)cc1 c1cn[nH]n1"
       ]
      },
      {
       "output_type": "stream",
       "stream": "stdout",
       "text": [
        "\n",
        "Failure: Cc1c(C(=O)Nc2ccccc2)nnn1Cc1ccccc1O c1cn[nH]n1"
       ]
      },
      {
       "output_type": "stream",
       "stream": "stdout",
       "text": [
        "\n",
        "Failure: c1c(CCc2ccccc2)nnn1C[C@H]1CC[C@@H]([C@@H]2CC[C@H](Cn3cc(CCc4ccccc4)nn3)O2)O1 c1cn[nH]n1"
       ]
      },
      {
       "output_type": "stream",
       "stream": "stdout",
       "text": [
        "\n",
        "Failure: O=C(NCc1ccc(F)cc1)[C@@H](CCN1[C@@H]2CC[C@@H]1CC(n1nnc3cccnc31)C2)c1ccccc1 c1cn[nH]n1\n",
        "Found 10 matches in 22 searches. Accuracy: 0.455\n"
       ]
      },
      {
       "metadata": {},
       "output_type": "pyout",
       "prompt_number": 84,
       "text": [
        "(250000, 22, 10, 5)"
       ]
      }
     ],
     "prompt_number": 84
    },
    {
     "cell_type": "markdown",
     "metadata": {},
     "source": [
      "Look at a specific example:"
     ]
    },
    {
     "cell_type": "code",
     "collapsed": false,
     "input": [
      "mfp = pyAvalonTools.GetAvalonFP('Cc1ccc(C)c(S(=O)(=O)c2nnn3c4ccsc4c(Nc4ccc(C)c(C)c4)nc23)c1',True,2048,isQuery=False)\n",
      "qfp = pyAvalonTools.GetAvalonFP('c1cn[nH]n1',True,2048,isQuery=True)\n",
      "DataStructs.AllProbeBitsMatch(qfp,mfp)"
     ],
     "language": "python",
     "metadata": {},
     "outputs": [
      {
       "metadata": {},
       "output_type": "pyout",
       "prompt_number": 98,
       "text": [
        "False"
       ]
      }
     ],
     "prompt_number": 98
    },
    {
     "cell_type": "code",
     "collapsed": false,
     "input": [
      "Chem.MolFromSmiles('Cc1ccc(C)c(S(=O)(=O)c2nnn3c4ccsc4c(Nc4ccc(C)c(C)c4)nc23)c1')"
     ],
     "language": "python",
     "metadata": {},
     "outputs": [
      {
       "metadata": {},
       "output_type": "pyout",
       "png": "[encoded data removed]",
       "prompt_number": 99,
       "text": [
        "<rdkit.Chem.rdchem.Mol at 0x5df81b40>"
       ]
      }
     ],
     "prompt_number": 99
    },
    {
     "cell_type": "markdown",
     "metadata": {},
     "source": [
      "The normal explanation for this would be differences in the aromaticity model. In this case, however, that turns out not be exactly it.\n",
      "\n",
      "Here's the molecule we're querying with:"
     ]
    },
    {
     "cell_type": "code",
     "collapsed": false,
     "input": [
      "Chem.MolFromSmiles('c1cn[nH]n1')"
     ],
     "language": "python",
     "metadata": {},
     "outputs": [
      {
       "metadata": {},
       "output_type": "pyout",
       "png": "[encoded data removed]",
       "prompt_number": 100,
       "text": [
        "<rdkit.Chem.rdchem.Mol at 0x5df81d70>"
       ]
      }
     ],
     "prompt_number": 100
    },
    {
     "cell_type": "code",
     "collapsed": false,
     "input": [
      "qfp2 = pyAvalonTools.GetAvalonFP('c1cnn[nH]1',True,2048,isQuery=True)\n",
      "qfp==qfp2"
     ],
     "language": "python",
     "metadata": {},
     "outputs": [
      {
       "metadata": {},
       "output_type": "pyout",
       "prompt_number": 101,
       "text": [
        "False"
       ]
      }
     ],
     "prompt_number": 101
    },
    {
     "cell_type": "markdown",
     "metadata": {},
     "source": [
      "The deciding factor is the tautomer. The Avalon fingerprinter considers this significant,\n",
      "and that difference explains the different screenout.\n",
      "\n",
      "If we use the fingerprint from the second tautomer we see the expected screenout behavior:"
     ]
    },
    {
     "cell_type": "code",
     "collapsed": false,
     "input": [
      "DataStructs.AllProbeBitsMatch(qfp2,mfp)"
     ],
     "language": "python",
     "metadata": {},
     "outputs": [
      {
       "metadata": {},
       "output_type": "pyout",
       "prompt_number": 102,
       "text": [
        "True"
       ]
      }
     ],
     "prompt_number": 102
    },
    {
     "cell_type": "markdown",
     "metadata": {},
     "source": [
      "This ends up mattering because the RDKit's substructure matcher ignores the H completely:"
     ]
    },
    {
     "cell_type": "code",
     "collapsed": false,
     "input": [
      "Chem.MolFromSmiles('c1cnn[nH]1').HasSubstructMatch(Chem.MolFromSmiles('c1cn[nH]n1'))"
     ],
     "language": "python",
     "metadata": {},
     "outputs": [
      {
       "metadata": {},
       "output_type": "pyout",
       "prompt_number": 103,
       "text": [
        "True"
       ]
      }
     ],
     "prompt_number": 103
    },
    {
     "cell_type": "code",
     "collapsed": false,
     "input": [
      "Chem.MolFromSmiles('c1cnnn1C').HasSubstructMatch(Chem.MolFromSmiles('c1cn[nH]n1'))"
     ],
     "language": "python",
     "metadata": {},
     "outputs": [
      {
       "metadata": {},
       "output_type": "pyout",
       "prompt_number": 104,
       "text": [
        "True"
       ]
      }
     ],
     "prompt_number": 104
    },
    {
     "cell_type": "markdown",
     "metadata": {},
     "source": [
      "Unless, of course, you construct the query from SMARTS:"
     ]
    },
    {
     "cell_type": "code",
     "collapsed": false,
     "input": [
      "Chem.MolFromSmiles('c1cnnn1C').HasSubstructMatch(Chem.MolFromSmarts('c1cn[nH]n1'))"
     ],
     "language": "python",
     "metadata": {},
     "outputs": [
      {
       "metadata": {},
       "output_type": "pyout",
       "prompt_number": 105,
       "text": [
        "False"
       ]
      }
     ],
     "prompt_number": 105
    },
    {
     "cell_type": "code",
     "collapsed": false,
     "input": [],
     "language": "python",
     "metadata": {},
     "outputs": []
    }
   ],
   "metadata": {}
  }
 ]
}