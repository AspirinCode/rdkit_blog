{
 "metadata": {
  "name": ""
 },
 "nbformat": 3,
 "nbformat_minor": 0,
 "worksheets": [
  {
   "cells": [
    {
     "cell_type": "markdown",
     "metadata": {},
     "source": [
      "Inspired by this RDKit-discuss thread started by Liz Wylie:\n",
      "http://www.mail-archive.com/rdkit-discuss@lists.sourceforge.net/msg03676.html"
     ]
    },
    {
     "cell_type": "code",
     "collapsed": false,
     "input": [
      "from rdkit import Chem\n",
      "from rdkit.Chem import MCS\n",
      "from rdkit.Chem.Draw import IPythonConsole"
     ],
     "language": "python",
     "metadata": {},
     "outputs": [],
     "prompt_number": 1
    },
    {
     "cell_type": "markdown",
     "metadata": {},
     "source": [
      "Start with two sets of simple molecules"
     ]
    },
    {
     "cell_type": "code",
     "collapsed": false,
     "input": [
      "smis = ['CC(C)=C','CC(C)C']\n",
      "ms = [Chem.MolFromSmiles(x) for x in smis]\n",
      "smis2 = ['CC(C)=C','CC(C)=N']\n",
      "ms2 = [Chem.MolFromSmiles(x) for x in smis2]\n"
     ],
     "language": "python",
     "metadata": {},
     "outputs": [],
     "prompt_number": 2
    },
    {
     "cell_type": "markdown",
     "metadata": {},
     "source": [
      "default MCS behavior:"
     ]
    },
    {
     "cell_type": "code",
     "collapsed": false,
     "input": [
      "mcs=MCS.FindMCS(ms)\n",
      "mcs.smarts"
     ],
     "language": "python",
     "metadata": {},
     "outputs": [
      {
       "metadata": {},
       "output_type": "pyout",
       "prompt_number": 3,
       "text": [
        "'[#6]-[#6]-[#6]'"
       ]
      }
     ],
     "prompt_number": 3
    },
    {
     "cell_type": "code",
     "collapsed": false,
     "input": [
      "mcs=MCS.FindMCS(ms2)\n",
      "mcs.smarts"
     ],
     "language": "python",
     "metadata": {},
     "outputs": [
      {
       "metadata": {},
       "output_type": "pyout",
       "prompt_number": 4,
       "text": [
        "'[#6]-[#6]-[#6]'"
       ]
      }
     ],
     "prompt_number": 4
    },
    {
     "cell_type": "markdown",
     "metadata": {},
     "source": [
      "define a simple hash that combines atomic num and hybridization"
     ]
    },
    {
     "cell_type": "code",
     "collapsed": false,
     "input": [
      "def label(a): \n",
      "    return 100*int(a.GetHybridization())+a.GetAtomicNum()\n"
     ],
     "language": "python",
     "metadata": {},
     "outputs": [],
     "prompt_number": 5
    },
    {
     "cell_type": "markdown",
     "metadata": {},
     "source": [
      "and now use that to label the atoms of the first set of molecules:"
     ]
    },
    {
     "cell_type": "code",
     "collapsed": false,
     "input": [
      "nms = [Chem.Mol(x) for x in ms]\n",
      "for nm in nms:\n",
      "    for at in nm.GetAtoms():\n",
      "        at.SetIsotope(label(at))\n"
     ],
     "language": "python",
     "metadata": {},
     "outputs": [],
     "prompt_number": 6
    },
    {
     "cell_type": "code",
     "collapsed": false,
     "input": [
      "Chem.MolToSmiles(nms[0],True)"
     ],
     "language": "python",
     "metadata": {},
     "outputs": [
      {
       "metadata": {},
       "output_type": "pyout",
       "prompt_number": 8,
       "text": [
        "'[406CH3][306C]([406CH3])=[306CH2]'"
       ]
      }
     ],
     "prompt_number": 8
    },
    {
     "cell_type": "markdown",
     "metadata": {},
     "source": [
      "If we now use \"isotopes\" as the MCS atom comparator, we get nothing for the first set of molecules:"
     ]
    },
    {
     "cell_type": "code",
     "collapsed": false,
     "input": [
      "mcs=MCS.FindMCS(nms,atomCompare='isotopes')\n",
      "mcs.smarts\n"
     ],
     "language": "python",
     "metadata": {},
     "outputs": [],
     "prompt_number": 9
    },
    {
     "cell_type": "markdown",
     "metadata": {},
     "source": [
      "The second set returns a result:"
     ]
    },
    {
     "cell_type": "code",
     "collapsed": false,
     "input": [
      "nms2 = [Chem.Mol(x) for x in ms2]\n",
      "for nm in nms2:\n",
      "    for at in nm.GetAtoms():\n",
      "        at.SetIsotope(label(at))\n",
      "mcs=MCS.FindMCS(nms2,atomCompare='isotopes')\n",
      "mcs.smarts\n"
     ],
     "language": "python",
     "metadata": {},
     "outputs": [
      {
       "metadata": {},
       "output_type": "pyout",
       "prompt_number": 10,
       "text": [
        "'[406*]-[306*]-[406*]'"
       ]
      }
     ],
     "prompt_number": 10
    },
    {
     "cell_type": "markdown",
     "metadata": {},
     "source": [
      "But that's kind of ugly... let's get the SMILES for it."
     ]
    },
    {
     "cell_type": "markdown",
     "metadata": {},
     "source": [
      "We start by finding the matching atoms in the first of the modified molecules:"
     ]
    },
    {
     "cell_type": "code",
     "collapsed": false,
     "input": [
      "mcsp = Chem.MolFromSmarts(mcs.smarts)\n",
      "match = nms2[0].GetSubstructMatch(mcsp)\n",
      "match"
     ],
     "language": "python",
     "metadata": {},
     "outputs": [
      {
       "metadata": {},
       "output_type": "pyout",
       "prompt_number": 11,
       "text": [
        "(0, 1, 2)"
       ]
      }
     ],
     "prompt_number": 11
    },
    {
     "cell_type": "markdown",
     "metadata": {},
     "source": [
      "And now generate smiles for the first unmodified molecule, but only including those atoms.\n",
      "We can do this because we know that the atom numbers didn't change."
     ]
    },
    {
     "cell_type": "code",
     "collapsed": false,
     "input": [
      "print Chem.MolFragmentToSmiles(ms2[0],atomsToUse=match,isomericSmiles=True,canonical=False)"
     ],
     "language": "python",
     "metadata": {},
     "outputs": [
      {
       "output_type": "stream",
       "stream": "stdout",
       "text": [
        "CCC\n"
       ]
      }
     ],
     "prompt_number": 12
    },
    {
     "cell_type": "markdown",
     "metadata": {},
     "source": [
      "Ok, let's try it with Liz's test case:"
     ]
    },
    {
     "cell_type": "code",
     "collapsed": false,
     "input": [
      "smis=[\"COc1ccc(C(Nc2nc3c(ncn3COCC=O)c(=O)[nH]2)(c2ccccc2)c2ccccc2)cc1\",\n",
      "      \"COc1ccc(C(Nc2nc3c(ncn3COC(CO)(CO)CO)c(=O)[nH]2)(c2ccccc2)c2ccccc2)cc1\"]\n",
      "ms = [Chem.MolFromSmiles(x) for x in smis]"
     ],
     "language": "python",
     "metadata": {},
     "outputs": [],
     "prompt_number": 13
    },
    {
     "cell_type": "code",
     "collapsed": false,
     "input": [
      "ms[0]"
     ],
     "language": "python",
     "metadata": {},
     "outputs": [
      {
       "metadata": {},
       "output_type": "pyout",
       "png": "[encoded data removed]",
       "prompt_number": 14,
       "text": [
        "<rdkit.Chem.rdchem.Mol at 0x1078ed9f0>"
       ]
      }
     ],
     "prompt_number": 14
    },
    {
     "cell_type": "code",
     "collapsed": false,
     "input": [
      "ms[1]"
     ],
     "language": "python",
     "metadata": {},
     "outputs": [
      {
       "metadata": {},
       "output_type": "pyout",
       "png": "[encoded data removed]",
       "prompt_number": 15,
       "text": [
        "<rdkit.Chem.rdchem.Mol at 0x1078eda60>"
       ]
      }
     ],
     "prompt_number": 15
    },
    {
     "cell_type": "code",
     "collapsed": false,
     "input": [
      "nms = [Chem.Mol(x) for x in ms]\n",
      "for nm in nms:\n",
      "    for at in nm.GetAtoms():\n",
      "        at.SetIsotope(label(at))\n",
      "mcs=MCS.FindMCS(nms,atomCompare='isotopes')\n",
      "mcs.smarts"
     ],
     "language": "python",
     "metadata": {},
     "outputs": [
      {
       "metadata": {},
       "output_type": "pyout",
       "prompt_number": 16,
       "text": [
        "'[406*]-[308*]-[306*]:1:[306*]:[306*]:[306*](:[306*]:[306*]:1)-[406*](-[306*]:1:[306*]:[306*]:[306*]:[306*]:[306*]:1)(-[306*]:1:[306*]:[306*]:[306*]:[306*]:[306*]:1)-[307*]-[306*]:1:[307*]:[306*]:2:[306*](:[306*](:[307*]:1)=[308*]):[307*]:[306*]:[307*]:2-[406*]-[408*]-[406*]'"
       ]
      }
     ],
     "prompt_number": 16
    },
    {
     "cell_type": "code",
     "collapsed": false,
     "input": [
      "mcsp = Chem.MolFromSmarts(mcs.smarts)\n",
      "match = nms[0].GetSubstructMatch(mcsp)\n",
      "smi=Chem.MolFragmentToSmiles(ms[0],atomsToUse=match,isomericSmiles=True,canonical=False)\n",
      "print smi"
     ],
     "language": "python",
     "metadata": {},
     "outputs": [
      {
       "output_type": "stream",
       "stream": "stdout",
       "text": [
        "COc1ccc(C(Nc2nc3c(ncn3COC)c(=O)[nH]2)(c2ccccc2)c2ccccc2)cc1\n"
       ]
      }
     ],
     "prompt_number": 17
    },
    {
     "cell_type": "code",
     "collapsed": false,
     "input": [
      "core = Chem.MolFromSmiles(smi)\n",
      "core"
     ],
     "language": "python",
     "metadata": {},
     "outputs": [
      {
       "metadata": {},
       "output_type": "pyout",
       "png": "[encoded data removed]",
       "prompt_number": 18,
       "text": [
        "<rdkit.Chem.rdchem.Mol at 0x1078e5bb0>"
       ]
      }
     ],
     "prompt_number": 18
    },
    {
     "cell_type": "code",
     "collapsed": false,
     "input": [],
     "language": "python",
     "metadata": {},
     "outputs": []
    }
   ],
   "metadata": {}
  }
 ]
}