{
 "cells": [
  {
   "cell_type": "markdown",
   "metadata": {},
   "source": [
    "# Changes in 2016.03 Release: the FilterCatalog\n",
    "\n",
    "This is the second of a series of posts highlighting changes (mostly new features) in the 2016.03 (Q1 2016) release of the RDKit.\n",
    "\n",
    "This one focuses on the `FilterCatalog`: a class introduced in the 2015.09 release that has seen some improvements for this release and that remains \"underdocumented\"."
   ]
  },
  {
   "cell_type": "code",
   "execution_count": 1,
   "metadata": {
    "collapsed": false
   },
   "outputs": [
    {
     "name": "stdout",
     "output_type": "stream",
     "text": [
      "2016.03.1.b1\n",
      "Fri Apr  8 10:17:39 2016\n"
     ]
    }
   ],
   "source": [
    "from rdkit import Chem\n",
    "from rdkit.Chem.FilterCatalog import FilterCatalogParams,FilterCatalog\n",
    "from rdkit.Chem import Draw\n",
    "from rdkit.Chem.Draw import IPythonConsole\n",
    "IPythonConsole.ipython_useSVG=True\n",
    "Chem.WrapLogs()\n",
    "from rdkit import rdBase\n",
    "print(rdBase.rdkitVersion)\n",
    "import time\n",
    "print(time.asctime())"
   ]
  },
  {
   "cell_type": "markdown",
   "metadata": {},
   "source": [
    "At a very high level, the `FilterCatalog` allows collections of queries to be used to filter sets of compounds.\n",
    "\n",
    "The RDKit comes with a number of query sets pre-configured:"
   ]
  },
  {
   "cell_type": "code",
   "execution_count": 14,
   "metadata": {
    "collapsed": false
   },
   "outputs": [
    {
     "data": {
      "text/plain": [
       "['ALL', 'BRENK', 'NIH', 'PAINS', 'PAINS_A', 'PAINS_B', 'PAINS_C', 'ZINC']"
      ]
     },
     "execution_count": 14,
     "metadata": {},
     "output_type": "execute_result"
    }
   ],
   "source": [
    "[x for x in dir(FilterCatalogParams.FilterCatalogs) if x[0]>='A' and x[0]<='Z']"
   ]
  },
  {
   "cell_type": "code",
   "execution_count": null,
   "metadata": {
    "collapsed": true
   },
   "outputs": [],
   "source": []
  },
  {
   "cell_type": "code",
   "execution_count": 9,
   "metadata": {
    "collapsed": false
   },
   "outputs": [],
   "source": [
    "params = FilterCatalogParams()\n",
    "params.AddCatalog(FilterCatalogParams.FilterCatalogs.PAINS)\n",
    "params.AddCatalog(FilterCatalogParams.FilterCatalogs.BRENK)\n",
    "params.AddCatalog(FilterCatalogParams.FilterCatalogs.NIH)\n",
    "\n",
    "filters = FilterCatalog(params)"
   ]
  },
  {
   "cell_type": "code",
   "execution_count": 10,
   "metadata": {
    "collapsed": false
   },
   "outputs": [
    {
     "name": "stdout",
     "output_type": "stream",
     "text": [
      "   Processed 1000 rejected 112\n",
      "Found: 1000 after scanning 1126\n"
     ]
    }
   ],
   "source": [
    "import gzip\n",
    "inf = gzip.open(\"../data/malariahts_trainingset.txt.gz\") # HTS data from the 2014 TDT challenge\n",
    "keep = []\n",
    "nReject=0\n",
    "inf.readline() # ignore the header line\n",
    "for i,line in enumerate(inf):\n",
    "    splitL = line.strip().split()\n",
    "    smi = splitL[-1]\n",
    "    m = Chem.MolFromSmiles(smi)\n",
    "    if m is None:\n",
    "        continue\n",
    "    if filters.HasMatch(m):\n",
    "        matches = filters.GetMatches(m)\n",
    "        nReject += 1\n",
    "        #print(smi.decode('UTF-8'),list(x.GetDescription() for x in matches))\n",
    "        #if len(reject)>100:\n",
    "        #    break\n",
    "    else:\n",
    "        keep.append(m)\n",
    "        if len(keep)>=1000:\n",
    "            break\n",
    "    if not (i+1)%1000:\n",
    "        print(\"   Processed\",i+1,\"rejected\",nReject)\n",
    "print(\"Found:\",len(keep),\"after scanning\",i+1)"
   ]
  },
  {
   "cell_type": "code",
   "execution_count": 12,
   "metadata": {
    "collapsed": false
   },
   "outputs": [
    {
     "data": {
      "text/plain": [
       "3"
      ]
     },
     "execution_count": 12,
     "metadata": {},
     "output_type": "execute_result"
    }
   ],
   "source": [
    "len(matches)"
   ]
  },
  {
   "cell_type": "code",
   "execution_count": null,
   "metadata": {
    "collapsed": true
   },
   "outputs": [],
   "source": []
  }
 ],
 "metadata": {
  "hide_input": false,
  "kernelspec": {
   "display_name": "Python 3",
   "language": "python",
   "name": "python3"
  },
  "language_info": {
   "codemirror_mode": {
    "name": "ipython",
    "version": 3
   },
   "file_extension": ".py",
   "mimetype": "text/x-python",
   "name": "python",
   "nbconvert_exporter": "python",
   "pygments_lexer": "ipython3",
   "version": "3.5.1"
  }
 },
 "nbformat": 4,
 "nbformat_minor": 0
}
