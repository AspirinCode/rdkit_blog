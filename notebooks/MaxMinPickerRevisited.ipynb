{
 "cells": [
  {
   "cell_type": "markdown",
   "metadata": {},
   "source": [
    "# MaxMinPicker\n",
    "\n",
    "Notebook that investigates the improvements to MaxMinPicker that will be present in the 2017_09 RDkit release.\n",
    "This work is described in Roger Sayle's talk at the \n",
    "[2017 UGM](https://github.com/rdkit/UGM_2017/blob/master/Presentations/Sayle_RDKitDiversity_Berlin17.pdf)."
   ]
  },
  {
   "cell_type": "code",
   "execution_count": 52,
   "metadata": {},
   "outputs": [],
   "source": [
    "from rdkit import Chem\n",
    "from rdkit.Chem import Draw,rdMolDescriptors,AllChem\n",
    "from rdkit import SimDivFilters,DataStructs\n",
    "import gzip, time, platform"
   ]
  },
  {
   "cell_type": "code",
   "execution_count": 53,
   "metadata": {},
   "outputs": [
    {
     "name": "stdout",
     "output_type": "stream",
     "text": [
      "Python Version 3.6.2\n",
      "RDKit Version: 2017.09.1.b1\n"
     ]
    }
   ],
   "source": [
    "print('Python Version', platform.python_version())\n",
    "print('RDKit Version:', Chem.rdBase.rdkitVersion)"
   ]
  },
  {
   "cell_type": "markdown",
   "metadata": {},
   "source": [
    "We'll use Andrew Dalke's [benzodiazepine dataset](http://dalkescientific.com/writings/benzodiazepine.sdf.gz) as its drug like and of a useful size for these studies. Download the file and name it `benzodiazepine.sdf.gz`.\n",
    "We need to generate fingerprints for all molecules."
   ]
  },
  {
   "cell_type": "code",
   "execution_count": 54,
   "metadata": {},
   "outputs": [
    {
     "name": "stdout",
     "output_type": "stream",
     "text": [
      "Read 12386 molecules in 12.944286823272705 sec\n"
     ]
    }
   ],
   "source": [
    "start = time.time()\n",
    "benzodiazepines = []\n",
    "inf = gzip.open('benzodiazepine.sdf.gz')\n",
    "suppl = Chem.ForwardSDMolSupplier(inf)\n",
    "for mol in suppl:\n",
    "    if mol is None: next\n",
    "    benzodiazepines.append(rdMolDescriptors.GetMorganFingerprintAsBitVect(mol,2))    \n",
    "inf.close()\n",
    "end = time.time()\n",
    "print('Read', len(benzodiazepines), 'molecules in', str(end - start)+' sec')"
   ]
  },
  {
   "cell_type": "markdown",
   "metadata": {},
   "source": [
    "First we'll use the LazyPick function. This allows a function to be passed in to generate the distance between the fingerprints. Here is that funtion - Tamimoto distance for the Morgan fingerprints.\n",
    "\n",
    "We also create the picker."
   ]
  },
  {
   "cell_type": "code",
   "execution_count": 55,
   "metadata": {},
   "outputs": [],
   "source": [
    "def fn(i,j,fps=benzodiazepines):\n",
    "    return 1.-DataStructs.TanimotoSimilarity(fps[i],fps[j])\n",
    "mmp = SimDivFilters.MaxMinPicker()"
   ]
  },
  {
   "cell_type": "markdown",
   "metadata": {},
   "source": [
    "LazyPick parameters:\n",
    "1. the function that's used to generate the distance between 2 mols\n",
    "2. the total number of molecules\n",
    "3. the total number of molcules to return (including the initial seed molecules)\n",
    "4. the indexes of the initial seed molecules (optional) e.g. [1,2,3,4 ...]\n",
    "\n",
    "What's returned is the IDs of the initial seed molecules followed by the newly picked molecules"
   ]
  },
  {
   "cell_type": "code",
   "execution_count": 56,
   "metadata": {},
   "outputs": [
    {
     "name": "stdout",
     "output_type": "stream",
     "text": [
      "Picking 100 from 12286 starting with 100 generated 100 picks\n",
      "Picking took 1.3343174457550049 sec\n",
      "Picking 100 from 12286 starting with 100 generated 100 picks\n",
      "Picking took 1.3073861598968506 sec\n",
      "Picking 100 from 12286 starting with 100 generated 100 picks\n",
      "Picking took 1.287372350692749 sec\n"
     ]
    }
   ],
   "source": [
    "start_with = 100\n",
    "how_many_to_pick = 100\n",
    "for i in 1,2,3:\n",
    "    start = time.time()\n",
    "    picks = mmp.LazyPick(fn, len(benzodiazepines), start_with + how_many_to_pick, list(range(start_with)))\n",
    "    end = time.time()\n",
    "    print('Picking', how_many_to_pick, 'from', len(benzodiazepines) - start_with, 'starting with', start_with, 'generated', len(picks) - start_with, 'picks')\n",
    "    print('Picking took', str(end - start)+' sec')"
   ]
  },
  {
   "cell_type": "markdown",
   "metadata": {},
   "source": [
    "That's pretty good, but we can do better. The LazyBitVectorPick is much faster as it does less too and fro between the C++ and Python layers. The one downside is that it assumes you want the Tanimoto distance between 2 bit vectors, but that's exactly what we were doing anyway with the distance function."
   ]
  },
  {
   "cell_type": "code",
   "execution_count": 57,
   "metadata": {},
   "outputs": [
    {
     "name": "stdout",
     "output_type": "stream",
     "text": [
      "Picking 100 from 12286 starting with 100 generated 100 picks\n",
      "Picking took 0.1678164005279541 sec\n",
      "Picking 100 from 12286 starting with 100 generated 100 picks\n",
      "Picking took 0.15154695510864258 sec\n",
      "Picking 100 from 12286 starting with 100 generated 100 picks\n",
      "Picking took 0.16774797439575195 sec\n"
     ]
    }
   ],
   "source": [
    "start_with = 100\n",
    "how_many_to_pick = 100\n",
    "for i in 1,2,3:\n",
    "    start = time.time()\n",
    "    picks = mmp.LazyBitVectorPick(benzodiazepines, len(benzodiazepines), start_with + how_many_to_pick, list(range(start_with)))\n",
    "    end = time.time()\n",
    "    print('Picking', how_many_to_pick, 'from', len(benzodiazepines) - start_with, 'starting with', start_with, 'generated', len(picks) - start_with, 'picks')\n",
    "    print('Picking took', str(end - start)+' sec')"
   ]
  },
  {
   "cell_type": "markdown",
   "metadata": {},
   "source": [
    "That's almost 10 faster than the old algorithm for picking 100 given 100 seeds, faster still for larger sets (you'll need to run with different versions of RDKit to check this).\n",
    "You can investigate the timings yourself by changing the `start_with` and `how_many_to_pick` variables.\n",
    "\n",
    "So let's continue using LazyBitVectorPick.\n",
    "\n",
    "Let's see how it can work on a real example. We'll take the [NCI250 data](https://cactus.nci.nih.gov/download/nci/) set with ~250K molecules as our starting set (assume these are the compounds we already have in our collection) and we want to pick 500 molecules from the benzodiazepine dataset to add to that set. Download the smiles file and name it NCI.smiles.\n",
    "\n",
    "So let's read in the NCI dataset"
   ]
  },
  {
   "cell_type": "code",
   "execution_count": 58,
   "metadata": {},
   "outputs": [
    {
     "name": "stdout",
     "output_type": "stream",
     "text": [
      "Read 247477 molecules in 79.72341656684875 sec\n"
     ]
    }
   ],
   "source": [
    "start = time.time()\n",
    "nciFps = []\n",
    "suppl2 = Chem.SmilesMolSupplier('NCI.smiles', delimiter=' ', smilesColumn=1)\n",
    "for mol in suppl2:\n",
    "    if mol is None: continue\n",
    "    nciFps.append(rdMolDescriptors.GetMorganFingerprintAsBitVect(mol,2))    \n",
    "end = time.time()\n",
    "print('Read', len(nciFps), 'molecules in', str(end - start)+' sec')"
   ]
  },
  {
   "cell_type": "markdown",
   "metadata": {},
   "source": [
    "Now combine the nci and benzodiazepine fingerprints as we need a single list"
   ]
  },
  {
   "cell_type": "code",
   "execution_count": 59,
   "metadata": {},
   "outputs": [
    {
     "data": {
      "text/plain": [
       "259863"
      ]
     },
     "execution_count": 59,
     "metadata": {},
     "output_type": "execute_result"
    }
   ],
   "source": [
    "allFps = []\n",
    "allFps.extend(nciFps)\n",
    "allFps.extend(benzodiazepines)\n",
    "len(allFps)"
   ]
  },
  {
   "cell_type": "code",
   "execution_count": 60,
   "metadata": {},
   "outputs": [
    {
     "name": "stdout",
     "output_type": "stream",
     "text": [
      "Picking 1000 from 259863 starting with 247477 generated 1000 picks and took 1248.1252934932709 sec\n",
      "Picking 1000 from 259863 starting with 247477 generated 1000 picks and took 1203.1685574054718 sec\n",
      "Picking 1000 from 259863 starting with 247477 generated 1000 picks and took 1257.1654748916626 sec\n"
     ]
    }
   ],
   "source": [
    "how_many_to_pick = 1000\n",
    "seed_count = len(nciFps)\n",
    "seeds = list(range(seed_count))\n",
    "fp_num = len(allFps)\n",
    "for i in 1,2,3:\n",
    "    start = time.time()\n",
    "    picks = mmp.LazyBitVectorPick(allFps, fp_num, seed_count + how_many_to_pick, seeds)\n",
    "    end = time.time()\n",
    "    print('Picking', how_many_to_pick, 'from', len(allFps), 'starting with', seed_count, 'generated', len(picks) - seed_count, 'picks and took', str(end - start)+' sec')"
   ]
  },
  {
   "cell_type": "markdown",
   "metadata": {},
   "source": [
    "So that's a reasonably representative selection of 1000 compounds done in about 20 minutes on a modestly speced laptop.\n",
    "Not bad! You certainly couldn't do that with the old algorithm."
   ]
  },
  {
   "cell_type": "markdown",
   "metadata": {},
   "source": [
    "Finally, let's look at a different approach. Instead of choosing how many to pick we specify a similarity threshold and keep picking until we have picked all the available molecules that are at least that distance from any that have already been picked. This uses the new function LazyBitVectorPickWithThreshold which returns the picks and the threshold of the last pick."
   ]
  },
  {
   "cell_type": "code",
   "execution_count": 61,
   "metadata": {},
   "outputs": [
    {
     "name": "stdout",
     "output_type": "stream",
     "text": [
      "Picking generated 146 picks, final threshold was 0.7\n",
      "Picking took 0.12487959861755371 sec\n"
     ]
    }
   ],
   "source": [
    "start = time.time()\n",
    "picks, thresh = mmp.LazyBitVectorPickWithThreshold(benzodiazepines, len(benzodiazepines), 10000, 0.7)\n",
    "end = time.time()\n",
    "print('Picking generated', len(picks), 'picks, final threshold was', thresh)\n",
    "print('Picking took', str(end - start)+' sec')"
   ]
  },
  {
   "cell_type": "markdown",
   "metadata": {},
   "source": [
    "One thing to note here is that the last parameter seems to be a **disimilarity** score which is a bit unexpected. With a value of 0.7 you get around 146 picks, but with 0.4 you get 2065 indicating a closer placement of the picks:"
   ]
  },
  {
   "cell_type": "code",
   "execution_count": 62,
   "metadata": {},
   "outputs": [
    {
     "name": "stdout",
     "output_type": "stream",
     "text": [
      "Picking generated 2065 picks, final threshold was 0.4\n",
      "Picking took 4.998914480209351 sec\n"
     ]
    }
   ],
   "source": [
    "start = time.time()\n",
    "picks, thresh = mmp.LazyBitVectorPickWithThreshold(benzodiazepines, len(benzodiazepines), 10000, 0.4)\n",
    "end = time.time()\n",
    "print('Picking generated', len(picks), 'picks, final threshold was', thresh)\n",
    "print('Picking took', str(end - start)+' sec')"
   ]
  },
  {
   "cell_type": "markdown",
   "metadata": {},
   "source": [
    "Note that in both cases we specify a stupidly high value for the number to pick so that this is not limiting.\n",
    "The picker terminates once it can find no more to pick.\n",
    "Of course you can specify a lower limit here so that it terminates when it can find more more to pick or has picked the required number."
   ]
  },
  {
   "cell_type": "markdown",
   "metadata": {},
   "source": [
    "Adios. Hats off to Roger and Greg!"
   ]
  },
  {
   "cell_type": "code",
   "execution_count": null,
   "metadata": {},
   "outputs": [],
   "source": []
  }
 ],
 "metadata": {
  "kernelspec": {
   "display_name": "Python 3",
   "language": "python",
   "name": "python3"
  },
  "language_info": {
   "codemirror_mode": {
    "name": "ipython",
    "version": 3
   },
   "file_extension": ".py",
   "mimetype": "text/x-python",
   "name": "python",
   "nbconvert_exporter": "python",
   "pygments_lexer": "ipython3",
   "version": "3.6.2"
  }
 },
 "nbformat": 4,
 "nbformat_minor": 2
}
