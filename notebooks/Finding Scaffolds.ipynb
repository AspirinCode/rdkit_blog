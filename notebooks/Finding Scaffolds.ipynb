{
 "metadata": {
  "name": "",
  "signature": "sha256:9f208617d77d329aab13a81f66803d685fd9b4a7c13e6d472e0fc00bed85c95d"
 },
 "nbformat": 3,
 "nbformat_minor": 0,
 "worksheets": [
  {
   "cells": [
    {
     "cell_type": "heading",
     "level": 1,
     "metadata": {},
     "source": [
      "Finding scaffolds in CheMBL papers"
     ]
    },
    {
     "cell_type": "heading",
     "level": 1,
     "metadata": {},
     "source": [
      "On to the analysis"
     ]
    },
    {
     "cell_type": "code",
     "collapsed": false,
     "input": [
      "from __future__ import print_function\n",
      "import numpy\n",
      "from rdkit.Chem.Draw import IPythonConsole\n",
      "from rdkit.Chem import Draw\n",
      "Draw.DrawingOptions.elemDict[0]=(0.,0.,0.)  # draw dummy atoms in black\n",
      "import pandas as pd\n",
      "from rdkit.Chem import PandasTools\n",
      "from rdkit.Chem import AllChem as Chem\n",
      "from rdkit.Chem import DataStructs\n",
      "from rdkit.Chem import rdFMCS as MCS\n",
      "import cPickle\n",
      "from rdkit import rdBase\n",
      "print(rdBase.rdkitVersion)\n",
      "\n",
      "import time\n",
      "print(time.asctime())"
     ],
     "language": "python",
     "metadata": {},
     "outputs": [
      {
       "output_type": "stream",
       "stream": "stdout",
       "text": [
        "2015.09.1pre\n",
        "Fri May 22 10:25:39 2015\n"
       ]
      }
     ],
     "prompt_number": 60
    },
    {
     "cell_type": "markdown",
     "metadata": {},
     "source": [
      "## Grab the data"
     ]
    },
    {
     "cell_type": "code",
     "collapsed": false,
     "input": [
      "import glob\n",
      "pkls = glob.glob('/home/glandrum/Code/benchmarking_platform/compounds/ChEMBL_II/*.pkl')\n",
      "print(len(pkls))"
     ],
     "language": "python",
     "metadata": {},
     "outputs": [
      {
       "output_type": "stream",
       "stream": "stdout",
       "text": [
        "37\n"
       ]
      }
     ],
     "prompt_number": 3
    },
    {
     "cell_type": "markdown",
     "metadata": {},
     "source": [
      "Get target information from our local ChEMBL copy:"
     ]
    },
    {
     "cell_type": "code",
     "collapsed": false,
     "input": [
      "%load_ext sql\n",
      "%config SqlMagic.feedback = False"
     ],
     "language": "python",
     "metadata": {},
     "outputs": [],
     "prompt_number": 4
    },
    {
     "cell_type": "code",
     "collapsed": false,
     "input": [
      "import os\n",
      "tgts={}\n",
      "for pkl in pkls:\n",
      "    fn = os.path.split(pkl)[-1]\n",
      "    basen = os.path.splitext(fn)[0]\n",
      "    tgtn=int(basen.split('_')[-1])\n",
      "    data = %sql postgresql://localhost/chembl_20 \\\n",
      "          select tid,pref_name,organism from target_dictionary where tid=:tgtn ;\n",
      "    tgts[data[0][0]]=(pkl,data[0][1],data[0][2])"
     ],
     "language": "python",
     "metadata": {},
     "outputs": [],
     "prompt_number": 6
    },
    {
     "cell_type": "code",
     "collapsed": false,
     "input": [
      "for idx in sorted(tgts.keys()):\n",
      "    pkl,tgt,species = tgts[idx]\n",
      "    print(idx,tgt,species)"
     ],
     "language": "python",
     "metadata": {},
     "outputs": [
      {
       "output_type": "stream",
       "stream": "stdout",
       "text": [
        "15 Carbonic anhydrase II Homo sapiens\n",
        "25 Glucocorticoid receptor Homo sapiens\n",
        "43 Beta-2 adrenergic receptor Homo sapiens\n",
        "51 Serotonin 1a (5-HT1a) receptor Homo sapiens\n",
        "61 Muscarinic acetylcholine receptor M1 Homo sapiens\n",
        "65 Cytochrome P450 19A1 Homo sapiens\n",
        "72 Dopamine D2 receptor Homo sapiens\n",
        "87 Cannabinoid CB1 receptor Homo sapiens\n",
        "90 Dopamine D4 receptor Homo sapiens\n",
        "93 Acetylcholinesterase Homo sapiens\n",
        "100 Norepinephrine transporter Homo sapiens\n",
        "107 Serotonin 2a (5-HT2a) receptor Homo sapiens\n",
        "108 Serotonin 2c (5-HT2c) receptor Homo sapiens\n",
        "114 Adenosine A1 receptor Homo sapiens\n",
        "121 Serotonin transporter Homo sapiens\n",
        "126 Cyclooxygenase-2 Homo sapiens\n",
        "130 Dopamine D3 receptor Homo sapiens\n",
        "165 HERG Homo sapiens\n",
        "259 Cannabinoid CB2 receptor Homo sapiens\n",
        "10188 MAP kinase p38 alpha Homo sapiens\n",
        "10193 Carbonic anhydrase I Homo sapiens\n",
        "10260 Vanilloid receptor Homo sapiens\n",
        "10280 Histamine H3 receptor Homo sapiens\n",
        "10434 Tyrosine-protein kinase SRC Homo sapiens\n",
        "10980 Vascular endothelial growth factor receptor 2 Homo sapiens\n",
        "11140 Dipeptidyl peptidase IV Homo sapiens\n",
        "11365 Cytochrome P450 2D6 Homo sapiens\n",
        "11489 11-beta-hydroxysteroid dehydrogenase 1 Homo sapiens\n",
        "11534 Cathepsin S Homo sapiens\n",
        "11575 C-C chemokine receptor type 2 Homo sapiens\n",
        "11631 Sphingosine 1-phosphate receptor Edg-1  Homo sapiens\n",
        "12209 Carbonic anhydrase XII Homo sapiens\n",
        "12252 Beta-secretase 1 Homo sapiens\n",
        "12952 Carbonic anhydrase IX Homo sapiens\n",
        "13001 Matrix metalloproteinase-2 Homo sapiens\n",
        "17045 Cytochrome P450 3A4 Homo sapiens\n",
        "19905 Melanin-concentrating hormone receptor 1 Homo sapiens\n"
       ]
      }
     ],
     "prompt_number": 8
    },
    {
     "cell_type": "markdown",
     "metadata": {},
     "source": [
      "The data is organized in a dictionary with one entry per paper."
     ]
    },
    {
     "cell_type": "markdown",
     "metadata": {},
     "source": [
      "Define an MCS-based approach to find the scaffold from a paper:"
     ]
    },
    {
     "cell_type": "code",
     "collapsed": false,
     "input": [
      "import time\n",
      "from collections import namedtuple\n",
      "MCSRes=namedtuple('MCSRes',('smarts','numAtoms','numMols','avgNumMolAtoms','mcsTime'))\n",
      "\n",
      "def MCS_Report(ms,printSmarts=True,\n",
      "               atomCompare=MCS.AtomCompare.CompareAny,\n",
      "               bondCompare=MCS.BondCompare.CompareAny,\n",
      "               completeRingsOnly=True,\n",
      "               **kwargs):\n",
      "    \"\"\" \n",
      "    \n",
      "    \"\"\"\n",
      "    t1=time.time()\n",
      "    mcs = MCS.FindMCS(ms,atomCompare=atomCompare,bondCompare=bondCompare,timeout=60,completeRingsOnly=completeRingsOnly,\n",
      "                      **kwargs)\n",
      "    t2=time.time()\n",
      "    nAts = numpy.array([x.GetNumAtoms() for x in ms])\n",
      "    print('Mean nAts %.1f, mcs nAts: %d'%(nAts.mean(),mcs.numAtoms))\n",
      "    if printSmarts: \n",
      "        print(mcs.smartsString)\n",
      "    mcsM = Chem.MolFromSmarts(mcs.smartsString)         \n",
      "    mcsM.UpdatePropertyCache(False)\n",
      "    Chem.SetHybridization(mcsM)\n",
      "    img=Draw.MolToImage(mcsM,kekulize=False)\n",
      "    tpl = MCSRes(mcs.smartsString,mcs.numAtoms,len(ms),nAts,t2-t1)\n",
      "    return tpl,img\n"
     ],
     "language": "python",
     "metadata": {},
     "outputs": [],
     "prompt_number": 33
    },
    {
     "cell_type": "markdown",
     "metadata": {},
     "source": [
      "The function prints out the mean number of atoms per molecule in the input along with the size of the MCS. This is intended to help assess whether or not the MCS is actually a scaffold."
     ]
    },
    {
     "cell_type": "code",
     "collapsed": false,
     "input": [
      "sets = cPickle.load(file(tgts[11631][0]))\n",
      "docid,cmpds = sets.iteritems().next()\n",
      "ids,smis= zip(*cmpds)\n",
      "mols = [Chem.MolFromSmiles(x) for x in smis]\n",
      "\n",
      "tpl,img = MCS_Report(mols,threshold=0.8,completeRingsOnly=True)\n",
      "img"
     ],
     "language": "python",
     "metadata": {},
     "outputs": [
      {
       "output_type": "stream",
       "stream": "stdout",
       "text": [
        "Mean nAts 30.6, mcs nAts: 29\n",
        "[#6]-[#6]1=[#6](-[#6]-[#7]2-[#6]-[#6](-[#6]-2)-[#6](=[#8])-[#8])-[#6]-[#6]-[#6]2:[#6]-1:[#6]:[#6]:[#6](:[#6]:2)-[#8]-[#6]-[#6]-[#6]-[#6]1:[#6]:[#6]:[#6]:[#6]:[#6]:1\n"
       ]
      },
      {
       "metadata": {},
       "output_type": "pyout",
       "png": "[encoded data removed]",
       "prompt_number": 34,
       "text": [
        "<PIL.Image.Image image mode=RGBA size=300x300 at 0x7F46F64A59E0>"
       ]
      }
     ],
     "prompt_number": 34
    },
    {
     "cell_type": "markdown",
     "metadata": {},
     "source": [
      "Now let's look at all the papers"
     ]
    },
    {
     "cell_type": "code",
     "collapsed": false,
     "input": [
      "def processTarget(tid):\n",
      "    pkl,target,species=tgts[tid]\n",
      "    print('-*-*-*-*-*-*-*-*-*-*-*-*-*-*-*-*-*-*-*-*-*-*-*-*-*-*-*-*')\n",
      "    print('\\t',target,species)\n",
      "    sets = cPickle.load(file(pkl))\n",
      "    print('\\t\\t %d papers'%(len(sets)))\n",
      "    alldata=[]\n",
      "    for docid,cmpds in sets.iteritems():\n",
      "        data = %sql  \\\n",
      "              select journal,volume,first_page,year from docs where doc_id=:docid ;\n",
      "        ref=', '.join(str(x) for x in data[0])\n",
      "        print( '----------------')\n",
      "        print(ref)\n",
      "        ids,smis= zip(*cmpds)\n",
      "        mols = [Chem.MolFromSmiles(x) for x in smis]\n",
      "        tpl,img = MCS_Report(mols,printSmarts=True,threshold=0.8,completeRingsOnly=True)\n",
      "        alldata.append((tid,docid,ref,tpl,mols))\n",
      "    return alldata "
     ],
     "language": "python",
     "metadata": {},
     "outputs": [],
     "prompt_number": 35
    },
    {
     "cell_type": "code",
     "collapsed": false,
     "input": [
      "alldata=processTarget(11631)"
     ],
     "language": "python",
     "metadata": {},
     "outputs": [
      {
       "output_type": "stream",
       "stream": "stdout",
       "text": [
        "-*-*-*-*-*-*-*-*-*-*-*-*-*-*-*-*-*-*-*-*-*-*-*-*-*-*-*-*\n",
        "\t Sphingosine 1-phosphate receptor Edg-1  Homo sapiens\n",
        "\t\t 7 papers\n",
        "----------------\n",
        "Bioorg. Med. Chem. Lett., 22, 144, 2012\n",
        "Mean nAts 30.6, mcs nAts: 29"
       ]
      },
      {
       "output_type": "stream",
       "stream": "stdout",
       "text": [
        "\n",
        "[#6]-[#6]1=[#6](-[#6]-[#7]2-[#6]-[#6](-[#6]-2)-[#6](=[#8])-[#8])-[#6]-[#6]-[#6]2:[#6]-1:[#6]:[#6]:[#6](:[#6]:2)-[#8]-[#6]-[#6]-[#6]-[#6]1:[#6]:[#6]:[#6]:[#6]:[#6]:1\n",
        "----------------\n",
        "Bioorg. Med. Chem. Lett., 22, 1779, 2012\n",
        "Mean nAts 31.2, mcs nAts: 28"
       ]
      },
      {
       "output_type": "stream",
       "stream": "stdout",
       "text": [
        "\n",
        "[#7,#6]-[#6,#7]-[#6,#7]-[#6]1:[#6]:[#6]:[#6](:[#6](:[#6]:1)-[#9])-[#6]1:[#7]:[#6]2:[#6]:[#6]:[#6](:[#7]:[#6]:2:[#16]:1)-[#6]1(-[#6]2:[#6]:[#6]:[#6]:[#6]:[#6]:2)-[#6]-[#6]-1\n",
        "----------------\n",
        "Bioorg. Med. Chem. Lett., 14, 3351, 2004\n",
        "Mean nAts 24.6, mcs nAts: 23\n",
        "[#6]-[#6]-[#6]-[#6]-[#6]-[#6]-[#6]-[#6]-[#6]1:[#6]:[#6]:[#6](:[#6]:[#6]:1)-[#6]-[#6]-[#6](-[#7])-[#6]-[#6,#8]-[#6,#15,#16](=[#8])-,=[#8]\n",
        "----------------\n",
        "J. Med. Chem., 48, 6169, 2005\n",
        "Mean nAts 29.4, mcs nAts: 26"
       ]
      },
      {
       "output_type": "stream",
       "stream": "stdout",
       "text": [
        "\n",
        "[#8,#6]-[#6]1:[#6]:[#6]:[#6](:[#6]:[#6]:1)-[#6]1:[#7,#8]:[#6](-[#6]2:[#6]:[#6]:[#6](:[#6]:[#6]:2)-[#6]-[#7]2-[#6]-[#6](-[#6]-2)-[#6](=[#8])-[#8]):[#7,#8]:[#8,#7]:1\n",
        "----------------\n",
        "Bioorg. Med. Chem. Lett., 21, 1390, 2011\n",
        "Mean nAts 26.5, mcs nAts: 13"
       ]
      },
      {
       "output_type": "stream",
       "stream": "stdout",
       "text": [
        "\n",
        "[#6]-[#7,#6]-[#6]-[#6]=,-[#6,#8]-[#6]1:[#6]:[#6]:[#6](:[#6]:[#6]:1)-[#8,#6]-,=[#6]\n",
        "----------------\n",
        "Bioorg. Med. Chem., 15, 663, 2007\n",
        "Mean nAts 24.9, mcs nAts: 16"
       ]
      },
      {
       "output_type": "stream",
       "stream": "stdout",
       "text": [
        "\n",
        "[#6]1:[#6]:[#6]:[#6](:[#6]:[#6]:1)-[#8,#6,#7]-[#6]-[#6](-[#7,#8])-[#6]-[#6,#8]-[#15](=[#8])(-[#8])-[#8]\n",
        "----------------\n",
        "Bioorg. Med. Chem. Lett., 16, 3564, 2006\n",
        "Mean nAts 31.4, mcs nAts: 14"
       ]
      },
      {
       "output_type": "stream",
       "stream": "stdout",
       "text": [
        "\n",
        "[#6,#8]-[#6]1:[#6]:[#6]:[#6](:[#6]:[#6]:1)-[#6]1-[#6]-[#6](-[#6]-,=[#6,#8])-[#6]-[#7]-1\n"
       ]
      }
     ],
     "prompt_number": 36
    },
    {
     "cell_type": "markdown",
     "metadata": {},
     "source": [
      "Cool, do it for every target:"
     ]
    },
    {
     "cell_type": "code",
     "collapsed": false,
     "input": [
      "import pickle\n",
      "with open('results/papers_mcs_results.pkl','wb+') as outf:\n",
      "    for tid in tgts:\n",
      "        data = processTarget(tid)\n",
      "        pickle.dump(data,outf)    "
     ],
     "language": "python",
     "metadata": {},
     "outputs": [
      {
       "output_type": "stream",
       "stream": "stdout",
       "text": [
        "-*-*-*-*-*-*-*-*-*-*-*-*-*-*-*-*-*-*-*-*-*-*-*-*-*-*-*-*\n",
        "\t Dopamine D3 receptor Homo sapiens\n",
        "\t\t 25 papers\n",
        "----------------\n",
        "J. Med. Chem., 54, 3581, 2011\n",
        "Mean nAts 32.5, mcs nAts: 20"
       ]
      },
      {
       "output_type": "stream",
       "stream": "stdout",
       "text": [
        "\n",
        "[#8,#6]=,-[#6]-[#7]-[#6]-[#6]-,=[#6]-[#6]-[#7]1-[#6]-[#6]-[#7](-[#6]-[#6]-1)-[#6]1:[#6]:[#6]:[#6]:[#6]:[#6]:1-[#17,#8]\n",
        "----------------\n",
        "Bioorg. Med. Chem. Lett., 16, 1934, 2006\n",
        "Mean nAts 34.0, mcs nAts: 25"
       ]
      },
      {
       "output_type": "stream",
       "stream": "stdout",
       "text": [
        "\n",
        "[#7,#6]-[#6]-[#6]-[#6]-[#6]-[#7]1-[#6]-[#6]-[#7](-[#6]-[#6]-1)-[#6]1:[#6,#7]:[#6](-[#6](-[#9,#6])(-[#9,#6])-[#9,#6]):[#7]:[#6](:[#7,#6]:1)-[#6](-[#6,#9])(-[#6,#9])-[#6,#9]\n",
        "----------------\n",
        "Bioorg. Med. Chem., 17, 4448, 2009\n",
        "Mean nAts 27.1, mcs nAts: 23"
       ]
      },
      {
       "output_type": "stream",
       "stream": "stdout",
       "text": [
        "\n",
        "[#6]1:[#7]:[#6]2:[#6,#7]:[#6,#7](-[#6,#7]):[#7,#6]:[#6,#7]:[#7,#6]:2:[#6]:1-[#6]-[#7]1-[#6]-[#6]-[#7](-[#6]-[#6]-1)-[#6]1:[#6]:[#6]:[#6]:[#6]:[#7,#6]:1\n",
        "----------------\n",
        "J. Med. Chem., 44, 3391, 2001\n",
        "Mean nAts 31.9, mcs nAts: 13"
       ]
      },
      {
       "output_type": "stream",
       "stream": "stdout",
       "text": [
        "\n",
        "[#6]1:,-[#6]:,-[#6]:,-[#6,#7](:,-[#6]:,-[#6]:,-1)-[#6]-[#7,#6]1-,:[#6]-,:[#6]-,:[#6]-,:[#6]-,:[#6]-,:1\n",
        "----------------\n",
        "Bioorg. Med. Chem., 15, 5811, 2007\n",
        "Mean nAts 28.5, mcs nAts: 17"
       ]
      },
      {
       "output_type": "stream",
       "stream": "stdout",
       "text": [
        "\n",
        "[#7]-[#6]-[#6]-[#6]-[#6]-[#7]1-[#6]-[#6]-[#7](-[#6]-[#6]-1)-[#6]1:[#6]:[#6]:[#6]:[#6]:[#6]:1\n",
        "----------------\n",
        "J. Med. Chem., 51, 6095, 2008\n",
        "Mean nAts 27.0, mcs nAts: 25"
       ]
      },
      {
       "output_type": "stream",
       "stream": "stdout",
       "text": [
        "\n",
        "[#8]-[#6]1(-[#6]2:[#6]:[#6]:[#6]:[#6]:[#6]:2)-[#6]-[#6]2-[#6]-[#6]-[#6](-[#6]-1)-[#7]-2-[#6]-[#6]1:[#6,#7]:[#8,#7,#16]:[#6]2:[#6]:1:[#6]:[#6]:[#6]:[#6]:2\n",
        "----------------\n",
        "Bioorg. Med. Chem., 15, 7258, 2007\n",
        "Mean nAts 34.8, mcs nAts: 11"
       ]
      },
      {
       "output_type": "stream",
       "stream": "stdout",
       "text": [
        "\n",
        "[#6](-[#6,#7]=,-[#6]-[#6,#7]1:,-[#6]:,-[#6]:,-[#6,#7]:,-[#6]:,-[#6]:,-1)-[#7,#6]-[#6,#7]\n",
        "----------------\n",
        "Bioorg. Med. Chem. Lett., 16, 2955, 2006\n",
        "Mean nAts 24.2, mcs nAts: 24\n",
        "[#6,#7]1:[#7,#6]:[#7,#6](-[#6]2:[#6]:[#6]:[#6]:[#6]:[#7,#6]:2):[#6]:[#6]:1-[#6]-[#7]1-[#6]-[#6]-,=[#7,#6](-[#6]-[#6]-1)-[#6]1:[#6,#7]:[#6]:[#6]:[#6]:[#6,#7]:1\n",
        "----------------"
       ]
      },
      {
       "output_type": "stream",
       "stream": "stdout",
       "text": [
        "\n",
        "J. Med. Chem., 54, 1555, 2011\n",
        "Mean nAts 33.0, mcs nAts: 28"
       ]
      },
      {
       "output_type": "stream",
       "stream": "stdout",
       "text": [
        "\n",
        "[#6]-[#8]-[#6]1:[#6]:[#6]:[#6]:[#6]:[#6]:1-[#7]1-[#6]-[#6]-[#7](-[#6]-[#6]-1)-[#6]-[#6]-,=[#6]-[#6]-[#7]-[#6](=[#8])-[#6]1:[#6]:[#6]:[#6](:[#6]:[#6]:1)-[#6,#7,#8]\n",
        "----------------\n",
        "J. Med. Chem., 53, 7219, 2010\n",
        "Mean nAts 32.1, mcs nAts: 17"
       ]
      },
      {
       "output_type": "stream",
       "stream": "stdout",
       "text": [
        "\n",
        "[#8,#6,#7]=,-[#6]-[#6]-[#6]-[#6]-[#7]1-[#6]-[#6]-[#7,#6](-[#6]-[#6]-1)-[#6]1:[#6]:[#6]:[#6]:[#6]:[#6]:1\n",
        "----------------\n",
        "Bioorg. Med. Chem., 16, 7291, 2008\n",
        "Mean nAts 26.0, mcs nAts: 10\n",
        "[#6](-[#6]-[#6,#8])-[#6,#7]1:,-[#6]:,-[#6]:,-[#6,#7](:,-[#6]:,-[#6]:,-1)-[#9,#6]\n",
        "----------------\n",
        "Bioorg. Med. Chem. Lett., 21, 2670, 2011\n",
        "Mean nAts 31.3, mcs nAts: 19"
       ]
      },
      {
       "output_type": "stream",
       "stream": "stdout",
       "text": [
        "\n",
        "[#6]-[#8]-[#6]1:[#6]:[#6]:[#6]:[#6]:[#6]:1-[#7]1-[#6]-[#6]-[#7](-[#6]-[#6]-1)-[#6]-[#6]-[#6]-[#6]-[#7]\n",
        "----------------\n",
        "Bioorg. Med. Chem. Lett., 16, 658, 2006\n",
        "Mean nAts 35.9, mcs nAts: 25"
       ]
      },
      {
       "output_type": "stream",
       "stream": "stdout",
       "text": [
        "\n",
        "[#6,#9]-[#6](-[#6,#9])(-[#6,#9])-[#6]1:[#7,#6]:[#6](-[#7]2-[#6]-[#6]-[#7](-[#6]-[#6]-2)-[#6]-[#6]-,=[#6]-[#6]-[#7,#6]):[#6,#7]:[#6](:[#7]:1)-[#6](-[#9,#6])(-[#9,#6])-[#9,#6]\n",
        "----------------\n",
        "Bioorg. Med. Chem., 17, 1716, 2009\n",
        "Mean nAts 25.1, mcs nAts: 8"
       ]
      },
      {
       "output_type": "stream",
       "stream": "stdout",
       "text": [
        "\n",
        "[#6,#8,#17]-[#7,#6]1-,:[#6]-,:[#6]-,:[#7,#6](-,:[#6]-,:[#6]-,:1)-[#6,#7,#9,#17]\n",
        "----------------\n",
        "Bioorg. Med. Chem. Lett., 9, 585, 1999\n",
        "Mean nAts 23.4, mcs nAts: 11"
       ]
      },
      {
       "output_type": "stream",
       "stream": "stdout",
       "text": [
        "\n",
        "[#6]1:[#6](:[#6,#7]:[#6]:[#6]:[#7,#6])-,:[#6,#7]:[#7,#6]:[#6]:1-[#6]-[#7,#6]\n",
        "----------------\n",
        "J. Med. Chem., 54, 2477, 2011\n",
        "Mean nAts 27.4, mcs nAts: 9\n",
        "[#6]1-,:[#6]-,:[#6]-,:[#7,#6]2:[#6](-,:[#6]-,:1):,-[#6]:,-[#6,#7]:,-[#7,#6]:,-2\n",
        "----------------\n",
        "J. Med. Chem., 49, 358, 2006\n",
        "Mean nAts 33.4, mcs nAts: 15"
       ]
      },
      {
       "output_type": "stream",
       "stream": "stdout",
       "text": [
        "\n",
        "[#6]-[#7]1-[#6]-[#6]-[#7](-[#6]-[#6]-1)-[#6]-[#6]-[#6]-[#6]-[#7]-[#6](=,-[#8,#6])-,=[#6,#8]\n",
        "----------------\n",
        "Bioorg. Med. Chem. Lett., 12, 619, 2002\n",
        "Mean nAts 32.7, mcs nAts: 18"
       ]
      },
      {
       "output_type": "stream",
       "stream": "stdout",
       "text": [
        "\n",
        "[#6,#7]#,-[#6]-[#6]-[#7](-[#6]-[#6]-[#7,#6])-[#6]1-[#6]-[#6]-[#6]2:[#6](-[#6]-1):[#6]:[#6](:[#6]:[#6]:2)-[#8]\n",
        "----------------\n",
        "Bioorg. Med. Chem., 18, 5291, 2010\n",
        "Mean nAts 26.1, mcs nAts: 17"
       ]
      },
      {
       "output_type": "stream",
       "stream": "stdout",
       "text": [
        "\n",
        "[#8,#6,#7]-[#6]1-[#6]-[#6]-[#7](-[#6]-[#6]-1)-[#6]-[#6]1:[#6]:[#6,#7,#8,#16]:[#6](:[#16,#6,#8]:1):[#6,#7]:[#6]:[#6]:[#6]\n",
        "----------------\n",
        "Bioorg. Med. Chem., 20, 1291, 2012\n",
        "Mean nAts 24.0, mcs nAts: 23\n",
        "[#9]-[#6]1:[#6]:[#6]:[#6](:[#6]:[#6]:1)-[#8,#6,#16]-[#6]-[#6]-[#6]-[#7]1-[#6]-[#6]-[#7,#6](-[#6]-[#6]-1)-[#6]1:[#7,#6]:[#6]:[#6]:[#6]:[#7,#6]:1\n",
        "----------------\n",
        "ACS Med. Chem. Lett., 2, 189, 2011\n",
        "Mean nAts 23.6, mcs nAts: 20"
       ]
      },
      {
       "output_type": "stream",
       "stream": "stdout",
       "text": [
        "\n",
        "[#6]-[#6]-[#7]1-[#6]-[#6]-[#6]2:[#6]3-[#6]-1-[#6]-[#6]1:[#6]:[#6]:[#6]:[#6](:[#6]:1-[#6]:3:[#6]:[#6]:[#6]:2)-[#8]\n",
        "----------------\n",
        "Bioorg. Med. Chem., 19, 3502, 2011\n",
        "Mean nAts 31.0, mcs nAts: 17"
       ]
      },
      {
       "output_type": "stream",
       "stream": "stdout",
       "text": [
        "\n",
        "[#6]1:[#6]:[#6]:[#6]:[#6]:[#6]:1-[#7,#6]1-[#6]-[#6]-[#7](-[#6]-[#6]-1)-[#6]-[#6]-[#6]-[#8,#6]-[#6,#8]\n",
        "----------------\n",
        "J. Med. Chem., 48, 7919, 2005\n",
        "Mean nAts 30.4, mcs nAts: 26"
       ]
      },
      {
       "output_type": "stream",
       "stream": "stdout",
       "text": [
        "\n",
        "[#8]=[#6](-[#7]-[#6]-[#6]-[#6]-[#6]-[#7]1-[#6]-[#6]-[#7](-[#6]-[#6]-1)-[#6]1:[#6]:[#6]:[#6]:[#6]:[#6]:1-[#17,#8])-[#6]1:,-[#6]:,-[#6]:,-[#6]:,-[#6]:,-[#6]:,-1\n",
        "----------------\n",
        "J. Med. Chem., 49, 3938, 2006\n",
        "Mean nAts 26.0, mcs nAts: 22"
       ]
      },
      {
       "output_type": "stream",
       "stream": "stdout",
       "text": [
        "\n",
        "[#6]1:[#6]:[#6]:[#6](:[#6]:[#6]:1)-[#7]1-[#6]-[#6]-[#7](-[#6]-[#6]-1)-[#6]-[#6]1:[#6,#7]:[#7,#6]2:[#6,#7]:[#6]:[#6]:[#6,#7]:[#6,#7]:2:[#7,#6]:1\n",
        "----------------\n",
        "J. Med. Chem., 51, 101, 2008\n",
        "Mean nAts 28.4, mcs nAts: 18"
       ]
      },
      {
       "output_type": "stream",
       "stream": "stdout",
       "text": [
        "\n",
        "[#6]-[#6,#7]-[#6,#7]-[#7,#6]-[#6]-[#6]-[#7]1-[#6]-[#6]-[#7](-[#6]-[#6]-1)-[#6]1:[#6]:[#6]:[#6]:[#6]:[#6]:1\n",
        "-*-*-*-*-*-*-*-*-*-*-*-*-*-*-*-*-*-*-*-*-*-*-*-*-*-*-*-*"
       ]
      },
      {
       "output_type": "stream",
       "stream": "stdout",
       "text": [
        "\n",
        "\t Cannabinoid CB2 receptor Homo sapiens\n",
        "\t\t 33 papers\n",
        "----------------\n",
        "Bioorg. Med. Chem., 18, 1149, 2010\n",
        "Mean nAts 37.4, mcs nAts: 28"
       ]
      },
      {
       "output_type": "stream",
       "stream": "stdout",
       "text": [
        "\n",
        "[#8,#7]=,-[#6](-,=[#7,#8])-[#6]1:[#7]:[#7](-[#6]2:[#6]:[#6]:[#6]:[#6]:[#6]:2-[#17]):[#6](:[#6]:1-[#6]-[#7]1:[#6]:[#7]:[#6]:[#7]:1)-[#6]1:[#6]:[#6]:[#6](:[#6]:[#6]:1)-[#35,#17]\n",
        "----------------\n",
        "Bioorg. Med. Chem., 16, 6489, 2008\n",
        "Mean nAts 28.0, mcs nAts: 27"
       ]
      },
      {
       "output_type": "stream",
       "stream": "stdout",
       "text": [
        "\n",
        "[#6]-[#6]1=[#6]-[#6]-[#6]2-[#6](-[#6]-1)-[#6]1:[#6](-[#8]):[#6]:[#6](:[#6]:[#6]:1-[#8]-[#6]-2(-[#6])-[#6])-[#6](-[#6])(-[#6])-[#6]1:[#6]:[#6]:[#6]:[#6]:[#6]:1\n",
        "----------------\n",
        "Bioorg. Med. Chem. Lett., 18, 4267, 2008\n",
        "Mean nAts 28.9, mcs nAts: 13"
       ]
      },
      {
       "output_type": "stream",
       "stream": "stdout",
       "text": [
        "\n",
        "[#6]-[#6]1:[#7,#8]:[#8,#7]:[#6](:[#7]:1)-[#6]1-,:[#6]-,:[#6]-,:[#7,#6](-,:[#6]-,:[#6]-,:1)-[#6,#9]\n",
        "----------------\n",
        "J. Med. Chem., 53, 4028, 2010\n",
        "Mean nAts 36.0, mcs nAts: 31"
       ]
      },
      {
       "output_type": "stream",
       "stream": "stdout",
       "text": [
        "\n",
        "[#6,#8]-,=[#6](=,-[#8,#6])-,=[#7]-[#6]1-[#6]-[#6](-[#6])(-[#6])-[#8]-[#6]2:[#6]-1:[#6]:[#6](:[#6](:[#7]:2)-[#6]1:[#6]:[#6]:[#6](:[#6]:[#6]:1-[#17,#6])-[#17])-[#6]1:[#6]:[#6]:[#6](:[#6]:[#6]:1)-[#17]\n",
        "----------------\n",
        "Bioorg. Med. Chem., 16, 7510, 2008\n",
        "Mean nAts 30.5, mcs nAts: 24"
       ]
      },
      {
       "output_type": "stream",
       "stream": "stdout",
       "text": [
        "\n",
        "[#6](-[#7,#6]-[#6,#7]-[#6]-[#6]-[#6]1:[#6]:[#6]:[#6]:[#6]:[#6]:1)-[#6](-[#6]1:[#6]:[#6]:[#6]:[#6]:[#6]:1)-[#6]1:[#6]:[#6]:[#6]:[#6]:[#6]:1\n",
        "----------------\n",
        "J. Med. Chem., 48, 7343, 2005\n",
        "Mean nAts 29.2, mcs nAts: 16"
       ]
      },
      {
       "output_type": "stream",
       "stream": "stdout",
       "text": [
        "\n",
        "[#6,#8]-[#6]1:[#6]:[#6]:[#6]:[#6](:[#6]:1)-[#8]-[#6]-[#6]-[#6]-[#6]-[#6]-[#6]-[#7,#6]-[#6]\n",
        "----------------\n",
        "J. Med. Chem., 53, 6996, 2010\n",
        "Mean nAts 28.5, mcs nAts: 25\n",
        "[#6]-[#6]1(-[#6])-[#8]-[#6]2:[#6]:[#6](-[#6]-[#6]-,=[#6]-[#6]-[#6]-[#6]-[#35,#6]):[#6]:[#6](:[#6]:2-[#6]2-[#6]-1-[#6]-[#6]-[#6](-[#6]-2)=,-[#8])-[#8]\n",
        "----------------\n",
        "Bioorg. Med. Chem., 19, 5698, 2011\n",
        "Mean nAts 28.6, mcs nAts: 23"
       ]
      },
      {
       "output_type": "stream",
       "stream": "stdout",
       "text": [
        "\n",
        "[#6]-[#6]-[#6]-[#6]-[#8]-[#6]1:[#6](-[#8]-[#6]):[#6]:[#6]:[#6]2:[#6]:1:[#7]:[#6](:[#6](:[#6]:2)-[#6](=[#8])-[#7]-[#6]-[#6])=[#8]\n",
        "----------------\n",
        "J. Med. Chem., 54, 5444, 2011\n",
        "Mean nAts 31.4, mcs nAts: 24"
       ]
      },
      {
       "output_type": "stream",
       "stream": "stdout",
       "text": [
        "\n",
        "[#6]1:[#6]:[#6]:[#6]:[#6]2:[#6]:1:[#7]:[#6]:[#6](:[#6]:2=,-[#8])-[#6](=[#8])-[#7]-[#6]12-[#6]-[#6]3-[#6]-[#6](-[#6]-1)-[#6]-[#6](-[#6]-2)-[#6]-3\n",
        "----------------\n",
        "Bioorg. Med. Chem. Lett., 16, 5432, 2006\n",
        "Mean nAts 29.8, mcs nAts: 28"
       ]
      },
      {
       "output_type": "stream",
       "stream": "stdout",
       "text": [
        "\n",
        "[#6]-[#6]-[#6]-[#6]-[#6]-[#7]1:[#6]:[#6](-[#6](=[#8])-[#6]2:[#6]:[#6]:[#6]:[#6]3:[#6]:2:[#6]:[#6]:[#6]:[#6]:3):[#6]:[#6]:1-[#6]1:[#6]:[#6]:[#6]:[#6,#7]:[#6]:1\n",
        "----------------\n",
        "Bioorg. Med. Chem. Lett., 19, 5195, 2009\n",
        "Mean nAts 34.6, mcs nAts: 27"
       ]
      },
      {
       "output_type": "stream",
       "stream": "stdout",
       "text": [
        "\n",
        "[#6]-[#6](-[#7]-[#6](=[#8])-[#6](-[#6])(-[#6])-[#7,#8]-[#6])-[#6](-[#6]-[#6]1:[#6]:[#6]:[#6](:[#6]:[#6]:1)-[#17])-[#6]1:[#6]:[#6]:[#6]:[#6](:[#6]:1)-[#6]#[#7]\n",
        "----------------\n",
        "Bioorg. Med. Chem., 17, 5549, 2009\n",
        "Mean nAts 31.3, mcs nAts: 22"
       ]
      },
      {
       "output_type": "stream",
       "stream": "stdout",
       "text": [
        "\n",
        "[#6]-[#6]1:[#6](-[#6](=[#8])-[#7]-[#6]):[#7]:[#7](:[#6]:1-[#7]1:[#6]:[#6]:[#6]:[#6]:1)-[#6]1:[#6]:[#6]:[#6](:[#6]:[#6]:1)-[#9,#17]\n",
        "----------------\n",
        "Bioorg. Med. Chem., 18, 6377, 2010\n",
        "Mean nAts 37.1, mcs nAts: 32"
       ]
      },
      {
       "output_type": "stream",
       "stream": "stdout",
       "text": [
        "\n",
        "[#6]-[#6]-[#6]1:[#7]:[#7]:[#6](:[#16]:1)-[#6]1:[#7]:[#7](-[#6]2:[#6]:[#6]:[#6]:[#6]:[#6]:2-[#17,#6]):[#6](:[#6]:1-[#6]-[#7]1:[#6]:[#7]:[#6]:[#7]:1)-[#6]1:[#6]:[#6]:[#6](:[#6]:[#6]:1)-[#35,#17]\n",
        "----------------\n",
        "Bioorg. Med. Chem. Lett., 18, 1725, 2008\n",
        "Mean nAts 27.4, mcs nAts: 17"
       ]
      },
      {
       "output_type": "stream",
       "stream": "stdout",
       "text": [
        "\n",
        "[#6]1:[#6]:[#6]:[#6](:[#6]:[#6]:1-[#16,#6](=[#8])-[#7]1-[#6]-[#6]-[#6,#7,#8,#16]-[#6]-[#6]-1)-[#6,#16](=,-[#8,#7])-,=[#7,#8]\n",
        "----------------\n",
        "Bioorg. Med. Chem. Lett., 17, 3925, 2007\n",
        "Mean nAts 24.9, mcs nAts: 22"
       ]
      },
      {
       "output_type": "stream",
       "stream": "stdout",
       "text": [
        "\n",
        "[#6]1:[#6]:[#6]:[#6]:[#6](:[#6]:1)-[#7]=[#6]1-[#16]-[#6]-[#6]2(-[#6]-[#7]-1-[#6](=[#16])-[#16]-[#6])-[#6]-[#6]-[#6]-[#6]-[#6]-2\n",
        "----------------\n",
        "Bioorg. Med. Chem. Lett., 19, 5931, 2009\n",
        "Mean nAts 22.8, mcs nAts: 20"
       ]
      },
      {
       "output_type": "stream",
       "stream": "stdout",
       "text": [
        "\n",
        "[#6]-[#6]-[#6]-[#6](=[#8])-[#7]-[#6]1:[#6,#7]:[#6]:[#6](:[#6](:[#7,#6]:1)-[#6]-[#7]1-[#6]-[#6]-[#8]-[#6]-[#6]-1)-[#6,#7]\n",
        "----------------\n",
        "J. Med. Chem., 52, 5785, 2009\n",
        "Mean nAts 26.8, mcs nAts: 20"
       ]
      },
      {
       "output_type": "stream",
       "stream": "stdout",
       "text": [
        "\n",
        "[#6]-[#6,#7]1:[#6]:[#7,#6]:[#6]2:[#6]:1:[#6](-[#6](=[#8])-[#7]):[#6]:[#7]:[#6]:2-[#7]-[#6]1:,-[#6]:,-[#6]:,-[#6,#8]:,-[#6]:,-[#6]:,-1\n",
        "----------------\n",
        "J. Med. Chem., 54, 8278, 2011\n",
        "Mean nAts 30.8, mcs nAts: 18"
       ]
      },
      {
       "output_type": "stream",
       "stream": "stdout",
       "text": [
        "\n",
        "[#6,#8]-[#6]1:[#6]:[#6]:[#6]:[#6](:[#6]:1)-[#8]-[#6]-[#6]-[#6]-[#6]-[#6]-[#6]-[#8,#6]-[#6]-[#6,#8]-[#8,#6]\n",
        "----------------\n",
        "J. Med. Chem., 50, 2597, 2007\n",
        "Mean nAts 28.4, mcs nAts: 27"
       ]
      },
      {
       "output_type": "stream",
       "stream": "stdout",
       "text": [
        "\n",
        "[#8]=[#6](-[#7]-[#6]-[#6]1:,-[#6]:,-[#6]:,-[#6,#7,#8]:,-[#6]:,-[#6]:,-1)-[#6]1:[#6]:[#7]:[#6](:[#7]:[#6]:1-[#6](-[#9])(-[#9])-[#9])-[#7]-[#6]1:[#6]:[#6]:[#6]:[#6]:[#6]:1\n",
        "----------------\n",
        "Bioorg. Med. Chem. Lett., 19, 1604, 2009\n",
        "Mean nAts 27.5, mcs nAts: 20"
       ]
      },
      {
       "output_type": "stream",
       "stream": "stdout",
       "text": [
        "\n",
        "[#7,#6]-[#6]1:[#6]:[#6]:[#6](:[#6]:[#7,#6]:1)-[#6]-[#7]1-[#6]-[#6]-[#8,#6]-[#6](-[#6]-1)-[#6]1:[#6]:[#6]:[#6]:[#6]:[#6]:1\n",
        "----------------\n",
        "Bioorg. Med. Chem. Lett., 19, 5004, 2009\n",
        "Mean nAts 26.6, mcs nAts: 12"
       ]
      },
      {
       "output_type": "stream",
       "stream": "stdout",
       "text": [
        "\n",
        "[#6,#8]-,=[#6,#7]-[#7,#6]-[#6]1:[#6]:[#6]:[#6](:[#6](:[#6]:1)-[#6,#16]-,=[#7,#6,#8,#9])-[#6]\n",
        "----------------\n",
        "Bioorg. Med. Chem. Lett., 19, 2591, 2009\n",
        "Mean nAts 31.8, mcs nAts: 27"
       ]
      },
      {
       "output_type": "stream",
       "stream": "stdout",
       "text": [
        "\n",
        "[#6]-[#6](-[#6])-[#6]1:[#7]:[#6]:[#6]2:[#6](:[#7]:1):[#7]:[#6](:[#6](:[#6]:2)-[#6]1:[#6]:[#6]:[#6](:[#6]:[#6]:1)-[#17,#6,#7,#8])-[#6]1:[#6]:[#6]:[#6]:[#6]:[#6]:1-[#17,#6]\n",
        "----------------\n",
        "Bioorg. Med. Chem. Lett., 15, 4417, 2005\n",
        "Mean nAts 33.9, mcs nAts: 30"
       ]
      },
      {
       "output_type": "stream",
       "stream": "stdout",
       "text": [
        "\n",
        "[#6]-[#6](-[#7]-[#16](-[#6])(=[#8])=[#8])-[#6]1:[#6]:[#6]:[#6](:[#6]:[#6]:1)-[#6,#16]-[#6]1:[#6]:[#6]:[#6](:[#6]:[#6]:1-[#16,#6](=,-[#8,#6])(=,-[#8])-[#6]1:[#6]:[#6]:[#6]:[#6]:[#6]:1)-[#17,#6,#8]\n",
        "----------------\n",
        "Eur. J. Med. Chem., 45, 1133, 2010\n",
        "Mean nAts 30.0, mcs nAts: 22"
       ]
      },
      {
       "output_type": "stream",
       "stream": "stdout",
       "text": [
        "\n",
        "[#7,#8,#16]-,=[#6](=,-[#8,#6,#7])-[#7]1-[#6]-[#6]-[#7](-[#6]-[#6]-1)-[#6](-[#6]1:[#6]:[#6]:[#6]:[#6]:[#6]:1)-[#6]1:[#6]:[#6]:[#6]:[#6]:[#6]:1\n",
        "----------------\n",
        "Bioorg. Med. Chem., 17, 2842, 2009\n",
        "Mean nAts 24.0, mcs nAts: 18"
       ]
      },
      {
       "output_type": "stream",
       "stream": "stdout",
       "text": [
        "\n",
        "[#6]1:[#6]:[#6]:[#6]:[#6]:[#6]:1-[#6]-[#6]1:[#6]:[#6]2:[#6]:[#6]:[#6]:[#6]:[#6]:2:[#8]:[#6]:1=[#8]\n",
        "----------------\n",
        "Bioorg. Med. Chem. Lett., 20, 4992, 2010\n",
        "Mean nAts 28.3, mcs nAts: 19"
       ]
      },
      {
       "output_type": "stream",
       "stream": "stdout",
       "text": [
        "\n",
        "[#6]-[#6]-[#6]-[#6]-[#6,#7]1=,-[#7]-,=[#7,#6](-[#6](=[#8])-[#7]-[#6])-[#6]-[#6]-1-[#6]1:[#6]:[#6]:[#6]:[#6]:[#6]:1\n",
        "----------------\n",
        "J. Med. Chem., 51, 5397, 2008\n",
        "Mean nAts 34.0, mcs nAts: 26"
       ]
      },
      {
       "output_type": "stream",
       "stream": "stdout",
       "text": [
        "\n",
        "[#6]-[#6]#,-,=[#6]-[#6]1:[#6]:[#6]:[#6](:[#16]:1)-[#6]1:[#6](-[#6]):[#6](-[#6](=[#8])-[#7]-[#6,#7]):[#7]:[#7]:1-[#6]1:[#6]:[#6]:[#6](:[#6]:[#6]:1-[#17])-[#17]\n",
        "----------------\n",
        "Bioorg. Med. Chem. Lett., 20, 608, 2010\n",
        "Mean nAts 36.5, mcs nAts: 20"
       ]
      },
      {
       "output_type": "stream",
       "stream": "stdout",
       "text": [
        "\n",
        "[#8,#6,#7]=,-[#16](=[#8])(-,=[#7,#6,#8])-[#6]1:[#6]:[#6]:[#6](:[#6]:[#6]:1-[#16](=[#8])(=[#8])-[#6,#7]1:,-[#6]:,-[#6]:,-[#6]:,-[#6]:,-[#6]:,-1)-[#17,#6,#8]\n",
        "----------------\n",
        "Bioorg. Med. Chem. Lett., 21, 182, 2011\n",
        "Mean nAts 28.5, mcs nAts: 25"
       ]
      },
      {
       "output_type": "stream",
       "stream": "stdout",
       "text": [
        "\n",
        "[#35,#6,#8,#17]-[#6]1:[#6]:[#6]:[#6]:[#6](:[#6]:1)-[#6]1:[#6]:[#7]:[#6](:[#7]:1)-[#6]1:[#6]:[#6]:[#6]:[#6](:[#6]:1)-[#6]-[#7]1-[#6]-[#6]-[#8,#6,#16]-[#6]-[#6]-1\n",
        "----------------\n",
        "Bioorg. Med. Chem. Lett., 18, 3695, 2008\n",
        "Mean nAts 31.8, mcs nAts: 25"
       ]
      },
      {
       "output_type": "stream",
       "stream": "stdout",
       "text": [
        "\n",
        "[#6]-[#6,#7]-[#7,#6]-[#6,#7](=,-[#8,#6])-[#6]1:[#6]:[#6]:[#6]2:[#6](:[#6]:1):[#7]:[#6](:[#7]:2-[#6]-[#6])-[#6]-[#6]1:[#6]:[#6]:[#6](:[#6,#7]:[#6,#7]:1)-[#8]-[#6]\n",
        "----------------\n",
        "Bioorg. Med. Chem. Lett., 21, 2011, 2011\n",
        "Mean nAts 28.5, mcs nAts: 14"
       ]
      },
      {
       "output_type": "stream",
       "stream": "stdout",
       "text": [
        "\n",
        "[#6]-[#7,#6]-[#6](=[#8])-[#7]1-[#6]-[#6]-[#6]-[#7](-[#6]-[#6]-1)-[#6](=,-[#8,#6])-,=[#6,#7,#8]\n",
        "----------------\n",
        "Bioorg. Med. Chem. Lett., 18, 2574, 2008\n",
        "Mean nAts 28.9, mcs nAts: 22"
       ]
      },
      {
       "output_type": "stream",
       "stream": "stdout",
       "text": [
        "\n",
        "[#6,#8]-,=[#16](=[#8])(=,-[#8,#6])-[#6]1:[#6]:[#6]:[#6]2:[#6](:[#6]:1):[#7]:[#6](:[#7]:2-[#6]-[#6]1-[#6]-[#6]-[#6,#8]-[#6]-[#6]-1)-[#6]-[#6]\n",
        "----------------\n",
        "Bioorg. Med. Chem. Lett., 17, 6299, 2007\n",
        "Mean nAts 26.5, mcs nAts: 21"
       ]
      },
      {
       "output_type": "stream",
       "stream": "stdout",
       "text": [
        "\n",
        "[#6]-[#6]1:[#6](-[#6](-,=[#6,#8])-,=[#6,#7,#8]):[#16]:[#6](:[#7]:1-[#6]-[#6])=[#7]-[#6](=[#8])-[#6]1:[#6]:[#6]:[#6]:[#6](:[#6]:1)-[#6,#7,#8,#17,#35]\n",
        "-*-*-*-*-*-*-*-*-*-*-*-*-*-*-*-*-*-*-*-*-*-*-*-*-*-*-*-*"
       ]
      },
      {
       "output_type": "stream",
       "stream": "stdout",
       "text": [
        "\n",
        "\t Dipeptidyl peptidase IV Homo sapiens\n",
        "\t\t 23 papers\n",
        "----------------\n",
        "Bioorg. Med. Chem. Lett., 18, 5435, 2008\n",
        "Mean nAts 32.2, mcs nAts: 22"
       ]
      },
      {
       "output_type": "stream",
       "stream": "stdout",
       "text": [
        "\n",
        "[#7]-[#6](-[#6]-[#6](=[#8])-[#7]-[#6]1(-[#6])-[#6]-[#6]-[#16,#7](-[#6]-[#6]-1)=,-[#8,#6])-[#6]-[#6]1:[#6]:[#6]:[#6]:[#6]:[#6]:1-[#9]\n",
        "----------------\n",
        "Bioorg. Med. Chem., 19, 172, 2011\n",
        "Mean nAts 31.2, mcs nAts: 24"
       ]
      },
      {
       "output_type": "stream",
       "stream": "stdout",
       "text": [
        "\n",
        "[#7,#8]-,=[#6](=,-[#8,#7])-[#6]-[#6]1:[#6](-[#6]):[#7]:[#6](:[#6](:[#6]:1-[#6]1:[#6]:[#6]:[#6](:[#6]:[#6]:1)-[#6])-[#6]-[#7])-[#6]-[#6](-[#6])-[#6]\n",
        "----------------\n",
        "Bioorg. Med. Chem. Lett., 19, 6340, 2009\n",
        "Mean nAts 29.6, mcs nAts: 23"
       ]
      },
      {
       "output_type": "stream",
       "stream": "stdout",
       "text": [
        "\n",
        "[#7]-[#6](-[#6]-[#6]-[#7]1-[#6]-[#6]-[#6]-[#6]-1-[#6]1:[#6,#7,#8]:[#6,#7,#8]:[#7,#6](:[#7,#6,#8]:1)-[#6,#7])-[#6]-[#6]1:[#6]:[#6]:[#6]:[#6]:[#6]:1-[#9]\n",
        "----------------\n",
        "Bioorg. Med. Chem. Lett., 17, 49, 2007\n",
        "Mean nAts 25.8, mcs nAts: 15"
       ]
      },
      {
       "output_type": "stream",
       "stream": "stdout",
       "text": [
        "\n",
        "[#7,#8]-,=[#6](=,-[#8,#7])-[#6]-[#6](-[#7])-[#6]-[#6]1:[#6]:[#6](-[#9]):[#6]:[#6]:[#6]:1-[#9]\n",
        "----------------\n",
        "Bioorg. Med. Chem. Lett., 15, 4770, 2005\n",
        "Mean nAts 16.3, mcs nAts: 11\n",
        "[#7]-[#6](-[#6](=[#8])-[#7])-[#6]1-[#6]-[#6]-[#6]-[#6]-[#6]-1\n",
        "----------------\n",
        "Bioorg. Med. Chem. Lett., 20, 4395, 2010\n",
        "Mean nAts 26.1, mcs nAts: 21"
       ]
      },
      {
       "output_type": "stream",
       "stream": "stdout",
       "text": [
        "\n",
        "[#6,#7]-[#6]1:[#7,#6]:[#6]2:[#7]:[#6](-[#6]):[#6](:[#6](:[#7]:2:[#7,#6]:1)-[#6]1:[#6]:[#6]:[#6](:[#6]:[#6]:1-[#17])-[#17])-[#6]-[#7]\n",
        "----------------\n",
        "Bioorg. Med. Chem. Lett., 16, 6226, 2006\n",
        "Mean nAts 28.3, mcs nAts: 19"
       ]
      },
      {
       "output_type": "stream",
       "stream": "stdout",
       "text": [
        "\n",
        "[#7]-[#6]1-[#6]-[#6]-[#6]-[#7](-[#6]-1)-[#6]1:[#7]:[#6]:[#6]:[#7]:1-[#6]-[#6]1:[#6]:[#6]:[#6]:[#6]:[#6]:1\n",
        "----------------\n",
        "Bioorg. Med. Chem. Lett., 20, 6273, 2010\n",
        "Mean nAts 27.8, mcs nAts: 26"
       ]
      },
      {
       "output_type": "stream",
       "stream": "stdout",
       "text": [
        "\n",
        "[#6]-[#8]-[#6]1:[#6]:[#6]:[#6]:[#6]:[#6]:1-[#6]1:[#6]:[#7]2:[#6](:[#7]:1):[#7]:[#6](:[#6](:[#6]:2-[#6]1:[#6]:[#6]:[#6]:[#6]:[#6]:1)-[#6]-[#7])-[#6]\n",
        "----------------\n",
        "J. Med. Chem., 50, 6450, 2007\n",
        "Mean nAts 30.5, mcs nAts: 23"
       ]
      },
      {
       "output_type": "stream",
       "stream": "stdout",
       "text": [
        "\n",
        "[#6]-[#6]#,=[#6]-[#6]-[#7]1:[#6](-[#7]2-[#6]-[#6]-[#7,#6]-[#6]-[#6]-2):[#7]:[#6]2:[#6]:1:[#6](=[#8]):[#7](-[#6]):[#6](:[#7]:2-[#6])=[#8]\n",
        "----------------\n",
        "Bioorg. Med. Chem. Lett., 18, 2362, 2008\n",
        "Mean nAts 20.5, mcs nAts: 19\n",
        "[#6]-[#7]1:[#7,#6]:[#7]:[#6]2:[#6]:1:[#6](:[#6](:[#6]:[#6]:2)-[#6]1:[#6]:[#6]:[#6]:[#6]:[#6]:1-[#17,#6,#8,#9])-[#6]-[#7]\n",
        "----------------\n",
        "Bioorg. Med. Chem. Lett., 17, 5806, 2007\n",
        "Mean nAts 29.8, mcs nAts: 24"
       ]
      },
      {
       "output_type": "stream",
       "stream": "stdout",
       "text": [
        "\n",
        "[#6]-[#6](-[#6]1:,-[#6]:,-[#6]:,-[#6](:,-[#6]:,-[#6]:,-1)-[#6]1:,-[#6]:,-[#6]:,-[#6,#7]:[#6,#7]:,-[#6,#7]:,-1)-[#6](-[#7])-[#6](=[#8])-[#7]1-[#6]-[#6]-[#6](-[#6]-1)-[#9,#6]\n",
        "----------------\n",
        "Bioorg. Med. Chem. Lett., 18, 3158, 2008\n",
        "Mean nAts 32.9, mcs nAts: 16"
       ]
      },
      {
       "output_type": "stream",
       "stream": "stdout",
       "text": [
        "\n",
        "[#6]-[#6]#[#6]-[#6]-[#7]1:[#6]:[#6,#7]:[#7]:[#6]:1-[#7]1-[#6]-[#6]-[#6]-[#6](-[#6]-1)-[#7]\n",
        "----------------\n",
        "Bioorg. Med. Chem. Lett., 21, 1366, 2011\n",
        "Mean nAts 35.0, mcs nAts: 25"
       ]
      },
      {
       "output_type": "stream",
       "stream": "stdout",
       "text": [
        "\n",
        "[#7]-[#6](-[#6]-[#6](=[#8])-[#7]1-[#6]-[#6]-[#16]-[#6]-1-[#6](=[#8])-[#7]-[#6]-[#6])-[#6]-[#6]1:[#6]:[#6](-[#9]):[#6](:[#6]:[#6]:1-[#9])-[#9]\n",
        "----------------\n",
        "Eur. J. Med. Chem., 45, 4953, 2010\n",
        "Mean nAts 30.6, mcs nAts: 26\n",
        "[#6]-[#7]1-[#6]-[#6]2-[#6]-[#7](-[#6](=[#8])-[#6]-[#6](-[#7])-[#6]-[#6]3:[#6]:[#6](-[#9]):[#6](:[#6]:[#6]:3-[#9])-[#9])-[#6]-[#6]-[#7]-2-[#6]-1=[#8]\n",
        "----------------\n",
        "Bioorg. Med. Chem. Lett., 20, 1109, 2010\n",
        "Mean nAts 26.2, mcs nAts: 20"
       ]
      },
      {
       "output_type": "stream",
       "stream": "stdout",
       "text": [
        "\n",
        "[#6]-[#8]-[#6]1:[#6]:[#6]2:[#6](:[#6]:[#6]:1-[#8]-[#6])-[#6]1-[#6]-[#6](-[#7])-[#6](-[#6]-[#7]-1-[#6]-[#6]-2)-[#7]\n",
        "----------------\n",
        "Bioorg. Med. Chem. Lett., 17, 2005, 2007\n",
        "Mean nAts 25.5, mcs nAts: 15"
       ]
      },
      {
       "output_type": "stream",
       "stream": "stdout",
       "text": [
        "\n",
        "[#6]-[#7]1-[#6]-[#6](-[#7])-[#6](-[#6]-1)-[#6]1:[#6]:[#6]:[#6](:[#6]:[#6]:1-[#17,#9])-[#17,#9]\n",
        "----------------\n",
        "Bioorg. Med. Chem. Lett., 19, 1991, 2009\n",
        "Mean nAts 26.7, mcs nAts: 19"
       ]
      },
      {
       "output_type": "stream",
       "stream": "stdout",
       "text": [
        "\n",
        "[#8]=[#6](-[#6]1-[#6]-[#6](-[#7]2-[#6]-[#6]-[#7](-[#6]-[#6]-2)-[#6])-[#6]-[#7]-1)-[#7]1-[#6]-[#6]-[#6]-[#6]-1\n",
        "----------------\n",
        "Bioorg. Med. Chem., 19, 4953, 2011\n",
        "Mean nAts 25.7, mcs nAts: 23\n",
        "[#6]-[#6]-[#6]-[#7]1:[#6](-[#6]-[#7]):[#6](-[#6]2:[#6]:[#6]:[#6]:[#6]:[#6]:2):[#6]2:[#6](:[#6]:1=[#8]):[#6]:[#6]:[#6](:[#6]:2)-[#17,#6,#8]\n",
        "----------------\n",
        "Bioorg. Med. Chem. Lett., 20, 7246, 2010\n",
        "Mean nAts 30.4, mcs nAts: 27"
       ]
      },
      {
       "output_type": "stream",
       "stream": "stdout",
       "text": [
        "\n",
        "[#6]-[#7]1:[#6]:[#7]:[#6]2:[#6](:[#6]:1=[#8]):[#7](:[#6](:[#6]:2)-[#7]1-[#6]-[#6]-[#6]-[#6](-[#6]-1)(-[#6])-[#7])-[#6]-[#6]1:[#6]:[#6]:[#6]:[#6]:[#6]:1-[#17,#6]\n",
        "----------------\n",
        "Bioorg. Med. Chem. Lett., 14, 5151, 2004\n",
        "Mean nAts 34.1, mcs nAts: 27"
       ]
      },
      {
       "output_type": "stream",
       "stream": "stdout",
       "text": [
        "\n",
        "[#7]-[#6](-[#6]-[#6](=[#8])-[#7]1-[#6]-[#6,#16]-[#6]-[#6]-1-[#6](=[#8])-[#7]-[#6]-[#6]1:[#6]:[#6]:[#6]:[#6]:[#6]:1)-[#6]-[#6]1:[#6]:[#6]:[#6]:[#6]:[#6]:1\n",
        "----------------\n",
        "Bioorg. Med. Chem. Lett., 18, 2409, 2008\n",
        "Mean nAts 27.7, mcs nAts: 25"
       ]
      },
      {
       "output_type": "stream",
       "stream": "stdout",
       "text": [
        "\n",
        "[#6](-[#6]1:[#7]:[#6](-[#6]2:[#6]:[#6]:[#6](:[#6]:[#6]:2)-[#16,#6](-,=[#6,#8,#9])(=,-[#8,#9])=,-[#8,#6,#9]):[#7]:[#8]:1)-[#6](-[#7,#6])-[#6](=,-[#8,#9])-,=[#7,#6]1-[#6]-[#6]-[#6]-[#6]-1\n",
        "----------------\n",
        "Bioorg. Med. Chem. Lett., 15, 2253, 2005\n",
        "Mean nAts 29.2, mcs nAts: 24"
       ]
      },
      {
       "output_type": "stream",
       "stream": "stdout",
       "text": [
        "\n",
        "[#6]-[#6,#7]1:[#7,#6,#8,#16]:[#6,#7]:[#6](:[#16,#6,#7,#8]:1)-[#6]-[#7](-[#6](=[#8])-[#6]-[#6](-[#7])-[#6]-[#6]1:[#6]:[#6](-[#9]):[#6]:[#6]:[#6]:1-[#9])-[#6]-[#6]\n",
        "----------------\n",
        "Bioorg. Med. Chem. Lett., 21, 3809, 2011\n",
        "Mean nAts 29.4, mcs nAts: 22"
       ]
      },
      {
       "output_type": "stream",
       "stream": "stdout",
       "text": [
        "\n",
        "[#7]1-[#6]-[#6]-[#7](-[#6]-[#6]-1=[#8])-[#6](=[#8])-[#6]-[#6](-[#7])-[#6]-[#6]1:[#6]:[#6](-[#9]):[#6](:[#6]:[#6]:1-[#9])-[#9]\n",
        "-*-*-*-*-*-*-*-*-*-*-*-*-*-*-*-*-*-*-*-*-*-*-*-*-*-*-*-*"
       ]
      },
      {
       "output_type": "stream",
       "stream": "stdout",
       "text": [
        "\n",
        "\t Cytochrome P450 19A1 Homo sapiens\n",
        "\t\t 6 papers\n",
        "----------------\n",
        "J. Med. Chem., 47, 6792, 2004\n",
        "Mean nAts 20.3, mcs nAts: 12"
       ]
      },
      {
       "output_type": "stream",
       "stream": "stdout",
       "text": [
        "\n",
        "[#6]1:[#6]:[#6](-[#6]-[#7]2:[#6]:[#6,#7]:[#7,#6]:[#6,#7]:2):[#6]:[#6,#8]:[#6,#8]:1\n",
        "----------------\n",
        "J. Med. Chem., 50, 3420, 2007\n",
        "Mean nAts 22.5, mcs nAts: 14"
       ]
      },
      {
       "output_type": "stream",
       "stream": "stdout",
       "text": [
        "\n",
        "[#8]=[#6](-[#6]1:[#6]:[#6]:[#6]:[#6]:[#6]:1)-[#6]1:[#6]:[#6]:[#6]:[#6]:[#6]:1\n",
        "----------------\n",
        "Bioorg. Med. Chem., 16, 1474, 2008\n",
        "Mean nAts 20.6, mcs nAts: 17"
       ]
      },
      {
       "output_type": "stream",
       "stream": "stdout",
       "text": [
        "\n",
        "[#8]=[#6]1-,:[#6]-,:[#6](-[#6]2:[#6]:[#6]:[#6]:[#6]:[#6]:2)-,:[#8]-,:[#6]2:[#6]-,:1:[#6]:[#6]:[#6]:[#6]:2\n",
        "----------------\n",
        "J. Med. Chem., 53, 5347, 2010\n",
        "Mean nAts 21.8, mcs nAts: 12"
       ]
      },
      {
       "output_type": "stream",
       "stream": "stdout",
       "text": [
        "\n",
        "[#6]1:[#6]:[#7](-[#6]-[#6]2:[#6]:[#6]:[#6]:[#6]:[#6]:2):[#6]:[#7]:1\n",
        "----------------\n",
        "Bioorg. Med. Chem., 16, 8349, 2008\n",
        "Mean nAts 26.1, mcs nAts: 16"
       ]
      },
      {
       "output_type": "stream",
       "stream": "stdout",
       "text": [
        "\n",
        "[#6]-[#6]-[#7,#6](-[#6]-[#6]1:[#6]:[#6]:[#6](:[#6]:[#6]:1)-[#17,#6])-[#7]1:[#6]:[#6,#7]:[#7,#6]:[#6,#7]:1\n",
        "----------------\n",
        "ACS Med. Chem. Lett., 2, 243, 2011\n",
        "Mean nAts 30.2, mcs nAts: 21"
       ]
      },
      {
       "output_type": "stream",
       "stream": "stdout",
       "text": [
        "\n",
        "[#7]#[#6]-[#6]1:[#6]:[#6]:[#6](:[#6]:[#6]:1)-[#7](-[#6]-[#6]1:[#6]:[#6]:[#6]:[#6]:[#6]:1)-[#7]1:[#6]:[#7]:[#7]:[#6]:1\n",
        "-*-*-*-*-*-*-*-*-*-*-*-*-*-*-*-*-*-*-*-*-*-*-*-*-*-*-*-*\n",
        "\t Cathepsin S Homo sapiens\n",
        "\t\t 11 papers\n",
        "----------------\n",
        "Bioorg. Med. Chem. Lett., 16, 5107, 2006\n",
        "Mean nAts 35.7, mcs nAts: 19"
       ]
      },
      {
       "output_type": "stream",
       "stream": "stdout",
       "text": [
        "\n",
        "[#6]-[#6](-[#6]-[#7])-[#7]-[#6](=[#8])-[#8]-[#6](-[#6]-[#6]1-[#6]-[#6]-[#6]-[#6]-[#6]-1)-[#6](=,-[#8,#7])-,=[#7,#8]\n",
        "----------------\n",
        "J. Med. Chem., 50, 591, 2007\n",
        "Mean nAts 30.5, mcs nAts: 21"
       ]
      },
      {
       "output_type": "stream",
       "stream": "stdout",
       "text": [
        "\n",
        "[#6]1:[#6]:[#6]:[#6](:[#6]:[#6]:1)-[#6]-[#6]-[#7]-[#6](=[#8])-[#6]1:[#6]:[#7]:[#6](:[#7]:[#6]:1-[#7]-[#6])-[#6]#[#7]\n",
        "----------------\n",
        "Bioorg. Med. Chem. Lett., 17, 5525, 2007\n",
        "Mean nAts 43.2, mcs nAts: 37"
       ]
      },
      {
       "output_type": "stream",
       "stream": "stdout",
       "text": [
        "\n",
        "[#6]-[#16,#6](=[#8])-[#7]1-[#6]-[#6]-[#6]2:[#6](-[#6]-1):[#6](-[#6]1:[#6]:[#6]:[#6](:[#6]:[#6]:1)-[#35,#6,#17]):[#7]:[#7]:2-[#6]-[#6]-[#6]-[#7]1-[#6]-[#6]-[#6](-[#6]-[#6]-1)-[#6,#7]1:[#6]:[#7,#8,#16]:[#6]2:[#6]:1:[#6,#7]:[#6,#7]:[#6,#7]:[#7,#6]:2\n",
        "----------------\n",
        "Bioorg. Med. Chem. Lett., 20, 2370, 2010\n",
        "Mean nAts 41.2, mcs nAts: 33"
       ]
      },
      {
       "output_type": "stream",
       "stream": "stdout",
       "text": [
        "\n",
        "[#6]-[#16](=[#8])(=[#8])-[#7,#6]1-[#6]-[#6]-[#6]2:[#6](-[#6]-1):[#6](-[#6]1:[#6]:[#6]:[#6](:[#6](:[#6]:1)-[#16]-[#6]-[#6]-[#8,#6,#7])-[#17,#6]):[#7]:[#7]:2-[#6]-[#6]-[#6]-[#7]1-[#6]-[#6]-[#8,#6]-[#6]-[#6]-1\n",
        "----------------\n",
        "Bioorg. Med. Chem. Lett., 16, 1975, 2006\n",
        "Mean nAts 35.3, mcs nAts: 24"
       ]
      },
      {
       "output_type": "stream",
       "stream": "stdout",
       "text": [
        "\n",
        "[#8]=[#6](-[#7]-[#6]-[#6]-[#7,#6,#8])-[#6](-[#6]-[#6]1-[#6]-[#6]-[#6]-[#6]-[#6]-1)-[#7]-[#6]1:[#7]:[#6]2:[#6]:[#6]:[#6]:[#6]:[#6]:2:[#8]:1\n",
        "----------------\n",
        "Bioorg. Med. Chem. Lett., 16, 2209, 2006\n",
        "Mean nAts 42.6, mcs nAts: 36"
       ]
      },
      {
       "output_type": "stream",
       "stream": "stdout",
       "text": [
        "\n",
        "[#8]=[#6]1-[#6,#7,#8]-[#8,#6]-[#6]2:[#6](-[#7]-1-[#6]1-[#6]-[#6]-[#7](-[#6]-[#6]-1)-[#6]-[#6]-[#6]-[#7]1:[#7]:[#6](-[#6]3:[#6]:[#6]:[#6](:[#6]:[#6]:3)-[#6,#35]):[#6]3:[#6]:1-[#6]-[#6]-[#7]-[#6]-3):[#6,#7]:[#6]:[#6]:[#6]:2\n",
        "----------------"
       ]
      },
      {
       "output_type": "stream",
       "stream": "stdout",
       "text": [
        "\n",
        "Bioorg. Med. Chem. Lett., 20, 4507, 2010\n",
        "Mean nAts 24.4, mcs nAts: 21\n",
        "[#6]-[#6]-[#8]-[#6]1:[#6]:[#6]:[#6](:[#6]:[#6]:1-[#6](-[#9])(-[#9])-[#9])-[#6]1:[#6]:[#6]:[#6,#7]:[#6](:[#7]:1)-[#6]#[#7]\n",
        "----------------\n",
        "Bioorg. Med. Chem. Lett., 18, 5280, 2008\n",
        "Mean nAts 32.2, mcs nAts: 23"
       ]
      },
      {
       "output_type": "stream",
       "stream": "stdout",
       "text": [
        "\n",
        "[#6]-[#7]-[#6](=[#8])-[#6]1:[#6](-[#7,#8]-[#6]-[#6]2-[#6]-[#6]-[#6,#7]-[#6]-[#6]-2):[#7]:[#6](:[#7]:[#6]:1-[#8,#7]-[#6]-[#6])-[#6]#[#7]\n",
        "----------------\n",
        "Bioorg. Med. Chem. Lett., 20, 2375, 2010\n",
        "Mean nAts 43.0, mcs nAts: 40"
       ]
      },
      {
       "output_type": "stream",
       "stream": "stdout",
       "text": [
        "\n",
        "[#6,#7,#8]-,=[#16,#6](=,-[#8,#6,#7])-[#7]1-[#6]-[#6]-[#6]2:[#6](-[#6]-1):[#6](-[#6]1:[#6]:[#6]:[#6](:[#6](:[#6]:1)-[#16]-[#6]-[#6]-[#7]1-[#6]-[#6]-[#6,#7,#8]-[#6]-[#6]-1)-[#6](-[#9])(-[#9])-[#9]):[#7]:[#7]:2-[#6]-[#6]-[#6]-[#7]1-[#6]-[#6]-[#6,#7,#8]-[#6]-[#6]-1\n",
        "----------------\n",
        "Bioorg. Med. Chem. Lett., 20, 2379, 2010\n",
        "Mean nAts 45.2, mcs nAts: 34"
       ]
      },
      {
       "output_type": "stream",
       "stream": "stdout",
       "text": [
        "\n",
        "[#7]1-[#6]-[#6]-[#6]2:[#6](-[#6]-1):[#6](-[#6]1:[#6]:[#6]:[#6](:[#6](:[#6]:1)-[#16]-[#6]-[#6](=,-[#8,#7])-,=[#7,#8])-[#6](-[#9])(-[#9])-[#9]):[#7]:[#7]:2-[#6]-[#6]-[#6]-[#7]1-[#6]-[#6]-[#6](-[#6]-[#6]-1)-[#6,#7]\n",
        "----------------\n",
        "Bioorg. Med. Chem. Lett., 19, 6131, 2009\n",
        "Mean nAts 38.4, mcs nAts: 31"
       ]
      },
      {
       "output_type": "stream",
       "stream": "stdout",
       "text": [
        "\n",
        "[#6]-[#6]#[#6]-[#6]1:[#6]:[#6](-[#6]2:[#7]:[#7](-[#6]-[#6]-[#6]-[#7]3-[#6]-[#6]-[#8]-[#6]-[#6]-3):[#6]3:[#6]:2-[#6]-[#7](-[#16,#6](=,-[#8,#6])=,-[#8,#6])-[#6]-[#6]-3):[#6]:[#6]:[#6]:1-[#17]\n",
        "-*-*-*-*-*-*-*-*-*-*-*-*-*-*-*-*-*-*-*-*-*-*-*-*-*-*-*-*"
       ]
      },
      {
       "output_type": "stream",
       "stream": "stdout",
       "text": [
        "\n",
        "\t Carbonic anhydrase II Homo sapiens\n",
        "\t\t 33 papers\n",
        "----------------\n",
        "Bioorg. Med. Chem. Lett., 21, 2521, 2011\n",
        "Mean nAts 11.4, mcs nAts: 5\n",
        "[#6,#7,#8]-[#6,#7,#8]-[#6](-,=[#6,#8])-,=[#6,#8]\n",
        "----------------\n",
        "Bioorg. Med. Chem. Lett., 19, 3170, 2009\n",
        "Mean nAts 19.5, mcs nAts: 10"
       ]
      },
      {
       "output_type": "stream",
       "stream": "stdout",
       "text": [
        "\n",
        "[#6,#7,#8]-,=[#7,#6,#16]-[#6,#7,#8]-[#6,#7]-[#6]1:,-[#6,#8]:,-[#6]:,-[#6,#7]:,-[#6]:,-[#6,#7]:,-1\n",
        "----------------\n",
        "J. Med. Chem., 54, 1481, 2011\n",
        "Mean nAts 24.9, mcs nAts: 12"
       ]
      },
      {
       "output_type": "stream",
       "stream": "stdout",
       "text": [
        "\n",
        "[#7,#6,#8]-[#16,#6,#8]-[#6]1-[#8]-[#6](-[#6,#8,#16])-[#6](-[#6](-[#6]-1-[#8])-[#8])-[#8]\n",
        "----------------\n",
        "Bioorg. Med. Chem., 19, 1381, 2011\n",
        "Mean nAts 10.8, mcs nAts: 8\n",
        "[#6,#8]-,=[#8,#6]-[#6]1:[#6]:[#6]:[#6]:[#6]:[#6]:1\n",
        "----------------"
       ]
      },
      {
       "output_type": "stream",
       "stream": "stdout",
       "text": [
        "\n",
        "Bioorg. Med. Chem., 18, 7413, 2010\n",
        "Mean nAts 22.4, mcs nAts: 12"
       ]
      },
      {
       "output_type": "stream",
       "stream": "stdout",
       "text": [
        "\n",
        "[#7]-[#16](=[#8])(=[#8])-[#6]1:[#6]:[#6]:[#6](:[#6]:[#6]:1)-[#7,#6]-[#6,#7]\n",
        "----------------\n",
        "J. Med. Chem., 49, 5544, 2006\n",
        "Mean nAts 23.6, mcs nAts: 5"
       ]
      },
      {
       "output_type": "stream",
       "stream": "stdout",
       "text": [
        "\n",
        "[#6,#7,#8]-,=[#6,#16](=,-[#8,#6])-[#7,#6]-,=[#6]\n",
        "----------------\n",
        "J. Med. Chem., 52, 4063, 2009\n",
        "Mean nAts 32.4, mcs nAts: 22"
       ]
      },
      {
       "output_type": "stream",
       "stream": "stdout",
       "text": [
        "\n",
        "[#7,#8]-,=[#6](=,-[#8,#7])-[#6]1:[#7]:[#6]2:[#6]:[#6]:[#6](:[#6]:[#6]:2:[#6]:1-[#6]1:[#6]:[#6]:[#6]:[#6]:[#6]:1)-[#16](-[#7])(=[#8])=[#8]\n",
        "----------------\n",
        "Bioorg. Med. Chem., 17, 4894, 2009\n",
        "Mean nAts 19.7, mcs nAts: 10"
       ]
      },
      {
       "output_type": "stream",
       "stream": "stdout",
       "text": [
        "\n",
        "[#6]1:,-[#6]:,-[#6,#8]:,-[#6](:,-[#6]:,-[#6]:,-1)-[#7,#6]-[#6,#7,#8]-[#6,#7,#16]-,=[#6,#7,#8]\n",
        "----------------"
       ]
      },
      {
       "output_type": "stream",
       "stream": "stdout",
       "text": [
        "\n",
        "J. Med. Chem., 42, 2641, 1999\n",
        "Mean nAts 21.0, mcs nAts: 6\n",
        "[#6]1:[#6]:[#6]:[#6]:[#6,#7]:[#6]:1\n",
        "----------------"
       ]
      },
      {
       "output_type": "stream",
       "stream": "stdout",
       "text": [
        "\n",
        "Bioorg. Med. Chem. Lett., 15, 1149, 2005\n",
        "Mean nAts 15.3, mcs nAts: 8"
       ]
      },
      {
       "output_type": "stream",
       "stream": "stdout",
       "text": [
        "\n",
        "[#6]1:,-[#6,#16]:,-[#6]:,-[#6]:,-[#6](:,-[#6,#8]:,-1)-[#16,#6,#7,#8]-,=[#7,#6,#8,#9]\n",
        "----------------\n",
        "Bioorg. Med. Chem. Lett., 18, 4624, 2008\n",
        "Mean nAts 21.4, mcs nAts: 11"
       ]
      },
      {
       "output_type": "stream",
       "stream": "stdout",
       "text": [
        "\n",
        "[#7,#6]-[#6]1:[#6]:[#6]:[#6](:[#6]:[#6]:1)-[#16](-[#7])(=[#8])=[#8]\n",
        "----------------\n",
        "Bioorg. Med. Chem., 19, 1847, 2011\n",
        "Mean nAts 16.3, mcs nAts: 6\n",
        "[#7,#6,#8,#16]-,=[#6]1:,-[#7,#16]:,-[#7,#6,#8,#16]:,-[#6,#7]:[#16,#6,#7]:,-1\n",
        "----------------\n",
        "J. Med. Chem., 51, 3230, 2008\n",
        "Mean nAts 20.6, mcs nAts: 10"
       ]
      },
      {
       "output_type": "stream",
       "stream": "stdout",
       "text": [
        "\n",
        "[#6]1:[#6]:[#6]:[#6](:[#6](:[#6]:1)-[#16,#6](=,-[#8,#7])=[#8])-[#17,#7,#16]\n",
        "----------------\n",
        "Eur. J. Med. Chem., 45, 4769, 2010\n",
        "Mean nAts 38.2, mcs nAts: 34"
       ]
      },
      {
       "output_type": "stream",
       "stream": "stdout",
       "text": [
        "\n",
        "[#6]-[#6]-[#8]-[#6](=[#8])-[#6]1:[#6](-[#6](=[#8])-[#7]-[#6]2:[#7]:[#7]:[#6](:[#16]:2)-[#16](-[#7])(=[#8])=[#8]):[#7]:[#7](:[#6]:1-[#6]1:[#6]:[#6]:[#6]:[#6]:[#6]:1)-[#6]1:[#6]:[#6]:[#6]:[#6]:[#6]:1\n",
        "----------------"
       ]
      },
      {
       "output_type": "stream",
       "stream": "stdout",
       "text": [
        "\n",
        "J. Med. Chem., 54, 3977, 2011\n",
        "Mean nAts 19.0, mcs nAts: 14\n",
        "[#6]-[#6,#7]-[#6,#7]-[#7,#6]-[#6]1:[#6]:[#6]:[#6](:[#6]:[#6]:1)-[#16](-[#7])(=[#8])=[#8]\n",
        "----------------\n",
        "Bioorg. Med. Chem. Lett., 15, 3302, 2005\n",
        "Mean nAts 26.4, mcs nAts: 18"
       ]
      },
      {
       "output_type": "stream",
       "stream": "stdout",
       "text": [
        "\n",
        "[#6]-[#6]1(-[#6])-[#8]-[#5](-[#6]2:[#6]:[#6]:[#6](:[#6]:[#6]:2)-[#7,#6,#8]-[#16,#6,#7]-[#7,#6,#16])-[#8]-[#6]-1(-[#6])-[#6]\n",
        "----------------\n",
        "Bioorg. Med. Chem., 15, 4336, 2007\n",
        "Mean nAts 22.5, mcs nAts: 9"
       ]
      },
      {
       "output_type": "stream",
       "stream": "stdout",
       "text": [
        "\n",
        "[#6,#7,#16]-,=[#6,#7,#8]-,=[#8,#6,#7]-[#6]1:,-[#6,#8]:,-[#6,#7]:,-[#6,#7,#16]:,-[#6]:,-[#6]:,-1\n",
        "----------------\n",
        "Bioorg. Med. Chem., 18, 2159, 2010\n",
        "Mean nAts 13.4, mcs nAts: 7\n",
        "[#8,#6]-,=[#6]1:[#6,#8]:[#6]:[#6,#8]:[#6]:[#6]:1\n",
        "----------------"
       ]
      },
      {
       "output_type": "stream",
       "stream": "stdout",
       "text": [
        "\n",
        "J. Med. Chem., 49, 6539, 2006\n",
        "Mean nAts 31.6, mcs nAts: 15"
       ]
      },
      {
       "output_type": "stream",
       "stream": "stdout",
       "text": [
        "\n",
        "[#6]-[#6]-[#8,#7]-[#6](=[#8])-[#6]1:[#6]:[#6]:[#6](:[#6]:[#6]:1)-[#16](-[#7])(=[#8])=[#8]\n",
        "----------------\n",
        "Bioorg. Med. Chem. Lett., 15, 5192, 2005\n",
        "Mean nAts 16.5, mcs nAts: 11\n",
        "[#7]-[#16](=[#8])(=[#8])-[#8,#6]-[#6]1:[#6]:[#6]:[#6]:[#6]:[#6]:1\n",
        "----------------\n",
        "Bioorg. Med. Chem. Lett., 14, 5775, 2004\n",
        "Mean nAts 24.6, mcs nAts: 13"
       ]
      },
      {
       "output_type": "stream",
       "stream": "stdout",
       "text": [
        "\n",
        "[#6,#8]-,=[#6,#16](=[#8])-[#7]-,=[#6]1:[#7]:[#7]:[#6](:[#16]:1)-[#16](-[#7])(=[#8])=[#8]\n",
        "----------------\n",
        "J. Med. Chem., 54, 6905, 2011\n",
        "Mean nAts 33.9, mcs nAts: 28"
       ]
      },
      {
       "output_type": "stream",
       "stream": "stdout",
       "text": [
        "\n",
        "[#7]-[#16](=[#8])(=[#8])-[#6]1:[#6]:[#6]:[#6](:[#6]:[#6]:1)-[#7]1:[#6]:[#6](-[#6]-[#16]-[#6]2-[#8]-[#6](-[#6]-[#8])-[#6](-[#6](-[#6]-2-[#8])-[#8])-[#8]):[#7]:[#7]:1\n",
        "----------------\n",
        "Bioorg. Med. Chem. Lett., 18, 6332, 2008\n",
        "Mean nAts 14.5, mcs nAts: 10\n",
        "[#7]-[#16](=[#8])(=[#8])-[#7,#6]-[#6]1:[#7]:[#7,#8]:[#6]:[#16,#6]:1\n",
        "----------------"
       ]
      },
      {
       "output_type": "stream",
       "stream": "stdout",
       "text": [
        "\n",
        "Bioorg. Med. Chem. Lett., 21, 5892, 2011\n",
        "Mean nAts 18.5, mcs nAts: 10"
       ]
      },
      {
       "output_type": "stream",
       "stream": "stdout",
       "text": [
        "\n",
        "[#6]1:[#6]:[#6]:[#6](:[#6]:[#6]:1)-[#16](-[#7])(=[#8])=[#8]\n",
        "----------------\n",
        "Bioorg. Med. Chem., 19, 5023, 2011\n",
        "Mean nAts 19.7, mcs nAts: 9\n",
        "[#6,#16]-[#6,#7,#8]-[#8,#6,#7,#16]-[#6]1:,-[#6,#8]:,-[#6,#7]:,-[#6,#16]:,-[#6]:,-[#6]:,-1\n",
        "----------------\n",
        "J. Med. Chem., 53, 2913, 2010\n",
        "Mean nAts 31.8, mcs nAts: 13"
       ]
      },
      {
       "output_type": "stream",
       "stream": "stdout",
       "text": [
        "\n",
        "[#7,#6,#16]-[#6,#7,#8]-[#6,#8]-[#6]1:,-[#6]:,-[#6,#8]:,-[#6](:,-[#6]:,-[#6]:,-1)-[#16](-,=[#7,#8])(=[#8])=,-[#8,#6]\n",
        "----------------\n",
        "Bioorg. Med. Chem. Lett., 21, 3216, 2011\n",
        "Mean nAts 26.4, mcs nAts: 10"
       ]
      },
      {
       "output_type": "stream",
       "stream": "stdout",
       "text": [
        "\n",
        "[#7,#8]-,=[#16](=[#8])(=,-[#8,#7])-[#6]1:[#6]:[#6]:[#6]:[#6]:[#6]:1\n",
        "----------------\n",
        "Bioorg. Med. Chem., 18, 7392, 2010\n",
        "Mean nAts 36.3, mcs nAts: 28"
       ]
      },
      {
       "output_type": "stream",
       "stream": "stdout",
       "text": [
        "\n",
        "[#6]-[#6]1:[#6](-[#6](=[#8])-[#7]-[#6]-[#6]-[#7,#6]):[#6]:[#6](:[#7]:1-[#6]1:[#6]:[#6]:[#6](:[#6]:[#6]:1)-[#16](-[#7])(=[#8])=[#8])-[#6]1:[#6]:[#6]:[#6]:[#6]:[#6]:1\n",
        "----------------"
       ]
      },
      {
       "output_type": "stream",
       "stream": "stdout",
       "text": [
        "\n",
        "J. Med. Chem., 48, 4834, 2005\n",
        "Mean nAts 29.3, mcs nAts: 10"
       ]
      },
      {
       "output_type": "stream",
       "stream": "stdout",
       "text": [
        "\n",
        "[#6]1:[#6]:[#6]:[#6](:[#6]:[#6]:1)-[#16](-,=[#7,#8])(=[#8])=,-[#8,#7]\n",
        "----------------\n",
        "Bioorg. Med. Chem. Lett., 19, 5082, 2009\n",
        "Mean nAts 13.8, mcs nAts: 11\n",
        "[#7]-[#16](=[#8])(=[#8])-[#8]-[#6]1:[#6]:[#6]:[#6]:[#6]:[#6]:1\n",
        "----------------"
       ]
      },
      {
       "output_type": "stream",
       "stream": "stdout",
       "text": [
        "\n",
        "J. Med. Chem., 50, 1651, 2007\n",
        "Mean nAts 26.2, mcs nAts: 9"
       ]
      },
      {
       "output_type": "stream",
       "stream": "stdout",
       "text": [
        "\n",
        "[#7,#6,#8]=,-[#7,#6,#8,#16]-[#6]1:,-[#6,#8]:,-[#6,#7,#8]:,-[#6,#16](:,-[#6]:,-[#6]:,-1)-,=[#16,#7,#8,#17]\n",
        "----------------\n",
        "J. Med. Chem., 49, 2743, 2006\n",
        "Mean nAts 21.0, mcs nAts: 17\n",
        "[#6,#8]-,=[#6](=,-[#8,#6])-[#7]-[#6]1-[#6]-[#6]-,:[#6](:,-[#6]-1):[#6]:[#6](-[#16](-[#7])(=[#8])=[#8]):[#6]:[#6]\n",
        "----------------\n",
        "Bioorg. Med. Chem. Lett., 19, 2931, 2009\n",
        "Mean nAts 32.0, mcs nAts: 23"
       ]
      },
      {
       "output_type": "stream",
       "stream": "stdout",
       "text": [
        "\n",
        "[#7]-[#7]-[#6](=[#8])-[#6]1:[#7]:[#6]2:[#6]:[#6]:[#6](:[#6]:[#6]:2:[#6]:1-[#6]1:[#6]:[#6]:[#6]:[#6]:[#6]:1)-[#16](-[#7])(=[#8])=[#8]\n",
        "-*-*-*-*-*-*-*-*-*-*-*-*-*-*-*-*-*-*-*-*-*-*-*-*-*-*-*-*"
       ]
      },
      {
       "output_type": "stream",
       "stream": "stdout",
       "text": [
        "\n",
        "\t Vanilloid receptor Homo sapiens\n",
        "\t\t 4 papers\n",
        "----------------\n",
        "J. Med. Chem., 53, 3330, 2010\n",
        "Mean nAts 30.7, mcs nAts: 31"
       ]
      },
      {
       "output_type": "stream",
       "stream": "stdout",
       "text": [
        "\n",
        "[#9]-[#6](-[#9])(-[#9])-[#6]1:[#6]:[#6]:[#6](:[#6,#7]:[#6,#7]:1)-[#7]-[#6]1:[#6,#7]:[#6,#7]:[#7,#6]:[#6]2:[#6]:1:[#7,#6]:[#6,#7]:[#6](:[#7,#6]:2)-[#6]1:[#7]:[#6]:[#6]:[#6]:[#6]:1-[#6](-[#9])(-[#9])-[#9]\n",
        "----------------\n",
        "Bioorg. Med. Chem. Lett., 20, 4359, 2010\n",
        "Mean nAts 32.2, mcs nAts: 31"
       ]
      },
      {
       "output_type": "stream",
       "stream": "stdout",
       "text": [
        "\n",
        "[#9]-[#6](-[#9])(-[#9])-[#6]1:[#6]:[#6,#7]:[#6](:[#7,#6]:[#6,#7]:1)-[#7]-[#6]1:[#6]:[#6]:[#7]:[#6]2:[#6]:1:[#6,#7]:[#6]:[#6](:[#7]:2)-[#6]1:[#6,#7]:[#6,#7]:[#7,#6]:[#6]:[#6]:1-[#6](-[#9])(-[#9])-[#9]\n",
        "----------------\n",
        "Bioorg. Med. Chem. Lett., 20, 7142, 2010\n",
        "Mean nAts 41.2, mcs nAts: 33"
       ]
      },
      {
       "output_type": "stream",
       "stream": "stdout",
       "text": [
        "\n",
        "[#9]-[#6](-[#9])(-[#9])-[#6]1:[#6]:[#6]:[#6](:[#6]:[#6]:1)-[#7]-[#6]1:[#7]:[#6](-[#7]):[#7]:[#6]2:[#6]:1-[#6]-[#6]-[#7](-[#6]-[#6]-2)-[#6]1:[#7]:[#6]:[#6]:[#6]:[#6]:1-[#6](-[#9])(-[#9])-[#9]\n",
        "----------------\n",
        "Bioorg. Med. Chem. Lett., 18, 1830, 2008\n",
        "Mean nAts 28.2, mcs nAts: 28"
       ]
      },
      {
       "output_type": "stream",
       "stream": "stdout",
       "text": [
        "\n",
        "[#8]-[#6]1:,-[#6]:,-[#6,#8]:,-[#6]2:[#6](:,-[#6]:,-1):[#6](:[#6]:[#6]:[#6]:2)-[#7]-[#6]1:[#6]:[#6](-[#6]2:[#6]:[#6]:[#6](:[#6]:[#6]:2)-[#6](-[#9])(-[#9])-[#9]):[#7]:[#6]:[#7]:1\n",
        "-*-*-*-*-*-*-*-*-*-*-*-*-*-*-*-*-*-*-*-*-*-*-*-*-*-*-*-*\n",
        "\t Cytochrome P450 3A4 Homo sapiens\n",
        "\t\t 8 papers\n",
        "----------------\n",
        "J. Med. Chem., 50, 2297, 2007\n",
        "Mean nAts 29.0, mcs nAts: 27"
       ]
      },
      {
       "output_type": "stream",
       "stream": "stdout",
       "text": [
        "\n",
        "[#7]#[#6]-[#6]1:[#6]:[#6]:[#6]:[#6]:[#6]:1-[#6]-[#7]1:[#6](=[#8]):[#6]2:[#6]:[#6]:[#6]:[#6]:[#6]:2:[#7]:[#6]:1-[#7]1-[#6]-[#6]-[#6]-[#6](-[#6]-1)-[#7]\n",
        "----------------\n",
        "Bioorg. Med. Chem. Lett., 20, 4587, 2010\n",
        "Mean nAts 39.7, mcs nAts: 28"
       ]
      },
      {
       "output_type": "stream",
       "stream": "stdout",
       "text": [
        "\n",
        "[#6]-[#6](-[#8]-[#6]1:[#6]:[#6](-[#7]2:[#6]:[#7]:[#6]3:[#6]:2:[#6]:[#6]:[#6](:[#6]:3)-[#6]):[#16]:[#6]:1-[#6](-[#7])=[#8])-[#6]1:[#6]:[#6]:[#6]:[#6]:[#6]:1-[#17,#6]\n",
        "----------------\n",
        "Bioorg. Med. Chem. Lett., 16, 2729, 2006\n",
        "Mean nAts 31.2, mcs nAts: 27"
       ]
      },
      {
       "output_type": "stream",
       "stream": "stdout",
       "text": [
        "\n",
        "[#6]-[#6](-[#6](-[#6]1:[#6]:[#6]:[#6]2:[#6](:[#6]:1):[#6]:[#6]:[#6](:[#6]:2)-[#8]-[#6]-[#6]-[#6](=[#8])-[#8])-[#7]1:[#6]:[#6]:[#7]:[#6]:1)-[#7](-[#6])-[#6]\n",
        "----------------\n",
        "J. Med. Chem., 54, 6050, 2011\n",
        "Mean nAts 35.2, mcs nAts: 32"
       ]
      },
      {
       "output_type": "stream",
       "stream": "stdout",
       "text": [
        "\n",
        "[#6]-[#6](-[#6]1:[#6]:[#6]:[#6](:[#6]:[#6]:1)-[#6]1:[#6]:[#6]:[#6](:[#6]:[#6]:1)-[#9])-[#7]1-[#6]-[#6]-[#6](-[#8]-[#6]-1=[#8])(-[#6]-[#6]-[#6,#7]-[#8,#6,#7,#16])-[#6]1:[#6]:[#6]:[#6]:[#6]:[#6]:1\n",
        "----------------\n",
        "Bioorg. Med. Chem. Lett., 19, 5657, 2009\n",
        "Mean nAts 26.5, mcs nAts: 22"
       ]
      },
      {
       "output_type": "stream",
       "stream": "stdout",
       "text": [
        "\n",
        "[#6]-[#6]1(-[#6]-[#6](=[#8])-[#7]-[#6]-[#6]2:[#6]:[#6]:[#6]:[#6]:[#6]:2)-[#6]-[#6]2(-[#6]-[#6]-[#6]-[#6]-[#6]-2)-[#8]-[#8]-1\n",
        "----------------\n",
        "Bioorg. Med. Chem. Lett., 20, 5004, 2010\n",
        "Mean nAts 37.3, mcs nAts: 33\n",
        "[#6]-[#6]-[#7]1:[#6]2:[#6]:[#6]:[#6]:[#6]:[#6]:2:[#7](:[#6]:1=[#8])-[#6]1-[#6]-[#6]-[#7](-[#6]-[#6]-1)-[#6](=[#8])-[#6]1-[#6]-[#6]-[#7](-[#6]-[#6]-1)-[#6]-[#6]1:[#6]:[#6]:[#7]:[#6]:[#6]:1\n",
        "----------------"
       ]
      },
      {
       "output_type": "stream",
       "stream": "stdout",
       "text": [
        "\n",
        "Bioorg. Med. Chem., 19, 1751, 2011\n",
        "Mean nAts 24.5, mcs nAts: 23\n",
        "[#6]-[#6](-[#6])-[#6](-[#8])(-[#6]1:[#6]:[#7]:[#6]:[#7]:1)-[#6]1:[#6]:[#6]:[#6]2:[#6](:[#6]:1):[#6]:[#6]:[#6](:[#6]:2)-[#6](-[#7,#6,#8])=[#8]\n",
        "----------------\n",
        "Bioorg. Med. Chem. Lett., 22, 1611, 2012\n",
        "Mean nAts 29.9, mcs nAts: 25"
       ]
      },
      {
       "output_type": "stream",
       "stream": "stdout",
       "text": [
        "\n",
        "[#8]=[#6](-[#7]-[#6]1:[#6]:[#6]:[#6]:[#6]:[#6]:1)-[#7]-[#6]1:[#6]:[#6]:[#6](:[#6]:[#6]:1)-[#6]1:[#6,#7]:[#6]:[#7]:[#6]2:[#6]:1:[#7,#6]:[#6]:[#7]:2\n",
        "-*-*-*-*-*-*-*-*-*-*-*-*-*-*-*-*-*-*-*-*-*-*-*-*-*-*-*-*\n",
        "\t Carbonic anhydrase IX Homo sapiens\n",
        "\t\t 24 papers"
       ]
      },
      {
       "output_type": "stream",
       "stream": "stdout",
       "text": [
        "\n",
        "----------------\n",
        "J. Med. Chem., 52, 6421, 2009\n",
        "Mean nAts 24.7, mcs nAts: 8\n",
        "[#7,#8]-[#16,#6]-[#6]1-[#8]-[#6]-[#6]-[#6]-[#6]-1\n",
        "----------------"
       ]
      },
      {
       "output_type": "stream",
       "stream": "stdout",
       "text": [
        "\n",
        "Bioorg. Med. Chem. Lett., 21, 4447, 2011\n",
        "Mean nAts 21.9, mcs nAts: 14\n",
        "[#6]-[#6]1-[#8]-[#6](-[#7]-[#16](-[#7])(=[#8])=[#8])-[#6]-[#6](-[#6]-1-[#8])-[#8]\n",
        "----------------\n",
        "Bioorg. Med. Chem., 17, 3659, 2009\n",
        "Mean nAts 25.1, mcs nAts: 24"
       ]
      },
      {
       "output_type": "stream",
       "stream": "stdout",
       "text": [
        "\n",
        "[#6]-[#8]-[#6]1:[#6]:[#6]2:[#6](:[#6]:[#6]:1-[#8]-[#6])-[#6](-[#6]1:[#6]:[#6]:[#6]:[#6]:[#6]:1)-[#7](-[#6]-[#6]-2)-[#16](-[#7])(=[#8])=[#8]\n",
        "----------------\n",
        "Bioorg. Med. Chem., 19, 1381, 2011\n",
        "Mean nAts 10.7, mcs nAts: 8\n",
        "[#6,#8]-,=[#8,#6]-[#6]1:[#6]:[#6]:[#6]:[#6]:[#6]:1\n",
        "----------------\n",
        "Bioorg. Med. Chem. Lett., 15, 5192, 2005\n",
        "Mean nAts 16.4, mcs nAts: 11\n",
        "[#7]-[#16](=[#8])(=[#8])-[#8,#6]-[#6]1:[#6]:[#6]:[#6]:[#6]:[#6]:1\n",
        "----------------\n",
        "Bioorg. Med. Chem. Lett., 15, 3828, 2005\n",
        "Mean nAts 14.8, mcs nAts: 8"
       ]
      },
      {
       "output_type": "stream",
       "stream": "stdout",
       "text": [
        "\n",
        "[#6,#8]1:,-[#6]:,-[#6,#7,#16]:,-[#6]:,-[#6,#7,#16]:,-[#6,#7]:,-1-[#16,#6,#7,#8]=,-[#8,#6,#7]\n",
        "----------------\n",
        "J. Med. Chem., 50, 1651, 2007\n",
        "Mean nAts 26.2, mcs nAts: 9"
       ]
      },
      {
       "output_type": "stream",
       "stream": "stdout",
       "text": [
        "\n",
        "[#7,#6,#8]=,-[#7,#6,#8,#16]-[#6]1:,-[#6,#8]:,-[#6,#7,#8]:,-[#6,#16](:,-[#6]:,-[#6]:,-1)-,=[#16,#7,#8,#17]\n",
        "----------------\n",
        "Bioorg. Med. Chem. Lett., 15, 3096, 2005\n",
        "Mean nAts 23.6, mcs nAts: 11\n",
        "[#7,#9]-[#16,#6](=,-[#8,#9])(=,-[#8,#9])-[#6]1:[#6]:[#6]:[#6](:[#6]:[#6]:1)-[#17,#6,#7,#16]\n",
        "----------------\n",
        "J. Med. Chem., 50, 381, 2007\n",
        "Mean nAts 15.5, mcs nAts: 8"
       ]
      },
      {
       "output_type": "stream",
       "stream": "stdout",
       "text": [
        "\n",
        "[#6,#7,#16]1:,-[#6,#7]:,-[#6,#7,#8]:,-[#6](:,-[#6]:,-[#6]:,-1)-[#16,#6,#7,#8]-,=[#7,#6,#8]\n",
        "----------------\n",
        "Bioorg. Med. Chem. Lett., 14, 5427, 2004\n",
        "Mean nAts 19.4, mcs nAts: 11\n",
        "[#7,#6,#16,#17]-[#6]1:[#6]:[#6]:[#6](:[#6]:[#6]:1)-[#16](-,=[#7,#8])(=[#8])=,-[#8,#7]\n",
        "----------------"
       ]
      },
      {
       "output_type": "stream",
       "stream": "stdout",
       "text": [
        "\n",
        "Bioorg. Med. Chem. Lett., 21, 2975, 2011\n",
        "Mean nAts 27.5, mcs nAts: 11\n",
        "[#7,#6,#17]-[#6]1:[#6]:[#6]:[#6](:[#6]:[#6]:1)-[#16](-,=[#7,#8])(=[#8])=,-[#8,#7]\n",
        "----------------\n",
        "J. Med. Chem., 54, 1896, 2011\n",
        "Mean nAts 23.0, mcs nAts: 20"
       ]
      },
      {
       "output_type": "stream",
       "stream": "stdout",
       "text": [
        "\n",
        "[#7]-[#16](=[#8])(=[#8])-[#6]1:[#6]:[#6]:[#6](:[#6]:[#6]:1)-[#7]-[#6](=[#8])-[#7]-[#6]1:[#6]:[#6]:[#6]:[#6]:[#6]:1\n",
        "----------------\n",
        "Bioorg. Med. Chem. Lett., 18, 2567, 2008\n",
        "Mean nAts 19.6, mcs nAts: 8\n",
        "[#7,#6,#9]-[#16,#6,#7,#8]-[#6]1:[#6]:[#6]:[#6]:[#6]:[#6]:1\n",
        "----------------\n",
        "Bioorg. Med. Chem. Lett., 17, 4201, 2007\n",
        "Mean nAts 18.1, mcs nAts: 8\n",
        "[#6,#8]1:,-[#6]:,-[#6,#16]:,-[#6]:,-[#6,#16]:,-[#6,#7]:,-1-[#16,#6,#7,#8]=,-[#8,#6,#7]\n",
        "----------------"
       ]
      },
      {
       "output_type": "stream",
       "stream": "stdout",
       "text": [
        "\n",
        "Bioorg. Med. Chem., 17, 553, 2009\n",
        "Mean nAts 21.8, mcs nAts: 10\n",
        "[#7]-[#16](=[#8])(=[#8])-[#6]1:[#6]:[#6]:[#6]:[#6]:[#6]:1\n",
        "----------------"
       ]
      },
      {
       "output_type": "stream",
       "stream": "stdout",
       "text": [
        "\n",
        "Eur. J. Med. Chem., 46, 4403, 2011\n",
        "Mean nAts 18.5, mcs nAts: 10\n",
        "[#7]-[#16](=[#8])(=[#8])-[#6]1:,=[#6]:,-[#6,#7]:,=[#6]:,-[#6,#7]:,-[#6]:,-1\n",
        "----------------\n",
        "J. Med. Chem., 48, 5721, 2005\n",
        "Mean nAts 24.9, mcs nAts: 10"
       ]
      },
      {
       "output_type": "stream",
       "stream": "stdout",
       "text": [
        "\n",
        "[#6]1:[#6]:[#6](-[#16,#6](=,-[#8,#7])=[#8]):[#6]:[#6]:[#6]:1-[#8,#6,#7,#9,#16]\n",
        "----------------\n",
        "Bioorg. Med. Chem. Lett., 15, 367, 2005\n",
        "Mean nAts 19.7, mcs nAts: 8\n",
        "[#6,#7,#8,#16]1:,-[#6]:,-[#6]:,-[#6,#7](:,-[#6]:,-[#6]:,-1)-[#16,#6,#7,#8]-[#7,#6]\n",
        "----------------\n",
        "Eur. J. Med. Chem., 45, 3656, 2010\n",
        "Mean nAts 19.6, mcs nAts: 10"
       ]
      },
      {
       "output_type": "stream",
       "stream": "stdout",
       "text": [
        "\n",
        "[#7,#6]1:[#6]:[#6]:[#6]:[#6](:[#6]:1)-[#16](-,=[#7,#8])(=[#8])=,-[#8,#7]\n",
        "----------------\n",
        "Bioorg. Med. Chem. Lett., 17, 1538, 2007\n",
        "Mean nAts 25.9, mcs nAts: 8\n",
        "[#7,#6]-[#16,#6,#8]-[#6]1:[#6]:[#6]:[#6]:[#6]:[#6]:1\n",
        "----------------\n",
        "Bioorg. Med. Chem., 18, 7392, 2010\n",
        "Mean nAts 36.3, mcs nAts: 28"
       ]
      },
      {
       "output_type": "stream",
       "stream": "stdout",
       "text": [
        "\n",
        "[#6]-[#6]1:[#6](-[#6](=[#8])-[#7]-[#6]-[#6]-[#7,#6]):[#6]:[#6](:[#7]:1-[#6]1:[#6]:[#6]:[#6](:[#6]:[#6]:1)-[#16](-[#7])(=[#8])=[#8])-[#6]1:[#6]:[#6]:[#6]:[#6]:[#6]:1\n",
        "----------------\n",
        "J. Med. Chem., 52, 646, 2009\n",
        "Mean nAts 15.9, mcs nAts: 8"
       ]
      },
      {
       "output_type": "stream",
       "stream": "stdout",
       "text": [
        "\n",
        "[#6,#8]1:,-[#6]:,-[#6,#7,#16]:,-[#6]:,-[#6,#7,#16]:,-[#6,#7]:,-1-[#16,#6,#7,#8]=,-[#8,#6,#7]\n",
        "----------------\n",
        "J. Med. Chem., 48, 4834, 2005\n",
        "Mean nAts 29.3, mcs nAts: 10\n",
        "[#6]1:[#6]:[#6]:[#6](:[#6]:[#6]:1)-[#16](-,=[#7,#8])(=[#8])=,-[#8,#7]\n",
        "----------------"
       ]
      },
      {
       "output_type": "stream",
       "stream": "stdout",
       "text": [
        "\n",
        "Bioorg. Med. Chem. Lett., 19, 2931, 2009\n",
        "Mean nAts 32.0, mcs nAts: 23"
       ]
      },
      {
       "output_type": "stream",
       "stream": "stdout",
       "text": [
        "\n",
        "[#7]-[#7]-[#6](=[#8])-[#6]1:[#7]:[#6]2:[#6]:[#6]:[#6](:[#6]:[#6]:2:[#6]:1-[#6]1:[#6]:[#6]:[#6]:[#6]:[#6]:1)-[#16](-[#7])(=[#8])=[#8]\n",
        "-*-*-*-*-*-*-*-*-*-*-*-*-*-*-*-*-*-*-*-*-*-*-*-*-*-*-*-*"
       ]
      },
      {
       "output_type": "stream",
       "stream": "stdout",
       "text": [
        "\n",
        "\t Glucocorticoid receptor Homo sapiens\n",
        "\t\t 6 papers\n",
        "----------------\n",
        "Bioorg. Med. Chem. Lett., 17, 2531, 2007\n",
        "Mean nAts 37.9, mcs nAts: 32"
       ]
      },
      {
       "output_type": "stream",
       "stream": "stdout",
       "text": [
        "\n",
        "[#6]-[#6]#[#6]-[#6]1(-[#8])-[#6]-[#6]-[#6]2-[#6]-1(-[#6]-[#6](-[#6]1-[#6]-2-[#8,#6]-[#6]-[#6]2-[#6]=1-[#6]-[#6]-[#6](-[#6]=2)=[#8])-[#6]1:[#6]:[#6]:[#6](:[#6]:[#6]:1)-[#7](-[#6])-[#6])-[#6]\n",
        "----------------\n",
        "J. Med. Chem., 53, 6681, 2010\n",
        "Mean nAts 29.8, mcs nAts: 27"
       ]
      },
      {
       "output_type": "stream",
       "stream": "stdout",
       "text": [
        "\n",
        "[#6]-[#6](-[#6])(-[#6]-[#6](-[#8])(-[#6]-[#6]1:[#6]:[#6]2:[#6,#7]:[#6,#7]:[#7,#6]:[#6]:[#6]:2:[#7,#16]:1)-[#6](-[#9])(-[#9])-[#9])-[#6]1:[#6]:[#6]:[#6]:[#6](:[#6]:1)-[#9,#6,#17]\n",
        "----------------\n",
        "J. Med. Chem., 44, 2879, 2001\n",
        "Mean nAts 31.3, mcs nAts: 30"
       ]
      },
      {
       "output_type": "stream",
       "stream": "stdout",
       "text": [
        "\n",
        "[#6]-[#8]-[#6]1:[#6]:[#6]:[#6]:[#6]2:[#6]:1-[#6]1:[#6]:[#6]:[#6]3:[#6](:[#6]:1-[#6](-[#8]-2)-[#6]1:[#6]:[#6]:[#6]:[#6](:[#6]:1)-[#9,#6,#8,#17,#35])-[#6](-[#6])=[#6]-[#6](-[#7]-3)(-[#6])-[#6]\n",
        "----------------\n",
        "Bioorg. Med. Chem. Lett., 21, 168, 2011\n",
        "Mean nAts 26.0, mcs nAts: 25\n",
        "[#6]-[#6]1:[#6]:[#6](-[#6]2:[#6]:[#6]:[#6]:[#6]3:[#6]:2:[#7]:[#6]:[#6]:3):[#6](:[#6]2:[#6]:1-[#7]-[#6](-[#6])(-[#6])-[#6](-[#6]-2-[#6])-,=[#8])-[#17]\n",
        "----------------\n",
        "Bioorg. Med. Chem. Lett., 17, 3354, 2007\n",
        "Mean nAts 30.1, mcs nAts: 17"
       ]
      },
      {
       "output_type": "stream",
       "stream": "stdout",
       "text": [
        "\n",
        "[#6]-[#6]1-[#6]-[#6]2:[#6]:[#7]:[#7](:[#6]:2-[#6]=[#6]-1)-[#6]1:[#6]:[#6]:[#6](:[#6]:[#6]:1)-[#9]\n",
        "----------------\n",
        "Bioorg. Med. Chem. Lett., 16, 6086, 2006\n",
        "Mean nAts 33.4, mcs nAts: 31"
       ]
      },
      {
       "output_type": "stream",
       "stream": "stdout",
       "text": [
        "\n",
        "[#6]-[#6]#[#6]-[#6]1(-[#8])-[#6]-[#6]-[#6]2-[#6]-1(-[#6]-[#6](-[#6]1-[#6]-2-[#6]-[#6]-[#6]2-[#6]=1-[#6]-[#6]-[#6](-[#6]=2)=[#8])-[#6]1:[#6]:[#6]:[#6](:[#6]:[#6]:1)-[#16,#7,#8]-[#6])-[#6]\n",
        "-*-*-*-*-*-*-*-*-*-*-*-*-*-*-*-*-*-*-*-*-*-*-*-*-*-*-*-*\n",
        "\t HERG Homo sapiens\n",
        "\t\t 32 papers\n",
        "----------------"
       ]
      },
      {
       "output_type": "stream",
       "stream": "stdout",
       "text": [
        "\n",
        "Bioorg. Med. Chem. Lett., 20, 6538, 2010\n",
        "Mean nAts 25.6, mcs nAts: 21"
       ]
      },
      {
       "output_type": "stream",
       "stream": "stdout",
       "text": [
        "\n",
        "[#7,#6]-[#6]1:[#7]:[#6]2:[#6](:[#8]:1):[#6]:[#6]:[#6]:[#6]:2-[#6](=[#8])-[#7]-[#6]1-[#6]-[#7,#6](-[#6]-[#6])-[#6,#7]-[#6]-[#6]-1\n",
        "----------------\n",
        "Bioorg. Med. Chem. Lett., 20, 7116, 2010\n",
        "Mean nAts 29.1, mcs nAts: 25"
       ]
      },
      {
       "output_type": "stream",
       "stream": "stdout",
       "text": [
        "\n",
        "[#6]-[#6](-[#6])-[#16](=[#8])(=[#8])-[#7]-[#6]1-[#6]-[#7](-[#6])-[#6]-[#6]-1-[#6]1:[#6]:[#6]:[#6](:[#6]:[#6]:1)-[#6]1:[#6]:[#6]:[#6]:[#7,#6]:[#6]:1\n",
        "----------------\n",
        "Bioorg. Med. Chem. Lett., 16, 1197, 2006\n",
        "Mean nAts 43.2, mcs nAts: 19"
       ]
      },
      {
       "output_type": "stream",
       "stream": "stdout",
       "text": [
        "\n",
        "[#7,#6]-[#6]1(-[#6,#7]2:,-[#6]:,-[#6]:,-[#6]:,-[#6]:,-[#6]:,-2)-[#6]-[#6]-[#6](-[#6]-[#6]-1)-[#7]1-[#6]-[#6]-[#6,#7]-[#6]-[#6]-1\n",
        "----------------\n",
        "Bioorg. Med. Chem. Lett., 21, 4083, 2011\n",
        "Mean nAts 29.9, mcs nAts: 26"
       ]
      },
      {
       "output_type": "stream",
       "stream": "stdout",
       "text": [
        "\n",
        "[#6]-[#8]-[#6]1:[#6]:[#6](-[#6]2:[#6]:[#7](-[#6]-[#6]3:[#6]:[#6]:[#6]:[#6]:[#6]:3):[#7]:[#7]:2):[#6]:[#6]:[#6]:1-[#7]1:[#6]:[#7]:[#6](:[#6]:1)-[#6]\n",
        "----------------\n",
        "Bioorg. Med. Chem. Lett., 21, 3399, 2011\n",
        "Mean nAts 22.0, mcs nAts: 18"
       ]
      },
      {
       "output_type": "stream",
       "stream": "stdout",
       "text": [
        "\n",
        "[#6]-[#8]-[#6]1:[#6]:[#6](-[#9]):[#6]:[#6]:[#6]:1-[#6]1:[#6,#7]:[#7,#6]:[#6]:[#6](:[#6,#7]:1)-[#6,#7]-[#7,#6]-[#6]\n",
        "----------------\n",
        "J. Med. Chem., 52, 4266, 2009\n",
        "Mean nAts 28.9, mcs nAts: 8"
       ]
      },
      {
       "output_type": "stream",
       "stream": "stdout",
       "text": [
        "\n",
        "[#6,#7,#8]-,=,#[#6,#7,#8,#16]-[#7,#6]1-,:[#6]-,:[#6]-,:[#6,#7,#16]:,-[#6]-,:[#6]-,:1\n",
        "----------------\n",
        "J. Med. Chem., 54, 4752, 2011\n",
        "Mean nAts 30.0, mcs nAts: 25\n",
        "[#7](-[#6]-[#6]-[#6]1:[#6]:[#7]:[#6,#7]2:[#6]:1:[#6]:[#6]:[#6]:[#6]:2)-[#6]-[#6]1:[#6]:[#6]:[#6](:[#6]:[#6]:1)-[#6]=[#6]-[#6](=[#8])-[#7]-[#8]\n",
        "----------------\n",
        "Bioorg. Med. Chem. Lett., 19, 4325, 2009\n",
        "Mean nAts 27.4, mcs nAts: 25"
       ]
      },
      {
       "output_type": "stream",
       "stream": "stdout",
       "text": [
        "\n",
        "[#6]-[#6]-[#7]-[#6]1:[#6]:[#6](-[#7]2-[#6]-[#6]-[#8]-[#6]-[#6]-2):[#6]:[#6](:[#7]:1)-[#6]-[#6,#16]-[#6]1:[#7]:[#6](-[#6]):[#6](:[#8,#16]:1)-[#6]-[#6]\n",
        "----------------\n",
        "Bioorg. Med. Chem. Lett., 20, 2629, 2010\n",
        "Mean nAts 22.9, mcs nAts: 21"
       ]
      },
      {
       "output_type": "stream",
       "stream": "stdout",
       "text": [
        "\n",
        "[#6]-[#7](-[#6])-[#6]-[#6]-[#6]1=[#6](-[#6]-[#6]2:[#6,#7]:[#7,#6]:[#6]:[#6,#7]:[#7,#6]:2)-[#6]2:[#6]:[#6]:[#6]:[#6]:[#6]:2-[#6]-1\n",
        "----------------\n",
        "Bioorg. Med. Chem. Lett., 21, 2626, 2011\n",
        "Mean nAts 35.2, mcs nAts: 34\n",
        "[#6]-[#6](-[#6])-[#6]1(-[#6](=[#8])-[#7]2-[#6]-[#6]-[#7](-[#6]-[#6]-2)-[#6]2:[#6,#7]:[#6](-[#6](-[#9])(-[#9])-[#9]):[#6]:[#6,#7]:[#7,#6]:2)-[#6]-[#6]-[#6](-[#6]-1)-[#7]-[#6]1-[#6]-[#6]-[#8]-[#6]-[#6]-1-[#8,#6]\n",
        "----------------\n",
        "Bioorg. Med. Chem. Lett., 21, 773, 2011\n",
        "Mean nAts 30.2, mcs nAts: 23"
       ]
      },
      {
       "output_type": "stream",
       "stream": "stdout",
       "text": [
        "\n",
        "[#6]-[#8]-[#6]1:[#6]:[#6](-[#6]=[#6]-[#6]2:[#7]:[#6](-,=[#7,#8]):[#6,#7]:[#6]:[#7]:2):[#6]:[#6]:[#6]:1-[#7]1:[#6]:[#7]:[#6](:[#6]:1)-[#6]\n",
        "----------------\n",
        "J. Med. Chem., 53, 4028, 2010\n",
        "Mean nAts 35.5, mcs nAts: 31"
       ]
      },
      {
       "output_type": "stream",
       "stream": "stdout",
       "text": [
        "\n",
        "[#6,#8]-,=[#6](=,-[#8,#6])-,=[#7]-[#6]1-[#6]-[#6](-[#6])(-[#6])-[#8]-[#6]2:[#6]-1:[#6]:[#6](:[#6](:[#7]:2)-[#6]1:[#6]:[#6]:[#6](:[#6]:[#6]:1-[#17,#6])-[#17])-[#6]1:[#6]:[#6]:[#6](:[#6]:[#6]:1)-[#17]\n",
        "----------------\n",
        "Bioorg. Med. Chem., 19, 883, 2011\n",
        "Mean nAts 30.4, mcs nAts: 25\n",
        "[#7]-[#6]-[#6]-[#7,#8]-[#6]1:[#6]:[#6]:[#6](:[#6]:[#6]:1)-[#7]1:[#6]:[#6]:[#6](:[#6]:[#6]:1=[#8])-[#8]-[#6]-[#6]1:[#6]:[#6]:[#6]:[#6]:[#6]:1\n",
        "----------------\n",
        "Bioorg. Med. Chem. Lett., 20, 3636, 2010\n",
        "Mean nAts 23.3, mcs nAts: 23"
       ]
      },
      {
       "output_type": "stream",
       "stream": "stdout",
       "text": [
        "\n",
        "[#6]-[#7]1-[#6]-[#6]2-[#6]-[#6]-1-[#6]-[#7]-2-[#6]1:[#6,#7]:[#6,#7]:[#6](:[#6,#7]:[#7]:1)-[#6]1:[#6]:[#6]:[#6]2:[#6](:[#6]:1):[#6,#7]:[#6,#7]:[#7,#6,#8,#16]:2\n",
        "----------------\n",
        "Bioorg. Med. Chem. Lett., 19, 4781, 2009\n",
        "Mean nAts 40.0, mcs nAts: 34"
       ]
      },
      {
       "output_type": "stream",
       "stream": "stdout",
       "text": [
        "\n",
        "[#6]-[#8]-[#6]1:[#6]:[#6]:[#6](:[#6]:[#6]:1)-[#6](-[#6])-[#7]-[#6]1-[#6]-[#6]-[#6](-[#6](-[#6]-1)(-[#6])-[#6])-[#6](=[#8])-[#7]1-[#6]-[#6]-[#6](-[#6]-[#6]-1)(-[#6])-[#7,#6]1-,:[#6]-,:[#6]-,:[#6]-,:[#6,#7]-,:[#6]-,:1\n",
        "----------------\n",
        "Bioorg. Med. Chem. Lett., 17, 1675, 2007\n",
        "Mean nAts 34.6, mcs nAts: 19"
       ]
      },
      {
       "output_type": "stream",
       "stream": "stdout",
       "text": [
        "\n",
        "[#6]1:[#6]:[#6]:[#6](:[#6]:[#6]:1)-[#8]-[#6]-[#6]1:[#7]:[#8]:[#6](:[#7]:1)-[#6]1:[#6]:[#6]:[#6]:[#6]:[#6]:1\n",
        "----------------\n",
        "Bioorg. Med. Chem. Lett., 20, 5847, 2010\n",
        "Mean nAts 26.1, mcs nAts: 20"
       ]
      },
      {
       "output_type": "stream",
       "stream": "stdout",
       "text": [
        "\n",
        "[#7]-[#6](=[#8])-[#6]1:[#6]:[#6]:[#6]:[#6](:[#6]:1)-[#8]-[#6]1-[#6]-[#6]2-[#6]-[#6]-[#6](-[#6]-1)-[#7]-2-[#6]-[#6]\n",
        "----------------\n",
        "Bioorg. Med. Chem. Lett., 16, 5507, 2006\n",
        "Mean nAts 38.0, mcs nAts: 15"
       ]
      },
      {
       "output_type": "stream",
       "stream": "stdout",
       "text": [
        "\n",
        "[#6,#8]1:,-[#6]:,-[#6]:,-[#6,#7](:,-[#6]:,-[#6]:,-1)-[#6,#7](=,-[#8,#16])-[#7,#6]-[#6]1:,-[#6,#7]:,-[#6]:,-[#6]:,-[#6,#7]:,-[#6,#7]:,-1\n",
        "----------------\n",
        "J. Med. Chem., 52, 4578, 2009\n",
        "Mean nAts 29.4, mcs nAts: 29\n",
        "[#6]-[#7]1-[#6](=[#8])-[#6]=[#6]-[#6]2(-[#6]-1-[#6]-[#6]-[#6]1-[#6]-2-[#6]-[#6]-[#6]2(-[#6]-1-[#6]-[#6](-[#6]-2-[#8])=,-[#6]-[#6]1:[#6]:[#7,#6]:[#6,#7]:[#7,#6]:[#6]:1)-[#6])-[#6]\n",
        "----------------"
       ]
      },
      {
       "output_type": "stream",
       "stream": "stdout",
       "text": [
        "\n",
        "Bioorg. Med. Chem. Lett., 21, 6042, 2011\n",
        "Mean nAts 35.5, mcs nAts: 29"
       ]
      },
      {
       "output_type": "stream",
       "stream": "stdout",
       "text": [
        "\n",
        "[#8,#6]-[#6]1-[#6]-[#6]-[#6](-[#6]-[#6]-1)-[#7]1-[#6]-[#6](-[#6]-1)-[#7]-[#6](=[#8])-[#6]-[#7]-[#6]1:,=[#7]:,-[#7,#6,#8]:,-[#6]2:[#6]:,-1:[#6]:[#6](:[#6]:[#6]:2)-[#6](-[#9])(-[#9])-[#9]\n",
        "----------------\n",
        "Bioorg. Med. Chem. Lett., 21, 5910, 2011\n",
        "Mean nAts 33.7, mcs nAts: 20"
       ]
      },
      {
       "output_type": "stream",
       "stream": "stdout",
       "text": [
        "\n",
        "[#6,#8]-,=[#6](=,-[#8,#6])-[#7]-[#6]-[#6]1(-[#6]#,-[#7,#8])-[#6]-[#6]-[#7](-[#6]-[#6]-1)-[#6]-[#6]1:,=[#6]:,-[#6]:[#6]:,-[#6,#8]:,-[#6]:,-1\n",
        "----------------\n",
        "Bioorg. Med. Chem. Lett., 19, 4579, 2009\n",
        "Mean nAts 23.9, mcs nAts: 16"
       ]
      },
      {
       "output_type": "stream",
       "stream": "stdout",
       "text": [
        "\n",
        "[#16,#6,#8]-[#6]1:[#6]:[#6]:[#6]:[#6]:[#6]:1-[#6](=[#8])-[#7](-[#6]1-[#6]-[#6]-[#7]-[#6]-1)-[#6]\n",
        "----------------\n",
        "Bioorg. Med. Chem. Lett., 21, 3976, 2011\n",
        "Mean nAts 38.7, mcs nAts: 32"
       ]
      },
      {
       "output_type": "stream",
       "stream": "stdout",
       "text": [
        "\n",
        "[#8]=[#6](-[#6]1-[#6]-[#7]-[#6]-[#6]-[#6]-1(-[#8])-[#6]1:[#6]:[#6]:[#6](:[#6](:[#6]:1)-[#9])-[#9])-[#7](-[#6]-[#6]1:[#6]:[#7]:[#6]2:[#6]:1:[#6](:[#6]:[#6]:[#6]:2)-[#9,#17,#35])-[#6]1-[#6]-[#6]-1\n",
        "----------------\n",
        "Bioorg. Med. Chem. Lett., 21, 3970, 2011\n",
        "Mean nAts 37.5, mcs nAts: 22"
       ]
      },
      {
       "output_type": "stream",
       "stream": "stdout",
       "text": [
        "\n",
        "[#6]-[#6]-[#7](-[#6](=[#8])-[#6]1-[#6]-[#7]-[#6]-[#6]-[#6]-1-[#6]1:[#6]:[#6]:[#7](:[#6](:[#6]:1)=[#8])-[#6])-[#6]1-[#6]-[#6]-1\n",
        "----------------\n",
        "Bioorg. Med. Chem. Lett., 21, 7496, 2011\n",
        "Mean nAts 37.8, mcs nAts: 34"
       ]
      },
      {
       "output_type": "stream",
       "stream": "stdout",
       "text": [
        "\n",
        "[#6]-[#6](-[#7]-[#6]1-[#6]-[#6]-[#6](-[#6]-[#6]-1)-[#6]1:,-[#6]:,-[#7]:,-[#6]2:[#6]:,-1:[#6,#7]:[#6,#7]:[#6]:[#6,#7]:2)-[#6]1-[#6]-[#6]-[#7](-[#6]-[#6]-1)-[#6](=[#8])-[#6]=[#6]-[#6]1:[#6]:[#6]:[#6]:[#6]:[#6]:1\n",
        "----------------\n",
        "Bioorg. Med. Chem. Lett., 21, 7399, 2011\n",
        "Mean nAts 36.8, mcs nAts: 20"
       ]
      },
      {
       "output_type": "stream",
       "stream": "stdout",
       "text": [
        "\n",
        "[#8]=[#6](-[#6]1-[#6]-[#7]-[#6]-[#6]-[#6]-1)-[#7](-[#6]-[#6](:[#6]:[#6]-[#17,#6]):[#6]:[#6]:[#6])-[#6]1-[#6]-[#6]-1\n",
        "----------------\n",
        "J. Med. Chem., 51, 6471, 2008\n",
        "Mean nAts 26.6, mcs nAts: 19"
       ]
      },
      {
       "output_type": "stream",
       "stream": "stdout",
       "text": [
        "\n",
        "[#6]-[#6]-[#7]1-[#6]-[#6]-[#6](-[#6]-[#6]-1)-[#6]-[#7]-[#6](=[#8])-[#6]1:[#6]:[#6]:[#6]:[#6](:[#6]:1)-[#17,#6]\n",
        "----------------\n",
        "J. Med. Chem., 52, 3385, 2009\n",
        "Mean nAts 28.0, mcs nAts: 27\n",
        "[#7,#6]#,-[#6,#8]-[#6]1:[#6]:[#6]:[#7,#6]:[#6](:[#6,#7]:1)-[#6]1=[#7]-[#6](-[#6]2:[#6]:[#6]:[#6](:[#6,#7]:[#6]:2)-[#9,#8])(-[#6]2:[#6]:[#6]:[#6](:[#6,#7]:[#6]:2)-[#9])-[#6]-[#7]-1\n",
        "----------------\n",
        "J. Med. Chem., 53, 4803, 2010\n",
        "Mean nAts 31.8, mcs nAts: 30"
       ]
      },
      {
       "output_type": "stream",
       "stream": "stdout",
       "text": [
        "\n",
        "[#6]1:[#6]:[#6,#7]:[#6](:[#6]:[#6]:1)-[#7]1-[#6]-[#6]-[#7](-[#6]-[#6]-1)-[#6]-[#6]-[#6]-[#6]-[#6]-[#6]-[#7]1-[#6]-[#6]-[#7](-[#6]-[#6]-1)-[#6]1:[#6]:[#6]:[#6,#7]:[#6]:[#6,#7]:1\n",
        "----------------\n",
        "Bioorg. Med. Chem. Lett., 15, 3665, 2005\n",
        "Mean nAts 27.0, mcs nAts: 25\n",
        "[#8]=[#16](=[#8])(-[#6]1:[#6]:[#6]:[#6]:[#6]:[#6]:1)-[#6]1-[#6]-[#6]-[#7](-[#6]-[#6]-1)-[#6]-[#6]-[#6]1:[#6]:[#6]:[#6](:[#6]:[#6]:1-[#9])-[#9]\n",
        "----------------\n",
        "Bioorg. Med. Chem. Lett., 18, 489, 2008\n",
        "Mean nAts 33.2, mcs nAts: 26"
       ]
      },
      {
       "output_type": "stream",
       "stream": "stdout",
       "text": [
        "\n",
        "[#6]1-[#6]-[#6]-[#6]2:[#6]-1:[#6]:[#6](:[#6]:[#6]:2)-[#6]-[#6]-[#7]1-[#6]-[#6]-[#7](-[#6]-[#6]-1)-[#6]1:[#7]:[#16]:[#6]2:[#6]:1:[#6]:[#6]:[#6]:[#6]:2\n",
        "----------------\n",
        "Bioorg. Med. Chem. Lett., 22, 1464, 2012\n",
        "Mean nAts 36.9, mcs nAts: 19"
       ]
      },
      {
       "output_type": "stream",
       "stream": "stdout",
       "text": [
        "\n",
        "[#6]-[#6]#,=[#6]-[#6]-[#7]1:[#6]2:[#6](:[#6](:[#6]:1-[#7])-[#6]#[#7]):[#7]:[#6]:[#7](:[#6]:2=[#8])-[#6]-[#6]\n",
        "-*-*-*-*-*-*-*-*-*-*-*-*-*-*-*-*-*-*-*-*-*-*-*-*-*-*-*-*"
       ]
      },
      {
       "output_type": "stream",
       "stream": "stdout",
       "text": [
        "\n",
        "\t Histamine H3 receptor Homo sapiens\n",
        "\t\t 23 papers\n",
        "----------------\n",
        "Bioorg. Med. Chem. Lett., 22, 186, 2012\n",
        "Mean nAts 25.6, mcs nAts: 21\n",
        "[#6]-[#8]-[#6]1:[#6]:[#6]:[#6]2:[#6](:[#6]:1)-[#6]-[#6]-[#6]1(-[#8]-2)-[#6]-[#6]-[#7](-[#6]-[#6]-1)-[#6]1-[#6]-[#6]-[#6]-1\n",
        "----------------"
       ]
      },
      {
       "output_type": "stream",
       "stream": "stdout",
       "text": [
        "\n",
        "Bioorg. Med. Chem. Lett., 20, 3295, 2010\n",
        "Mean nAts 27.3, mcs nAts: 19"
       ]
      },
      {
       "output_type": "stream",
       "stream": "stdout",
       "text": [
        "\n",
        "[#6,#7]-[#6]1:[#6]:[#6]:[#6]2:[#6](:[#7]:1):[#6]:[#6]:[#6](:[#6]:2)-[#6]-[#6]-[#7]1-[#6]-[#6]-[#6]-[#6]-1-[#6]\n",
        "----------------\n",
        "J. Med. Chem., 48, 6482, 2005\n",
        "Mean nAts 26.8, mcs nAts: 19"
       ]
      },
      {
       "output_type": "stream",
       "stream": "stdout",
       "text": [
        "\n",
        "[#6]-[#6]1-[#6]-[#6]-[#6]-[#7]-1-[#6]-[#6]-[#6]1:[#6]:[#6]2:[#6]:[#6](-[#7,#6]-[#6,#7]):[#6]:[#6]:[#6]:2:[#8]:1\n",
        "----------------\n",
        "Bioorg. Med. Chem. Lett., 20, 6246, 2010\n",
        "Mean nAts 22.2, mcs nAts: 20"
       ]
      },
      {
       "output_type": "stream",
       "stream": "stdout",
       "text": [
        "\n",
        "[#6]1-[#6]-[#6](-[#8])(-[#6]-,=,#[#6]-[#6]2:[#6]:[#6]:[#6]:[#6](:[#6]:2):[#6,#7]:[#6]:[#6]:[#6,#7])-[#6](-[#6]-[#7]-1)-[#6]\n",
        "----------------\n",
        "Bioorg. Med. Chem. Lett., 17, 2566, 2007\n",
        "Mean nAts 27.8, mcs nAts: 21"
       ]
      },
      {
       "output_type": "stream",
       "stream": "stdout",
       "text": [
        "\n",
        "[#7]-[#6]-[#6]-[#6]-[#8]-[#6]1:[#6]:[#6]2:[#6](:[#6]:[#7]:1)-[#6](-[#6]1:[#6]:[#6]:[#6]:[#6]:[#6]:1)-[#6]-[#7]-[#6]-2\n",
        "----------------\n",
        "J. Med. Chem., 51, 5423, 2008\n",
        "Mean nAts 31.8, mcs nAts: 28\n",
        "[#6,#8]-,=[#6,#16](=,-[#8,#6,#7])-[#7](-[#6])-[#6]1-[#6]-[#6]-[#6]2(-[#6](-[#6]-1)=[#6]-[#6]-[#6]1-[#6]-2-[#6]-[#6]-[#6]23-[#6]-1-[#6]-[#6]-[#6]-2-[#6](-[#7](-[#6]-3)-[#6])-[#6])-[#6]\n",
        "----------------"
       ]
      },
      {
       "output_type": "stream",
       "stream": "stdout",
       "text": [
        "\n",
        "Bioorg. Med. Chem. Lett., 20, 6226, 2010\n",
        "Mean nAts 27.1, mcs nAts: 17"
       ]
      },
      {
       "output_type": "stream",
       "stream": "stdout",
       "text": [
        "\n",
        "[#8]=[#6](-[#6]1:[#6]:[#6]:[#6]:[#6](:[#6]:1):[#6,#7]:[#6]:[#7,#6,#16])-[#7]1-[#6]-[#6]-[#7,#6,#8]-[#6]-[#6]-1\n",
        "----------------\n",
        "Bioorg. Med. Chem. Lett., 18, 5101, 2008\n",
        "Mean nAts 26.8, mcs nAts: 18"
       ]
      },
      {
       "output_type": "stream",
       "stream": "stdout",
       "text": [
        "\n",
        "[#6]-[#7](-[#6]-[#6]-[#7]1-[#6]-[#6]-[#6]-[#6]-[#6]-1)-[#6](=[#8])-[#7,#6]1-[#6]-[#6]-[#6,#7]:,-[#6]-[#6]-1\n",
        "----------------\n",
        "Bioorg. Med. Chem. Lett., 17, 3130, 2007\n",
        "Mean nAts 30.2, mcs nAts: 21"
       ]
      },
      {
       "output_type": "stream",
       "stream": "stdout",
       "text": [
        "\n",
        "[#6]-[#7](-[#6])-[#6]-[#6]-[#6](-[#8]-[#6]1:[#6]:[#6]:[#6]:[#6]:[#6]:1)-[#6]1:[#6]:[#6]:[#6](:[#6]:[#6]:1)-[#8,#6]-,#[#6,#7]\n",
        "----------------\n",
        "Bioorg. Med. Chem. Lett., 21, 6126, 2011\n",
        "Mean nAts 28.8, mcs nAts: 19"
       ]
      },
      {
       "output_type": "stream",
       "stream": "stdout",
       "text": [
        "\n",
        "[#7]-[#6]-[#6]-[#6]-[#8]-[#6]1:[#6]:[#6]:[#6](:[#6]:[#6]:1)-[#6]1:,-[#6]:,-[#6]:,-[#6](:,-[#7](:,-[#7]:,=1)-[#6])=[#8]\n",
        "----------------\n",
        "Bioorg. Med. Chem., 18, 5441, 2010\n",
        "Mean nAts 20.1, mcs nAts: 18\n",
        "[#6,#7]1:[#7,#6]:[#6](-[#6]-[#6]2-[#6]-[#6]-[#7](-[#6]-[#6]-2)-[#6]2:[#6]:[#6]:[#6]:[#6,#7]:[#6]:2):[#6,#7]:[#7,#6]:1\n",
        "----------------"
       ]
      },
      {
       "output_type": "stream",
       "stream": "stdout",
       "text": [
        "\n",
        "Bioorg. Med. Chem. Lett., 19, 4232, 2009\n",
        "Mean nAts 29.2, mcs nAts: 26"
       ]
      },
      {
       "output_type": "stream",
       "stream": "stdout",
       "text": [
        "\n",
        "[#6]-[#6]1=,-[#6](-[#6]2:[#6]:[#6]:[#6](:[#6]:[#6]:2)-[#8]-[#6]-[#6]-[#6]-[#7]2-[#6]-[#6]-[#6]-[#6]-2)-[#8]-[#6]2:[#6](-[#16]-1):[#6]:[#6]:[#6]:[#6]:2\n",
        "----------------\n",
        "Bioorg. Med. Chem. Lett., 20, 2359, 2010\n",
        "Mean nAts 29.7, mcs nAts: 25"
       ]
      },
      {
       "output_type": "stream",
       "stream": "stdout",
       "text": [
        "\n",
        "[#6,#16,#17,#35]-[#7,#6]1-,:[#6]-,:[#6]-,:[#6](-,:[#6]-,:[#6]-,:1)-[#7](-[#6](=[#8])-[#7]-[#6]-[#6]1:[#6]:[#6]:[#6]:[#6]:[#6]:1)-[#6]1:,-[#6]:,-[#6]:,-[#6,#7](:,-[#6]:,-[#6,#7]:,-1)-[#9,#6,#17,#35]\n",
        "----------------\n",
        "Bioorg. Med. Chem. Lett., 18, 5032, 2008\n",
        "Mean nAts 32.7, mcs nAts: 27"
       ]
      },
      {
       "output_type": "stream",
       "stream": "stdout",
       "text": [
        "\n",
        "[#7]-[#6]-[#6]-[#6]-[#8]-[#6]1:[#6]:[#6]:[#6](:[#6]:[#6]:1)-[#7]1:[#6]2:[#6]:[#6]:[#6](:[#6]:[#6]:2:[#7]:[#6]:1-[#6]1:[#6]:[#6]:[#6]:[#6]:[#7]:1)-[#9]\n",
        "----------------\n",
        "Bioorg. Med. Chem. Lett., 21, 5384, 2011\n",
        "Mean nAts 27.7, mcs nAts: 23"
       ]
      },
      {
       "output_type": "stream",
       "stream": "stdout",
       "text": [
        "\n",
        "[#8,#7]=,-[#6]1-[#6]-[#6]-[#6](-[#6]-[#6]-1)-[#6]1:[#6]:[#6]:[#6](:[#6]:[#6]:1)-[#8]-[#6]-[#6]-[#6]-[#7]1-[#6]-[#6]-[#6]-[#6]-[#6]-1\n",
        "----------------\n",
        "Bioorg. Med. Chem., 17, 3037, 2009\n",
        "Mean nAts 22.9, mcs nAts: 14"
       ]
      },
      {
       "output_type": "stream",
       "stream": "stdout",
       "text": [
        "\n",
        "[#6]1:,-[#6]:,-[#6]:,-[#6,#7](:,-[#6]:,-[#6]:,-1)-[#6,#8]-[#6]-[#6]-[#8,#6]-[#6,#8]-[#6]-[#6,#8]-[#7,#6,#8]\n",
        "----------------\n",
        "Bioorg. Med. Chem. Lett., 20, 4210, 2010\n",
        "Mean nAts 26.3, mcs nAts: 16"
       ]
      },
      {
       "output_type": "stream",
       "stream": "stdout",
       "text": [
        "\n",
        "[#8,#6,#7]=,-[#6](-[#6,#7]1:,-[#6]:,-[#6]:,-[#6,#7](:,-[#7,#6]:,-[#6,#7]:,-1)-[#8,#6,#16]-[#6]1:[#6]:[#6]:[#6]:[#6,#7]:[#6]:1)-,=[#7,#6,#8]\n",
        "----------------\n",
        "Bioorg. Med. Chem. Lett., 20, 5713, 2010\n",
        "Mean nAts 27.5, mcs nAts: 19"
       ]
      },
      {
       "output_type": "stream",
       "stream": "stdout",
       "text": [
        "\n",
        "[#6]-[#6](-[#6])-[#7]1-[#6]-[#6]-[#6](-[#6]-[#6]-1)-[#8]-[#6]1:[#6]:[#6]:[#6]2:[#6](:[#6]:1):[#6]:[#6]:[#7]:2\n",
        "----------------\n",
        "Bioorg. Med. Chem. Lett., 18, 39, 2008\n",
        "Mean nAts 29.7, mcs nAts: 19"
       ]
      },
      {
       "output_type": "stream",
       "stream": "stdout",
       "text": [
        "\n",
        "[#6]-[#7]-[#6]-[#6]1:[#6]:[#6](-[#6](=[#8])-[#7]):[#6]:[#6]:[#6]:1-[#8]-[#6]1:[#6]:[#6]:[#6]:[#6]:[#6]:1\n",
        "----------------\n",
        "Bioorg. Med. Chem. Lett., 17, 1047, 2007\n",
        "Mean nAts 29.8, mcs nAts: 27"
       ]
      },
      {
       "output_type": "stream",
       "stream": "stdout",
       "text": [
        "\n",
        "[#6]-[#7]1-[#6]-[#6]2:[#6]:[#6](-[#8]-[#6]-[#6]-[#6]-[#7]3-[#6]-[#6]-[#6,#8]-[#6]-[#6]-3):[#6]:[#6]:[#6]:2-[#6](-[#6]-1)-[#6]1:[#6]:[#6]:[#6]:[#6]:[#6]:1\n",
        "----------------\n",
        "Bioorg. Med. Chem. Lett., 16, 3162, 2006\n",
        "Mean nAts 25.2, mcs nAts: 19"
       ]
      },
      {
       "output_type": "stream",
       "stream": "stdout",
       "text": [
        "\n",
        "[#8]=[#6](-[#6](:[#6,#8]:[#6]1:[#6]:[#6](-[#17,#6,#8]):[#6]:[#6]:[#6]:1):[#8,#6])-[#7]1-[#6]-[#6]-[#6]-[#6]-1-[#6]-[#7]\n",
        "----------------\n",
        "Bioorg. Med. Chem. Lett., 22, 1504, 2012\n",
        "Mean nAts 25.4, mcs nAts: 21"
       ]
      },
      {
       "output_type": "stream",
       "stream": "stdout",
       "text": [
        "\n",
        "[#6]-[#7]1-[#6]-[#6]-[#6](-[#6]-[#6]-1)-[#8]-[#6]1:[#6]:[#6]:[#6](:[#6]:[#7,#6]:1)-[#6]1:,-[#6,#7]:,-[#6,#7]:,-[#6](:,-[#7,#6]:,-[#7,#6]:,=1)=[#8]\n",
        "----------------\n",
        "Bioorg. Med. Chem. Lett., 17, 1443, 2007\n",
        "Mean nAts 25.7, mcs nAts: 21\n",
        "[#7,#6]-[#6]-[#6]-[#6]1:[#6]:[#6]:[#6]2:[#6](:[#6]:1):[#6]:[#6]:[#6](:[#6]:2)-[#6]1:[#6]:[#6]:[#6](:[#6]:[#6]:1)-[#6]#[#7]\n",
        "-*-*-*-*-*-*-*-*-*-*-*-*-*-*-*-*-*-*-*-*-*-*-*-*-*-*-*-*"
       ]
      },
      {
       "output_type": "stream",
       "stream": "stdout",
       "text": [
        "\n",
        "\t Beta-2 adrenergic receptor Homo sapiens\n",
        "\t\t 14 papers\n",
        "----------------\n",
        "J. Med. Chem., 53, 3675, 2010\n",
        "Mean nAts 27.5, mcs nAts: 12"
       ]
      },
      {
       "output_type": "stream",
       "stream": "stdout",
       "text": [
        "\n",
        "[#6]-[#7]-[#6]-[#6](-[#8])-[#6]1:[#6]:[#6]:[#6](:[#6]:[#6]:1)-[#8]\n",
        "----------------\n",
        "Bioorg. Med. Chem. Lett., 21, 1354, 2011\n",
        "Mean nAts 41.6, mcs nAts: 15"
       ]
      },
      {
       "output_type": "stream",
       "stream": "stdout",
       "text": [
        "\n",
        "[#6]1:[#6]:[#6](-[#6](-[#8])-[#6]-[#7]-[#6]-[#6]-[#6]-[#6,#7]):[#6]:[#6]:[#6]:1-[#8]\n",
        "----------------\n",
        "Bioorg. Med. Chem. Lett., 20, 1895, 2010\n",
        "Mean nAts 33.5, mcs nAts: 22"
       ]
      },
      {
       "output_type": "stream",
       "stream": "stdout",
       "text": [
        "\n",
        "[#6,#8]-,=[#6,#16](=,-[#8,#6])-[#7]-[#6]1:[#6]:[#6]:[#6](:[#6]:[#6]:1)-[#6]-[#6]-[#7]-[#6]-[#6](-[#8])-[#6]1:[#6]:[#6]:[#6]:[#7]:[#6]:1\n",
        "----------------\n",
        "Bioorg. Med. Chem. Lett., 17, 4290, 2007\n",
        "Mean nAts 35.2, mcs nAts: 27"
       ]
      },
      {
       "output_type": "stream",
       "stream": "stdout",
       "text": [
        "\n",
        "[#8,#17]-[#6]1:[#6]:[#6]:[#6]:[#6](:[#6]:1)-[#6](-[#6]-[#6])-[#7]-[#6]-[#6](-[#8])-[#6]-[#6]1:[#6]:[#6]:[#6](:[#6](:[#6]:1)-[#7]-[#16](-[#6])(=[#8])=[#8])-[#8]\n",
        "----------------\n",
        "Bioorg. Med. Chem. Lett., 15, 1061, 2005\n",
        "Mean nAts 34.1, mcs nAts: 30\n",
        "[#6,#8]-,=[#6,#16]-[#7,#8]-[#6]1:[#6]:[#6]:[#6]:[#6](:[#6]:1)-[#6](-[#8])-[#6]-[#7]-[#6](-[#6])-[#6]-[#6]1:[#6]:[#7]:[#6]2:[#6]:1:[#6]:[#6]:[#6]:[#6]:2-[#8]-[#16](-[#6])(=[#8])=[#8]\n",
        "----------------"
       ]
      },
      {
       "output_type": "stream",
       "stream": "stdout",
       "text": [
        "\n",
        "J. Med. Chem., 44, 1456, 2001\n",
        "Mean nAts 35.9, mcs nAts: 30"
       ]
      },
      {
       "output_type": "stream",
       "stream": "stdout",
       "text": [
        "\n",
        "[#6]-[#16](=[#8])(=[#8])-[#7]-[#6]1:[#6]:[#6](-[#6](-[#8])-[#6]-[#7]-[#6]2-[#6]-[#6]-[#7](-[#6]-[#6]-2)-[#6]2:[#6]:[#6]:[#6](:[#6]:[#6]:2)-[#6,#7]-,=[#7,#6,#8]):[#6]:[#6]:[#6]:1-[#8]\n",
        "----------------\n",
        "Bioorg. Med. Chem. Lett., 19, 5237, 2009\n",
        "Mean nAts 37.0, mcs nAts: 32"
       ]
      },
      {
       "output_type": "stream",
       "stream": "stdout",
       "text": [
        "\n",
        "[#6]-[#6](-[#6])(-[#6]-[#6]1:[#6]:[#6]:[#6](:[#6]:[#6]:1)-[#7]-[#6](=[#8])-[#6]-[#6]-[#6]-[#7])-[#7]-[#6]-[#6](-[#8])-[#6]1:[#6]:[#6]:[#6]:[#6]2:[#6]:1-[#8]-[#6]-[#6](-[#7]-2)=[#8]\n",
        "----------------\n",
        "Bioorg. Med. Chem. Lett., 14, 5959, 2004\n",
        "Mean nAts 38.4, mcs nAts: 34\n",
        "[#6,#8]-,=[#6,#16]-[#8]-[#6]1:[#6]:[#6]:[#6]:[#6]2:[#6]:1:[#7]:[#6]:[#6]:2-[#6]-[#6](-[#6])-[#7]-[#6]-[#6](-[#8])-[#6]1:[#6]:[#6]:[#6]:[#6](:[#6]:1)-[#7]-[#16](=[#8])(=[#8])-[#6]1:[#6]:[#6]:[#6]:[#16]:1\n",
        "----------------"
       ]
      },
      {
       "output_type": "stream",
       "stream": "stdout",
       "text": [
        "\n",
        "J. Med. Chem., 50, 2903, 2007\n",
        "Mean nAts 22.6, mcs nAts: 21\n",
        "[#6]-[#6](-[#6]-[#6]1:[#6]:[#6]:[#6]:[#6]:[#6]:1)-[#7]-[#6]-[#6](-[#8])-[#6]1:[#6]:[#6](-[#8]):[#6]:[#6](:[#6]:1)-[#8]\n",
        "----------------\n",
        "Bioorg. Med. Chem. Lett., 20, 1410, 2010\n",
        "Mean nAts 28.4, mcs nAts: 26"
       ]
      },
      {
       "output_type": "stream",
       "stream": "stdout",
       "text": [
        "\n",
        "[#6]-[#6](-[#6])(-[#6]-[#6]1:[#6]:[#6]:[#6]:[#6]:[#6]:1)-[#7]-[#6]-[#6](-[#8])-[#6]1:[#6]:[#6](-[#8]):[#6]:[#6]2:[#6]:1-[#8]-[#6]-[#6](-[#7]-2)=[#8]\n",
        "----------------\n",
        "Bioorg. Med. Chem. Lett., 19, 6640, 2009\n",
        "Mean nAts 27.7, mcs nAts: 21"
       ]
      },
      {
       "output_type": "stream",
       "stream": "stdout",
       "text": [
        "\n",
        "[#6]-[#6](-[#6])(-[#6]-[#6]1:[#6]:[#6]:[#6]:[#6]:[#6]:1)-[#7]-[#6]-[#6](-[#8])-[#6]1:[#6]:[#6]:[#6](:[#6]:[#6]:1)-[#8]\n",
        "----------------\n",
        "Bioorg. Med. Chem., 18, 728, 2010\n",
        "Mean nAts 24.7, mcs nAts: 21"
       ]
      },
      {
       "output_type": "stream",
       "stream": "stdout",
       "text": [
        "\n",
        "[#6]-[#6](-[#6]-[#6]1:[#6]:[#6]:[#6]:[#6]:[#6]:1)-[#7]-[#6]-[#6](-[#8])-[#6]1:[#6]:[#6](-[#8]):[#6]:[#6](:[#6]:1)-[#8]\n",
        "----------------\n",
        "Bioorg. Med. Chem., 17, 5510, 2009\n",
        "Mean nAts 30.6, mcs nAts: 24"
       ]
      },
      {
       "output_type": "stream",
       "stream": "stdout",
       "text": [
        "\n",
        "[#8,#7,#16]=,-[#6,#16](-[#7]-[#6]1:[#6]:[#6]:[#6](:[#6]:[#6]:1)-[#6]-[#6]-[#7]-[#6]-[#6](-[#8])-[#6]-[#8]-[#6]1:[#6]:[#6]:[#6]:[#6]:[#6]:1)-,=[#6,#7,#8,#16]\n",
        "----------------\n",
        "Bioorg. Med. Chem. Lett., 20, 6108, 2010\n",
        "Mean nAts 34.1, mcs nAts: 28"
       ]
      },
      {
       "output_type": "stream",
       "stream": "stdout",
       "text": [
        "\n",
        "[#6]-[#6]1:[#6]:[#16]:[#6]2:[#6]:1:[#6](:[#7]:[#6]:[#7]:2)-[#7]1-[#6]-[#6]-[#6](-[#6]-[#6]-1)-[#7]-[#6]-[#6](-[#8])-[#6]-[#8]-[#6]1:[#6]:[#6]:[#6]:[#6]:[#6]:1\n",
        "-*-*-*-*-*-*-*-*-*-*-*-*-*-*-*-*-*-*-*-*-*-*-*-*-*-*-*-*"
       ]
      },
      {
       "output_type": "stream",
       "stream": "stdout",
       "text": [
        "\n",
        "\t Carbonic anhydrase XII Homo sapiens\n",
        "\t\t 8 papers\n",
        "----------------\n",
        "J. Med. Chem., 54, 1896, 2011\n",
        "Mean nAts 23.0, mcs nAts: 20"
       ]
      },
      {
       "output_type": "stream",
       "stream": "stdout",
       "text": [
        "\n",
        "[#7]-[#16](=[#8])(=[#8])-[#6]1:[#6]:[#6]:[#6](:[#6]:[#6]:1)-[#7]-[#6](=[#8])-[#7]-[#6]1:[#6]:[#6]:[#6]:[#6]:[#6]:1\n",
        "----------------\n",
        "J. Med. Chem., 53, 2913, 2010\n",
        "Mean nAts 31.6, mcs nAts: 13"
       ]
      },
      {
       "output_type": "stream",
       "stream": "stdout",
       "text": [
        "\n",
        "[#7,#6,#16]-[#6,#7,#8]-[#6,#8]-[#6]1:,-[#6]:,-[#6,#8]:,-[#6](:,-[#6]:,-[#6]:,-1)-[#16](-,=[#7,#8])(=[#8])=,-[#8,#6]\n",
        "----------------\n",
        "J. Med. Chem., 54, 6905, 2011\n",
        "Mean nAts 33.9, mcs nAts: 28"
       ]
      },
      {
       "output_type": "stream",
       "stream": "stdout",
       "text": [
        "\n",
        "[#7]-[#16](=[#8])(=[#8])-[#6]1:[#6]:[#6]:[#6](:[#6]:[#6]:1)-[#7]1:[#6]:[#6](-[#6]-[#16]-[#6]2-[#8]-[#6](-[#6]-[#8])-[#6](-[#6](-[#6]-2-[#8])-[#8])-[#8]):[#7]:[#7]:1\n",
        "----------------\n",
        "Bioorg. Med. Chem. Lett., 19, 2273, 2009\n",
        "Mean nAts 31.7, mcs nAts: 28"
       ]
      },
      {
       "output_type": "stream",
       "stream": "stdout",
       "text": [
        "\n",
        "[#7]-[#16](=[#8])(=[#8])-[#6]1:[#6]:[#6]:[#6](:[#6]:[#6]:1)-[#7]1:[#6]:[#6](-[#6]-[#16]-[#6]2-[#8]-[#6](-[#6]-[#8])-[#6](-[#6](-[#6]-2-[#8])-[#8])-[#8]):[#7]:[#7]:1\n",
        "----------------\n",
        "Bioorg. Med. Chem. Lett., 21, 5892, 2011\n",
        "Mean nAts 18.5, mcs nAts: 10"
       ]
      },
      {
       "output_type": "stream",
       "stream": "stdout",
       "text": [
        "\n",
        "[#6]1:[#6]:[#6]:[#6](:[#6]:[#6]:1)-[#16](-[#7])(=[#8])=[#8]\n",
        "----------------\n",
        "Bioorg. Med. Chem., 16, 9113, 2008\n",
        "Mean nAts 24.3, mcs nAts: 23"
       ]
      },
      {
       "output_type": "stream",
       "stream": "stdout",
       "text": [
        "\n",
        "[#7]-[#7]-[#6](=[#8])-[#6]1:[#7]:[#6]2:[#6]:[#6]:[#6](:[#6]:[#6]:2:[#6]:1-[#6]1:[#6]:[#6]:[#6]:[#6]:[#6]:1)-[#16](-[#7])(=[#8])=[#8]\n",
        "----------------\n",
        "Bioorg. Med. Chem., 20, 2392, 2012\n",
        "Mean nAts 31.0, mcs nAts: 16"
       ]
      },
      {
       "output_type": "stream",
       "stream": "stdout",
       "text": [
        "\n",
        "[#6,#7]-[#7]-[#6](=[#16])-[#7]-[#6]1-[#8]-[#6](-[#6]-[#8])-[#6](-[#6](-[#6]-1-[#8])-[#8])-[#8]\n",
        "----------------\n",
        "Bioorg. Med. Chem. Lett., 21, 2975, 2011\n",
        "Mean nAts 27.5, mcs nAts: 11\n",
        "[#7,#6,#17]-[#6]1:[#6]:[#6]:[#6](:[#6]:[#6]:1)-[#16](-,=[#7,#8])(=[#8])=,-[#8,#7]\n",
        "-*-*-*-*-*-*-*-*-*-*-*-*-*-*-*-*-*-*-*-*-*-*-*-*-*-*-*-*"
       ]
      },
      {
       "output_type": "stream",
       "stream": "stdout",
       "text": [
        "\n",
        "\t Serotonin 1a (5-HT1a) receptor Homo sapiens\n",
        "\t\t 24 papers\n",
        "----------------\n",
        "J. Med. Chem., 50, 4214, 2007\n",
        "Mean nAts 31.6, mcs nAts: 31"
       ]
      },
      {
       "output_type": "stream",
       "stream": "stdout",
       "text": [
        "\n",
        "[#7,#6,#8,#9]-[#6,#7]1:[#6]:[#6]:[#6]:[#6]:[#6]:1-[#7]1-[#6]-[#6]-[#7](-[#6]-[#6]-1)-[#6]-[#6]-[#6]-[#6]-[#6]-[#6](=[#8])-[#7]-[#6]1-[#6]-[#6]-[#6]-[#6]2:[#6]-1:[#6]:[#6]:[#6]:[#6]:2\n",
        "----------------\n",
        "J. Med. Chem., 52, 4955, 2009\n",
        "Mean nAts 33.6, mcs nAts: 17"
       ]
      },
      {
       "output_type": "stream",
       "stream": "stdout",
       "text": [
        "\n",
        "[#6]-[#6]1:[#6]:[#6]:[#6]2:[#6](:[#7]:1):[#6]:[#6]:[#6]1:[#6]:2-[#8]-[#6](-[#6]-[#7])-[#6]-[#8]-1\n",
        "----------------\n",
        "Bioorg. Med. Chem. Lett., 20, 824, 2010\n",
        "Mean nAts 28.3, mcs nAts: 26\n",
        "[#6]1:[#7]:[#6]2:[#6]:[#6]:[#6]:[#6]:[#6]:2:[#6]:1-[#6]1=[#6]-[#6]-[#7](-[#6]-[#6]-1)-[#6]-[#6]-[#6]1:[#6]:[#8]:[#6]2:[#6]:1:[#6]:[#6]:[#6]:[#6]:2\n",
        "----------------"
       ]
      },
      {
       "output_type": "stream",
       "stream": "stdout",
       "text": [
        "\n",
        "J. Med. Chem., 54, 3480, 2011\n",
        "Mean nAts 33.1, mcs nAts: 25"
       ]
      },
      {
       "output_type": "stream",
       "stream": "stdout",
       "text": [
        "\n",
        "[#8]=[#6](-[#6])-[#7](-[#6]-[#6]-[#7]1-[#6]-[#6]-[#7](-[#6]-[#6]-1)-[#6]1:[#6]:[#6]:[#6]:[#6]:[#6]:1-[#8])-[#6]1:[#6]:[#6]:[#6]:[#6]:[#7]:1\n",
        "----------------\n",
        "Bioorg. Med. Chem. Lett., 20, 5199, 2010\n",
        "Mean nAts 31.5, mcs nAts: 20"
       ]
      },
      {
       "output_type": "stream",
       "stream": "stdout",
       "text": [
        "\n",
        "[#6]-[#8]-[#6]1:[#6]:[#6]:[#6]:[#6]:[#6]:1-[#7]1-[#6]-[#6]-[#7](-[#6]-[#6]-1)-[#6]-[#6]-[#6]-[#7,#6]-[#6,#7,#16]=,-[#8,#6,#7,#16]\n",
        "----------------\n",
        "Bioorg. Med. Chem., 16, 6707, 2008\n",
        "Mean nAts 31.9, mcs nAts: 27"
       ]
      },
      {
       "output_type": "stream",
       "stream": "stdout",
       "text": [
        "\n",
        "[#6]1:[#7]:[#6]2:[#7,#6]:[#6]:[#6]:[#6]:[#6]:2:[#6]:1-[#6]1-[#6]-[#6]-[#6](-[#6]-[#6]-1)-[#7]1-[#6]-[#6]-[#7](-[#6]-[#6]-1)-[#6]1:[#6]:[#6]:[#6]:[#6]:[#6]:1\n",
        "----------------\n",
        "Bioorg. Med. Chem. Lett., 20, 222, 2010\n",
        "Mean nAts 31.9, mcs nAts: 24"
       ]
      },
      {
       "output_type": "stream",
       "stream": "stdout",
       "text": [
        "\n",
        "[#6]1:[#6]:[#6]:[#6]2:[#6](:[#6]:1)-[#6]-[#6](-[#7]-[#6]-[#6]-[#6]-[#6]1:[#6]:[#7]:[#6]3:[#6]:1:[#6]:[#6](:[#6]:[#6]:3)-[#9,#6])-[#6]-[#8]-2\n",
        "----------------\n",
        "Bioorg. Med. Chem. Lett., 21, 865, 2011\n",
        "Mean nAts 21.0, mcs nAts: 16"
       ]
      },
      {
       "output_type": "stream",
       "stream": "stdout",
       "text": [
        "\n",
        "[#9,#6,#17]-[#6]1:[#6]:[#6]:[#6]:[#6]:[#6]:1-[#8]-[#6]1:[#6,#7]:[#6]:[#6]:[#6]:[#6]:1-[#8]-[#6]\n",
        "----------------\n",
        "Bioorg. Med. Chem. Lett., 7, 2759, 1997\n",
        "Mean nAts 19.1, mcs nAts: 17"
       ]
      },
      {
       "output_type": "stream",
       "stream": "stdout",
       "text": [
        "\n",
        "[#6]-[#6]-[#6]-[#7](-[#6]-[#6]-[#6])-[#6]1-[#6]-[#6]-[#6]2:[#6](-[#6]-1):[#6]:[#6]:[#6]:[#6]:2\n",
        "----------------\n",
        "J. Med. Chem., 50, 4135, 2007\n",
        "Mean nAts 34.0, mcs nAts: 26"
       ]
      },
      {
       "output_type": "stream",
       "stream": "stdout",
       "text": [
        "\n",
        "[#8,#17]-[#6]1:[#6]:[#6]:[#6]:[#6]:[#6]:1-[#7]1-[#6]-[#6]-[#7](-[#6]-[#6]-1)-[#6]-[#6]=,-[#6]-[#6]-[#7]-[#6](=[#8])-[#6]1:[#6]:[#6]:[#6]:[#6]:[#6]:1\n",
        "----------------\n",
        "Bioorg. Med. Chem. Lett., 14, 515, 2004\n",
        "Mean nAts 30.7, mcs nAts: 22"
       ]
      },
      {
       "output_type": "stream",
       "stream": "stdout",
       "text": [
        "\n",
        "[#6]-[#8]-[#6]1:[#6]:[#6]:[#6]:[#6]2:[#6]:1-[#8]-[#6](-[#6]-[#7]1-[#6]3-[#6]-[#6]-[#6]-1-[#6]-[#6](-,=[#6]-3)-[#8,#6,#7])-[#6]-[#8]-2\n",
        "----------------\n",
        "Bioorg. Med. Chem. Lett., 21, 2621, 2011\n",
        "Mean nAts 31.3, mcs nAts: 28"
       ]
      },
      {
       "output_type": "stream",
       "stream": "stdout",
       "text": [
        "\n",
        "[#6]1:[#6]:[#6]:[#6]:[#6]:[#6]:1-[#7]1-[#6]-[#6]-[#7](-[#6]-[#6]-1)-[#6]-[#6]-[#6]-[#6]-[#8,#6]-[#6]1:[#6,#7]:[#6]:[#6]2:[#6](:[#7,#6]:1)-,:[#7]-,:[#6](=[#8])-,:[#6]-,:[#6]-,:2\n",
        "----------------\n",
        "Bioorg. Med. Chem. Lett., 15, 5567, 2005\n",
        "Mean nAts 33.1, mcs nAts: 29"
       ]
      },
      {
       "output_type": "stream",
       "stream": "stdout",
       "text": [
        "\n",
        "[#6]-[#7]1-[#6]-[#6]-[#6]2:[#6](-[#6]-1):[#16]:[#6]1:[#6]:2:[#6](:[#7](:[#6]:[#7]:1)-[#6]-[#6]-[#7]1-[#6]-[#6]-[#7](-[#6]-[#6]-1)-[#6]1:[#6,#7]:[#6,#7]:[#6,#7]:[#6]:[#6,#7]:1)=[#8]\n",
        "----------------\n",
        "Bioorg. Med. Chem. Lett., 16, 150, 2006\n",
        "Mean nAts 33.6, mcs nAts: 32"
       ]
      },
      {
       "output_type": "stream",
       "stream": "stdout",
       "text": [
        "\n",
        "[#8]=[#6]1:[#7]:[#6]2:[#7]:[#6](-[#6]3:[#6]:[#6]:[#6]:[#6]:[#6]:3):[#6]:[#6]:2:[#6](:[#7]:1-[#6]-[#6]-[#7]1-[#6]-[#6]-[#7](-[#6]-[#6]-1)-[#6]1:[#6]:[#6]:[#6]:[#6]:[#6]:1-[#17,#8])=[#8]\n",
        "----------------\n",
        "J. Med. Chem., 53, 4066, 2010\n",
        "Mean nAts 36.3, mcs nAts: 34"
       ]
      },
      {
       "output_type": "stream",
       "stream": "stdout",
       "text": [
        "\n",
        "[#6]-[#8]-[#6]1:[#6]:[#6]2:[#6]:[#6]:[#6]:[#7]:[#6]:2:[#6](:[#6]:1)-[#7]1-[#6]-[#6]-[#7](-[#6]-[#6]-1)-[#6]1-[#6]-[#6]-[#7](-[#6]-[#6]-1)-[#6]1:[#6]:[#6]:[#6]:[#6]2:[#6]:1:[#7]:[#6]:[#6]:[#6]:2\n",
        "----------------\n",
        "Bioorg. Med. Chem. Lett., 20, 1114, 2010\n",
        "Mean nAts 20.8, mcs nAts: 20\n",
        "[#6,#8,#9,#17]-[#6]1:[#6]:[#6]:[#6]:[#6]:[#6]:1-[#8]-[#6]1:[#7,#6]:[#6]:[#6]:[#6]:[#6]:1-[#6,#7]1-[#6]-[#6]-[#7]-[#6]-[#6]-1\n",
        "----------------\n",
        "Bioorg. Med. Chem. Lett., 16, 1338, 2006\n",
        "Mean nAts 27.6, mcs nAts: 13"
       ]
      },
      {
       "output_type": "stream",
       "stream": "stdout",
       "text": [
        "\n",
        "[#6]-[#7,#6]-[#6]-[#6,#7]1-[#6]-[#7,#6]-[#6,#8]:,-[#6](-,:[#8,#6]-1):[#6]:[#6]:[#6]:[#6]\n",
        "----------------\n",
        "Bioorg. Med. Chem. Lett., 15, 911, 2005\n",
        "Mean nAts 29.7, mcs nAts: 17"
       ]
      },
      {
       "output_type": "stream",
       "stream": "stdout",
       "text": [
        "\n",
        "[#7]-[#6]1-[#6]-[#6]-[#6](-[#6]-[#6]-1)-[#6]1:[#6]:[#7]:[#6]2:[#6]:1:[#6]:[#6](:[#6]:[#6]:2)-[#9]\n",
        "----------------\n",
        "Bioorg. Med. Chem. Lett., 16, 2347, 2006\n",
        "Mean nAts 31.3, mcs nAts: 30"
       ]
      },
      {
       "output_type": "stream",
       "stream": "stdout",
       "text": [
        "\n",
        "[#8]-[#6](-[#6]-[#8]-[#6]1:[#6]:[#6]:[#6]:[#6]2:[#6]:1:[#6]:[#6]:[#7]:2)-[#6]-[#7]1-[#6]-[#6]-[#6](-[#6]-[#6]-1)-[#6](:[#6,#16]):[#16,#6]:[#6]1:[#6]:[#6](:[#6]:[#6]:[#6]:1)-[#9,#6,#8,#17]\n",
        "----------------\n",
        "Bioorg. Med. Chem. Lett., 7, 3183, 1997\n",
        "Mean nAts 32.1, mcs nAts: 30"
       ]
      },
      {
       "output_type": "stream",
       "stream": "stdout",
       "text": [
        "\n",
        "[#6]-[#8]-[#6]1:[#6]:[#6]:[#6](:[#6]:[#6]:1-[#7]1-[#6]-[#6]-[#7](-[#6]-[#6]-1)-[#6])-[#7]-[#6](=[#8])-[#7,#6]1-,:[#6]-,:[#6]-,:[#7,#6](-,:[#6]-,:[#6]-,:1)-[#6]1:[#6]:[#6]:[#6]:[#6]:[#6]:1\n",
        "----------------\n",
        "J. Med. Chem., 49, 4785, 2006\n",
        "Mean nAts 30.6, mcs nAts: 18"
       ]
      },
      {
       "output_type": "stream",
       "stream": "stdout",
       "text": [
        "\n",
        "[#6,#7]-[#8,#6]-[#6]1:[#6]:[#6]:[#6]:[#6]2:[#6]:1-[#6]-[#6](-[#7](-[#6])-[#6]-[#6]-[#6]-[#6])-[#6]-[#8]-2\n",
        "----------------\n",
        "Eur. J. Med. Chem., 46, 5728, 2011\n",
        "Mean nAts 33.9, mcs nAts: 25"
       ]
      },
      {
       "output_type": "stream",
       "stream": "stdout",
       "text": [
        "\n",
        "[#8]=[#6](-[#6])-[#7](-[#6]-[#6]-[#7]1-[#6]-[#6]-[#7](-[#6]-[#6]-1)-[#6]1:[#6]:[#6]:[#6]:[#6]:[#6]:1-[#8])-[#6]1:[#6]:[#6]:[#6]:[#6]:[#7]:1\n",
        "----------------\n",
        "J. Med. Chem., 53, 7549, 2010\n",
        "Mean nAts 33.2, mcs nAts: 28"
       ]
      },
      {
       "output_type": "stream",
       "stream": "stdout",
       "text": [
        "\n",
        "[#7]-[#7]1:[#6](-[#6,#16]-[#6]-[#6]-[#6]-[#7]2-[#6]-[#6]-[#7](-[#6]-[#6]-2)-[#6]2:[#6]:[#6]:[#6]3:[#6](:[#7]:2):,-[#6]:,-[#6]:,-[#6]:,-[#6]:,-3):[#7]:[#6]:[#6]:[#6]:1=[#8]\n",
        "----------------\n",
        "Bioorg. Med. Chem. Lett., 18, 489, 2008\n",
        "Mean nAts 33.0, mcs nAts: 26"
       ]
      },
      {
       "output_type": "stream",
       "stream": "stdout",
       "text": [
        "\n",
        "[#6]1-[#6]-[#6,#7]-[#6]2:[#6]-1:[#6]:[#6](:[#6]:[#6]:2)-[#6]-[#6]-[#7]1-[#6]-[#6]-[#7](-[#6]-[#6]-1)-[#6]1:[#7]:[#16]:[#6]2:[#6]:1:[#6]:[#6]:[#6]:[#6]:2\n",
        "-*-*-*-*-*-*-*-*-*-*-*-*-*-*-*-*-*-*-*-*-*-*-*-*-*-*-*-*"
       ]
      },
      {
       "output_type": "stream",
       "stream": "stdout",
       "text": [
        "\n",
        "\t C-C chemokine receptor type 2 Homo sapiens\n",
        "\t\t 8 papers\n",
        "----------------\n",
        "J. Med. Chem., 49, 4801, 2006\n",
        "Mean nAts 39.4, mcs nAts: 28"
       ]
      },
      {
       "output_type": "stream",
       "stream": "stdout",
       "text": [
        "\n",
        "[#6,#7]-[#6]-[#7,#6]-[#6](-[#6](=[#8])-[#7]-[#6]-[#6]1:[#6]:[#6](-[#6](-[#9])(-[#9])-[#9]):[#6]:[#6](:[#6]:1)-[#6](-[#9])(-[#9])-[#9])-[#6]1:[#6]:[#6]:[#6]:[#6]:[#6]:1\n",
        "----------------\n",
        "Bioorg. Med. Chem. Lett., 20, 7473, 2010\n",
        "Mean nAts 37.8, mcs nAts: 35"
       ]
      },
      {
       "output_type": "stream",
       "stream": "stdout",
       "text": [
        "\n",
        "[#8]=[#6](-[#6]-[#7]-[#6](=[#8])-[#6]1:[#6]:[#6]:[#6]:[#6](:[#6]:1)-[#6](-[#9])(-[#9])-[#9])-[#7]-[#6]1-[#6]-[#7](-[#6]2-[#6]-[#6]-[#7,#6](-[#6]-[#6]-2)-[#6]2:[#6]:[#6]:[#6]:[#6]:[#6]:2)-[#6]-[#6]-1-[#8]\n",
        "----------------\n",
        "Bioorg. Med. Chem. Lett., 21, 2626, 2011\n",
        "Mean nAts 35.0, mcs nAts: 33"
       ]
      },
      {
       "output_type": "stream",
       "stream": "stdout",
       "text": [
        "\n",
        "[#6]-[#6](-[#6])-[#6]1(-[#6](=[#8])-[#7]2-[#6]-[#6]-[#7](-[#6]-[#6]-2)-[#6]2:[#6,#7]:[#6](-[#6](-[#9])(-[#9])-[#9]):[#6,#7]:[#6,#7]:[#7,#6]:2)-[#6]-[#6]-[#6](-[#6]-1)-[#7]-[#6]1-[#6]-[#6]-[#8,#6]-[#6]-[#6]-1\n",
        "----------------\n",
        "Bioorg. Med. Chem. Lett., 20, 2099, 2010\n",
        "Mean nAts 38.5, mcs nAts: 38"
       ]
      },
      {
       "output_type": "stream",
       "stream": "stdout",
       "text": [
        "\n",
        "[#8]=[#6](-[#6]-[#7]-[#6](=[#8])-[#6]1:[#6]:[#6]:[#6]:[#6](:[#6]:1)-[#6](-[#9])(-[#9])-[#9])-[#7]-[#6]1-[#6]-[#6]-[#7](-[#6]-1)-[#6]-[#6]-[#7,#6]1-[#6]-[#6]-[#7](-[#6]-[#6]-1)-[#6](=[#8])-[#6]1:[#6]:[#6]:[#6]:[#6]:[#6]:1\n",
        "----------------\n",
        "Bioorg. Med. Chem. Lett., 18, 5063, 2008\n",
        "Mean nAts 36.6, mcs nAts: 33"
       ]
      },
      {
       "output_type": "stream",
       "stream": "stdout",
       "text": [
        "\n",
        "[#6]-[#16]-[#6]1:[#6]:[#6]:[#6](:[#6]:[#6]:1)-[#6]-[#7]-[#6]1-[#6]-[#6]-[#7,#6]-[#6]-[#6]-1-[#7]-[#6](=[#8])-[#6]-[#7]-[#6](=[#8])-[#6]1:[#6]:[#6]:[#6]:[#6](:[#6]:1)-[#6](-[#9])(-[#9])-[#9]\n",
        "----------------\n",
        "ACS Med. Chem. Lett., 2, 450, 2011\n",
        "Mean nAts 35.5, mcs nAts: 35\n",
        "[#8]=[#6](-[#6]-[#7]-[#6](=[#8])-[#6]1:[#6]:[#6]:[#6]:[#6](:[#6]:1)-[#6](-[#9])(-[#9])-[#9])-[#7]-[#6]1-[#6]-[#6]-[#7](-[#6]-1)-[#6]1-[#6]-[#6]-[#6](-[#6]-[#6]-1)(-[#8])-[#6]1:[#6,#7]:[#6,#7]:[#7,#6]:[#7,#6]:[#6,#7]:1\n",
        "----------------\n",
        "J. Med. Chem., 51, 721, 2008\n",
        "Mean nAts 35.0, mcs nAts: 32"
       ]
      },
      {
       "output_type": "stream",
       "stream": "stdout",
       "text": [
        "\n",
        "[#8]=[#6](-[#6]-[#7]-[#6](=[#8])-[#6]1:[#6]:[#6]:[#6]:[#6](:[#6]:1)-[#6](-[#9])(-[#9])-[#9])-[#7]-[#6]1-[#6]-[#6]-[#6]-[#6]-[#6]-1-[#7]-[#6]-[#6]1:[#6]:[#6]:[#6](:[#6]:[#6]:1)-[#17,#6,#8,#16,#53]\n",
        "----------------\n",
        "Bioorg. Med. Chem. Lett., 19, 3418, 2009\n",
        "Mean nAts 40.7, mcs nAts: 35"
       ]
      },
      {
       "output_type": "stream",
       "stream": "stdout",
       "text": [
        "\n",
        "[#6]-[#16]-[#6]1:[#6]:[#6]:[#6](:[#6]:[#6]:1)-[#16](=[#8])(=[#8])-[#6]-[#6]1-[#6]-[#6]-[#6]-[#6]-[#6]-1-[#7]-[#6](=[#8])-[#6]-[#7]-[#6](=[#8])-[#6]1:[#6]:[#6]:[#6]:[#6](:[#6]:1)-[#6](-[#9])(-[#9])-[#9]\n",
        "-*-*-*-*-*-*-*-*-*-*-*-*-*-*-*-*-*-*-*-*-*-*-*-*-*-*-*-*\n",
        "\t Muscarinic acetylcholine receptor M1 Homo sapiens\n",
        "\t\t 7 papers"
       ]
      },
      {
       "output_type": "stream",
       "stream": "stdout",
       "text": [
        "\n",
        "----------------\n",
        "Bioorg. Med. Chem. Lett., 20, 2533, 2010\n",
        "Mean nAts 26.4, mcs nAts: 18"
       ]
      },
      {
       "output_type": "stream",
       "stream": "stdout",
       "text": [
        "\n",
        "[#8,#6,#7]-[#6]1:[#6]:[#6]:[#6](:[#6,#7]:[#6]:1)-[#6]-[#7]1:[#6]:[#6](-[#6](=[#8])-[#8]):[#6](:[#6]:[#6]:1)=[#8]\n",
        "----------------\n",
        "Bioorg. Med. Chem. Lett., 21, 2769, 2011\n",
        "Mean nAts 25.6, mcs nAts: 16"
       ]
      },
      {
       "output_type": "stream",
       "stream": "stdout",
       "text": [
        "\n",
        "[#8]=[#6](-[#8])-[#6]1:[#6]:[#7](-[#6]-[#6]):[#6]2:[#6](:[#6]:1=[#8]):[#6]:[#6]:[#6]:[#6]:2\n",
        "----------------\n",
        "J. Med. Chem., 52, 5076, 2009\n",
        "Mean nAts 30.0, mcs nAts: 13"
       ]
      },
      {
       "output_type": "stream",
       "stream": "stdout",
       "text": [
        "\n",
        "[#8]=[#6](-[#8]-[#6]1-[#6]-[#7]2-[#6]-[#6]-[#6]-1-[#6]-[#6]-2)-[#6]-[#6,#8]\n",
        "----------------\n",
        "J. Med. Chem., 45, 984, 2002\n",
        "Mean nAts 43.4, mcs nAts: 23"
       ]
      },
      {
       "output_type": "stream",
       "stream": "stdout",
       "text": [
        "\n",
        "[#7,#8]-,=[#6](=,-[#8,#7])-[#6]-[#6](-[#6]1:[#6]:[#6]:[#6]:[#6]:[#6]:1)(-[#6]1:[#6]:[#6]:[#6]:[#6]:[#6]:1)-[#6]1:[#6]:[#6]:[#6]:[#6]:[#6]:1\n",
        "----------------\n",
        "Bioorg. Med. Chem. Lett., 21, 1710, 2011\n",
        "Mean nAts 27.7, mcs nAts: 21"
       ]
      },
      {
       "output_type": "stream",
       "stream": "stdout",
       "text": [
        "\n",
        "[#6,#7]1:,-[#6]:,-[#6]:,-[#6,#7](:,-[#6]:,-[#6]:,-1)-[#6]-[#7,#6]1:[#6]:[#6](-[#6](=[#8])-[#8]):[#6](:[#6,#7]2:[#6]:1:[#6]:[#6]:[#6]:[#6]:2)=[#8]\n",
        "----------------\n",
        "Bioorg. Med. Chem. Lett., 17, 6066, 2007\n",
        "Mean nAts 26.6, mcs nAts: 16"
       ]
      },
      {
       "output_type": "stream",
       "stream": "stdout",
       "text": [
        "\n",
        "[#6]-[#7]1-[#6]2-[#6]-[#6]-[#6]-1-[#6]-[#6](-[#6]-2)-[#8]-[#6](=[#8])-[#7](-[#6]-[#6])-[#6]\n",
        "----------------\n",
        "J. Med. Chem., 50, 6450, 2007\n",
        "Mean nAts 34.0, mcs nAts: 25"
       ]
      },
      {
       "output_type": "stream",
       "stream": "stdout",
       "text": [
        "\n",
        "[#6]-[#6]#,=[#6]-[#6]-[#7]1:[#6](-[#7]2-[#6]-[#6]-[#6]-[#6](-[#6]-2)-[#7]):[#7]:[#6]2:[#6]:1:[#6](=[#8]):[#7](-[#6]-[#6]):[#6](:[#7]:2-[#6])=[#8]\n",
        "-*-*-*-*-*-*-*-*-*-*-*-*-*-*-*-*-*-*-*-*-*-*-*-*-*-*-*-*\n",
        "\t Melanin-concentrating hormone receptor 1 Homo sapiens\n",
        "\t\t 33 papers"
       ]
      },
      {
       "output_type": "stream",
       "stream": "stdout",
       "text": [
        "\n",
        "----------------\n",
        "Bioorg. Med. Chem., 15, 2092, 2007\n",
        "Mean nAts 31.8, mcs nAts: 15"
       ]
      },
      {
       "output_type": "stream",
       "stream": "stdout",
       "text": [
        "\n",
        "[#6,#8]-,=[#7,#6]-[#6,#7]-[#6,#7]1:,-[#6]:,-[#6]:,-[#6,#7](:,-[#6]:,-[#6]:,-1)-[#6]1:,-[#6]:,-[#6]:,-[#6]:[#6]:,-[#6]:,-1\n",
        "----------------\n",
        "Bioorg. Med. Chem. Lett., 16, 5270, 2006\n",
        "Mean nAts 32.3, mcs nAts: 26"
       ]
      },
      {
       "output_type": "stream",
       "stream": "stdout",
       "text": [
        "\n",
        "[#7,#6]-[#6]1:[#6]:[#6]:[#6]2:[#6](:[#7]:1):[#6]:[#6]:[#6](:[#6]:2)-[#7]-[#6](=[#8])-[#6]-[#6]-[#6]1:[#6]:[#6]:[#6](:[#6]:[#6]:1)-[#6](-[#9])(-[#9])-[#9]\n",
        "----------------\n",
        "J. Med. Chem., 53, 5576, 2010\n",
        "Mean nAts 40.4, mcs nAts: 33"
       ]
      },
      {
       "output_type": "stream",
       "stream": "stdout",
       "text": [
        "\n",
        "[#6]-[#8]-[#6]-[#6]1-[#8]-[#6](-[#8]-[#6]-[#6]2:[#6]:[#6]:[#6]:[#6]:[#6]:2)-[#6](-[#6](-[#6]-1-[#8])-[#8]-[#6]-[#6]1:[#6]:[#6]:[#6]:[#6]:[#6]:1)-[#7]-[#6](=[#8])-[#6]-[#6,#7]-,=[#6,#7]-,=[#7,#6]\n",
        "----------------\n",
        "Bioorg. Med. Chem. Lett., 16, 4262, 2006\n",
        "Mean nAts 38.6, mcs nAts: 34"
       ]
      },
      {
       "output_type": "stream",
       "stream": "stdout",
       "text": [
        "\n",
        "[#6]-[#7]1-[#6]-[#6]-[#7](-[#6]-[#6]-1)-[#6]-[#6]-[#6]-[#7](-[#6](=[#8])-[#7]-[#6]1:[#6]:[#6]:[#6](:[#6](:[#6]:1)-[#17,#6])-[#9])-[#6]1-[#6]-[#6]-[#6]2(-[#6]-1-[#6]-2)-[#6]1:[#6]:[#6]:[#6]:[#6,#7]:[#6]:1\n",
        "----------------\n",
        "Bioorg. Med. Chem. Lett., 19, 5339, 2009\n",
        "Mean nAts 34.3, mcs nAts: 31"
       ]
      },
      {
       "output_type": "stream",
       "stream": "stdout",
       "text": [
        "\n",
        "[#9,#6,#8]-,=[#6,#7]1:[#6]:[#6]2:[#6](:[#6]:[#7,#6]:1)-[#6]1(-[#6]-[#6]-[#7](-[#6]-[#6]-1)-[#6]-[#6]1:[#6]:[#6]:[#6](:[#6,#7]:[#6]:1)-[#8,#6,#7]-[#6]1:[#6]:[#6]:[#6](:[#6](:[#6]:1)-[#9])-[#9])-[#8]-[#6]-2\n",
        "----------------\n",
        "Bioorg. Med. Chem. Lett., 17, 832, 2007\n",
        "Mean nAts 35.7, mcs nAts: 26"
       ]
      },
      {
       "output_type": "stream",
       "stream": "stdout",
       "text": [
        "\n",
        "[#7]=[#6](-[#7])-[#7]-[#6]-[#6]-[#6]-[#6](-[#7]-[#6](=,-[#8,#6])-,=[#6,#8])-[#6](=[#8])-[#7]-[#6]-[#6]1:[#6]:[#6]:[#6](:[#6]:[#6]:1)-[#6](-[#9])(-[#9])-[#9]\n",
        "----------------\n",
        "Bioorg. Med. Chem. Lett., 16, 5066, 2006\n",
        "Mean nAts 36.7, mcs nAts: 29"
       ]
      },
      {
       "output_type": "stream",
       "stream": "stdout",
       "text": [
        "\n",
        "[#6,#9]-[#6]1:[#6]:[#6]:[#6]:[#6](:[#6]:1)-[#8]-[#6]1:[#6]:[#6]:[#6](:[#6]:[#6]:1-[#7]-[#6](=[#8])-[#7,#6]-,=[#6])-[#6](=[#8])-[#7]-[#6]-[#6]-[#7]1-[#6]-[#6]-[#6]-[#6]-1\n",
        "----------------\n",
        "Bioorg. Med. Chem., 18, 7365, 2010\n",
        "Mean nAts 40.1, mcs nAts: 35"
       ]
      },
      {
       "output_type": "stream",
       "stream": "stdout",
       "text": [
        "\n",
        "[#6]-[#6]1:[#6]:[#6]:[#6](:[#6]:[#6]:1)-[#6]-[#7]1-[#6]-[#6]-[#6](-[#6]-[#6]-1)-[#6,#7]-[#6]-[#7](-[#6]-[#6]1:[#6]:[#6]:[#6](:[#6]:[#6]:1)-[#6]1:[#6]:[#6]:[#6]:[#6]:[#6]:1)-[#6]-[#7,#6]-[#6](-[#6])-[#6]\n",
        "----------------\n",
        "Bioorg. Med. Chem. Lett., 16, 4237, 2006\n",
        "Mean nAts 33.2, mcs nAts: 26"
       ]
      },
      {
       "output_type": "stream",
       "stream": "stdout",
       "text": [
        "\n",
        "[#6]-[#7](-[#6])-[#6]1-[#6]-[#6]-[#7](-[#6]-1)-[#6]1:[#6]:[#6]:[#6](:[#6]:[#7]:1)-[#6]1:[#6]:[#8,#7]:[#6]2:[#6](:[#6]:1=[#8]):[#6]:[#6]:[#6](:[#6]:2)-[#6,#8]\n",
        "----------------\n",
        "Bioorg. Med. Chem., 15, 3896, 2007\n",
        "Mean nAts 40.1, mcs nAts: 35"
       ]
      },
      {
       "output_type": "stream",
       "stream": "stdout",
       "text": [
        "\n",
        "[#6]-[#6]1:[#6]:[#6]:[#6](:[#6]:[#6]:1)-[#6]-[#7]1-[#6]-[#6]-[#6](-[#6]-[#6]-1)-[#6,#7]-[#6]-[#7](-[#6]-[#6]1:[#6]:[#6]:[#6](:[#6]:[#6]:1)-[#6]1:[#6]:[#6]:[#6]:[#6]:[#6]:1)-[#6]-[#7,#6]-[#6](-[#6])-[#6]\n",
        "----------------\n",
        "Bioorg. Med. Chem. Lett., 16, 5445, 2006\n",
        "Mean nAts 28.9, mcs nAts: 11"
       ]
      },
      {
       "output_type": "stream",
       "stream": "stdout",
       "text": [
        "\n",
        "[#8,#7,#9]-[#6]1:[#6]:[#6]:[#6]:[#6](:[#6]:1)-[#6](=[#8])-[#7]-[#6]\n",
        "----------------\n",
        "Bioorg. Med. Chem. Lett., 16, 5207, 2006\n",
        "Mean nAts 34.7, mcs nAts: 14"
       ]
      },
      {
       "output_type": "stream",
       "stream": "stdout",
       "text": [
        "\n",
        "[#7]-[#6]-[#6]1:[#6]:[#7]:[#6]2:[#6](:[#6]:1):[#6]:[#6]:[#6]:[#6]:2-[#6]-[#7]\n",
        "----------------\n",
        "Bioorg. Med. Chem., 19, 883, 2011\n",
        "Mean nAts 30.4, mcs nAts: 24"
       ]
      },
      {
       "output_type": "stream",
       "stream": "stdout",
       "text": [
        "\n",
        "[#6]-[#6]-[#8,#7]-[#6]1:[#6]:[#6]:[#6](:[#6]:[#6]:1)-[#7]1:[#6]:[#6]:[#6](:[#6]:[#6]:1=[#8])-[#8]-[#6]-[#6]1:[#6]:[#6]:[#6]:[#6]:[#6]:1\n",
        "----------------\n",
        "Bioorg. Med. Chem. Lett., 15, 4174, 2005\n",
        "Mean nAts 32.2, mcs nAts: 26"
       ]
      },
      {
       "output_type": "stream",
       "stream": "stdout",
       "text": [
        "\n",
        "[#8,#6,#17]-[#6]1:[#6]:[#6,#7]:[#6](:[#6](:[#6]:1)-[#6](=[#8])-[#7]-[#6]1-[#6]-[#6]-[#7](-[#6]-[#6]-1)-[#6]-[#6]1:[#6]:[#6]:[#6]:[#6]:[#6]:1)-[#7]-[#16,#6]=,-[#8,#6]\n",
        "----------------\n",
        "Bioorg. Med. Chem. Lett., 16, 4450, 2006\n",
        "Mean nAts 40.5, mcs nAts: 32"
       ]
      },
      {
       "output_type": "stream",
       "stream": "stdout",
       "text": [
        "\n",
        "[#6]-[#7]-[#6]1-[#6]-[#6]-[#7](-[#6]-1)-[#6](=[#8])-[#7]1-[#6]-[#6]-[#6](-[#6]-1)-[#7](-[#6])-[#6](=[#8])-[#6]1:[#6]:[#6]:[#6](:[#6]:[#6]:1)-[#6]1:[#6]:[#6]:[#6](:[#6,#7]:[#6]:1)-[#6,#7,#8,#16]-,#[#9,#6,#7,#8]\n",
        "----------------\n",
        "Bioorg. Med. Chem. Lett., 19, 5186, 2009\n",
        "Mean nAts 30.9, mcs nAts: 26"
       ]
      },
      {
       "output_type": "stream",
       "stream": "stdout",
       "text": [
        "\n",
        "[#7]-[#6]-[#6]1:[#6]:[#6]:[#6](:[#7,#6]:[#6,#7]:1)-[#6]-[#6,#8]-[#7]1:[#6]:[#6]:[#6](:[#6]:[#6]:1=[#8])-[#8]-[#6]-[#6]1:[#6]:[#6]:[#6](:[#6]:[#6]:1)-[#9]\n",
        "----------------\n",
        "Bioorg. Med. Chem. Lett., 15, 5293, 2005\n",
        "Mean nAts 29.9, mcs nAts: 24"
       ]
      },
      {
       "output_type": "stream",
       "stream": "stdout",
       "text": [
        "\n",
        "[#17,#6,#7,#8]-[#6]1:[#6]:[#6]:[#6]2:[#6](:[#6]:1):[#6](:[#7]:[#7]:2)-[#7]-[#6]1-[#6]-[#6]-[#7](-[#6]-[#6]-1)-[#6]-[#6]1:[#6]:[#6]:[#6]:[#6]:[#6]:1\n",
        "----------------\n",
        "Bioorg. Med. Chem. Lett., 19, 4589, 2009\n",
        "Mean nAts 30.7, mcs nAts: 26"
       ]
      },
      {
       "output_type": "stream",
       "stream": "stdout",
       "text": [
        "\n",
        "[#6]-[#6]1:[#6]:[#7]2:[#6]:[#6](-[#7]-[#6](=[#8])-[#6]3:[#6,#7]:[#6,#7]:[#6](:[#6,#7]:[#6,#7]:3)-[#6]3:[#6]:[#6,#7]:[#6](:[#6,#7]:[#6,#7]:3)-[#6,#8,#9,#16,#17]):[#6]:[#6]:[#6]:2:[#7]:1\n",
        "----------------\n",
        "J. Med. Chem., 49, 2294, 2006\n",
        "Mean nAts 36.9, mcs nAts: 27"
       ]
      },
      {
       "output_type": "stream",
       "stream": "stdout",
       "text": [
        "\n",
        "[#6]1:[#6]:[#6,#7]:[#6]:[#6](:[#6]:1)-[#6]12-[#6]-[#6]-1-[#6](-[#7](-[#6]-[#6]-[#7,#6])-[#6](=[#8])-[#7]-[#6]1:[#6]:[#6]:[#6](:[#6](:[#6]:1)-[#17,#6])-[#9])-[#6]-[#6]-2\n",
        "----------------\n",
        "Bioorg. Med. Chem. Lett., 15, 3439, 2005\n",
        "Mean nAts 32.7, mcs nAts: 30"
       ]
      },
      {
       "output_type": "stream",
       "stream": "stdout",
       "text": [
        "\n",
        "[#6]1:[#6]:[#6]:[#6]:[#6]:[#6]:1-[#6]1:[#6]:[#6]:[#6](:[#16]:1)-[#6](=[#8])-[#7](-[#6])-[#6]1-[#6]-[#6]-[#7](-[#6]-1)-[#6](=[#8])-[#7](-[#6])-[#6]1-[#6]-[#6]-[#7](-[#6]-1)-[#6]\n",
        "----------------\n",
        "J. Med. Chem., 49, 6569, 2006\n",
        "Mean nAts 31.5, mcs nAts: 27"
       ]
      },
      {
       "output_type": "stream",
       "stream": "stdout",
       "text": [
        "\n",
        "[#8]=[#6](-[#7]-[#6]1-[#6]-[#6]-[#7](-[#6]-[#6]-1)-[#6]-[#6]1:[#6]:[#6]:[#6]:[#6]:[#6]:1)-[#6]1:[#6]:[#6](=[#8]):[#6]2:[#6](:[#8]:1):[#6]:[#6]:[#6]:[#6]:2\n",
        "----------------\n",
        "Bioorg. Med. Chem. Lett., 19, 4274, 2009\n",
        "Mean nAts 36.4, mcs nAts: 26"
       ]
      },
      {
       "output_type": "stream",
       "stream": "stdout",
       "text": [
        "\n",
        "[#8,#7]=,-[#6](-[#7]-[#6]1-[#6]-[#6]-[#7](-[#6]-[#6]-1)-[#6]-[#6]1:[#6]:[#6]:[#7](:[#6]:1)-[#6]1:[#6]:[#6]:[#6](:[#6]:[#6]:1)-[#6](-[#9])(-[#9])-[#9])-,=[#7,#6,#8]\n",
        "----------------\n",
        "Bioorg. Med. Chem. Lett., 14, 5075, 2004\n",
        "Mean nAts 33.8, mcs nAts: 17"
       ]
      },
      {
       "output_type": "stream",
       "stream": "stdout",
       "text": [
        "\n",
        "[#6,#7]-[#7,#6]-[#6]-[#6]-[#7]-[#6](=[#8])-[#6]1:[#6]:[#6]:[#6](:[#6]:[#6]:1)-[#7]-[#6](=[#8])-[#7,#6]\n",
        "----------------\n",
        "Bioorg. Med. Chem. Lett., 16, 3674, 2006\n",
        "Mean nAts 39.6, mcs nAts: 27"
       ]
      },
      {
       "output_type": "stream",
       "stream": "stdout",
       "text": [
        "\n",
        "[#6,#7]1:[#6]:[#6,#7]:[#6]:[#6](:[#6]:1)-[#6]1:[#6]:[#6]:[#6](:[#6]:[#6]:1)-[#6]-[#6]1:[#7]:[#6]2:[#6]:[#6](-[#6](-[#9])(-[#9])-[#9]):[#6](:[#6]:[#6]:2:[#7]:1)-[#9]\n",
        "----------------\n",
        "Bioorg. Med. Chem. Lett., 16, 3668, 2006\n",
        "Mean nAts 38.7, mcs nAts: 31"
       ]
      },
      {
       "output_type": "stream",
       "stream": "stdout",
       "text": [
        "\n",
        "[#6,#16]-[#7]1-[#6]-[#6]-[#6](-[#6]-[#6]-1)(-[#6,#7,#8]-[#6,#7]-[#6](=[#8])-[#7]-[#6]1:[#6]:[#6]:[#6]:[#6](:[#6]:1)-[#9,#6,#17])-[#6]1:[#6]:[#6]:[#6](:[#6]:[#6]:1)-[#6]1:[#6]:[#6]:[#6]:[#6]:[#6]:1\n",
        "----------------\n",
        "Bioorg. Med. Chem., 19, 5539, 2011\n",
        "Mean nAts 31.8, mcs nAts: 28"
       ]
      },
      {
       "output_type": "stream",
       "stream": "stdout",
       "text": [
        "\n",
        "[#7]-[#6]-[#6]1=,-[#6]-[#6]2:[#6]:[#6]:[#6](:[#6]:[#6]:2-[#6]-[#6]-1)-[#7]-[#6](=[#8])-[#6]1:[#6]:[#6]:[#6](:[#6]:[#6]:1)-[#6]1:[#6]:[#6]:[#6](:[#6]:[#6]:1)-[#17,#6,#7,#8,#9]\n",
        "----------------\n",
        "J. Med. Chem., 49, 7095, 2006\n",
        "Mean nAts 35.2, mcs nAts: 29"
       ]
      },
      {
       "output_type": "stream",
       "stream": "stdout",
       "text": [
        "\n",
        "[#8]=[#6]1:[#6]2:[#16]:[#6](-[#6]3:[#6]:[#6]:[#6](:[#6]:[#6]:3)-[#17,#6,#8,#9,#35]):[#6]:[#6]:2:[#7]:[#6]:[#7]:1-[#6]1:[#6]:[#6]:[#6]2:[#6](:[#6]:1):,-[#6,#7,#8]:,-[#6]:,-[#6](:,-[#7,#8]:,-2)-[#6]-[#8,#7]\n",
        "----------------\n",
        "Bioorg. Med. Chem. Lett., 22, 427, 2012\n",
        "Mean nAts 37.7, mcs nAts: 36"
       ]
      },
      {
       "output_type": "stream",
       "stream": "stdout",
       "text": [
        "\n",
        "[#6]-[#6](=[#8])-[#7]-[#6]1:[#6]:[#6]:[#6]:[#6](:[#6]:1)-[#6]1-[#6]-[#6]-[#7](-[#6]-[#6]-1)-[#6]-[#6]-[#6]-[#7]1:[#7]:[#6](-[#6]2:[#6]:[#6]:[#6]:[#6]:[#6]:2):[#6]2:[#6](:[#6]:1=[#8]):,-[#6]:,-[#6]:,-[#6]:,-[#6]:,-2\n",
        "----------------\n",
        "Bioorg. Med. Chem. Lett., 17, 2365, 2007\n",
        "Mean nAts 37.6, mcs nAts: 33\n",
        "[#8,#7]-[#7,#6]=,-[#6]-[#6,#7]-[#8,#6,#7]-[#6]1:[#6]:[#6]:[#6](:[#6]:[#6]:1)-[#6]-[#7]1-[#6]-[#6]-[#6](-[#6]-[#6]-1)-[#7]-[#6](=[#8])-[#6]1:[#6]:[#6](=[#8]):[#6]2:[#6](:[#8]:1):[#6]:[#6](:[#6]:[#6]:2)-[#9]\n",
        "----------------"
       ]
      },
      {
       "output_type": "stream",
       "stream": "stdout",
       "text": [
        "\n",
        "Bioorg. Med. Chem. Lett., 16, 1070, 2006\n",
        "Mean nAts 33.9, mcs nAts: 17"
       ]
      },
      {
       "output_type": "stream",
       "stream": "stdout",
       "text": [
        "\n",
        "[#6]-[#6]1:[#6]:[#6](-[#7]):[#7]:[#6]2:[#6]:1:[#6]:[#6](:[#6]:[#6]:2)-[#7]-[#6](=[#8])-[#6,#7]=,-[#6,#7,#8]\n",
        "----------------\n",
        "Bioorg. Med. Chem. Lett., 15, 3701, 2005\n",
        "Mean nAts 30.2, mcs nAts: 18"
       ]
      },
      {
       "output_type": "stream",
       "stream": "stdout",
       "text": [
        "\n",
        "[#6]-[#7](-[#6])-[#6]1-[#6]-[#6]-[#7](-[#6]-1)-[#6]1:[#6]:[#6]:[#6](:[#6]:[#6]:1)-[#7]-[#6](=,-[#8,#6,#7])-,=[#7,#6,#8]\n",
        "----------------\n",
        "Bioorg. Med. Chem. Lett., 15, 3696, 2005\n",
        "Mean nAts 35.2, mcs nAts: 30"
       ]
      },
      {
       "output_type": "stream",
       "stream": "stdout",
       "text": [
        "\n",
        "[#8]=[#6](-[#7]-[#6]-[#6]1(-[#6]2:[#6]:[#6]:[#6](:[#6]:[#6]:2)-[#6]2:,=[#6]:,-[#6]:,=[#6]:,-[#7,#6]:,-[#6]:,-2)-[#6]-[#6]-[#7]-[#6]-[#6]-1)-[#7,#6]-[#6]1:[#6]:[#6]:[#6]:[#6](:[#6]:1)-[#17,#6,#9]\n",
        "----------------\n",
        "Bioorg. Med. Chem., 19, 6261, 2011\n",
        "Mean nAts 31.8, mcs nAts: 27"
       ]
      },
      {
       "output_type": "stream",
       "stream": "stdout",
       "text": [
        "\n",
        "[#6,#8](-[#6]-[#6]-[#6]-[#7]1-[#6]-[#6]-[#6,#7](-[#6]-[#6]-1)-[#6]1:[#6]:[#6]:[#6]:[#6]:[#6]:1)-[#6]1:[#6]:[#6]:[#6]2:[#6](:[#6]:1)-[#6]-[#6,#7]-[#7,#6]-[#6]-[#6]-2\n",
        "-*-*-*-*-*-*-*-*-*-*-*-*-*-*-*-*-*-*-*-*-*-*-*-*-*-*-*-*"
       ]
      },
      {
       "output_type": "stream",
       "stream": "stdout",
       "text": [
        "\n",
        "\t Tyrosine-protein kinase SRC Homo sapiens\n",
        "\t\t 8 papers\n",
        "----------------\n",
        "Bioorg. Med. Chem. Lett., 16, 3993, 2006\n",
        "Mean nAts 37.9, mcs nAts: 32"
       ]
      },
      {
       "output_type": "stream",
       "stream": "stdout",
       "text": [
        "\n",
        "[#6]-[#8]-[#6]1:[#6]:[#6](-[#7]-[#6]2:[#6](-[#6]#[#7]):[#6]:[#7]:[#6]3:[#6]:2:[#6]:[#6](:[#6](:[#6]:3)-[#6]#[#6]-[#6]2:[#6,#7]:[#7,#6]:[#6]:[#6]:[#6,#7]:2)-[#8]-[#6]):[#6]:[#6]:[#6]:1-[#17,#8]\n",
        "----------------"
       ]
      },
      {
       "output_type": "stream",
       "stream": "stdout",
       "text": [
        "\n",
        "Bioorg. Med. Chem. Lett., 15, 1743, 2005\n",
        "Mean nAts 32.2, mcs nAts: 22"
       ]
      },
      {
       "output_type": "stream",
       "stream": "stdout",
       "text": [
        "\n",
        "[#7]#[#6]-[#6]1:[#6]:[#7]:[#6]2:[#6](:[#6]:1-[#7]-[#6]1:[#6]:[#6]:[#6]:[#6]:[#6]:1):[#6]:[#6]:[#6](:[#6]:2)-[#6,#8]=,-,#[#6]-[#6]\n",
        "----------------\n",
        "Bioorg. Med. Chem. Lett., 17, 602, 2007\n",
        "Mean nAts 35.7, mcs nAts: 26"
       ]
      },
      {
       "output_type": "stream",
       "stream": "stdout",
       "text": [
        "\n",
        "[#6]1:[#6]:[#6](-[#6]2:[#6]:[#6]:[#7,#6]:[#6]:[#7,#6]:2):[#6]:[#6]2:[#6]:1:[#7]:[#6](:[#7]:[#7]:2)-[#7]-[#6]1:[#6]:[#6]:[#6](:[#6]:[#6]:1)-[#8,#6,#7,#16]-[#6,#7]-[#6,#7]\n",
        "----------------\n",
        "Bioorg. Med. Chem. Lett., 15, 5446, 2005\n",
        "Mean nAts 35.1, mcs nAts: 26"
       ]
      },
      {
       "output_type": "stream",
       "stream": "stdout",
       "text": [
        "\n",
        "[#6]-[#8]-[#6]1:[#6,#7]:[#6,#7]:[#6](:[#6](:[#7,#6]:1)-[#7]-[#6]1:[#7]:[#6]:[#7]:[#6]2:[#6]:1:[#6](:[#6]:[#6](:[#6]:2)-[#8]-[#6]-[#6]-[#7,#6])-[#8]-[#6])-[#17]\n",
        "----------------\n",
        "Bioorg. Med. Chem., 16, 5890, 2008\n",
        "Mean nAts 35.0, mcs nAts: 27"
       ]
      },
      {
       "output_type": "stream",
       "stream": "stdout",
       "text": [
        "\n",
        "[#8,#6]-[#6]1:[#6]:[#6]2:[#6](:[#6]:[#6]:1-[#8]-[#6]-[#6]-[#7,#6]):[#7]:[#6]:[#6](:[#6]:2-[#7]-[#6]1:[#7]:[#6]2:[#6]:[#6]:[#6]:[#6]:[#6]:2:[#16,#7]:1)-[#6]#[#7]\n",
        "----------------\n",
        "Bioorg. Med. Chem. Lett., 15, 4681, 2005\n",
        "Mean nAts 34.9, mcs nAts: 23"
       ]
      },
      {
       "output_type": "stream",
       "stream": "stdout",
       "text": [
        "\n",
        "[#6]-[#8]-[#6]1:[#6]:[#6](-[#7]-[#6]2:[#6]3:[#16]:[#6](-[#6]):[#6]:[#6]:3:[#7]:[#6]:[#6]:2-[#6]#[#7]):[#6](:[#6]:[#6]:1-[#17])-[#17]\n",
        "----------------\n",
        "Bioorg. Med. Chem. Lett., 16, 5546, 2006\n",
        "Mean nAts 30.1, mcs nAts: 25"
       ]
      },
      {
       "output_type": "stream",
       "stream": "stdout",
       "text": [
        "\n",
        "[#6]-[#6]1:[#6]:[#6]:[#6]:[#6](:[#6]:1-[#6]1:[#6]:[#6]:[#6]2:[#6](:[#6]:1):[#7]:[#7]:[#6](:[#7]:2)-[#7]-[#6]1:[#6]:[#6]:[#6,#7]:[#6]:[#6]:1)-[#6]\n",
        "----------------\n",
        "J. Med. Chem., 48, 5909, 2005\n",
        "Mean nAts 38.2, mcs nAts: 30"
       ]
      },
      {
       "output_type": "stream",
       "stream": "stdout",
       "text": [
        "\n",
        "[#6]-[#8]-[#6]1:[#6]:[#6](-[#7]-[#6]2:[#6](-[#6]#[#7]):[#6]:[#7]:[#6]3:[#6]:2:[#6]:[#6]2:[#6]:[#6](:[#6](:[#6]:[#6]:2:[#6]:3)-[#8]-[#6])-[#8]-[#6]):[#6]:[#6]:[#6]:1-[#17,#6,#8,#9]\n",
        "-*-*-*-*-*-*-*-*-*-*-*-*-*-*-*-*-*-*-*-*-*-*-*-*-*-*-*-*"
       ]
      },
      {
       "output_type": "stream",
       "stream": "stdout",
       "text": [
        "\n",
        "\t Dopamine D2 receptor Homo sapiens\n",
        "\t\t 21 papers\n",
        "----------------\n",
        "Bioorg. Med. Chem., 16, 7291, 2008\n",
        "Mean nAts 26.1, mcs nAts: 10"
       ]
      },
      {
       "output_type": "stream",
       "stream": "stdout",
       "text": [
        "\n",
        "[#6](-[#6]-[#6,#8])-[#6,#7]1:,-[#6]:,-[#6]:,-[#6,#7](:,-[#6]:,-[#6]:,-1)-[#9,#6]\n",
        "----------------\n",
        "Bioorg. Med. Chem. Lett., 21, 2621, 2011\n",
        "Mean nAts 31.3, mcs nAts: 28"
       ]
      },
      {
       "output_type": "stream",
       "stream": "stdout",
       "text": [
        "\n",
        "[#8]=[#6]1-,:[#6]-,:[#6]-,:[#6]2:[#6](-,:[#7]-,:1):[#7,#6]:[#6](:[#6,#7]:[#6]:2)-[#8,#6]-[#6]-[#6]-[#6]-[#6]-[#7]1-[#6]-[#6]-[#7](-[#6]-[#6]-1)-[#6]1:[#6]:[#6]:[#6]:[#6]:[#6]:1\n",
        "----------------\n",
        "Bioorg. Med. Chem. Lett., 20, 2983, 2010\n",
        "Mean nAts 32.4, mcs nAts: 13"
       ]
      },
      {
       "output_type": "stream",
       "stream": "stdout",
       "text": [
        "\n",
        "[#6]-[#8,#6]-[#6]1:[#6]:[#6]:[#6]2:[#6](:[#6]:1)-[#7]-[#6](=[#8])-[#6]-[#6]-2\n",
        "----------------\n",
        "Bioorg. Med. Chem., 19, 3502, 2011\n",
        "Mean nAts 31.0, mcs nAts: 17"
       ]
      },
      {
       "output_type": "stream",
       "stream": "stdout",
       "text": [
        "\n",
        "[#6]1:[#6]:[#6]:[#6]:[#6]:[#6]:1-[#7,#6]1-[#6]-[#6]-[#7](-[#6]-[#6]-1)-[#6]-[#6]-[#6]-[#8,#6]-[#6,#8]\n",
        "----------------\n",
        "Bioorg. Med. Chem., 17, 4448, 2009\n",
        "Mean nAts 27.1, mcs nAts: 23"
       ]
      },
      {
       "output_type": "stream",
       "stream": "stdout",
       "text": [
        "\n",
        "[#6]1:[#7]:[#6]2:[#6,#7]:[#6,#7](-[#6,#7]):[#7,#6]:[#6,#7]:[#7,#6]:2:[#6]:1-[#6]-[#7]1-[#6]-[#6]-[#7](-[#6]-[#6]-1)-[#6]1:[#6]:[#6]:[#6]:[#6]:[#7,#6]:1\n",
        "----------------\n",
        "J. Med. Chem., 50, 4135, 2007\n",
        "Mean nAts 34.1, mcs nAts: 26"
       ]
      },
      {
       "output_type": "stream",
       "stream": "stdout",
       "text": [
        "\n",
        "[#8,#17]-[#6]1:[#6]:[#6]:[#6]:[#6]:[#6]:1-[#7]1-[#6]-[#6]-[#7](-[#6]-[#6]-1)-[#6]-[#6]=,-[#6]-[#6]-[#7]-[#6](=[#8])-[#6]1:[#6]:[#6]:[#6]:[#6]:[#6]:1\n",
        "----------------\n",
        "J. Med. Chem., 49, 3938, 2006\n",
        "Mean nAts 26.3, mcs nAts: 23"
       ]
      },
      {
       "output_type": "stream",
       "stream": "stdout",
       "text": [
        "\n",
        "[#6]1:[#6]:[#6]:[#6](:[#6]:[#6]:1)-[#7]1-[#6]-[#6]-[#7](-[#6]-[#6]-1)-[#6]-[#6](:[#6,#7]:[#7,#6]1:[#7,#6]:[#6](-[#17,#6,#7,#35,#53]):[#6]:[#6]:[#6]:1):[#7,#6]\n",
        "----------------\n",
        "Bioorg. Med. Chem. Lett., 16, 1934, 2006\n",
        "Mean nAts 34.0, mcs nAts: 25"
       ]
      },
      {
       "output_type": "stream",
       "stream": "stdout",
       "text": [
        "\n",
        "[#7,#6]-[#6]-[#6]-[#6]-[#6]-[#7]1-[#6]-[#6]-[#7](-[#6]-[#6]-1)-[#6]1:[#6,#7]:[#6](-[#6](-[#9,#6])(-[#9,#6])-[#9,#6]):[#7]:[#6](:[#7,#6]:1)-[#6](-[#6,#9])(-[#6,#9])-[#6,#9]\n",
        "----------------\n",
        "Bioorg. Med. Chem. Lett., 17, 3930, 2007\n",
        "Mean nAts 36.4, mcs nAts: 31"
       ]
      },
      {
       "output_type": "stream",
       "stream": "stdout",
       "text": [
        "\n",
        "[#6]-[#8]-[#6]1:[#6]:[#6]:[#6]:[#6]:[#6]:1-[#6]1-[#6]-[#6]-[#7](-[#6]-[#6]-1)-[#6]1-[#6]-[#6]-[#6](-[#6]-[#6]-1)-[#7]-[#16](=[#8])(=[#8])-[#6]1:[#6]:[#6]:[#6]:[#6](:[#6]:1)-[#9,#8,#17]\n",
        "----------------\n",
        "J. Med. Chem., 51, 101, 2008\n",
        "Mean nAts 28.4, mcs nAts: 18"
       ]
      },
      {
       "output_type": "stream",
       "stream": "stdout",
       "text": [
        "\n",
        "[#6]-[#6,#7]-[#6,#7]-[#7,#6]-[#6]-[#6]-[#7]1-[#6]-[#6]-[#7](-[#6]-[#6]-1)-[#6]1:[#6]:[#6]:[#6]:[#6]:[#6]:1\n",
        "----------------\n",
        "Bioorg. Med. Chem. Lett., 17, 3292, 2007\n",
        "Mean nAts 34.7, mcs nAts: 32"
       ]
      },
      {
       "output_type": "stream",
       "stream": "stdout",
       "text": [
        "\n",
        "[#6]-[#6](-[#6])-[#8]-[#6]1:[#6]:[#6]:[#6]:[#6]:[#6]:1-[#7]1-[#6]-[#6]-[#7](-[#6]-[#6]-1)-[#6]1-[#6]-[#6]-[#6](-[#6]-[#6]-1)-[#7]-[#16](=[#8])(=[#8])-[#6]1:[#6]:[#6,#7]:[#6]:[#7,#6]:[#6]:1\n",
        "----------------\n",
        "Bioorg. Med. Chem. Lett., 12, 619, 2002\n",
        "Mean nAts 32.7, mcs nAts: 18"
       ]
      },
      {
       "output_type": "stream",
       "stream": "stdout",
       "text": [
        "\n",
        "[#6,#7]-,#[#6]-[#6]-[#7](-[#6]-[#6]-[#7,#6])-[#6]1-[#6]-[#6]-[#6]2:[#6](-[#6]-1):[#6]:[#6](:[#6]:[#6]:2)-[#8]\n",
        "----------------\n",
        "Bioorg. Med. Chem. Lett., 16, 4543, 2006\n",
        "Mean nAts 34.1, mcs nAts: 27"
       ]
      },
      {
       "output_type": "stream",
       "stream": "stdout",
       "text": [
        "\n",
        "[#6,#8]-,=[#6](=,-[#8,#6])-[#7]-[#7]1-[#6]2:[#6]:[#6]:[#6](:[#6]:[#6]:2-[#7]=[#6](-[#6]2:[#6]-1:[#6]:[#6]:[#6]:[#6]:2)-[#7]1-[#6]-[#6]-[#7](-[#6]-[#6]-1)-[#6])-[#17]\n",
        "----------------\n",
        "J. Med. Chem., 49, 5093, 2006\n",
        "Mean nAts 25.4, mcs nAts: 24"
       ]
      },
      {
       "output_type": "stream",
       "stream": "stdout",
       "text": [
        "\n",
        "[#6]-[#8]-[#7]=[#6](-[#6]-[#6]-[#7]1-[#6]-[#6]-[#7,#6](-[#6]-[#6]-1)-[#6]1:[#6]:[#6]:[#6]:[#6]:[#7]:1)-[#6]1:[#6]:[#6]:[#6]:[#6,#7]:[#6]:1\n",
        "----------------\n",
        "Bioorg. Med. Chem., 18, 5291, 2010\n",
        "Mean nAts 26.1, mcs nAts: 17"
       ]
      },
      {
       "output_type": "stream",
       "stream": "stdout",
       "text": [
        "\n",
        "[#8,#6,#7]-[#6]1-[#6]-[#6]-[#7](-[#6]-[#6]-1)-[#6]-[#6]1:[#6]:[#6,#7,#8,#16]:[#6](:[#16,#6,#8]:1):[#6,#7]:[#6]:[#6]:[#6]\n",
        "----------------\n",
        "Bioorg. Med. Chem. Lett., 16, 490, 2006\n",
        "Mean nAts 34.0, mcs nAts: 32"
       ]
      },
      {
       "output_type": "stream",
       "stream": "stdout",
       "text": [
        "\n",
        "[#6,#9]-[#6](-[#6,#9])(-[#6,#9])-[#6]1:[#7,#6]:[#6](-[#7]2-[#6]-[#6]-[#7](-[#6]-[#6]-2)-[#6]-[#6]-[#6]-[#6]-[#7]2:[#6]:[#6]:[#6](:[#7]:[#6]:2=[#8])=,-[#8,#6,#7]):[#6,#7]:[#6](:[#7]:1)-[#6](-[#9,#6])(-[#9,#6])-[#9,#6]\n",
        "----------------\n",
        "J. Med. Chem., 51, 6095, 2008\n",
        "Mean nAts 27.0, mcs nAts: 25"
       ]
      },
      {
       "output_type": "stream",
       "stream": "stdout",
       "text": [
        "\n",
        "[#8]-[#6]1(-[#6]2:[#6]:[#6]:[#6]:[#6]:[#6]:2)-[#6]-[#6]2-[#6]-[#6]-[#6](-[#6]-1)-[#7]-2-[#6]-[#6]1:[#6,#7]:[#8,#7,#16]:[#6]2:[#6]:1:[#6]:[#6]:[#6]:[#6]:2\n",
        "----------------\n",
        "Bioorg. Med. Chem. Lett., 14, 4847, 2004\n",
        "Mean nAts 27.3, mcs nAts: 21"
       ]
      },
      {
       "output_type": "stream",
       "stream": "stdout",
       "text": [
        "\n",
        "[#8]=[#6](-[#7]-[#6]1-[#6]-[#6]-[#7](-[#6]-1)-[#6]-[#6]1:[#6]:[#6]:[#6]:[#6]:[#6]:1)-[#6]1:[#6]:[#6]:[#6]:[#6]:[#6]:1\n",
        "----------------\n",
        "Bioorg. Med. Chem., 15, 7258, 2007\n",
        "Mean nAts 34.8, mcs nAts: 11"
       ]
      },
      {
       "output_type": "stream",
       "stream": "stdout",
       "text": [
        "\n",
        "[#6](-[#6,#7]=,-[#6]-[#6,#7]1:,-[#6]:,-[#6]:,-[#6,#7]:,-[#6]:,-[#6]:,-1)-[#7,#6]-[#6,#7]\n",
        "----------------\n",
        "Bioorg. Med. Chem. Lett., 16, 658, 2006\n",
        "Mean nAts 36.1, mcs nAts: 25"
       ]
      },
      {
       "output_type": "stream",
       "stream": "stdout",
       "text": [
        "\n",
        "[#6,#9]-[#6](-[#6,#9])(-[#6,#9])-[#6]1:[#7,#6]:[#6](-[#7]2-[#6]-[#6]-[#7](-[#6]-[#6]-2)-[#6]-[#6]-,=[#6]-[#6]-[#7]):[#6,#7]:[#6](:[#7]:1)-[#6](-[#9,#6])(-[#9,#6])-[#9,#6]\n",
        "----------------\n",
        "Bioorg. Med. Chem., 20, 1291, 2012\n",
        "Mean nAts 23.9, mcs nAts: 23\n",
        "[#9]-[#6]1:[#6]:[#6]:[#6](:[#6]:[#6]:1)-[#8,#6,#16]-[#6]-[#6]-[#6]-[#7]1-[#6]-[#6]-[#7,#6](-[#6]-[#6]-1)-[#6]1:[#7,#6]:[#6]:[#6]:[#6]:[#7,#6]:1\n",
        "-*-*-*-*-*-*-*-*-*-*-*-*-*-*-*-*-*-*-*-*-*-*-*-*-*-*-*-*"
       ]
      },
      {
       "output_type": "stream",
       "stream": "stdout",
       "text": [
        "\n",
        "\t Matrix metalloproteinase-2 Homo sapiens\n",
        "\t\t 10 papers\n",
        "----------------\n",
        "Bioorg. Med. Chem. Lett., 21, 2820, 2011\n",
        "Mean nAts 37.8, mcs nAts: 28"
       ]
      },
      {
       "output_type": "stream",
       "stream": "stdout",
       "text": [
        "\n",
        "[#6,#7]1:[#7,#6]:[#7,#6]:[#7,#6,#8]:[#7,#6]:1-[#6]-[#6]-[#6]-[#8]-[#6]1:[#6]:[#6]:[#6](:[#6]:[#6]:1)-[#16](=[#8])(=[#8])-[#6]1(-[#6](=[#8])-[#7]-[#8])-[#6]-[#6]-[#8,#7]-[#6]-[#6]-1\n",
        "----------------\n",
        "Bioorg. Med. Chem. Lett., 19, 3445, 2009\n",
        "Mean nAts 36.1, mcs nAts: 34"
       ]
      },
      {
       "output_type": "stream",
       "stream": "stdout",
       "text": [
        "\n",
        "[#6]-[#6]1:[#6]:[#6](-[#6]-[#8]-[#6]2:[#6]:[#6]:[#6](:[#6]:[#6]:2)-[#16](=[#8])(=[#8])-[#6]2(-[#6](=[#8])-[#7]-[#8])-[#6]-[#6]-[#7](-[#6]-[#6]-2)-[#6,#16]=,-[#8,#6,#7]):[#6]2:[#6](:[#7]:1):[#6]:[#6]:[#6]:[#6]:2\n",
        "----------------\n",
        "Bioorg. Med. Chem. Lett., 11, 1009, 2001\n",
        "Mean nAts 27.8, mcs nAts: 12"
       ]
      },
      {
       "output_type": "stream",
       "stream": "stdout",
       "text": [
        "\n",
        "[#6]-[#8]-[#6]1:[#6]:[#6]:[#6](:[#6]:[#6]:1)-[#16](=,-[#8,#7])(=[#8])-,=[#7,#8]\n",
        "----------------\n",
        "Bioorg. Med. Chem., 15, 6170, 2007\n",
        "Mean nAts 30.8, mcs nAts: 27"
       ]
      },
      {
       "output_type": "stream",
       "stream": "stdout",
       "text": [
        "\n",
        "[#6]-[#6]#[#6]-[#6]-[#7,#8]-[#6]1:[#6]:[#6]:[#6](:[#6]:[#6]:1)-[#16](=[#8])(=[#8])-[#6]-[#6]1(-[#6](=[#8])-[#7]-[#8])-[#6]-[#6]-[#7](-[#6]-[#6]-1)-[#6,#16]=,-[#8,#6]\n",
        "----------------\n",
        "Bioorg. Med. Chem. Lett., 15, 4961, 2005\n",
        "Mean nAts 38.7, mcs nAts: 35"
       ]
      },
      {
       "output_type": "stream",
       "stream": "stdout",
       "text": [
        "\n",
        "[#6,#8]-,=[#6](-[#6,#8])-[#6](-[#7]-[#16](=[#8])(=[#8])-[#6]1:[#6]:[#6]:[#6](:[#6]:[#6]:1)-[#6]1:[#6]:[#6]:[#6](:[#6]:[#6]:1)-[#7]-[#6](=[#8])-[#6]1:[#6,#8]:[#6]2:[#6]:[#6]:[#6]:[#6]:[#6]:2:[#8,#6]:1)-[#6](=,-[#8,#6])-[#8,#6]\n",
        "----------------\n",
        "Bioorg. Med. Chem. Lett., 16, 3096, 2006\n",
        "Mean nAts 34.1, mcs nAts: 25"
       ]
      },
      {
       "output_type": "stream",
       "stream": "stdout",
       "text": [
        "\n",
        "[#8]=[#6](-[#8,#7])-[#6](-[#6]-[#6]-[#7]1-[#6](=[#8])-[#6]2:[#6]:[#6]:[#6]:[#6]:[#6]:2-[#6]-1=[#8])-[#16]-[#6]1:[#6]:[#6]:[#6](:[#6]:[#6]:1)-[#6,#7,#8]\n",
        "----------------\n",
        "J. Med. Chem., 45, 4954, 2002\n",
        "Mean nAts 26.4, mcs nAts: 22\n",
        "[#6]-[#6]-[#6,#8]-[#6]1:[#6]:[#6]:[#6](:[#6]:[#6]:1)-[#6]1(-[#6])-[#6]-[#6]-[#7](-[#6]-1=[#8])-[#6](-[#6])-[#6](=[#8])-[#7]-[#8]\n",
        "----------------\n",
        "Bioorg. Med. Chem. Lett., 8, 2087, 1998\n",
        "Mean nAts 33.5, mcs nAts: 6"
       ]
      },
      {
       "output_type": "stream",
       "stream": "stdout",
       "text": [
        "\n",
        "[#6]1:[#6]:[#6]:[#6]:[#6]:[#6,#7]:1\n",
        "----------------\n",
        "Bioorg. Med. Chem. Lett., 21, 1376, 2011\n",
        "Mean nAts 37.3, mcs nAts: 35\n",
        "[#6,#7]1:[#6]:[#6]:[#6](:[#6](:[#6,#7]:1)-[#6]-[#6]-[#6]1-[#6]-[#6]-[#7](-[#6]-[#6]-1)-[#16](=[#8])(=[#8])-[#6]-[#6](-[#6])(-[#6]-[#6](-[#6])-[#6]1:[#7]:[#6]:[#6](:[#6]:[#7]:1)-[#9])-[#7](-[#8])-[#6]=[#8])-[#6,#17,#35]\n",
        "----------------\n",
        "Bioorg. Med. Chem., 15, 791, 2007\n",
        "Mean nAts 25.6, mcs nAts: 23"
       ]
      },
      {
       "output_type": "stream",
       "stream": "stdout",
       "text": [
        "\n",
        "[#6]-[#6](-[#6])-[#6](-[#7]-[#16](=[#8])(=[#8])-[#6]1:[#6]:[#6]:[#6](:[#6]:[#6]:1)-[#6]1:[#6]:[#6]:[#6]:[#6]:[#6]:1)-[#6,#15](=[#8])-[#8]\n",
        "-*-*-*-*-*-*-*-*-*-*-*-*-*-*-*-*-*-*-*-*-*-*-*-*-*-*-*-*\n",
        "\t MAP kinase p38 alpha Homo sapiens\n",
        "\t\t 18 papers"
       ]
      },
      {
       "output_type": "stream",
       "stream": "stdout",
       "text": [
        "\n",
        "----------------\n",
        "J. Med. Chem., 53, 2973, 2010\n",
        "Mean nAts 31.9, mcs nAts: 29"
       ]
      },
      {
       "output_type": "stream",
       "stream": "stdout",
       "text": [
        "\n",
        "[#6,#17]-[#6]1:[#6]:[#6]:[#6](:[#6]:[#6]:1-[#6]1:[#6]:[#6]2:[#6]:[#7]:[#7](:[#6]:2:[#7](:[#6]:1=[#8])-[#6])-[#6]1:[#6,#7]:[#6]:[#6]:[#6]:[#6]:1-[#6,#9,#17])-[#6](=[#8])-[#7]-[#6]\n",
        "----------------\n",
        "Bioorg. Med. Chem. Lett., 16, 64, 2006\n",
        "Mean nAts 37.4, mcs nAts: 32"
       ]
      },
      {
       "output_type": "stream",
       "stream": "stdout",
       "text": [
        "\n",
        "[#7]1-[#6]-[#6]-,=[#6](-[#6]-[#6]-1)-[#6]1:[#6]:[#6]2:[#6](:[#6](:[#7,#6]:1)-[#6]1:[#6]:[#6]:[#6]:[#6]:[#6]:1-[#17,#9]):[#6]:[#6]:[#6](:[#7]:2-[#6]1:[#6](-[#17,#9]):[#6]:[#6]:[#6]:[#6]:1-[#17,#9])=[#8]\n",
        "----------------\n",
        "Bioorg. Med. Chem. Lett., 15, 5095, 2005\n",
        "Mean nAts 27.6, mcs nAts: 23\n",
        "[#17,#8]-[#6]1:[#6]:[#6]:[#6]:[#6]:[#6]:1-[#7]-[#6]1:[#6]:[#6]:[#6]2:[#6](:[#6]:1):[#7]:[#7]:[#6]:2-[#6]1:[#6]:[#6]:[#6]:[#6]:[#6]:1\n",
        "----------------"
       ]
      },
      {
       "output_type": "stream",
       "stream": "stdout",
       "text": [
        "\n",
        "Bioorg. Med. Chem. Lett., 19, 6872, 2009\n",
        "Mean nAts 31.2, mcs nAts: 27"
       ]
      },
      {
       "output_type": "stream",
       "stream": "stdout",
       "text": [
        "\n",
        "[#6]-[#7]1:[#6](=[#8]):[#6](-[#6]2:[#6](-[#17]):[#6]:[#6]:[#6]:[#6]:2-[#17]):[#6]:[#6]2:[#6]:1:[#7]:[#6](:[#7]:[#6]:2)-[#7]-[#6]1:[#6]:[#6]:[#6]:[#6]:[#6]:1\n",
        "----------------\n",
        "Bioorg. Med. Chem., 18, 292, 2010\n",
        "Mean nAts 39.6, mcs nAts: 38"
       ]
      },
      {
       "output_type": "stream",
       "stream": "stdout",
       "text": [
        "\n",
        "[#6]-[#6]1:[#6]:[#6]:[#6](:[#6]:[#6]:1-[#7]-[#6]1:[#6]:[#6]:[#6]2:[#6](:[#6]:1):[#6](:[#7](:[#6]:[#7]:2)-[#6])=[#8])-[#7]-[#6](=[#8])-[#6]1:[#7]:[#6](-[#6](-[#9,#6])(-[#9,#6])-[#9,#6]):[#7]:[#6]:1-[#6]1:[#6]:[#6]:[#6]:[#6]:[#6]:1\n",
        "----------------\n",
        "Eur. J. Med. Chem., 48, 1, 2012\n",
        "Mean nAts 34.8, mcs nAts: 21"
       ]
      },
      {
       "output_type": "stream",
       "stream": "stdout",
       "text": [
        "\n",
        "[#6]1:[#6]:[#6]:[#6](:[#6]:[#6]:1)-[#7]1:[#7]:[#6](-[#6]):[#6]:[#6]:1-[#7]-[#6](=[#8])-[#7]-[#6]1:[#7]:[#6]:[#6]:[#16]:1\n",
        "----------------\n",
        "Bioorg. Med. Chem. Lett., 18, 2652, 2008\n",
        "Mean nAts 29.7, mcs nAts: 27"
       ]
      },
      {
       "output_type": "stream",
       "stream": "stdout",
       "text": [
        "\n",
        "[#6,#8]-[#7]-[#6](=[#8])-[#6]1:[#6]:[#6]:[#6](:[#6](:[#6]:1)-[#7]-[#6]1:[#7]:[#6]:[#7]:[#6]2:[#6]:1:[#6]:[#7]:[#7]:2-[#6]1:[#6]:[#6]:[#6]:[#6]:[#7,#6]:1)-[#6]\n",
        "----------------"
       ]
      },
      {
       "output_type": "stream",
       "stream": "stdout",
       "text": [
        "\n",
        "J. Med. Chem., 46, 4669, 2003\n",
        "Mean nAts 33.6, mcs nAts: 21"
       ]
      },
      {
       "output_type": "stream",
       "stream": "stdout",
       "text": [
        "\n",
        "[#6]1:[#6]:[#6]:[#6](:[#6]:[#6]:1)-[#7]1:[#7]:[#6]:[#6]:[#6]:1-[#7]-[#6](=[#8])-[#7]-[#6]1:[#6]:[#6]:[#6]:[#6]:[#6]:1\n",
        "----------------\n",
        "Bioorg. Med. Chem. Lett., 21, 5270, 2011\n",
        "Mean nAts 28.6, mcs nAts: 23"
       ]
      },
      {
       "output_type": "stream",
       "stream": "stdout",
       "text": [
        "\n",
        "[#6]-[#6]1:[#6,#7]:[#6]:[#6](:[#6]:[#6]:1-[#6]1:[#6,#7]:[#7,#6]:[#6]2:[#6](:[#6,#7]:1)-[#7]-[#6](-[#6]-2)=[#8])-[#6](=[#8])-[#7]-[#6]1-[#6]-[#6]-1\n",
        "----------------\n",
        "Bioorg. Med. Chem. Lett., 14, 5383, 2004\n",
        "Mean nAts 35.5, mcs nAts: 28"
       ]
      },
      {
       "output_type": "stream",
       "stream": "stdout",
       "text": [
        "\n",
        "[#6]-[#8]-[#6]1:[#6]:[#6]:[#6](:[#6]:[#6]:1)-[#6](=[#8])-[#7]-[#6]1:[#6]:[#6](-[#7]-[#6](=[#8])-[#6]2:[#6]:[#6]:[#6,#7]:[#6](:[#6]:2)-[#7,#6]):[#6]:[#6]:[#6]:1-[#6,#9,#17,#35]\n",
        "----------------\n",
        "Bioorg. Med. Chem. Lett., 14, 5389, 2004\n",
        "Mean nAts 35.1, mcs nAts: 24"
       ]
      },
      {
       "output_type": "stream",
       "stream": "stdout",
       "text": [
        "\n",
        "[#6]-[#8,#7,#16]-[#6](:[#6,#7]:[#6]:[#6,#7]:[#6]-[#7]-[#6]1:[#6]:[#6]:[#6]:[#6](:[#6]:1)-[#7]-[#6](=[#8])-[#6]1:[#6]:[#6]:[#6,#7]:[#6]:[#6]:1):[#6,#7]\n",
        "----------------\n",
        "Bioorg. Med. Chem. Lett., 21, 4633, 2011\n",
        "Mean nAts 32.5, mcs nAts: 25"
       ]
      },
      {
       "output_type": "stream",
       "stream": "stdout",
       "text": [
        "\n",
        "[#6,#8]-,=[#6](=,-[#8,#6])-[#6]1:[#6]:[#7]2:[#7]:[#6]:[#7]:[#6](:[#6]:2:[#6]:1-[#6])-[#7]-[#6]1:[#6]:[#6](-[#6](=[#8])-[#7]-[#6]):[#6]:[#6]:[#6]:1-[#6]\n",
        "----------------\n",
        "Bioorg. Med. Chem. Lett., 20, 6886, 2010\n",
        "Mean nAts 30.2, mcs nAts: 26\n",
        "[#6]-[#7]-[#6](=[#8])-[#6]1:[#6]:[#6]:[#6](:[#6](:[#6]:1)-[#7]-[#6](=[#8])-[#6]1:[#6]:[#7]:[#7](:[#6]:1-[#7])-[#6]1:[#6]:[#6]:[#6]:[#6]:[#6,#7]:1)-[#6]\n",
        "----------------"
       ]
      },
      {
       "output_type": "stream",
       "stream": "stdout",
       "text": [
        "\n",
        "Bioorg. Med. Chem. Lett., 21, 4130, 2011\n",
        "Mean nAts 27.2, mcs nAts: 20"
       ]
      },
      {
       "output_type": "stream",
       "stream": "stdout",
       "text": [
        "\n",
        "[#6,#17]-[#6]1:[#6]:[#6]:[#6](:[#6]:[#6]:1-[#6]1:[#6]:[#6]:[#6]2:[#6](:[#6]:1)-[#7]-[#6](-[#6]-2)=[#8])-[#6](-,=[#7,#8])=,-[#8,#7]\n",
        "----------------\n",
        "Bioorg. Med. Chem. Lett., 17, 5019, 2007\n",
        "Mean nAts 31.4, mcs nAts: 24"
       ]
      },
      {
       "output_type": "stream",
       "stream": "stdout",
       "text": [
        "\n",
        "[#8]=[#6](-[#6]1:[#6]:[#6,#7]:[#6]:[#6]:[#6]:1)-[#7]1-[#6]-[#6]-[#6,#7]2:[#6](-[#6]-1):[#6]:[#7]:[#7,#6]:2-[#6]1:[#6]:[#6]:[#6]:[#6]:[#6]:1-[#17,#9]\n",
        "----------------\n",
        "Bioorg. Med. Chem. Lett., 19, 4724, 2009\n",
        "Mean nAts 32.4, mcs nAts: 29"
       ]
      },
      {
       "output_type": "stream",
       "stream": "stdout",
       "text": [
        "\n",
        "[#8,#6]-[#7]-[#6](=[#8])-[#6]1:[#6]:[#6]:[#6](:[#6](:[#6]:1)-[#7,#8]-[#6]1:[#6]:[#6](=[#8]):[#7](:[#6]2:[#6]:1:[#6]:[#7]:[#7]:2-[#6]1:[#6]:[#6]:[#6]:[#6]:[#6]:1)-[#6])-[#6,#9,#17]\n",
        "----------------\n",
        "Bioorg. Med. Chem. Lett., 18, 4433, 2008\n",
        "Mean nAts 33.1, mcs nAts: 25"
       ]
      },
      {
       "output_type": "stream",
       "stream": "stdout",
       "text": [
        "\n",
        "[#6]-[#6]1:[#6]:[#6]:[#6](:[#6]:[#6]:1-[#6]1:[#6]:[#6]:[#6](:[#6]:[#6]:1)-[#6](=[#8])-[#7]-[#6])-[#6,#7]-[#7,#6]-[#6]1:[#6]:[#6]:[#6,#7]:[#6]:[#6]:1\n",
        "----------------\n",
        "J. Med. Chem., 51, 6280, 2008\n",
        "Mean nAts 28.9, mcs nAts: 23"
       ]
      },
      {
       "output_type": "stream",
       "stream": "stdout",
       "text": [
        "\n",
        "[#6]-[#7]-[#6]1:[#7]:[#8]:[#6]2:[#6]:1:[#6]:[#6]:[#6](:[#6]:2-[#6]1:[#6]:[#6]:[#6]2:[#6](:[#6]:1):[#6]:[#7]:[#7]:[#6]:2-[#6,#7,#8])-[#6,#17]\n",
        "-*-*-*-*-*-*-*-*-*-*-*-*-*-*-*-*-*-*-*-*-*-*-*-*-*-*-*-*"
       ]
      },
      {
       "output_type": "stream",
       "stream": "stdout",
       "text": [
        "\n",
        "\t Carbonic anhydrase I Homo sapiens\n",
        "\t\t 33 papers\n",
        "----------------\n",
        "Bioorg. Med. Chem. Lett., 16, 4846, 2006\n",
        "Mean nAts 19.2, mcs nAts: 8\n",
        "[#7,#6,#8]-[#16,#6,#8]-[#6]1:[#6]:[#6]:[#6]:[#6]:[#6]:1\n",
        "----------------"
       ]
      },
      {
       "output_type": "stream",
       "stream": "stdout",
       "text": [
        "\n",
        "J. Med. Chem., 52, 6421, 2009\n",
        "Mean nAts 24.7, mcs nAts: 8\n",
        "[#7,#8]-[#16,#6]-[#6]1-[#8]-[#6]-[#6]-[#6]-[#6]-1\n",
        "----------------\n",
        "Bioorg. Med. Chem., 18, 7413, 2010\n",
        "Mean nAts 22.4, mcs nAts: 12"
       ]
      },
      {
       "output_type": "stream",
       "stream": "stdout",
       "text": [
        "\n",
        "[#7]-[#16](=[#8])(=[#8])-[#6]1:[#6]:[#6]:[#6](:[#6]:[#6]:1)-[#7,#6]-[#6,#7]\n",
        "----------------\n",
        "Eur. J. Med. Chem., 45, 2396, 2010\n",
        "Mean nAts 17.4, mcs nAts: 11\n",
        "[#8,#7,#16,#17]-[#6]1:[#6]:[#6]:[#7,#6]:[#6]:[#6]:1-[#16](-[#7])(=[#8])=[#8]\n",
        "----------------\n",
        "J. Med. Chem., 50, 1651, 2007\n",
        "Mean nAts 26.2, mcs nAts: 9"
       ]
      },
      {
       "output_type": "stream",
       "stream": "stdout",
       "text": [
        "\n",
        "[#7,#6,#8]=,-[#7,#6,#8,#16]-[#6]1:,-[#6,#8]:,-[#6,#7,#8]:,-[#6,#16](:,-[#6]:,-[#6]:,-1)-,=[#16,#7,#8,#17]\n",
        "----------------\n",
        "J. Med. Chem., 52, 4063, 2009\n",
        "Mean nAts 32.4, mcs nAts: 22"
       ]
      },
      {
       "output_type": "stream",
       "stream": "stdout",
       "text": [
        "\n",
        "[#7,#8]-,=[#6](=,-[#8,#7])-[#6]1:[#7]:[#6]2:[#6]:[#6]:[#6](:[#6]:[#6]:2:[#6]:1-[#6]1:[#6]:[#6]:[#6]:[#6]:[#6]:1)-[#16](-[#7])(=[#8])=[#8]\n",
        "----------------\n",
        "Bioorg. Med. Chem. Lett., 15, 4862, 2005\n",
        "Mean nAts 20.2, mcs nAts: 9\n",
        "[#6,#7]-,=[#16,#6,#7]-[#7,#6,#8,#16]-[#6]1:[#6]:[#6]:[#6]:[#6]:[#6]:1\n",
        "----------------\n",
        "Bioorg. Med. Chem., 20, 2266, 2012\n",
        "Mean nAts 15.4, mcs nAts: 11"
       ]
      },
      {
       "output_type": "stream",
       "stream": "stdout",
       "text": [
        "\n",
        "[#8,#16]=,-[#6]1:[#6]:[#6]:[#6]2:[#6](:[#8,#6]:1):[#6,#8]:[#6]:[#6]:[#6,#8]:2\n",
        "----------------\n",
        "Bioorg. Med. Chem. Lett., 18, 4624, 2008\n",
        "Mean nAts 21.4, mcs nAts: 11"
       ]
      },
      {
       "output_type": "stream",
       "stream": "stdout",
       "text": [
        "\n",
        "[#7,#6]-[#6]1:[#6]:[#6]:[#6](:[#6]:[#6]:1)-[#16](-[#7])(=[#8])=[#8]\n",
        "----------------\n",
        "J. Med. Chem., 51, 3230, 2008\n",
        "Mean nAts 20.4, mcs nAts: 10"
       ]
      },
      {
       "output_type": "stream",
       "stream": "stdout",
       "text": [
        "\n",
        "[#6]1:[#6]:[#6]:[#6](:[#6](:[#6]:1)-[#16,#6](=,-[#8,#7])=[#8])-[#17,#7,#16]\n",
        "----------------\n",
        "J. Med. Chem., 54, 3977, 2011\n",
        "Mean nAts 19.0, mcs nAts: 14\n",
        "[#6]-[#6,#7]-[#6,#7]-[#7,#6]-[#6]1:[#6]:[#6]:[#6](:[#6]:[#6]:1)-[#16](-[#7])(=[#8])=[#8]\n",
        "----------------\n",
        "Bioorg. Med. Chem. Lett., 21, 2521, 2011\n",
        "Mean nAts 11.4, mcs nAts: 5\n",
        "[#6,#7,#8]-[#6,#7,#8]-[#6](-,=[#6,#8])-,=[#6,#8]\n",
        "----------------\n",
        "Bioorg. Med. Chem., 19, 1172, 2011\n",
        "Mean nAts 17.3, mcs nAts: 7"
       ]
      },
      {
       "output_type": "stream",
       "stream": "stdout",
       "text": [
        "\n",
        "[#7,#6,#8,#16]-[#6]1:,-[#6,#7,#8]:,-[#6]:,-[#6]:,-[#6]:,-[#6,#7]:,-1\n",
        "----------------\n",
        "J. Med. Chem., 53, 335, 2010\n",
        "Mean nAts 14.9, mcs nAts: 12\n",
        "[#6,#7,#8]-,=[#8,#6]-[#6]1:[#6]:[#6,#8]:[#6]2:[#6](:[#6]:1):[#8,#6]:[#6]:[#6]:[#6,#8]:2\n",
        "----------------\n",
        "Bioorg. Med. Chem. Lett., 21, 710, 2011\n",
        "Mean nAts 15.8, mcs nAts: 6\n",
        "[#6]1:,-[#6,#7]:,-[#6,#8]:,-[#6]:,-[#6]:,-[#6,#7]:,-1\n",
        "----------------\n",
        "Eur. J. Med. Chem., 46, 4403, 2011\n",
        "Mean nAts 18.4, mcs nAts: 8"
       ]
      },
      {
       "output_type": "stream",
       "stream": "stdout",
       "text": [
        "\n",
        "[#7,#6]-[#16,#7,#8]-[#6]1:,=[#6]:,-[#6,#7]:,-,=[#6,#7]:,-[#6,#7]:,-,=[#6,#7]:,-1\n",
        "----------------\n",
        "Bioorg. Med. Chem., 20, 1403, 2012\n",
        "Mean nAts 17.1, mcs nAts: 7"
       ]
      },
      {
       "output_type": "stream",
       "stream": "stdout",
       "text": [
        "\n",
        "[#7,#6,#8,#16]-[#6]1:,-[#6,#7,#8]:,-[#6]:,-[#6]:,-[#6]:,-[#6,#7]:,-1\n",
        "----------------\n",
        "Bioorg. Med. Chem., 15, 4336, 2007\n",
        "Mean nAts 22.6, mcs nAts: 9"
       ]
      },
      {
       "output_type": "stream",
       "stream": "stdout",
       "text": [
        "\n",
        "[#6,#7,#16]-,=[#6,#7,#8]-,=[#8,#6,#7]-[#6]1:,-[#6,#8]:,-[#6]:,-[#6,#7]:,-[#6]:,-[#6]:,-1\n",
        "----------------\n",
        "J. Med. Chem., 49, 6539, 2006\n",
        "Mean nAts 31.4, mcs nAts: 15"
       ]
      },
      {
       "output_type": "stream",
       "stream": "stdout",
       "text": [
        "\n",
        "[#6]-[#6]-[#8,#7]-[#6](=[#8])-[#6]1:[#6]:[#6]:[#6](:[#6]:[#6]:1)-[#16](-[#7])(=[#8])=[#8]\n",
        "----------------\n",
        "Bioorg. Med. Chem. Lett., 15, 5192, 2005\n",
        "Mean nAts 16.4, mcs nAts: 11\n",
        "[#7]-[#16](=[#8])(=[#8])-[#8,#6]-[#6]1:[#6]:[#6]:[#6]:[#6]:[#6]:1\n",
        "----------------\n",
        "Bioorg. Med. Chem., 16, 3933, 2008\n",
        "Mean nAts 20.6, mcs nAts: 11"
       ]
      },
      {
       "output_type": "stream",
       "stream": "stdout",
       "text": [
        "\n",
        "[#6]1:[#6]:[#6](-[#17,#16]):[#6]:[#6]:[#6]:1-[#16](-[#7])(=[#8])=[#8]\n",
        "----------------\n",
        "Bioorg. Med. Chem. Lett., 18, 6332, 2008\n",
        "Mean nAts 14.5, mcs nAts: 10\n",
        "[#7]-[#16](=[#8])(=[#8])-[#7,#6]-[#6]1:[#7]:[#7,#8]:[#6]:[#16,#6]:1\n",
        "----------------\n",
        "Bioorg. Med. Chem. Lett., 18, 3475, 2008\n",
        "Mean nAts 25.4, mcs nAts: 10"
       ]
      },
      {
       "output_type": "stream",
       "stream": "stdout",
       "text": [
        "\n",
        "[#7,#8]-,=[#16](=[#8])(=,-[#8,#7])-[#6]1:[#6]:[#6]:[#6]:[#6]:[#6]:1\n",
        "----------------\n",
        "Bioorg. Med. Chem. Lett., 21, 1334, 2011\n",
        "Mean nAts 21.9, mcs nAts: 9\n",
        "[#6,#7,#8]-,=[#6,#16](=[#8])-[#7,#6]-,=[#6]1:,-[#7,#6,#16]:,-[#7,#6,#8]:,-[#6,#7]:,-[#16,#6,#7]:,-1\n",
        "----------------"
       ]
      },
      {
       "output_type": "stream",
       "stream": "stdout",
       "text": [
        "\n",
        "J. Med. Chem., 48, 2121, 2005\n",
        "Mean nAts 23.2, mcs nAts: 11"
       ]
      },
      {
       "output_type": "stream",
       "stream": "stdout",
       "text": [
        "\n",
        "[#7,#6,#9,#16,#17]-[#6]1:[#6]:[#6]:[#6](:[#6]:[#6]:1)-[#16](-,=[#7,#8])(=[#8])=,-[#8,#7]\n",
        "----------------\n",
        "Bioorg. Med. Chem., 19, 3105, 2011\n",
        "Mean nAts 25.1, mcs nAts: 12"
       ]
      },
      {
       "output_type": "stream",
       "stream": "stdout",
       "text": [
        "\n",
        "[#7]-[#16](=[#8])(=[#8])-[#6]1:[#6]:[#6]:[#6](:[#6]:[#6]:1)-[#7,#6]-[#6,#7]\n",
        "----------------\n",
        "Bioorg. Med. Chem., 15, 5351, 2007\n",
        "Mean nAts 11.9, mcs nAts: 5\n",
        "[#7,#6]-[#6](-[#6,#7]-,=[#6,#8])-,=[#6,#7,#8]\n",
        "----------------\n",
        "Bioorg. Med. Chem. Lett., 21, 3216, 2011\n",
        "Mean nAts 26.8, mcs nAts: 10"
       ]
      },
      {
       "output_type": "stream",
       "stream": "stdout",
       "text": [
        "\n",
        "[#7,#8]-,=[#16](=[#8])(=,-[#8,#7])-[#6]1:[#6]:[#6]:[#6]:[#6]:[#6]:1\n",
        "----------------\n",
        "Bioorg. Med. Chem., 18, 7392, 2010\n",
        "Mean nAts 36.3, mcs nAts: 28"
       ]
      },
      {
       "output_type": "stream",
       "stream": "stdout",
       "text": [
        "\n",
        "[#6]-[#6]1:[#6](-[#6](=[#8])-[#7]-[#6]-[#6]-[#7,#6]):[#6]:[#6](:[#7]:1-[#6]1:[#6]:[#6]:[#6](:[#6]:[#6]:1)-[#16](-[#7])(=[#8])=[#8])-[#6]1:[#6]:[#6]:[#6]:[#6]:[#6]:1\n",
        "----------------\n",
        "Bioorg. Med. Chem., 17, 3659, 2009\n",
        "Mean nAts 25.1, mcs nAts: 24"
       ]
      },
      {
       "output_type": "stream",
       "stream": "stdout",
       "text": [
        "\n",
        "[#6]-[#8]-[#6]1:[#6]:[#6]2:[#6](:[#6]:[#6]:1-[#8]-[#6])-[#6](-[#6]1:[#6]:[#6]:[#6]:[#6]:[#6]:1)-[#7](-[#6]-[#6]-2)-[#16](-[#7])(=[#8])=[#8]\n",
        "----------------\n",
        "J. Med. Chem., 48, 4834, 2005\n",
        "Mean nAts 29.3, mcs nAts: 10\n",
        "[#6]1:[#6]:[#6]:[#6](:[#6]:[#6]:1)-[#16](-,=[#7,#8])(=[#8])=,-[#8,#7]\n",
        "----------------"
       ]
      },
      {
       "output_type": "stream",
       "stream": "stdout",
       "text": [
        "\n",
        "Bioorg. Med. Chem. Lett., 19, 5082, 2009\n",
        "Mean nAts 13.4, mcs nAts: 11\n",
        "[#7]-[#16](=[#8])(=[#8])-[#8]-[#6]1:[#6]:[#6]:[#6]:[#6]:[#6]:1\n",
        "----------------\n",
        "Bioorg. Med. Chem. Lett., 19, 2931, 2009\n",
        "Mean nAts 32.0, mcs nAts: 23"
       ]
      },
      {
       "output_type": "stream",
       "stream": "stdout",
       "text": [
        "\n",
        "[#7]-[#7]-[#6](=[#8])-[#6]1:[#7]:[#6]2:[#6]:[#6]:[#6](:[#6]:[#6]:2:[#6]:1-[#6]1:[#6]:[#6]:[#6]:[#6]:[#6]:1)-[#16](-[#7])(=[#8])=[#8]\n",
        "-*-*-*-*-*-*-*-*-*-*-*-*-*-*-*-*-*-*-*-*-*-*-*-*-*-*-*-*"
       ]
      },
      {
       "output_type": "stream",
       "stream": "stdout",
       "text": [
        "\n",
        "\t Cannabinoid CB1 receptor Homo sapiens\n",
        "\t\t 32 papers\n",
        "----------------\n",
        "Bioorg. Med. Chem., 16, 6489, 2008\n",
        "Mean nAts 28.0, mcs nAts: 27"
       ]
      },
      {
       "output_type": "stream",
       "stream": "stdout",
       "text": [
        "\n",
        "[#6]-[#6]1=[#6]-[#6]-[#6]2-[#6](-[#6]-1)-[#6]1:[#6](-[#8]):[#6]:[#6](:[#6]:[#6]:1-[#8]-[#6]-2(-[#6])-[#6])-[#6](-[#6])(-[#6])-[#6]1:[#6]:[#6]:[#6]:[#6]:[#6]:1\n",
        "----------------\n",
        "J. Med. Chem., 52, 4496, 2009\n",
        "Mean nAts 31.2, mcs nAts: 28"
       ]
      },
      {
       "output_type": "stream",
       "stream": "stdout",
       "text": [
        "\n",
        "[#7]1-,=[#6](-[#6]2:[#6]:[#6](-[#6]3:[#6]:[#6]:[#6](:[#6]:[#6]:3)-[#17,#6,#8,#35]):[#7](:[#7]:2)-[#6]2:[#6]:[#6]:[#6](:[#6]:[#6]:2-[#17])-[#17])=,-[#7]-[#6](-[#6]-1(-[#6])-[#6])=[#8,#16]\n",
        "----------------\n",
        "J. Med. Chem., 51, 6970, 2008\n",
        "Mean nAts 33.8, mcs nAts: 31\n",
        "[#6]-[#6]-[#6]-[#6]-[#6]-[#6]-[#6]-[#6]-[#6]-[#6]-[#6]-[#6](-[#6]-[#6]1-[#8]-[#6](-[#6]-1-[#6]-[#6]-[#6]-[#6]-[#6]-[#6])=[#8])-[#8]-[#6](=[#8])-[#6]-[#7,#6]-[#6,#7]=,-[#8,#6]\n",
        "----------------\n",
        "Bioorg. Med. Chem. Lett., 15, 783, 2005\n",
        "Mean nAts 38.5, mcs nAts: 34"
       ]
      },
      {
       "output_type": "stream",
       "stream": "stdout",
       "text": [
        "\n",
        "[#6]-[#8]-[#6]1:[#6]:[#6]:[#6](:[#6]:[#6]:1)-[#16](=[#8])(=[#8])-[#6]1:[#6]:[#6](-[#8]-[#6]):[#6]:[#6]:[#6]:1-[#16](=[#8])(=[#8])-[#6]1:[#6]:[#6]:[#6](:[#6]:[#6]:1)-[#6](-[#6])-[#7]-[#6,#16](-,=[#6,#8])=,-[#8,#6,#7]\n",
        "----------------\n",
        "Bioorg. Med. Chem. Lett., 22, 547, 2012\n",
        "Mean nAts 32.2, mcs nAts: 24"
       ]
      },
      {
       "output_type": "stream",
       "stream": "stdout",
       "text": [
        "\n",
        "[#6]-[#6](-[#6])(-[#6])-[#6]1:[#7]:[#6]2:[#6]:[#6](-[#16](=,-[#8,#6])(=[#8])-,=[#6,#8]):[#6]:[#6]:[#6]:2:[#7]:1-[#6]-[#6]1-[#6]-[#6]-[#7,#8,#16]-[#6]-[#6]-1\n",
        "----------------\n",
        "Bioorg. Med. Chem., 16, 7510, 2008\n",
        "Mean nAts 29.9, mcs nAts: 24"
       ]
      },
      {
       "output_type": "stream",
       "stream": "stdout",
       "text": [
        "\n",
        "[#6](-[#7,#6]-[#6,#7]-[#6]-[#6]-[#6]1:[#6]:[#6]:[#6]:[#6]:[#6]:1)-[#6](-[#6]1:[#6]:[#6]:[#6]:[#6]:[#6]:1)-[#6]1:[#6]:[#6]:[#6]:[#6]:[#6]:1\n",
        "----------------\n",
        "J. Med. Chem., 48, 7343, 2005\n",
        "Mean nAts 30.5, mcs nAts: 16"
       ]
      },
      {
       "output_type": "stream",
       "stream": "stdout",
       "text": [
        "\n",
        "[#6,#8]-[#6]1:[#6]:[#6]:[#6]:[#6](:[#6]:1)-[#8]-[#6]-[#6]-[#6]-[#6]-[#6]-[#6]-[#7,#6]-[#6]\n",
        "----------------\n",
        "Bioorg. Med. Chem. Lett., 17, 2706, 2007\n",
        "Mean nAts 29.7, mcs nAts: 27"
       ]
      },
      {
       "output_type": "stream",
       "stream": "stdout",
       "text": [
        "\n",
        "[#8]=[#6](-[#7]-[#6,#7]1-[#6]-[#6]-[#6]-[#6]-[#6]-1)-[#6]1:[#6,#7]:[#7,#6](-[#6]2:,-[#6]:,-[#6]:,-[#6](:,-[#6]:,-[#6]:,-2)-[#17,#6,#8,#9,#35]):[#6,#7](:[#7,#6]:1)-[#6]1:[#6]:[#6]:[#6]:[#6]:[#6]:1\n",
        "----------------\n",
        "Bioorg. Med. Chem. Lett., 17, 3652, 2007\n",
        "Mean nAts 24.7, mcs nAts: 21"
       ]
      },
      {
       "output_type": "stream",
       "stream": "stdout",
       "text": [
        "\n",
        "[#6]-[#6,#7,#8]-[#6]-[#6]-[#6]-[#6](-[#6])(-[#6])-[#6]1:[#6]:[#6]:[#6](:[#6](:[#6]:1)-[#8,#6,#7])-[#6]1:[#6]:[#6]:[#6]:[#7,#6]:[#6]:1\n",
        "----------------\n",
        "J. Med. Chem., 48, 7486, 2005\n",
        "Mean nAts 26.7, mcs nAts: 15"
       ]
      },
      {
       "output_type": "stream",
       "stream": "stdout",
       "text": [
        "\n",
        "[#6](-[#6]1:[#6]:[#6]:[#6](:[#6]:[#6]:1)-[#17,#35,#53])-[#6]1:[#6]:[#6]:[#6](:[#6]:[#6]:1)-[#17,#35,#53]\n",
        "----------------\n",
        "Bioorg. Med. Chem. Lett., 20, 1448, 2010\n",
        "Mean nAts 31.9, mcs nAts: 27"
       ]
      },
      {
       "output_type": "stream",
       "stream": "stdout",
       "text": [
        "\n",
        "[#6,#8]-,=[#6](=,-[#8,#6])-[#6]1:[#8]:[#6]2:[#7]:[#6](-[#6]3:[#6]:[#6]:[#6]:[#6]:[#6]:3-[#17]):[#6](:[#6]:[#6]:2:[#6]:1-[#7])-[#6]1:[#6]:[#6]:[#6](:[#6]:[#6]:1)-[#17]\n",
        "----------------\n",
        "Bioorg. Med. Chem. Lett., 19, 5195, 2009\n",
        "Mean nAts 34.2, mcs nAts: 27"
       ]
      },
      {
       "output_type": "stream",
       "stream": "stdout",
       "text": [
        "\n",
        "[#6]-[#6](-[#7]-[#6](=[#8])-[#6](-[#6])(-[#6])-[#7,#8]-[#6])-[#6](-[#6]-[#6]1:[#6]:[#6]:[#6](:[#6]:[#6]:1)-[#17])-[#6]1:[#6]:[#6]:[#6]:[#6](:[#6]:1)-[#6]#[#7]\n",
        "----------------\n",
        "Bioorg. Med. Chem., 17, 5549, 2009\n",
        "Mean nAts 31.5, mcs nAts: 22"
       ]
      },
      {
       "output_type": "stream",
       "stream": "stdout",
       "text": [
        "\n",
        "[#6]-[#6]1:[#6](-[#6](=[#8])-[#7]-[#6]):[#7]:[#7](:[#6]:1-[#7]1:[#6]:[#6]:[#6]:[#6]:1)-[#6]1:[#6]:[#6]:[#6](:[#6]:[#6]:1)-[#9,#17]\n",
        "----------------\n",
        "Bioorg. Med. Chem. Lett., 20, 26, 2010\n",
        "Mean nAts 34.1, mcs nAts: 25"
       ]
      },
      {
       "output_type": "stream",
       "stream": "stdout",
       "text": [
        "\n",
        "[#7,#8]-,=[#6](=,-[#8,#7])-[#6]1:[#7]:[#7](-[#6]2:[#6]:[#6]:[#6]:[#6]:[#6]:2-[#17]):[#6](:[#6]:1-[#6]-[#6]#[#7])-[#6]1:[#6]:[#6]:[#6](:[#6]:[#6]:1)-[#17]\n",
        "----------------"
       ]
      },
      {
       "output_type": "stream",
       "stream": "stdout",
       "text": [
        "\n",
        "Bioorg. Med. Chem. Lett., 19, 309, 2009\n",
        "Mean nAts 26.8, mcs nAts: 17"
       ]
      },
      {
       "output_type": "stream",
       "stream": "stdout",
       "text": [
        "\n",
        "[#6]-[#6]1:[#6]:[#6]:[#6](:[#6]:[#6]:1-[#16](=[#8])(=[#8])-[#7]1-[#6]-[#6]-[#8]-[#6]-[#6]-1)-[#7,#6]\n",
        "----------------\n",
        "Bioorg. Med. Chem. Lett., 17, 3925, 2007\n",
        "Mean nAts 25.1, mcs nAts: 22"
       ]
      },
      {
       "output_type": "stream",
       "stream": "stdout",
       "text": [
        "\n",
        "[#6]1:[#6]:[#6]:[#6]:[#6](:[#6]:1)-[#7]=[#6]1-[#16]-[#6]-[#6]2(-[#6]-[#7]-1-[#6](=[#16])-[#16]-[#6])-[#6]-[#6]-[#6]-[#6]-[#6]-2\n",
        "----------------\n",
        "J. Med. Chem., 51, 1904, 2008\n",
        "Mean nAts 28.4, mcs nAts: 25"
       ]
      },
      {
       "output_type": "stream",
       "stream": "stdout",
       "text": [
        "\n",
        "[#6]-[#6]1(-[#6])-[#6](-[#6](=[#8])-[#6]2:[#6]:[#7](-[#6]-[#6]3-[#6]-[#6]-[#8]-[#6]-[#6]-3):[#6]3:[#6]:2:[#6]:[#6]:[#6]:[#6]:3)-[#6]-1(-[#6])-[#6]\n",
        "----------------\n",
        "Bioorg. Med. Chem. Lett., 16, 731, 2006\n",
        "Mean nAts 29.1, mcs nAts: 26"
       ]
      },
      {
       "output_type": "stream",
       "stream": "stdout",
       "text": [
        "\n",
        "[#6]-[#6]-[#7](:,-[#6,#7]:,=[#7,#6]):,-[#6](:,-[#6]1:,-[#6,#7]:,-[#6,#7](:,-[#7,#6](:,=[#7,#6]:,-1)-[#6]1:[#6]:[#6]:[#6]:[#6]:[#6]:1-[#17])-[#6]1:[#6]:[#6]:[#6](:[#6]:[#6]:1)-[#17])=[#8]\n",
        "----------------\n",
        "Bioorg. Med. Chem. Lett., 17, 673, 2007\n",
        "Mean nAts 32.0, mcs nAts: 30"
       ]
      },
      {
       "output_type": "stream",
       "stream": "stdout",
       "text": [
        "\n",
        "[#6]-[#6]1:[#6]2:[#6](:[#7](:[#6]:1-[#6]1:[#6]:[#6]:[#6]:[#6,#7]:[#6]:1)-[#6]1:[#6]:[#6]:[#6]:[#6]:[#6]:1-[#6,#17])-[#6]-[#6]-[#7](-[#6]-2=[#8])-[#6,#7]1-[#6]-[#6]-[#6]-[#6]-[#6]-1\n",
        "----------------\n",
        "Bioorg. Med. Chem. Lett., 19, 2591, 2009\n",
        "Mean nAts 31.9, mcs nAts: 27"
       ]
      },
      {
       "output_type": "stream",
       "stream": "stdout",
       "text": [
        "\n",
        "[#6,#7]-[#6](-,=[#6,#8])-[#6]1:[#7]:[#6]:[#6]2:[#6](:[#7]:1):[#7]:[#6](:[#6](:[#6]:2)-[#6]1:[#6]:[#6]:[#6](:[#6]:[#6]:1)-[#17,#6,#7,#8])-[#6]1:[#6]:[#6]:[#6]:[#6]:[#6]:1-[#17,#6]\n",
        "----------------\n",
        "Bioorg. Med. Chem. Lett., 17, 6299, 2007\n",
        "Mean nAts 27.4, mcs nAts: 22"
       ]
      },
      {
       "output_type": "stream",
       "stream": "stdout",
       "text": [
        "\n",
        "[#6]-[#6]1:[#6](-[#6](-[#6])(-[#6])-[#6]):[#16]:[#6](:[#7]:1-[#6]-[#6])=[#7]-[#6](=[#8])-[#6]1:[#6]:[#6]:[#6]:[#6](:[#6]:1)-[#35,#6,#8]\n",
        "----------------\n",
        "Bioorg. Med. Chem. Lett., 15, 645, 2005\n",
        "Mean nAts 32.1, mcs nAts: 23"
       ]
      },
      {
       "output_type": "stream",
       "stream": "stdout",
       "text": [
        "\n",
        "[#6,#7]-[#7,#6,#8]-[#6,#8]-[#6]1:[#6,#7]:[#6](-[#6]2:[#6]:[#6]:[#6](:[#6]:[#6]:2)-[#17,#7,#9]):[#6](:[#7,#6]:[#6]:1)-[#6]1:[#6]:[#6]:[#6](:[#6]:[#6]:1)-[#17,#6,#8,#9]\n",
        "----------------\n",
        "J. Med. Chem., 52, 3001, 2009\n",
        "Mean nAts 24.0, mcs nAts: 22\n",
        "[#6]-[#6]-,=[#6]-[#6]-[#6]-,=[#6]-[#6]-,=[#6]-,=[#6]-[#6]-[#6]-,=[#6]-[#6]-[#6]-[#6]-[#6](=[#8])-[#7]-[#6]1-[#6]-[#6]-1-[#8]\n",
        "----------------\n",
        "Bioorg. Med. Chem. Lett., 20, 1278, 2010\n",
        "Mean nAts 30.6, mcs nAts: 23"
       ]
      },
      {
       "output_type": "stream",
       "stream": "stdout",
       "text": [
        "\n",
        "[#7,#6,#8]-,=[#6,#16]-[#6]1-[#6]-[#6]-[#6](-[#7](-[#6]-1)-[#6]1:[#6]:[#6]:[#6](:[#6]:[#6]:1)-[#17])-[#6]1:[#6]:[#6]:[#6](:[#6]:[#6]:1-[#17])-[#17]\n",
        "----------------\n",
        "Bioorg. Med. Chem. Lett., 15, 4794, 2005\n",
        "Mean nAts 30.8, mcs nAts: 26"
       ]
      },
      {
       "output_type": "stream",
       "stream": "stdout",
       "text": [
        "\n",
        "[#6]-[#7]=,-[#6](-,=[#7]-[#16](=,-[#8,#7])(=[#8])-,=[#7,#6,#8])-[#7]1-[#6]-[#6](-[#6]2:[#6]:[#6]:[#6]:[#6,#7]:[#6]:2)-[#6](=[#7]-1)-[#6]1:[#6]:[#6]:[#6](:[#6]:[#6]:1)-[#17]\n",
        "----------------\n",
        "J. Med. Chem., 51, 5397, 2008\n",
        "Mean nAts 34.0, mcs nAts: 26"
       ]
      },
      {
       "output_type": "stream",
       "stream": "stdout",
       "text": [
        "\n",
        "[#6]-[#6]#,-,=[#6]-[#6]1:[#6]:[#6]:[#6](:[#16]:1)-[#6]1:[#6](-[#6]):[#6](-[#6](=[#8])-[#7]-[#6,#7]):[#7]:[#7]:1-[#6]1:[#6]:[#6]:[#6](:[#6]:[#6]:1-[#17])-[#17]\n",
        "----------------\n",
        "Bioorg. Med. Chem. Lett., 20, 608, 2010\n",
        "Mean nAts 34.9, mcs nAts: 21\n",
        "[#8,#6,#7]=,-[#16](=[#8])(-,=[#7,#8])-[#6]1:[#6]:[#6]:[#6](:[#6]:[#6]:1-[#16](=[#8])(=[#8])-[#6]1:[#6]:[#6]:[#6]:[#6]:[#6]:1-[#9])-[#17]\n",
        "----------------"
       ]
      },
      {
       "output_type": "stream",
       "stream": "stdout",
       "text": [
        "\n",
        "Bioorg. Med. Chem. Lett., 21, 182, 2011\n",
        "Mean nAts 27.3, mcs nAts: 25\n",
        "[#35,#6,#8,#17]-[#6]1:[#6]:[#6]:[#6]:[#6](:[#6]:1)-[#6]1:[#6]:[#7]:[#6](:[#7]:1)-[#6]1:[#6]:[#6]:[#6]:[#6](:[#6]:1)-[#6]-[#7]1-[#6]-[#6]-[#8,#6]-[#6]-[#6]-1\n",
        "----------------"
       ]
      },
      {
       "output_type": "stream",
       "stream": "stdout",
       "text": [
        "\n",
        "J. Med. Chem., 53, 1338, 2010\n",
        "Mean nAts 37.4, mcs nAts: 23"
       ]
      },
      {
       "output_type": "stream",
       "stream": "stdout",
       "text": [
        "\n",
        "[#7,#8]-,=[#6](=,-[#7]-[#16,#6]-,=[#6,#8])-[#7,#6]1-,:[#6,#7]-,:[#6](-[#6]2:[#6]:[#6]:[#6]:[#6]:[#6]:2)-,:[#6,#7](=,:[#7,#6]-,:1)-[#6]1:[#6]:[#6]:[#6](:[#6]:[#6]:1)-[#17]\n",
        "----------------\n",
        "Bioorg. Med. Chem. Lett., 18, 3695, 2008\n",
        "Mean nAts 32.6, mcs nAts: 26"
       ]
      },
      {
       "output_type": "stream",
       "stream": "stdout",
       "text": [
        "\n",
        "[#6]-[#6]-[#8]-[#6]1:[#6]:[#6]:[#6](:[#6]:[#6]:1)-[#6]-[#6]1:[#7]:[#6]2:[#6]:[#6](-[#6,#7](=,-[#8,#6])-[#7,#6](-,=[#6,#8])-[#6,#7]):[#6]:[#6]:[#6]:2:[#7]:1-[#6]-[#6]\n",
        "----------------\n",
        "Bioorg. Med. Chem. Lett., 18, 2830, 2008\n",
        "Mean nAts 27.5, mcs nAts: 20"
       ]
      },
      {
       "output_type": "stream",
       "stream": "stdout",
       "text": [
        "\n",
        "[#6]-[#7]-[#6](=[#8])-[#6]1:[#6]:[#6]:[#6](:[#6](:[#6]:1)-[#16](=[#8])(=[#8])-[#7]1-[#6]-[#6]-[#6,#8]-[#6]-[#6]-1)-[#35,#6]\n",
        "----------------\n",
        "Bioorg. Med. Chem. Lett., 20, 453, 2010\n",
        "Mean nAts 35.5, mcs nAts: 25"
       ]
      },
      {
       "output_type": "stream",
       "stream": "stdout",
       "text": [
        "\n",
        "[#7]#,-,=[#6]-[#6]-[#6]1:[#6](-[#6](=,-[#8,#7])-,=[#7,#8]):[#7]:[#7](:[#6]:1-[#6]1:[#6]:[#6]:[#6](:[#6]:[#6]:1)-[#17])-[#6]1:[#6]:[#6]:[#6]:[#6]:[#6]:1-[#17]\n",
        "-*-*-*-*-*-*-*-*-*-*-*-*-*-*-*-*-*-*-*-*-*-*-*-*-*-*-*-*"
       ]
      },
      {
       "output_type": "stream",
       "stream": "stdout",
       "text": [
        "\n",
        "\t Norepinephrine transporter Homo sapiens\n",
        "\t\t 22 papers\n",
        "----------------\n",
        "J. Med. Chem., 53, 4731, 2010\n",
        "Mean nAts 18.2, mcs nAts: 16"
       ]
      },
      {
       "output_type": "stream",
       "stream": "stdout",
       "text": [
        "\n",
        "[#6]-[#6]1-[#7]-[#6](-[#6])(-[#6])-[#6]-[#8]-[#6]-1(-[#8])-[#6]1:[#6]:[#6]:[#6]:[#6]:[#7,#6]:1\n",
        "----------------\n",
        "Bioorg. Med. Chem. Lett., 18, 1795, 2008\n",
        "Mean nAts 20.3, mcs nAts: 18"
       ]
      },
      {
       "output_type": "stream",
       "stream": "stdout",
       "text": [
        "\n",
        "[#6]-[#7]-[#6]-[#6]1:[#6]:[#7]:[#6](:[#6]:[#6]:1-[#8]-[#6]1:[#6]:[#6]:[#6]:[#6]:[#6]:1-[#6,#8,#16,#17])-[#6]\n",
        "----------------\n",
        "Bioorg. Med. Chem. Lett., 16, 4349, 2006\n",
        "Mean nAts 22.2, mcs nAts: 16"
       ]
      },
      {
       "output_type": "stream",
       "stream": "stdout",
       "text": [
        "\n",
        "[#17,#8]-[#6]1:[#6]:[#6]:[#6]:[#6]:[#6]:1-[#6,#8]-[#6](-[#6,#7])-[#7,#6]1-,:[#6]-,:[#6,#7]-,:[#7,#6]-,:[#6]-,:[#6,#8]-,:1\n",
        "----------------\n",
        "J. Med. Chem., 42, 3647, 1999\n",
        "Mean nAts 31.8, mcs nAts: 23"
       ]
      },
      {
       "output_type": "stream",
       "stream": "stdout",
       "text": [
        "\n",
        "[#7](-[#6]-,=[#6]-[#6,#7]-[#7,#6]-[#6,#7]-,=[#6,#8])-[#6]-[#6]-[#8]-[#6](-[#6]1:[#6]:[#6]:[#6]:[#6]:[#6]:1)-[#6]1:[#6]:[#6]:[#6]:[#6]:[#6]:1\n",
        "----------------\n",
        "Bioorg. Med. Chem. Lett., 16, 1434, 2006\n",
        "Mean nAts 24.1, mcs nAts: 20"
       ]
      },
      {
       "output_type": "stream",
       "stream": "stdout",
       "text": [
        "\n",
        "[#6]-[#7]-[#6]1-[#6]-[#6]-[#6](-[#6]2:[#6]-1:[#6]:[#6]:[#6]:[#6]:2)-[#6]1:[#6]:[#6]:[#6](:[#6](:[#6]:1)-[#17])-[#17]\n",
        "----------------\n",
        "J. Med. Chem., 53, 4511, 2010\n",
        "Mean nAts 25.0, mcs nAts: 23"
       ]
      },
      {
       "output_type": "stream",
       "stream": "stdout",
       "text": [
        "\n",
        "[#6]-[#7]-[#6]-[#6]-[#6]-[#6]-[#7]1-[#6]2:[#6]:[#6]:[#6]:[#6]:[#6]:2-[#7](-[#16]-1(=[#8])=[#8])-[#6]1:[#6]:[#6]:[#6]:[#6]:[#6]:1\n",
        "----------------\n",
        "J. Med. Chem., 49, 1766, 2006\n",
        "Mean nAts 33.8, mcs nAts: 26"
       ]
      },
      {
       "output_type": "stream",
       "stream": "stdout",
       "text": [
        "\n",
        "[#6](-[#6]-[#6,#8])-[#6]-[#7]1-[#6]-[#6]-[#6](-[#6]-[#6]-1)-[#6]-[#6]-[#8]-[#6](-[#6]1:[#6]:[#6]:[#6]:[#6]:[#6]:1)-[#6]1:[#6]:[#6]:[#6]:[#6]:[#6]:1\n",
        "----------------\n",
        "Bioorg. Med. Chem. Lett., 21, 865, 2011\n",
        "Mean nAts 21.0, mcs nAts: 16"
       ]
      },
      {
       "output_type": "stream",
       "stream": "stdout",
       "text": [
        "\n",
        "[#9,#6,#17]-[#6]1:[#6]:[#6]:[#6]:[#6]:[#6]:1-[#8]-[#6]1:[#6,#7]:[#6]:[#6]:[#6]:[#6]:1-[#8]-[#6]\n",
        "----------------\n",
        "J. Med. Chem., 53, 2204, 2010\n",
        "Mean nAts 16.9, mcs nAts: 12"
       ]
      },
      {
       "output_type": "stream",
       "stream": "stdout",
       "text": [
        "\n",
        "[#6]-[#6](-[#6](=[#8])-[#6]1:[#6]:[#6]:[#6]:[#6](:[#6]:1)-[#17,#6,#7,#8,#9,#35])-[#7]\n",
        "----------------\n",
        "Bioorg. Med. Chem. Lett., 16, 5695, 2006\n",
        "Mean nAts 34.3, mcs nAts: 31"
       ]
      },
      {
       "output_type": "stream",
       "stream": "stdout",
       "text": [
        "\n",
        "[#6]-[#6](=[#8])-[#6]1:[#6]:[#6]:[#6]:[#6](:[#6]:1)-[#7]-[#6](=[#8])-[#7]-[#6]-[#6]-[#6]-[#6]1-[#6]-[#6](-[#6]-[#6]2:[#6]:[#6]:[#6](:[#6]:[#6]:2)-[#9])-[#6]-[#6]-[#7]-1-[#6]\n",
        "----------------\n",
        "Bioorg. Med. Chem. Lett., 20, 2809, 2010\n",
        "Mean nAts 22.0, mcs nAts: 11"
       ]
      },
      {
       "output_type": "stream",
       "stream": "stdout",
       "text": [
        "\n",
        "[#6]-[#6](-[#6]-[#7])-[#6]1(-[#8,#7])-[#6]-[#6]-[#6]-[#6]-[#6]-1\n",
        "----------------\n",
        "Bioorg. Med. Chem. Lett., 17, 2022, 2007\n",
        "Mean nAts 21.7, mcs nAts: 15"
       ]
      },
      {
       "output_type": "stream",
       "stream": "stdout",
       "text": [
        "\n",
        "[#6]1:[#6]:[#6]:[#6]:[#6](:[#6]:1-[#17,#6,#9])-[#6]-[#7](-[#6])-[#6]1-[#6]-[#6]-[#7]-[#6]-1\n",
        "----------------\n",
        "J. Med. Chem., 50, 3686, 2007\n",
        "Mean nAts 28.9, mcs nAts: 27"
       ]
      },
      {
       "output_type": "stream",
       "stream": "stdout",
       "text": [
        "\n",
        "[#6]-[#7]1-[#6]2-[#6]-[#6]-[#6]-1-[#6]-[#6](-[#6]-2-[#6]1:[#7]:[#6]:[#6](:[#16]:1)-[#6]1:[#6]:[#6]:[#6]:[#6]:[#6]:1)-[#6]1:[#6]:[#6]:[#6](:[#6]:[#6]:1)-[#17,#6]\n",
        "----------------\n",
        "Bioorg. Med. Chem. Lett., 19, 5893, 2009\n",
        "Mean nAts 21.5, mcs nAts: 14"
       ]
      },
      {
       "output_type": "stream",
       "stream": "stdout",
       "text": [
        "\n",
        "[#6,#16]-[#7](-[#6]-[#6]1:[#6]:[#6]:[#6]2:[#6](:[#6]:1):[#6]:[#6]:[#6]:[#6]:2)-[#6,#16]\n",
        "----------------\n",
        "Bioorg. Med. Chem. Lett., 21, 1434, 2011\n",
        "Mean nAts 19.3, mcs nAts: 15"
       ]
      },
      {
       "output_type": "stream",
       "stream": "stdout",
       "text": [
        "\n",
        "[#6,#7]-[#6](-[#7,#6])-[#6]1(-[#6]2:[#6]:[#6]:[#6]:[#6]:[#6]:2)-[#6]-[#6]-[#6]-[#6]-[#6]-1\n",
        "----------------\n",
        "Bioorg. Med. Chem. Lett., 19, 4579, 2009\n",
        "Mean nAts 22.5, mcs nAts: 16"
       ]
      },
      {
       "output_type": "stream",
       "stream": "stdout",
       "text": [
        "\n",
        "[#6]-[#7](-[#6](=[#8])-[#6]1:[#6]:[#6]:[#6]:[#6]:[#6]:1-[#16,#6,#8,#17])-[#6]1-[#6]-[#6]-[#7]-[#6]-1\n",
        "----------------\n",
        "Bioorg. Med. Chem., 15, 4159, 2007\n",
        "Mean nAts 19.8, mcs nAts: 12"
       ]
      },
      {
       "output_type": "stream",
       "stream": "stdout",
       "text": [
        "\n",
        "[#6]1-,:[#6]-,:[#7,#6]-,:[#6]-,:[#6]-,:[#6]-,=,:1-[#6]1:[#6]:[#6]:[#6]:[#6]:[#6]:1\n",
        "----------------\n",
        "J. Med. Chem., 45, 4097, 2002\n",
        "Mean nAts 21.2, mcs nAts: 16"
       ]
      },
      {
       "output_type": "stream",
       "stream": "stdout",
       "text": [
        "\n",
        "[#8]-[#6]1(-[#6]2:[#6]:[#6]:[#6]:[#6]:[#6]:2)-[#6]2:[#6]:[#6]:[#6]:[#6]:[#6]:2-[#6]-[#7]-1\n",
        "----------------\n",
        "J. Med. Chem., 51, 4038, 2008\n",
        "Mean nAts 22.8, mcs nAts: 16"
       ]
      },
      {
       "output_type": "stream",
       "stream": "stdout",
       "text": [
        "\n",
        "[#7]-[#6]-[#6](-[#6]1:[#6]:[#6]:[#6]:[#6]:[#6]:1)-[#6]1(-[#8])-[#6]-[#6]-[#6]-[#6]-[#6]-1\n",
        "----------------\n",
        "Bioorg. Med. Chem. Lett., 18, 4355, 2008\n",
        "Mean nAts 23.0, mcs nAts: 17"
       ]
      },
      {
       "output_type": "stream",
       "stream": "stdout",
       "text": [
        "\n",
        "[#16,#6,#8,#17]-[#6]1:[#6]:[#6]:[#6]:[#6]:[#6]:1-[#6]-[#7](-[#6]1-[#6]-[#6]-[#7]-[#6]-1)-[#16,#6](=,-[#8,#6,#7])=,-[#8,#6,#7]\n",
        "----------------\n",
        "J. Med. Chem., 53, 2051, 2010\n",
        "Mean nAts 23.8, mcs nAts: 21"
       ]
      },
      {
       "output_type": "stream",
       "stream": "stdout",
       "text": [
        "\n",
        "[#6]-[#7]-[#6]-[#6](-[#8])-[#6](-[#6]1:[#6]:[#6]:[#6]:[#6]:[#6]:1)-[#7]1-[#6]-[#6]-[#6]2:[#6]-1:[#6]:[#6]:[#6]:[#6]:2\n",
        "----------------\n",
        "Bioorg. Med. Chem. Lett., 18, 4495, 2008\n",
        "Mean nAts 21.7, mcs nAts: 12"
       ]
      },
      {
       "output_type": "stream",
       "stream": "stdout",
       "text": [
        "\n",
        "[#6]-[#8]-[#6]1-,:[#6]2:[#6]:[#6]:[#6]:[#6]:[#6]:2-,:[#6,#8,#16]-,:[#8,#6,#16]-,:[#6]-,:1\n",
        "-*-*-*-*-*-*-*-*-*-*-*-*-*-*-*-*-*-*-*-*-*-*-*-*-*-*-*-*"
       ]
      },
      {
       "output_type": "stream",
       "stream": "stdout",
       "text": [
        "\n",
        "\t Dopamine D4 receptor Homo sapiens\n",
        "\t\t 4 papers\n",
        "----------------\n",
        "Bioorg. Med. Chem. Lett., 14, 4847, 2004\n",
        "Mean nAts 27.3, mcs nAts: 21"
       ]
      },
      {
       "output_type": "stream",
       "stream": "stdout",
       "text": [
        "\n",
        "[#8]=[#6](-[#7]-[#6]1-[#6]-[#6]-[#7](-[#6]-1)-[#6]-[#6]1:[#6]:[#6]:[#6]:[#6]:[#6]:1)-[#6]1:[#6]:[#6]:[#6]:[#6]:[#6]:1\n",
        "----------------\n",
        "J. Med. Chem., 43, 4563, 2000\n",
        "Mean nAts 25.0, mcs nAts: 24\n",
        "[#7]#[#6]-[#6](:[#6]:[#6]:[#6]1:[#6,#7]:[#6](-[#6]-[#7]2-[#6]-[#6]-[#7](-[#6]-[#6]-2)-[#6]2:[#6]:[#6]:[#6]:[#6]:[#6]:2):[#7,#6]:[#6,#7]:1):[#6]\n",
        "----------------"
       ]
      },
      {
       "output_type": "stream",
       "stream": "stdout",
       "text": [
        "\n",
        "Bioorg. Med. Chem. Lett., 9, 585, 1999\n",
        "Mean nAts 23.4, mcs nAts: 11"
       ]
      },
      {
       "output_type": "stream",
       "stream": "stdout",
       "text": [
        "\n",
        "[#6]1:[#6](:[#6,#7]:[#6]:[#6]:[#7,#6])-,:[#6,#7]:[#7,#6]:[#6]:1-[#6]-[#7,#6]\n",
        "----------------\n",
        "Bioorg. Med. Chem. Lett., 15, 5253, 2005\n",
        "Mean nAts 28.4, mcs nAts: 21"
       ]
      },
      {
       "output_type": "stream",
       "stream": "stdout",
       "text": [
        "\n",
        "[#8]=[#6](-[#7]-[#6]1-[#6]-[#6]-[#7](-[#6]-1)-[#6]-[#6]1:[#6]:[#6]:[#6]:[#6]:[#6]:1)-[#6]1:[#6]:[#6]:[#6]:[#6]:[#6]:1\n",
        "-*-*-*-*-*-*-*-*-*-*-*-*-*-*-*-*-*-*-*-*-*-*-*-*-*-*-*-*\n",
        "\t Beta-secretase 1 Homo sapiens\n",
        "\t\t 6 papers\n",
        "----------------\n",
        "Bioorg. Med. Chem. Lett., 16, 3635, 2006\n",
        "Mean nAts 44.2, mcs nAts: 37"
       ]
      },
      {
       "output_type": "stream",
       "stream": "stdout",
       "text": [
        "\n",
        "[#6]-[#6](-[#7]-[#6](=[#8])-[#6]1:[#6]:[#6](-[#6](=[#8])-[#7]-[#6](-[#6]-[#7,#8])-[#6]-[#6]2:[#6]:[#6]:[#6]:[#6]:[#6]:2):[#6]:[#6](:[#6]:1)-[#7](-[#6])-[#16](-[#6])(=[#8])=[#8])-[#6]1:[#6]:[#6]:[#6](:[#6]:[#6]:1)-[#9]\n",
        "----------------\n",
        "Bioorg. Med. Chem. Lett., 20, 603, 2010\n",
        "Mean nAts 41.9, mcs nAts: 38"
       ]
      },
      {
       "output_type": "stream",
       "stream": "stdout",
       "text": [
        "\n",
        "[#6,#7]-[#6]1:[#6]:[#6]2:[#6]:[#6](:[#7,#6]:1)-[#8,#7]-[#6]-[#6]-[#6]-[#6]-[#8]-[#6]1:[#6]:[#6](-[#6]-[#6](-[#7]-[#6]-2=[#8])-[#6](-[#8])-[#6]-[#7]-[#6]-[#6]2:[#6]:[#6]:[#6]:[#6](:[#6]:2)-[#6](-[#6])-[#6]):[#6]:[#6]:[#6]:1\n",
        "----------------\n",
        "Bioorg. Med. Chem., 18, 630, 2010\n",
        "Mean nAts 27.7, mcs nAts: 26\n",
        "[#6]-[#7]1-[#6](-[#7])=[#7]-[#6](-[#6]-1=[#8])(-[#6]1:[#6]:[#6]:[#7,#6]:[#6]:[#6]:1)-[#6]1:[#6]:[#6]:[#6]:[#6](:[#6]:1)-[#6]1:[#6]:[#6,#7]:[#6]:[#7,#6]:[#6]:1\n",
        "----------------\n",
        "Bioorg. Med. Chem. Lett., 18, 414, 2008\n",
        "Mean nAts 41.7, mcs nAts: 32"
       ]
      },
      {
       "output_type": "stream",
       "stream": "stdout",
       "text": [
        "\n",
        "[#6]-[#6]-[#6]-[#7](-[#6]-[#6]-[#6])-[#6](=[#8])-[#6]1:[#6]:[#6](-[#6]):[#6]:[#6](:[#6]:1)-[#6](=[#8])-[#7]-[#6](-[#6]-[#6]1:[#6]:[#6](-[#9]):[#6]:[#6](:[#6]:1)-[#9])-[#6](-[#8,#6])-[#6,#8]\n",
        "----------------\n",
        "J. Med. Chem., 51, 3313, 2008\n",
        "Mean nAts 41.6, mcs nAts: 22\n",
        "[#6]1:[#6]:[#6]:[#6](:[#6]:[#6]:1)-[#6](=[#8])-[#7]-[#6](-[#6]-[#6]1:[#6]:[#6]:[#6]:[#6]:[#6]:1)-[#6](-[#8])-[#6]-[#7]-[#6]\n",
        "----------------"
       ]
      },
      {
       "output_type": "stream",
       "stream": "stdout",
       "text": [
        "\n",
        "Bioorg. Med. Chem. Lett., 20, 1885, 2010\n",
        "Mean nAts 38.2, mcs nAts: 25"
       ]
      },
      {
       "output_type": "stream",
       "stream": "stdout",
       "text": [
        "\n",
        "[#6]-[#6](-[#7]-[#6](=[#8])-[#6]1:[#6]:[#6](-[#6]):[#6]:[#6](:[#6]:1)-[#7](-[#6])-[#16](-[#6])(=[#8])=[#8])-[#6]1:[#6]:[#6]:[#6](:[#6]:[#6]:1)-[#9]\n",
        "-*-*-*-*-*-*-*-*-*-*-*-*-*-*-*-*-*-*-*-*-*-*-*-*-*-*-*-*\n",
        "\t Acetylcholinesterase Homo sapiens\n",
        "\t\t 8 papers\n",
        "----------------\n",
        "J. Med. Chem., 51, 3588, 2008\n",
        "Mean nAts 32.9, mcs nAts: 22"
       ]
      },
      {
       "output_type": "stream",
       "stream": "stdout",
       "text": [
        "\n",
        "[#6]-[#8]-[#6]1:[#6]:[#6]2:[#6](:[#6]:[#6]:1-[#8]-[#6])-[#6]-[#6](-[#6]-2)-[#6]-[#6]1-[#6]-[#6]-[#7](-[#6]-[#6]-1)-[#6]-[#6]\n",
        "----------------\n",
        "J. Med. Chem., 49, 7540, 2006\n",
        "Mean nAts 36.8, mcs nAts: 23"
       ]
      },
      {
       "output_type": "stream",
       "stream": "stdout",
       "text": [
        "\n",
        "[#6,#7]-[#6,#7]-[#7,#6]-[#6,#7]-[#6]-[#6](=[#8])-[#7]-[#7]-[#6]1:[#6]2:[#6]:[#6]:[#6]:[#6]:[#6]:2:[#7,#6]:[#6]2:[#6]:1-[#6]-[#6]-[#6]-[#6]-2\n",
        "----------------\n",
        "J. Med. Chem., 52, 2724, 2009\n",
        "Mean nAts 28.4, mcs nAts: 27\n",
        "[#6]-[#6]-[#8]-[#6](=[#8])-[#6]1=[#6](-[#6])-[#7]-[#6]2:[#6](-[#6]-1-[#6]1:[#6]:[#6]:[#6,#7]:[#7,#6]:[#6]:1):[#6](:[#6]1:[#6](:[#7]:2)-[#6]-[#6]-[#6]-[#6]-1)-[#7]\n",
        "----------------\n",
        "J. Med. Chem., 51, 7308, 2008\n",
        "Mean nAts 42.1, mcs nAts: 18"
       ]
      },
      {
       "output_type": "stream",
       "stream": "stdout",
       "text": [
        "\n",
        "[#6]-[#7](-[#6]-[#6]-[#6]-[#6]-[#6]-[#6]-,=[#7,#8])-[#6]-[#6]1:[#6]:[#6]:[#6]:[#6]:[#6]:1-[#8]-[#6]\n",
        "----------------\n",
        "Bioorg. Med. Chem., 15, 575, 2007\n",
        "Mean nAts 32.4, mcs nAts: 22"
       ]
      },
      {
       "output_type": "stream",
       "stream": "stdout",
       "text": [
        "\n",
        "[#7,#6](-[#6]-[#6]-[#6]-[#8]-[#6]1:[#6]:[#6]:[#6]2:[#6](:[#6]:1):[#8]:[#6]1:[#6]:[#6]:[#6]:[#6]:[#6]:1:[#6]:2=[#8])-[#6,#7]-[#6,#7]\n",
        "----------------\n",
        "J. Med. Chem., 37, 1996, 1994\n",
        "Mean nAts 23.5, mcs nAts: 17"
       ]
      },
      {
       "output_type": "stream",
       "stream": "stdout",
       "text": [
        "\n",
        "[#6]-[#6]-[#6]-[#6]-[#7]-[#6](=[#8])-[#8]-[#6]1:[#6]:[#6]:[#6]2:[#6](:[#6]:1)-[#6]-[#6]-[#6,#7]-2\n",
        "----------------\n",
        "Bioorg. Med. Chem. Lett., 21, 2505, 2011\n",
        "Mean nAts 27.4, mcs nAts: 10"
       ]
      },
      {
       "output_type": "stream",
       "stream": "stdout",
       "text": [
        "\n",
        "[#6]1:[#6]:[#6]:[#6]:[#6]:[#7,#6]:1-[#6,#7]-[#6,#7]-,=[#6]-,=[#7,#6]\n",
        "----------------\n",
        "Bioorg. Med. Chem. Lett., 5, 2077, 1995\n",
        "Mean nAts 31.1, mcs nAts: 25"
       ]
      },
      {
       "output_type": "stream",
       "stream": "stdout",
       "text": [
        "\n",
        "[#6,#7]-[#6]-[#6]-[#6]-[#6]-[#6]-[#7]-[#6](=[#8])-[#8]-[#6]1:[#6]:[#6]:[#6]2:[#6](:[#6]:1)-[#6]1(-[#6])-[#6]-[#6]-[#7](-[#6]-1-[#7]-2-[#6])-[#6]\n",
        "-*-*-*-*-*-*-*-*-*-*-*-*-*-*-*-*-*-*-*-*-*-*-*-*-*-*-*-*\n",
        "\t 11-beta-hydroxysteroid dehydrogenase 1 Homo sapiens\n",
        "\t\t 15 papers\n",
        "----------------\n",
        "Bioorg. Med. Chem., 18, 4405, 2010\n",
        "Mean nAts 25.4, mcs nAts: 23"
       ]
      },
      {
       "output_type": "stream",
       "stream": "stdout",
       "text": [
        "\n",
        "[#8]=[#6](-[#6]1:[#6]:[#6]:[#6](:[#6]:[#6]:1)-[#9,#6])-[#6,#7]1-[#6]-[#6]-[#7,#6](-[#6]-[#6]-1)-[#6](=[#8])-[#6]1:[#6]:[#6]:[#6]:[#6]:[#6]:1\n",
        "----------------\n",
        "J. Med. Chem., 50, 149, 2007\n",
        "Mean nAts 30.2, mcs nAts: 16"
       ]
      },
      {
       "output_type": "stream",
       "stream": "stdout",
       "text": [
        "\n",
        "[#6,#7]-[#6]-[#6](=[#8])-[#7]-[#6]1-[#6]2-[#6]-[#6]3-[#6]-[#6]-1-[#6]-[#6](-[#6]-2)(-[#8,#9])-[#6]-3\n",
        "----------------\n",
        "Bioorg. Med. Chem. Lett., 17, 527, 2007\n",
        "Mean nAts 29.5, mcs nAts: 27"
       ]
      },
      {
       "output_type": "stream",
       "stream": "stdout",
       "text": [
        "\n",
        "[#6]-[#6](-[#6])(-[#8]-[#6]1:[#6]:[#6]:[#6]:[#6]:[#6]:1)-[#6](=[#8])-[#7]-[#6]1-[#6]2-[#6]-[#6]3-[#6]-[#6]-1-[#6]-[#6](-[#6]-2)(-[#16](-,=[#7,#6,#8])(=[#8])=,-[#8,#6])-[#6]-3\n",
        "----------------\n",
        "Bioorg. Med. Chem. Lett., 19, 1446, 2009\n",
        "Mean nAts 31.7, mcs nAts: 26"
       ]
      },
      {
       "output_type": "stream",
       "stream": "stdout",
       "text": [
        "\n",
        "[#6]-[#6](-[#8])(-[#6]1:[#6]:[#6]:[#6](:[#6]:[#6]:1)-[#6](=[#8,#6])-[#7](-[#6]1-[#6]-[#6]-1)-[#6]1-[#6]-[#6]-[#6](-[#6]-[#6]-1)-[#6,#8])-[#6](-[#9])(-[#9])-[#9]\n",
        "----------------\n",
        "Bioorg. Med. Chem. Lett., 16, 5408, 2006\n",
        "Mean nAts 29.4, mcs nAts: 13"
       ]
      },
      {
       "output_type": "stream",
       "stream": "stdout",
       "text": [
        "\n",
        "[#6,#8]-,=[#6](-[#8,#7]-[#6]1:,-[#6]:,-[#6]:,-[#6](:,-[#6]:,-[#6,#7]:,-1)-[#17,#6])-[#6](=,-[#8,#6,#7])-,=[#7,#6,#8]\n",
        "----------------\n",
        "J. Med. Chem., 52, 5449, 2009\n",
        "Mean nAts 33.1, mcs nAts: 28"
       ]
      },
      {
       "output_type": "stream",
       "stream": "stdout",
       "text": [
        "\n",
        "[#6]-[#6]1-[#6]-[#7](-[#6]2:[#6]:[#6]:[#6](:[#6]:[#6]:2-[#6](-[#9])(-[#9])-[#9])-[#9])-[#6]-[#6]-[#7]-1-[#16](=[#8])(=[#8])-[#6]1:[#6]:[#6]:[#6](:[#6]:[#6]:1)-[#35,#6,#7,#8]\n",
        "----------------\n",
        "J. Med. Chem., 54, 6050, 2011\n",
        "Mean nAts 30.3, mcs nAts: 15"
       ]
      },
      {
       "output_type": "stream",
       "stream": "stdout",
       "text": [
        "\n",
        "[#6]-[#6]1(-[#6]2:[#6]:[#6]:[#6]:[#6]:[#6]:2)-[#6]-[#6]-[#7](-[#6](-[#8]-1)=[#8])-[#6]\n",
        "----------------\n",
        "Bioorg. Med. Chem. Lett., 18, 3513, 2008\n",
        "Mean nAts 27.4, mcs nAts: 21"
       ]
      },
      {
       "output_type": "stream",
       "stream": "stdout",
       "text": [
        "\n",
        "[#6]1:[#6]:[#6]:[#6](:[#6]:[#6]:1)-[#16](=[#8])(=[#8])-[#7]1-[#6]-[#6]-[#7](-[#6]-[#6]-1)-[#6]1:[#7,#6]:[#6]:[#6]:[#6]:[#6]:1\n",
        "----------------\n",
        "Bioorg. Med. Chem. Lett., 21, 435, 2011\n",
        "Mean nAts 29.4, mcs nAts: 26"
       ]
      },
      {
       "output_type": "stream",
       "stream": "stdout",
       "text": [
        "\n",
        "[#8]=[#6](-[#7]-[#6]1-[#6]2-[#6]-[#6]3-[#6]-[#6]-1-[#6]-[#6](-[#6]-2)-[#6]-3)-[#6]1-[#16,#6]-[#6]-[#6]-[#7]-1-[#6,#16](=[#8])-[#6]1:[#6]:[#6]:[#6]:[#6]:[#6]:1\n",
        "----------------\n",
        "Bioorg. Med. Chem. Lett., 19, 3682, 2009\n",
        "Mean nAts 23.0, mcs nAts: 10\n",
        "[#7,#6]1-[#6]-,:[#6]-[#6]2(-[#6]-,=1)-[#6]-[#6]-[#6,#7]-[#6,#7]-,:[#6]-2\n",
        "----------------"
       ]
      },
      {
       "output_type": "stream",
       "stream": "stdout",
       "text": [
        "\n",
        "Bioorg. Med. Chem. Lett., 21, 4146, 2011\n",
        "Mean nAts 26.7, mcs nAts: 12"
       ]
      },
      {
       "output_type": "stream",
       "stream": "stdout",
       "text": [
        "\n",
        "[#6,#7,#8,#16]-[#8,#6,#7]-[#6]1:[#6]:[#6]:[#6]:[#7]2:[#6]:1:[#7]:[#7]:[#6]:2-[#6]\n",
        "----------------\n",
        "Bioorg. Med. Chem. Lett., 18, 3412, 2008\n",
        "Mean nAts 22.6, mcs nAts: 18"
       ]
      },
      {
       "output_type": "stream",
       "stream": "stdout",
       "text": [
        "\n",
        "[#6]1:[#6]:[#6]:[#6](:[#6]:[#6]:1)-[#6]-[#6]1:[#7]:[#7]:[#6]2:[#7]:1-[#6]-[#6]-[#6]-[#6]-[#6]-[#6]-2\n",
        "----------------\n",
        "Bioorg. Med. Chem. Lett., 19, 1522, 2009\n",
        "Mean nAts 30.9, mcs nAts: 22"
       ]
      },
      {
       "output_type": "stream",
       "stream": "stdout",
       "text": [
        "\n",
        "[#6]-[#6]1-[#6]-[#7](-[#6]-[#6])-[#6]-[#6]-[#7]-1-[#16](=[#8])(=[#8])-[#6]1:[#6]:[#6]:[#6](:[#6]:[#6]:1)-[#6](-[#6])(-[#6,#8,#9])-[#6,#8,#9]\n",
        "----------------\n",
        "Bioorg. Med. Chem. Lett., 17, 750, 2007\n",
        "Mean nAts 31.2, mcs nAts: 26"
       ]
      },
      {
       "output_type": "stream",
       "stream": "stdout",
       "text": [
        "\n",
        "[#6]-[#6](-[#6])(-[#8]-[#6]1:[#6]:[#6]:[#6]:[#6]:[#6]:1)-[#6](=[#8])-[#7]-[#6]1-[#6]2-[#6]-[#6]3-[#6]-[#6]-1-[#6]-[#6](-[#6]-2)(-[#6](=,-[#8,#7])-,=[#8,#7])-[#6]-3\n",
        "----------------\n",
        "Bioorg. Med. Chem. Lett., 17, 3421, 2007\n",
        "Mean nAts 27.3, mcs nAts: 24"
       ]
      },
      {
       "output_type": "stream",
       "stream": "stdout",
       "text": [
        "\n",
        "[#8]=[#6](-[#6]1:[#6,#7]:[#6]:[#6]:[#6]:[#6]:1)-[#7]1-[#6]-[#6]-[#6](-[#6]-[#6]-1)-[#7]1:,-[#6](=[#8]):,-[#7,#6,#8,#16]:,-[#6]2:[#6]:,-1:[#6]:[#6]:[#6]:[#6]:2\n",
        "-*-*-*-*-*-*-*-*-*-*-*-*-*-*-*-*-*-*-*-*-*-*-*-*-*-*-*-*"
       ]
      },
      {
       "output_type": "stream",
       "stream": "stdout",
       "text": [
        "\n",
        "\t Vascular endothelial growth factor receptor 2 Homo sapiens\n",
        "\t\t 24 papers\n",
        "----------------\n",
        "Bioorg. Med. Chem. Lett., 14, 351, 2004\n",
        "Mean nAts 27.6, mcs nAts: 22"
       ]
      },
      {
       "output_type": "stream",
       "stream": "stdout",
       "text": [
        "\n",
        "[#6,#7,#8]-,=[#8,#6,#16]-[#6]1:[#6]:[#6]:[#6]2:[#6](:[#6]:1):[#6]:[#6](:[#7]:2)-[#6]1:[#6]:[#6]2:[#6]:[#6]:[#6]:[#6]:[#6]:2:[#7]:[#6]:1-[#8]\n",
        "----------------\n",
        "Bioorg. Med. Chem. Lett., 16, 1440, 2006\n",
        "Mean nAts 29.2, mcs nAts: 16"
       ]
      },
      {
       "output_type": "stream",
       "stream": "stdout",
       "text": [
        "\n",
        "[#6]-[#7]1:[#6]:[#7]:[#6](:[#6]:1-[#6]1:[#7]:[#7]:[#6](:[#8]:1)-[#7]-[#6])-[#7]-[#6]-[#6]\n",
        "----------------\n",
        "J. Med. Chem., 51, 3814, 2008\n",
        "Mean nAts 31.8, mcs nAts: 27"
       ]
      },
      {
       "output_type": "stream",
       "stream": "stdout",
       "text": [
        "\n",
        "[#6]-[#8]-[#6]1:[#6]:[#6](-[#6]2=[#6](-[#6]3:[#6]:[#7]:[#6]4:[#6]:3:[#6]:[#6]:[#6]:[#6]:4)-[#6]-[#7]-[#6]-2=[#8]):[#6]:[#6](:[#6]:1-[#8]-[#6])-[#8]-[#6]\n",
        "----------------\n",
        "Bioorg. Med. Chem. Lett., 16, 1913, 2006\n",
        "Mean nAts 30.0, mcs nAts: 26"
       ]
      },
      {
       "output_type": "stream",
       "stream": "stdout",
       "text": [
        "\n",
        "[#6,#7]1:[#6]:[#6]:[#6]:[#6](:[#6]:1)-[#7]-[#6]1:[#7]:[#7]:[#6](:[#8]:1)-[#6]1:[#6]:[#6,#7]:[#6,#7]:[#7,#6]:[#6]:1-[#6]-[#6]-[#6]1:[#6]:[#6]:[#7,#6]:[#6]:[#6]:1\n",
        "----------------\n",
        "Bioorg. Med. Chem. Lett., 16, 4371, 2006\n",
        "Mean nAts 24.5, mcs nAts: 14"
       ]
      },
      {
       "output_type": "stream",
       "stream": "stdout",
       "text": [
        "\n",
        "[#6]-[#7]1-[#6]-[#6]-[#7](-[#6]-[#6]-1)-[#6]-[#6]1:[#6]:[#6]:[#6]:[#6]:[#6]:1\n",
        "----------------\n",
        "J. Med. Chem., 50, 4453, 2007\n",
        "Mean nAts 36.2, mcs nAts: 31"
       ]
      },
      {
       "output_type": "stream",
       "stream": "stdout",
       "text": [
        "\n",
        "[#8,#6]-,=[#6,#16](=,-[#8,#6])-[#7]-[#6]1:[#7,#6,#8,#16]:[#6,#7]2:[#6,#7]:[#6](-[#8,#6,#16]-[#6]3:[#6]:[#6]:[#6](:[#6]:[#6,#7]:3)-[#7,#6]-[#6](=[#8,#16])-[#7]-[#6]3:[#6]:[#6]:[#6]:[#6](:[#6]:3)-[#35,#6,#7,#9,#16,#17]):[#6]:[#6,#7]:[#6]:2:[#7]:1\n",
        "----------------\n",
        "J. Med. Chem., 52, 278, 2009\n",
        "Mean nAts 28.3, mcs nAts: 21"
       ]
      },
      {
       "output_type": "stream",
       "stream": "stdout",
       "text": [
        "\n",
        "[#8]=[#6]1:[#7]:[#6]2:[#6]:[#6]:[#6]:[#6]:[#6]:2:[#6](:[#6]:1-[#6]1:[#7]:[#6]2:[#6]:[#6]:[#6]:[#6]:[#6]:2:[#7]:1)-[#8,#7]\n",
        "----------------\n",
        "Bioorg. Med. Chem. Lett., 16, 2158, 2006\n",
        "Mean nAts 22.9, mcs nAts: 14"
       ]
      },
      {
       "output_type": "stream",
       "stream": "stdout",
       "text": [
        "\n",
        "[#6]-[#6,#7]1:[#6]:[#6]:[#6](:[#7,#6]:1)-[#6]=[#6]1-[#6](=[#8])-[#7]-[#7]=[#6]-1-[#6]\n",
        "----------------\n",
        "Bioorg. Med. Chem., 15, 3635, 2007\n",
        "Mean nAts 35.3, mcs nAts: 23"
       ]
      },
      {
       "output_type": "stream",
       "stream": "stdout",
       "text": [
        "\n",
        "[#6]-[#8,#7]-[#6]1:[#6]:[#6]2:[#6](:[#6]:[#6]:1-[#8]-[#6]-[#6]):[#7]:[#6]:[#7,#6]:[#6]:2=,-[#7]-[#6]1:,=[#6]:,-[#6]:,-[#6](:,=[#6]:,-[#6]:,-1)-[#35,#8,#9]\n",
        "----------------\n",
        "Bioorg. Med. Chem. Lett., 16, 4266, 2006\n",
        "Mean nAts 38.0, mcs nAts: 36"
       ]
      },
      {
       "output_type": "stream",
       "stream": "stdout",
       "text": [
        "\n",
        "[#6]-[#7]1-[#6]-[#6]-[#7](-[#6]-[#6]-1)-[#6]-[#6]1:[#6]:[#6]:[#6]2:[#6](:[#6]:1)-[#6]:,-[#6](-,:[#6]-2):[#6](:[#7]:[#7])-[#6]1:[#6]:[#6,#16]:[#6](:[#16,#6]:1)-[#6]-[#7,#6,#8]-[#6](=[#8])-[#7,#6]-[#6]1:[#6]:[#6]:[#6]:[#6]:[#6]:1\n",
        "----------------\n",
        "J. Med. Chem., 51, 1231, 2008\n",
        "Mean nAts 29.0, mcs nAts: 26"
       ]
      },
      {
       "output_type": "stream",
       "stream": "stdout",
       "text": [
        "\n",
        "[#7]-[#6]1:[#7]:[#8]:[#6]2:[#6]:1:[#6](:[#6]:[#6]:[#6]:2)-[#6]1:[#6]:[#6]:[#6](:[#6]:[#6]:1)-[#7]-[#6](=[#8])-[#7]-[#6]1:[#6]:[#6]:[#6]:[#6]:[#6]:1\n",
        "----------------\n",
        "J. Med. Chem., 50, 611, 2007\n",
        "Mean nAts 37.8, mcs nAts: 28"
       ]
      },
      {
       "output_type": "stream",
       "stream": "stdout",
       "text": [
        "\n",
        "[#6]1:[#6]:[#6]:[#6](:[#6]:[#6]:1-[#7,#8]-[#6]1:[#7]:[#6]:[#6]:[#6]:[#6]:1-[#6]1:[#6,#7]:[#6]:[#7]:[#6]:[#7]:1)-[#6](=[#8])-[#7]-[#6]1:[#6]:[#6]:[#6]:[#6]:[#6]:1\n",
        "----------------\n",
        "J. Med. Chem., 50, 627, 2007\n",
        "Mean nAts 34.4, mcs nAts: 27"
       ]
      },
      {
       "output_type": "stream",
       "stream": "stdout",
       "text": [
        "\n",
        "[#6]1:[#6]:[#6]:[#6](:[#6]:[#6]:1-[#6]#[#6]-[#6]1:[#6]:[#6,#7]:[#6]:[#7,#6]:[#6,#7]:1)-[#6](=[#8])-[#7]-[#6]1:[#6]:[#6]:[#6]:[#6](:[#6]:1)-[#6](-[#9])(-[#9])-[#9]\n",
        "----------------\n",
        "Bioorg. Med. Chem. Lett., 15, 1429, 2005\n",
        "Mean nAts 27.9, mcs nAts: 22"
       ]
      },
      {
       "output_type": "stream",
       "stream": "stdout",
       "text": [
        "\n",
        "[#6]-[#8,#7]-[#6](=[#8])-[#6]1:[#6]:[#7]2:[#7]:[#6]:[#7]:[#6](:[#6]:2:[#6]:1-[#6,#8])-[#7]-[#6]1:[#6]:[#6]:[#6]:[#6](:[#6]:1)-[#8]\n",
        "----------------\n",
        "J. Med. Chem., 49, 2143, 2006\n",
        "Mean nAts 27.8, mcs nAts: 23"
       ]
      },
      {
       "output_type": "stream",
       "stream": "stdout",
       "text": [
        "\n",
        "[#6]-[#8,#6]-[#6,#8]-[#6]1:[#6]:[#7]2:[#7]:[#6]:[#7]:[#6](:[#6]:2:[#6]:1-[#6])-[#8]-[#6]1:[#6]:[#6]:[#6]2:[#6](:[#6]:1):[#6]:[#6]:[#7]:2\n",
        "----------------\n",
        "Bioorg. Med. Chem., 18, 7150, 2010\n",
        "Mean nAts 34.3, mcs nAts: 28"
       ]
      },
      {
       "output_type": "stream",
       "stream": "stdout",
       "text": [
        "\n",
        "[#6]-[#7]1:[#6]:[#6]:[#6]2:[#6]:1:[#6](:[#7]:[#6]:[#7]:2)-[#8]-[#6]1:[#6]:[#6]:[#6](:[#6](:[#6]:1)-[#17])-[#7]-[#6](=[#8])-[#7]-[#6]1:[#6]:[#6,#7]:[#6,#7]:[#6,#7]:[#7,#6]:1\n",
        "----------------\n",
        "J. Med. Chem., 47, 6363, 2004\n",
        "Mean nAts 24.8, mcs nAts: 20"
       ]
      },
      {
       "output_type": "stream",
       "stream": "stdout",
       "text": [
        "\n",
        "[#6]-[#6]1:[#6]:[#7]:[#6](:[#16]:1)-[#7]-[#6]1:[#6]:[#6](-[#6]-[#7]2-[#6]-[#6]-[#8,#6,#7]-[#6]-[#6]-2):[#6]:[#6]:[#7]:1\n",
        "----------------\n",
        "Bioorg. Med. Chem. Lett., 20, 3356, 2010\n",
        "Mean nAts 34.5, mcs nAts: 32"
       ]
      },
      {
       "output_type": "stream",
       "stream": "stdout",
       "text": [
        "\n",
        "[#6]-[#7]1:[#7]:[#6]:[#6](:[#6]:1)-[#6]1:[#6]2:[#6](:[#6]3:[#6](:[#6]:1-[#6]-[#6]):[#7](:[#6]1:[#6]:3:[#6]:[#6](-[#6]3-[#6]-[#6]-[#6]-[#6]-[#8]-3):[#6]:[#6]:1)-[#6])-[#6]-[#7]-[#6]-2=[#8]\n",
        "----------------\n",
        "Bioorg. Med. Chem. Lett., 13, 2973, 2003\n",
        "Mean nAts 27.1, mcs nAts: 15"
       ]
      },
      {
       "output_type": "stream",
       "stream": "stdout",
       "text": [
        "\n",
        "[#7,#6]-[#6]-[#6,#7]-[#7,#6]1:[#6,#8]:[#6](-[#6]2:[#6]:[#7]:[#6]:[#6](:[#6]:2)-[#6]):[#6,#7]:[#6]:1\n",
        "----------------\n",
        "Bioorg. Med. Chem. Lett., 21, 2106, 2011\n",
        "Mean nAts 29.6, mcs nAts: 22"
       ]
      },
      {
       "output_type": "stream",
       "stream": "stdout",
       "text": [
        "\n",
        "[#6]-[#8]-[#6]1:[#6]:[#6]2:[#7]:[#6]:[#7]:[#6](:[#6]:2:[#6]:[#6]:1-[#8]-[#6])-,=[#8,#7]-[#6]1:[#6]:[#6]:[#6](:[#6]:[#6]:1)-[#9,#7,#35]\n",
        "----------------\n",
        "Bioorg. Med. Chem. Lett., 17, 1246, 2007\n",
        "Mean nAts 28.5, mcs nAts: 26"
       ]
      },
      {
       "output_type": "stream",
       "stream": "stdout",
       "text": [
        "\n",
        "[#7]-[#6]1:[#7]:[#6]:[#6]:[#6]2:[#6]:1:[#6](:[#6]:[#16]:2)-[#6]1:[#6]:[#6]:[#6](:[#6]:[#6]:1)-[#7,#6]-[#6](=[#8,#16])-[#7,#6]-[#6]1:,-[#6]:,-[#6]:,-[#6]:,-[#6]:,-[#6]:,-1\n",
        "----------------\n",
        "J. Med. Chem., 43, 2310, 2000\n",
        "Mean nAts 26.8, mcs nAts: 24\n",
        "[#6,#7]1:[#6]:[#6]:[#6](:[#6]:[#6]:1)-[#7,#6]-[#6]1:[#7]:[#7]:[#6](:[#6]2:[#6]:1:[#6]:[#6]:[#6]:[#6]:2)-[#6,#7]-[#6]1:[#6]:[#6]:[#7,#6]:[#6]:[#6]:1\n",
        "----------------\n",
        "Bioorg. Med. Chem. Lett., 16, 1726, 2006\n",
        "Mean nAts 28.2, mcs nAts: 17"
       ]
      },
      {
       "output_type": "stream",
       "stream": "stdout",
       "text": [
        "\n",
        "[#8]=[#6](-[#7]-[#6]1:[#6]:[#6,#7]:[#6]:[#6]:[#6]:1)-[#6]1:[#6]:[#6]:[#6]:[#6]:[#6]:1-[#6,#7]-[#7,#6]\n",
        "----------------\n",
        "Bioorg. Med. Chem. Lett., 12, 3537, 2002\n",
        "Mean nAts 28.5, mcs nAts: 18"
       ]
      },
      {
       "output_type": "stream",
       "stream": "stdout",
       "text": [
        "\n",
        "[#6]-[#8,#6]-[#6,#7]1:[#6]:[#6]:[#6](:[#6]:[#6]:1)-[#6]1:[#6]:[#7]:[#6]2:[#7](:[#6]:1):[#7]:[#6]:[#6]:2-[#6]\n",
        "-*-*-*-*-*-*-*-*-*-*-*-*-*-*-*-*-*-*-*-*-*-*-*-*-*-*-*-*"
       ]
      },
      {
       "output_type": "stream",
       "stream": "stdout",
       "text": [
        "\n",
        "\t Cytochrome P450 2D6 Homo sapiens\n",
        "\t\t 5 papers\n",
        "----------------\n",
        "Bioorg. Med. Chem. Lett., 15, 2647, 2005\n",
        "Mean nAts 30.7, mcs nAts: 24"
       ]
      },
      {
       "output_type": "stream",
       "stream": "stdout",
       "text": [
        "\n",
        "[#6]-[#7](-[#6](=[#8])-[#6]-[#6]1:[#6]:[#6]:[#6]:[#6]:[#6]:1)-[#6](-[#6]-[#7]1-[#6]-[#6]-[#6]-[#6]-1)-[#6]1:[#6]:[#6]:[#6]:[#6]:[#6]:1\n",
        "----------------\n",
        "J. Med. Chem., 52, 5685, 2009\n",
        "Mean nAts 28.1, mcs nAts: 21"
       ]
      },
      {
       "output_type": "stream",
       "stream": "stdout",
       "text": [
        "\n",
        "[#6]1:[#6]:[#6]:[#6](:[#6]:[#6]:1)-[#6]1=,-[#6]-[#6]2(-[#6]-[#6]-[#7,#6]-[#6,#7]-[#6]-2)-[#8]-[#6]2:[#6]-1:[#6]:[#6]:[#6]:[#6]:2\n",
        "----------------\n",
        "Bioorg. Med. Chem. Lett., 15, 5114, 2005\n",
        "Mean nAts 32.0, mcs nAts: 19"
       ]
      },
      {
       "output_type": "stream",
       "stream": "stdout",
       "text": [
        "\n",
        "[#6]-[#7](-[#6](=,-[#8,#6])-,=[#6,#8])-[#6](-[#6]-[#7]1-[#6]-[#6]-[#6](-[#6]-1)-[#8])-[#6]1:[#6]:[#6]:[#6]:[#6]:[#6]:1\n",
        "----------------\n",
        "Bioorg. Med. Chem. Lett., 17, 2992, 2007\n",
        "Mean nAts 38.1, mcs nAts: 34"
       ]
      },
      {
       "output_type": "stream",
       "stream": "stdout",
       "text": [
        "\n",
        "[#6]-[#6](=[#8])-[#6]1:[#16]:[#6](-[#7]-[#6](=[#8])-[#7]-[#6]2-[#6]-[#6,#7,#8]-[#8,#6,#7]-[#6,#8]-[#6]-2-[#6]-[#7]2-[#6]-[#6]-[#6]-[#6](-[#6]-2)-[#6]-[#6]2:[#6]:[#6]:[#6](:[#6]:[#6]:2)-[#9]):[#7]:[#6]:1-[#6]\n",
        "----------------\n",
        "J. Med. Chem., 54, 5283, 2011\n",
        "Mean nAts 17.8, mcs nAts: 11"
       ]
      },
      {
       "output_type": "stream",
       "stream": "stdout",
       "text": [
        "\n",
        "[#6]1:[#6]:[#6]:[#6](:[#6]:[#6]:1)-[#6]1-[#6]-[#6,#7]-[#7,#6]-[#6]-1\n",
        "-*-*-*-*-*-*-*-*-*-*-*-*-*-*-*-*-*-*-*-*-*-*-*-*-*-*-*-*\n",
        "\t Serotonin 2a (5-HT2a) receptor Homo sapiens\n",
        "\t\t 20 papers"
       ]
      },
      {
       "output_type": "stream",
       "stream": "stdout",
       "text": [
        "\n",
        "----------------"
       ]
      },
      {
       "output_type": "stream",
       "stream": "stdout",
       "text": [
        "\n",
        "Bioorg. Med. Chem., 17, 7802, 2009\n",
        "Mean nAts 25.0, mcs nAts: 21\n",
        "[#7,#6]-[#6]-[#6]-[#6]1:[#6]:[#6]:[#6]:[#6]2:[#6]:1:[#6](:[#6]:[#7]:2)-[#16](=[#8])(=[#8])-[#6]1:[#6]:[#6]:[#6]:[#6]:[#6]:1\n",
        "----------------\n",
        "Bioorg. Med. Chem., 16, 3309, 2008\n",
        "Mean nAts 14.4, mcs nAts: 11\n",
        "[#6]1:[#6]:[#6]:[#6]:[#6]2:[#6]:1-[#6]-[#6]-[#7]-[#6]-[#6]-2\n",
        "----------------"
       ]
      },
      {
       "output_type": "stream",
       "stream": "stdout",
       "text": [
        "\n",
        "Bioorg. Med. Chem. Lett., 22, 347, 2012\n",
        "Mean nAts 20.3, mcs nAts: 18\n",
        "[#6]-[#7](-[#6]1-[#6]-[#6]-[#7](-[#6]-[#6]-1)-[#6])-[#16](=[#8])(=[#8])-[#6]1:[#6]:[#6]:[#6]:[#6]:[#6]:1\n",
        "----------------"
       ]
      },
      {
       "output_type": "stream",
       "stream": "stdout",
       "text": [
        "\n",
        "Bioorg. Med. Chem. Lett., 16, 6058, 2006\n",
        "Mean nAts 21.0, mcs nAts: 16"
       ]
      },
      {
       "output_type": "stream",
       "stream": "stdout",
       "text": [
        "\n",
        "[#6]-[#6]-[#7]-[#6]1=[#7]-[#6]-[#6]-[#7]-[#6](=[#6]-1)-[#6]1:[#6]:[#6]:[#6]:[#6]:[#6]:1\n",
        "----------------\n",
        "Bioorg. Med. Chem. Lett., 15, 4555, 2005\n",
        "Mean nAts 16.8, mcs nAts: 13\n",
        "[#6,#7]-[#7,#6]-[#6]-[#6]1:[#6]:[#7]:[#6]2:[#6]:1:[#6](:[#6]:[#6]:[#6]:2)-[#8,#9]\n",
        "----------------\n",
        "Bioorg. Med. Chem. Lett., 20, 6439, 2010\n",
        "Mean nAts 29.7, mcs nAts: 19"
       ]
      },
      {
       "output_type": "stream",
       "stream": "stdout",
       "text": [
        "\n",
        "[#6]-[#6,#7]-[#7,#6]-[#6]-[#6]-[#7]1-[#6]-[#6]-[#7](-[#6]-[#6]-1)-[#6]1:[#6]:[#6]:[#6]:[#6](:[#6]:1-[#6,#17])-[#6,#17]\n",
        "----------------\n",
        "Bioorg. Med. Chem. Lett., 16, 677, 2006\n",
        "Mean nAts 20.4, mcs nAts: 17"
       ]
      },
      {
       "output_type": "stream",
       "stream": "stdout",
       "text": [
        "\n",
        "[#6,#7]-[#6](-[#7,#6])-[#6]-[#7]1:[#6]:[#6]:[#6]2:[#6]:1:[#6]1:[#6,#7]:[#6,#7]:[#7,#6]:[#6,#7]:[#6]:1:[#6]:[#6]:2\n",
        "----------------\n",
        "Bioorg. Med. Chem. Lett., 15, 4560, 2005\n",
        "Mean nAts 31.9, mcs nAts: 28"
       ]
      },
      {
       "output_type": "stream",
       "stream": "stdout",
       "text": [
        "\n",
        "[#6]-[#6]1-[#6]-[#6]-[#7]-[#6]2:[#6]-1:[#6]:[#6]:[#6]:[#6]:2-[#6]-[#6]-[#7]1-[#6]-[#6]-[#7](-[#6]-[#6]-1)-[#6]1:[#7]:[#16,#8]:[#6]2:[#6]:1:[#6]:[#6]:[#6]:[#6]:2\n",
        "----------------\n",
        "Bioorg. Med. Chem., 16, 7291, 2008\n",
        "Mean nAts 26.1, mcs nAts: 10\n",
        "[#6](-[#6]-[#6,#8])-[#6,#7]1:,-[#6]:,-[#6]:,-[#6,#7](:,-[#6]:,-[#6]:,-1)-[#9,#6]\n",
        "----------------\n",
        "Bioorg. Med. Chem. Lett., 16, 3201, 2006\n",
        "Mean nAts 27.7, mcs nAts: 25"
       ]
      },
      {
       "output_type": "stream",
       "stream": "stdout",
       "text": [
        "\n",
        "[#8]=[#16](=[#8])(-[#6]1:[#6]:[#6]:[#6]:[#6]:[#6]:1)-[#7,#6]1-[#6]-[#6]=,-[#6,#7](-[#6]-[#6]-1)-[#6]-[#6]-[#6]1:[#6]:[#6]:[#6](:[#6]:[#6]:1-[#9])-[#9]\n",
        "----------------\n",
        "Bioorg. Med. Chem. Lett., 16, 1207, 2006\n",
        "Mean nAts 16.4, mcs nAts: 15\n",
        "[#6]-[#6]1-[#6]-[#7]-[#6]-[#6]2-[#7]-1-[#6]1:[#7,#6]:[#6](:[#6]:[#6]:[#6]:1-[#6]-2)-[#17,#6,#8,#35]\n",
        "----------------\n",
        "J. Med. Chem., 50, 1365, 2007\n",
        "Mean nAts 18.4, mcs nAts: 15"
       ]
      },
      {
       "output_type": "stream",
       "stream": "stdout",
       "text": [
        "\n",
        "[#8]=[#6]1-[#6]2:[#6](:[#6]:[#6]:[#6]:[#6]:2-[#8,#6,#16,#17])-[#6]2-[#7]-1-[#6]-[#6]-[#7]-[#6]-2\n",
        "----------------\n",
        "Bioorg. Med. Chem. Lett., 22, 1870, 2012\n",
        "Mean nAts 27.5, mcs nAts: 19"
       ]
      },
      {
       "output_type": "stream",
       "stream": "stdout",
       "text": [
        "\n",
        "[#6,#8]-,=[#6](=,-[#8,#6])-[#7]1-[#6]-[#6]-[#7](-[#6]-[#6]-1)-[#6]-[#6]-[#6]1:[#6]:[#6]:[#6](:[#6]:[#6]:1-[#9])-[#9]\n",
        "----------------\n",
        "Bioorg. Med. Chem., 18, 1665, 2010\n",
        "Mean nAts 34.8, mcs nAts: 27"
       ]
      },
      {
       "output_type": "stream",
       "stream": "stdout",
       "text": [
        "\n",
        "[#8]=[#16](=[#8])(-[#6]1:[#6]:[#6]:[#6]:[#6]:[#6]:1)-[#7](-[#6]-[#6]-[#6]-[#7]1-[#6]-[#6]-[#7](-[#6]-[#6]-1)-[#6]1:[#6]:[#6]:[#6]:[#6]:[#6]:1)-[#6]-[#6]\n",
        "----------------\n",
        "Bioorg. Med. Chem. Lett., 20, 3708, 2010\n",
        "Mean nAts 26.8, mcs nAts: 24"
       ]
      },
      {
       "output_type": "stream",
       "stream": "stdout",
       "text": [
        "\n",
        "[#8]=[#16](=[#8])(-[#6]1:[#6]:[#6]:[#6]:[#6]:[#6]:1)-[#6,#7]1:,-[#6]:,-[#6]:,-[#6,#7](:,-[#6]:,-[#6]:,-1)-[#6]=,-[#6]-[#6]1:[#6]:[#6]:[#6](:[#6]:[#6]:1)-[#9]\n",
        "----------------\n",
        "Bioorg. Med. Chem. Lett., 17, 2643, 2007\n",
        "Mean nAts 25.2, mcs nAts: 23"
       ]
      },
      {
       "output_type": "stream",
       "stream": "stdout",
       "text": [
        "\n",
        "[#8]-,=[#16](-[#6]1:[#6]:[#6]:[#6]:[#6]:[#6]:1)-[#6]1:,-[#6]:,-[#6]:,-[#6,#7](:,-[#7,#6]:,-[#6,#7]:,-1)-[#6]=,-[#6]-[#6]1:[#6]:[#6]:[#6](:[#6]:[#6]:1)-[#9]\n",
        "----------------\n",
        "Bioorg. Med. Chem. Lett., 15, 1467, 2005\n",
        "Mean nAts 14.5, mcs nAts: 13\n",
        "[#6]-[#6]1-[#6]-[#7]-[#6]-[#6]-[#6]2:[#6]-1:[#6]:[#6](:[#6]:[#6]:2)-[#17,#6,#8,#9,#35,#53]\n",
        "----------------\n",
        "J. Med. Chem., 50, 4135, 2007\n",
        "Mean nAts 34.0, mcs nAts: 26"
       ]
      },
      {
       "output_type": "stream",
       "stream": "stdout",
       "text": [
        "\n",
        "[#8,#17]-[#6]1:[#6]:[#6]:[#6]:[#6]:[#6]:1-[#7]1-[#6]-[#6]-[#7](-[#6]-[#6]-1)-[#6]-[#6]=,-[#6]-[#6]-[#7]-[#6](=[#8])-[#6]1:[#6]:[#6]:[#6]:[#6]:[#6]:1\n",
        "----------------\n",
        "Bioorg. Med. Chem. Lett., 20, 1128, 2010\n",
        "Mean nAts 16.2, mcs nAts: 11"
       ]
      },
      {
       "output_type": "stream",
       "stream": "stdout",
       "text": [
        "\n",
        "[#8,#6]=,-[#6]1-,:[#7,#6]-,:[#6]-,:[#7,#6]-,:[#6]2:[#6]-,:1:,-[#6]:,-[#6,#7]:,-[#6]:,-[#6,#7]:,-2\n",
        "----------------\n",
        "J. Med. Chem., 54, 6305, 2011\n",
        "Mean nAts 36.2, mcs nAts: 33"
       ]
      },
      {
       "output_type": "stream",
       "stream": "stdout",
       "text": [
        "\n",
        "[#6]-[#6]1:[#7]:[#6](-[#6](=[#8])-[#7]-[#6]-[#6]-[#6]-[#7]2-[#6]-[#6]-[#7](-[#6]-[#6]-2)-[#6]2:[#6]:[#6]:[#6]:[#6](:[#6]:2-[#6,#17])-[#6,#17]):[#6](:[#7]:1-[#6]1:[#6]:[#6]:[#6]:[#6]:[#6]:1)-[#6]\n",
        "-*-*-*-*-*-*-*-*-*-*-*-*-*-*-*-*-*-*-*-*-*-*-*-*-*-*-*-*"
       ]
      },
      {
       "output_type": "stream",
       "stream": "stdout",
       "text": [
        "\n",
        "\t Serotonin 2c (5-HT2c) receptor Homo sapiens\n",
        "\t\t 15 papers\n",
        "----------------\n",
        "Bioorg. Med. Chem. Lett., 18, 3844, 2008\n",
        "Mean nAts 26.6, mcs nAts: 25"
       ]
      },
      {
       "output_type": "stream",
       "stream": "stdout",
       "text": [
        "\n",
        "[#8]=[#6,#16](-[#7]-[#6]1:[#6]:[#6]:[#6](:[#7]:[#6]:1)-[#8]-[#6]1:[#6]:[#6,#7]:[#6]:[#7,#6]:[#6]:1)-[#6,#7]1:,-[#6]:,-[#7,#6,#8,#16]:,-[#6]2:[#6]:,-1:[#6]:[#6]:[#6]:[#6]:2\n",
        "----------------\n",
        "Bioorg. Med. Chem. Lett., 16, 4130, 2006\n",
        "Mean nAts 14.9, mcs nAts: 14"
       ]
      },
      {
       "output_type": "stream",
       "stream": "stdout",
       "text": [
        "\n",
        "[#6]-[#6](-[#6]1:[#6]:[#6](-[#17,#6,#35]):[#6]:[#6]:[#6]:1)-[#6]1-[#6]-[#7,#6]-[#6,#7]-[#6]-1\n",
        "----------------\n",
        "Bioorg. Med. Chem. Lett., 22, 347, 2012\n",
        "Mean nAts 20.2, mcs nAts: 18"
       ]
      },
      {
       "output_type": "stream",
       "stream": "stdout",
       "text": [
        "\n",
        "[#6]-[#7](-[#6]1-[#6]-[#6]-[#7](-[#6]-[#6]-1)-[#6])-[#16](=[#8])(=[#8])-[#6]1:[#6]:[#6]:[#6]:[#6]:[#6]:1\n",
        "----------------\n",
        "Bioorg. Med. Chem. Lett., 14, 2367, 2004\n",
        "Mean nAts 15.3, mcs nAts: 13\n",
        "[#6]-[#6](-[#7])-[#6]-[#7]1-,:[#6]-,:[#6]-,:[#6]2:[#6]-,:1:[#6]:[#6]:[#6]:[#6]:2\n",
        "----------------\n",
        "Bioorg. Med. Chem. Lett., 15, 4555, 2005\n",
        "Mean nAts 17.2, mcs nAts: 13"
       ]
      },
      {
       "output_type": "stream",
       "stream": "stdout",
       "text": [
        "\n",
        "[#6,#7]-[#7,#6]-[#6]-[#6]1:[#6]:[#7]:[#6]2:[#6]:1:[#6](:[#6]:[#6]:[#6]:2)-[#8,#9]\n",
        "----------------\n",
        "Bioorg. Med. Chem. Lett., 16, 677, 2006\n",
        "Mean nAts 20.4, mcs nAts: 17"
       ]
      },
      {
       "output_type": "stream",
       "stream": "stdout",
       "text": [
        "\n",
        "[#6,#7]-[#6](-[#7,#6])-[#6]-[#7]1:[#6]:[#6]:[#6]2:[#6]:1:[#6]1:[#6,#7]:[#6,#7]:[#7,#6]:[#6,#7]:[#6]:1:[#6]:[#6]:2\n",
        "----------------\n",
        "Bioorg. Med. Chem. Lett., 19, 5346, 2009\n",
        "Mean nAts 24.4, mcs nAts: 14"
       ]
      },
      {
       "output_type": "stream",
       "stream": "stdout",
       "text": [
        "\n",
        "[#7,#6]1:[#6](=,-[#8,#6]):[#6,#7]:[#6](:[#7,#6]:[#6]:1-,=[#6,#8])-[#7]1-[#6]-[#6]-[#7]-[#6]-[#6]-1\n",
        "----------------\n",
        "Bioorg. Med. Chem. Lett., 16, 1207, 2006\n",
        "Mean nAts 16.4, mcs nAts: 15\n",
        "[#6]-[#6]1-[#6]-[#7]-[#6]-[#6]2-[#7]-1-[#6]1:[#7,#6]:[#6](:[#6]:[#6]:[#6]:1-[#6]-2)-[#17,#6,#8,#35]\n",
        "----------------\n",
        "J. Med. Chem., 50, 1365, 2007\n",
        "Mean nAts 18.3, mcs nAts: 15"
       ]
      },
      {
       "output_type": "stream",
       "stream": "stdout",
       "text": [
        "\n",
        "[#8]=[#6]1-[#6]2:[#6](:[#6]:[#6]:[#6]:[#6]:2-[#8,#6,#9,#16,#17])-[#6]2-[#7]-1-[#6]-[#6]-[#7]-[#6]-2\n",
        "----------------\n",
        "Bioorg. Med. Chem., 18, 1665, 2010\n",
        "Mean nAts 34.8, mcs nAts: 27"
       ]
      },
      {
       "output_type": "stream",
       "stream": "stdout",
       "text": [
        "\n",
        "[#8]=[#16](=[#8])(-[#6]1:[#6]:[#6]:[#6]:[#6]:[#6]:1)-[#7](-[#6]-[#6]-[#6]-[#7]1-[#6]-[#6]-[#7](-[#6]-[#6]-1)-[#6]1:[#6]:[#6]:[#6]:[#6]:[#6]:1)-[#6]-[#6]\n",
        "----------------\n",
        "Bioorg. Med. Chem. Lett., 15, 3665, 2005\n",
        "Mean nAts 27.0, mcs nAts: 25\n",
        "[#8]=[#16](=[#8])(-[#6]1:[#6]:[#6]:[#6]:[#6]:[#6]:1)-[#6]1-[#6]-[#6]-[#7](-[#6]-[#6]-1)-[#6]-[#6]-[#6]1:[#6]:[#6]:[#6](:[#6]:[#6]:1-[#9])-[#9]\n",
        "----------------\n",
        "Bioorg. Med. Chem. Lett., 17, 2643, 2007\n",
        "Mean nAts 25.5, mcs nAts: 23"
       ]
      },
      {
       "output_type": "stream",
       "stream": "stdout",
       "text": [
        "\n",
        "[#8]-,=[#16](-[#6]1:[#6]:[#6]:[#6]:[#6]:[#6]:1)-[#6]1:,-[#6]:,-[#6]:,-[#6,#7](:,-[#7,#6]:,-[#6]:,-1)-[#6]=,-[#6]-[#6]1:[#6]:[#6]:[#6](:[#6]:[#6]:1)-[#9]\n",
        "----------------\n",
        "Bioorg. Med. Chem. Lett., 15, 1467, 2005\n",
        "Mean nAts 14.5, mcs nAts: 13"
       ]
      },
      {
       "output_type": "stream",
       "stream": "stdout",
       "text": [
        "\n",
        "[#6]-[#6](-[#6]-[#7]-[#6]-[#6])-[#6]1:[#6]:[#6](:[#6]:[#6]:[#6]:1)-[#17,#6,#8,#9,#35,#53]\n",
        "----------------\n",
        "Bioorg. Med. Chem. Lett., 20, 1128, 2010\n",
        "Mean nAts 16.2, mcs nAts: 11"
       ]
      },
      {
       "output_type": "stream",
       "stream": "stdout",
       "text": [
        "\n",
        "[#8,#6]=,-[#6]1-,:[#7,#6]-,:[#6]-,:[#7,#6]-,:[#6]2:[#6]-,:1:,-[#6,#7]:,-[#6,#7]:,-[#6,#7]:,-[#6,#7]:,-2\n",
        "----------------\n",
        "Bioorg. Med. Chem. Lett., 20, 5431, 2010\n",
        "Mean nAts 23.1, mcs nAts: 8"
       ]
      },
      {
       "output_type": "stream",
       "stream": "stdout",
       "text": [
        "\n",
        "[#6,#9]-[#6,#8,#16]-[#6,#7]1:,-[#6]:,-[#6]:,-[#6,#7]:,-[#6]:,-[#6]:,-1\n",
        "-*-*-*-*-*-*-*-*-*-*-*-*-*-*-*-*-*-*-*-*-*-*-*-*-*-*-*-*\n",
        "\t Sphingosine 1-phosphate receptor Edg-1  Homo sapiens\n",
        "\t\t 7 papers\n",
        "----------------\n",
        "Bioorg. Med. Chem. Lett., 22, 144, 2012\n",
        "Mean nAts 30.6, mcs nAts: 29"
       ]
      },
      {
       "output_type": "stream",
       "stream": "stdout",
       "text": [
        "\n",
        "[#6]-[#6]1=[#6](-[#6]-[#7]2-[#6]-[#6](-[#6]-2)-[#6](=[#8])-[#8])-[#6]-[#6]-[#6]2:[#6]-1:[#6]:[#6]:[#6](:[#6]:2)-[#8]-[#6]-[#6]-[#6]-[#6]1:[#6]:[#6]:[#6]:[#6]:[#6]:1\n",
        "----------------\n",
        "Bioorg. Med. Chem. Lett., 22, 1779, 2012\n",
        "Mean nAts 31.2, mcs nAts: 28"
       ]
      },
      {
       "output_type": "stream",
       "stream": "stdout",
       "text": [
        "\n",
        "[#7,#6]-[#6,#7]-[#6,#7]-[#6]1:[#6]:[#6]:[#6](:[#6](:[#6]:1)-[#9])-[#6]1:[#7]:[#6]2:[#6]:[#6]:[#6](:[#7]:[#6]:2:[#16]:1)-[#6]1(-[#6]2:[#6]:[#6]:[#6]:[#6]:[#6]:2)-[#6]-[#6]-1\n",
        "----------------\n",
        "Bioorg. Med. Chem. Lett., 14, 3351, 2004\n",
        "Mean nAts 24.6, mcs nAts: 23\n",
        "[#6]-[#6]-[#6]-[#6]-[#6]-[#6]-[#6]-[#6]-[#6]1:[#6]:[#6]:[#6](:[#6]:[#6]:1)-[#6]-[#6]-[#6](-[#7])-[#6]-[#6,#8]-[#6,#15,#16](=[#8])-,=[#8]\n",
        "----------------\n",
        "J. Med. Chem., 48, 6169, 2005\n",
        "Mean nAts 29.4, mcs nAts: 26"
       ]
      },
      {
       "output_type": "stream",
       "stream": "stdout",
       "text": [
        "\n",
        "[#8,#6]-[#6]1:[#6]:[#6]:[#6](:[#6]:[#6]:1)-[#6]1:[#7,#8]:[#6](-[#6]2:[#6]:[#6]:[#6](:[#6]:[#6]:2)-[#6]-[#7]2-[#6]-[#6](-[#6]-2)-[#6](=[#8])-[#8]):[#7,#8]:[#8,#7]:1\n",
        "----------------\n",
        "Bioorg. Med. Chem. Lett., 21, 1390, 2011\n",
        "Mean nAts 26.5, mcs nAts: 13"
       ]
      },
      {
       "output_type": "stream",
       "stream": "stdout",
       "text": [
        "\n",
        "[#6]-[#7,#6]-[#6]-[#6]=,-[#6,#8]-[#6]1:[#6]:[#6]:[#6](:[#6]:[#6]:1)-[#8,#6]-,=[#6]\n",
        "----------------\n",
        "Bioorg. Med. Chem., 15, 663, 2007\n",
        "Mean nAts 24.9, mcs nAts: 16"
       ]
      },
      {
       "output_type": "stream",
       "stream": "stdout",
       "text": [
        "\n",
        "[#6]1:[#6]:[#6]:[#6](:[#6]:[#6]:1)-[#8,#6,#7]-[#6]-[#6](-[#7,#8])-[#6]-[#6,#8]-[#15](=[#8])(-[#8])-[#8]\n",
        "----------------\n",
        "Bioorg. Med. Chem. Lett., 16, 3564, 2006\n",
        "Mean nAts 31.4, mcs nAts: 14"
       ]
      },
      {
       "output_type": "stream",
       "stream": "stdout",
       "text": [
        "\n",
        "[#6,#8]-[#6]1:[#6]:[#6]:[#6](:[#6]:[#6]:1)-[#6]1-[#6]-[#6](-[#6]-,=[#6,#8])-[#6]-[#7]-1\n",
        "-*-*-*-*-*-*-*-*-*-*-*-*-*-*-*-*-*-*-*-*-*-*-*-*-*-*-*-*\n",
        "\t Adenosine A1 receptor Homo sapiens\n",
        "\t\t 33 papers\n",
        "----------------\n",
        "J. Med. Chem., 54, 5205, 2011\n",
        "Mean nAts 28.2, mcs nAts: 23"
       ]
      },
      {
       "output_type": "stream",
       "stream": "stdout",
       "text": [
        "\n",
        "[#6]-[#6]-[#7]1-[#6]2:[#7]:[#6](-[#6]3:[#6]:[#6](-[#6,#8]):[#7]:[#7]:3-[#6]):[#7]:[#6]:2-[#6]2-[#7](-[#6]-1=[#8])-[#6]-[#6](-[#7]=2)-[#6]\n",
        "----------------\n",
        "Bioorg. Med. Chem. Lett., 19, 1399, 2009\n",
        "Mean nAts 32.2, mcs nAts: 28"
       ]
      },
      {
       "output_type": "stream",
       "stream": "stdout",
       "text": [
        "\n",
        "[#6]-[#7]-[#6]1:[#7]:[#6]:[#6]2:[#6](:[#7]:1):[#7](-[#6]1:[#6]:[#6]:[#6]:[#6](:[#6]:1)-[#8,#6]-,#[#6,#7]):[#6](:[#7]:2-[#6]-[#6]1:[#6]:[#6]:[#6]:[#6]:[#6]:1-[#9,#8,#17])=[#8]\n",
        "----------------\n",
        "Bioorg. Med. Chem., 17, 5259, 2009\n",
        "Mean nAts 34.4, mcs nAts: 23"
       ]
      },
      {
       "output_type": "stream",
       "stream": "stdout",
       "text": [
        "\n",
        "[#6]-[#7]1:[#6]:[#6]2:[#6](:[#7]:1):[#7]:[#6](:[#7]1:[#6]:2:[#7]:[#6](:[#7]:1)-[#6]1:[#6]:[#6]:[#6]:[#8]:1)-[#7]-[#6](=[#8])-[#6]-[#6,#8]\n",
        "----------------\n",
        "J. Med. Chem., 49, 2861, 2006\n",
        "Mean nAts 25.2, mcs nAts: 21\n",
        "[#6]1:[#7]:[#6]2:[#7]:[#6](-[#6]3:[#6]:[#6]:[#6]:[#6]:[#6]:3):[#7]:[#6](:[#6]:,-2:[#7]:1)-[#6]1:[#6]:[#6]:[#6]:[#6]:[#6]:1\n",
        "----------------\n",
        "J. Med. Chem., 50, 4061, 2007\n",
        "Mean nAts 24.3, mcs nAts: 20"
       ]
      },
      {
       "output_type": "stream",
       "stream": "stdout",
       "text": [
        "\n",
        "[#7,#8]-,=[#6]1:[#7]:[#6]2:[#6]:[#6]:[#6]:[#6]:[#6]:2:[#6]2:[#6]:1:[#7]:[#7](:[#6]:2)-[#6]1:[#6]:[#6]:[#6]:[#6]:[#6]:1\n",
        "----------------\n",
        "J. Med. Chem., 50, 5676, 2007\n",
        "Mean nAts 26.0, mcs nAts: 21"
       ]
      },
      {
       "output_type": "stream",
       "stream": "stdout",
       "text": [
        "\n",
        "[#7,#8]-,=[#6]1:[#7]:[#6]2:[#6]:[#6]:[#6]:[#6]:[#6]:2:[#7]2:[#7]:1:[#7]:[#6](:[#6]:2=[#8])-[#6]1:[#6]:[#6]:[#6]:[#6]:[#6]:1\n",
        "----------------\n",
        "J. Med. Chem., 51, 4449, 2008\n",
        "Mean nAts 21.7, mcs nAts: 11"
       ]
      },
      {
       "output_type": "stream",
       "stream": "stdout",
       "text": [
        "\n",
        "[#7]#[#6]-[#6]1:[#6](-[#7,#6]):[#7,#6]:[#6](:[#6,#7]:[#6]:1-[#6,#7])-[#6]\n",
        "----------------\n",
        "Bioorg. Med. Chem., 16, 8546, 2008\n",
        "Mean nAts 30.3, mcs nAts: 26\n",
        "[#8]-[#6]1-[#6]-[#6,#8]-[#6](-[#6]-1-[#8])-[#7]1:[#6]:[#7]:[#6]2:[#6]:1:[#7]:[#6](-[#17,#16]):[#7]:[#6]:2-[#7]-[#6]-[#6]1:[#6]:[#6]:[#6]:[#6](:[#6]:1)-[#35,#8,#17,#53]\n",
        "----------------\n",
        "Bioorg. Med. Chem. Lett., 15, 3081, 2005\n",
        "Mean nAts 25.1, mcs nAts: 25"
       ]
      },
      {
       "output_type": "stream",
       "stream": "stdout",
       "text": [
        "\n",
        "[#7]#[#6]-[#6]1:[#6]:[#6]:[#6]:[#6](:[#6]:1)-[#6]1:[#7]:[#6](-[#7]-[#7,#6]2-,:[#6]=,:[#6]-,:[#7,#6]-,:[#6,#7]=,:[#6,#7]-,:2):[#16]:[#6]:1-[#7]1:[#6]:[#7,#6]:[#6,#7]:[#7,#6]:1\n",
        "----------------\n",
        "J. Med. Chem., 51, 1719, 2008\n",
        "Mean nAts 28.3, mcs nAts: 23"
       ]
      },
      {
       "output_type": "stream",
       "stream": "stdout",
       "text": [
        "\n",
        "[#6]-[#7]1-[#6]-[#6]-[#7](-[#6]-[#6]-1)-[#6]-[#6](=[#8])-[#7]-[#6]1:[#6,#7]:[#6](-[#7,#6]):[#7]:[#6](:[#7,#6]:1)-[#6,#7]1:[#7,#6]:[#6]:[#6]:[#16,#6,#7,#8]:1\n",
        "----------------\n",
        "Bioorg. Med. Chem. Lett., 20, 5241, 2010\n",
        "Mean nAts 25.0, mcs nAts: 20"
       ]
      },
      {
       "output_type": "stream",
       "stream": "stdout",
       "text": [
        "\n",
        "[#6,#8]-,=[#6](=,-[#8,#6])-[#7]-[#6]1:[#7]:[#6](-[#6]2:[#6]:[#6]:[#6]:[#6]:[#6]:2):[#6](:[#16]:1)-[#6]1:[#7,#8]:[#6,#7]:[#7,#6,#8]:[#8,#7]:1\n",
        "----------------\n",
        "J. Med. Chem., 51, 7099, 2008\n",
        "Mean nAts 27.1, mcs nAts: 24"
       ]
      },
      {
       "output_type": "stream",
       "stream": "stdout",
       "text": [
        "\n",
        "[#6,#8]-,=[#6](=,-[#8,#6])-[#7]-[#6]1:[#6]:[#6](-[#6]2:[#6,#7]:[#6,#7]:[#6,#7]:[#6](:[#7,#6]:2)-[#7,#8]):[#7]:[#6](:[#7]:1)-[#7]1:[#7]:[#6](-[#6]):[#6]:[#6]:1-[#6]\n",
        "----------------\n",
        "J. Med. Chem., 48, 6887, 2005\n",
        "Mean nAts 19.6, mcs nAts: 16\n",
        "[#6]-[#7]1:[#6]2:[#7,#6]:[#6]:[#7]:[#6](:[#6]:2:[#7]:[#6]:1-[#7]1:[#7]:[#6]:[#6]:[#7]:1)-[#7]\n",
        "----------------\n",
        "Bioorg. Med. Chem. Lett., 20, 1697, 2010\n",
        "Mean nAts 23.1, mcs nAts: 17"
       ]
      },
      {
       "output_type": "stream",
       "stream": "stdout",
       "text": [
        "\n",
        "[#6,#8]-,=[#6](=,-[#8,#6])-[#7]-[#6]1:[#6]:[#6]:[#6](:[#6](:[#7]:1)-[#6])-[#6]1:[#6]:[#6]:[#7]:[#6]:[#6,#7]:1\n",
        "----------------\n",
        "Bioorg. Med. Chem., 16, 2741, 2008\n",
        "Mean nAts 26.3, mcs nAts: 19"
       ]
      },
      {
       "output_type": "stream",
       "stream": "stdout",
       "text": [
        "\n",
        "[#7]-[#6]1:[#7,#6]:[#6](-[#6]2:[#6]:[#6]:[#6]:[#6]:[#6]:2):[#6,#7]:[#6](:[#7,#6]:1)-[#6]1:[#6]:[#6]:[#6]:[#6]:[#6]:1\n",
        "----------------\n",
        "J. Med. Chem., 49, 3682, 2006\n",
        "Mean nAts 29.8, mcs nAts: 25"
       ]
      },
      {
       "output_type": "stream",
       "stream": "stdout",
       "text": [
        "\n",
        "[#6]-[#7]1:[#6]2:[#7]:[#6](-[#6]3:[#6]:[#7]:[#7](:[#6]:3)-[#6]-[#6]3:[#6]:[#6]:[#6]:[#6]:[#6]:3):[#7]:[#6]:2:[#6](:[#7](:[#6]:1=[#8])-[#6])=[#8]\n",
        "----------------\n",
        "Bioorg. Med. Chem. Lett., 19, 2664, 2009\n",
        "Mean nAts 23.7, mcs nAts: 15"
       ]
      },
      {
       "output_type": "stream",
       "stream": "stdout",
       "text": [
        "\n",
        "[#7]-[#6]1:[#7]:[#6](-[#6,#7]-[#7,#6]-,=[#6,#8]):[#6]:[#6](:[#7]:1)-[#6]1:[#6]:[#6]:[#6]:[#8]:1\n",
        "----------------\n",
        "J. Med. Chem., 49, 7373, 2006\n",
        "Mean nAts 30.8, mcs nAts: 25"
       ]
      },
      {
       "output_type": "stream",
       "stream": "stdout",
       "text": [
        "\n",
        "[#6]-[#7]-[#6]1:[#7]:[#6](-[#7,#6]2:[#6]:[#6,#7]:[#7]:[#7]:2):[#7]:[#6]2:[#6]:1:[#7]:[#6]:[#7]:2-[#6]1-[#8]-[#6](-[#6]-,=[#8,#7])-[#6](-[#6]-1-[#8])-[#8]\n",
        "----------------\n",
        "Bioorg. Med. Chem. Lett., 18, 1397, 2008\n",
        "Mean nAts 29.6, mcs nAts: 20"
       ]
      },
      {
       "output_type": "stream",
       "stream": "stdout",
       "text": [
        "\n",
        "[#6]-[#6]-[#7]1:[#6](=[#8]):[#7]:[#6]2:[#6](:[#6]:1=[#8]):[#7]:[#6](:[#7]:2)-[#6]1:[#6]:[#7]:[#7](:[#6]:1)-[#6]-[#6]\n",
        "----------------\n",
        "Bioorg. Med. Chem., 18, 2491, 2010\n",
        "Mean nAts 23.7, mcs nAts: 19\n",
        "[#6]-[#7]1:[#6](=[#16]):[#16]:[#6]2:[#6]:1:[#7]:[#6]:[#7]1:[#6]:2:[#7]:[#6](:[#7]:1)-[#6]1:[#6]:[#6]:[#6]:[#8]:1\n",
        "----------------\n",
        "Bioorg. Med. Chem. Lett., 16, 3642, 2006\n",
        "Mean nAts 35.0, mcs nAts: 23"
       ]
      },
      {
       "output_type": "stream",
       "stream": "stdout",
       "text": [
        "\n",
        "[#6,#8]-,=[#7,#6]1:[#6]2:[#6,#7]:[#6](-[#6]3:[#6]:[#6]:[#6](:[#6]:[#6]:3)-[#16](=,-[#8,#7])(=[#8])-,=[#7,#8]):[#7,#6]:[#6]:2:[#6,#7](:[#7,#6](:[#6,#7]:1=,-[#8,#6])-,=[#6,#8])=,-[#8,#6]\n",
        "----------------\n",
        "Bioorg. Med. Chem. Lett., 20, 4140, 2010\n",
        "Mean nAts 29.8, mcs nAts: 26"
       ]
      },
      {
       "output_type": "stream",
       "stream": "stdout",
       "text": [
        "\n",
        "[#6]-[#6]-[#7](-[#6](-[#6,#9])=,-[#8,#9])-[#6]1:[#6]:[#6]:[#6](:[#6]2:[#6]:1:[#16]:[#6](:[#7]:2)-[#7]-[#6](=[#8])-[#6]1:[#6]:[#6]:[#6](:[#6]:[#6]:1)-[#9,#6,#7,#16])-[#17,#8]\n",
        "----------------\n",
        "Bioorg. Med. Chem. Lett., 17, 6779, 2007\n",
        "Mean nAts 30.9, mcs nAts: 24"
       ]
      },
      {
       "output_type": "stream",
       "stream": "stdout",
       "text": [
        "\n",
        "[#8]-[#6]-[#6]1-[#8]-[#6](-[#7]2:[#6]:[#7]:[#6]3:[#6]:2:[#7]:[#6]:[#7]:[#6]:3-[#7]-[#6]2-[#6]-[#6,#7]-[#8,#6,#7,#16]-[#6]-2)-[#6](-[#6]-1-[#8])-[#8]\n",
        "----------------\n",
        "Bioorg. Med. Chem. Lett., 21, 1933, 2011\n",
        "Mean nAts 35.9, mcs nAts: 21"
       ]
      },
      {
       "output_type": "stream",
       "stream": "stdout",
       "text": [
        "\n",
        "[#6]-[#6]-[#7](-[#6](-[#6])=[#8])-[#6]1:[#6]:[#6]:[#6](:[#6]2:[#6]:1:[#16]:[#6](:[#7]:2)-[#7]-[#6](=[#8])-[#6,#7])-[#8]-[#6]\n",
        "----------------\n",
        "J. Med. Chem., 50, 828, 2007\n",
        "Mean nAts 23.2, mcs nAts: 22\n",
        "[#6,#8]-[#6]1:[#7]:[#6]2:[#6](:[#7]:1):[#7]:[#6](:[#6]:[#6]:2-[#6]1:[#6]:[#6]:[#6]:[#6]:[#6]:1)-[#6]1:[#6]:[#6]:[#6]:[#6]:[#6]:1\n",
        "----------------\n",
        "J. Med. Chem., 45, 770, 2002\n",
        "Mean nAts 31.1, mcs nAts: 28"
       ]
      },
      {
       "output_type": "stream",
       "stream": "stdout",
       "text": [
        "\n",
        "[#6]-[#7]1:[#6]:[#6]2:[#6](:[#7]:1):[#7]:[#6](:[#7]1:[#6]:2:[#7]:[#6](:[#7]:1)-[#6]1:[#6]:[#6]:[#6]:[#8]:1)-[#7]-[#6](=[#8])-[#7,#6]-[#6]1:[#6]:[#6]:[#6]:[#6]:[#6]:1\n",
        "----------------\n",
        "Bioorg. Med. Chem. Lett., 16, 5993, 2006\n",
        "Mean nAts 22.2, mcs nAts: 18"
       ]
      },
      {
       "output_type": "stream",
       "stream": "stdout",
       "text": [
        "\n",
        "[#6,#7]1:[#6]:[#6,#7]:[#6](:[#6,#7]:[#6,#7]:1)-[#6]1:[#6]:[#6](-[#6]2:[#6,#7]:[#6]:[#6,#7]:[#6]:[#6,#7]:2):[#7,#6]:[#6]:[#6,#7]:1\n",
        "----------------\n",
        "J. Med. Chem., 49, 273, 2006\n",
        "Mean nAts 28.9, mcs nAts: 23"
       ]
      },
      {
       "output_type": "stream",
       "stream": "stdout",
       "text": [
        "\n",
        "[#6]-[#7]-[#6](=[#8])-[#6]1-[#16]-[#6](-[#7]2:[#6]:[#7]:[#6]3:[#6]:2:[#7]:[#6](-[#17]):[#7]:[#6]:3-[#7]-[#6])-[#6](-[#6]-1-[#8])-[#8]\n",
        "----------------\n",
        "J. Med. Chem., 52, 3994, 2009\n",
        "Mean nAts 35.6, mcs nAts: 20"
       ]
      },
      {
       "output_type": "stream",
       "stream": "stdout",
       "text": [
        "\n",
        "[#6]-[#7]1:[#6](=[#8]):[#6]2:[#7]:[#6](-[#6]3:[#6]:[#6]:[#6](:[#6]:[#6]:3)-[#8,#16]-,=[#6,#8]):[#6,#7]:[#6]:2:[#7]:[#6]:1=[#8]\n",
        "----------------\n",
        "J. Med. Chem., 48, 7932, 2005\n",
        "Mean nAts 20.6, mcs nAts: 15"
       ]
      },
      {
       "output_type": "stream",
       "stream": "stdout",
       "text": [
        "\n",
        "[#8,#7]-[#6]1:[#7]:[#6]2:[#6]:[#6]:[#6]:[#6]:[#6]:2:[#7]2:[#6]:1:[#7]:[#6](:[#7]:2)-[#6]\n",
        "----------------\n",
        "Bioorg. Med. Chem. Lett., 15, 609, 2005\n",
        "Mean nAts 36.0, mcs nAts: 36"
       ]
      },
      {
       "output_type": "stream",
       "stream": "stdout",
       "text": [
        "\n",
        "[#6]-[#6]-[#6]-[#7]1:[#6]2:[#7]:[#6](-[#6]3:[#6]:[#6]:[#6](:[#6]:[#6]:3)-[#8]-[#6]-[#6]3:[#7]:[#6](-[#6]4:[#6]:[#6]:[#6]:[#6]:[#6]:4):[#7,#8]:[#8,#7]:3):[#7]:[#6]:2:[#6](:[#7](:[#6]:1=[#8])-[#6]-[#6]-[#6])=[#8]\n",
        "----------------\n",
        "Bioorg. Med. Chem. Lett., 18, 2813, 2008\n",
        "Mean nAts 33.7, mcs nAts: 29"
       ]
      },
      {
       "output_type": "stream",
       "stream": "stdout",
       "text": [
        "\n",
        "[#6]-[#7]-[#6](=[#8])-[#6]1-[#8,#6]-[#6](-[#7]2:[#6]:[#7]:[#6]3:[#6]:2:[#7]:[#6]:[#7]:[#6]:3-[#7]-[#6]-[#6]2:[#6]:[#6]:[#6]:[#6](:[#6]:2)-[#53,#6,#8,#17,#35])-[#6](-[#6]-1-[#8])-[#8]\n",
        "----------------\n",
        "J. Med. Chem., 51, 5875, 2008\n",
        "Mean nAts 27.8, mcs nAts: 23"
       ]
      },
      {
       "output_type": "stream",
       "stream": "stdout",
       "text": [
        "\n",
        "[#6]-[#7]1-[#6]-[#6]-[#7](-[#6]-[#6]-1)-[#6]-[#6]1:[#6]:[#16]:[#6](:[#6]:1-[#6](=[#8])-[#6]1:[#6]:[#6]:[#6](:[#6]:[#6]:1)-[#17])-[#7]\n",
        "-*-*-*-*-*-*-*-*-*-*-*-*-*-*-*-*-*-*-*-*-*-*-*-*-*-*-*-*"
       ]
      },
      {
       "output_type": "stream",
       "stream": "stdout",
       "text": [
        "\n",
        "\t Serotonin transporter Homo sapiens\n",
        "\t\t 37 papers\n",
        "----------------"
       ]
      },
      {
       "output_type": "stream",
       "stream": "stdout",
       "text": [
        "\n",
        "Bioorg. Med. Chem. Lett., 14, 4467, 2004\n",
        "Mean nAts 33.3, mcs nAts: 29"
       ]
      },
      {
       "output_type": "stream",
       "stream": "stdout",
       "text": [
        "\n",
        "[#8]=[#6]1-[#8]-[#6]2(-[#6]-[#6]-[#6](-[#6]-[#6]-2)-[#7]2-[#6]-[#6]-[#6,#7](-[#6]-[#6]-2)-[#6]-[#6]2:[#6]:[#6]:[#6]:[#6]:[#6]:2-[#17,#6,#8,#9,#35,#53])-[#6]2:[#6]-1:[#6]:[#6]:[#6]:[#6]:2\n",
        "----------------\n",
        "Bioorg. Med. Chem. Lett., 16, 4345, 2006\n",
        "Mean nAts 22.4, mcs nAts: 20"
       ]
      },
      {
       "output_type": "stream",
       "stream": "stdout",
       "text": [
        "\n",
        "[#6]1:[#6]:[#6]:[#6](:[#6]:[#6]:1)-[#6,#8]-[#6](-[#6]1:[#6]:[#6]:[#6]:[#6]:[#6]:1)-[#7,#6]1-[#6]-[#6,#7]-[#7,#6]-[#6]-[#6,#8]-1\n",
        "----------------\n",
        "Bioorg. Med. Chem. Lett., 18, 4491, 2008\n",
        "Mean nAts 21.4, mcs nAts: 21\n",
        "[#6]-[#7]-[#6]-[#6]1-[#8,#6]-[#6,#8]-[#6]2:[#6](-[#6]-1-[#8]-[#6]1:[#6]:[#6]:[#6]:[#6]:[#6]:1-[#6,#9,#17]):[#6]:[#6]:[#6]:[#6]:2\n",
        "----------------"
       ]
      },
      {
       "output_type": "stream",
       "stream": "stdout",
       "text": [
        "\n",
        "J. Med. Chem., 43, 205, 2000\n",
        "Mean nAts 31.6, mcs nAts: 17"
       ]
      },
      {
       "output_type": "stream",
       "stream": "stdout",
       "text": [
        "\n",
        "[#7]-[#6]-[#6]-[#8]-[#6](-[#6]1:[#6]:[#6]:[#6]:[#6]:[#6]:1)-[#6]1:[#6]:[#6]:[#6]:[#6]:[#6]:1\n",
        "----------------\n",
        "Bioorg. Med. Chem. Lett., 16, 1434, 2006\n",
        "Mean nAts 24.1, mcs nAts: 20"
       ]
      },
      {
       "output_type": "stream",
       "stream": "stdout",
       "text": [
        "\n",
        "[#6]-[#7]-[#6]1-[#6]-[#6]-[#6](-[#6]2:[#6]-1:[#6]:[#6]:[#6]:[#6]:2)-[#6]1:[#6]:[#6]:[#6](:[#6](:[#6]:1)-[#17])-[#17]\n",
        "----------------\n",
        "Bioorg. Med. Chem. Lett., 18, 4018, 2008\n",
        "Mean nAts 21.6, mcs nAts: 17"
       ]
      },
      {
       "output_type": "stream",
       "stream": "stdout",
       "text": [
        "\n",
        "[#6]-[#7](-[#6])-[#6]-[#6]1:[#6]:[#6]:[#6]:[#6]:[#6]:1-[#16,#6,#8]-[#6]1:[#6]:[#6]:[#6]:[#6]:[#6]:1\n",
        "----------------\n",
        "J. Med. Chem., 51, 6980, 2008\n",
        "Mean nAts 32.1, mcs nAts: 27"
       ]
      },
      {
       "output_type": "stream",
       "stream": "stdout",
       "text": [
        "\n",
        "[#6]-[#7](-[#6]-[#6]-[#6]-[#6]1:[#6]:[#7]:[#6]2:[#6]:1:[#6]:[#6](:[#6]:[#6]:2)-[#9,#6,#8,#17])-[#6]1-[#6]-[#8]-[#6]2:[#6](-[#6]-1):[#6](:[#6]:[#6]:[#6]:2)-[#8,#6]-,=[#6,#7,#8]\n",
        "----------------\n",
        "J. Med. Chem., 49, 1766, 2006\n",
        "Mean nAts 33.7, mcs nAts: 26"
       ]
      },
      {
       "output_type": "stream",
       "stream": "stdout",
       "text": [
        "\n",
        "[#6](-[#6]-[#6,#8])-[#6]-[#7]1-[#6]-[#6]-[#6](-[#6]-[#6]-1)-[#6]-[#6]-[#8]-[#6](-[#6]1:[#6]:[#6]:[#6]:[#6]:[#6]:1)-[#6]1:[#6]:[#6]:[#6]:[#6]:[#6]:1\n",
        "----------------\n",
        "Bioorg. Med. Chem. Lett., 20, 6439, 2010\n",
        "Mean nAts 29.7, mcs nAts: 19"
       ]
      },
      {
       "output_type": "stream",
       "stream": "stdout",
       "text": [
        "\n",
        "[#6]-[#6,#7]-[#7,#6]-[#6]-[#6]-[#7]1-[#6]-[#6]-[#7](-[#6]-[#6]-1)-[#6]1:[#6]:[#6]:[#6]:[#6](:[#6]:1-[#17,#6])-[#17,#6]\n",
        "----------------\n",
        "Bioorg. Med. Chem. Lett., 18, 4929, 2008\n",
        "Mean nAts 23.1, mcs nAts: 11\n",
        "[#6,#7]-[#7,#6]-[#6]-[#6]-[#6,#8]-[#6]1:[#6]:[#6]:[#6]:[#6]:[#6]:1\n",
        "----------------\n",
        "Bioorg. Med. Chem. Lett., 17, 3130, 2007\n",
        "Mean nAts 30.2, mcs nAts: 21"
       ]
      },
      {
       "output_type": "stream",
       "stream": "stdout",
       "text": [
        "\n",
        "[#6]-[#7](-[#6])-[#6]-[#6]-[#6](-[#8]-[#6]1:[#6]:[#6]:[#6]:[#6]:[#6]:1)-[#6]1:[#6]:[#6]:[#6](:[#6]:[#6]:1)-[#8,#6]-,#[#6,#7]\n",
        "----------------\n",
        "Bioorg. Med. Chem. Lett., 19, 5078, 2009\n",
        "Mean nAts 20.5, mcs nAts: 16"
       ]
      },
      {
       "output_type": "stream",
       "stream": "stdout",
       "text": [
        "\n",
        "[#6]-[#6]-[#7](-[#6](=[#8])-[#6]1:[#6]:[#6]:[#6]:[#6]:[#6]:1)-[#6]1-[#6]-[#6]-[#7]-[#6]-1\n",
        "----------------\n",
        "Bioorg. Med. Chem. Lett., 15, 5419, 2005\n",
        "Mean nAts 28.5, mcs nAts: 25\n",
        "[#6]-[#7]1-[#6]2-[#6]-[#6]-[#6]-1-[#6]-[#6](-[#6]-2)-[#7,#8]-[#6](-[#6]1:[#6]:[#6]:[#6](:[#6]:[#6]:1)-[#9,#17])-[#6]1:[#6]:[#6]:[#6](:[#6]:[#6]:1)-[#9,#17]\n",
        "----------------\n",
        "Bioorg. Med. Chem. Lett., 17, 4374, 2007\n",
        "Mean nAts 29.4, mcs nAts: 24"
       ]
      },
      {
       "output_type": "stream",
       "stream": "stdout",
       "text": [
        "\n",
        "[#6]-[#6]1-[#6]-[#7]2-[#6]-[#6]-[#6]-[#6]-2-[#6]2:[#6]-1:[#6]:[#6]:[#6](:[#6]:2)-[#8]-[#6]-[#6]-[#6]-[#7]1-[#6]-[#6]-[#6,#8]-[#6]-[#6]-1\n",
        "----------------\n",
        "Bioorg. Med. Chem. Lett., 19, 5552, 2009\n",
        "Mean nAts 31.6, mcs nAts: 16"
       ]
      },
      {
       "output_type": "stream",
       "stream": "stdout",
       "text": [
        "\n",
        "[#7,#6]-[#6]-[#6]1-[#6]-[#6]-[#6]2:[#6](-[#6]-1):[#6,#7]:[#6](:[#7,#6]:2):[#6]:[#6]:[#6](-[#9]):[#6]\n",
        "----------------\n",
        "Bioorg. Med. Chem. Lett., 18, 5303, 2008\n",
        "Mean nAts 22.8, mcs nAts: 18"
       ]
      },
      {
       "output_type": "stream",
       "stream": "stdout",
       "text": [
        "\n",
        "[#6,#9]-[#16,#6]-[#6]1:[#6]:[#6]:[#6](:[#6]:[#6]:1)-[#8]-[#6]1:[#6]:[#6]:[#7,#6]:[#6]:[#6]:1-[#6]-[#7]-[#6]\n",
        "----------------\n",
        "Bioorg. Med. Chem. Lett., 19, 4781, 2009\n",
        "Mean nAts 39.4, mcs nAts: 34"
       ]
      },
      {
       "output_type": "stream",
       "stream": "stdout",
       "text": [
        "\n",
        "[#6]-[#8]-[#6]1:[#6]:[#6]:[#6](:[#6]:[#6]:1)-[#6](-[#6])-[#7]-[#6]1-[#6]-[#6]-[#6](-[#6](-[#6]-1)(-[#6])-[#6])-[#6](=[#8])-[#6,#7]1-[#6]-[#6]-[#6](-[#6]-[#6]-1)(-[#7,#6])-[#6,#7]1:,-[#6]:,-[#6]:,-[#6]:,-[#6,#7,#8]:,-[#6]:,-1\n",
        "----------------\n",
        "Bioorg. Med. Chem. Lett., 17, 4799, 2007\n",
        "Mean nAts 28.2, mcs nAts: 21"
       ]
      },
      {
       "output_type": "stream",
       "stream": "stdout",
       "text": [
        "\n",
        "[#6]-[#7]-[#6]-[#6]1:[#6]:[#6](-[#6]#,-[#6]-[#6]-[#6]-[#7]):[#6]:[#6]:[#6]:1-[#8]-[#6]1:[#6]:[#6]:[#6]:[#6]:[#6]:1\n",
        "----------------\n",
        "Bioorg. Med. Chem. Lett., 16, 5695, 2006\n",
        "Mean nAts 34.3, mcs nAts: 31"
       ]
      },
      {
       "output_type": "stream",
       "stream": "stdout",
       "text": [
        "\n",
        "[#6]-[#6](=[#8])-[#6]1:[#6]:[#6]:[#6]:[#6](:[#6]:1)-[#7]-[#6](=[#8])-[#7]-[#6]-[#6]-[#6]-[#6]1-[#6]-[#6](-[#6]-[#6]2:[#6]:[#6]:[#6](:[#6]:[#6]:2)-[#9])-[#6]-[#6]-[#7]-1-[#6]\n",
        "----------------\n",
        "J. Med. Chem., 51, 7265, 2008\n",
        "Mean nAts 19.2, mcs nAts: 9\n",
        "[#7,#8]-,=[#6](=,-[#8,#7])-[#6]1(-[#6])-[#6]-[#6]-1-[#6]-[#7]\n",
        "----------------"
       ]
      },
      {
       "output_type": "stream",
       "stream": "stdout",
       "text": [
        "\n",
        "Bioorg. Med. Chem. Lett., 17, 2022, 2007\n",
        "Mean nAts 21.7, mcs nAts: 15"
       ]
      },
      {
       "output_type": "stream",
       "stream": "stdout",
       "text": [
        "\n",
        "[#6]1:[#6]:[#6]:[#6]:[#6](:[#6]:1-[#17,#6,#9])-[#6]-[#7](-[#6])-[#6]1-[#6]-[#6]-[#7]-[#6]-1\n",
        "----------------\n",
        "J. Med. Chem., 50, 3686, 2007\n",
        "Mean nAts 28.9, mcs nAts: 27"
       ]
      },
      {
       "output_type": "stream",
       "stream": "stdout",
       "text": [
        "\n",
        "[#6]-[#7]1-[#6]2-[#6]-[#6]-[#6]-1-[#6]-[#6](-[#6]-2-[#6]1:[#7]:[#6]:[#6](:[#16]:1)-[#6]1:[#6]:[#6]:[#6]:[#6]:[#6]:1)-[#6]1:[#6]:[#6]:[#6](:[#6]:[#6]:1)-[#17,#6]\n",
        "----------------\n",
        "Bioorg. Med. Chem. Lett., 18, 1346, 2008\n",
        "Mean nAts 21.4, mcs nAts: 14"
       ]
      },
      {
       "output_type": "stream",
       "stream": "stdout",
       "text": [
        "\n",
        "[#7,#8]-,=[#6](=,-[#8,#6,#7])-[#6]1(-[#6]2:[#6]:[#6]:[#6]:[#6]:[#6]:2)-[#6]-[#6]-1-[#6]-[#7]\n",
        "----------------\n",
        "Bioorg. Med. Chem. Lett., 19, 5893, 2009\n",
        "Mean nAts 21.3, mcs nAts: 13"
       ]
      },
      {
       "output_type": "stream",
       "stream": "stdout",
       "text": [
        "\n",
        "[#6]1:[#6]:[#6]:[#6]2:[#6](:[#6]:1):[#6]:[#6]:[#6](:[#6]:2)-[#6]-[#8,#7]-[#6,#16]\n",
        "----------------\n",
        "Bioorg. Med. Chem. Lett., 19, 5807, 2009\n",
        "Mean nAts 22.5, mcs nAts: 21"
       ]
      },
      {
       "output_type": "stream",
       "stream": "stdout",
       "text": [
        "\n",
        "[#6]-[#7]-[#6]-[#6](-[#8])-[#6](-[#6]1:[#6]:[#6]:[#6]:[#6]:[#6]:1)-[#7]1:[#6]:[#6]:[#6]2:[#6]:1:[#6]:[#6]:[#6]:[#6]:2\n",
        "----------------\n",
        "Bioorg. Med. Chem. Lett., 21, 1434, 2011\n",
        "Mean nAts 19.3, mcs nAts: 15"
       ]
      },
      {
       "output_type": "stream",
       "stream": "stdout",
       "text": [
        "\n",
        "[#6,#7]-[#6](-[#7,#6])-[#6]1(-[#6]2:[#6]:[#6]:[#6]:[#6]:[#6]:2)-[#6]-[#6]-[#6]-[#6]-[#6]-1\n",
        "----------------\n",
        "Bioorg. Med. Chem. Lett., 20, 1555, 2010\n",
        "Mean nAts 24.5, mcs nAts: 23\n",
        "[#6,#7]-[#7,#6]-[#6]-[#6]-[#6]-[#6,#7]1-[#6]-[#6]2:[#6]:[#6]:[#6]:[#6]:[#6]:2-[#7](-[#16]-1(=[#8])=[#8])-[#6]1:[#6]:[#6]:[#6]:[#6]:[#6]:1\n",
        "----------------\n",
        "J. Med. Chem., 47, 6401, 2004\n",
        "Mean nAts 20.0, mcs nAts: 19"
       ]
      },
      {
       "output_type": "stream",
       "stream": "stdout",
       "text": [
        "\n",
        "[#6]-[#8]-[#6](=[#8])-[#6]1-[#6]2-[#6]-[#6]-[#6](-[#7]-2-[#6])-[#6]-[#6]-1-[#6]1:[#6]:[#6]:[#6]:[#6]:[#6]:1\n",
        "----------------\n",
        "J. Med. Chem., 48, 2054, 2005\n",
        "Mean nAts 34.3, mcs nAts: 24"
       ]
      },
      {
       "output_type": "stream",
       "stream": "stdout",
       "text": [
        "\n",
        "[#6]-[#6]-,=[#6]-[#6]-[#7]1-[#6]-[#6]-[#7](-[#6]-[#6]-1)-[#6]-[#6]1-[#8]-[#7]=[#6]2-[#6]-1-[#6]=,-[#6,#7,#8]-[#6]1:[#6]-2:[#6]:[#6]:[#6]:[#6]:1\n",
        "----------------\n",
        "Bioorg. Med. Chem. Lett., 20, 1027, 2010\n",
        "Mean nAts 22.1, mcs nAts: 13"
       ]
      },
      {
       "output_type": "stream",
       "stream": "stdout",
       "text": [
        "\n",
        "[#6]-[#6]-[#6]-[#6]1:[#6]:[#7]:[#6]2:[#6]:1:[#6]:[#6](:[#6]:[#6]:2)-[#6,#8,#9]\n",
        "----------------\n",
        "Bioorg. Med. Chem. Lett., 14, 2653, 2004\n",
        "Mean nAts 31.4, mcs nAts: 23"
       ]
      },
      {
       "output_type": "stream",
       "stream": "stdout",
       "text": [
        "\n",
        "[#6]-[#6]1:[#6]:[#6]2:[#6](:[#7]:1):[#6]:[#6]:[#6]:[#6]:2-[#8]-[#6]-[#6](-[#8])-[#6]-[#7]1-[#6]-[#6]-[#6](-[#6]-[#6]-1-[#6])-[#6]\n",
        "----------------\n",
        "J. Med. Chem., 48, 6023, 2005\n",
        "Mean nAts 18.1, mcs nAts: 16"
       ]
      },
      {
       "output_type": "stream",
       "stream": "stdout",
       "text": [
        "\n",
        "[#6]-[#7](-[#6])-[#6]-[#6]1-[#6]-[#6]-1-[#6]1:[#6]:[#7]:[#6]2:[#6]:1:[#6]:[#6]:[#6]:[#6]:2\n",
        "----------------\n",
        "Bioorg. Med. Chem. Lett., 18, 2896, 2008\n",
        "Mean nAts 19.8, mcs nAts: 18\n",
        "[#6]-[#7]-[#6]-[#6]1:[#6]:[#7,#6]:[#6]:[#6]:[#6]:1-[#8]-[#6]1:[#6]:[#6]:[#6](:[#6]:[#6]:1-[#17,#6,#8,#35])-[#17,#6,#9]\n",
        "----------------"
       ]
      },
      {
       "output_type": "stream",
       "stream": "stdout",
       "text": [
        "\n",
        "Bioorg. Med. Chem. Lett., 18, 6151, 2008\n",
        "Mean nAts 21.7, mcs nAts: 21\n",
        "[#6]-[#7]-[#6]-[#6]1(-[#8])-[#6]-[#6]2:[#6]:[#6]:[#6]:[#6]:[#6]:2-[#6]-1-[#8,#6,#16]-[#6]1:[#6]:[#6]:[#6]:[#6]:[#6]:1-[#6,#8,#9,#16,#17]\n",
        "----------------\n",
        "Bioorg. Med. Chem. Lett., 20, 2983, 2010\n",
        "Mean nAts 32.3, mcs nAts: 13"
       ]
      },
      {
       "output_type": "stream",
       "stream": "stdout",
       "text": [
        "\n",
        "[#6]-[#8,#6]-[#6]1:[#6]:[#6]:[#6]2:[#6](:[#6]:1)-[#7]-[#6](=[#8])-[#6]-[#6]-2\n",
        "----------------\n",
        "Bioorg. Med. Chem. Lett., 18, 4495, 2008\n",
        "Mean nAts 21.6, mcs nAts: 9"
       ]
      },
      {
       "output_type": "stream",
       "stream": "stdout",
       "text": [
        "\n",
        "[#6,#7]-[#8,#6]-[#6]1:,-[#6,#8,#16]:,-[#6,#8,#16]:,-[#6,#8]:,-[#6,#8]:,-[#6]:,-1-[#6,#8]\n",
        "----------------\n",
        "J. Med. Chem., 54, 6305, 2011\n",
        "Mean nAts 36.2, mcs nAts: 33"
       ]
      },
      {
       "output_type": "stream",
       "stream": "stdout",
       "text": [
        "\n",
        "[#6]-[#6]1:[#7]:[#6](-[#6](=[#8])-[#7]-[#6]-[#6]-[#6]-[#7]2-[#6]-[#6]-[#7](-[#6]-[#6]-2)-[#6]2:[#6]:[#6]:[#6]:[#6](:[#6]:2-[#17,#6])-[#17,#6]):[#6](:[#7]:1-[#6]1:[#6]:[#6]:[#6]:[#6]:[#6]:1)-[#6]\n",
        "-*-*-*-*-*-*-*-*-*-*-*-*-*-*-*-*-*-*-*-*-*-*-*-*-*-*-*-*"
       ]
      },
      {
       "output_type": "stream",
       "stream": "stdout",
       "text": [
        "\n",
        "\t Cyclooxygenase-2 Homo sapiens\n",
        "\t\t 8 papers\n",
        "----------------\n",
        "J. Med. Chem., 50, 6367, 2007\n",
        "Mean nAts 30.2, mcs nAts: 23"
       ]
      },
      {
       "output_type": "stream",
       "stream": "stdout",
       "text": [
        "\n",
        "[#6]-[#6]1:[#6](-[#6]-[#6]-,=[#8,#7]):[#6]2:[#6]:[#6](-[#8]):[#6]:[#6]:[#6]:2:[#7]:1-[#6](=[#8])-[#6]1:[#6]:[#6]:[#6](:[#6]:[#6]:1)-[#17]\n",
        "----------------\n",
        "Bioorg. Med. Chem. Lett., 19, 4504, 2009\n",
        "Mean nAts 26.1, mcs nAts: 19"
       ]
      },
      {
       "output_type": "stream",
       "stream": "stdout",
       "text": [
        "\n",
        "[#6,#7]-[#16](=[#8])(=[#8])-[#6]1:[#6]:[#6]:[#6](:[#6]:[#6]:1)-[#6]1:[#6,#7]:[#6](-[#6,#7,#8]-[#9,#6]):[#7]:[#6](:[#7,#6]:1)-[#7,#6,#8]\n",
        "----------------\n",
        "Bioorg. Med. Chem. Lett., 19, 4509, 2009\n",
        "Mean nAts 29.6, mcs nAts: 25"
       ]
      },
      {
       "output_type": "stream",
       "stream": "stdout",
       "text": [
        "\n",
        "[#6,#8]-[#6,#7]-[#6]1:[#7]:[#6]:[#6](:[#6](:[#7]:1)-[#6]1:[#6]:[#6]:[#6](:[#6]:[#6]:1)-[#9])-[#6]1:[#6]:[#6]:[#6](:[#6]:[#6]:1)-[#16](-[#6])(=[#8])=[#8]\n",
        "----------------\n",
        "J. Biol. Chem., 282, 16379, 2007\n",
        "Mean nAts 20.2, mcs nAts: 19\n",
        "[#6,#9,#17]-[#6]1:[#6]:[#6]:[#6]:[#6](:[#6]:1-[#7]-[#6]1:[#6]:[#6]:[#6]:[#6]:[#6]:1-[#6]-[#6](=[#8])-[#8])-[#17,#6]\n",
        "----------------\n",
        "Bioorg. Med. Chem. Lett., 20, 7164, 2010\n",
        "Mean nAts 21.0, mcs nAts: 18"
       ]
      },
      {
       "output_type": "stream",
       "stream": "stdout",
       "text": [
        "\n",
        "[#8]=[#6](-[#8])-[#6]1=[#6]-[#6]2:[#6]:[#6](-[#17,#6,#8]):[#6]:[#6]:[#6]:2-[#8]-[#6]-1-[#6](-[#9])(-[#9])-[#9]\n",
        "----------------\n",
        "Bioorg. Med. Chem. Lett., 20, 7159, 2010\n",
        "Mean nAts 22.4, mcs nAts: 19"
       ]
      },
      {
       "output_type": "stream",
       "stream": "stdout",
       "text": [
        "\n",
        "[#8]=[#6](-[#8])-[#6](=[#6])-[#6](-[#8]-[#6]1:[#6]:[#6]:[#6](:[#6](:[#6]:1)-[#17,#6,#7,#8,#16])-[#17])-[#6](-[#9])(-[#9])-[#9]\n",
        "----------------\n",
        "Bioorg. Med. Chem. Lett., 21, 993, 2011\n",
        "Mean nAts 25.4, mcs nAts: 24\n",
        "[#8]=[#6](-[#8])-[#6]1=[#6]-[#6]2:[#6]:[#6](-[#17]):[#6]:[#6](:[#6]:2-[#8]-[#6]-1-[#6](-[#9])(-[#9])-[#9])-[#6]1:[#6]:[#6]:[#6]:[#6]:[#6]:1\n",
        "----------------"
       ]
      },
      {
       "output_type": "stream",
       "stream": "stdout",
       "text": [
        "\n",
        "Eur. J. Med. Chem., 50, 179, 2012\n",
        "Mean nAts 25.0, mcs nAts: 22"
       ]
      },
      {
       "output_type": "stream",
       "stream": "stdout",
       "text": [
        "\n",
        "[#6]-[#6]1:[#6]:[#6]:[#7]:[#6](:[#6]:1)-[#6](=[#8])-[#6]1:[#7]:[#6]2:[#6]:[#6]:[#6]:[#6]:[#6]:2:[#6]:1-[#6]-[#6](=[#8])-[#8]\n"
       ]
      }
     ],
     "prompt_number": 37
    },
    {
     "cell_type": "code",
     "collapsed": false,
     "input": [
      "import pickle\n",
      "alldata = []\n",
      "with open('results/papers_mcs_results.pkl','rb+') as inf:\n",
      "    while 1:\n",
      "        try:\n",
      "            row = pickle.load(inf)\n",
      "        except EOFError:\n",
      "            break\n",
      "        alldata.append(row)"
     ],
     "language": "python",
     "metadata": {},
     "outputs": [],
     "prompt_number": 39
    },
    {
     "cell_type": "code",
     "collapsed": false,
     "input": [
      "len(alldata)"
     ],
     "language": "python",
     "metadata": {},
     "outputs": [
      {
       "metadata": {},
       "output_type": "pyout",
       "prompt_number": 40,
       "text": [
        "37"
       ]
      }
     ],
     "prompt_number": 40
    },
    {
     "cell_type": "code",
     "collapsed": false,
     "input": [
      "alldata[0]"
     ],
     "language": "python",
     "metadata": {},
     "outputs": [
      {
       "metadata": {},
       "output_type": "pyout",
       "prompt_number": 41,
       "text": [
        "[(130,\n",
        "  Decimal('57606'),\n",
        "  'J. Med. Chem., 54, 3581, 2011',\n",
        "  MCSRes(smarts='[#8,#6]=,-[#6]-[#7]-[#6]-[#6]-,=[#6]-[#6]-[#7]1-[#6]-[#6]-[#7](-[#6]-[#6]-1)-[#6]1:[#6]:[#6]:[#6]:[#6]:[#6]:1-[#17,#8]', numAtoms=20, numMols=32, avgNumMolAtoms=array([32, 34, 35, 23, 34, 31, 30, 33, 31, 33, 30, 33, 33, 31, 31, 36, 34,\n",
        "       31, 35, 31, 31, 35, 34, 36, 33, 32, 34, 31, 33, 35, 32, 33]), mcsTime=0.5473470687866211),\n",
        "  [<rdkit.Chem.rdchem.Mol at 0x7f46f2a7caa0>,\n",
        "   <rdkit.Chem.rdchem.Mol at 0x7f46f2a7cba8>,\n",
        "   <rdkit.Chem.rdchem.Mol at 0x7f46f2a7c520>,\n",
        "   <rdkit.Chem.rdchem.Mol at 0x7f46f2a7ccb0>,\n",
        "   <rdkit.Chem.rdchem.Mol at 0x7f46f2a7c8e8>,\n",
        "   <rdkit.Chem.rdchem.Mol at 0x7f46f2b1fb50>,\n",
        "   <rdkit.Chem.rdchem.Mol at 0x7f46f2b1fba8>,\n",
        "   <rdkit.Chem.rdchem.Mol at 0x7f46f2b1fc00>,\n",
        "   <rdkit.Chem.rdchem.Mol at 0x7f46f2b1fc58>,\n",
        "   <rdkit.Chem.rdchem.Mol at 0x7f46f2b1fcb0>,\n",
        "   <rdkit.Chem.rdchem.Mol at 0x7f46f2b1fd08>,\n",
        "   <rdkit.Chem.rdchem.Mol at 0x7f46f2b1f940>,\n",
        "   <rdkit.Chem.rdchem.Mol at 0x7f46f2b1f998>,\n",
        "   <rdkit.Chem.rdchem.Mol at 0x7f46f2b1f9f0>,\n",
        "   <rdkit.Chem.rdchem.Mol at 0x7f46f2b1fa48>,\n",
        "   <rdkit.Chem.rdchem.Mol at 0x7f46f2b1faa0>,\n",
        "   <rdkit.Chem.rdchem.Mol at 0x7f46f2b1f4c8>,\n",
        "   <rdkit.Chem.rdchem.Mol at 0x7f46f2b1f520>,\n",
        "   <rdkit.Chem.rdchem.Mol at 0x7f46f2b1f578>,\n",
        "   <rdkit.Chem.rdchem.Mol at 0x7f46f2b1f5d0>,\n",
        "   <rdkit.Chem.rdchem.Mol at 0x7f46f2b1f628>,\n",
        "   <rdkit.Chem.rdchem.Mol at 0x7f46f2b1f680>,\n",
        "   <rdkit.Chem.rdchem.Mol at 0x7f46f2b1f6d8>,\n",
        "   <rdkit.Chem.rdchem.Mol at 0x7f46f2b1f730>,\n",
        "   <rdkit.Chem.rdchem.Mol at 0x7f46f2b1f788>,\n",
        "   <rdkit.Chem.rdchem.Mol at 0x7f46f2b1f7e0>,\n",
        "   <rdkit.Chem.rdchem.Mol at 0x7f46f2b1f838>,\n",
        "   <rdkit.Chem.rdchem.Mol at 0x7f46f2b1f890>,\n",
        "   <rdkit.Chem.rdchem.Mol at 0x7f46f2b1f8e8>,\n",
        "   <rdkit.Chem.rdchem.Mol at 0x7f46f2b1f418>,\n",
        "   <rdkit.Chem.rdchem.Mol at 0x7f46f2b1f470>,\n",
        "   <rdkit.Chem.rdchem.Mol at 0x7f46f2b1fdb8>]),\n",
        " (130,\n",
        "  Decimal('30988'),\n",
        "  'Bioorg. Med. Chem. Lett., 16, 1934, 2006',\n",
        "  MCSRes(smarts='[#7,#6]-[#6]-[#6]-[#6]-[#6]-[#7]1-[#6]-[#6]-[#7](-[#6]-[#6]-1)-[#6]1:[#6,#7]:[#6](-[#6](-[#9,#6])(-[#9,#6])-[#9,#6]):[#7]:[#6](:[#7,#6]:1)-[#6](-[#6,#9])(-[#6,#9])-[#6,#9]', numAtoms=25, numMols=24, avgNumMolAtoms=array([35, 37, 35, 32, 35, 35, 35, 32, 32, 37, 32, 32, 37, 35, 32, 36, 33,\n",
        "       35, 34, 32, 35, 32, 33, 32]), mcsTime=46.49760699272156),\n",
        "  [<rdkit.Chem.rdchem.Mol at 0x7f46f2b1fe10>,\n",
        "   <rdkit.Chem.rdchem.Mol at 0x7f46f2b1fe68>,\n",
        "   <rdkit.Chem.rdchem.Mol at 0x7f46f2b1fec0>,\n",
        "   <rdkit.Chem.rdchem.Mol at 0x7f46f2b1ff18>,\n",
        "   <rdkit.Chem.rdchem.Mol at 0x7f46f2b1ff70>,\n",
        "   <rdkit.Chem.rdchem.Mol at 0x7f46f2b1ffc8>,\n",
        "   <rdkit.Chem.rdchem.Mol at 0x7f46f2b1f368>,\n",
        "   <rdkit.Chem.rdchem.Mol at 0x7f46f2b1f3c0>,\n",
        "   <rdkit.Chem.rdchem.Mol at 0x7f46f2b1fd60>,\n",
        "   <rdkit.Chem.rdchem.Mol at 0x7f46f639baf8>,\n",
        "   <rdkit.Chem.rdchem.Mol at 0x7f46f639b418>,\n",
        "   <rdkit.Chem.rdchem.Mol at 0x7f46f639b5d0>,\n",
        "   <rdkit.Chem.rdchem.Mol at 0x7f46f639bb50>,\n",
        "   <rdkit.Chem.rdchem.Mol at 0x7f46f639b940>,\n",
        "   <rdkit.Chem.rdchem.Mol at 0x7f46f639b208>,\n",
        "   <rdkit.Chem.rdchem.Mol at 0x7f46f639b578>,\n",
        "   <rdkit.Chem.rdchem.Mol at 0x7f46f639b788>,\n",
        "   <rdkit.Chem.rdchem.Mol at 0x7f46f639b680>,\n",
        "   <rdkit.Chem.rdchem.Mol at 0x7f46f639b3c0>,\n",
        "   <rdkit.Chem.rdchem.Mol at 0x7f46f451ec00>,\n",
        "   <rdkit.Chem.rdchem.Mol at 0x7f46f451ed60>,\n",
        "   <rdkit.Chem.rdchem.Mol at 0x7f46f451efc8>,\n",
        "   <rdkit.Chem.rdchem.Mol at 0x7f46f451ef18>,\n",
        "   <rdkit.Chem.rdchem.Mol at 0x7f46f451ed08>]),\n",
        " (130,\n",
        "  Decimal('47889'),\n",
        "  'Bioorg. Med. Chem., 17, 4448, 2009',\n",
        "  MCSRes(smarts='[#6]1:[#7]:[#6]2:[#6,#7]:[#6,#7](-[#6,#7]):[#7,#6]:[#6,#7]:[#7,#6]:2:[#6]:1-[#6]-[#7]1-[#6]-[#6]-[#7](-[#6]-[#6]-1)-[#6]1:[#6]:[#6]:[#6]:[#6]:[#7,#6]:1', numAtoms=23, numMols=16, avgNumMolAtoms=array([30, 29, 26, 27, 25, 26, 23, 23, 29, 28, 30, 31, 25, 27, 27, 28]), mcsTime=0.13294696807861328),\n",
        "  [<rdkit.Chem.rdchem.Mol at 0x7f46f451eec0>,\n",
        "   <rdkit.Chem.rdchem.Mol at 0x7f46f451edb8>,\n",
        "   <rdkit.Chem.rdchem.Mol at 0x7f46f451eba8>,\n",
        "   <rdkit.Chem.rdchem.Mol at 0x7f46f451ee10>,\n",
        "   <rdkit.Chem.rdchem.Mol at 0x7f46f451eb50>,\n",
        "   <rdkit.Chem.rdchem.Mol at 0x7f46f451ec58>,\n",
        "   <rdkit.Chem.rdchem.Mol at 0x7f46f451ee68>,\n",
        "   <rdkit.Chem.rdchem.Mol at 0x7f46f451ef70>,\n",
        "   <rdkit.Chem.rdchem.Mol at 0x7f46f451ecb0>,\n",
        "   <rdkit.Chem.rdchem.Mol at 0x7f46f451e890>,\n",
        "   <rdkit.Chem.rdchem.Mol at 0x7f46f451e9f0>,\n",
        "   <rdkit.Chem.rdchem.Mol at 0x7f46f63b3050>,\n",
        "   <rdkit.Chem.rdchem.Mol at 0x7f46f63b30a8>,\n",
        "   <rdkit.Chem.rdchem.Mol at 0x7f46f63b3100>,\n",
        "   <rdkit.Chem.rdchem.Mol at 0x7f46f63b3158>,\n",
        "   <rdkit.Chem.rdchem.Mol at 0x7f46f63b31b0>]),\n",
        " (130,\n",
        "  Decimal('16146'),\n",
        "  'J. Med. Chem., 44, 3391, 2001',\n",
        "  MCSRes(smarts='[#6]1:,-[#6]:,-[#6]:,-[#6,#7](:,-[#6]:,-[#6]:,-1)-[#6]-[#7,#6]1-,:[#6]-,:[#6]-,:[#6]-,:[#6]-,:[#6]-,:1', numAtoms=13, numMols=14, avgNumMolAtoms=array([25, 35, 35, 27, 28, 27, 38, 38, 37, 27, 33, 29, 31, 36]), mcsTime=0.30890893936157227),\n",
        "  [<rdkit.Chem.rdchem.Mol at 0x7f46f63b3208>,\n",
        "   <rdkit.Chem.rdchem.Mol at 0x7f46f63b3260>,\n",
        "   <rdkit.Chem.rdchem.Mol at 0x7f46f63b32b8>,\n",
        "   <rdkit.Chem.rdchem.Mol at 0x7f46f63b3310>,\n",
        "   <rdkit.Chem.rdchem.Mol at 0x7f46f63b3368>,\n",
        "   <rdkit.Chem.rdchem.Mol at 0x7f46f63b33c0>,\n",
        "   <rdkit.Chem.rdchem.Mol at 0x7f46f63b3418>,\n",
        "   <rdkit.Chem.rdchem.Mol at 0x7f46f63b3470>,\n",
        "   <rdkit.Chem.rdchem.Mol at 0x7f46f63b34c8>,\n",
        "   <rdkit.Chem.rdchem.Mol at 0x7f46f63b3520>,\n",
        "   <rdkit.Chem.rdchem.Mol at 0x7f46f63b3578>,\n",
        "   <rdkit.Chem.rdchem.Mol at 0x7f46f63b35d0>,\n",
        "   <rdkit.Chem.rdchem.Mol at 0x7f46f63b3628>,\n",
        "   <rdkit.Chem.rdchem.Mol at 0x7f46f63b3680>]),\n",
        " (130,\n",
        "  Decimal('36886'),\n",
        "  'Bioorg. Med. Chem., 15, 5811, 2007',\n",
        "  MCSRes(smarts='[#7]-[#6]-[#6]-[#6]-[#6]-[#7]1-[#6]-[#6]-[#7](-[#6]-[#6]-1)-[#6]1:[#6]:[#6]:[#6]:[#6]:[#6]:1', numAtoms=17, numMols=16, avgNumMolAtoms=array([26, 31, 30, 32, 30, 26, 28, 28, 29, 27, 30, 27, 28, 28, 27, 29]), mcsTime=0.04052281379699707),\n",
        "  [<rdkit.Chem.rdchem.Mol at 0x7f46f63b36d8>,\n",
        "   <rdkit.Chem.rdchem.Mol at 0x7f46f63b3730>,\n",
        "   <rdkit.Chem.rdchem.Mol at 0x7f46f63b3788>,\n",
        "   <rdkit.Chem.rdchem.Mol at 0x7f46f63b37e0>,\n",
        "   <rdkit.Chem.rdchem.Mol at 0x7f46f63b3838>,\n",
        "   <rdkit.Chem.rdchem.Mol at 0x7f46f63b3890>,\n",
        "   <rdkit.Chem.rdchem.Mol at 0x7f46f63b38e8>,\n",
        "   <rdkit.Chem.rdchem.Mol at 0x7f46f63b3940>,\n",
        "   <rdkit.Chem.rdchem.Mol at 0x7f46f63b3998>,\n",
        "   <rdkit.Chem.rdchem.Mol at 0x7f46f63b39f0>,\n",
        "   <rdkit.Chem.rdchem.Mol at 0x7f46f63b3a48>,\n",
        "   <rdkit.Chem.rdchem.Mol at 0x7f46f63b3aa0>,\n",
        "   <rdkit.Chem.rdchem.Mol at 0x7f46f63b3af8>,\n",
        "   <rdkit.Chem.rdchem.Mol at 0x7f46f63b3b50>,\n",
        "   <rdkit.Chem.rdchem.Mol at 0x7f46f63b3ba8>,\n",
        "   <rdkit.Chem.rdchem.Mol at 0x7f46f63b3c00>]),\n",
        " (130,\n",
        "  Decimal('45210'),\n",
        "  'J. Med. Chem., 51, 6095, 2008',\n",
        "  MCSRes(smarts='[#8]-[#6]1(-[#6]2:[#6]:[#6]:[#6]:[#6]:[#6]:2)-[#6]-[#6]2-[#6]-[#6]-[#6](-[#6]-1)-[#7]-2-[#6]-[#6]1:[#6,#7]:[#8,#7,#16]:[#6]2:[#6]:1:[#6]:[#6]:[#6]:[#6]:2', numAtoms=25, numMols=25, avgNumMolAtoms=array([28, 30, 27, 26, 27, 27, 27, 29, 27, 27, 28, 26, 26, 27, 26, 28, 26,\n",
        "       26, 30, 27, 25, 26, 24, 27, 29]), mcsTime=0.38083505630493164),\n",
        "  [<rdkit.Chem.rdchem.Mol at 0x7f46f63b3c58>,\n",
        "   <rdkit.Chem.rdchem.Mol at 0x7f46f63b3cb0>,\n",
        "   <rdkit.Chem.rdchem.Mol at 0x7f46f63b3d08>,\n",
        "   <rdkit.Chem.rdchem.Mol at 0x7f46f63b3d60>,\n",
        "   <rdkit.Chem.rdchem.Mol at 0x7f46f63b3db8>,\n",
        "   <rdkit.Chem.rdchem.Mol at 0x7f46f63b3e10>,\n",
        "   <rdkit.Chem.rdchem.Mol at 0x7f46f63b3e68>,\n",
        "   <rdkit.Chem.rdchem.Mol at 0x7f46f63b3ec0>,\n",
        "   <rdkit.Chem.rdchem.Mol at 0x7f46f63b3f18>,\n",
        "   <rdkit.Chem.rdchem.Mol at 0x7f46f63b3f70>,\n",
        "   <rdkit.Chem.rdchem.Mol at 0x7f46f63b3fc8>,\n",
        "   <rdkit.Chem.rdchem.Mol at 0x7f46f63ae050>,\n",
        "   <rdkit.Chem.rdchem.Mol at 0x7f46f63ae0a8>,\n",
        "   <rdkit.Chem.rdchem.Mol at 0x7f46f63ae100>,\n",
        "   <rdkit.Chem.rdchem.Mol at 0x7f46f63ae158>,\n",
        "   <rdkit.Chem.rdchem.Mol at 0x7f46f63ae1b0>,\n",
        "   <rdkit.Chem.rdchem.Mol at 0x7f46f63ae208>,\n",
        "   <rdkit.Chem.rdchem.Mol at 0x7f46f63ae260>,\n",
        "   <rdkit.Chem.rdchem.Mol at 0x7f46f63ae2b8>,\n",
        "   <rdkit.Chem.rdchem.Mol at 0x7f46f63ae310>,\n",
        "   <rdkit.Chem.rdchem.Mol at 0x7f46f63ae368>,\n",
        "   <rdkit.Chem.rdchem.Mol at 0x7f46f63ae3c0>,\n",
        "   <rdkit.Chem.rdchem.Mol at 0x7f46f63ae418>,\n",
        "   <rdkit.Chem.rdchem.Mol at 0x7f46f63ae470>,\n",
        "   <rdkit.Chem.rdchem.Mol at 0x7f46f63ae4c8>]),\n",
        " (130,\n",
        "  Decimal('37020'),\n",
        "  'Bioorg. Med. Chem., 15, 7258, 2007',\n",
        "  MCSRes(smarts='[#6](-[#6,#7]=,-[#6]-[#6,#7]1:,-[#6]:,-[#6]:,-[#6,#7]:,-[#6]:,-[#6]:,-1)-[#7,#6]-[#6,#7]', numAtoms=11, numMols=36, avgNumMolAtoms=array([25, 32, 35, 36, 31, 37, 38, 35, 34, 33, 36, 36, 37, 34, 30, 36, 39,\n",
        "       37, 38, 31, 35, 34, 37, 36, 38, 32, 40, 39, 34, 35, 31, 32, 36, 35,\n",
        "       35, 32]), mcsTime=0.9500432014465332),\n",
        "  [<rdkit.Chem.rdchem.Mol at 0x7f46f63ae520>,\n",
        "   <rdkit.Chem.rdchem.Mol at 0x7f46f63ae578>,\n",
        "   <rdkit.Chem.rdchem.Mol at 0x7f46f63ae5d0>,\n",
        "   <rdkit.Chem.rdchem.Mol at 0x7f46f63ae628>,\n",
        "   <rdkit.Chem.rdchem.Mol at 0x7f46f63ae680>,\n",
        "   <rdkit.Chem.rdchem.Mol at 0x7f46f63ae6d8>,\n",
        "   <rdkit.Chem.rdchem.Mol at 0x7f46f63ae730>,\n",
        "   <rdkit.Chem.rdchem.Mol at 0x7f46f63ae788>,\n",
        "   <rdkit.Chem.rdchem.Mol at 0x7f46f63ae7e0>,\n",
        "   <rdkit.Chem.rdchem.Mol at 0x7f46f63ae838>,\n",
        "   <rdkit.Chem.rdchem.Mol at 0x7f46f63ae890>,\n",
        "   <rdkit.Chem.rdchem.Mol at 0x7f46f63ae8e8>,\n",
        "   <rdkit.Chem.rdchem.Mol at 0x7f46f63ae940>,\n",
        "   <rdkit.Chem.rdchem.Mol at 0x7f46f63ae998>,\n",
        "   <rdkit.Chem.rdchem.Mol at 0x7f46f63ae9f0>,\n",
        "   <rdkit.Chem.rdchem.Mol at 0x7f46f63aea48>,\n",
        "   <rdkit.Chem.rdchem.Mol at 0x7f46f63aeaa0>,\n",
        "   <rdkit.Chem.rdchem.Mol at 0x7f46f63aeaf8>,\n",
        "   <rdkit.Chem.rdchem.Mol at 0x7f46f63aeb50>,\n",
        "   <rdkit.Chem.rdchem.Mol at 0x7f46f63aeba8>,\n",
        "   <rdkit.Chem.rdchem.Mol at 0x7f46f63aec00>,\n",
        "   <rdkit.Chem.rdchem.Mol at 0x7f46f63aec58>,\n",
        "   <rdkit.Chem.rdchem.Mol at 0x7f46f63aecb0>,\n",
        "   <rdkit.Chem.rdchem.Mol at 0x7f46f63aed08>,\n",
        "   <rdkit.Chem.rdchem.Mol at 0x7f46f63aed60>,\n",
        "   <rdkit.Chem.rdchem.Mol at 0x7f46f63aedb8>,\n",
        "   <rdkit.Chem.rdchem.Mol at 0x7f46f63aee10>,\n",
        "   <rdkit.Chem.rdchem.Mol at 0x7f46f63aee68>,\n",
        "   <rdkit.Chem.rdchem.Mol at 0x7f46f63aeec0>,\n",
        "   <rdkit.Chem.rdchem.Mol at 0x7f46f63aef18>,\n",
        "   <rdkit.Chem.rdchem.Mol at 0x7f46f63aef70>,\n",
        "   <rdkit.Chem.rdchem.Mol at 0x7f46f63aefc8>,\n",
        "   <rdkit.Chem.rdchem.Mol at 0x7f46f651a050>,\n",
        "   <rdkit.Chem.rdchem.Mol at 0x7f46f651a0a8>,\n",
        "   <rdkit.Chem.rdchem.Mol at 0x7f46f651a100>,\n",
        "   <rdkit.Chem.rdchem.Mol at 0x7f46f651a158>]),\n",
        " (130,\n",
        "  Decimal('31179'),\n",
        "  'Bioorg. Med. Chem. Lett., 16, 2955, 2006',\n",
        "  MCSRes(smarts='[#6,#7]1:[#7,#6]:[#7,#6](-[#6]2:[#6]:[#6]:[#6]:[#6]:[#7,#6]:2):[#6]:[#6]:1-[#6]-[#7]1-[#6]-[#6]-,=[#7,#6](-[#6]-[#6]-1)-[#6]1:[#6,#7]:[#6]:[#6]:[#6]:[#6,#7]:1', numAtoms=24, numMols=17, avgNumMolAtoms=array([24, 16, 25, 24, 25, 26, 24, 26, 24, 24, 24, 26, 25, 25, 24, 24, 25]), mcsTime=0.03378891944885254),\n",
        "  [<rdkit.Chem.rdchem.Mol at 0x7f46f651a1b0>,\n",
        "   <rdkit.Chem.rdchem.Mol at 0x7f46f651a208>,\n",
        "   <rdkit.Chem.rdchem.Mol at 0x7f46f651a260>,\n",
        "   <rdkit.Chem.rdchem.Mol at 0x7f46f651a2b8>,\n",
        "   <rdkit.Chem.rdchem.Mol at 0x7f46f651a310>,\n",
        "   <rdkit.Chem.rdchem.Mol at 0x7f46f651a368>,\n",
        "   <rdkit.Chem.rdchem.Mol at 0x7f46f651a3c0>,\n",
        "   <rdkit.Chem.rdchem.Mol at 0x7f46f651a418>,\n",
        "   <rdkit.Chem.rdchem.Mol at 0x7f46f651a470>,\n",
        "   <rdkit.Chem.rdchem.Mol at 0x7f46f651a4c8>,\n",
        "   <rdkit.Chem.rdchem.Mol at 0x7f46f651a520>,\n",
        "   <rdkit.Chem.rdchem.Mol at 0x7f46f651a578>,\n",
        "   <rdkit.Chem.rdchem.Mol at 0x7f46f651a5d0>,\n",
        "   <rdkit.Chem.rdchem.Mol at 0x7f46f651a628>,\n",
        "   <rdkit.Chem.rdchem.Mol at 0x7f46f651a680>,\n",
        "   <rdkit.Chem.rdchem.Mol at 0x7f46f651a6d8>,\n",
        "   <rdkit.Chem.rdchem.Mol at 0x7f46f651a730>]),\n",
        " (130,\n",
        "  Decimal('56096'),\n",
        "  'J. Med. Chem., 54, 1555, 2011',\n",
        "  MCSRes(smarts='[#6]-[#8]-[#6]1:[#6]:[#6]:[#6]:[#6]:[#6]:1-[#7]1-[#6]-[#6]-[#7](-[#6]-[#6]-1)-[#6]-[#6]-,=[#6]-[#6]-[#7]-[#6](=[#8])-[#6]1:[#6]:[#6]:[#6](:[#6]:[#6]:1)-[#6,#7,#8]', numAtoms=28, numMols=23, avgNumMolAtoms=array([32, 39, 32, 34, 30, 32, 37, 32, 36, 34, 34, 31, 32, 36, 30, 34, 33,\n",
        "       33, 32, 30, 31, 32, 34]), mcsTime=6.046082973480225),\n",
        "  [<rdkit.Chem.rdchem.Mol at 0x7f46f651a788>,\n",
        "   <rdkit.Chem.rdchem.Mol at 0x7f46f651a7e0>,\n",
        "   <rdkit.Chem.rdchem.Mol at 0x7f46f651a838>,\n",
        "   <rdkit.Chem.rdchem.Mol at 0x7f46f651a890>,\n",
        "   <rdkit.Chem.rdchem.Mol at 0x7f46f651a8e8>,\n",
        "   <rdkit.Chem.rdchem.Mol at 0x7f46f651a940>,\n",
        "   <rdkit.Chem.rdchem.Mol at 0x7f46f651a998>,\n",
        "   <rdkit.Chem.rdchem.Mol at 0x7f46f651a9f0>,\n",
        "   <rdkit.Chem.rdchem.Mol at 0x7f46f651aa48>,\n",
        "   <rdkit.Chem.rdchem.Mol at 0x7f46f651aaa0>,\n",
        "   <rdkit.Chem.rdchem.Mol at 0x7f46f651aaf8>,\n",
        "   <rdkit.Chem.rdchem.Mol at 0x7f46f651ab50>,\n",
        "   <rdkit.Chem.rdchem.Mol at 0x7f46f651aba8>,\n",
        "   <rdkit.Chem.rdchem.Mol at 0x7f46f651ac00>,\n",
        "   <rdkit.Chem.rdchem.Mol at 0x7f46f651ac58>,\n",
        "   <rdkit.Chem.rdchem.Mol at 0x7f46f651acb0>,\n",
        "   <rdkit.Chem.rdchem.Mol at 0x7f46f651ad08>,\n",
        "   <rdkit.Chem.rdchem.Mol at 0x7f46f651ad60>,\n",
        "   <rdkit.Chem.rdchem.Mol at 0x7f46f651adb8>,\n",
        "   <rdkit.Chem.rdchem.Mol at 0x7f46f651ae10>,\n",
        "   <rdkit.Chem.rdchem.Mol at 0x7f46f651ae68>,\n",
        "   <rdkit.Chem.rdchem.Mol at 0x7f46f651aec0>,\n",
        "   <rdkit.Chem.rdchem.Mol at 0x7f46f651af18>]),\n",
        " (130,\n",
        "  Decimal('53158'),\n",
        "  'J. Med. Chem., 53, 7219, 2010',\n",
        "  MCSRes(smarts='[#8,#6,#7]=,-[#6]-[#6]-[#6]-[#6]-[#7]1-[#6]-[#6]-[#7,#6](-[#6]-[#6]-1)-[#6]1:[#6]:[#6]:[#6]:[#6]:[#6]:1', numAtoms=17, numMols=21, avgNumMolAtoms=array([45, 25, 29, 35, 27, 35, 44, 38, 30, 37, 26, 26, 28, 27, 34, 43, 26,\n",
        "       30, 34, 29, 27]), mcsTime=1.300628900527954),\n",
        "  [<rdkit.Chem.rdchem.Mol at 0x7f46f651af70>,\n",
        "   <rdkit.Chem.rdchem.Mol at 0x7f46f651afc8>,\n",
        "   <rdkit.Chem.rdchem.Mol at 0x7f46f6526050>,\n",
        "   <rdkit.Chem.rdchem.Mol at 0x7f46f65260a8>,\n",
        "   <rdkit.Chem.rdchem.Mol at 0x7f46f6526100>,\n",
        "   <rdkit.Chem.rdchem.Mol at 0x7f46f6526158>,\n",
        "   <rdkit.Chem.rdchem.Mol at 0x7f46f65261b0>,\n",
        "   <rdkit.Chem.rdchem.Mol at 0x7f46f6526208>,\n",
        "   <rdkit.Chem.rdchem.Mol at 0x7f46f6526260>,\n",
        "   <rdkit.Chem.rdchem.Mol at 0x7f46f65262b8>,\n",
        "   <rdkit.Chem.rdchem.Mol at 0x7f46f6526310>,\n",
        "   <rdkit.Chem.rdchem.Mol at 0x7f46f6526368>,\n",
        "   <rdkit.Chem.rdchem.Mol at 0x7f46f65263c0>,\n",
        "   <rdkit.Chem.rdchem.Mol at 0x7f46f6526418>,\n",
        "   <rdkit.Chem.rdchem.Mol at 0x7f46f6526470>,\n",
        "   <rdkit.Chem.rdchem.Mol at 0x7f46f65264c8>,\n",
        "   <rdkit.Chem.rdchem.Mol at 0x7f46f6526520>,\n",
        "   <rdkit.Chem.rdchem.Mol at 0x7f46f6526578>,\n",
        "   <rdkit.Chem.rdchem.Mol at 0x7f46f65265d0>,\n",
        "   <rdkit.Chem.rdchem.Mol at 0x7f46f6526628>,\n",
        "   <rdkit.Chem.rdchem.Mol at 0x7f46f6526680>]),\n",
        " (130,\n",
        "  Decimal('43952'),\n",
        "  'Bioorg. Med. Chem., 16, 7291, 2008',\n",
        "  MCSRes(smarts='[#6](-[#6]-[#6,#8])-[#6,#7]1:,-[#6]:,-[#6]:,-[#6,#7](:,-[#6]:,-[#6]:,-1)-[#9,#6]', numAtoms=10, numMols=11, avgNumMolAtoms=array([22, 23, 26, 26, 27, 30, 28, 24, 28, 26, 26]), mcsTime=0.02238297462463379),\n",
        "  [<rdkit.Chem.rdchem.Mol at 0x7f46f65266d8>,\n",
        "   <rdkit.Chem.rdchem.Mol at 0x7f46f6526730>,\n",
        "   <rdkit.Chem.rdchem.Mol at 0x7f46f6526788>,\n",
        "   <rdkit.Chem.rdchem.Mol at 0x7f46f65267e0>,\n",
        "   <rdkit.Chem.rdchem.Mol at 0x7f46f6526838>,\n",
        "   <rdkit.Chem.rdchem.Mol at 0x7f46f6526890>,\n",
        "   <rdkit.Chem.rdchem.Mol at 0x7f46f65268e8>,\n",
        "   <rdkit.Chem.rdchem.Mol at 0x7f46f2b1f208>,\n",
        "   <rdkit.Chem.rdchem.Mol at 0x7f46f6526940>,\n",
        "   <rdkit.Chem.rdchem.Mol at 0x7f46f6526998>,\n",
        "   <rdkit.Chem.rdchem.Mol at 0x7f46f65269f0>]),\n",
        " (130,\n",
        "  Decimal('57399'),\n",
        "  'Bioorg. Med. Chem. Lett., 21, 2670, 2011',\n",
        "  MCSRes(smarts='[#6]-[#8]-[#6]1:[#6]:[#6]:[#6]:[#6]:[#6]:1-[#7]1-[#6]-[#6]-[#7](-[#6]-[#6]-1)-[#6]-[#6]-[#6]-[#6]-[#7]', numAtoms=19, numMols=13, avgNumMolAtoms=array([31, 16, 31, 35, 35, 30, 35, 30, 34, 34, 35, 29, 32]), mcsTime=1.3423712253570557),\n",
        "  [<rdkit.Chem.rdchem.Mol at 0x7f46f6526a48>,\n",
        "   <rdkit.Chem.rdchem.Mol at 0x7f46f6526aa0>,\n",
        "   <rdkit.Chem.rdchem.Mol at 0x7f46f6526af8>,\n",
        "   <rdkit.Chem.rdchem.Mol at 0x7f46f6526b50>,\n",
        "   <rdkit.Chem.rdchem.Mol at 0x7f46f6526ba8>,\n",
        "   <rdkit.Chem.rdchem.Mol at 0x7f46f6526c00>,\n",
        "   <rdkit.Chem.rdchem.Mol at 0x7f46f6526c58>,\n",
        "   <rdkit.Chem.rdchem.Mol at 0x7f46f6526cb0>,\n",
        "   <rdkit.Chem.rdchem.Mol at 0x7f46f6526d08>,\n",
        "   <rdkit.Chem.rdchem.Mol at 0x7f46f6526d60>,\n",
        "   <rdkit.Chem.rdchem.Mol at 0x7f46f6526db8>,\n",
        "   <rdkit.Chem.rdchem.Mol at 0x7f46f6526e10>,\n",
        "   <rdkit.Chem.rdchem.Mol at 0x7f46f6526e68>]),\n",
        " (130,\n",
        "  Decimal('30653'),\n",
        "  'Bioorg. Med. Chem. Lett., 16, 658, 2006',\n",
        "  MCSRes(smarts='[#6,#9]-[#6](-[#6,#9])(-[#6,#9])-[#6]1:[#7,#6]:[#6](-[#7]2-[#6]-[#6]-[#7](-[#6]-[#6]-2)-[#6]-[#6]-,=[#6]-[#6]-[#7,#6]):[#6,#7]:[#6](:[#7]:1)-[#6](-[#9,#6])(-[#9,#6])-[#9,#6]', numAtoms=25, numMols=18, avgNumMolAtoms=array([34, 41, 36, 36, 36, 37, 36, 36, 35, 35, 38, 36, 36, 35, 35, 35, 33,\n",
        "       37]), mcsTime=60.12157678604126),\n",
        "  [<rdkit.Chem.rdchem.Mol at 0x7f46f6526ec0>,\n",
        "   <rdkit.Chem.rdchem.Mol at 0x7f46f6526f18>,\n",
        "   <rdkit.Chem.rdchem.Mol at 0x7f46f6526f70>,\n",
        "   <rdkit.Chem.rdchem.Mol at 0x7f46f6526fc8>,\n",
        "   <rdkit.Chem.rdchem.Mol at 0x7f46f2aa6050>,\n",
        "   <rdkit.Chem.rdchem.Mol at 0x7f46f2aa60a8>,\n",
        "   <rdkit.Chem.rdchem.Mol at 0x7f46f2aa6100>,\n",
        "   <rdkit.Chem.rdchem.Mol at 0x7f46f2aa6158>,\n",
        "   <rdkit.Chem.rdchem.Mol at 0x7f46f2aa61b0>,\n",
        "   <rdkit.Chem.rdchem.Mol at 0x7f46f2aa6208>,\n",
        "   <rdkit.Chem.rdchem.Mol at 0x7f46f2aa6260>,\n",
        "   <rdkit.Chem.rdchem.Mol at 0x7f46f2aa62b8>,\n",
        "   <rdkit.Chem.rdchem.Mol at 0x7f46f2aa6310>,\n",
        "   <rdkit.Chem.rdchem.Mol at 0x7f46f2aa6368>,\n",
        "   <rdkit.Chem.rdchem.Mol at 0x7f46f2aa63c0>,\n",
        "   <rdkit.Chem.rdchem.Mol at 0x7f46f2aa6418>,\n",
        "   <rdkit.Chem.rdchem.Mol at 0x7f46f2aa6470>,\n",
        "   <rdkit.Chem.rdchem.Mol at 0x7f46f2aa64c8>]),\n",
        " (130,\n",
        "  Decimal('45899'),\n",
        "  'Bioorg. Med. Chem., 17, 1716, 2009',\n",
        "  MCSRes(smarts='[#6,#8,#17]-[#7,#6]1-,:[#6]-,:[#6]-,:[#7,#6](-,:[#6]-,:[#6]-,:1)-[#6,#7,#9,#17]', numAtoms=8, numMols=14, avgNumMolAtoms=array([24, 26, 24, 24, 26, 22, 27, 26, 24, 23, 28, 26, 26, 25]), mcsTime=0.07328295707702637),\n",
        "  [<rdkit.Chem.rdchem.Mol at 0x7f46f2aa6520>,\n",
        "   <rdkit.Chem.rdchem.Mol at 0x7f46f2aa6578>,\n",
        "   <rdkit.Chem.rdchem.Mol at 0x7f46f2aa65d0>,\n",
        "   <rdkit.Chem.rdchem.Mol at 0x7f46f2aa6628>,\n",
        "   <rdkit.Chem.rdchem.Mol at 0x7f46f2aa6680>,\n",
        "   <rdkit.Chem.rdchem.Mol at 0x7f46f2aa66d8>,\n",
        "   <rdkit.Chem.rdchem.Mol at 0x7f46f2aa6730>,\n",
        "   <rdkit.Chem.rdchem.Mol at 0x7f46f2aa6788>,\n",
        "   <rdkit.Chem.rdchem.Mol at 0x7f46f2aa67e0>,\n",
        "   <rdkit.Chem.rdchem.Mol at 0x7f46f2aa6838>,\n",
        "   <rdkit.Chem.rdchem.Mol at 0x7f46f2aa6890>,\n",
        "   <rdkit.Chem.rdchem.Mol at 0x7f46f2aa68e8>,\n",
        "   <rdkit.Chem.rdchem.Mol at 0x7f46f2aa6940>,\n",
        "   <rdkit.Chem.rdchem.Mol at 0x7f46f2aa6998>]),\n",
        " (130,\n",
        "  Decimal('3525'),\n",
        "  'Bioorg. Med. Chem. Lett., 9, 585, 1999',\n",
        "  MCSRes(smarts='[#6]1:[#6](:[#6,#7]:[#6]:[#6]:[#7,#6])-,:[#6,#7]:[#7,#6]:[#6]:1-[#6]-[#7,#6]', numAtoms=11, numMols=11, avgNumMolAtoms=array([20, 20, 24, 25, 25, 23, 24, 24, 25, 24, 23]), mcsTime=0.13407516479492188),\n",
        "  [<rdkit.Chem.rdchem.Mol at 0x7f46f2aa69f0>,\n",
        "   <rdkit.Chem.rdchem.Mol at 0x7f46f2aa6a48>,\n",
        "   <rdkit.Chem.rdchem.Mol at 0x7f46f2aa6aa0>,\n",
        "   <rdkit.Chem.rdchem.Mol at 0x7f46f2aa6af8>,\n",
        "   <rdkit.Chem.rdchem.Mol at 0x7f46f2aa6b50>,\n",
        "   <rdkit.Chem.rdchem.Mol at 0x7f46f2aa6ba8>,\n",
        "   <rdkit.Chem.rdchem.Mol at 0x7f46f2aa6c00>,\n",
        "   <rdkit.Chem.rdchem.Mol at 0x7f46f2aa6c58>,\n",
        "   <rdkit.Chem.rdchem.Mol at 0x7f46f2aa6cb0>,\n",
        "   <rdkit.Chem.rdchem.Mol at 0x7f46f2aa6d08>,\n",
        "   <rdkit.Chem.rdchem.Mol at 0x7f46f2aa6d60>]),\n",
        " (130,\n",
        "  Decimal('57287'),\n",
        "  'J. Med. Chem., 54, 2477, 2011',\n",
        "  MCSRes(smarts='[#6]1-,:[#6]-,:[#6]-,:[#7,#6]2:[#6](-,:[#6]-,:1):,-[#6]:,-[#6,#7]:,-[#7,#6]:,-2', numAtoms=9, numMols=14, avgNumMolAtoms=array([16, 33, 24, 16, 35, 32, 32, 27, 21, 32, 32, 33, 16, 34]), mcsTime=0.011948823928833008),\n",
        "  [<rdkit.Chem.rdchem.Mol at 0x7f46f2aa6db8>,\n",
        "   <rdkit.Chem.rdchem.Mol at 0x7f46f2aa6e10>,\n",
        "   <rdkit.Chem.rdchem.Mol at 0x7f46f2aa6e68>,\n",
        "   <rdkit.Chem.rdchem.Mol at 0x7f46f2aa6ec0>,\n",
        "   <rdkit.Chem.rdchem.Mol at 0x7f46f2aa6f18>,\n",
        "   <rdkit.Chem.rdchem.Mol at 0x7f46f2aa6f70>,\n",
        "   <rdkit.Chem.rdchem.Mol at 0x7f46f2aa6fc8>,\n",
        "   <rdkit.Chem.rdchem.Mol at 0x7f46f2a8e050>,\n",
        "   <rdkit.Chem.rdchem.Mol at 0x7f46f2a8e0a8>,\n",
        "   <rdkit.Chem.rdchem.Mol at 0x7f46f2a8e100>,\n",
        "   <rdkit.Chem.rdchem.Mol at 0x7f46f2a8e158>,\n",
        "   <rdkit.Chem.rdchem.Mol at 0x7f46f2a8e1b0>,\n",
        "   <rdkit.Chem.rdchem.Mol at 0x7f46f2a8e208>,\n",
        "   <rdkit.Chem.rdchem.Mol at 0x7f46f2a8e260>]),\n",
        " (130,\n",
        "  Decimal('30539'),\n",
        "  'J. Med. Chem., 49, 358, 2006',\n",
        "  MCSRes(smarts='[#6]-[#7]1-[#6]-[#6]-[#7](-[#6]-[#6]-1)-[#6]-[#6]-[#6]-[#6]-[#7]-[#6](=,-[#8,#6])-,=[#6,#8]', numAtoms=15, numMols=23, avgNumMolAtoms=array([34, 32, 34, 32, 33, 33, 36, 36, 31, 35, 34, 32, 36, 35, 30, 33, 36,\n",
        "       33, 35, 32, 30, 31, 36]), mcsTime=0.5853109359741211),\n",
        "  [<rdkit.Chem.rdchem.Mol at 0x7f46f2a8e2b8>,\n",
        "   <rdkit.Chem.rdchem.Mol at 0x7f46f2a8e310>,\n",
        "   <rdkit.Chem.rdchem.Mol at 0x7f46f2a8e368>,\n",
        "   <rdkit.Chem.rdchem.Mol at 0x7f46f2a8e3c0>,\n",
        "   <rdkit.Chem.rdchem.Mol at 0x7f46f2a8e418>,\n",
        "   <rdkit.Chem.rdchem.Mol at 0x7f46f2a8e470>,\n",
        "   <rdkit.Chem.rdchem.Mol at 0x7f46f2a8e4c8>,\n",
        "   <rdkit.Chem.rdchem.Mol at 0x7f46f2a8e520>,\n",
        "   <rdkit.Chem.rdchem.Mol at 0x7f46f2a8e578>,\n",
        "   <rdkit.Chem.rdchem.Mol at 0x7f46f2a8e5d0>,\n",
        "   <rdkit.Chem.rdchem.Mol at 0x7f46f2a8e628>,\n",
        "   <rdkit.Chem.rdchem.Mol at 0x7f46f2a8e680>,\n",
        "   <rdkit.Chem.rdchem.Mol at 0x7f46f2a8e6d8>,\n",
        "   <rdkit.Chem.rdchem.Mol at 0x7f46f2a8e730>,\n",
        "   <rdkit.Chem.rdchem.Mol at 0x7f46f2a8e788>,\n",
        "   <rdkit.Chem.rdchem.Mol at 0x7f46f2a8e7e0>,\n",
        "   <rdkit.Chem.rdchem.Mol at 0x7f46f2a8e838>,\n",
        "   <rdkit.Chem.rdchem.Mol at 0x7f46f2a8e890>,\n",
        "   <rdkit.Chem.rdchem.Mol at 0x7f46f2a8e8e8>,\n",
        "   <rdkit.Chem.rdchem.Mol at 0x7f46f2a8e940>,\n",
        "   <rdkit.Chem.rdchem.Mol at 0x7f46f2a8e998>,\n",
        "   <rdkit.Chem.rdchem.Mol at 0x7f46f2a8e9f0>,\n",
        "   <rdkit.Chem.rdchem.Mol at 0x7f46f2a8ea48>]),\n",
        " (130,\n",
        "  Decimal('5330'),\n",
        "  'Bioorg. Med. Chem. Lett., 12, 619, 2002',\n",
        "  MCSRes(smarts='[#6,#7]#,-[#6]-[#6]-[#7](-[#6]-[#6]-[#7,#6])-[#6]1-[#6]-[#6]-[#6]2:[#6](-[#6]-1):[#6]:[#6](:[#6]:[#6]:2)-[#8]', numAtoms=18, numMols=10, avgNumMolAtoms=array([31, 31, 33, 29, 33, 31, 38, 40, 32, 29]), mcsTime=0.04134798049926758),\n",
        "  [<rdkit.Chem.rdchem.Mol at 0x7f46f2a8eaa0>,\n",
        "   <rdkit.Chem.rdchem.Mol at 0x7f46f2a8eaf8>,\n",
        "   <rdkit.Chem.rdchem.Mol at 0x7f46f2a8eb50>,\n",
        "   <rdkit.Chem.rdchem.Mol at 0x7f46f2a8eba8>,\n",
        "   <rdkit.Chem.rdchem.Mol at 0x7f46f2a8ec00>,\n",
        "   <rdkit.Chem.rdchem.Mol at 0x7f46f2a8ec58>,\n",
        "   <rdkit.Chem.rdchem.Mol at 0x7f46f2a8ecb0>,\n",
        "   <rdkit.Chem.rdchem.Mol at 0x7f46f2a8ed08>,\n",
        "   <rdkit.Chem.rdchem.Mol at 0x7f46f2a8ed60>,\n",
        "   <rdkit.Chem.rdchem.Mol at 0x7f46f2a8edb8>]),\n",
        " (130,\n",
        "  Decimal('51800'),\n",
        "  'Bioorg. Med. Chem., 18, 5291, 2010',\n",
        "  MCSRes(smarts='[#8,#6,#7]-[#6]1-[#6]-[#6]-[#7](-[#6]-[#6]-1)-[#6]-[#6]1:[#6]:[#6,#7,#8,#16]:[#6](:[#16,#6,#8]:1):[#6,#7]:[#6]:[#6]:[#6]', numAtoms=17, numMols=29, avgNumMolAtoms=array([26, 23, 24, 36, 25, 28, 26, 24, 28, 24, 26, 25, 24, 26, 26, 26, 24,\n",
        "       24, 26, 30, 26, 24, 24, 24, 28, 28, 28, 28, 26]), mcsTime=0.199599027633667),\n",
        "  [<rdkit.Chem.rdchem.Mol at 0x7f46f2a8ee10>,\n",
        "   <rdkit.Chem.rdchem.Mol at 0x7f46f2a8ee68>,\n",
        "   <rdkit.Chem.rdchem.Mol at 0x7f46f2a8eec0>,\n",
        "   <rdkit.Chem.rdchem.Mol at 0x7f46f2a8ef18>,\n",
        "   <rdkit.Chem.rdchem.Mol at 0x7f46f2a8ef70>,\n",
        "   <rdkit.Chem.rdchem.Mol at 0x7f46f2a8efc8>,\n",
        "   <rdkit.Chem.rdchem.Mol at 0x7f46f2a7f050>,\n",
        "   <rdkit.Chem.rdchem.Mol at 0x7f46f2a7f0a8>,\n",
        "   <rdkit.Chem.rdchem.Mol at 0x7f46f2a7f100>,\n",
        "   <rdkit.Chem.rdchem.Mol at 0x7f46f2a7f158>,\n",
        "   <rdkit.Chem.rdchem.Mol at 0x7f46f2a7f1b0>,\n",
        "   <rdkit.Chem.rdchem.Mol at 0x7f46f2a7f208>,\n",
        "   <rdkit.Chem.rdchem.Mol at 0x7f46f2a7f260>,\n",
        "   <rdkit.Chem.rdchem.Mol at 0x7f46f2a7f2b8>,\n",
        "   <rdkit.Chem.rdchem.Mol at 0x7f46f2a7f310>,\n",
        "   <rdkit.Chem.rdchem.Mol at 0x7f46f2a7f368>,\n",
        "   <rdkit.Chem.rdchem.Mol at 0x7f46f2a7f3c0>,\n",
        "   <rdkit.Chem.rdchem.Mol at 0x7f46f2a7f418>,\n",
        "   <rdkit.Chem.rdchem.Mol at 0x7f46f2a7f470>,\n",
        "   <rdkit.Chem.rdchem.Mol at 0x7f46f2a7f4c8>,\n",
        "   <rdkit.Chem.rdchem.Mol at 0x7f46f2a7f520>,\n",
        "   <rdkit.Chem.rdchem.Mol at 0x7f46f2a7f578>,\n",
        "   <rdkit.Chem.rdchem.Mol at 0x7f46f2a7f5d0>,\n",
        "   <rdkit.Chem.rdchem.Mol at 0x7f46f2a7f628>,\n",
        "   <rdkit.Chem.rdchem.Mol at 0x7f46f2a7f680>,\n",
        "   <rdkit.Chem.rdchem.Mol at 0x7f46f2a7f6d8>,\n",
        "   <rdkit.Chem.rdchem.Mol at 0x7f46f2a7f730>,\n",
        "   <rdkit.Chem.rdchem.Mol at 0x7f46f2a7f788>,\n",
        "   <rdkit.Chem.rdchem.Mol at 0x7f46f2a7f7e0>]),\n",
        " (130,\n",
        "  Decimal('60894'),\n",
        "  'Bioorg. Med. Chem., 20, 1291, 2012',\n",
        "  MCSRes(smarts='[#9]-[#6]1:[#6]:[#6]:[#6](:[#6]:[#6]:1)-[#8,#6,#16]-[#6]-[#6]-[#6]-[#7]1-[#6]-[#6]-[#7,#6](-[#6]-[#6]-1)-[#6]1:[#7,#6]:[#6]:[#6]:[#6]:[#7,#6]:1', numAtoms=23, numMols=22, avgNumMolAtoms=array([24, 25, 23, 26, 23, 25, 23, 23, 22, 23, 23, 25, 24, 25, 23, 24, 24,\n",
        "       25, 23, 24, 27, 24]), mcsTime=0.01458287239074707),\n",
        "  [<rdkit.Chem.rdchem.Mol at 0x7f46f2a7f838>,\n",
        "   <rdkit.Chem.rdchem.Mol at 0x7f46f2a7f890>,\n",
        "   <rdkit.Chem.rdchem.Mol at 0x7f46f2a7f8e8>,\n",
        "   <rdkit.Chem.rdchem.Mol at 0x7f46f2a7f940>,\n",
        "   <rdkit.Chem.rdchem.Mol at 0x7f46f2a7f998>,\n",
        "   <rdkit.Chem.rdchem.Mol at 0x7f46f2a7f9f0>,\n",
        "   <rdkit.Chem.rdchem.Mol at 0x7f46f2a7fa48>,\n",
        "   <rdkit.Chem.rdchem.Mol at 0x7f46f2a7faa0>,\n",
        "   <rdkit.Chem.rdchem.Mol at 0x7f46f2a7faf8>,\n",
        "   <rdkit.Chem.rdchem.Mol at 0x7f46f2a7fb50>,\n",
        "   <rdkit.Chem.rdchem.Mol at 0x7f46f2a7fba8>,\n",
        "   <rdkit.Chem.rdchem.Mol at 0x7f46f2a7fc00>,\n",
        "   <rdkit.Chem.rdchem.Mol at 0x7f46f2a7fc58>,\n",
        "   <rdkit.Chem.rdchem.Mol at 0x7f46f2a7fcb0>,\n",
        "   <rdkit.Chem.rdchem.Mol at 0x7f46f2a7fd08>,\n",
        "   <rdkit.Chem.rdchem.Mol at 0x7f46f2a7fd60>,\n",
        "   <rdkit.Chem.rdchem.Mol at 0x7f46f2a7fdb8>,\n",
        "   <rdkit.Chem.rdchem.Mol at 0x7f46f2a7fe10>,\n",
        "   <rdkit.Chem.rdchem.Mol at 0x7f46f2a7fe68>,\n",
        "   <rdkit.Chem.rdchem.Mol at 0x7f46f2a7fec0>,\n",
        "   <rdkit.Chem.rdchem.Mol at 0x7f46f2a7ff18>,\n",
        "   <rdkit.Chem.rdchem.Mol at 0x7f46f2a7ff70>]),\n",
        " (130,\n",
        "  Decimal('55648'),\n",
        "  'ACS Med. Chem. Lett., 2, 189, 2011',\n",
        "  MCSRes(smarts='[#6]-[#6]-[#7]1-[#6]-[#6]-[#6]2:[#6]3-[#6]-1-[#6]-[#6]1:[#6]:[#6]:[#6]:[#6](:[#6]:1-[#6]:3:[#6]:[#6]:[#6]:2)-[#8]', numAtoms=20, numMols=11, avgNumMolAtoms=array([25, 24, 22, 21, 20, 23, 23, 27, 23, 26, 26]), mcsTime=2.0234920978546143),\n",
        "  [<rdkit.Chem.rdchem.Mol at 0x7f46f2a7ffc8>,\n",
        "   <rdkit.Chem.rdchem.Mol at 0x7f46f2a82050>,\n",
        "   <rdkit.Chem.rdchem.Mol at 0x7f46f2a820a8>,\n",
        "   <rdkit.Chem.rdchem.Mol at 0x7f46f2a82100>,\n",
        "   <rdkit.Chem.rdchem.Mol at 0x7f46f2a82158>,\n",
        "   <rdkit.Chem.rdchem.Mol at 0x7f46f2a821b0>,\n",
        "   <rdkit.Chem.rdchem.Mol at 0x7f46f2a82208>,\n",
        "   <rdkit.Chem.rdchem.Mol at 0x7f46f2a82260>,\n",
        "   <rdkit.Chem.rdchem.Mol at 0x7f46f2a822b8>,\n",
        "   <rdkit.Chem.rdchem.Mol at 0x7f46f2a82310>,\n",
        "   <rdkit.Chem.rdchem.Mol at 0x7f46f2a82368>]),\n",
        " (130,\n",
        "  Decimal('58470'),\n",
        "  'Bioorg. Med. Chem., 19, 3502, 2011',\n",
        "  MCSRes(smarts='[#6]1:[#6]:[#6]:[#6]:[#6]:[#6]:1-[#7,#6]1-[#6]-[#6]-[#7](-[#6]-[#6]-1)-[#6]-[#6]-[#6]-[#8,#6]-[#6,#8]', numAtoms=17, numMols=16, avgNumMolAtoms=array([31, 33, 34, 31, 32, 30, 29, 30, 32, 30, 30, 30, 29, 32, 31, 32]), mcsTime=1.9844160079956055),\n",
        "  [<rdkit.Chem.rdchem.Mol at 0x7f46f2a823c0>,\n",
        "   <rdkit.Chem.rdchem.Mol at 0x7f46f2a82418>,\n",
        "   <rdkit.Chem.rdchem.Mol at 0x7f46f2a82470>,\n",
        "   <rdkit.Chem.rdchem.Mol at 0x7f46f2a824c8>,\n",
        "   <rdkit.Chem.rdchem.Mol at 0x7f46f2a82520>,\n",
        "   <rdkit.Chem.rdchem.Mol at 0x7f46f2a82578>,\n",
        "   <rdkit.Chem.rdchem.Mol at 0x7f46f2a825d0>,\n",
        "   <rdkit.Chem.rdchem.Mol at 0x7f46f2a82628>,\n",
        "   <rdkit.Chem.rdchem.Mol at 0x7f46f2a82680>,\n",
        "   <rdkit.Chem.rdchem.Mol at 0x7f46f2a826d8>,\n",
        "   <rdkit.Chem.rdchem.Mol at 0x7f46f2a82730>,\n",
        "   <rdkit.Chem.rdchem.Mol at 0x7f46f2a82788>,\n",
        "   <rdkit.Chem.rdchem.Mol at 0x7f46f2a827e0>,\n",
        "   <rdkit.Chem.rdchem.Mol at 0x7f46f2a82838>,\n",
        "   <rdkit.Chem.rdchem.Mol at 0x7f46f2a82890>,\n",
        "   <rdkit.Chem.rdchem.Mol at 0x7f46f2a828e8>]),\n",
        " (130,\n",
        "  Decimal('30313'),\n",
        "  'J. Med. Chem., 48, 7919, 2005',\n",
        "  MCSRes(smarts='[#8]=[#6](-[#7]-[#6]-[#6]-[#6]-[#6]-[#7]1-[#6]-[#6]-[#7](-[#6]-[#6]-1)-[#6]1:[#6]:[#6]:[#6]:[#6]:[#6]:1-[#17,#8])-[#6]1:,-[#6]:,-[#6]:,-[#6]:,-[#6]:,-[#6]:,-1', numAtoms=26, numMols=16, avgNumMolAtoms=array([33, 34, 31, 27, 33, 16, 33, 31, 33, 31, 34, 33, 33, 31, 26, 27]), mcsTime=0.1872410774230957),\n",
        "  [<rdkit.Chem.rdchem.Mol at 0x7f46f2a82940>,\n",
        "   <rdkit.Chem.rdchem.Mol at 0x7f46f2a82998>,\n",
        "   <rdkit.Chem.rdchem.Mol at 0x7f46f2a829f0>,\n",
        "   <rdkit.Chem.rdchem.Mol at 0x7f46f2a82a48>,\n",
        "   <rdkit.Chem.rdchem.Mol at 0x7f46f2a82aa0>,\n",
        "   <rdkit.Chem.rdchem.Mol at 0x7f46f2a82af8>,\n",
        "   <rdkit.Chem.rdchem.Mol at 0x7f46f2a82b50>,\n",
        "   <rdkit.Chem.rdchem.Mol at 0x7f46f2a82ba8>,\n",
        "   <rdkit.Chem.rdchem.Mol at 0x7f46f2a82c00>,\n",
        "   <rdkit.Chem.rdchem.Mol at 0x7f46f2a82c58>,\n",
        "   <rdkit.Chem.rdchem.Mol at 0x7f46f2a82cb0>,\n",
        "   <rdkit.Chem.rdchem.Mol at 0x7f46f2a82d08>,\n",
        "   <rdkit.Chem.rdchem.Mol at 0x7f46f2a82d60>,\n",
        "   <rdkit.Chem.rdchem.Mol at 0x7f46f2a82db8>,\n",
        "   <rdkit.Chem.rdchem.Mol at 0x7f46f2a82e10>,\n",
        "   <rdkit.Chem.rdchem.Mol at 0x7f46f2a82e68>]),\n",
        " (130,\n",
        "  Decimal('31339'),\n",
        "  'J. Med. Chem., 49, 3938, 2006',\n",
        "  MCSRes(smarts='[#6]1:[#6]:[#6]:[#6](:[#6]:[#6]:1)-[#7]1-[#6]-[#6]-[#7](-[#6]-[#6]-1)-[#6]-[#6]1:[#6,#7]:[#7,#6]2:[#6,#7]:[#6]:[#6]:[#6,#7]:[#6,#7]:2:[#7,#6]:1', numAtoms=22, numMols=23, avgNumMolAtoms=array([23, 29, 26, 24, 24, 24, 25, 31, 25, 25, 24, 30, 31, 23, 24, 23, 31,\n",
        "       23, 26, 30, 27, 25, 25]), mcsTime=0.175339937210083),\n",
        "  [<rdkit.Chem.rdchem.Mol at 0x7f46f2a82ec0>,\n",
        "   <rdkit.Chem.rdchem.Mol at 0x7f46f2a82f18>,\n",
        "   <rdkit.Chem.rdchem.Mol at 0x7f46f2a82f70>,\n",
        "   <rdkit.Chem.rdchem.Mol at 0x7f46f2a82fc8>,\n",
        "   <rdkit.Chem.rdchem.Mol at 0x7f46f2a9f050>,\n",
        "   <rdkit.Chem.rdchem.Mol at 0x7f46f2a9f0a8>,\n",
        "   <rdkit.Chem.rdchem.Mol at 0x7f46f2a9f100>,\n",
        "   <rdkit.Chem.rdchem.Mol at 0x7f46f2a9f158>,\n",
        "   <rdkit.Chem.rdchem.Mol at 0x7f46f2a9f1b0>,\n",
        "   <rdkit.Chem.rdchem.Mol at 0x7f46f2a9f208>,\n",
        "   <rdkit.Chem.rdchem.Mol at 0x7f46f2a9f260>,\n",
        "   <rdkit.Chem.rdchem.Mol at 0x7f46f2a9f2b8>,\n",
        "   <rdkit.Chem.rdchem.Mol at 0x7f46f2a9f310>,\n",
        "   <rdkit.Chem.rdchem.Mol at 0x7f46f2a9f368>,\n",
        "   <rdkit.Chem.rdchem.Mol at 0x7f46f2a9f3c0>,\n",
        "   <rdkit.Chem.rdchem.Mol at 0x7f46f2a9f418>,\n",
        "   <rdkit.Chem.rdchem.Mol at 0x7f46f2a9f470>,\n",
        "   <rdkit.Chem.rdchem.Mol at 0x7f46f2a9f4c8>,\n",
        "   <rdkit.Chem.rdchem.Mol at 0x7f46f2a9f520>,\n",
        "   <rdkit.Chem.rdchem.Mol at 0x7f46f2a9f578>,\n",
        "   <rdkit.Chem.rdchem.Mol at 0x7f46f2a9f5d0>,\n",
        "   <rdkit.Chem.rdchem.Mol at 0x7f46f2a9f628>,\n",
        "   <rdkit.Chem.rdchem.Mol at 0x7f46f2a9f680>]),\n",
        " (130,\n",
        "  Decimal('38128'),\n",
        "  'J. Med. Chem., 51, 101, 2008',\n",
        "  MCSRes(smarts='[#6]-[#6,#7]-[#6,#7]-[#7,#6]-[#6]-[#6]-[#7]1-[#6]-[#6]-[#7](-[#6]-[#6]-1)-[#6]1:[#6]:[#6]:[#6]:[#6]:[#6]:1', numAtoms=18, numMols=15, avgNumMolAtoms=array([29, 31, 29, 29, 31, 11, 31, 29, 30, 33, 30, 18, 32, 32, 31]), mcsTime=0.05108785629272461),\n",
        "  [<rdkit.Chem.rdchem.Mol at 0x7f46f2a9f6d8>,\n",
        "   <rdkit.Chem.rdchem.Mol at 0x7f46f2a9f730>,\n",
        "   <rdkit.Chem.rdchem.Mol at 0x7f46f2a9f788>,\n",
        "   <rdkit.Chem.rdchem.Mol at 0x7f46f2a9f7e0>,\n",
        "   <rdkit.Chem.rdchem.Mol at 0x7f46f2a9f838>,\n",
        "   <rdkit.Chem.rdchem.Mol at 0x7f46f2a9f890>,\n",
        "   <rdkit.Chem.rdchem.Mol at 0x7f46f2a9f8e8>,\n",
        "   <rdkit.Chem.rdchem.Mol at 0x7f46f2a9f940>,\n",
        "   <rdkit.Chem.rdchem.Mol at 0x7f46f2a9f998>,\n",
        "   <rdkit.Chem.rdchem.Mol at 0x7f46f2a9f9f0>,\n",
        "   <rdkit.Chem.rdchem.Mol at 0x7f46f2a9fa48>,\n",
        "   <rdkit.Chem.rdchem.Mol at 0x7f46f2a9faa0>,\n",
        "   <rdkit.Chem.rdchem.Mol at 0x7f46f2a9faf8>,\n",
        "   <rdkit.Chem.rdchem.Mol at 0x7f46f2a9fb50>,\n",
        "   <rdkit.Chem.rdchem.Mol at 0x7f46f2a9fba8>])]"
       ]
      }
     ],
     "prompt_number": 41
    },
    {
     "cell_type": "code",
     "collapsed": false,
     "input": [
      "tbl = []\n",
      "for row in alldata:\n",
      "    for r in row:\n",
      "        tid,docid,ref,tpl,_ = r\n",
      "        m = Chem.MolFromSmarts(tpl.smarts)\n",
      "        m.UpdatePropertyCache(False)\n",
      "        tbl.append((tid,tpl.numAtoms,tpl.avgNumMolAtoms.mean(),m,tpl.smarts,tpl.mcsTime))\n",
      "df = pd.DataFrame(data=tbl,columns=('tid','numAtoms','avgNumMolAtoms','mol','smarts','time'))\n",
      "PandasTools.RenderImagesInAllDataFrames(images=True)\n",
      "df.head(10)"
     ],
     "language": "python",
     "metadata": {},
     "outputs": [
      {
       "html": [
        "<div style=\"max-height:1000px;max-width:1500px;overflow:auto;\">\n",
        "<table border=\"1\" class=\"dataframe\">\n",
        "  <thead>\n",
        "    <tr style=\"text-align: right;\">\n",
        "      <th></th>\n",
        "      <th>tid</th>\n",
        "      <th>numAtoms</th>\n",
        "      <th>avgNumMolAtoms</th>\n",
        "      <th>mol</th>\n",
        "      <th>smarts</th>\n",
        "      <th>time</th>\n",
        "    </tr>\n",
        "  </thead>\n",
        "  <tbody>\n",
        "    <tr>\n",
        "      <th>0</th>\n",
        "      <td> 130</td>\n",
        "      <td> 20</td>\n",
        "      <td> 32.500000</td>\n",
        "      <td>                                                                                                                                                                                                                                                                                                                                                                                                                                                                                                                                                                                                                                                                                                                                                                                                                                                                                                                                                                                                                                                                                                                                                                                                                                                                                                                                                                                                                                                                                                                                                                                                                                                                                                                                                                                                                                                                                                                                                                                                                                                                                                                                                                                                                                                                                                                                                                                                                                                                                                                                                                                                                                                                                                                                                                                                                                                                                                                                                                                                                                                                                                                                                                                                                                                                                                                                                                                                                                                                                                                                                                                                                                                                                                                                                                                                                                                                                                                                                                                                                                                                                                                                                                                                                                                                                                                                                                                                                                                                                                                                                                                                                                                                                                                                                                                                                                                                                                                                                                                                                                                                                                                                                                                                                                                                                                                                                                                                                                                                                                                                                                                                                                                                                                                                                                                                                                                                                                                                                                                                                                                                                                                                                                                                                                                                                                                                                                                                                                                                                                                                                                                                                                                                                                                                                                                                                                                                                                                                                                                                                                                                                                                                                                                                                                                                                                                                                                                                                                                                                                                                                                                                                                                                                                                                                                                                                                                                                                                                                                                                                                                                                                                                                                                                                                                                                                                                                                                                                                                                                                                                                                                                                                                                                                                                                                                                                                                                                                                                                                                                                                                                                                                                                                                                                                                                                                                                                                                                                                                                                                                                                                                                                                                                                                                                                                                                                                                                                                                                                                                                                                                                                                                                                                                                                                                                                                                                                                                                                                                                                                                                                                                                                                                                                                                                                                                                                                                                                                                                                                                                                                                                                                                                                                                                                                                                                                                                                                                                                                                                                                                                                                                                                                                                                                                                                                                                                                                                                                                                                                                                                                                                                                                                                                                                                                                                                                                                                                                                                                 <img src=\"data:image/png;base64,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\" alt=\"Mol\"/></td>\n",
        "      <td>                                                      [#8,#6]=,-[#6]-[#7]-[#6]-[#6]-,=[#6]-[#6]-[#7]1-[#6]-[#6]-[#7](-[#6]-[#6]-1)-[#6]1:[#6]:[#6]:[#6]:[#6]:[#6]:1-[#17,#8]</td>\n",
        "      <td>  0.547347</td>\n",
        "    </tr>\n",
        "    <tr>\n",
        "      <th>1</th>\n",
        "      <td> 130</td>\n",
        "      <td> 25</td>\n",
        "      <td> 33.958333</td>\n",
        "      <td>                                                                                                                                                                                                                                                                                                                                                                                                                                                                                                                                                                                                                                                                                                                                                                                                                                                                                                                                                                                                                                                                                                                                                                                                                                                                                                                                                                                                                                                                                                                                                                                                                                                                                                                                                                                                                                                                                                                                                                                                                                                                                                                                                                                                                                                                                                                                                                                                                                                                                                                                                                                                                                                                                                                                                                                                                                                                                                                                                                                                                                                                                                                                                                                                                                                                                                                                                                                                                                                                                                                                                                                                                                                                                                                                                                                                                                                                                                                                                                                                                                                                                                                                                                                                                                                                                                                                                                                                                                                                                                                                                                                                                                                                                                                                                                                                                                                                                                                                                                                                                                                                                                                                                                                                                                                                                                                                                                                                                                                                                                                                                                                                                                                                                                                                                                                                                                                                                                                                                                                                                                                                                                                                                                                                                                                                                                                                                                                                                                                                                                                                                                                                                                                                                                                                                                                                                                                                                                                                                                                                                                                                                                                                                                                                                                                                                                                                                                                                                                                                                                                                                                                                                                                                                                                                                                                                                                                                                                                                                                                                                                                                                                                                                                                                                                                                                                                                                                                                                                                                                                                                                                                                                                                                                                                                                                                                                                                                                                                                                                                                                                                                                                                                                                                                                                                                                                                                                                                                                                                                                                                                                                                                                                                                                                                                                                                                                                                                                                                                                                                                                                                                                                                                                                                                                                                                                                                                                                                                                                                                                                                                                                         <img src=\"data:image/png;base64,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\" alt=\"Mol\"/></td>\n",
        "      <td> [#7,#6]-[#6]-[#6]-[#6]-[#6]-[#7]1-[#6]-[#6]-[#7](-[#6]-[#6]-1)-[#6]1:[#6,#7]:[#6](-[#6](-[#9,#6])(-[#9,#6])-[#9,#6]):[#7]:[#6](:[#7,#6]:1)-[#6](-[#6,#9])(-[#6,#9])-[#6,#9]</td>\n",
        "      <td> 46.497607</td>\n",
        "    </tr>\n",
        "    <tr>\n",
        "      <th>2</th>\n",
        "      <td> 130</td>\n",
        "      <td> 23</td>\n",
        "      <td> 27.125000</td>\n",
        "      <td>                                                                                                                                                                                                                                                                                                                                                                                                                                                                                                                                                                                                                                                                                                                                                                                                                                                                                                                                                                                                                                                                                                                                                                                                                                                                                                                                                                                                                                                                                                                                                                                                                                                                                                                                                                                                                                                                                                                                                                                                                                                                                                                                                                                                                                                                                                                                                                                                                                                                                                                                                                                                                                                                                                                                                                                                                                                                                                                                                                                                                                                                                                                                                                                                                                                                                                                                                                                                                                                                                                                                                                                                                                                                                                                                                                                                                                                                                                                                                                                                                                                                                                                                                                                                                                                                                                                                                                                                                                                                                                                                                                                                                                                                                                                                                                                                                                                                                                                                                                                                                                                                                                                                                                                                                                                                                                                                                                                                                                                                                                                                                                                                                                                                                                                                                                                                                                                                                                                                                                                                                                                                                                                                                                                                                                                                                                                                                                                                                                                                                                                                                                                                                                                                                                                                                                                                                                                                                                                                                                                                                                                                                                                                                                                                                                                                                                                                                                                                                                                                                                                                                                                                                                                                                                                                                                                                                                                                                                                                                                                                                                                                                                                                                                                                                                                                                                                                                                                                                                                                                                                                                                                                                                                                                                                                                                                                                                                                                                                                                                                                                                                                                                                                                                                                                                                                                                                                                                                                                                                                                                                                                                                                                                                                                                                                                                                                                                                                                                                                                                                                                                                                                                                                                                                                         <img src=\"data:image/png;base64,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\" alt=\"Mol\"/></td>\n",
        "      <td>                     [#6]1:[#7]:[#6]2:[#6,#7]:[#6,#7](-[#6,#7]):[#7,#6]:[#6,#7]:[#7,#6]:2:[#6]:1-[#6]-[#7]1-[#6]-[#6]-[#7](-[#6]-[#6]-1)-[#6]1:[#6]:[#6]:[#6]:[#6]:[#7,#6]:1</td>\n",
        "      <td>  0.132947</td>\n",
        "    </tr>\n",
        "    <tr>\n",
        "      <th>3</th>\n",
        "      <td> 130</td>\n",
        "      <td> 13</td>\n",
        "      <td> 31.857143</td>\n",
        "      <td>                                                                                                                                                                                                                                                                                                                                                                                                                                                                                                                                                                                                                                                                                                                                                                                                                                                                                                                                                                                                                                                                                                                                                                                                                                                                                                                                                                                                                                                                                                                                                                                                                                                                                                                                                                                                                                                                                                                                                                                                                                                                                                                                                                                                                                                                                                                                                                                                                                                                                                                                                                                                                                                                                                                                                                                                                                                                                                                                                                                                                                                                                                                                                                                                                                                                                                                                                                                                                                                                                                                                                                                                                                                                                                                                                                                                                                                                                                                                                                                                                                                                                                                                                                                                                                                                                                                                                                                                                                                                                                                                                                                                                                                                                                                                                                                                                                                                                                                                                                                                                                                                                                                                                                                                                                                                                                                                                                                                                                                                                                                                                                                                                                                                                                                                                                                                                                                                                                                                                                                                                                                                                                                                                                                                                                                                                                                                                                                                                                                                                                                                                                                                                                                                                                                                                                                                                                                                                                                                                                                                                                                                                                                                                                                                                                                                                                                                                                                                                                                                                                                                                                                                                                                                                                                                                                                                                                                                                                                                                                                                                                                                                                                                                                                                                                                                                                                                                                                                                                                                                                                                                                                                                                                                                                                                                                                                                                                                                                                                                                                                                                                                                                                                                                                                                                                                                                                                                                                                                                                                                                                                                                                                                                                                                                                                                                                                                                                                                                                                                                                                                                                                                                                                                                                                                                                                                                                                                                                                                                                                                                                                                                                                                                                                                                                                                                                                                                                                                                                                                                                                                                                                                                                                                                                                                                                                                                                                                                                                                                                                                                                                                                                                                                                                                                                                                                                                                                                                                                                                                                                                                                                                                                                                                                                                                                                                                                                                                                                                                                                                                                                                                                                                                                                                                                                                                                                                                                                                                                                                                                                                                                                                                                                                                                                                                                                                                                                                                                                                                                                                                                                                                                                         <img src=\"data:image/png;base64,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\" alt=\"Mol\"/></td>\n",
        "      <td>                                                                      [#6]1:,-[#6]:,-[#6]:,-[#6,#7](:,-[#6]:,-[#6]:,-1)-[#6]-[#7,#6]1-,:[#6]-,:[#6]-,:[#6]-,:[#6]-,:[#6]-,:1</td>\n",
        "      <td>  0.308909</td>\n",
        "    </tr>\n",
        "    <tr>\n",
        "      <th>4</th>\n",
        "      <td> 130</td>\n",
        "      <td> 17</td>\n",
        "      <td> 28.500000</td>\n",
        "      <td>                                                                                                                                                                                                                                                                                                                                                                                                                                                                                                                                                                                                                                                                                                                                                                                                                                                                                                                                                                                                                                                                                                                                                                                                                                                                                                                                                                                                                                                                                                                                                                                                                                                                                                                                                                                                                                                                                                                                                                                                                                                                                                                                                                                                                                                                                                                                                                                                                                                                                                                                                                                                                                                                                                                                                                                                                                                                                                                                                                                                                                                                                                                                                                                                                                                                                                                                                                                                                                                                                                                                                                                                                                                                                                                                                                                                                                                                                                                                                                                                                                                                                                                                                                                                                                                                                                                                                                                                                                                                                                                                                                                                                                                                                                                                                                                                                                                                                                                                                                                                                                                                                                                                                                                                                                                                                                                                                                                                                                                                                                                                                                                                                                                                                                                                                                                                                                                                                                                                                                                                                                                                                                                                                                                                                                                                                                                                                                                                                                                                                                                                                                                                                                                                                                                                                                                                                                                                                                                                                                                                                                                                                                                                                                                                                                                                                                                                                                                                                                                                                                                                                                                                                                                                                                                                                                                                                                                                                                                                                                                                                                                                                                                                                                                                                                                                                                                                                                                                                                                                                                                                                                                                                                                                                                                                                                                                                                                                                                                                                                                                                                                                                                                                                                                                                                                                                                                                                                                                                                                                                                                                                                                                                                                                                                                                                                                                                                                                                                                                                                                                                                                                                                                                                                                                                                                                                                                                                                                                                                                                                                                                                                                                                                                                                                                                                                                                                                                                                                                                                                                                                                                                                                                                                                                                                                                                                                                                                                                                                                                                                                                                                                                                                                                                                                                                                                                                                                                                                                                                                                                                                                                                                                                                                                         <img src=\"data:image/png;base64,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\" alt=\"Mol\"/></td>\n",
        "      <td>                                                                                [#7]-[#6]-[#6]-[#6]-[#6]-[#7]1-[#6]-[#6]-[#7](-[#6]-[#6]-1)-[#6]1:[#6]:[#6]:[#6]:[#6]:[#6]:1</td>\n",
        "      <td>  0.040523</td>\n",
        "    </tr>\n",
        "    <tr>\n",
        "      <th>5</th>\n",
        "      <td> 130</td>\n",
        "      <td> 25</td>\n",
        "      <td> 27.040000</td>\n",
        "      <td> <img src=\"data:image/png;base64,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\" alt=\"Mol\"/></td>\n",
        "      <td>                   [#8]-[#6]1(-[#6]2:[#6]:[#6]:[#6]:[#6]:[#6]:2)-[#6]-[#6]2-[#6]-[#6]-[#6](-[#6]-1)-[#7]-2-[#6]-[#6]1:[#6,#7]:[#8,#7,#16]:[#6]2:[#6]:1:[#6]:[#6]:[#6]:[#6]:2</td>\n",
        "      <td>  0.380835</td>\n",
        "    </tr>\n",
        "    <tr>\n",
        "      <th>6</th>\n",
        "      <td> 130</td>\n",
        "      <td> 11</td>\n",
        "      <td> 34.750000</td>\n",
        "      <td>                                                                                                                                                                                                                                                                                                                                                                                                                                                                                                                                                                                                                                                                                                                                                                                                                                                                                                                                                                                                                                                                                                                                                                                                                                                                                                                                                                                                                                                                                                                                                                                                                                                                                                                                                                                                                                                                                                                                                                                                                                                                                                                                                                                                                                                                                                                                                                                                                                                                                                                                                                                                                                                                                                                                                                                                                                                                                                                                                                                                                                                                                                                                                                                                                                                                                                                                                                                                                                                                                                                                                                                                                                                                                                                                                                                                                                                                                                                                                                                                                                                                                                                                                                                                                                                                                                                                                                                                                                                                                                                                                                                                                                                                                                                                                                                                                                                                                                                                                                                                                                                                                                                                                                                                                                                                                                                                                                                                                                                                                                                                                                                                                                                                                                                                                                                                                                                                                                                                                                                                                                                                                                                                                                                                                                                                                                                                                                                                                                                                                                                                                                                                                                                                                                                                                                                                                                                                                                                                                                                                                                                                                                                                                                                                                                                                                                                                                                                                                                                                                                                                                                                                                                                                                                                                                                                                                                                                                                                                                                                                                                                                                                                                                                                                                                                                                                                                                                                                                                                                                                                                                                                                                                                                                                                                                                                                                                                                                                                                                                                                                                                                                                                                                                                                                                                                                                                                                                                                                                                                                                                                                                                                                                                                                                                                                                                                                                                                                                                                                                                                                                                                                                                                                                                                                                                                                                                                                                                                                                                                                                                                                                                                                                                                                                                                                                                                                                                                                                                                                                                                                                                                                                                                                                                                                                                                                                                                                                                                                                                                                                                                                                                                                                                                                                                     <img src=\"data:image/png;base64,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\" alt=\"Mol\"/></td>\n",
        "      <td>                                                                                    [#6](-[#6,#7]=,-[#6]-[#6,#7]1:,-[#6]:,-[#6]:,-[#6,#7]:,-[#6]:,-[#6]:,-1)-[#7,#6]-[#6,#7]</td>\n",
        "      <td>  0.950043</td>\n",
        "    </tr>\n",
        "    <tr>\n",
        "      <th>7</th>\n",
        "      <td> 130</td>\n",
        "      <td> 24</td>\n",
        "      <td> 24.176471</td>\n",
        "      <td>                                                                                                                                                                                                                                                                                                                                                                                                                                                                                                                                                                                                                                                                                                                                                                                                                                                                                                                                                                                                                                                                                                                                                                                                                                                                                                                                                                                                                                                                                                                                                                                                                                                                                                                                                                                                                                                                                                                                                                                                                                                                                                                                                                                                                                                                                                                                                                                                                                                                                                                                                                                                                                                                                                                                                                                                                                                                                                                                                                                                                                                                                                                                                                                                                                                                                                                                                                                                                                                                                                                                                                                                                                                                                                                                                                                                                                                                                                                                                                                                                                                                                                                                                                                                                                                                                                                                                                                                                                                                                                                                                                                                                                                                                                                                                                                                                                                                                                                                                                                                                                                                                                                                                                                                                                                                                                                                                                                                                                                                                                                                                                                                                                                                                                                                                                                                                                                                                                                                                                                                                                                                                                                                                                                                                                                                                                                                                                                                                                                                                                                                                                                                                                                                                                                                                                                                                                                                                                                                                                                                                                                                                                                                                                                                                                                                                                                                                                                                                                                                                                                                                                                                                                                                                                                                                                                                                                                                                                                                                                                                                                                                                                                                                                                                                                                                                                                                                                                                                                                                                                                                                                                                                             <img src=\"data:image/png;base64,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\" alt=\"Mol\"/></td>\n",
        "      <td>              [#6,#7]1:[#7,#6]:[#7,#6](-[#6]2:[#6]:[#6]:[#6]:[#6]:[#7,#6]:2):[#6]:[#6]:1-[#6]-[#7]1-[#6]-[#6]-,=[#7,#6](-[#6]-[#6]-1)-[#6]1:[#6,#7]:[#6]:[#6]:[#6]:[#6,#7]:1</td>\n",
        "      <td>  0.033789</td>\n",
        "    </tr>\n",
        "    <tr>\n",
        "      <th>8</th>\n",
        "      <td> 130</td>\n",
        "      <td> 28</td>\n",
        "      <td> 33.043478</td>\n",
        "      <td>                                                                                                                                                                                                                                                                                                                                                                                                                                                                                                                                                                                                                                                                                                                                                                                                                                                                                                                                                                                                                                                                                                                                                                                                                                                                                                                                                                                                                                                                                                                                                                                                                                                                                                                                                                                                                                                                                                                                                                                                                                                                                                                                                                                                                                                                                                                                                                                                                                                                                                                                                                                                                                                                                                                                                                                                                                                                                                                                                                                                                                                                                                                                                                                                                                                                                                                                                                                                                                                                                                                                                                                                                                                                                                                                                                                                                                                                                                                                                                                                                                                                                                                                                                                                                                                                                                                                                                                                                                                                                                                                                                                                                                                                                                                                                                                                                                                                                                                                                                                                                                                                                                                                                                                                                                                                                                                                                                                                                                                                                                                                                                                                                                                                                                                                                                                                                                                                                                                                                                                                                                                                                                                                                                                                                                                                                                                                                                                                                                                                                                                                                                                                                                                                                                                                                                                                                                                                                                                                                                                                                                                                                                                                                                                                                                                                                                                                                                                                                                                                                                                                                                                                                                                                                                                                                                                                                                                                                                                                                                                                                                                                                                                                                                                                                                                                                                                                                                                                                                                                                                                                                                                                                                                                                                                                                                                                                                                                                                                                                                                                                                                                                                                                                                                                                                                                                                                                                                                                                                                                                                                                                                                                                                     <img src=\"data:image/png;base64,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\" alt=\"Mol\"/></td>\n",
        "      <td>          [#6]-[#8]-[#6]1:[#6]:[#6]:[#6]:[#6]:[#6]:1-[#7]1-[#6]-[#6]-[#7](-[#6]-[#6]-1)-[#6]-[#6]-,=[#6]-[#6]-[#7]-[#6](=[#8])-[#6]1:[#6]:[#6]:[#6](:[#6]:[#6]:1)-[#6,#7,#8]</td>\n",
        "      <td>  6.046083</td>\n",
        "    </tr>\n",
        "    <tr>\n",
        "      <th>9</th>\n",
        "      <td> 130</td>\n",
        "      <td> 17</td>\n",
        "      <td> 32.142857</td>\n",
        "      <td>                                                                                                                                                                                                                                                                                                                                                                                                                                                                                                                                                                                                                                                                                                                                                                                                                                                                                                                                                                                                                                                                                                                                                                                                                                                                                                                                                                                                                                                                                                                                                                                                                                                                                                                                                                                                                                                                                                                                                                                                                                                                                                                                                                                                                                                                                                                                                                                                                                                                                                                                                                                                                                                                                                                                                                                                                                                                                                                                                                                                                                                                                                                                                                                                                                                                                                                                                                                                                                                                                                                                                                                                                                                                                                                                                                                                                                                                                                                                                                                                                                                                                                                                                                                                                                                                                                                                                                                                                                                                                                                                                                                                                                                                                                                                                                                                                                                                                                                                                                                                                                                                                                                                                                                                                                                                                                                                                                                                                                                                                                                                                                                                                                                                                                                                                                                                                                                                                                                                                                                                                                                                                                                                                                                                                                                                                                                                                                                                                                                                                                                                                                                                                                                                                                                                                                                                                                                                                                                                                                                                                                                                                                                                                                                                                                                                                                                                                                                                                                                                                                                                                                                                                                                                                                                                                                                                                                                                                                                                                                                                                                                                                                                                                                                                                                                                                                                                                                                                                                                                                                                                                                                                                                                                                                                                                                                                                                                                                                                                                                                                                                                                                                                                                                                                                                                                                                                                                                                                                                                                                                                                                                                                                                                                                                                                                                                                                                                                                                                                                                                                                                                                                                                                                                                                                                                                                                                                                                                                                                                                                                                                                                                                                                                                                                                                                                                                                                                                                                                                                                                                                                                                                                                                                                                                                                                                                                                                                                                                                                                                                                                                                                                                                                                                                                                                                                                                                                                                                                                                                                                                                                                                                                                     <img src=\"data:image/png;base64,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\" alt=\"Mol\"/></td>\n",
        "      <td>                                                                     [#8,#6,#7]=,-[#6]-[#6]-[#6]-[#6]-[#7]1-[#6]-[#6]-[#7,#6](-[#6]-[#6]-1)-[#6]1:[#6]:[#6]:[#6]:[#6]:[#6]:1</td>\n",
        "      <td>  1.300629</td>\n",
        "    </tr>\n",
        "  </tbody>\n",
        "</table>\n",
        "</div>"
       ],
       "metadata": {},
       "output_type": "pyout",
       "prompt_number": 62,
       "text": [
        "   tid  numAtoms  avgNumMolAtoms                                                                                                                                                                                                                                                                                                                                                                                                                                                                                                                                                                                                                                                                                                                                                                                                                                                                                                                                                                                                                                                                                                                                                                                                                                                                                                                                                                                                                                                                                                                                                                                                                                                                                                                                                                                                                                                                                                                                                                                                                                                                                                                                                                                                                                                                                                                                                                                                                                                                                                                                                                                                                                                                                                                                                                                                                                                                                                                                                                                                                                                                                                                                                                                                                                                                                                                                                                                                                                                                                                                                                                                                                                                                                                                                                                                                                                                                                                                                                                                                                                                                                                                                                                                                                                                                                                                                                                                                                                                                                                                                                                                                                                                                                                                                                                                                                                                                                                                                                                                                                                                                                                                                                                                                                                                                                                                                                                                                                                                                                                                                                                                                                                                                                                                                                                                                                                                                                                                                                                                                                                                                                                                                                                                                                                                                                                                                                                                                                                                                                                                                                                                                                                                                                                                                                                                                                                                                                                                                                                                                                                                                                                                                                                                                                                                                                                                                                                                                                                                                                                                                                                                                                                                                                                                                                                                                                                                                                                                                                                                                                                                                                                                                                                                                                                                                                                                                                                                                                                                                                                                                                                                                                                                                                                                                                                                                                                                                                                                                                                                                                                                                                                                                                                                                                                                                                                                                                                                                                                                                                                                                                                                                                                                                                                                                                                                                                                                                                                                                                                                                                                                                                                                                                                                                                                                                                                                                                                                                                                                                                                                                                                                                                                                                                                                                                                                                                                                                                                                                                                                                                                                                                                                                                                                                                                                                                                                                                                                                                                                                                                                                                                                                                                                                                                                                                                                                                                                                                                                                                                                                                                                                                                                                                                                                                                                                                                                                                                                                                                                                                                                                                                                                                                                                                                                                                                                                                                                                                                                                                                                                                                                                                                                                                                                                                                                                                                                                                                                                                                                                                                                                                                                                                                                                                                                                                                                                                                                                                                                                                                                                                                                                                                                                                                                                                                                                                                                                                                                                                                                                                                                                                                                                                                                                                                                                                                                                                                                                                                                                                                                                                                                                                                                                                                                                                                                                                                                                                                                                                                                                                                                                                                                                                                                                                                                                                                                                                                                                                                                                                                                                                                                                                                                                                                                                                                                                                                                                                                                                                                                                                                                                                                                                                                                                                                                                                                                                                                                                                                                                                                                                                                                                                                                                                                                                                                                                                                                                                                                                                                                                                                                                                                                                                                                                                                                                                                                                                                                                                                                                                                                                                                                                                                                                                                                                                                                                                                                                                                                                                                                                                                                                                                                                                                                                                                                                                                                                                                                                                                                                                                                                                                                                                                                                                                                                                                                                                                                                                                                                                                                                                                                                                                                                                                                                                                                                                                                                                                                                                                                                                                                                                                                                                                                                                                                                                                                                                                                                                                                                                                                                                                                                                                                                                                                                                                                                                                                                                                                                                                                                                                                                                                                                                                                                                                                                                                                                                                                                                                                                                                                                                                                                                                                                                                                                                                                                                                                                                                mol                                                                                                                                                                       smarts       time\n",
        "0  130        20       32.500000                                                                                                                                                                                                                                                                                                                                                                                                                                                                                                                                                                                                                                                                                                                                                                                                                                                                                                                                                                                                                                                                                                                                                                                                                                                                                                                                                                                                                                                                                                                                                                                                                                                                                                                                                                                                                                                                                                                                                                                                                                                                                                                                                                                                                                                                                                                                                                                                                                                                                                                                                                                                                                                                                                                                                                                                                                                                                                                                                                                                                                                                                                                                                                                                                                                                                                                                                                                                                                                                                                                                                                                                                                                                                                                                                                                                                                                                                                                                                                                                                                                                                                                                                                                                                                                                                                                                                                                                                                                                                                                                                                                                                                                                                                                                                                                                                                                                                                                                                                                                                                                                                                                                                                                                                                                                                                                                                                                                                                                                                                                                                                                                                                                                                                                                                                                                                                                                                                                                                                                                                                                                                                                                                                                                                                                                                                                                                                                                                                                                                                                                                                                                                                                                                                                                                                                                                                                                                                                                                                                                                                                                                                                                                                                                                                                                                                                                                                                                                                                                                                                                                                                                                                                                                                                                                                                                                                                                                                                                                                                                                                                                                                                                                                                                                                                                                                                                                                                                                                                                                                                                                                                                                                                                                                                                                                                                                                                                                                                                                                                                                                                                                                                                                                                                                                                                                                                                                                                                                                                                                                                                                                                                                                                                                                                                                                                                                                                                                                                                                                                                                                                                                                                                                                                                                                                                                                                                                                                                                                                                                                                                                                                                                                                                                                                                                                                                                                                                                                                                                                                                                                                                                                                                                                                                                                                                                                                                                                                                                                                                                                                                                                                                                                                                                                                                                                                                                                                                                                                                                                                                                                                                                                                                                                                                                                                                                                                                                                                                                                  <img src=\"data:image/png;base64,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\" alt=\"Mol\"/>                                                       [#8,#6]=,-[#6]-[#7]-[#6]-[#6]-,=[#6]-[#6]-[#7]1-[#6]-[#6]-[#7](-[#6]-[#6]-1)-[#6]1:[#6]:[#6]:[#6]:[#6]:[#6]:1-[#17,#8]   0.547347\n",
        "1  130        25       33.958333                                                                                                                                                                                                                                                                                                                                                                                                                                                                                                                                                                                                                                                                                                                                                                                                                                                                                                                                                                                                                                                                                                                                                                                                                                                                                                                                                                                                                                                                                                                                                                                                                                                                                                                                                                                                                                                                                                                                                                                                                                                                                                                                                                                                                                                                                                                                                                                                                                                                                                                                                                                                                                                                                                                                                                                                                                                                                                                                                                                                                                                                                                                                                                                                                                                                                                                                                                                                                                                                                                                                                                                                                                                                                                                                                                                                                                                                                                                                                                                                                                                                                                                                                                                                                                                                                                                                                                                                                                                                                                                                                                                                                                                                                                                                                                                                                                                                                                                                                                                                                                                                                                                                                                                                                                                                                                                                                                                                                                                                                                                                                                                                                                                                                                                                                                                                                                                                                                                                                                                                                                                                                                                                                                                                                                                                                                                                                                                                                                                                                                                                                                                                                                                                                                                                                                                                                                                                                                                                                                                                                                                                                                                                                                                                                                                                                                                                                                                                                                                                                                                                                                                                                                                                                                                                                                                                                                                                                                                                                                                                                                                                                                                                                                                                                                                                                                                                                                                                                                                                                                                                                                                                                                                                                                                                                                                                                                                                                                                                                                                                                                                                                                                                                                                                                                                                                                                                                                                                                                                                                                                                                                                                                                                                                                                                                                                                                                                                                                                                                                                                                                                                                                                                                                                                                                                                                                                                                                                                                                                                                                                                                                          <img src=\"data:image/png;base64,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\" alt=\"Mol\"/>  [#7,#6]-[#6]-[#6]-[#6]-[#6]-[#7]1-[#6]-[#6]-[#7](-[#6]-[#6]-1)-[#6]1:[#6,#7]:[#6](-[#6](-[#9,#6])(-[#9,#6])-[#9,#6]):[#7]:[#6](:[#7,#6]:1)-[#6](-[#6,#9])(-[#6,#9])-[#6,#9]  46.497607\n",
        "2  130        23       27.125000                                                                                                                                                                                                                                                                                                                                                                                                                                                                                                                                                                                                                                                                                                                                                                                                                                                                                                                                                                                                                                                                                                                                                                                                                                                                                                                                                                                                                                                                                                                                                                                                                                                                                                                                                                                                                                                                                                                                                                                                                                                                                                                                                                                                                                                                                                                                                                                                                                                                                                                                                                                                                                                                                                                                                                                                                                                                                                                                                                                                                                                                                                                                                                                                                                                                                                                                                                                                                                                                                                                                                                                                                                                                                                                                                                                                                                                                                                                                                                                                                                                                                                                                                                                                                                                                                                                                                                                                                                                                                                                                                                                                                                                                                                                                                                                                                                                                                                                                                                                                                                                                                                                                                                                                                                                                                                                                                                                                                                                                                                                                                                                                                                                                                                                                                                                                                                                                                                                                                                                                                                                                                                                                                                                                                                                                                                                                                                                                                                                                                                                                                                                                                                                                                                                                                                                                                                                                                                                                                                                                                                                                                                                                                                                                                                                                                                                                                                                                                                                                                                                                                                                                                                                                                                                                                                                                                                                                                                                                                                                                                                                                                                                                                                                                                                                                                                                                                                                                                                                                                                                                                                                                                                                                                                                                                                                                                                                                                                                                                                                                                                                                                                                                                                                                                                                                                                                                                                                                                                                                                                                                                                                                                                                                                                                                                                                                                                                                                                                                                                                                                                                                                                                                                                                                          <img src=\"data:image/png;base64,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\" alt=\"Mol\"/>                      [#6]1:[#7]:[#6]2:[#6,#7]:[#6,#7](-[#6,#7]):[#7,#6]:[#6,#7]:[#7,#6]:2:[#6]:1-[#6]-[#7]1-[#6]-[#6]-[#7](-[#6]-[#6]-1)-[#6]1:[#6]:[#6]:[#6]:[#6]:[#7,#6]:1   0.132947\n",
        "3  130        13       31.857143                                                                                                                                                                                                                                                                                                                                                                                                                                                                                                                                                                                                                                                                                                                                                                                                                                                                                                                                                                                                                                                                                                                                                                                                                                                                                                                                                                                                                                                                                                                                                                                                                                                                                                                                                                                                                                                                                                                                                                                                                                                                                                                                                                                                                                                                                                                                                                                                                                                                                                                                                                                                                                                                                                                                                                                                                                                                                                                                                                                                                                                                                                                                                                                                                                                                                                                                                                                                                                                                                                                                                                                                                                                                                                                                                                                                                                                                                                                                                                                                                                                                                                                                                                                                                                                                                                                                                                                                                                                                                                                                                                                                                                                                                                                                                                                                                                                                                                                                                                                                                                                                                                                                                                                                                                                                                                                                                                                                                                                                                                                                                                                                                                                                                                                                                                                                                                                                                                                                                                                                                                                                                                                                                                                                                                                                                                                                                                                                                                                                                                                                                                                                                                                                                                                                                                                                                                                                                                                                                                                                                                                                                                                                                                                                                                                                                                                                                                                                                                                                                                                                                                                                                                                                                                                                                                                                                                                                                                                                                                                                                                                                                                                                                                                                                                                                                                                                                                                                                                                                                                                                                                                                                                                                                                                                                                                                                                                                                                                                                                                                                                                                                                                                                                                                                                                                                                                                                                                                                                                                                                                                                                                                                                                                                                                                                                                                                                                                                                                                                                                                                                                                                                                                                                                                                                                                                                                                                                                                                                                                                                                                                                                                                                                                                                                                                                                                                                                                                                                                                                                                                                                                                                                                                                                                                                                                                                                                                                                                                                                                                                                                                                                                                                                                                                                                                                                                                                                                                                                                                                                                                                                                                                                                                                                                                                                                                                                                                                                                                                                                                                                                                                                                                                                                                                                                                                                                                                                                                                                                                                                                                                                                                                                                                                                                                                                                                                                                                                                                                                                                                                                                                                                          <img src=\"data:image/png;base64,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\" alt=\"Mol\"/>                                                                       [#6]1:,-[#6]:,-[#6]:,-[#6,#7](:,-[#6]:,-[#6]:,-1)-[#6]-[#7,#6]1-,:[#6]-,:[#6]-,:[#6]-,:[#6]-,:[#6]-,:1   0.308909\n",
        "4  130        17       28.500000                                                                                                                                                                                                                                                                                                                                                                                                                                                                                                                                                                                                                                                                                                                                                                                                                                                                                                                                                                                                                                                                                                                                                                                                                                                                                                                                                                                                                                                                                                                                                                                                                                                                                                                                                                                                                                                                                                                                                                                                                                                                                                                                                                                                                                                                                                                                                                                                                                                                                                                                                                                                                                                                                                                                                                                                                                                                                                                                                                                                                                                                                                                                                                                                                                                                                                                                                                                                                                                                                                                                                                                                                                                                                                                                                                                                                                                                                                                                                                                                                                                                                                                                                                                                                                                                                                                                                                                                                                                                                                                                                                                                                                                                                                                                                                                                                                                                                                                                                                                                                                                                                                                                                                                                                                                                                                                                                                                                                                                                                                                                                                                                                                                                                                                                                                                                                                                                                                                                                                                                                                                                                                                                                                                                                                                                                                                                                                                                                                                                                                                                                                                                                                                                                                                                                                                                                                                                                                                                                                                                                                                                                                                                                                                                                                                                                                                                                                                                                                                                                                                                                                                                                                                                                                                                                                                                                                                                                                                                                                                                                                                                                                                                                                                                                                                                                                                                                                                                                                                                                                                                                                                                                                                                                                                                                                                                                                                                                                                                                                                                                                                                                                                                                                                                                                                                                                                                                                                                                                                                                                                                                                                                                                                                                                                                                                                                                                                                                                                                                                                                                                                                                                                                                                                                                                                                                                                                                                                                                                                                                                                                                                                                                                                                                                                                                                                                                                                                                                                                                                                                                                                                                                                                                                                                                                                                                                                                                                                                                                                                                                                                                                                                                                                                                                                                                                                                                                                                                                                                                                                                                                                                                                                                                                          <img src=\"data:image/png;base64,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\" alt=\"Mol\"/>                                                                                 [#7]-[#6]-[#6]-[#6]-[#6]-[#7]1-[#6]-[#6]-[#7](-[#6]-[#6]-1)-[#6]1:[#6]:[#6]:[#6]:[#6]:[#6]:1   0.040523\n",
        "5  130        25       27.040000  <img src=\"data:image/png;base64,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\" alt=\"Mol\"/>                    [#8]-[#6]1(-[#6]2:[#6]:[#6]:[#6]:[#6]:[#6]:2)-[#6]-[#6]2-[#6]-[#6]-[#6](-[#6]-1)-[#7]-2-[#6]-[#6]1:[#6,#7]:[#8,#7,#16]:[#6]2:[#6]:1:[#6]:[#6]:[#6]:[#6]:2   0.380835\n",
        "6  130        11       34.750000                                                                                                                                                                                                                                                                                                                                                                                                                                                                                                                                                                                                                                                                                                                                                                                                                                                                                                                                                                                                                                                                                                                                                                                                                                                                                                                                                                                                                                                                                                                                                                                                                                                                                                                                                                                                                                                                                                                                                                                                                                                                                                                                                                                                                                                                                                                                                                                                                                                                                                                                                                                                                                                                                                                                                                                                                                                                                                                                                                                                                                                                                                                                                                                                                                                                                                                                                                                                                                                                                                                                                                                                                                                                                                                                                                                                                                                                                                                                                                                                                                                                                                                                                                                                                                                                                                                                                                                                                                                                                                                                                                                                                                                                                                                                                                                                                                                                                                                                                                                                                                                                                                                                                                                                                                                                                                                                                                                                                                                                                                                                                                                                                                                                                                                                                                                                                                                                                                                                                                                                                                                                                                                                                                                                                                                                                                                                                                                                                                                                                                                                                                                                                                                                                                                                                                                                                                                                                                                                                                                                                                                                                                                                                                                                                                                                                                                                                                                                                                                                                                                                                                                                                                                                                                                                                                                                                                                                                                                                                                                                                                                                                                                                                                                                                                                                                                                                                                                                                                                                                                                                                                                                                                                                                                                                                                                                                                                                                                                                                                                                                                                                                                                                                                                                                                                                                                                                                                                                                                                                                                                                                                                                                                                                                                                                                                                                                                                                                                                                                                                                                                                                                                                                                                                                                                                                                                                                                                                                                                                                                                                                                                                                                                                                                                                                                                                                                                                                                                                                                                                                                                                                                                                                                                                                                                                                                                                                                                                                                                                                                                                                                                                                                                                                                                                      <img src=\"data:image/png;base64,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\" alt=\"Mol\"/>                                                                                     [#6](-[#6,#7]=,-[#6]-[#6,#7]1:,-[#6]:,-[#6]:,-[#6,#7]:,-[#6]:,-[#6]:,-1)-[#7,#6]-[#6,#7]   0.950043\n",
        "7  130        24       24.176471                                                                                                                                                                                                                                                                                                                                                                                                                                                                                                                                                                                                                                                                                                                                                                                                                                                                                                                                                                                                                                                                                                                                                                                                                                                                                                                                                                                                                                                                                                                                                                                                                                                                                                                                                                                                                                                                                                                                                                                                                                                                                                                                                                                                                                                                                                                                                                                                                                                                                                                                                                                                                                                                                                                                                                                                                                                                                                                                                                                                                                                                                                                                                                                                                                                                                                                                                                                                                                                                                                                                                                                                                                                                                                                                                                                                                                                                                                                                                                                                                                                                                                                                                                                                                                                                                                                                                                                                                                                                                                                                                                                                                                                                                                                                                                                                                                                                                                                                                                                                                                                                                                                                                                                                                                                                                                                                                                                                                                                                                                                                                                                                                                                                                                                                                                                                                                                                                                                                                                                                                                                                                                                                                                                                                                                                                                                                                                                                                                                                                                                                                                                                                                                                                                                                                                                                                                                                                                                                                                                                                                                                                                                                                                                                                                                                                                                                                                                                                                                                                                                                                                                                                                                                                                                                                                                                                                                                                                                                                                                                                                                                                                                                                                                                                                                                                                                                                                                                                                                                                                                                                                                                                              <img src=\"data:image/png;base64,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\" alt=\"Mol\"/>               [#6,#7]1:[#7,#6]:[#7,#6](-[#6]2:[#6]:[#6]:[#6]:[#6]:[#7,#6]:2):[#6]:[#6]:1-[#6]-[#7]1-[#6]-[#6]-,=[#7,#6](-[#6]-[#6]-1)-[#6]1:[#6,#7]:[#6]:[#6]:[#6]:[#6,#7]:1   0.033789\n",
        "8  130        28       33.043478                                                                                                                                                                                                                                                                                                                                                                                                                                                                                                                                                                                                                                                                                                                                                                                                                                                                                                                                                                                                                                                                                                                                                                                                                                                                                                                                                                                                                                                                                                                                                                                                                                                                                                                                                                                                                                                                                                                                                                                                                                                                                                                                                                                                                                                                                                                                                                                                                                                                                                                                                                                                                                                                                                                                                                                                                                                                                                                                                                                                                                                                                                                                                                                                                                                                                                                                                                                                                                                                                                                                                                                                                                                                                                                                                                                                                                                                                                                                                                                                                                                                                                                                                                                                                                                                                                                                                                                                                                                                                                                                                                                                                                                                                                                                                                                                                                                                                                                                                                                                                                                                                                                                                                                                                                                                                                                                                                                                                                                                                                                                                                                                                                                                                                                                                                                                                                                                                                                                                                                                                                                                                                                                                                                                                                                                                                                                                                                                                                                                                                                                                                                                                                                                                                                                                                                                                                                                                                                                                                                                                                                                                                                                                                                                                                                                                                                                                                                                                                                                                                                                                                                                                                                                                                                                                                                                                                                                                                                                                                                                                                                                                                                                                                                                                                                                                                                                                                                                                                                                                                                                                                                                                                                                                                                                                                                                                                                                                                                                                                                                                                                                                                                                                                                                                                                                                                                                                                                                                                                                                                                                                                                                                                      <img src=\"data:image/png;base64,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\" alt=\"Mol\"/>           [#6]-[#8]-[#6]1:[#6]:[#6]:[#6]:[#6]:[#6]:1-[#7]1-[#6]-[#6]-[#7](-[#6]-[#6]-1)-[#6]-[#6]-,=[#6]-[#6]-[#7]-[#6](=[#8])-[#6]1:[#6]:[#6]:[#6](:[#6]:[#6]:1)-[#6,#7,#8]   6.046083\n",
        "9  130        17       32.142857                                                                                                                                                                                                                                                                                                                                                                                                                                                                                                                                                                                                                                                                                                                                                                                                                                                                                                                                                                                                                                                                                                                                                                                                                                                                                                                                                                                                                                                                                                                                                                                                                                                                                                                                                                                                                                                                                                                                                                                                                                                                                                                                                                                                                                                                                                                                                                                                                                                                                                                                                                                                                                                                                                                                                                                                                                                                                                                                                                                                                                                                                                                                                                                                                                                                                                                                                                                                                                                                                                                                                                                                                                                                                                                                                                                                                                                                                                                                                                                                                                                                                                                                                                                                                                                                                                                                                                                                                                                                                                                                                                                                                                                                                                                                                                                                                                                                                                                                                                                                                                                                                                                                                                                                                                                                                                                                                                                                                                                                                                                                                                                                                                                                                                                                                                                                                                                                                                                                                                                                                                                                                                                                                                                                                                                                                                                                                                                                                                                                                                                                                                                                                                                                                                                                                                                                                                                                                                                                                                                                                                                                                                                                                                                                                                                                                                                                                                                                                                                                                                                                                                                                                                                                                                                                                                                                                                                                                                                                                                                                                                                                                                                                                                                                                                                                                                                                                                                                                                                                                                                                                                                                                                                                                                                                                                                                                                                                                                                                                                                                                                                                                                                                                                                                                                                                                                                                                                                                                                                                                                                                                                                                                                                                                                                                                                                                                                                                                                                                                                                                                                                                                                                                                                                                                                                                                                                                                                                                                                                                                                                                                                                                                                                                                                                                                                                                                                                                                                                                                                                                                                                                                                                                                                                                                                                                                                                                                                                                                                                                                                                                                                                                                                                                                                                                                                                                                                                                                                                                                                                                                                                                                                                      <img src=\"data:image/png;base64,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\" alt=\"Mol\"/>                                                                      [#8,#6,#7]=,-[#6]-[#6]-[#6]-[#6]-[#7]1-[#6]-[#6]-[#7,#6](-[#6]-[#6]-1)-[#6]1:[#6]:[#6]:[#6]:[#6]:[#6]:1   1.300629"
       ]
      }
     ],
     "prompt_number": 62
    },
    {
     "cell_type": "code",
     "collapsed": false,
     "input": [
      "len(df)"
     ],
     "language": "python",
     "metadata": {},
     "outputs": [
      {
       "metadata": {},
       "output_type": "pyout",
       "prompt_number": 63,
       "text": [
        "648"
       ]
      }
     ],
     "prompt_number": 63
    },
    {
     "cell_type": "code",
     "collapsed": false,
     "input": [
      "len(df[df.numAtoms>6])"
     ],
     "language": "python",
     "metadata": {},
     "outputs": [
      {
       "metadata": {},
       "output_type": "pyout",
       "prompt_number": 64,
       "text": [
        "640"
       ]
      }
     ],
     "prompt_number": 64
    },
    {
     "cell_type": "code",
     "collapsed": false,
     "input": [
      "df[df.numAtoms<=6]"
     ],
     "language": "python",
     "metadata": {},
     "outputs": [
      {
       "html": [
        "<div style=\"max-height:1000px;max-width:1500px;overflow:auto;\">\n",
        "<table border=\"1\" class=\"dataframe\">\n",
        "  <thead>\n",
        "    <tr style=\"text-align: right;\">\n",
        "      <th></th>\n",
        "      <th>tid</th>\n",
        "      <th>numAtoms</th>\n",
        "      <th>avgNumMolAtoms</th>\n",
        "      <th>mol</th>\n",
        "      <th>smarts</th>\n",
        "      <th>time</th>\n",
        "    </tr>\n",
        "  </thead>\n",
        "  <tbody>\n",
        "    <tr>\n",
        "      <th>98 </th>\n",
        "      <td>    15</td>\n",
        "      <td> 5</td>\n",
        "      <td> 11.400000</td>\n",
        "      <td>                                                                                                                                                                                                                                                                                                                                                                                                                                                                                                                                                                                                                                                                                                                                                                                                                                                                                                                                                                                                                                                                                                                                                                                                                                                                                                                                                                                                                                                                                                                                                                                                                                                                                                                                                                                                                                                                                                                                                                                                                                                                                                                                                                                                                                                                                                                                                                                                                                                                                                                                                                                                                                                                                                                                                                                                                                         <img src=\"data:image/png;base64,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\" alt=\"Mol\"/></td>\n",
        "      <td>                             [#6,#7,#8]-[#6,#7,#8]-[#6](-,=[#6,#8])-,=[#6,#8]</td>\n",
        "      <td> 0.003753</td>\n",
        "    </tr>\n",
        "    <tr>\n",
        "      <th>103</th>\n",
        "      <td>    15</td>\n",
        "      <td> 5</td>\n",
        "      <td> 23.608696</td>\n",
        "      <td>                                                                                                                                                                                                                                                                                                                                                                                                                                                                                                                                                                                                                                                                                                                                                                                                                                                                                                                                                                                                                                                                                                                                                                                                                                                                                                                                                                                                                                                                                                                                                                                                                                                                                                                                                                                                                                                                                                                                                                                                                                                                                                                                                                                                                                                                                                                                                 <img src=\"data:image/png;base64,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\" alt=\"Mol\"/></td>\n",
        "      <td>                             [#6,#7,#8]-,=[#6,#16](=,-[#8,#6])-[#7,#6]-,=[#6]</td>\n",
        "      <td> 0.013166</td>\n",
        "    </tr>\n",
        "    <tr>\n",
        "      <th>106</th>\n",
        "      <td>    15</td>\n",
        "      <td> 6</td>\n",
        "      <td> 21.000000</td>\n",
        "      <td> <img src=\"data:image/png;base64,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\" alt=\"Mol\"/></td>\n",
        "      <td>                                          [#6]1:[#6]:[#6]:[#6]:[#6,#7]:[#6]:1</td>\n",
        "      <td> 0.034291</td>\n",
        "    </tr>\n",
        "    <tr>\n",
        "      <th>109</th>\n",
        "      <td>    15</td>\n",
        "      <td> 6</td>\n",
        "      <td> 16.300000</td>\n",
        "      <td>                                                                                                                                                                                                                                     <img src=\"data:image/png;base64,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\" alt=\"Mol\"/></td>\n",
        "      <td> [#7,#6,#8,#16]-,=[#6]1:,-[#7,#16]:,-[#7,#6,#8,#16]:,-[#6,#7]:[#16,#6,#7]:,-1</td>\n",
        "      <td> 0.019944</td>\n",
        "    </tr>\n",
        "    <tr>\n",
        "      <th>358</th>\n",
        "      <td> 13001</td>\n",
        "      <td> 6</td>\n",
        "      <td> 33.538462</td>\n",
        "      <td> <img src=\"data:image/png;base64,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\" alt=\"Mol\"/></td>\n",
        "      <td>                                          [#6]1:[#6]:[#6]:[#6]:[#6]:[#6,#7]:1</td>\n",
        "      <td> 0.020772</td>\n",
        "    </tr>\n",
        "    <tr>\n",
        "      <th>390</th>\n",
        "      <td> 10193</td>\n",
        "      <td> 5</td>\n",
        "      <td> 11.400000</td>\n",
        "      <td>                                                                                                                                                                                                                                                                                                                                                                                                                                                                                                                                                                                                                                                                                                                                                                                                                                                                                                                                                                                                                                                                                                                                                                                                                                                                                                                                                                                                                                                                                                                                                                                                                                                                                                                                                                                                                                                                                                                                                                                                                                                                                                                                                                                                                                                                                                                                                                                                                                                                                                                                                                                                                                                                                                                                                                                                                                         <img src=\"data:image/png;base64,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\" alt=\"Mol\"/></td>\n",
        "      <td>                             [#6,#7,#8]-[#6,#7,#8]-[#6](-,=[#6,#8])-,=[#6,#8]</td>\n",
        "      <td> 0.003043</td>\n",
        "    </tr>\n",
        "    <tr>\n",
        "      <th>393</th>\n",
        "      <td> 10193</td>\n",
        "      <td> 6</td>\n",
        "      <td> 15.791667</td>\n",
        "      <td> <img src=\"data:image/png;base64,iVBORw0KGgoAAAANSUhEUgAAASwAAAEsCAYAAAB5fY51AAARmklEQVR4nO3da5DO9f/H8ZfYn6XNobDJoNNs1inC2soya1IkxmG4k8VMUSlZu5RTCWtKsR20cigiapJSWodSkdqtEGW069w6rBbrsHLO7ud/o6nfv///ukTtfr/e1/V8zLhhvp8br50xT9fhu9dVzjnnBAAGXOH3AAC4WAQLgBkEC4AZBAuAGQQLgBkEC4AZBAuAGQQLgBkEC4AZBAuAGQQLgBkEC4AZBAuAGQQLgBkEC4AZBAuAGQQLgBkEC4AZBAuAGQQLgBkEC4AZBAuAGQQLgBkEC4AZBAuAGQQLgBkEC4AZBAuAGQQLgBkEC4AZBAuAGQQLgBkEC4AZBAuAGQQLgBkEC4AZBAuAGQQLgBkEC4AZBAuAGQQLgBkEC4AZBAuAGQQLgBkEC4AZBAuAGQQLgBkEC4AZBAuAGQQLgBkEC4AZBAuAGQQLgBkEC4AZBAuAGQQLgBkEC4AZBAuAGQQLgBkEC4AZBAuAGQQLgBkEC4AZBAuAGQQLgBkEC4AZBAuAGQQLgBkEC4AZBAuAGQQLgBkEC4AZBAuAGQQLgBkEC4AZBAuAGQQLgBkEC4AZBAuAGQQLgBkEC4AZBAuAGQQLgBkEC4AZBAuAGQQLgBkEC4AZBAuAGQQLgBkEC4AZBAuAGQQLgBkEC4AZBAuAGQQLgBkEC4AZBAuAGQQLgBkEC4AZBAuAGQQLgBkEC4AZBAuAGQQLgBkEC4AZBAuAGQQLgBkEC4AZBAuAGQQLgBkEC4AZBAuAGQQLgBkEC4AZBAuAGRX8HoDLw4oVK5Senu73jIBSUlLUsWNHv2fgMkCwoA0bNqhLly4aNGiQoqOj/Z7zFwUFBerSpYvWrl2r5s2b+z0HPivnnHN+j4B/nHO644471KRJE82cOdPvOQENGDBAP/30k7KyslSuXDm/58BHvIYV5hYsWKAtW7YoLS3N7ylBTZw4UTk5OXr77bf9ngKfEawwduLECY0YMUJjxoxRrVq1/J4TVK1atTRmzBg9+eSTOnnypN9z4COCFcYmTZqkqKgoPf74435P+VuPP/64oqKiNGnSJL+nwEe8hhWm8vLyFBsbq0WLFqlz585+z7komZmZ6t27t3JycnT99df7PQc+IFhhqnfv3jpx4oSWLVsW8PrRo0eVm5v759+vvvpqNWjQoMyvFxQUqFKlSqpatWrAXZ06dVKVKlX07rvvXsJPi5DhEHZWrVrlIiIiXG5ubtAzmZmZLiIi4s8/3bt39+R6mzZtXHJyctBdOTk5LiIiwq1evfpSf2yEAB5hhZni4mK1aNFCiYmJevHFF4OeKV++vMfLfvfNN9+obdu22rBhg5o0aRLwTHJysr788kutX7/et53wBy+6h5k33nhD+fn5Gjt2bNAz3bp106xZszxc9V+33367evXqpeTk5KBnxo4dq3379mn27NneDcPlwe+HePDO0aNHXc2aNd20adOCnvnwww/dlVde6fbu3evhsr/6+eef3dSpU11JSUnQMxkZGa5WrVru6NGj3g2D73hKGEZSU1P1+eef6/vvvw/4VOrs2bNq2LChkpKS9Mwzz3g/8BIUFxfrtttuU4cOHTR58mS/58AjBCtMbN26VU2bNtWKFSuUmJgY8MyuXbs0YMAAffTRR4qKivJ44aVbtWqVOnbsqE2bNumWW27xew48QLDCxH333afIyEgtWrTI7ymXZOfOnapatapq1KgR8HrPnj117tw5ffzxxx4vgx8IVhhYvny5evTooZycHN1www1+z7kk7dq1U4MGDTRjxoyA13/++Wc1bNhQH3zwgTp16uTxOniNYIW43377TU2bNlWPHj00ceLEgGfOnDmjyMhIj5ddnI0bNyouLk5ZWVmKi4sLeGbUqFFavHixNm3apIiICI8Xwkvc1hDiMjIydPz4cY0cOTLomU6dOikjI8PDVRevefPm6tevn5KTkxXs/9ZRo0bp+PHjmjZtmsfr4Dmf3p2EBw4ePOiqVavm5s6dG/TMO++846pWreoOHDjg4bJLk5+f7+bPn3/B2xzefPNNV716dXfo0CEPl8FrPCUMYY888og2btyob775JuAH3508eVINGjTQ4MGD9cQTT/iwsPQ45xQfH68WLVrwSCuEEawQ9eOPP6ply5b66quvFB8fH/DM7t27lZqaqvnz51+2r2Fdim+//VYJCQlav369br31Vr/noAwQrBDknFPbtm11ww03aN68eX7PKVU//PCDatWqpeuuuy7g9aSkJOXn5+uLL77weBm8QLBC0Pvvv6/+/ftry5YtqlOnjt9zStVdd92l2rVr66233gp4PT8/Xw0aNNDcuXPVo0cPj9ehrBGsEHPmzBk1bNhQDzzwgEaPHh3wzLFjx1StWjVvh5WS3Nxc3Xrrrfrss8/Utm3bgGfS0tI0e/Zs5eTkhMRTXfwXtzWEmClTpkj6/fcGA3HOqWPHjkE/WuZyFxsbqwceeEBPPPFE0Nschg0bJufcZfs9i/gXfHhnEmVk9+7drnLlyu69994LeuaNN95wNWrUcEeOHPFwWek6ePCgW7p06QXPLFy40EVFRbn8/HyPVsELPCUMIX379tXevXu1atWqgNeLiooUExOjp556So899pjH67yXmJioevXqae7cuX5PQSkhWCHiu+++U5s2bS74lv6+ffs0btw4TZs2LSx+heWPWzu+/vprtW7d2u85KAUEKwSUlJQoLi5OLVu21PTp0/2e46k1a9aoXr16Qb9F56GHHtKmTZuUnZ3Nt0aHAIIVAubNm6chQ4Zo27Ztqlmzpt9zPNW5c2dVqlQp6MfmHDp0SDExMXrllVeUlJTk8TqUOv9ePkNpKCoqctHR0S49PT3omf3797vi4mIPV3ln586drmLFim758uVBz0yZMsXVqVPH/frrrx4uQ1ngtgbjnn/+edWoUUODBw8OeL24uFidOnUK2bf4b7zxRg0aNEgjRowIepvD4MGD+dboUOF3MfHPbd++3VWsWNEtW7Ys6JmpU6e62rVru+PHj3u4zFtHjx51WVlZFzyzdOlSFxkZ6Xbt2uXRKpQFHmEZlpGRofj4+KCftFlYWKinn35aEyZM0FVXXeXxOu9Uq1ZNrVu31vDhw3XgwIGAZ+69917FxcVp6tSpHq9DaSJYIez8+fN68MEH1b9/f7+nlLlp06ZpwYIFqly5st9TUJb8foiHf27fvn0uKirKLVq06ILnsrKy3LFjxzxa5b1Dhw656tWru9mzZwc9895777kqVaq4goICD5ehtPEIy7A6depoxIgRGj58uM6cORPwTElJiQYNGqTx48d7vM47c+bMUf369dW3b9+A10+dOqWUlBQ9+eSTio6O9ngdShP3YRl3MZ/OkJ2drXbt2mnDhg1q0qSJxwvLXklJiQ4ePKhrr7024PW0tDTNnTtXmzdvVsWKFT1eh9JEsELAokWL1K9fP+Xm5qpevXoBz/Ts2VNnz55VZmamx+v8tWfPHsXGxmrevHnq2bOn33PwLxGsEJGYmKi6desG/YTRvLw87dmzJ+hnSIWqpKQkHThwQJ9++qnfU1AKCFaICLdf9D137pwGDRqkcePGBf1U1a+//lrt27fXxo0b1ahRI48XoiwQrBDy8MMPa/369Vq7dq2uuCK030+ZNGmSpk+frpycHFWqVOn/Xf/jF8JbtWql1157zYeFKAuh/a86zEyYMEE7d+7U/PnzL3hu2bJlKiws9GhV6fvll180ceJEPffccwFjJUlvvfWW8vLygn7bNYzy634KlI309HQXHR3tioqKAl4vLi52cXFx7pFHHvF4WemZMmWKi4+PD/rFqn/8QviLL77o7TCUOZ4Shpjz58+rWbNm6tatm9LS0gKe2bBhg1q3bq3s7Gy1atXK44Wl40JfpDF69GgtWbJEGzduVIUKFbwdhjJFsELQ8uXL1b17d23evFk333xzwDNJSUkqKCjQypUrPV5XtrZv367GjRtr6dKluuuuu/yeg1JGsELU332w3f79+3Xo0KGQ+4bkcL3fLFwQrBC1Y8cONW7cWB9//LE6dOjg95x/7fTp0+rTp4/S09NVv379gGdWrlypLl26XPCRJWzjXcIQdfPNN+vRRx/V0KFDdf78eb/n/GuTJk3S5s2bVbt27YDXz58/r6FDh+qxxx4jViGMYIWwsWPH6vDhw3r99deDnnHOacGCBdq/f7+Hyy5NXl6enn/+eb3wwgv6z3/+E/DMrFmzdPjwYY0dO9bjdfASwQphVapU0TPPPKPRo0fr8OHDAc+UK1dO8+bN0/Dhwz1ed/EyMzMVHx+vrl27Brx++PBhjRkzRuPGjQvpDyoEr2GFvD/u+E5ISAj69fQ5OTlq1qyZPv/8cyUkJHi88OKcOXNGkZGRAa8lJycrKytL3333Xcjf4R/uCFYYyMrKUmJi4gV/p27gwIHatm2bVq9e7e24f2nz5s1q3ry5Vq9erTvvvNPvOShjBCtM9OrVS8eOHQt631VhYaGKiop00003ebzs3+nQoYOqV6+uhQsX+j0FHuDxc5hIT09Xdna2li5dGvB6jRo1LqtYnThxQu3bt9euXbuCnsnMzFR2dramTJni4TL4iWCFibp16yolJUXJyck6e/as33P+1vjx41VYWBj0nquzZ88qOTlZqampqlu3rsfr4BeCFUZGjhypc+fOKSMjI+iZkpISvfrqq8rLy/Nu2P+xbds2vfzyy3rppZdUvnz5gGdeffVV/fbbbxo5cqTH6+AnXsMKM/Pnz9ejjz6qrVu3Bv0M9K5du6p8+fJavHixx+t+N3PmTGVmZmrJkiUBrxcUFCgmJkavvfaa7r//fo/XwU8EK8w459S2bVs1bNhQM2bMCHhm586datSokZYsWaK7777b44W/Ky4uDvroauDAgcrNzdWaNWtUrlw5j5fBV95+mg0uB+vXr3cVKlRw69atC3pmyJAhLiEhwTnnXPfu3V1ERMSffzIzM/9ytqyv/2/r1q1zFSpUcN9///2l/tgIATzCClP9+/fXjh079NVXXwV8lFJUVKTTp0/r2muv1ZYtW3TkyJE/r8XGxqp69ep//r2sr//BOac2bdooJiZGc+bM+Qc/NawjWGHqwIEDiomJ0euvv65evXr5PeeiLFy4UAMGDNC2bdv4QtQwxbuEYSo6OlojRoxQamqqTp065fecv3Xq1CkNGzZMI0eOJFZhjGCFsdTUVEVGRpq48XLy5MmKjIxUSkqK31PgI54ShrkPPvhAffr00ZYtW4J+a7Tfdu/erdjYWC1YsEDdu3f3ew58RLCge+65RzVr1vzbrwfzy/3336/CwkJ98sknfk+Bz/hKEejZZ59V69atdc0111x2rw8VFBRo4cKFWrt2rd9TcBngERYkSStWrFB6errfMwJKSUlRx44d/Z6BywDBAmAG7xICMINgATCDYAEwg2ABMINgATCDYAEwg2ABMINgATCDYAEwg2ABMINgATCDYAEwg2ABMINgATCDYAEwg2ABMINgATCDYAEwg2ABMINgATCDYAEwg2ABMINgATCDYAEwg2ABMINgATCDYAEwg2ABMINgATCDYAEwg2ABMINgATCDYAEwg2ABMINgATCDYAEwg2ABMINgATCDYAEwg2ABMINgATCDYAEwg2ABMINgATCDYAEwg2ABMINgATCDYAEwg2ABMINgATCDYAEwg2ABMINgATCDYAEwg2ABMINgATCDYAEwg2ABMINgATCDYAEwg2ABMINgATCDYAEwg2ABMINgATCDYAEwg2ABMINgATCDYAEwg2ABMINgATCDYAEwg2ABMINgATCDYAEwg2ABMINgATCDYAEwg2ABMINgATCDYAEwg2ABMINgATCDYAEwg2ABMINgATCDYAEwg2ABMINgATCDYAEwg2ABMINgATCDYAEwg2ABMINgATCDYAEwg2ABMINgATCDYAEwg2ABMINgATCDYAEwg2ABMINgATCDYAEwg2ABMINgATCDYAEwg2ABMINgATCDYAEwg2ABMINgATCDYAEwg2ABMON/ALYLt83OUIcLAAAAAElFTkSuQmCC\" alt=\"Mol\"/></td>\n",
        "      <td>                        [#6]1:,-[#6,#7]:,-[#6,#8]:,-[#6]:,-[#6]:,-[#6,#7]:,-1</td>\n",
        "      <td> 0.009955</td>\n",
        "    </tr>\n",
        "    <tr>\n",
        "      <th>405</th>\n",
        "      <td> 10193</td>\n",
        "      <td> 5</td>\n",
        "      <td> 11.900000</td>\n",
        "      <td>                                                                                                                                                                                                                                                                                                                                                                                                                                                                                                                                                                                                                                                                                                                                                                                                                                                                                                                                                                                                                                                                                                                                                                                                                                                                                                                                                                                                                                                                                                                                                                                                                                                                                                                                                                                                                                                                                                                                                                                                                                                                                                                                                                                                                                     <img src=\"data:image/png;base64,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\" alt=\"Mol\"/></td>\n",
        "      <td>                                [#7,#6]-[#6](-[#6,#7]-,=[#6,#8])-,=[#6,#7,#8]</td>\n",
        "      <td> 0.001458</td>\n",
        "    </tr>\n",
        "  </tbody>\n",
        "</table>\n",
        "</div>"
       ],
       "metadata": {},
       "output_type": "pyout",
       "prompt_number": 65,
       "text": [
        "       tid  numAtoms  avgNumMolAtoms                                                                                                                                                                                                                                                                                                                                                                                                                                                                                                                                                                                                                                                                                                                                                                                                                                                                                                                                                                                                                                                                                                                                                                                                                                                                                                                                                                                                                                                                                                                                                                                                                                                                                                                                                                                                                                                                                                                                                                                                                                                                                                                                                                                                                                                                                                                                                                                                                                                                                                                                                                                                                                                                                                                                                                                                                                                                                                                                                                                                                                                                                                                                                                                                                                                                                                                                                                                                                                                                                                                                                                                                                                                                                                                                                                                                                                                                                                                                                                                                                                                                                                                                                                                                                                                                                                                                                                                                                                                                                                                                                                                                                                                                                                                                                                                                                                                                                                                                                                                                                                                                                                                                                                                                                                                                                                                                                                                                                                                                                                                                                                                                                                                                                                                                                                                                                                                                                                                                                                                                                                                                                                                                                                                                                                                                                                                                                                                mol                                                                        smarts      time\n",
        "98      15         5       11.400000                                                                                                                                                                                                                                                                                                                                                                                                                                                                                                                                                                                                                                                                                                                                                                                                                                                                                                                                                                                                                                                                                                                                                                                                                                                                                                                                                                                                                                                                                                                                                                                                                                                                                                                                                                                                                                                                                                                                                                                                                                                                                                                                                                                                                                                                                                                                                                                                                                                                                                                                                                                                                                                                                                                                                                                                                                          <img src=\"data:image/png;base64,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\" alt=\"Mol\"/>                              [#6,#7,#8]-[#6,#7,#8]-[#6](-,=[#6,#8])-,=[#6,#8]  0.003753\n",
        "103     15         5       23.608696                                                                                                                                                                                                                                                                                                                                                                                                                                                                                                                                                                                                                                                                                                                                                                                                                                                                                                                                                                                                                                                                                                                                                                                                                                                                                                                                                                                                                                                                                                                                                                                                                                                                                                                                                                                                                                                                                                                                                                                                                                                                                                                                                                                                                                                                                                                                                  <img src=\"data:image/png;base64,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\" alt=\"Mol\"/>                              [#6,#7,#8]-,=[#6,#16](=,-[#8,#6])-[#7,#6]-,=[#6]  0.013166\n",
        "106     15         6       21.000000  <img src=\"data:image/png;base64,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\" alt=\"Mol\"/>                                           [#6]1:[#6]:[#6]:[#6]:[#6,#7]:[#6]:1  0.034291\n",
        "109     15         6       16.300000                                                                                                                                                                                                                                      <img src=\"data:image/png;base64,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\" alt=\"Mol\"/>  [#7,#6,#8,#16]-,=[#6]1:,-[#7,#16]:,-[#7,#6,#8,#16]:,-[#6,#7]:[#16,#6,#7]:,-1  0.019944\n",
        "358  13001         6       33.538462  <img src=\"data:image/png;base64,iVBORw0KGgoAAAANSUhEUgAAASwAAAEsCAYAAAB5fY51AAARmklEQVR4nO3da5DO9f/H8ZfYn6XNobDJoNNs1inC2soya1IkxmG4k8VMUSlZu5RTCWtKsR20cigiapJSWodSkdqtEGW069w6rBbrsHLO7ud/o6nfv///ukTtfr/e1/V8zLhhvp8br50xT9fhu9dVzjnnBAAGXOH3AAC4WAQLgBkEC4AZBAuAGQQLgBkEC4AZBAuAGQQLgBkEC4AZBAuAGQQLgBkEC4AZBAuAGQQLgBkEC4AZBAuAGQQLgBkEC4AZBAuAGQQLgBkEC4AZBAuAGQQLgBkEC4AZBAuAGQQLgBkEC4AZBAuAGQQLgBkEC4AZBAuAGQQLgBkEC4AZBAuAGQQLgBkEC4AZBAuAGQQLgBkEC4AZBAuAGQQLgBkEC4AZBAuAGQQLgBkEC4AZBAuAGQQLgBkEC4AZBAuAGQQLgBkEC4AZBAuAGQQLgBkEC4AZBAuAGQQLgBkEC4AZBAuAGQQLgBkEC4AZBAuAGQQLgBkEC4AZBAuAGQQLgBkEC4AZBAuAGQQLgBkEC4AZBAuAGQQLgBkEC4AZBAuAGQQLgBkEC4AZBAuAGQQLgBkEC4AZBAuAGQQLgBkEC4AZBAuAGQQLgBkEC4AZBAuAGQQLgBkEC4AZBAuAGQQLgBkEC4AZBAuAGQQLgBkEC4AZBAuAGQQLgBkEC4AZBAuAGQQLgBkEC4AZBAuAGQQLgBkEC4AZBAuAGQQLgBkEC4AZBAuAGQQLgBkEC4AZBAuAGQQLgBkEC4AZBAuAGQQLgBkEC4AZBAuAGRX8HoDLw4oVK5Senu73jIBSUlLUsWNHv2fgMkCwoA0bNqhLly4aNGiQoqOj/Z7zFwUFBerSpYvWrl2r5s2b+z0HPivnnHN+j4B/nHO644471KRJE82cOdPvOQENGDBAP/30k7KyslSuXDm/58BHvIYV5hYsWKAtW7YoLS3N7ylBTZw4UTk5OXr77bf9ngKfEawwduLECY0YMUJjxoxRrVq1/J4TVK1atTRmzBg9+eSTOnnypN9z4COCFcYmTZqkqKgoPf74435P+VuPP/64oqKiNGnSJL+nwEe8hhWm8vLyFBsbq0WLFqlz585+z7komZmZ6t27t3JycnT99df7PQc+IFhhqnfv3jpx4oSWLVsW8PrRo0eVm5v759+vvvpqNWjQoMyvFxQUqFKlSqpatWrAXZ06dVKVKlX07rvvXsJPi5DhEHZWrVrlIiIiXG5ubtAzmZmZLiIi4s8/3bt39+R6mzZtXHJyctBdOTk5LiIiwq1evfpSf2yEAB5hhZni4mK1aNFCiYmJevHFF4OeKV++vMfLfvfNN9+obdu22rBhg5o0aRLwTHJysr788kutX7/et53wBy+6h5k33nhD+fn5Gjt2bNAz3bp106xZszxc9V+33367evXqpeTk5KBnxo4dq3379mn27NneDcPlwe+HePDO0aNHXc2aNd20adOCnvnwww/dlVde6fbu3evhsr/6+eef3dSpU11JSUnQMxkZGa5WrVru6NGj3g2D73hKGEZSU1P1+eef6/vvvw/4VOrs2bNq2LChkpKS9Mwzz3g/8BIUFxfrtttuU4cOHTR58mS/58AjBCtMbN26VU2bNtWKFSuUmJgY8MyuXbs0YMAAffTRR4qKivJ44aVbtWqVOnbsqE2bNumWW27xew48QLDCxH333afIyEgtWrTI7ymXZOfOnapatapq1KgR8HrPnj117tw5ffzxxx4vgx8IVhhYvny5evTooZycHN1www1+z7kk7dq1U4MGDTRjxoyA13/++Wc1bNhQH3zwgTp16uTxOniNYIW43377TU2bNlWPHj00ceLEgGfOnDmjyMhIj5ddnI0bNyouLk5ZWVmKi4sLeGbUqFFavHixNm3apIiICI8Xwkvc1hDiMjIydPz4cY0cOTLomU6dOikjI8PDVRevefPm6tevn5KTkxXs/9ZRo0bp+PHjmjZtmsfr4Dmf3p2EBw4ePOiqVavm5s6dG/TMO++846pWreoOHDjg4bJLk5+f7+bPn3/B2xzefPNNV716dXfo0CEPl8FrPCUMYY888og2btyob775JuAH3508eVINGjTQ4MGD9cQTT/iwsPQ45xQfH68WLVrwSCuEEawQ9eOPP6ply5b66quvFB8fH/DM7t27lZqaqvnz51+2r2Fdim+//VYJCQlav369br31Vr/noAwQrBDknFPbtm11ww03aN68eX7PKVU//PCDatWqpeuuuy7g9aSkJOXn5+uLL77weBm8QLBC0Pvvv6/+/ftry5YtqlOnjt9zStVdd92l2rVr66233gp4PT8/Xw0aNNDcuXPVo0cPj9ehrBGsEHPmzBk1bNhQDzzwgEaPHh3wzLFjx1StWjVvh5WS3Nxc3Xrrrfrss8/Utm3bgGfS0tI0e/Zs5eTkhMRTXfwXtzWEmClTpkj6/fcGA3HOqWPHjkE/WuZyFxsbqwceeEBPPPFE0Nschg0bJufcZfs9i/gXfHhnEmVk9+7drnLlyu69994LeuaNN95wNWrUcEeOHPFwWek6ePCgW7p06QXPLFy40EVFRbn8/HyPVsELPCUMIX379tXevXu1atWqgNeLiooUExOjp556So899pjH67yXmJioevXqae7cuX5PQSkhWCHiu+++U5s2bS74lv6+ffs0btw4TZs2LSx+heWPWzu+/vprtW7d2u85KAUEKwSUlJQoLi5OLVu21PTp0/2e46k1a9aoXr16Qb9F56GHHtKmTZuUnZ3Nt0aHAIIVAubNm6chQ4Zo27Ztqlmzpt9zPNW5c2dVqlQp6MfmHDp0SDExMXrllVeUlJTk8TqUOv9ePkNpKCoqctHR0S49PT3omf3797vi4mIPV3ln586drmLFim758uVBz0yZMsXVqVPH/frrrx4uQ1ngtgbjnn/+edWoUUODBw8OeL24uFidOnUK2bf4b7zxRg0aNEgjRowIepvD4MGD+dboUOF3MfHPbd++3VWsWNEtW7Ys6JmpU6e62rVru+PHj3u4zFtHjx51WVlZFzyzdOlSFxkZ6Xbt2uXRKpQFHmEZlpGRofj4+KCftFlYWKinn35aEyZM0FVXXeXxOu9Uq1ZNrVu31vDhw3XgwIGAZ+69917FxcVp6tSpHq9DaSJYIez8+fN68MEH1b9/f7+nlLlp06ZpwYIFqly5st9TUJb8foiHf27fvn0uKirKLVq06ILnsrKy3LFjxzxa5b1Dhw656tWru9mzZwc9895777kqVaq4goICD5ehtPEIy7A6depoxIgRGj58uM6cORPwTElJiQYNGqTx48d7vM47c+bMUf369dW3b9+A10+dOqWUlBQ9+eSTio6O9ngdShP3YRl3MZ/OkJ2drXbt2mnDhg1q0qSJxwvLXklJiQ4ePKhrr7024PW0tDTNnTtXmzdvVsWKFT1eh9JEsELAokWL1K9fP+Xm5qpevXoBz/Ts2VNnz55VZmamx+v8tWfPHsXGxmrevHnq2bOn33PwLxGsEJGYmKi6desG/YTRvLw87dmzJ+hnSIWqpKQkHThwQJ9++qnfU1AKCFaICLdf9D137pwGDRqkcePGBf1U1a+//lrt27fXxo0b1ahRI48XoiwQrBDy8MMPa/369Vq7dq2uuCK030+ZNGmSpk+frpycHFWqVOn/Xf/jF8JbtWql1157zYeFKAuh/a86zEyYMEE7d+7U/PnzL3hu2bJlKiws9GhV6fvll180ceJEPffccwFjJUlvvfWW8vLygn7bNYzy634KlI309HQXHR3tioqKAl4vLi52cXFx7pFHHvF4WemZMmWKi4+PD/rFqn/8QviLL77o7TCUOZ4Shpjz58+rWbNm6tatm9LS0gKe2bBhg1q3bq3s7Gy1atXK44Wl40JfpDF69GgtWbJEGzduVIUKFbwdhjJFsELQ8uXL1b17d23evFk333xzwDNJSUkqKCjQypUrPV5XtrZv367GjRtr6dKluuuuu/yeg1JGsELU332w3f79+3Xo0KGQ+4bkcL3fLFwQrBC1Y8cONW7cWB9//LE6dOjg95x/7fTp0+rTp4/S09NVv379gGdWrlypLl26XPCRJWzjXcIQdfPNN+vRRx/V0KFDdf78eb/n/GuTJk3S5s2bVbt27YDXz58/r6FDh+qxxx4jViGMYIWwsWPH6vDhw3r99deDnnHOacGCBdq/f7+Hyy5NXl6enn/+eb3wwgv6z3/+E/DMrFmzdPjwYY0dO9bjdfASwQphVapU0TPPPKPRo0fr8OHDAc+UK1dO8+bN0/Dhwz1ed/EyMzMVHx+vrl27Brx++PBhjRkzRuPGjQvpDyoEr2GFvD/u+E5ISAj69fQ5OTlq1qyZPv/8cyUkJHi88OKcOXNGkZGRAa8lJycrKytL3333Xcjf4R/uCFYYyMrKUmJi4gV/p27gwIHatm2bVq9e7e24f2nz5s1q3ry5Vq9erTvvvNPvOShjBCtM9OrVS8eOHQt631VhYaGKiop00003ebzs3+nQoYOqV6+uhQsX+j0FHuDxc5hIT09Xdna2li5dGvB6jRo1LqtYnThxQu3bt9euXbuCnsnMzFR2dramTJni4TL4iWCFibp16yolJUXJyck6e/as33P+1vjx41VYWBj0nquzZ88qOTlZqampqlu3rsfr4BeCFUZGjhypc+fOKSMjI+iZkpISvfrqq8rLy/Nu2P+xbds2vfzyy3rppZdUvnz5gGdeffVV/fbbbxo5cqTH6+AnXsMKM/Pnz9ejjz6qrVu3Bv0M9K5du6p8+fJavHixx+t+N3PmTGVmZmrJkiUBrxcUFCgmJkavvfaa7r//fo/XwU8EK8w459S2bVs1bNhQM2bMCHhm586datSokZYsWaK7777b44W/Ky4uDvroauDAgcrNzdWaNWtUrlw5j5fBV95+mg0uB+vXr3cVKlRw69atC3pmyJAhLiEhwTnnXPfu3V1ERMSffzIzM/9ytqyv/2/r1q1zFSpUcN9///2l/tgIATzCClP9+/fXjh079NVXXwV8lFJUVKTTp0/r2muv1ZYtW3TkyJE/r8XGxqp69ep//r2sr//BOac2bdooJiZGc+bM+Qc/NawjWGHqwIEDiomJ0euvv65evXr5PeeiLFy4UAMGDNC2bdv4QtQwxbuEYSo6OlojRoxQamqqTp065fecv3Xq1CkNGzZMI0eOJFZhjGCFsdTUVEVGRpq48XLy5MmKjIxUSkqK31PgI54ShrkPPvhAffr00ZYtW4J+a7Tfdu/erdjYWC1YsEDdu3f3ew58RLCge+65RzVr1vzbrwfzy/3336/CwkJ98sknfk+Bz/hKEejZZ59V69atdc0111x2rw8VFBRo4cKFWrt2rd9TcBngERYkSStWrFB6errfMwJKSUlRx44d/Z6BywDBAmAG7xICMINgATCDYAEwg2ABMINgATCDYAEwg2ABMINgATCDYAEwg2ABMINgATCDYAEwg2ABMINgATCDYAEwg2ABMINgATCDYAEwg2ABMINgATCDYAEwg2ABMINgATCDYAEwg2ABMINgATCDYAEwg2ABMINgATCDYAEwg2ABMINgATCDYAEwg2ABMINgATCDYAEwg2ABMINgATCDYAEwg2ABMINgATCDYAEwg2ABMINgATCDYAEwg2ABMINgATCDYAEwg2ABMINgATCDYAEwg2ABMINgATCDYAEwg2ABMINgATCDYAEwg2ABMINgATCDYAEwg2ABMINgATCDYAEwg2ABMINgATCDYAEwg2ABMINgATCDYAEwg2ABMINgATCDYAEwg2ABMINgATCDYAEwg2ABMINgATCDYAEwg2ABMINgATCDYAEwg2ABMINgATCDYAEwg2ABMINgATCDYAEwg2ABMINgATCDYAEwg2ABMINgATCDYAEwg2ABMINgATCDYAEwg2ABMINgATCDYAEwg2ABMINgATCDYAEwg2ABMINgATCDYAEwg2ABMINgATCDYAEwg2ABMINgATCDYAEwg2ABMINgATCDYAEwg2ABMON/ALYLt83OUIcLAAAAAElFTkSuQmCC\" alt=\"Mol\"/>                                           [#6]1:[#6]:[#6]:[#6]:[#6]:[#6,#7]:1  0.020772\n",
        "390  10193         5       11.400000                                                                                                                                                                                                                                                                                                                                                                                                                                                                                                                                                                                                                                                                                                                                                                                                                                                                                                                                                                                                                                                                                                                                                                                                                                                                                                                                                                                                                                                                                                                                                                                                                                                                                                                                                                                                                                                                                                                                                                                                                                                                                                                                                                                                                                                                                                                                                                                                                                                                                                                                                                                                                                                                                                                                                                                                                                          <img src=\"data:image/png;base64,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\" alt=\"Mol\"/>                              [#6,#7,#8]-[#6,#7,#8]-[#6](-,=[#6,#8])-,=[#6,#8]  0.003043\n",
        "393  10193         6       15.791667  <img src=\"data:image/png;base64,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\" alt=\"Mol\"/>                         [#6]1:,-[#6,#7]:,-[#6,#8]:,-[#6]:,-[#6]:,-[#6,#7]:,-1  0.009955\n",
        "405  10193         5       11.900000                                                                                                                                                                                                                                                                                                                                                                                                                                                                                                                                                                                                                                                                                                                                                                                                                                                                                                                                                                                                                                                                                                                                                                                                                                                                                                                                                                                                                                                                                                                                                                                                                                                                                                                                                                                                                                                                                                                                                                                                                                                                                                                                                                                                                                      <img src=\"data:image/png;base64,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\" alt=\"Mol\"/>                                 [#7,#6]-[#6](-[#6,#7]-,=[#6,#8])-,=[#6,#7,#8]  0.001458"
       ]
      }
     ],
     "prompt_number": 65
    },
    {
     "cell_type": "code",
     "collapsed": false,
     "input": [],
     "language": "python",
     "metadata": {},
     "outputs": []
    }
   ],
   "metadata": {}
  }
 ]
}