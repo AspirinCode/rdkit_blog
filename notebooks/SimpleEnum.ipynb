{
 "metadata": {
  "name": "",
  "signature": "sha256:a33c5842fe1ea6fbec49c0a074ceb332c0fd60b9b481cfd68a59d1e7ecf3eab6"
 },
 "nbformat": 3,
 "nbformat_minor": 0,
 "worksheets": [
  {
   "cells": [
    {
     "cell_type": "code",
     "collapsed": false,
     "input": [
      "%matplotlib"
     ],
     "language": "python",
     "metadata": {},
     "outputs": [
      {
       "output_type": "stream",
       "stream": "stdout",
       "text": [
        "Using matplotlib backend: MacOSX\n"
       ]
      }
     ],
     "prompt_number": 1
    },
    {
     "cell_type": "code",
     "collapsed": false,
     "input": [
      "from rdkit.Chem import AllChem\n",
      "from rdkit import Chem\n",
      "from rdkit.Chem.SimpleEnum import Enumerator\n",
      "from rdkit.Chem.Draw import IPythonConsole"
     ],
     "language": "python",
     "metadata": {},
     "outputs": [],
     "prompt_number": 4
    },
    {
     "cell_type": "code",
     "collapsed": false,
     "input": [
      "rxnd=\"\"\"$RXN\n",
      "\n",
      "  Marvin       041801141443\n",
      "\n",
      "  2  1\n",
      "$MOL\n",
      "\n",
      "  Mrv0541 04181414432D          \n",
      "\n",
      "  4  3  0  0  0  0            999 V2000\n",
      "   -8.7818   -1.9629    0.0000 O   0  0  0  0  0  0  0  0  0  4  0  0\n",
      "   -8.7772   -2.7879    0.0000 C   0  0  0  0  0  0  0  0  0  3  0  0\n",
      "   -9.4893   -3.2045    0.0000 R#  0  0  0  0  0  0  0  0  0  5  0  0\n",
      "   -8.0604   -3.1964    0.0000 O   0  0  0  0  0  0  0  0  0  0  0  0\n",
      "  2  1  2  0  0  0  0\n",
      "  3  2  1  0  0  0  0\n",
      "  2  4  1  0  0  0  0\n",
      "V    2 CarboxylicAcid\n",
      "M  RGP  1   3   2\n",
      "M  END\n",
      "$MOL\n",
      "\n",
      "  Mrv0541 04181414432D          \n",
      "\n",
      "  2  1  0  0  0  0            999 V2000\n",
      "   -5.5295   -2.8964    0.0000 R#  0  0  0  0  0  0  0  0  0  1  0  0\n",
      "   -4.8150   -2.4838    0.0000 N   0  0  0  0  0  0  0  0  0  2  0  0\n",
      "  1  2  1  0  0  0  0\n",
      "V    2 amine\n",
      "M  RGP  1   1   1\n",
      "M  END\n",
      "$MOL\n",
      "\n",
      "  Mrv0541 04181414432D          \n",
      "\n",
      "  5  4  0  0  0  0            999 V2000\n",
      "    5.0256   -2.0380    0.0000 R#  0  0  0  0  0  0  0  0  0  5  0  0\n",
      "    5.7377   -1.6214    0.0000 C   0  0  0  0  0  0  0  0  0  3  0  0\n",
      "    6.4546   -2.0298    0.0000 N   0  0  0  0  0  0  0  0  0  2  0  0\n",
      "    5.7331   -0.7964    0.0000 O   0  0  0  0  0  0  0  0  0  4  0  0\n",
      "    7.1667   -1.6133    0.0000 R#  0  0  0  0  0  0  0  0  0  1  0  0\n",
      "  1  2  1  0  0  0  0\n",
      "  2  3  1  0  0  0  0\n",
      "  2  4  2  0  0  0  0\n",
      "  3  5  1  0  0  0  0\n",
      "M  RGP  2   1   2   5   1\n",
      "M  END\n",
      "\"\"\"\n",
      "rxn = AllChem.ReactionFromRxnBlock(rxnd)"
     ],
     "language": "python",
     "metadata": {},
     "outputs": [],
     "prompt_number": 3
    },
    {
     "cell_type": "code",
     "collapsed": false,
     "input": [
      "rxn"
     ],
     "language": "python",
     "metadata": {},
     "outputs": [
      {
       "metadata": {},
       "output_type": "pyout",
       "png": "[encoded data removed]",
       "prompt_number": 5,
       "text": [
        "<rdkit.Chem.rdChemReactions.ChemicalReaction at 0x1098a7c90>"
       ]
      }
     ],
     "prompt_number": 5
    },
    {
     "cell_type": "code",
     "collapsed": false,
     "input": [
      "ps = rxn.RunReactants((Chem.MolFromSmiles('C1CC1C(=O)O'),Chem.MolFromSmiles('CC(=O)NCCN')))"
     ],
     "language": "python",
     "metadata": {},
     "outputs": [],
     "prompt_number": 7
    },
    {
     "cell_type": "code",
     "collapsed": false,
     "input": [
      "len(ps)"
     ],
     "language": "python",
     "metadata": {},
     "outputs": [
      {
       "metadata": {},
       "output_type": "pyout",
       "prompt_number": 8,
       "text": [
        "3"
       ]
      }
     ],
     "prompt_number": 8
    },
    {
     "cell_type": "code",
     "collapsed": false,
     "input": [
      "ps[0][0]"
     ],
     "language": "python",
     "metadata": {},
     "outputs": [
      {
       "metadata": {},
       "output_type": "pyout",
       "png": "[encoded data removed]",
       "prompt_number": 9,
       "text": [
        "<rdkit.Chem.rdchem.Mol at 0x1099d49b0>"
       ]
      }
     ],
     "prompt_number": 9
    },
    {
     "cell_type": "code",
     "collapsed": false,
     "input": [
      "ps[2][0]"
     ],
     "language": "python",
     "metadata": {},
     "outputs": [
      {
       "metadata": {},
       "output_type": "pyout",
       "png": "[encoded data removed]",
       "prompt_number": 12,
       "text": [
        "<rdkit.Chem.rdchem.Mol at 0x1099d4aa0>"
       ]
      }
     ],
     "prompt_number": 12
    },
    {
     "cell_type": "code",
     "collapsed": false,
     "input": [
      "Enumerator.PreprocessReaction(rxn)"
     ],
     "language": "python",
     "metadata": {},
     "outputs": [
      {
       "metadata": {},
       "output_type": "pyout",
       "prompt_number": 13,
       "text": [
        "(0, 0, 2, 1, (((1, 'carboxylicacid'),), ((1, 'amine'),)))"
       ]
      }
     ],
     "prompt_number": 13
    },
    {
     "cell_type": "code",
     "collapsed": false,
     "input": [
      "ps = rxn.RunReactants((Chem.MolFromSmiles('C1CC1C(=O)O'),Chem.MolFromSmiles('CC(=O)NCCN')))"
     ],
     "language": "python",
     "metadata": {},
     "outputs": [],
     "prompt_number": 14
    },
    {
     "cell_type": "code",
     "collapsed": false,
     "input": [
      "len(ps)"
     ],
     "language": "python",
     "metadata": {},
     "outputs": [
      {
       "metadata": {},
       "output_type": "pyout",
       "prompt_number": 15,
       "text": [
        "1"
       ]
      }
     ],
     "prompt_number": 15
    },
    {
     "cell_type": "code",
     "collapsed": false,
     "input": [
      "ps[0][0]"
     ],
     "language": "python",
     "metadata": {},
     "outputs": [
      {
       "metadata": {},
       "output_type": "pyout",
       "png": "[encoded data removed]",
       "prompt_number": 16,
       "text": [
        "<rdkit.Chem.rdchem.Mol at 0x109853a28>"
       ]
      }
     ],
     "prompt_number": 16
    },
    {
     "cell_type": "code",
     "collapsed": false,
     "input": [],
     "language": "python",
     "metadata": {},
     "outputs": []
    }
   ],
   "metadata": {}
  }
 ]
}